{
 "cells": [
  {
   "cell_type": "markdown",
   "id": "73cb9f93",
   "metadata": {},
   "source": [
    "# Dictionary"
   ]
  },
  {
   "cell_type": "code",
   "execution_count": null,
   "id": "44be20b1",
   "metadata": {},
   "outputs": [],
   "source": [
    "'''\n",
    "WAP to take the input of number of items purchased but the customer.\n",
    "then take the input of quantity and cost of the product and store them in two different list. after the list is completed \n",
    "then find the individual price of the product and store it into a new list then find the sum of the total price.\n",
    "\n",
    "Eg: Number of  Product: 4\n",
    "\n",
    "quantity= [3, 5, 7, 4]\n",
    "cost = [100, 50, 25, 45]\n",
    "\n",
    "price = [300, 250, 175, 180]\n",
    "\n",
    "total=sum(price)\n",
    "\n",
    "\n",
    "\n",
    "\n",
    "'''"
   ]
  },
  {
   "cell_type": "code",
   "execution_count": null,
   "id": "baabc249",
   "metadata": {},
   "outputs": [],
   "source": [
    "num=int(input('Enter the number of items: '))\n",
    "\n",
    "quantity=[]\n",
    "cost=[]\n",
    "price=[]\n",
    "for i in range(num):\n",
    "    q=int(input('enter the quantity: '))\n",
    "    c=float(input('enter the cost: '))\n",
    "    p=q*c\n",
    "    quantity.append(q)\n",
    "    cost.append(c)\n",
    "    price.append(p)\n",
    "    \n",
    "# price=[]\n",
    "# for i in range(len(quantity)):\n",
    "#     p=quantity[i]*cost[i]\n",
    "#     price.append(p)\n",
    "    \n",
    "    \n",
    "print('Price list: ', price)    \n",
    "print('Total Bill Amount: ', sum(price))"
   ]
  },
  {
   "cell_type": "code",
   "execution_count": null,
   "id": "c66e9bbd",
   "metadata": {},
   "outputs": [],
   "source": []
  },
  {
   "cell_type": "code",
   "execution_count": null,
   "id": "7d8acbcb",
   "metadata": {},
   "outputs": [],
   "source": []
  },
  {
   "cell_type": "code",
   "execution_count": null,
   "id": "bfb58773",
   "metadata": {},
   "outputs": [],
   "source": []
  },
  {
   "cell_type": "code",
   "execution_count": null,
   "id": "c90c546f",
   "metadata": {},
   "outputs": [],
   "source": []
  },
  {
   "cell_type": "code",
   "execution_count": null,
   "id": "d1f2c4f3",
   "metadata": {},
   "outputs": [],
   "source": []
  },
  {
   "cell_type": "code",
   "execution_count": null,
   "id": "836195db",
   "metadata": {},
   "outputs": [],
   "source": []
  },
  {
   "cell_type": "code",
   "execution_count": null,
   "id": "51c70592",
   "metadata": {},
   "outputs": [],
   "source": []
  },
  {
   "cell_type": "code",
   "execution_count": null,
   "id": "2d8a3724",
   "metadata": {},
   "outputs": [],
   "source": []
  },
  {
   "cell_type": "code",
   "execution_count": null,
   "id": "671ed54f",
   "metadata": {},
   "outputs": [],
   "source": [
    "maths_list=[72,65,48,79,81]\n",
    "\n",
    "phy_list=[56,14,67,85,91]\n",
    "\n",
    "chem_list=[94,64,24,95,84]\n",
    "\n",
    "name_list=['Ram', 'Shayam', 'Hari','Ravi', 'Kiran']\n",
    "\n"
   ]
  },
  {
   "cell_type": "code",
   "execution_count": null,
   "id": "22da5218",
   "metadata": {},
   "outputs": [],
   "source": [
    "maths_list\n"
   ]
  },
  {
   "cell_type": "code",
   "execution_count": null,
   "id": "aba0ddc5",
   "metadata": {},
   "outputs": [],
   "source": [
    "name_list"
   ]
  },
  {
   "cell_type": "code",
   "execution_count": null,
   "id": "904e5d1e",
   "metadata": {},
   "outputs": [],
   "source": []
  },
  {
   "cell_type": "code",
   "execution_count": null,
   "id": "4a6511e4",
   "metadata": {},
   "outputs": [],
   "source": [
    "sales_list=[15,42,32,48]\n",
    "supermaket_list=['Big Bazar', 'Reliance', 'D Mart', 'Spencers']"
   ]
  },
  {
   "cell_type": "code",
   "execution_count": null,
   "id": "f0cad1ab",
   "metadata": {},
   "outputs": [],
   "source": []
  },
  {
   "cell_type": "code",
   "execution_count": null,
   "id": "11af81fc",
   "metadata": {},
   "outputs": [],
   "source": []
  },
  {
   "cell_type": "code",
   "execution_count": null,
   "id": "5579d364",
   "metadata": {},
   "outputs": [],
   "source": [
    "'''\n",
    "\n",
    "Ram: 72\n",
    "Shyam: 65\n",
    "Hari: 48\n",
    "Ravi: 79\n",
    "Kiran: 81\n",
    "\n",
    "\n",
    "Big Bazar: 15\n",
    "Reliance: 42\n",
    "D Mart: 32\n",
    "Spencer: 48\n",
    "\n",
    "list=[ele1, ele2, ele3,ele4,......ele'n]\n",
    "\n",
    "Dictionary = {}\n",
    "Dictionary = {key1:value1, key2:value2, key3:value3,............, key'n:value'n}\n",
    "\n",
    "Dictionary holds pair of keys & values.\n",
    "\n",
    "(Key:value) they are seperated with comma.\n",
    "'''\n",
    "\n"
   ]
  },
  {
   "cell_type": "code",
   "execution_count": 1,
   "id": "522c229e",
   "metadata": {},
   "outputs": [],
   "source": [
    "#key : Name of the person\n",
    "#value : Age of the person\n",
    "\n",
    "first_dict = {\"Bob\":25, \"jacob\":21, \"jesse\":26, \"dani\":29}"
   ]
  },
  {
   "cell_type": "code",
   "execution_count": 2,
   "id": "edd73ae3",
   "metadata": {},
   "outputs": [
    {
     "data": {
      "text/plain": [
       "{'Bob': 25, 'jacob': 21, 'jesse': 26, 'dani': 29}"
      ]
     },
     "execution_count": 2,
     "metadata": {},
     "output_type": "execute_result"
    }
   ],
   "source": [
    "first_dict"
   ]
  },
  {
   "cell_type": "code",
   "execution_count": 3,
   "id": "685ab0a4",
   "metadata": {},
   "outputs": [
    {
     "data": {
      "text/plain": [
       "dict"
      ]
     },
     "execution_count": 3,
     "metadata": {},
     "output_type": "execute_result"
    }
   ],
   "source": [
    "type(first_dict)"
   ]
  },
  {
   "cell_type": "code",
   "execution_count": null,
   "id": "382daa17",
   "metadata": {},
   "outputs": [],
   "source": [
    "student_dict = {'John':25, 'david':14, 'bob':32, 'marco':45, 'hazel':65, \"John\":65}"
   ]
  },
  {
   "cell_type": "code",
   "execution_count": null,
   "id": "cecb137a",
   "metadata": {},
   "outputs": [],
   "source": [
    "type(student_dict)"
   ]
  },
  {
   "cell_type": "code",
   "execution_count": null,
   "id": "4f7ae07a",
   "metadata": {},
   "outputs": [],
   "source": [
    "student_dict"
   ]
  },
  {
   "cell_type": "code",
   "execution_count": null,
   "id": "2b4e91dd",
   "metadata": {},
   "outputs": [],
   "source": [
    "student_dict['bob']"
   ]
  },
  {
   "cell_type": "markdown",
   "id": "899495e2",
   "metadata": {},
   "source": [
    "# Indexed Collections"
   ]
  },
  {
   "cell_type": "code",
   "execution_count": null,
   "id": "18f2c007",
   "metadata": {},
   "outputs": [],
   "source": [
    "'''\n",
    "1: A list keeps the sequence of values, but the dictionary have key:value pair.\n",
    "\n",
    "2: We can iterate throuh the list, but random access is not possible. \n",
    "In dictionary you are able to perform random access.\n",
    "\n",
    "3: To get the value at position i , need to start at the beginning and walk down to (i-1) step, \n",
    "A dictionary have a key:value pair. you can fetch the value using the key \n",
    "\n",
    "\n",
    "eg: List have this much elements 0 to 1000000**5, check (1000000**5)/2 is in list or  not.\n",
    "\n",
    "for i in list:\n",
    "    if  i == (1000000**5)/2:\n",
    "        print(Number exist)\n",
    "\n",
    "list[1000000**5]\n",
    "\n",
    "***\n",
    "Here we are passing keys and it will return the value which is stored in the dict for that key. \n",
    "\n",
    "Keys are ****UNIQUE and CASE SENSITIVE****\n",
    "\n",
    "'''"
   ]
  },
  {
   "cell_type": "code",
   "execution_count": null,
   "id": "cd394a2d",
   "metadata": {},
   "outputs": [],
   "source": [
    "#empty dictionary\n",
    "\n",
    "dictionary={}"
   ]
  },
  {
   "cell_type": "code",
   "execution_count": null,
   "id": "619fa6d8",
   "metadata": {},
   "outputs": [],
   "source": [
    "dictionary"
   ]
  },
  {
   "cell_type": "markdown",
   "id": "d92c5944",
   "metadata": {},
   "source": [
    "# Accessing the values"
   ]
  },
  {
   "cell_type": "code",
   "execution_count": null,
   "id": "59212dc7",
   "metadata": {},
   "outputs": [],
   "source": [
    "#key- roll no./student ID\n",
    "#value- name "
   ]
  },
  {
   "cell_type": "code",
   "execution_count": null,
   "id": "a838f679",
   "metadata": {},
   "outputs": [],
   "source": [
    "dict1={1: 'Akash', 2: 'Balram', 3: 'Chaya', 4: \"Deepak\", 5:'Farhan'}"
   ]
  },
  {
   "cell_type": "code",
   "execution_count": null,
   "id": "23be26b1",
   "metadata": {},
   "outputs": [],
   "source": [
    "dict1"
   ]
  },
  {
   "cell_type": "code",
   "execution_count": null,
   "id": "1eee117f",
   "metadata": {},
   "outputs": [],
   "source": [
    "#dict['key']\n",
    "\n",
    "dict1[3]"
   ]
  },
  {
   "cell_type": "code",
   "execution_count": null,
   "id": "4d67dc72",
   "metadata": {},
   "outputs": [],
   "source": [
    "first_dict"
   ]
  },
  {
   "cell_type": "code",
   "execution_count": null,
   "id": "ad4967c5",
   "metadata": {},
   "outputs": [],
   "source": [
    "first_dict['Amilia']"
   ]
  },
  {
   "cell_type": "code",
   "execution_count": null,
   "id": "7e5f50f3",
   "metadata": {},
   "outputs": [],
   "source": [
    "#key- number\n",
    "#value- square of number"
   ]
  },
  {
   "cell_type": "code",
   "execution_count": null,
   "id": "f2d806f4",
   "metadata": {},
   "outputs": [],
   "source": [
    "dict2={1:1, 2:4, 3:9, 4:16, 5:25}"
   ]
  },
  {
   "cell_type": "code",
   "execution_count": null,
   "id": "df01399c",
   "metadata": {},
   "outputs": [],
   "source": [
    "dict2[2]"
   ]
  },
  {
   "cell_type": "markdown",
   "id": "003611e2",
   "metadata": {},
   "source": [
    "# Addition of a new value (key:value pair)"
   ]
  },
  {
   "cell_type": "code",
   "execution_count": null,
   "id": "19015005",
   "metadata": {},
   "outputs": [],
   "source": [
    "l=[1,2,3,4]\n",
    "\n",
    "\n",
    "l.append(5)"
   ]
  },
  {
   "cell_type": "code",
   "execution_count": null,
   "id": "402fb364",
   "metadata": {},
   "outputs": [],
   "source": [
    "l"
   ]
  },
  {
   "cell_type": "markdown",
   "id": "38e58866",
   "metadata": {},
   "source": [
    "1: Create a key\n",
    "\n",
    "\n",
    "2: Assign a value corresponding to that key "
   ]
  },
  {
   "cell_type": "code",
   "execution_count": null,
   "id": "0814ae10",
   "metadata": {},
   "outputs": [],
   "source": [
    "student_dict"
   ]
  },
  {
   "cell_type": "code",
   "execution_count": null,
   "id": "7a5ec27b",
   "metadata": {},
   "outputs": [],
   "source": [
    "'''\n",
    "\n",
    "dict[new_key] = new_value\n",
    "\n",
    "\n",
    "Vinayak 84\n",
    "\n",
    "'''"
   ]
  },
  {
   "cell_type": "code",
   "execution_count": null,
   "id": "7fceb26e",
   "metadata": {},
   "outputs": [],
   "source": [
    "student_dict['Vinayak'] = 84"
   ]
  },
  {
   "cell_type": "code",
   "execution_count": null,
   "id": "94fcb8b4",
   "metadata": {},
   "outputs": [],
   "source": [
    "student_dict"
   ]
  },
  {
   "cell_type": "code",
   "execution_count": null,
   "id": "bc88174f",
   "metadata": {},
   "outputs": [],
   "source": [
    "student_dict['Yash']=97  #created a key value pair"
   ]
  },
  {
   "cell_type": "code",
   "execution_count": null,
   "id": "a5aa52a1",
   "metadata": {},
   "outputs": [],
   "source": [
    "student_dict"
   ]
  },
  {
   "cell_type": "markdown",
   "id": "8dc4da6b",
   "metadata": {},
   "source": [
    "# Change the value of a key "
   ]
  },
  {
   "cell_type": "code",
   "execution_count": null,
   "id": "ed716ea9",
   "metadata": {},
   "outputs": [],
   "source": [
    "'''\n",
    "\n",
    "dict[key] = new_value\n",
    "\n",
    "1: key is unique. key is case sensitive\n",
    "'''"
   ]
  },
  {
   "cell_type": "code",
   "execution_count": null,
   "id": "1f8c0260",
   "metadata": {},
   "outputs": [],
   "source": [
    "#adding a key value pair\n",
    "# student_dict['Yash']=97 \n",
    "\n",
    "# updating a key value pair\n",
    "\n",
    "student_dict['Yash']=75 "
   ]
  },
  {
   "cell_type": "code",
   "execution_count": null,
   "id": "dd88c6d2",
   "metadata": {},
   "outputs": [],
   "source": [
    "student_dict"
   ]
  },
  {
   "cell_type": "code",
   "execution_count": null,
   "id": "825ef2a6",
   "metadata": {},
   "outputs": [],
   "source": [
    "student_dict['david']=80"
   ]
  },
  {
   "cell_type": "code",
   "execution_count": null,
   "id": "e921423e",
   "metadata": {},
   "outputs": [],
   "source": [
    "student_dict"
   ]
  },
  {
   "cell_type": "code",
   "execution_count": null,
   "id": "5f963f85",
   "metadata": {},
   "outputs": [],
   "source": []
  },
  {
   "cell_type": "code",
   "execution_count": null,
   "id": "c33114c0",
   "metadata": {},
   "outputs": [],
   "source": [
    "student_dict['Jimmy']=76"
   ]
  },
  {
   "cell_type": "code",
   "execution_count": null,
   "id": "e4a36676",
   "metadata": {},
   "outputs": [],
   "source": [
    "student_dict.update({'Vinayak':78, 'bob':75}) #2"
   ]
  },
  {
   "cell_type": "code",
   "execution_count": null,
   "id": "b88eadf5",
   "metadata": {},
   "outputs": [],
   "source": [
    "student_dict"
   ]
  },
  {
   "cell_type": "code",
   "execution_count": null,
   "id": "4c30e519",
   "metadata": {},
   "outputs": [],
   "source": [
    "student_dict.update({'John':70, 'Wick':100, 'marco':85, 'dobby':72})"
   ]
  },
  {
   "cell_type": "code",
   "execution_count": null,
   "id": "1a6894f3",
   "metadata": {},
   "outputs": [],
   "source": [
    "student_dict"
   ]
  },
  {
   "cell_type": "markdown",
   "id": "a4b27620",
   "metadata": {},
   "source": [
    "# Deleting the key"
   ]
  },
  {
   "cell_type": "code",
   "execution_count": null,
   "id": "6e8a4eb2",
   "metadata": {},
   "outputs": [],
   "source": [
    "student_dict"
   ]
  },
  {
   "cell_type": "code",
   "execution_count": null,
   "id": "54e368b6",
   "metadata": {},
   "outputs": [],
   "source": [
    "del student_dict['Vinayak']\n"
   ]
  },
  {
   "cell_type": "code",
   "execution_count": null,
   "id": "041a339e",
   "metadata": {},
   "outputs": [],
   "source": [
    "student_dict"
   ]
  },
  {
   "cell_type": "markdown",
   "id": "112fc354",
   "metadata": {},
   "source": [
    "# Create a dictionary"
   ]
  },
  {
   "cell_type": "code",
   "execution_count": null,
   "id": "c02576c1",
   "metadata": {},
   "outputs": [],
   "source": [
    "name_list=['Ram', 'Shayam', 'Hari', 'Ravi', 'Kiran']"
   ]
  },
  {
   "cell_type": "code",
   "execution_count": null,
   "id": "b13b1e9f",
   "metadata": {},
   "outputs": [],
   "source": [
    "maths_list=[72, 65, 48, 79, 81]"
   ]
  },
  {
   "cell_type": "code",
   "execution_count": null,
   "id": "975b12d6",
   "metadata": {},
   "outputs": [],
   "source": [
    "#WAP to create a dictionary using the name_list and maths_list where keys are going to be names and values are maths marks. \n",
    "# assume that the index position corresponding to the name is the same index for the corresponding marks"
   ]
  },
  {
   "cell_type": "code",
   "execution_count": null,
   "id": "d36b255f",
   "metadata": {},
   "outputs": [],
   "source": [
    "len(name_list)"
   ]
  },
  {
   "cell_type": "code",
   "execution_count": null,
   "id": "e3401516",
   "metadata": {},
   "outputs": [],
   "source": [
    "'''\n",
    "Algo:\n",
    "1: create an empty dictionary: dict_name={}\n",
    "2: run a for loop iterating over index\n",
    "3: add the key value pair in the dictionary ; dict[new_key]=new_value\n",
    "\n",
    "'''"
   ]
  },
  {
   "cell_type": "code",
   "execution_count": null,
   "id": "34ef18a9",
   "metadata": {},
   "outputs": [],
   "source": [
    "len(name_list)"
   ]
  },
  {
   "cell_type": "code",
   "execution_count": null,
   "id": "e46aaa87",
   "metadata": {},
   "outputs": [],
   "source": [
    "name_list[0]"
   ]
  },
  {
   "cell_type": "code",
   "execution_count": null,
   "id": "991b92d3",
   "metadata": {},
   "outputs": [],
   "source": [
    "maths_list[0]"
   ]
  },
  {
   "cell_type": "code",
   "execution_count": null,
   "id": "996983d0",
   "metadata": {},
   "outputs": [],
   "source": [
    "s_dict={}\n",
    "for i in range(len(name_list)):\n",
    "    s_dict[name_list[i]] = maths_list[i]  #dict[key_name]=value\n",
    "    \n",
    "print(s_dict)\n",
    " \n"
   ]
  },
  {
   "cell_type": "code",
   "execution_count": null,
   "id": "9d4a5ad3",
   "metadata": {},
   "outputs": [],
   "source": [
    "s_dict"
   ]
  },
  {
   "cell_type": "code",
   "execution_count": null,
   "id": "5a3d4943",
   "metadata": {},
   "outputs": [],
   "source": [
    "name_list=['ram','shyam','hari','kiran']\n",
    "maths_list=[72,65,48,79,81]\n",
    "new_dict={}\n",
    "for i in range(len(name_list)):\n",
    "    new_dict[name_list[i]]=maths_list[i]\n",
    "print(new_dict)\n"
   ]
  },
  {
   "cell_type": "code",
   "execution_count": null,
   "id": "5eb1c325",
   "metadata": {},
   "outputs": [],
   "source": [
    "hackerearth\n",
    "\n",
    "Leetcode"
   ]
  },
  {
   "cell_type": "code",
   "execution_count": null,
   "id": "be394b8f",
   "metadata": {},
   "outputs": [],
   "source": []
  },
  {
   "cell_type": "code",
   "execution_count": null,
   "id": "b4c2b74d",
   "metadata": {},
   "outputs": [],
   "source": [
    "configuration file\n",
    "'''\n",
    "bike_input_dict=\n",
    "{\n",
    "petrol : \n",
    "engine oil :\n",
    "Air pressure : \n",
    "Grease : \n",
    "Helmet : \n",
    "        \n",
    "}\n",
    "\n",
    "\n",
    "\n",
    "'''\n"
   ]
  },
  {
   "cell_type": "code",
   "execution_count": null,
   "id": "7c0f6dab",
   "metadata": {},
   "outputs": [],
   "source": [
    "BIKE_RIDE(PETROL=5L, Engine Oil=300ml, Air=40, Grease=2ml, Helmet=True)\n",
    "\n",
    "BIKE_RIDE(bike_input_dict)"
   ]
  },
  {
   "cell_type": "code",
   "execution_count": null,
   "id": "0d53406d",
   "metadata": {},
   "outputs": [],
   "source": [
    "'''\n",
    "ingredients = \n",
    "\n",
    "{ \n",
    "flour : 1cup\n",
    "salt : 1tsp\n",
    "oil: 30ml\n",
    "tomato : 2nos\n",
    "oregano : 1Tbsp\n",
    "chilly_flakes : 2tsp\n",
    "olive: 1/2 cup\n",
    "mushroom : 1/2cup\n",
    "cheese: 1cup\n",
    "\n",
    "\n",
    "}\n",
    "\n",
    "\n",
    "\n",
    "'''"
   ]
  },
  {
   "cell_type": "code",
   "execution_count": null,
   "id": "cea3cf64",
   "metadata": {},
   "outputs": [],
   "source": [
    "'''\n",
    "\n",
    "\n",
    "PIZZAA MAKER (flour, salt )\n",
    "\n",
    "\n",
    "'''"
   ]
  },
  {
   "cell_type": "code",
   "execution_count": null,
   "id": "d2fb1840",
   "metadata": {},
   "outputs": [],
   "source": []
  },
  {
   "cell_type": "code",
   "execution_count": null,
   "id": "1c9ac6f3",
   "metadata": {},
   "outputs": [],
   "source": []
  },
  {
   "cell_type": "code",
   "execution_count": null,
   "id": "fe3259c9",
   "metadata": {},
   "outputs": [],
   "source": [
    "'''\n",
    "insert i e: Insert integer  at position .\n",
    "print: Print the list.\n",
    "remove e: Delete the first occurrence of integer .\n",
    "append e: Insert integer  at the end of the list.\n",
    "sort: Sort the list.\n",
    "pop: Pop the last element from the list.\n",
    "reverse: Reverse the list.\n",
    "'''"
   ]
  },
  {
   "cell_type": "code",
   "execution_count": null,
   "id": "2e4d5292",
   "metadata": {},
   "outputs": [],
   "source": [
    "op = input().split()"
   ]
  },
  {
   "cell_type": "code",
   "execution_count": null,
   "id": "b3478360",
   "metadata": {},
   "outputs": [],
   "source": [
    "op"
   ]
  },
  {
   "cell_type": "code",
   "execution_count": null,
   "id": "338ef593",
   "metadata": {},
   "outputs": [],
   "source": [
    "op[1]"
   ]
  },
  {
   "cell_type": "code",
   "execution_count": null,
   "id": "276f8426",
   "metadata": {},
   "outputs": [],
   "source": [
    "N = int(input()) # 5\n",
    "List = []\n",
    "for i in range(N):\n",
    "    op = input().split()       #insert 0 5 ; ['insert', '0', '5']\n",
    "    cmd=op[0]                    #cmd='insert'\n",
    "    if cmd == \"insert\":\n",
    "        pos = int(op[1]) #0\n",
    "        num = int(op[2]) #5\n",
    "        List.insert(pos,num) # list.insert(0,5)\n",
    "    elif cmd == \"print\":\n",
    "        print(List)\n",
    "    elif cmd == \"remove\":\n",
    "        num = int(op[1])\n",
    "        List.remove(num)\n",
    "    elif cmd == \"append\":\n",
    "        num = int(op[1])\n",
    "        List.append(num)\n",
    "    elif cmd == \"sort\":\n",
    "        List.sort()\n",
    "    elif cmd == \"pop\":\n",
    "        List.pop()\n",
    "    elif cmd == \"reverse\":\n",
    "        List.reverse()\n",
    "print(List)\n"
   ]
  },
  {
   "cell_type": "code",
   "execution_count": null,
   "id": "b201dab2",
   "metadata": {},
   "outputs": [],
   "source": []
  },
  {
   "cell_type": "code",
   "execution_count": null,
   "id": "674ce3b1",
   "metadata": {},
   "outputs": [],
   "source": []
  },
  {
   "cell_type": "code",
   "execution_count": null,
   "id": "0c62dc4f",
   "metadata": {},
   "outputs": [],
   "source": []
  },
  {
   "cell_type": "code",
   "execution_count": null,
   "id": "c02d8029",
   "metadata": {},
   "outputs": [],
   "source": []
  },
  {
   "cell_type": "code",
   "execution_count": null,
   "id": "dc831dd1",
   "metadata": {},
   "outputs": [],
   "source": []
  },
  {
   "cell_type": "code",
   "execution_count": null,
   "id": "5356eee1",
   "metadata": {},
   "outputs": [],
   "source": [
    "ls=['a',1,'b',2,'c',3,'d',4,'e',5]"
   ]
  },
  {
   "cell_type": "code",
   "execution_count": null,
   "id": "e8311d9a",
   "metadata": {},
   "outputs": [],
   "source": [
    "d={}\n",
    "for i in range(0, len(ls),2): #0,2,4,6,8\n",
    "    d[ls[i]]=ls[i+1]\n",
    "    \n",
    "    \n",
    "#dict['key']=value\n",
    "    \n",
    "    "
   ]
  },
  {
   "cell_type": "code",
   "execution_count": null,
   "id": "45fff0d3",
   "metadata": {},
   "outputs": [],
   "source": [
    "ls[0]"
   ]
  },
  {
   "cell_type": "code",
   "execution_count": null,
   "id": "ce3281f6",
   "metadata": {},
   "outputs": [],
   "source": [
    "maths_name_dict={}\n",
    "for i in range(len(name_list)):\n",
    "    maths_name_dict[name_list[i]]=maths_list[i]"
   ]
  },
  {
   "cell_type": "code",
   "execution_count": null,
   "id": "2839740a",
   "metadata": {},
   "outputs": [],
   "source": [
    "maths_name_dict"
   ]
  },
  {
   "cell_type": "code",
   "execution_count": null,
   "id": "6eee67b9",
   "metadata": {},
   "outputs": [],
   "source": []
  },
  {
   "cell_type": "code",
   "execution_count": null,
   "id": "1cb26327",
   "metadata": {},
   "outputs": [],
   "source": [
    "maths_dict={}   #empty dictionary \n",
    "\n",
    "for i in range(5):  #0\n",
    "    \n",
    "    name=name_list[i] #name_list[0] #key\n",
    "    #name=Ram\n",
    "    \n",
    "    marks=maths_list[i]\n",
    "    #marks=72,,, # value\n",
    "    \n",
    "    maths_dict[name]=marks\n",
    "    #maths_dict[\"Ram\"]=72\n",
    "    \n",
    "print(maths_dict)"
   ]
  },
  {
   "cell_type": "code",
   "execution_count": null,
   "id": "ab5a1b8d",
   "metadata": {},
   "outputs": [],
   "source": [
    "student_dict2={'Ram': {'Maths':72,'Physics':56,'Chemistry':94},\n",
    "               'Shyam': [65,14,64], \n",
    "               'Hari': 40, \n",
    "               'Ravi': 1.5, \n",
    "               'Kiran': 'S+',\n",
    "               'Ishant': True\n",
    "               \n",
    "              }"
   ]
  },
  {
   "cell_type": "code",
   "execution_count": null,
   "id": "64b942e3",
   "metadata": {},
   "outputs": [],
   "source": []
  },
  {
   "cell_type": "code",
   "execution_count": null,
   "id": "8985a4c6",
   "metadata": {},
   "outputs": [],
   "source": [
    "student_dict2[\"Shyam\"][1]"
   ]
  },
  {
   "cell_type": "code",
   "execution_count": null,
   "id": "c42c3156",
   "metadata": {},
   "outputs": [],
   "source": [
    "#list[index]\n",
    "\n",
    "#dict[key]\n",
    "\n",
    "student_dict2['Ram']['Chemistry']"
   ]
  },
  {
   "cell_type": "code",
   "execution_count": null,
   "id": "756913fe",
   "metadata": {},
   "outputs": [],
   "source": [
    "student_dict2['Ram']['Maths']"
   ]
  },
  {
   "cell_type": "code",
   "execution_count": null,
   "id": "59fee4ab",
   "metadata": {},
   "outputs": [],
   "source": [
    "student_dict2['Shyam'][1]"
   ]
  },
  {
   "cell_type": "code",
   "execution_count": null,
   "id": "9887c419",
   "metadata": {},
   "outputs": [],
   "source": [
    "'''\n",
    "Name   Maths    Physics_theory   physics_practical Chemistry\n",
    "Ram\n",
    "Shyam\n",
    "hari\n",
    "Ravi\n",
    "Kiran\n",
    "\n",
    "'''"
   ]
  },
  {
   "cell_type": "code",
   "execution_count": null,
   "id": "37be1574",
   "metadata": {},
   "outputs": [],
   "source": [
    "student_dict={'Ram': {'Maths':72,'Physics':{'Theory':56,'Practical':26},'Chemistry':94} ,\n",
    "              'Shyam': {'Maths':51,'Physics':{'Theory':51,'Practical':29},'Chemistry':74}, \n",
    "              'Hari': {'Maths':62,'Physics':{'Theory':47,'Practical':28},'Chemistry':95}, \n",
    "              'Ravi': {'Maths':26,'Physics':{'Theory':45,'Practical':24},'Chemistry':68}, \n",
    "              'Kiran': {'Maths':98,'Physics':{'Theory':38,'Practical':21},'Chemistry':72}}"
   ]
  },
  {
   "cell_type": "code",
   "execution_count": null,
   "id": "15999551",
   "metadata": {},
   "outputs": [],
   "source": [
    "student_dict['Hari']['Physics']['Practical']"
   ]
  },
  {
   "cell_type": "code",
   "execution_count": null,
   "id": "32f7525d",
   "metadata": {},
   "outputs": [],
   "source": [
    "name=input('Enter the name:')\n",
    "subject = input('Enter the subject:')\n",
    "\n",
    "if subject=='Physics':\n",
    "    field=input('Enter the field (Theory/Practical):')\n",
    "    print(f\"The marks of {name} in {subject} of {field} is \", student_dict[name][subject][field])\n",
    "else:\n",
    "    print(f\"The marks of {name} in {subject} is \", student_dict[name][subject])"
   ]
  },
  {
   "cell_type": "code",
   "execution_count": null,
   "id": "ae18e63f",
   "metadata": {},
   "outputs": [],
   "source": [
    "student_dict2"
   ]
  },
  {
   "cell_type": "code",
   "execution_count": null,
   "id": "bfd6adf1",
   "metadata": {},
   "outputs": [],
   "source": [
    "student_dict"
   ]
  },
  {
   "cell_type": "code",
   "execution_count": null,
   "id": "b5176580",
   "metadata": {},
   "outputs": [],
   "source": [
    "#wap to find th sum of all the marks in studebt dictionary"
   ]
  },
  {
   "cell_type": "code",
   "execution_count": null,
   "id": "4ea68b5e",
   "metadata": {},
   "outputs": [],
   "source": [
    "student_dict.keys()"
   ]
  },
  {
   "cell_type": "code",
   "execution_count": null,
   "id": "aced8616",
   "metadata": {},
   "outputs": [],
   "source": [
    "s=0\n",
    "for i in student_dict.keys():\n",
    "    s = s + student_dict[i]\n",
    "print(s)"
   ]
  },
  {
   "cell_type": "code",
   "execution_count": null,
   "id": "9516cc48",
   "metadata": {},
   "outputs": [],
   "source": [
    "student_dict.values()"
   ]
  },
  {
   "cell_type": "code",
   "execution_count": null,
   "id": "20c87fee",
   "metadata": {},
   "outputs": [],
   "source": [
    "s=0\n",
    "for i in student_dict.values():\n",
    "    s=s+i\n",
    "    \n",
    "print(s)"
   ]
  },
  {
   "cell_type": "code",
   "execution_count": null,
   "id": "7988d756",
   "metadata": {},
   "outputs": [],
   "source": []
  },
  {
   "cell_type": "code",
   "execution_count": null,
   "id": "00051089",
   "metadata": {},
   "outputs": [],
   "source": [
    "student_dict['Ram']['Physics']['Theory']"
   ]
  },
  {
   "cell_type": "code",
   "execution_count": null,
   "id": "424731c9",
   "metadata": {},
   "outputs": [],
   "source": []
  },
  {
   "cell_type": "code",
   "execution_count": null,
   "id": "99d616fa",
   "metadata": {},
   "outputs": [],
   "source": []
  },
  {
   "cell_type": "code",
   "execution_count": null,
   "id": "914b883a",
   "metadata": {},
   "outputs": [],
   "source": []
  },
  {
   "cell_type": "code",
   "execution_count": null,
   "id": "a6269976",
   "metadata": {},
   "outputs": [],
   "source": []
  },
  {
   "cell_type": "code",
   "execution_count": null,
   "id": "4af49993",
   "metadata": {},
   "outputs": [],
   "source": []
  },
  {
   "cell_type": "code",
   "execution_count": null,
   "id": "3d364b95",
   "metadata": {},
   "outputs": [],
   "source": [
    "#practical marks  scored by ram in physics"
   ]
  },
  {
   "cell_type": "code",
   "execution_count": null,
   "id": "0a3691e1",
   "metadata": {},
   "outputs": [],
   "source": [
    "student_dict['Ram']['Physics']['Theory']"
   ]
  },
  {
   "cell_type": "code",
   "execution_count": null,
   "id": "039fa682",
   "metadata": {},
   "outputs": [],
   "source": [
    "student_dict2[Ravi][Physics][2]\n"
   ]
  },
  {
   "cell_type": "code",
   "execution_count": null,
   "id": "0daf69bf",
   "metadata": {},
   "outputs": [],
   "source": []
  },
  {
   "cell_type": "code",
   "execution_count": null,
   "id": "3220fd24",
   "metadata": {},
   "outputs": [],
   "source": []
  },
  {
   "cell_type": "code",
   "execution_count": null,
   "id": "7098d20e",
   "metadata": {},
   "outputs": [],
   "source": []
  },
  {
   "cell_type": "code",
   "execution_count": null,
   "id": "3ae6a0cf",
   "metadata": {},
   "outputs": [],
   "source": []
  },
  {
   "cell_type": "code",
   "execution_count": null,
   "id": "38d42c95",
   "metadata": {},
   "outputs": [],
   "source": []
  },
  {
   "cell_type": "code",
   "execution_count": null,
   "id": "6a3fa8b9",
   "metadata": {},
   "outputs": [],
   "source": [
    "student_dict['Ram']['Physics']['Practical']"
   ]
  },
  {
   "cell_type": "code",
   "execution_count": null,
   "id": "0815cc88",
   "metadata": {},
   "outputs": [],
   "source": [
    "student_dict['Ram']['Physics'][0]"
   ]
  },
  {
   "cell_type": "code",
   "execution_count": null,
   "id": "1f1eab14",
   "metadata": {},
   "outputs": [],
   "source": []
  },
  {
   "cell_type": "code",
   "execution_count": null,
   "id": "cf976f50",
   "metadata": {},
   "outputs": [],
   "source": []
  },
  {
   "cell_type": "code",
   "execution_count": null,
   "id": "00eb1643",
   "metadata": {},
   "outputs": [],
   "source": []
  },
  {
   "cell_type": "code",
   "execution_count": null,
   "id": "37d38b26",
   "metadata": {},
   "outputs": [],
   "source": [
    "student_dict['Ram']['Maths']"
   ]
  },
  {
   "cell_type": "code",
   "execution_count": null,
   "id": "405e5046",
   "metadata": {},
   "outputs": [],
   "source": [
    "student_dict['Shyam'][1]"
   ]
  },
  {
   "cell_type": "code",
   "execution_count": null,
   "id": "b5ff462d",
   "metadata": {},
   "outputs": [],
   "source": []
  },
  {
   "cell_type": "code",
   "execution_count": null,
   "id": "6f229c64",
   "metadata": {},
   "outputs": [],
   "source": []
  },
  {
   "cell_type": "code",
   "execution_count": null,
   "id": "d336f0b9",
   "metadata": {},
   "outputs": [],
   "source": []
  },
  {
   "cell_type": "code",
   "execution_count": null,
   "id": "5b5d95da",
   "metadata": {},
   "outputs": [],
   "source": []
  },
  {
   "cell_type": "code",
   "execution_count": null,
   "id": "7551d253",
   "metadata": {},
   "outputs": [],
   "source": [
    "a=student_dict['Ram']"
   ]
  },
  {
   "cell_type": "code",
   "execution_count": null,
   "id": "f51c2774",
   "metadata": {},
   "outputs": [],
   "source": [
    "type(a)"
   ]
  },
  {
   "cell_type": "code",
   "execution_count": null,
   "id": "02e942e2",
   "metadata": {},
   "outputs": [],
   "source": [
    "a['Maths']"
   ]
  },
  {
   "cell_type": "code",
   "execution_count": null,
   "id": "13c46567",
   "metadata": {},
   "outputs": [],
   "source": []
  },
  {
   "cell_type": "code",
   "execution_count": null,
   "id": "6586d93d",
   "metadata": {},
   "outputs": [],
   "source": [
    "student_dict['Hari']"
   ]
  },
  {
   "cell_type": "code",
   "execution_count": null,
   "id": "f077b19e",
   "metadata": {},
   "outputs": [],
   "source": []
  },
  {
   "cell_type": "code",
   "execution_count": null,
   "id": "8ced9b8e",
   "metadata": {},
   "outputs": [],
   "source": []
  },
  {
   "cell_type": "code",
   "execution_count": null,
   "id": "f65f1a7c",
   "metadata": {},
   "outputs": [],
   "source": []
  },
  {
   "cell_type": "code",
   "execution_count": null,
   "id": "53f9e337",
   "metadata": {},
   "outputs": [],
   "source": []
  },
  {
   "cell_type": "code",
   "execution_count": null,
   "id": "44c068ae",
   "metadata": {},
   "outputs": [],
   "source": []
  },
  {
   "cell_type": "code",
   "execution_count": null,
   "id": "976f7998",
   "metadata": {},
   "outputs": [],
   "source": [
    "student_dict['Shyam']"
   ]
  },
  {
   "cell_type": "code",
   "execution_count": null,
   "id": "40368ed6",
   "metadata": {},
   "outputs": [],
   "source": [
    "student_dict['Shyam'][2]    \n",
    "\n",
    "# list[2]"
   ]
  },
  {
   "cell_type": "code",
   "execution_count": null,
   "id": "d324db31",
   "metadata": {},
   "outputs": [],
   "source": [
    "student_dict['Ram']['Chemistry']\n",
    "\n",
    "#dict['Chemistry']"
   ]
  },
  {
   "cell_type": "code",
   "execution_count": null,
   "id": "b6781e06",
   "metadata": {},
   "outputs": [],
   "source": [
    "student_dict"
   ]
  },
  {
   "cell_type": "code",
   "execution_count": null,
   "id": "169774ae",
   "metadata": {},
   "outputs": [],
   "source": [
    "student_dict['Ram']"
   ]
  },
  {
   "cell_type": "code",
   "execution_count": null,
   "id": "3063ff54",
   "metadata": {},
   "outputs": [],
   "source": [
    "x=student_dict['Shyam']\n",
    "\n",
    "\n",
    "type(x)"
   ]
  },
  {
   "cell_type": "code",
   "execution_count": null,
   "id": "e41b28a6",
   "metadata": {},
   "outputs": [],
   "source": [
    "x[2]"
   ]
  },
  {
   "cell_type": "code",
   "execution_count": null,
   "id": "a355036f",
   "metadata": {},
   "outputs": [],
   "source": [
    "student_dict['Shyam'][1]"
   ]
  },
  {
   "cell_type": "code",
   "execution_count": null,
   "id": "62fb5f08",
   "metadata": {},
   "outputs": [],
   "source": []
  },
  {
   "cell_type": "code",
   "execution_count": null,
   "id": "c3a73cb7",
   "metadata": {},
   "outputs": [],
   "source": []
  },
  {
   "cell_type": "code",
   "execution_count": null,
   "id": "868f016d",
   "metadata": {},
   "outputs": [],
   "source": []
  },
  {
   "cell_type": "code",
   "execution_count": null,
   "id": "432a7c71",
   "metadata": {},
   "outputs": [],
   "source": []
  },
  {
   "cell_type": "code",
   "execution_count": null,
   "id": "e02e37af",
   "metadata": {},
   "outputs": [],
   "source": []
  },
  {
   "cell_type": "code",
   "execution_count": null,
   "id": "8050602c",
   "metadata": {},
   "outputs": [],
   "source": []
  },
  {
   "cell_type": "code",
   "execution_count": null,
   "id": "d784e5f3",
   "metadata": {},
   "outputs": [],
   "source": []
  },
  {
   "cell_type": "code",
   "execution_count": null,
   "id": "9d232a29",
   "metadata": {},
   "outputs": [],
   "source": []
  },
  {
   "cell_type": "code",
   "execution_count": null,
   "id": "12e693c6",
   "metadata": {},
   "outputs": [],
   "source": []
  }
 ],
 "metadata": {
  "kernelspec": {
   "display_name": "Python 3 (ipykernel)",
   "language": "python",
   "name": "python3"
  },
  "language_info": {
   "codemirror_mode": {
    "name": "ipython",
    "version": 3
   },
   "file_extension": ".py",
   "mimetype": "text/x-python",
   "name": "python",
   "nbconvert_exporter": "python",
   "pygments_lexer": "ipython3",
   "version": "3.10.9"
  }
 },
 "nbformat": 4,
 "nbformat_minor": 5
}
