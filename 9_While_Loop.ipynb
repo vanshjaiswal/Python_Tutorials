{
 "cells": [
  {
   "cell_type": "code",
   "execution_count": null,
   "id": "f7006c1f",
   "metadata": {},
   "outputs": [],
   "source": [
    "'''\n",
    "#loop:\n",
    "1: while \n",
    "2: for \n",
    "\n",
    "'''"
   ]
  },
  {
   "cell_type": "code",
   "execution_count": null,
   "id": "b6f43655",
   "metadata": {},
   "outputs": [],
   "source": [
    "print('When did India get its independence?')"
   ]
  },
  {
   "cell_type": "code",
   "execution_count": null,
   "id": "2da6839e",
   "metadata": {},
   "outputs": [],
   "source": [
    "year=int(input())\n",
    "\n",
    "if year==1947:\n",
    "    print('yeahh your answer is right')\n",
    "else:\n",
    "    print('you are wrong !!!')\n",
    "    print('Second try')\n",
    "    print('When did India get its independence?')\n",
    "    \n",
    "    year=int(input())\n",
    "    \n",
    "    if year==1947:\n",
    "        print('yeahh your answer is right')\n",
    "    else:\n",
    "        print('you are wrong this time also!!')\n",
    "        print('Third try')\n",
    "        print('When did India get its independence?')\n",
    "\n",
    "        year=int(input())\n",
    "\n",
    "        if year==1947:\n",
    "            print('yeahh your answer is right')\n",
    "        else:\n",
    "            print('you are wrong this time also!!')\n",
    "            print('Fourth try')\n",
    "            print('When did India get its independence?')\n",
    "\n",
    "            year=int(input())\n",
    "\n",
    "            if year==1947:\n",
    "                print('yeahh your answer is right')\n",
    "            else:\n",
    "                print('you are wrong this time also!!')\n",
    "                print('Fifth try')\n",
    "                print('When did India get its independence?')\n",
    "\n",
    "                year=int(input())\n",
    "\n",
    "                if year==1947:\n",
    "                    print('yeahh your answer is right')\n",
    "                else:\n",
    "                    print('you are wrong this time also!!')"
   ]
  },
  {
   "cell_type": "code",
   "execution_count": null,
   "id": "5dd3af53",
   "metadata": {},
   "outputs": [],
   "source": [
    "year=int(input())\n",
    "\n",
    "if year==1947:\n",
    "    print('Yes your answer is correct')\n",
    "else:\n",
    "    print('incorrect output')"
   ]
  },
  {
   "cell_type": "code",
   "execution_count": null,
   "id": "ecdc43e1",
   "metadata": {},
   "outputs": [],
   "source": []
  },
  {
   "cell_type": "code",
   "execution_count": null,
   "id": "de26f5f6",
   "metadata": {},
   "outputs": [],
   "source": [
    "1234 != 1947"
   ]
  },
  {
   "cell_type": "code",
   "execution_count": null,
   "id": "f871a8ed",
   "metadata": {},
   "outputs": [],
   "source": [
    "print('When did India get its independence?')\n",
    "\n",
    "year=int(input()) #1234\n",
    "count=1\n",
    "\n",
    "if year==1947:\n",
    "    print('WoW you got it right.')\n",
    "    \n",
    "while (year != 1947 ):\n",
    "    if count < 5:\n",
    "        print('You got this wrong, enter again')\n",
    "        year=int(input()) #9876 #1489\n",
    "        if year==1947:\n",
    "            print('WoW you got it right.')\n",
    "            \n",
    "    else:\n",
    "        print(\"No. of trials exhausted\")\n",
    "        break\n",
    "    count += 1\n",
    "\n",
    "print(\"Thank you for taking the quiz\")"
   ]
  },
  {
   "cell_type": "code",
   "execution_count": null,
   "id": "55ee60fa",
   "metadata": {},
   "outputs": [],
   "source": []
  },
  {
   "cell_type": "code",
   "execution_count": null,
   "id": "8cc838d8",
   "metadata": {},
   "outputs": [],
   "source": [
    "x=10"
   ]
  },
  {
   "cell_type": "code",
   "execution_count": null,
   "id": "6e8964b8",
   "metadata": {},
   "outputs": [],
   "source": [
    "x-1"
   ]
  },
  {
   "cell_type": "code",
   "execution_count": null,
   "id": "f9ab90cc",
   "metadata": {},
   "outputs": [],
   "source": [
    "x"
   ]
  },
  {
   "cell_type": "code",
   "execution_count": null,
   "id": "1b3a99be",
   "metadata": {},
   "outputs": [],
   "source": []
  },
  {
   "cell_type": "code",
   "execution_count": null,
   "id": "9c228289",
   "metadata": {},
   "outputs": [],
   "source": [
    "print('When did India get its independence?')\n",
    "\n",
    "count=3\n",
    "\n",
    "while (count > 0 ):\n",
    "    year=int(input())\n",
    "    if year==1947:\n",
    "        print(\"Answer is correct\")\n",
    "        count=0\n",
    "#         count-=1\n",
    "    else:\n",
    "        print(f'Try Again {count-1} number of trial remains')\n",
    "        count -= 1 # count=count-1\n",
    "        \n",
    "print('Thanks for participation')"
   ]
  },
  {
   "cell_type": "code",
   "execution_count": null,
   "id": "3904d298",
   "metadata": {},
   "outputs": [],
   "source": [
    "print(\"when did India get its independence?\")\n",
    "\n",
    "# year=int(input())\n",
    "count=3\n",
    "\n",
    "\n",
    "\n",
    "# if year==1947:\n",
    "#     print(\"yes answer is correct\")\n",
    "\n",
    "while(count > 0):\n",
    "    year=int(input())\n",
    "    if year==1947:\n",
    "        print(\"Answer is correct\")\n",
    "        count=0  #if answer is right i will change the count immediately to 0 and break the loop as he got the right answer \n",
    "    else:\n",
    "        print(f\"Try again {count-1} number of trial remains\")\n",
    "        count -= 1 #if answer is wrong i ake him to reduce the count by one so he has less chances count=count-1\n",
    "        \n",
    "        \n",
    "print(\"Thanks for participation\")\n"
   ]
  },
  {
   "cell_type": "code",
   "execution_count": null,
   "id": "a89a91f1",
   "metadata": {},
   "outputs": [],
   "source": [
    "count=2"
   ]
  },
  {
   "cell_type": "code",
   "execution_count": null,
   "id": "41250827",
   "metadata": {},
   "outputs": [],
   "source": [
    "count /= 5 #count = count / 5\n",
    "count"
   ]
  },
  {
   "cell_type": "code",
   "execution_count": null,
   "id": "975bfe73",
   "metadata": {},
   "outputs": [],
   "source": [
    "count=count/2\n",
    "count"
   ]
  },
  {
   "cell_type": "code",
   "execution_count": null,
   "id": "0b21a54b",
   "metadata": {},
   "outputs": [],
   "source": []
  },
  {
   "cell_type": "code",
   "execution_count": null,
   "id": "5a031e01",
   "metadata": {},
   "outputs": [],
   "source": [
    "count +=1\n",
    "#count=1\n",
    "#count = count + 1"
   ]
  },
  {
   "cell_type": "code",
   "execution_count": null,
   "id": "b576157e",
   "metadata": {},
   "outputs": [],
   "source": [
    "count"
   ]
  },
  {
   "cell_type": "code",
   "execution_count": null,
   "id": "b79ae55e",
   "metadata": {},
   "outputs": [],
   "source": [
    "'''\n",
    "0\n",
    "1\n",
    "2\n",
    "3\n",
    "4\n",
    "\n",
    "'''"
   ]
  },
  {
   "cell_type": "code",
   "execution_count": null,
   "id": "85b08598",
   "metadata": {},
   "outputs": [],
   "source": [
    "print(0)\n",
    "print(1)\n",
    "print(2)\n",
    "print(3)\n",
    "print(4)\n"
   ]
  },
  {
   "cell_type": "code",
   "execution_count": null,
   "id": "4b138c8b",
   "metadata": {},
   "outputs": [],
   "source": []
  },
  {
   "cell_type": "code",
   "execution_count": 4,
   "id": "ec878439",
   "metadata": {},
   "outputs": [],
   "source": [
    "# n=0\n",
    "# while (n<=20):\n",
    "#     print(n)\n",
    "#     n+=1 \n",
    "    "
   ]
  },
  {
   "cell_type": "code",
   "execution_count": 1,
   "id": "1e87128d",
   "metadata": {},
   "outputs": [
    {
     "name": "stdout",
     "output_type": "stream",
     "text": [
      "0\n",
      "1\n",
      "2\n",
      "3\n",
      "4\n",
      "5\n",
      "6\n",
      "7\n",
      "8\n",
      "9\n"
     ]
    }
   ],
   "source": [
    "n=0\n",
    "while (n<10):\n",
    "    print(n)\n",
    "    n+=1\n",
    "    "
   ]
  },
  {
   "cell_type": "code",
   "execution_count": null,
   "id": "ec44acb9",
   "metadata": {},
   "outputs": [],
   "source": [
    "'''\n",
    "Q1: WAP to print the following:\n",
    "\n",
    "1: First 10 even numbers.\n",
    "2: First 10 odd numbers.\n",
    "3: first 10 natural numbers\n",
    "4: first 10 whole number\n",
    "\n",
    "\n",
    "'''"
   ]
  },
  {
   "cell_type": "code",
   "execution_count": 7,
   "id": "0b0e7b18",
   "metadata": {},
   "outputs": [
    {
     "name": "stdout",
     "output_type": "stream",
     "text": [
      "0\n",
      "2\n",
      "4\n",
      "6\n",
      "8\n",
      "10\n",
      "12\n",
      "14\n",
      "16\n",
      "18\n"
     ]
    }
   ],
   "source": [
    "#0,2,4,6,8,10,12,14,16,18\n",
    "\n",
    "n=0\n",
    "while(n<=18):\n",
    "#     if n%2==0:\n",
    "    print(n)\n",
    "    n+=2\n",
    "    "
   ]
  },
  {
   "cell_type": "code",
   "execution_count": 4,
   "id": "da70c6a9",
   "metadata": {},
   "outputs": [
    {
     "name": "stdout",
     "output_type": "stream",
     "text": [
      "1\n",
      "3\n",
      "5\n",
      "7\n",
      "9\n",
      "11\n",
      "13\n",
      "15\n",
      "17\n",
      "19\n"
     ]
    }
   ],
   "source": [
    "#1,3,\n",
    "\n",
    "n=1\n",
    "while(n<=20):\n",
    "    if (n%2!=0):\n",
    "        print(n)\n",
    "    n+=1"
   ]
  },
  {
   "cell_type": "code",
   "execution_count": 5,
   "id": "d80491ea",
   "metadata": {},
   "outputs": [
    {
     "name": "stdout",
     "output_type": "stream",
     "text": [
      "1\n",
      "2\n",
      "3\n",
      "4\n",
      "5\n",
      "6\n",
      "7\n",
      "8\n",
      "9\n",
      "10\n"
     ]
    }
   ],
   "source": [
    "n=1\n",
    "while(n<=10):\n",
    "    print(n)\n",
    "    n+=1"
   ]
  },
  {
   "cell_type": "code",
   "execution_count": 6,
   "id": "cc08e39f",
   "metadata": {},
   "outputs": [
    {
     "name": "stdout",
     "output_type": "stream",
     "text": [
      "0\n",
      "1\n",
      "2\n",
      "3\n",
      "4\n",
      "5\n",
      "6\n",
      "7\n",
      "8\n",
      "9\n"
     ]
    }
   ],
   "source": [
    "n=0\n",
    "while(n<=9):\n",
    "    print(n)\n",
    "    n+=1"
   ]
  },
  {
   "cell_type": "code",
   "execution_count": null,
   "id": "2cfa4bf2",
   "metadata": {},
   "outputs": [],
   "source": []
  },
  {
   "cell_type": "code",
   "execution_count": null,
   "id": "eab6e809",
   "metadata": {},
   "outputs": [],
   "source": []
  },
  {
   "cell_type": "code",
   "execution_count": null,
   "id": "ae828bd9",
   "metadata": {},
   "outputs": [],
   "source": [
    "n=1"
   ]
  },
  {
   "cell_type": "code",
   "execution_count": 5,
   "id": "45acf1fc",
   "metadata": {},
   "outputs": [
    {
     "name": "stdout",
     "output_type": "stream",
     "text": [
      "0\n",
      "2\n",
      "4\n",
      "6\n",
      "8\n",
      "10\n",
      "12\n",
      "14\n",
      "16\n",
      "18\n",
      "End of while\n"
     ]
    }
   ],
   "source": [
    "# first 10 even numbers\n",
    "\n",
    "n=0\n",
    "while (n<=18):\n",
    "    print(n)\n",
    "    n=n+2\n",
    "    \n",
    "print('End of while')"
   ]
  },
  {
   "cell_type": "code",
   "execution_count": 6,
   "id": "218b4e76",
   "metadata": {},
   "outputs": [
    {
     "name": "stdout",
     "output_type": "stream",
     "text": [
      "1\n",
      "3\n",
      "5\n",
      "7\n",
      "9\n",
      "11\n",
      "13\n",
      "15\n",
      "17\n",
      "19\n"
     ]
    }
   ],
   "source": [
    "# first 10 odd numbers\n",
    "\n",
    "n=1\n",
    "while (n<20):\n",
    "    print(n)\n",
    "    n=n+2"
   ]
  },
  {
   "cell_type": "code",
   "execution_count": null,
   "id": "950bf12e",
   "metadata": {},
   "outputs": [],
   "source": [
    "n=0\n",
    "count=0\n",
    "while (count <37):\n",
    "    print (n)\n",
    "    n=n+2\n",
    "    count=count+1"
   ]
  },
  {
   "cell_type": "code",
   "execution_count": null,
   "id": "e82ec267",
   "metadata": {},
   "outputs": [],
   "source": []
  },
  {
   "cell_type": "code",
   "execution_count": null,
   "id": "8ef64a8f",
   "metadata": {},
   "outputs": [],
   "source": [
    "print(1)\n",
    "print(2)\n",
    "print(3)\n",
    "print(4)\n",
    "print(5)"
   ]
  },
  {
   "cell_type": "code",
   "execution_count": null,
   "id": "f9a45a37",
   "metadata": {},
   "outputs": [],
   "source": [
    "#first 10 natural numbers, 1 2 3 4 5 6 7 8 9 10\n",
    "\n",
    "n=1\n",
    "\n",
    "while (n<=10):\n",
    "    print(n)\n",
    "    n=n+1\n",
    "    \n",
    "print(\"while loop exit !!\")    "
   ]
  },
  {
   "cell_type": "code",
   "execution_count": null,
   "id": "3ee6d75b",
   "metadata": {},
   "outputs": [],
   "source": [
    "#first 10 natural number in reverse order\n",
    "\n",
    "#10 9 8,  7 6, 5,4,3,2,1"
   ]
  },
  {
   "cell_type": "code",
   "execution_count": null,
   "id": "f56fbd0b",
   "metadata": {},
   "outputs": [],
   "source": []
  },
  {
   "cell_type": "code",
   "execution_count": null,
   "id": "a7950240",
   "metadata": {},
   "outputs": [],
   "source": []
  },
  {
   "cell_type": "code",
   "execution_count": null,
   "id": "8376a7b8",
   "metadata": {},
   "outputs": [],
   "source": [
    "#first 10 natural numbers in reverse order\n",
    "\n",
    "n=10\n",
    "while (n>=1):\n",
    "    print(n)\n",
    "    n=n-1"
   ]
  },
  {
   "cell_type": "code",
   "execution_count": null,
   "id": "7ad1bca8",
   "metadata": {},
   "outputs": [],
   "source": [
    "#first 10 whole numbers"
   ]
  },
  {
   "cell_type": "code",
   "execution_count": null,
   "id": "9d529b34",
   "metadata": {},
   "outputs": [],
   "source": [
    "n=1\n",
    "\n",
    "while(n<11):\n",
    "    print(n)\n",
    "    n=n+1"
   ]
  },
  {
   "cell_type": "code",
   "execution_count": null,
   "id": "1ccc2cc1",
   "metadata": {},
   "outputs": [],
   "source": [
    "#first 10 whole numbers\n",
    "\n",
    "n=0\n",
    "while (n<10):\n",
    "    print(n,end=',')\n",
    "    n=n+1"
   ]
  },
  {
   "cell_type": "code",
   "execution_count": null,
   "id": "c8aba8b0",
   "metadata": {},
   "outputs": [],
   "source": [
    "'''\n",
    "WAP to print 10 first positive integers and their square\n",
    "\n",
    "1 1\n",
    "2 4\n",
    "3 9\n",
    "4 16\n",
    "5 25\n",
    ".\n",
    ".\n",
    "10 100\n",
    "\n",
    "\n",
    "'''"
   ]
  },
  {
   "cell_type": "code",
   "execution_count": 8,
   "id": "1083c633",
   "metadata": {},
   "outputs": [
    {
     "name": "stdout",
     "output_type": "stream",
     "text": [
      "1 1\n",
      "2 4\n",
      "3 9\n",
      "4 16\n",
      "5 25\n",
      "6 36\n",
      "7 49\n",
      "8 64\n",
      "9 81\n",
      "10 100\n"
     ]
    }
   ],
   "source": [
    "n=1\n",
    "while(n<=10):\n",
    "    print(n, n*n)\n",
    "    n+=1"
   ]
  },
  {
   "cell_type": "code",
   "execution_count": null,
   "id": "700a9b74",
   "metadata": {},
   "outputs": [],
   "source": []
  },
  {
   "cell_type": "code",
   "execution_count": null,
   "id": "467478a3",
   "metadata": {},
   "outputs": [],
   "source": []
  },
  {
   "cell_type": "code",
   "execution_count": null,
   "id": "720802aa",
   "metadata": {},
   "outputs": [],
   "source": []
  },
  {
   "cell_type": "code",
   "execution_count": 8,
   "id": "11862453",
   "metadata": {},
   "outputs": [
    {
     "name": "stdout",
     "output_type": "stream",
     "text": [
      "1 1\n",
      "2 4\n",
      "3 9\n",
      "4 16\n",
      "5 25\n",
      "6 36\n",
      "7 49\n",
      "8 64\n",
      "9 81\n",
      "10 100\n"
     ]
    }
   ],
   "source": [
    "n=1\n",
    "while(n<=10):\n",
    "    print(n, n**2)\n",
    "    n=n+1"
   ]
  },
  {
   "cell_type": "code",
   "execution_count": null,
   "id": "5a8082e5",
   "metadata": {},
   "outputs": [],
   "source": [
    "n=0\n",
    "while (n<10):\n",
    "    print(n)\n",
    "    n=n+1"
   ]
  },
  {
   "cell_type": "code",
   "execution_count": null,
   "id": "d8b9788e",
   "metadata": {},
   "outputs": [],
   "source": [
    "n=1\n",
    "while (n<=10):\n",
    "    print(n, n*n)\n",
    "    n=n+1"
   ]
  },
  {
   "cell_type": "code",
   "execution_count": 11,
   "id": "42123945",
   "metadata": {},
   "outputs": [
    {
     "name": "stdout",
     "output_type": "stream",
     "text": [
      "1,2,3,4,5,6,7,8,9,10,"
     ]
    }
   ],
   "source": [
    "n=1\n",
    "while n<=10:\n",
    "    print(n, end=',')\n",
    "    n=n+1"
   ]
  },
  {
   "cell_type": "code",
   "execution_count": null,
   "id": "bb0cd6da",
   "metadata": {},
   "outputs": [],
   "source": [
    "'''\n",
    "take a input from the user for series length.\n",
    "\n",
    "WAP to print a series: length=5\n",
    "\n",
    "o/p: 10, 20, 30,40,50\n",
    "\n",
    "\n",
    "\n",
    "\n",
    "    \n",
    "\n",
    "'''"
   ]
  },
  {
   "cell_type": "code",
   "execution_count": 10,
   "id": "1fee00a7",
   "metadata": {},
   "outputs": [
    {
     "name": "stdout",
     "output_type": "stream",
     "text": [
      "length: 7\n",
      "10,20,30,40,50,60,70,"
     ]
    }
   ],
   "source": [
    "n=int(input(\"length: \"))\n",
    "i=1\n",
    "while(i<=n):\n",
    "    print(i*10, end=\",\")\n",
    "    i+=1"
   ]
  },
  {
   "cell_type": "code",
   "execution_count": null,
   "id": "95990cca",
   "metadata": {},
   "outputs": [],
   "source": []
  },
  {
   "cell_type": "code",
   "execution_count": null,
   "id": "f628307e",
   "metadata": {},
   "outputs": [],
   "source": []
  },
  {
   "cell_type": "code",
   "execution_count": null,
   "id": "6cabc59c",
   "metadata": {},
   "outputs": [],
   "source": []
  },
  {
   "cell_type": "code",
   "execution_count": null,
   "id": "e8ba6e22",
   "metadata": {},
   "outputs": [],
   "source": []
  },
  {
   "cell_type": "code",
   "execution_count": null,
   "id": "8a5188eb",
   "metadata": {},
   "outputs": [],
   "source": []
  },
  {
   "cell_type": "code",
   "execution_count": null,
   "id": "63e2dba0",
   "metadata": {},
   "outputs": [],
   "source": []
  },
  {
   "cell_type": "code",
   "execution_count": null,
   "id": "47299430",
   "metadata": {},
   "outputs": [],
   "source": [
    "length=int(input('Enter the length of series: '))\n",
    "\n",
    "n=10\n",
    "while(length>0):\n",
    "    print(n, end=',')\n",
    "    n=n+10 # n += 10\n",
    "    length -= 1 # lenght=length-1"
   ]
  },
  {
   "cell_type": "code",
   "execution_count": 1,
   "id": "eee0f65c",
   "metadata": {},
   "outputs": [
    {
     "name": "stdout",
     "output_type": "stream",
     "text": [
      "10\n",
      "20\n",
      "30\n",
      "40\n",
      "50\n",
      "60\n",
      "70\n",
      "80\n",
      "90\n",
      "100\n"
     ]
    }
   ],
   "source": [
    "n=1\n",
    "while n<=10:\n",
    "    print(n*10)\n",
    "    n=n+1"
   ]
  },
  {
   "cell_type": "code",
   "execution_count": 17,
   "id": "095c2bb8",
   "metadata": {},
   "outputs": [
    {
     "name": "stdout",
     "output_type": "stream",
     "text": [
      "enter the length of series:5\n",
      "10,20,30,40,50,"
     ]
    }
   ],
   "source": [
    "length=int(input('enter the length of series:')) #5:::; 1,2,3,4,5,6,7,8\n",
    "n=1\n",
    "while(n<=length): \n",
    "    print(n*10, end=',')\n",
    "    n=n+1"
   ]
  },
  {
   "cell_type": "code",
   "execution_count": null,
   "id": "d41b5d47",
   "metadata": {},
   "outputs": [],
   "source": [
    "len_of_series=int(input(\"Please enter the len of series\"))\n",
    "\n",
    "num=10\n",
    "count=0\n",
    "while (count < len_of_series):\n",
    "    print(num, end=' , ')\n",
    "    num += 10\n",
    "    count += 1"
   ]
  },
  {
   "cell_type": "code",
   "execution_count": null,
   "id": "00395816",
   "metadata": {},
   "outputs": [],
   "source": [
    "l=int(input(\"enter the series of length\"))\n",
    "n=100\n",
    "while(l>0) :\n",
    "    print(n, end=',')\n",
    "    n=n-5\n",
    "    l-=1 #l=l-1\n",
    "\n"
   ]
  },
  {
   "cell_type": "code",
   "execution_count": null,
   "id": "3b51882d",
   "metadata": {},
   "outputs": [],
   "source": [
    "'''\n",
    "take a input from the user for series length.\n",
    "WAP to print a series:6\n",
    "\n",
    "o/p: 100, 95, 90, 85, 80, 75..\n",
    "\n",
    "5*20, 5*19, 5*18,\n",
    "\n",
    "# How many times your loop is running. control this \n",
    "\n",
    "\n",
    "'''"
   ]
  },
  {
   "cell_type": "code",
   "execution_count": 13,
   "id": "108738c9",
   "metadata": {},
   "outputs": [
    {
     "name": "stdout",
     "output_type": "stream",
     "text": [
      "enter num: 6\n",
      "100,95,90,85,80,75,"
     ]
    }
   ],
   "source": [
    "n= int(input(\"enter num: \"))\n",
    "i=1\n",
    "j=20\n",
    "while(i<=n):\n",
    "    k=5*j\n",
    "    print(k, end=\",\")\n",
    "    i+=1\n",
    "    j-=1\n",
    "    \n"
   ]
  },
  {
   "cell_type": "code",
   "execution_count": null,
   "id": "7a8ac018",
   "metadata": {},
   "outputs": [],
   "source": []
  },
  {
   "cell_type": "code",
   "execution_count": null,
   "id": "a03bc134",
   "metadata": {},
   "outputs": [],
   "source": []
  },
  {
   "cell_type": "code",
   "execution_count": null,
   "id": "f791183d",
   "metadata": {},
   "outputs": [],
   "source": []
  },
  {
   "cell_type": "code",
   "execution_count": null,
   "id": "3668b84c",
   "metadata": {},
   "outputs": [],
   "source": [
    "l=int(input(\"enter the series of the length:\")) #5\n",
    "n=100\n",
    "while(l!=0):\n",
    "    print(n,end=',')\n",
    "    n=n-5\n",
    "    l-=1\n"
   ]
  },
  {
   "cell_type": "code",
   "execution_count": null,
   "id": "b21eff5d",
   "metadata": {},
   "outputs": [],
   "source": [
    "ab=int(input('enter a number'))\n",
    "n=100\n",
    "while (ab>0):\n",
    "    print(n, end=',')\n",
    "    n=n-5\n",
    "    ab=ab-1\n"
   ]
  },
  {
   "cell_type": "code",
   "execution_count": null,
   "id": "f4023581",
   "metadata": {},
   "outputs": [],
   "source": []
  },
  {
   "cell_type": "code",
   "execution_count": null,
   "id": "b68c9481",
   "metadata": {},
   "outputs": [],
   "source": []
  },
  {
   "cell_type": "code",
   "execution_count": null,
   "id": "81525e36",
   "metadata": {},
   "outputs": [],
   "source": [
    "n=20    #20-8\n",
    "u=5\n",
    "while n>20-u:\n",
    "    print(n*5)\n",
    "    n-=1"
   ]
  },
  {
   "cell_type": "code",
   "execution_count": null,
   "id": "3f9bb0ac",
   "metadata": {},
   "outputs": [],
   "source": [
    "u=int(input('Enter the length: ')) #5\n",
    "n=20\n",
    "while (n>20-u): #20-u=20-5=15\n",
    "    print(n*5, end=',')\n",
    "    n-=1"
   ]
  },
  {
   "cell_type": "code",
   "execution_count": null,
   "id": "c96152ac",
   "metadata": {},
   "outputs": [],
   "source": [
    "num=int(input('Enter the number for length of series')) #5\n",
    "count=0\n",
    "while (count<num): #0,1,2,3,4\n",
    "    Value=100-(count*5) #100-0, 100-(1*5), 100-(2*5)\n",
    "    print(Value,end=',')\n",
    "    count+=1\n",
    "\n"
   ]
  },
  {
   "cell_type": "code",
   "execution_count": null,
   "id": "4ff6d097",
   "metadata": {},
   "outputs": [],
   "source": [
    "length=int(input(\"enter the length\"))#5\n",
    "c=0\n",
    "n=100\n",
    "while(length>c):\n",
    "#     v=n\n",
    "    print(n,end=',')\n",
    "    n=n-5\n",
    "    c=c+1\n"
   ]
  },
  {
   "cell_type": "code",
   "execution_count": null,
   "id": "a8869383",
   "metadata": {},
   "outputs": [],
   "source": []
  },
  {
   "cell_type": "code",
   "execution_count": null,
   "id": "0bdd501f",
   "metadata": {},
   "outputs": [],
   "source": [
    "length=int(input(\"enter the length of the series \"))\n",
    "n=100\n",
    "while(n<=length):\n",
    "    print(n-5, end=\",\")\n",
    "    n=n-5\n"
   ]
  },
  {
   "cell_type": "code",
   "execution_count": null,
   "id": "2d021c43",
   "metadata": {},
   "outputs": [],
   "source": [
    "length=int(input(\"enter the length of the series \"))\n",
    "n=100\n",
    "while(n>=length):\n",
    "    print(n-5, end=\",\")\n",
    "    n=n-5\n"
   ]
  },
  {
   "cell_type": "code",
   "execution_count": null,
   "id": "ccf7df8d",
   "metadata": {},
   "outputs": [],
   "source": []
  },
  {
   "cell_type": "code",
   "execution_count": null,
   "id": "8b748c9a",
   "metadata": {},
   "outputs": [],
   "source": []
  },
  {
   "cell_type": "code",
   "execution_count": null,
   "id": "a69e80ff",
   "metadata": {},
   "outputs": [],
   "source": [
    "\n",
    "ls=int(input('enter the len of series'))\n",
    "n=100\n",
    "while(ls>0):\n",
    "    print(n, end=',')\n",
    "    n -= 5\n",
    "    ls -=1 "
   ]
  },
  {
   "cell_type": "code",
   "execution_count": null,
   "id": "ecb8e7f3",
   "metadata": {},
   "outputs": [],
   "source": [
    "len_of_series=int(input(\"Please enter the len of series\"))\n",
    "\n",
    "num=100\n",
    "count=0\n",
    "while (count < len_of_series):\n",
    "    print(num, end=' , ')\n",
    "    num -= 5\n",
    "    count += 1"
   ]
  },
  {
   "cell_type": "code",
   "execution_count": null,
   "id": "9b803f0c",
   "metadata": {},
   "outputs": [],
   "source": [
    "'''\n",
    "WAP to compute factorial of a number. take a input from the user\n",
    "\n",
    "5! \n",
    "0!=1\n",
    "\n",
    "factorial is not defined for negative integers.\n",
    "make sure that while should not go into infite loop\n",
    "\n",
    "\n",
    "5*4*3*2*1 = 120\n",
    "\n",
    "fact = fact * n\n",
    "6*5*4*3*2*1 = 720\n"
   ]
  },
  {
   "cell_type": "code",
   "execution_count": 16,
   "id": "2b28849d",
   "metadata": {},
   "outputs": [
    {
     "name": "stdout",
     "output_type": "stream",
     "text": [
      "enter num: 5\n",
      "120\n"
     ]
    }
   ],
   "source": [
    "n = int(input(\"enter num: \"))\n",
    "f=1\n",
    "if n<0:\n",
    "    print(\"invalid\")\n",
    "elif n==0:\n",
    "    print(\"1\")\n",
    "else:\n",
    "    while(n>=1):\n",
    "        f=f*n\n",
    "        n-=1\n",
    "    print(f)"
   ]
  },
  {
   "cell_type": "code",
   "execution_count": null,
   "id": "27cfae28",
   "metadata": {},
   "outputs": [],
   "source": []
  },
  {
   "cell_type": "code",
   "execution_count": null,
   "id": "2e61e7fe",
   "metadata": {},
   "outputs": [],
   "source": []
  },
  {
   "cell_type": "code",
   "execution_count": null,
   "id": "507e2e4f",
   "metadata": {},
   "outputs": [],
   "source": []
  },
  {
   "cell_type": "code",
   "execution_count": null,
   "id": "9fadd00a",
   "metadata": {},
   "outputs": [],
   "source": []
  },
  {
   "cell_type": "code",
   "execution_count": null,
   "id": "e9ebe078",
   "metadata": {},
   "outputs": [],
   "source": []
  },
  {
   "cell_type": "code",
   "execution_count": null,
   "id": "371e68cb",
   "metadata": {},
   "outputs": [],
   "source": []
  },
  {
   "cell_type": "code",
   "execution_count": null,
   "id": "bcfa3447",
   "metadata": {},
   "outputs": [],
   "source": []
  },
  {
   "cell_type": "code",
   "execution_count": null,
   "id": "5f2f17a8",
   "metadata": {},
   "outputs": [],
   "source": []
  },
  {
   "cell_type": "code",
   "execution_count": 4,
   "id": "9d67100f",
   "metadata": {},
   "outputs": [
    {
     "name": "stdout",
     "output_type": "stream",
     "text": [
      "Enter the number for factorial: -5\n",
      "1\n"
     ]
    }
   ],
   "source": [
    "length=int(input(\"Enter the number for factorial: \"))\n",
    "n=1\n",
    "fact=1\n",
    "while n<=length:  #n<=5\n",
    "    fact = fact * n  #2*3 = 6 * 4 =24*5= 120\n",
    "    n=n+1\n",
    "    \n",
    "print(fact)"
   ]
  },
  {
   "cell_type": "code",
   "execution_count": 22,
   "id": "64cc47a8",
   "metadata": {},
   "outputs": [
    {
     "name": "stdout",
     "output_type": "stream",
     "text": [
      "enter the number: 54\n",
      "factorial of the number is : 230843697339241380472092742683027581083278564571807941132288000000000000\n"
     ]
    }
   ],
   "source": [
    "n=int(input('enter the number: ')) #5\n",
    "fact=1\n",
    "if n>0:\n",
    "    while n>0:\n",
    "        fact=fact*n   #1*5, 5*4, 20*3 (5*4*3*2*1)\n",
    "        n=n-1          #4, #3\n",
    "    print('factorial of the number is :',fact)\n",
    "elif n==0:\n",
    "    print('factorial of the number is :',fact)\n",
    "else:\n",
    "    print('factorial does not exist for negative number')\n",
    "    \n",
    "\n"
   ]
  },
  {
   "cell_type": "code",
   "execution_count": null,
   "id": "1a353aa5",
   "metadata": {},
   "outputs": [],
   "source": [
    "n=int(input(\"enter your number to find factorial\"))\n",
    "fact=1\n",
    "while n>0:\n",
    "    fact=fact*n\n",
    "    n=n-1\n",
    "print(fact)\n"
   ]
  },
  {
   "cell_type": "code",
   "execution_count": null,
   "id": "67de59e9",
   "metadata": {},
   "outputs": [],
   "source": [
    "n=int(input(\"Enter the number\"))\n",
    "f=1\n",
    "if n>=0:\n",
    "    while(n>0):\n",
    "        f=f*n\n",
    "        n=n-1\n",
    "    print(\"factorial of the number is:\", f)\n",
    "elif n==0:\n",
    "     print(\"factorial of the number is:\", f)\n",
    "else: \n",
    "    print(\"Invalid output\")\n"
   ]
  },
  {
   "cell_type": "code",
   "execution_count": null,
   "id": "63a904ef",
   "metadata": {},
   "outputs": [],
   "source": []
  },
  {
   "cell_type": "code",
   "execution_count": null,
   "id": "ac79688b",
   "metadata": {},
   "outputs": [],
   "source": []
  },
  {
   "cell_type": "code",
   "execution_count": null,
   "id": "df14b2d7",
   "metadata": {},
   "outputs": [],
   "source": []
  },
  {
   "cell_type": "code",
   "execution_count": null,
   "id": "e072951f",
   "metadata": {},
   "outputs": [],
   "source": []
  },
  {
   "cell_type": "code",
   "execution_count": null,
   "id": "5dd4ac12",
   "metadata": {},
   "outputs": [],
   "source": [
    "n=5\n",
    "fact=1\n",
    "while n>0:\n",
    "    fact=fact*n\n",
    "    n-=1\n",
    "    \n",
    "print(fact)\n",
    "    "
   ]
  },
  {
   "cell_type": "code",
   "execution_count": null,
   "id": "b3a58332",
   "metadata": {},
   "outputs": [],
   "source": []
  },
  {
   "cell_type": "code",
   "execution_count": null,
   "id": "a684b2f3",
   "metadata": {},
   "outputs": [],
   "source": [
    "type(n1)"
   ]
  },
  {
   "cell_type": "code",
   "execution_count": null,
   "id": "d2d3f2dd",
   "metadata": {},
   "outputs": [],
   "source": [
    "n1=input('Enter a number :')\n",
    "print(n1, type(n1))\n",
    "\n",
    "n2=float(n1)\n",
    "print(n2, type(n2))\n",
    "\n",
    "n=int(n2)\n",
    "\n",
    "print(n, type(n))\n",
    "f=1\n",
    "if n>=0:\n",
    "    while n>1:\n",
    "        f=f*n\n",
    "    \n",
    "        n-=1 #n=n-1 #shorthand operator\n",
    "    print(f)\n",
    "else:\n",
    "    print(\"Negative num\")"
   ]
  },
  {
   "cell_type": "code",
   "execution_count": null,
   "id": "e1cc77bb",
   "metadata": {},
   "outputs": [],
   "source": [
    "a=float(input('Enter the first num:'))\n",
    "b=float(input('Enter the second num:'))\n",
    "\n",
    "\n",
    "c=a*b\n",
    "print(c)"
   ]
  },
  {
   "cell_type": "code",
   "execution_count": null,
   "id": "4bba673e",
   "metadata": {},
   "outputs": [],
   "source": []
  },
  {
   "cell_type": "code",
   "execution_count": null,
   "id": "c27b985f",
   "metadata": {},
   "outputs": [],
   "source": []
  },
  {
   "cell_type": "code",
   "execution_count": null,
   "id": "adec2bcd",
   "metadata": {},
   "outputs": [],
   "source": []
  },
  {
   "cell_type": "code",
   "execution_count": null,
   "id": "1e3cde6d",
   "metadata": {},
   "outputs": [],
   "source": [
    "n=int(input(\"enter the number: \"))\n",
    "factorial=1\n",
    "if n>0:\n",
    "    while(n>=1):\n",
    "        factorial=factorial*n\n",
    "        n=n-1\n",
    "    print(factorial)\n",
    "else:\n",
    "    print(\"Invalid Input, Factorial is not defined for Negative Numbers \")\n",
    "    \n"
   ]
  },
  {
   "cell_type": "code",
   "execution_count": null,
   "id": "7a691629",
   "metadata": {},
   "outputs": [],
   "source": [
    "n=int(input('enter the number:'))\n",
    "factorial=1\n",
    "while(n>=1):\n",
    "    factorial=factorial*n\n",
    "    n=n-1\n",
    "\n",
    "print(factorial)"
   ]
  },
  {
   "cell_type": "code",
   "execution_count": null,
   "id": "85e5758b",
   "metadata": {},
   "outputs": [],
   "source": [
    "num=int(input())\n",
    "\n",
    "fact=1\n",
    "if (num < 0):\n",
    "    print('Invalid Input')\n",
    "    \n",
    "else:\n",
    "    while (num > 0):\n",
    "        fact = fact * num\n",
    "        num = num - 1\n",
    "    print(fact)\n",
    "    \n"
   ]
  },
  {
   "cell_type": "code",
   "execution_count": null,
   "id": "87e2f1ee",
   "metadata": {},
   "outputs": [],
   "source": [
    "'''\n",
    "WAP to find the number of digits in the user given number\n",
    "\n",
    "eg:  4532 : 4 digit number\n",
    "\n",
    "675: 3 digit number\n",
    "\n",
    "52342: 5\n",
    "\n",
    "4532\n",
    "\n",
    "453\n",
    "\n",
    "45\n",
    "\n",
    "4\n",
    "\n",
    "4532 / 10 = 453.2\n",
    "\n",
    "count=0\n",
    "count= count+1\n",
    "\n",
    "n=4532\n",
    "while (n>0)\n",
    "n=n//10\n",
    "\n",
    "4532 // 10 = 453\n",
    "453 // 10=45\n",
    "45//10=4\n",
    "4//10=0\n",
    "\n",
    "\n",
    "150\n",
    "-150\n",
    "'''"
   ]
  },
  {
   "cell_type": "code",
   "execution_count": 11,
   "id": "8c31dfba",
   "metadata": {},
   "outputs": [
    {
     "name": "stdout",
     "output_type": "stream",
     "text": [
      "Enter the number: 5656526\n",
      "the number of digits are: 7\n"
     ]
    }
   ],
   "source": [
    "n=int(input(\"Enter the number: \"))\n",
    "count=0\n",
    "while n>0:\n",
    "    n=n//10\n",
    "    count+=1\n",
    "print('the number of digits are:',count)\n"
   ]
  },
  {
   "cell_type": "code",
   "execution_count": null,
   "id": "c4358dbb",
   "metadata": {},
   "outputs": [],
   "source": [
    "n=abs(int(input(\"Enter the number: \")))\n",
    "count=0\n",
    "while n>0:\n",
    "    n=n//10\n",
    "    count+=1\n",
    "print('the number of digits are:',count)"
   ]
  },
  {
   "cell_type": "code",
   "execution_count": null,
   "id": "8ad5d72a",
   "metadata": {},
   "outputs": [],
   "source": []
  },
  {
   "cell_type": "code",
   "execution_count": null,
   "id": "624257f6",
   "metadata": {},
   "outputs": [],
   "source": [
    "num=int(input('Enter the number and get the length'))\n",
    "count=0\n",
    "if (num<0):\n",
    "    num=num*(-1)\n",
    "while (num>0):\n",
    "    num=num//10\n",
    "    count+=1\n",
    "    \n",
    "print(count)\n"
   ]
  },
  {
   "cell_type": "code",
   "execution_count": null,
   "id": "48a700f3",
   "metadata": {},
   "outputs": [],
   "source": [
    "n=int(input(\"enter the digit\"))\n",
    "c=0\n",
    "d=0\n",
    "if n<0:\n",
    "    n1=-n\n",
    "    while n1>0:\n",
    "        n1=n1//10\n",
    "        d=d+1\n",
    "    print(d)\n",
    "else:\n",
    "    while n>0:\n",
    "        n=n//10\n",
    "        c=c+1\n",
    "    print(c)"
   ]
  },
  {
   "cell_type": "code",
   "execution_count": null,
   "id": "b2a1fd91",
   "metadata": {},
   "outputs": [],
   "source": [
    "n=int(input(\"Enter your number\"))\n",
    "c=0\n",
    "if(n<0):\n",
    "    n=n*-1\n",
    "while(n>0):\n",
    "    n=n//10\n",
    "    c = c+ 1\n",
    "    print(\"n=\", n)\n",
    "    print(\"C=\", c)\n",
    "print(\"number of digits is\", c)\n"
   ]
  },
  {
   "cell_type": "code",
   "execution_count": null,
   "id": "f644918a",
   "metadata": {},
   "outputs": [],
   "source": [
    "n=abs(int(input(\"enter the digit: \")))\n",
    "c=0\n",
    "while n>0:\n",
    "    n=n//10\n",
    "    c=c+1\n",
    "print(c)\n"
   ]
  },
  {
   "cell_type": "code",
   "execution_count": null,
   "id": "28ab2425",
   "metadata": {},
   "outputs": [],
   "source": [
    "num = int(input('enter the number: '))\n",
    "\n",
    "digits=1\n",
    "\n",
    "while (num > 9):\n",
    "    num = num // 10\n",
    "    digits += 1\n",
    "    \n",
    "print(digits)\n"
   ]
  },
  {
   "cell_type": "code",
   "execution_count": null,
   "id": "c62bdaac",
   "metadata": {},
   "outputs": [],
   "source": [
    "n=int(input(\"enter the digit\"))\n",
    "c=0\n",
    "d=0\n",
    "if n<0:\n",
    "    n1=-n\n",
    "    while n1>0:\n",
    "        n1=n1//10\n",
    "        d=d+1\n",
    "    print(d)\n",
    "else:\n",
    "    while n>0:\n",
    "        n=n//10\n",
    "        c=c+1\n",
    "    print(c)\n"
   ]
  },
  {
   "cell_type": "code",
   "execution_count": null,
   "id": "a0a6bf47",
   "metadata": {},
   "outputs": [],
   "source": [
    "n=int(input(\"enter the digits: \"))\n",
    "c=0\n",
    "while n>0:\n",
    "    n=n//10\n",
    "    c+=1\n",
    "print(c)\n"
   ]
  },
  {
   "cell_type": "code",
   "execution_count": null,
   "id": "c2b69b3e",
   "metadata": {},
   "outputs": [],
   "source": [
    "num = abs(int(input('enter the number: ')))\n",
    "print(num)\n",
    "\n",
    "digits=1\n",
    "\n",
    "while (num > 9):\n",
    "    num = num // 10\n",
    "    digits += 1\n",
    "    \n",
    "print(digits)\n"
   ]
  },
  {
   "cell_type": "code",
   "execution_count": null,
   "id": "ea6994fd",
   "metadata": {},
   "outputs": [],
   "source": [
    "ord('Z')"
   ]
  },
  {
   "cell_type": "code",
   "execution_count": null,
   "id": "a349132c",
   "metadata": {},
   "outputs": [],
   "source": [
    "n=65\n",
    "while(n<=90):\n",
    "    print(chr(n), end=',')\n",
    "    n=n+1"
   ]
  },
  {
   "cell_type": "code",
   "execution_count": null,
   "id": "c7999469",
   "metadata": {},
   "outputs": [],
   "source": [
    "n=int(input('enter the number'))\n",
    "if n%2==0:\n",
    "    if(n>=2 and n<=5):\n",
    "        print('Not W')\n",
    "    elif(n>=6 and n<20):\n",
    "        print('W')\n",
    "    elif(n>20):\n",
    "        print('W')  \n",
    "    \n",
    "else:\n",
    "    print('Weird')"
   ]
  },
  {
   "cell_type": "code",
   "execution_count": null,
   "id": "d1b59343",
   "metadata": {},
   "outputs": [],
   "source": [
    "Task\n",
    "Given an integer, , perform the following conditional actions:\n",
    "If n is odd, print Weird\n",
    "If n is even and in the inclusive range of 2 to 5, print Not Weird\n",
    "If n is even and in the inclusive range of 6 to 20, print Weird\n",
    "If n is even and greater than 20 , print Not Weird\n",
    "Input Format\n",
    "A single line containing a positive integer, .\n",
    "Constraints\n",
    "Output Format\n",
    "Print Weird if the number is weird. Otherwise, print Not Weird.\n",
    "Sample Input 0\n",
    "3\n",
    "Sample Output 0\n",
    "Weird\n",
    "Explanation 0\n",
    " is odd and odd numbers are weird, so print Weird.\n",
    "Sample Input 1\n",
    "24\n",
    "Sample Output 1\n",
    "Not Weird\n",
    "Explanation 1\n",
    " and  is even, so it is not weird."
   ]
  },
  {
   "cell_type": "code",
   "execution_count": null,
   "id": "6b7b6568",
   "metadata": {},
   "outputs": [],
   "source": [
    "6!=6*5*4*3*2*1=720\n",
    "\n",
    "\n",
    "4!=4*3*2*1=24"
   ]
  },
  {
   "cell_type": "code",
   "execution_count": null,
   "id": "dfc442c2",
   "metadata": {},
   "outputs": [],
   "source": [
    "n=int(input(\"enter the digit:   \"))\n",
    "n2=n\n",
    "rev=0\n",
    "while n>0:\n",
    "    n=n//10\n",
    "    n1=n*10\n",
    "    n3=n2-n1\n",
    "    rev=rev*10+n3\n",
    "print(rev)\n"
   ]
  },
  {
   "cell_type": "code",
   "execution_count": null,
   "id": "ed8bc26a",
   "metadata": {},
   "outputs": [],
   "source": [
    "n= int(input('enter the number'))\n",
    "n1=n\n",
    "rev=0\n",
    "while (n>0):\n",
    "    n=n//10\n",
    "    inter=n1-(n*10)\n",
    "    rev=rev*10+inter\n",
    "    n1=n\n",
    "print(rev)\n",
    "    "
   ]
  },
  {
   "cell_type": "code",
   "execution_count": null,
   "id": "23021363",
   "metadata": {},
   "outputs": [],
   "source": [
    "num=int(input('Enter the number to get reverse string'))\n",
    "x,y,a,b=1,1,0,0\n",
    "count=1\n",
    "if(num<0):\n",
    "    b=1\n",
    "    num=num*-1\n",
    "    \n",
    "while(num/10!=0):\n",
    "    x=num//10\n",
    "    y=x*10\n",
    "    z=num-y\n",
    "    num=x\n",
    "    if(x>0):\n",
    "        a=(a+z)*10\n",
    "    else:\n",
    "        a=a+z\n",
    "    count-=1\n",
    "if(b==1):\n",
    "    print(a*-1)\n",
    "else:\n",
    "    print(a)\n"
   ]
  },
  {
   "cell_type": "code",
   "execution_count": null,
   "id": "becb5ba8",
   "metadata": {},
   "outputs": [],
   "source": [
    "n=int(input(\"Enter your number \"))\n",
    "r= n % 10\n",
    "n=n//10\n",
    "\n",
    "while (n>0):\n",
    "    r= n % 10\n",
    "    n = n//10\n",
    "    r=r*10 +r\n",
    "    \n",
    "print(r)\n"
   ]
  },
  {
   "cell_type": "code",
   "execution_count": null,
   "id": "76bebef7",
   "metadata": {},
   "outputs": [],
   "source": [
    "1234%10\n",
    "\n",
    "#1230 + 4"
   ]
  },
  {
   "cell_type": "code",
   "execution_count": null,
   "id": "036853ec",
   "metadata": {},
   "outputs": [],
   "source": [
    "1234/10"
   ]
  },
  {
   "cell_type": "code",
   "execution_count": null,
   "id": "7d773e07",
   "metadata": {},
   "outputs": [],
   "source": [
    "1234//10"
   ]
  },
  {
   "cell_type": "code",
   "execution_count": null,
   "id": "c7675d68",
   "metadata": {},
   "outputs": [],
   "source": [
    "def reverse_int(num):\n",
    "    reversed_num=0\n",
    "    while num>0:\n",
    "        d=num % 10 \n",
    "        reversed_num=reversed_num*10 + d \n",
    "        num = num //10\n",
    "    return reversed_num\n",
    "\n"
   ]
  },
  {
   "cell_type": "code",
   "execution_count": null,
   "id": "37f1506f",
   "metadata": {},
   "outputs": [],
   "source": [
    "num1=12340\n",
    "rev_num= 04321\n",
    "\n",
    "out=reverse_int(num1)\n",
    "\n",
    "if rev_num == out:\n",
    "    print('Your answer is correct !!!!')\n",
    "else:\n",
    "    print('Incorrect')"
   ]
  },
  {
   "cell_type": "code",
   "execution_count": null,
   "id": "868f39e5",
   "metadata": {},
   "outputs": [],
   "source": []
  },
  {
   "cell_type": "code",
   "execution_count": null,
   "id": "2873c943",
   "metadata": {},
   "outputs": [],
   "source": [
    "\"\"\"\n",
    "WAP to program to calculate the sum of the number upto the number given as input from the user\n",
    "\n",
    "Ex: 5\n",
    "\n",
    "1+2+3+4+5= 15\n",
    "\n",
    "7\n",
    "\n",
    "1+2+3+4+5+6+7 = 28  \n",
    "\n",
    "\"\"\""
   ]
  },
  {
   "cell_type": "code",
   "execution_count": 19,
   "id": "2348f64c",
   "metadata": {},
   "outputs": [
    {
     "name": "stdout",
     "output_type": "stream",
     "text": [
      "enter the number: 44\n",
      "The sum is  990\n"
     ]
    }
   ],
   "source": [
    "num=int(input(\"enter the number: \")) #5\n",
    "\n",
    "s=0\n",
    "while (num>0): #5, 4, 3,2,1 \n",
    "    s=s+num  #0+5=5+4=9 +3 =12 + 2= 14+1=15 \n",
    "    num=num-1\n",
    "    \n",
    "print(\"The sum is \", s)"
   ]
  },
  {
   "cell_type": "code",
   "execution_count": 21,
   "id": "8d4eddc4",
   "metadata": {},
   "outputs": [
    {
     "name": "stdout",
     "output_type": "stream",
     "text": [
      "enter the number: 54\n",
      "The sum is  1485\n"
     ]
    }
   ],
   "source": [
    "num=int(input(\"enter the number: \")) #5\n",
    "n=1\n",
    "s=0\n",
    "while (n<=num): #(n<=5)\n",
    "    s=s+n  #0+1=1+2=3+3=6+4=10 +5=15\n",
    "    n=n+1\n",
    "    \n",
    "print(\"The sum is \", s)"
   ]
  },
  {
   "cell_type": "code",
   "execution_count": null,
   "id": "ac8a5b77",
   "metadata": {},
   "outputs": [],
   "source": [
    "length=int(input(\"Enter the number for factorial: \"))\n",
    "n=1\n",
    "fact=1\n",
    "while n<=length:  #n<=5\n",
    "    fact = fact * n  #2*3 = 6 * 4 =24*5= 120\n",
    "    n=n+1\n",
    "    \n",
    "print(fact)"
   ]
  },
  {
   "cell_type": "code",
   "execution_count": null,
   "id": "92e5b287",
   "metadata": {},
   "outputs": [],
   "source": []
  },
  {
   "cell_type": "code",
   "execution_count": 12,
   "id": "cb761b19",
   "metadata": {},
   "outputs": [
    {
     "name": "stdout",
     "output_type": "stream",
     "text": [
      "1\n",
      "2\n",
      "3\n",
      "4\n",
      "5\n",
      "6\n",
      "7\n",
      "8\n",
      "9\n",
      "10\n"
     ]
    }
   ],
   "source": [
    "n=1\n",
    "while n <=10:\n",
    "    print(n)\n",
    "    n=n+1\n",
    "    "
   ]
  },
  {
   "cell_type": "code",
   "execution_count": null,
   "id": "46c977dd",
   "metadata": {},
   "outputs": [],
   "source": [
    "\"\"\"\n",
    "WAP to find the sum of each digit into an integer. you have to take integer from the user\n",
    "\n",
    "Eg:  8547 :- 8+5+4+7= 24\n",
    "     645 :-  6+4+5 = 15\n",
    "     \n",
    "HINT:\n",
    "\n",
    "r=8547 % 10 = 7 \n",
    "s=s+r\n",
    "8547 // 10 = 854\n",
    ".\n",
    ".\n",
    ".\n",
    "8 //10=0\n",
    "\n",
    "\n",
    "\"\"\""
   ]
  },
  {
   "cell_type": "code",
   "execution_count": 26,
   "id": "f3cd44eb",
   "metadata": {},
   "outputs": [
    {
     "name": "stdout",
     "output_type": "stream",
     "text": [
      "Enter the number: 451515666654464311\n",
      "Sum of the digit is 73\n"
     ]
    }
   ],
   "source": [
    "n = int(input(\"Enter the number: \"))\n",
    "s=0\n",
    "while (n>0):\n",
    "    rem=n%10\n",
    "    s=s+rem\n",
    "    n=n//10\n",
    "print(\"Sum of the digit is\", s)"
   ]
  },
  {
   "cell_type": "code",
   "execution_count": null,
   "id": "6f59943b",
   "metadata": {},
   "outputs": [],
   "source": []
  },
  {
   "cell_type": "code",
   "execution_count": null,
   "id": "4df690dd",
   "metadata": {},
   "outputs": [],
   "source": []
  },
  {
   "cell_type": "code",
   "execution_count": null,
   "id": "3978ae25",
   "metadata": {},
   "outputs": [],
   "source": []
  },
  {
   "cell_type": "code",
   "execution_count": null,
   "id": "b9c0e6ca",
   "metadata": {},
   "outputs": [],
   "source": []
  },
  {
   "cell_type": "code",
   "execution_count": null,
   "id": "3038b210",
   "metadata": {},
   "outputs": [],
   "source": []
  },
  {
   "cell_type": "code",
   "execution_count": null,
   "id": "2d012272",
   "metadata": {},
   "outputs": [],
   "source": []
  },
  {
   "cell_type": "code",
   "execution_count": null,
   "id": "881d8029",
   "metadata": {},
   "outputs": [],
   "source": []
  },
  {
   "cell_type": "code",
   "execution_count": null,
   "id": "23d897d3",
   "metadata": {},
   "outputs": [],
   "source": []
  },
  {
   "cell_type": "code",
   "execution_count": null,
   "id": "c39f0b13",
   "metadata": {},
   "outputs": [],
   "source": []
  },
  {
   "cell_type": "code",
   "execution_count": null,
   "id": "a3af338a",
   "metadata": {},
   "outputs": [],
   "source": [
    "a='12340'\n",
    "\n",
    "a[::-1]"
   ]
  },
  {
   "cell_type": "code",
   "execution_count": null,
   "id": "79e2a7ec",
   "metadata": {},
   "outputs": [],
   "source": [
    "Specail \n",
    "\n",
    "15651\n",
    "\n",
    "01245"
   ]
  },
  {
   "cell_type": "code",
   "execution_count": null,
   "id": "0ae315bd",
   "metadata": {},
   "outputs": [],
   "source": [
    "195----- 591"
   ]
  },
  {
   "cell_type": "code",
   "execution_count": null,
   "id": "f9fd9421",
   "metadata": {},
   "outputs": [],
   "source": []
  },
  {
   "cell_type": "code",
   "execution_count": null,
   "id": "e14ca35d",
   "metadata": {},
   "outputs": [],
   "source": [
    "'''\n",
    "Qus: reverse the digits in the given number. take input from the user\n",
    "\n",
    "i/p: 1234\n",
    "\n",
    "o/p: 4321 (x=x*10 + y)\n",
    "\n",
    "y= 123 % 10 = 3\n",
    "1234//10 = 123\n",
    "\n",
    "-1234\n",
    "-4321\n",
    "\n",
    " \n",
    "'''"
   ]
  },
  {
   "cell_type": "code",
   "execution_count": null,
   "id": "c47d1941",
   "metadata": {},
   "outputs": [],
   "source": [
    "n=int(input('enter the number of person: '))\n",
    "\n",
    "if n%2==0:\n",
    "    print('bulb is OFF')\n",
    "else: \n",
    "    print('bulb is ON')"
   ]
  },
  {
   "cell_type": "code",
   "execution_count": null,
   "id": "b20436e8",
   "metadata": {},
   "outputs": [],
   "source": []
  },
  {
   "cell_type": "code",
   "execution_count": null,
   "id": "539a52be",
   "metadata": {},
   "outputs": [],
   "source": []
  },
  {
   "cell_type": "code",
   "execution_count": null,
   "id": "18084c54",
   "metadata": {},
   "outputs": [],
   "source": [
    "n=int(input('enter the number'))\n",
    "flag=True\n",
    "if n < 0:\n",
    "    flag=False\n",
    "    n=n * (-1)\n",
    "rev=0\n",
    "while n>0:\n",
    "    y= n % 10\n",
    "    rev = rev*10 + y\n",
    "    n = n // 10\n",
    "    \n",
    "if flag == True:\n",
    "    print(rev)\n",
    "else: \n",
    "    print(-rev)"
   ]
  },
  {
   "cell_type": "code",
   "execution_count": null,
   "id": "482471a8",
   "metadata": {},
   "outputs": [],
   "source": [
    "num=int(input(\"enter your number\"))\n",
    "\n",
    "\n",
    "while num>0:\n",
    "    d=num % 10\n",
    "    print (d)\n",
    "    num = num //10\n"
   ]
  },
  {
   "cell_type": "code",
   "execution_count": null,
   "id": "57170189",
   "metadata": {},
   "outputs": [],
   "source": [
    "num=int(input(\"enter your number: \"))\n",
    "flag=False\n",
    "num2=num\n",
    "if num < 0:\n",
    "    num=num*(-1)\n",
    "    flag=True\n",
    "    \n",
    "    \n",
    "reversed_num=0\n",
    "\n",
    "while num>0:\n",
    "    d=num % 10                            \n",
    "    reversed_num=reversed_num*10 + d               \n",
    "    num = num //10                        \n",
    "\n",
    "# if flag==True:\n",
    "#     print(reversed_num * (-1))\n",
    "# else:\n",
    "#     print(reversed_num)\n",
    "    \n",
    "if num2==reversed_num:\n",
    "    print('palindrome')\n",
    "else:\n",
    "    print('not palindrome')\n",
    "    \n",
    "\n",
    "\n",
    "#-1234 ----> -4321"
   ]
  },
  {
   "cell_type": "code",
   "execution_count": null,
   "id": "845c4e4e",
   "metadata": {},
   "outputs": [],
   "source": []
  },
  {
   "cell_type": "code",
   "execution_count": null,
   "id": "2f82476f",
   "metadata": {},
   "outputs": [],
   "source": [
    "n=int(input(\"enter your number\"))\n",
    "flag=False\n",
    "x=0\n",
    "if n<0:\n",
    "    n=n*(-1)\n",
    "    flag=True\n",
    "    \n",
    "while (n>0):\n",
    "    a= n%10\n",
    "    x=x*10+a\n",
    "    n=n//10\n",
    "    \n",
    "if flag==True:\n",
    "    print(x*(-1))\n",
    "else:\n",
    "    print(x)\n"
   ]
  },
  {
   "cell_type": "code",
   "execution_count": null,
   "id": "aa1f605d",
   "metadata": {},
   "outputs": [],
   "source": [
    "num=str(n)\n",
    "reversed_num_str=num[::-1]\n",
    "int(reversed_num_str)"
   ]
  },
  {
   "cell_type": "code",
   "execution_count": null,
   "id": "3b1d6e34",
   "metadata": {},
   "outputs": [],
   "source": []
  },
  {
   "cell_type": "code",
   "execution_count": null,
   "id": "e9175ed4",
   "metadata": {},
   "outputs": [],
   "source": [
    "#slicing.loc .iloc"
   ]
  },
  {
   "cell_type": "code",
   "execution_count": null,
   "id": "10cef19e",
   "metadata": {},
   "outputs": [],
   "source": []
  },
  {
   "cell_type": "code",
   "execution_count": null,
   "id": "20f91d6d",
   "metadata": {},
   "outputs": [],
   "source": [
    "num=int(input(\"enter your number\"))\n",
    "\n",
    "reversed_num=0\n",
    "\n",
    "if num%10==0:\n",
    "    num=str(num)\n",
    "    reversed_num=num[::-1]\n",
    "else:\n",
    "    while num>0:\n",
    "        d=num % 10\n",
    "        reversed_num=reversed_num*10 + d\n",
    "        num = num //10\n",
    "print(reversed_num)"
   ]
  },
  {
   "cell_type": "code",
   "execution_count": null,
   "id": "8803a777",
   "metadata": {},
   "outputs": [],
   "source": [
    "n=int(input('enter persons number: '))\n",
    "bulb=False\n",
    "if n%2==0:\n",
    "    bulb=False\n",
    "    print('OFF', bulb)\n",
    "else:\n",
    "    bulb=True\n",
    "    print('ONN', bulb)\n"
   ]
  },
  {
   "cell_type": "code",
   "execution_count": null,
   "id": "e66a5678",
   "metadata": {},
   "outputs": [],
   "source": [
    "n=int(input('Number of people enters: '))\n",
    "m=int(input('Number of people exitss: '))\n",
    "\n",
    "\n",
    "if n>m:\n",
    "    print('ON')\n",
    "elif n==m:\n",
    "    print('OFF')\n",
    "else: #n<m\n",
    "    print('invalid input')"
   ]
  },
  {
   "cell_type": "code",
   "execution_count": null,
   "id": "5ebfa644",
   "metadata": {},
   "outputs": [],
   "source": []
  },
  {
   "cell_type": "code",
   "execution_count": null,
   "id": "1c8f9171",
   "metadata": {},
   "outputs": [],
   "source": []
  },
  {
   "cell_type": "code",
   "execution_count": null,
   "id": "ca029c88",
   "metadata": {},
   "outputs": [],
   "source": []
  },
  {
   "cell_type": "code",
   "execution_count": null,
   "id": "2bcaf7c3",
   "metadata": {},
   "outputs": [],
   "source": []
  },
  {
   "cell_type": "code",
   "execution_count": null,
   "id": "c00e7701",
   "metadata": {},
   "outputs": [],
   "source": []
  },
  {
   "cell_type": "code",
   "execution_count": null,
   "id": "9e54f6f5",
   "metadata": {},
   "outputs": [],
   "source": []
  },
  {
   "cell_type": "code",
   "execution_count": 28,
   "id": "832f2f0a",
   "metadata": {},
   "outputs": [],
   "source": [
    "# n=1\n",
    "# while (n>0):\n",
    "#     print(n)\n",
    "#     n=n+1"
   ]
  },
  {
   "cell_type": "code",
   "execution_count": null,
   "id": "5df1e6cb",
   "metadata": {},
   "outputs": [],
   "source": []
  },
  {
   "cell_type": "code",
   "execution_count": null,
   "id": "7fbe2e88",
   "metadata": {},
   "outputs": [],
   "source": []
  },
  {
   "cell_type": "code",
   "execution_count": null,
   "id": "77669f8c",
   "metadata": {},
   "outputs": [],
   "source": []
  },
  {
   "cell_type": "code",
   "execution_count": null,
   "id": "8382413b",
   "metadata": {},
   "outputs": [],
   "source": []
  },
  {
   "cell_type": "code",
   "execution_count": null,
   "id": "55544cf7",
   "metadata": {},
   "outputs": [],
   "source": []
  },
  {
   "cell_type": "code",
   "execution_count": null,
   "id": "62956d6c",
   "metadata": {},
   "outputs": [],
   "source": [
    "num=int(input(\"enter your number\"))\n",
    "\n",
    "\n",
    "if num < 0:\n",
    "    num = -num\n",
    "reversed_num=0\n",
    "while num>0:\n",
    "    d=num % 10\n",
    "    reversed_num=reversed_num*10 + d\n",
    "    num = num //10\n",
    "    \n",
    "    \n",
    "    \n",
    "print(reversed_num)\n"
   ]
  },
  {
   "cell_type": "code",
   "execution_count": null,
   "id": "894e022d",
   "metadata": {},
   "outputs": [],
   "source": [
    "num=int(input('Enter the number'))\n",
    "\n",
    "reversed_num=0\n",
    "Flag=False\n",
    "\n",
    "if num<0:\n",
    "    num=num*(-1)\n",
    "    Flag=True\n",
    "    \n",
    "while (num>0):\n",
    "    d=num % 10\n",
    "    reversed_num=reversed_num*10 + d\n",
    "    num = num //10\n",
    "    \n",
    "if Flag==True:\n",
    "    print(-reversed_num)\n",
    "else:\n",
    "    print(reversed_num)\n",
    "    "
   ]
  },
  {
   "cell_type": "code",
   "execution_count": null,
   "id": "8375c166",
   "metadata": {},
   "outputs": [],
   "source": []
  },
  {
   "cell_type": "code",
   "execution_count": null,
   "id": "8f049eec",
   "metadata": {},
   "outputs": [],
   "source": []
  },
  {
   "cell_type": "code",
   "execution_count": null,
   "id": "7b18a49b",
   "metadata": {},
   "outputs": [],
   "source": [
    "num=int(input('Enter the number to get reverse string'))\n",
    "reversed_num=0\n",
    "if(num%10==0):\n",
    "    zerostart=1\n",
    "while(num>0):\n",
    "    d=num%10\n",
    "    reversed_num=reversed_num*10+d\n",
    "    num=num//10\n",
    "if(zerostart==1):\n",
    "    print('0'+str(reversed_num))\n",
    "else:\n",
    "    print(reversed_num)\n"
   ]
  },
  {
   "cell_type": "code",
   "execution_count": null,
   "id": "1f28e196",
   "metadata": {},
   "outputs": [],
   "source": []
  },
  {
   "cell_type": "code",
   "execution_count": null,
   "id": "fee1b4a2",
   "metadata": {},
   "outputs": [],
   "source": []
  },
  {
   "cell_type": "code",
   "execution_count": null,
   "id": "6c2e610a",
   "metadata": {},
   "outputs": [],
   "source": []
  },
  {
   "cell_type": "code",
   "execution_count": null,
   "id": "f4df97be",
   "metadata": {},
   "outputs": [],
   "source": []
  },
  {
   "cell_type": "code",
   "execution_count": null,
   "id": "6c0e7ffa",
   "metadata": {},
   "outputs": [],
   "source": []
  },
  {
   "cell_type": "code",
   "execution_count": null,
   "id": "09bda928",
   "metadata": {},
   "outputs": [],
   "source": [
    "1% 10"
   ]
  },
  {
   "cell_type": "code",
   "execution_count": null,
   "id": "1f3300cc",
   "metadata": {},
   "outputs": [],
   "source": [
    "9//10\n"
   ]
  },
  {
   "cell_type": "code",
   "execution_count": null,
   "id": "95934fb8",
   "metadata": {},
   "outputs": [],
   "source": [
    "num=abs(int(input('Enter a number: '))) #1234\n",
    "\n",
    "rev = num % 10 # rev= 4\n",
    "\n",
    "num = num//10 # num=123\n",
    "\n",
    "while (num>0):\n",
    "    r=num%10                   #r= 123%10 = 3,,,,,, r = 12 % 10 = 2, r=1%10=1\n",
    "    num=num//10                #num = 12,,,,,,, num=12//10=1, ,,,,, num= 1 // 10 = 0\n",
    "    rev=rev*10 + r             # rev = 4 * 10 + 3 = 43,,,,,,, rev=43*10 + 2=432,,,,, rev= 432*10 + 1= 4321\n",
    "    print(rev)\n",
    "    \n",
    "print(rev)"
   ]
  },
  {
   "cell_type": "code",
   "execution_count": null,
   "id": "1b307285",
   "metadata": {},
   "outputs": [],
   "source": [
    "num=int(input('Enter a number: '))\n",
    "\n",
    "absNum=abs(num)\n",
    "rev = absNum % 10 \n",
    "absNum = absNum//10 \n",
    "while (absNum>0):\n",
    "    r=absNum%10 \n",
    "    absNum=absNum//10 \n",
    "    rev=rev*10 + r \n",
    "if (num>=0):\n",
    "    print(rev)\n",
    "else:\n",
    "    #print(rev - 2*rev)\n",
    "    print(rev*(-1))"
   ]
  },
  {
   "cell_type": "code",
   "execution_count": null,
   "id": "3d77be04",
   "metadata": {},
   "outputs": [],
   "source": [
    "num=int(input('Enter the number: '))\n",
    "if (num<0):\n",
    "    num = num*-1      # making my number positive \n",
    "    rev =num%10       #rev=4\n",
    "    num =num//10      #num=123\n",
    "    while (num>0):\n",
    "        r =num%10       #r=3\n",
    "        num =num//10    #num=12\n",
    "        rev =rev*10 +r   #rev=40 +3\n",
    "    rev = rev*-1\n",
    "    print(rev)\n",
    "else:\n",
    "    rev =num%10      #rev=4\n",
    "    num =num//10        #num=123\n",
    "    while (num>0):\n",
    "        r =num%10         #r=3\n",
    "        num =num//10    #num=12\n",
    "        rev =rev*10 +r    #rev=40 +3\n",
    "    print(rev)"
   ]
  },
  {
   "cell_type": "code",
   "execution_count": null,
   "id": "3b464811",
   "metadata": {},
   "outputs": [],
   "source": [
    "'''\n",
    "Find whether the entered number is palindrome or not.\n",
    "\n",
    "12321\n",
    "\n",
    "12321\n",
    "\n",
    "\n",
    "65456\n",
    "\n",
    "65456\n",
    "\n",
    "78987\n",
    "78987\n",
    "\n",
    "1111\n",
    "1111\n",
    "858\n",
    "858\n",
    "\n",
    " reverse num is same\n",
    "\n",
    "'''"
   ]
  },
  {
   "cell_type": "code",
   "execution_count": null,
   "id": "3fba0785",
   "metadata": {},
   "outputs": [],
   "source": [
    "num=int(input('Enter a number: '))\n",
    "absNum=abs(num)\n",
    "rev = absNum % 10 \n",
    "absNum = absNum//10 \n",
    "while (absNum>0):\n",
    "    r=absNum%10 \n",
    "    absNum=absNum//10 \n",
    "    rev=rev*10 + r \n",
    "if (num>=0):\n",
    "    print(rev)\n",
    "else:\n",
    "    #print(rev - 2*rev)\n",
    "    rev=rev*(-1)\n",
    "    print(rev)\n",
    "    \n",
    "if num==rev:\n",
    "    print('palindrome')\n",
    "else:\n",
    "    print('not palindrome')\n",
    "    "
   ]
  },
  {
   "cell_type": "code",
   "execution_count": null,
   "id": "a51e1f62",
   "metadata": {},
   "outputs": [],
   "source": [
    "'''\n",
    "LCM of two numbers \n",
    "\n",
    "\n",
    "'''"
   ]
  },
  {
   "cell_type": "code",
   "execution_count": null,
   "id": "f73ea24f",
   "metadata": {},
   "outputs": [],
   "source": [
    "p=20\n",
    "q=25\n",
    "\n"
   ]
  }
 ],
 "metadata": {
  "kernelspec": {
   "display_name": "Python 3 (ipykernel)",
   "language": "python",
   "name": "python3"
  },
  "language_info": {
   "codemirror_mode": {
    "name": "ipython",
    "version": 3
   },
   "file_extension": ".py",
   "mimetype": "text/x-python",
   "name": "python",
   "nbconvert_exporter": "python",
   "pygments_lexer": "ipython3",
   "version": "3.10.9"
  }
 },
 "nbformat": 4,
 "nbformat_minor": 5
}
