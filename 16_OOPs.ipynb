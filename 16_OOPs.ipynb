{
 "cells": [
  {
   "cell_type": "code",
   "execution_count": null,
   "id": "a6587621",
   "metadata": {},
   "outputs": [],
   "source": [
    "'''\n",
    "\n",
    "Class: Class is template/blue-print for  the real world entity.\n",
    "\n",
    "Properties\n",
    "Behavior\n",
    "\n",
    "Class is a user defined data type in python (just like int, float, str, list...)\n",
    "The first alphabet is always in capital letter for the class name\n",
    "\n",
    "Object: Object are specific instances of  the class. \n",
    "\n",
    "'''"
   ]
  },
  {
   "cell_type": "code",
   "execution_count": 10,
   "id": "f85a8e8d",
   "metadata": {},
   "outputs": [
    {
     "name": "stdout",
     "output_type": "stream",
     "text": [
      "11\n",
      "prime\n"
     ]
    }
   ],
   "source": [
    "n = int(input())\n",
    "for i in range(2,(n//2)+1): \n",
    "    if n%i == 0:\n",
    "        print('not prime')\n",
    "        break\n",
    "else:\n",
    "    print('prime')\n"
   ]
  },
  {
   "cell_type": "code",
   "execution_count": 6,
   "id": "b3ce8ea8",
   "metadata": {},
   "outputs": [
    {
     "data": {
      "text/plain": [
       "5"
      ]
     },
     "execution_count": 6,
     "metadata": {},
     "output_type": "execute_result"
    }
   ],
   "source": [
    "11//2"
   ]
  },
  {
   "cell_type": "code",
   "execution_count": null,
   "id": "3a2a2e92",
   "metadata": {},
   "outputs": [],
   "source": [
    "'''\n",
    "\n",
    "self:\n",
    "\n",
    "When working with classes in Python, the term “self” refers to the instance of the class that is currently being used. \n",
    "It is customary to use “self” as the first parameter in instance methods of a class. \n",
    "Whenever you call a method of an object created from a class, \n",
    "the object is automatically passed as the first argument using the “self” parameter. \n",
    "This enables you to modify the object’s properties and execute tasks unique to that particular instance.\n",
    "\n",
    "'''"
   ]
  },
  {
   "cell_type": "code",
   "execution_count": null,
   "id": "ebbb510a",
   "metadata": {},
   "outputs": [],
   "source": [
    "def area(l, b):\n",
    "    return l*b"
   ]
  },
  {
   "cell_type": "code",
   "execution_count": null,
   "id": "8e1849d4",
   "metadata": {},
   "outputs": [],
   "source": [
    "area(5,25)"
   ]
  },
  {
   "cell_type": "code",
   "execution_count": null,
   "id": "5ec822ee",
   "metadata": {},
   "outputs": [],
   "source": [
    "#creation of Class\n",
    "\n",
    "class Phone:\n",
    "    \n",
    "    def make_call(self):\n",
    "        print(\"Making phone call\")\n",
    "    \n",
    "    def play_game(self):\n",
    "        print(\"Playing the Game\")"
   ]
  },
  {
   "cell_type": "code",
   "execution_count": null,
   "id": "f2f274cf",
   "metadata": {},
   "outputs": [],
   "source": [
    "#Creating the object (Instantiating the object)\n",
    "\n",
    "p1=Phone()"
   ]
  },
  {
   "cell_type": "code",
   "execution_count": null,
   "id": "7b9c9d3e",
   "metadata": {},
   "outputs": [],
   "source": [
    "type(p1)"
   ]
  },
  {
   "cell_type": "code",
   "execution_count": null,
   "id": "888f083a",
   "metadata": {},
   "outputs": [],
   "source": [
    "p1.make_call()\n"
   ]
  },
  {
   "cell_type": "code",
   "execution_count": null,
   "id": "8bd39ccd",
   "metadata": {},
   "outputs": [],
   "source": [
    "p1.play_game()"
   ]
  },
  {
   "cell_type": "markdown",
   "id": "088388c0",
   "metadata": {},
   "source": [
    "# Adding Parameters to the class"
   ]
  },
  {
   "cell_type": "code",
   "execution_count": null,
   "id": "a7b6cb4a",
   "metadata": {},
   "outputs": [],
   "source": [
    "class Phone:\n",
    "    \n",
    "    def set_color(self, color):\n",
    "        self.color = color\n",
    "    def set_cost(self, cost):\n",
    "        self.cost=cost\n",
    "        \n",
    "    def show_color(self):\n",
    "        return self.color\n",
    "    def show_cost(self):\n",
    "        return self.cost\n",
    "    \n",
    "    def make_call(self):\n",
    "        print(\"Making phone call\")\n",
    "    \n",
    "    def play_game(self):\n",
    "        print(\"Playing Game\")\n",
    "        \n",
    "    "
   ]
  },
  {
   "cell_type": "code",
   "execution_count": null,
   "id": "ebf9c6c8",
   "metadata": {},
   "outputs": [],
   "source": [
    "p1=Phone()"
   ]
  },
  {
   "cell_type": "code",
   "execution_count": null,
   "id": "7fc08d0b",
   "metadata": {},
   "outputs": [],
   "source": [
    "p1.set_color('Black')"
   ]
  },
  {
   "cell_type": "code",
   "execution_count": null,
   "id": "69960fd2",
   "metadata": {},
   "outputs": [],
   "source": [
    "p1.set_cost(5000)"
   ]
  },
  {
   "cell_type": "code",
   "execution_count": null,
   "id": "25d6b824",
   "metadata": {},
   "outputs": [],
   "source": [
    "p1.show_color()"
   ]
  },
  {
   "cell_type": "code",
   "execution_count": null,
   "id": "6e5df9da",
   "metadata": {},
   "outputs": [],
   "source": [
    "p1.show_cost()"
   ]
  },
  {
   "cell_type": "code",
   "execution_count": null,
   "id": "eb6f81b3",
   "metadata": {},
   "outputs": [],
   "source": [
    "p2=Phone()"
   ]
  },
  {
   "cell_type": "code",
   "execution_count": null,
   "id": "1b995213",
   "metadata": {},
   "outputs": [],
   "source": [
    "p2.set_color('Red')\n",
    "p2.set_cost(2000)"
   ]
  },
  {
   "cell_type": "code",
   "execution_count": null,
   "id": "0c15c887",
   "metadata": {},
   "outputs": [],
   "source": [
    "p2.show_color()"
   ]
  },
  {
   "cell_type": "code",
   "execution_count": null,
   "id": "86be3000",
   "metadata": {},
   "outputs": [],
   "source": [
    "p2.show_cost()"
   ]
  },
  {
   "cell_type": "code",
   "execution_count": null,
   "id": "e93e390f",
   "metadata": {},
   "outputs": [],
   "source": [
    "p1.show_color()"
   ]
  },
  {
   "cell_type": "code",
   "execution_count": null,
   "id": "2fae7956",
   "metadata": {},
   "outputs": [],
   "source": [
    "p1.show_cost()"
   ]
  },
  {
   "cell_type": "code",
   "execution_count": null,
   "id": "e4f22f12",
   "metadata": {},
   "outputs": [],
   "source": [
    "apple=Phone()\n",
    "\n",
    "apple.set_color('silver')\n",
    "apple.set_cost(1500)"
   ]
  },
  {
   "cell_type": "code",
   "execution_count": null,
   "id": "67a90039",
   "metadata": {},
   "outputs": [],
   "source": [
    "apple.show_color()"
   ]
  },
  {
   "cell_type": "code",
   "execution_count": null,
   "id": "c3ad4998",
   "metadata": {},
   "outputs": [],
   "source": [
    "apple.show_cost()"
   ]
  },
  {
   "cell_type": "markdown",
   "id": "df702e96",
   "metadata": {},
   "source": [
    "# Creating a class with constructor"
   ]
  },
  {
   "cell_type": "code",
   "execution_count": 13,
   "id": "cb368766",
   "metadata": {},
   "outputs": [],
   "source": [
    "class Employee:\n",
    "    def __init__(self, name, age, salary, gender):  #constructor\n",
    "        self.name=name    #self.name='bob'\n",
    "        self.age=age\n",
    "        self.salary=salary\n",
    "        self.gender=gender\n",
    "        \n",
    "    def domain(self, domain):\n",
    "        self.domain=domain\n",
    "        \n",
    "    def performance(self, rating):\n",
    "        self.rating=rating\n",
    "        \n",
    "    def employee_details(self):\n",
    "        print('Name: ', self.name)\n",
    "        print('Age: ', self.age)\n",
    "        print('Salary: ', self.salary)\n",
    "        print('Gender: ', self.gender)\n",
    "        print('Domain: ', self.domain)"
   ]
  },
  {
   "cell_type": "code",
   "execution_count": 2,
   "id": "a11c3db1",
   "metadata": {},
   "outputs": [
    {
     "ename": "TypeError",
     "evalue": "Employee.__init__() missing 4 required positional arguments: 'name', 'age', 'salary', and 'gender'",
     "output_type": "error",
     "traceback": [
      "\u001b[1;31m---------------------------------------------------------------------------\u001b[0m",
      "\u001b[1;31mTypeError\u001b[0m                                 Traceback (most recent call last)",
      "Cell \u001b[1;32mIn[2], line 1\u001b[0m\n\u001b[1;32m----> 1\u001b[0m e1\u001b[38;5;241m=\u001b[39m\u001b[43mEmployee\u001b[49m\u001b[43m(\u001b[49m\u001b[43m)\u001b[49m\n",
      "\u001b[1;31mTypeError\u001b[0m: Employee.__init__() missing 4 required positional arguments: 'name', 'age', 'salary', and 'gender'"
     ]
    }
   ],
   "source": [
    "e1=Employee()"
   ]
  },
  {
   "cell_type": "code",
   "execution_count": 9,
   "id": "13d6cf15",
   "metadata": {},
   "outputs": [],
   "source": [
    "e1=Employee('Bob', 25, 5000, 'Male')"
   ]
  },
  {
   "cell_type": "code",
   "execution_count": 10,
   "id": "a34d9670",
   "metadata": {},
   "outputs": [],
   "source": [
    "e1.domain('Technical')"
   ]
  },
  {
   "cell_type": "code",
   "execution_count": 22,
   "id": "01b75c54",
   "metadata": {},
   "outputs": [
    {
     "data": {
      "text/plain": [
       "__main__.Employee"
      ]
     },
     "execution_count": 22,
     "metadata": {},
     "output_type": "execute_result"
    }
   ],
   "source": [
    "type(e1)"
   ]
  },
  {
   "cell_type": "code",
   "execution_count": 11,
   "id": "1fe912c1",
   "metadata": {},
   "outputs": [
    {
     "name": "stdout",
     "output_type": "stream",
     "text": [
      "Name:  Bob\n",
      "Age:  25\n",
      "Salary:  5000\n",
      "Gender:  Male\n",
      "Domain:  Technical\n"
     ]
    }
   ],
   "source": [
    "e1.employee_details()"
   ]
  },
  {
   "cell_type": "code",
   "execution_count": 12,
   "id": "8788d431",
   "metadata": {},
   "outputs": [
    {
     "name": "stdout",
     "output_type": "stream",
     "text": [
      "Name:  John\n",
      "Age:  32\n",
      "Salary:  12000\n",
      "Gender:  Male\n",
      "Domain:  Management\n"
     ]
    }
   ],
   "source": [
    "e2=Employee('John', 32, 12000, 'Male')\n",
    "e2.domain('Management')\n",
    "e2.employee_details()"
   ]
  },
  {
   "cell_type": "code",
   "execution_count": null,
   "id": "866d3424",
   "metadata": {},
   "outputs": [],
   "source": [
    "e3=Employee('Jessica', 26, 9000, 'Female')\n",
    "e3.domain('HR')\n",
    "e3.employee_details()"
   ]
  },
  {
   "cell_type": "code",
   "execution_count": null,
   "id": "6fd959e6",
   "metadata": {},
   "outputs": [],
   "source": [
    "'''\n",
    "WAP to create a football 'Player' class. Define the constructor and it must take the name, age, ranking, position.\n",
    "Create a function called 'Teams' which takes \"Country\", \"Club\" as input. \n",
    "Create a function called \"Stats\" which takes \"matches\", \"Goals\", \"MOTM\"\n",
    "Create a function called \"display\" to display the above details.g\n",
    "\n",
    "'''"
   ]
  },
  {
   "cell_type": "code",
   "execution_count": null,
   "id": "c592969b",
   "metadata": {},
   "outputs": [],
   "source": []
  },
  {
   "cell_type": "code",
   "execution_count": null,
   "id": "f2e6cd6c",
   "metadata": {},
   "outputs": [],
   "source": []
  },
  {
   "cell_type": "markdown",
   "id": "07b4e860",
   "metadata": {},
   "source": [
    "# Inheritance in Python Class"
   ]
  },
  {
   "cell_type": "code",
   "execution_count": null,
   "id": "c2ca2f9f",
   "metadata": {},
   "outputs": [],
   "source": [
    "'''\n",
    "With inheritance one class can derive the properties of another class.\n",
    "\n",
    "#parent class\n",
    "#child class\n",
    "\n",
    "\n",
    "'''"
   ]
  },
  {
   "cell_type": "code",
   "execution_count": 14,
   "id": "2c3ca56f",
   "metadata": {},
   "outputs": [],
   "source": [
    "#parent class\n",
    "class Vehicle:\n",
    "    def __init__(self, mileage, cost):\n",
    "        self.mileage=mileage\n",
    "        self.cost=cost\n",
    "        \n",
    "    def show_vehicle_details(self):\n",
    "        print('Mileage: ', self.mileage)\n",
    "        print('Cost: ', self.cost)\n",
    "        print('I am a Vehicle Class')"
   ]
  },
  {
   "cell_type": "code",
   "execution_count": 15,
   "id": "ccee589d",
   "metadata": {},
   "outputs": [],
   "source": [
    "v1=Vehicle(100, 5000)"
   ]
  },
  {
   "cell_type": "code",
   "execution_count": 16,
   "id": "bfbd55ad",
   "metadata": {},
   "outputs": [
    {
     "name": "stdout",
     "output_type": "stream",
     "text": [
      "Mileage:  100\n",
      "Cost:  5000\n",
      "I am a Vehicle Class\n"
     ]
    }
   ],
   "source": [
    "v1.show_vehicle_details()"
   ]
  },
  {
   "cell_type": "code",
   "execution_count": null,
   "id": "4fc7e1a9",
   "metadata": {},
   "outputs": [],
   "source": [
    "class Vehicle_two:\n",
    "    def __init__(self, mileage, cost):\n",
    "        self.mileage=mileage\n",
    "        self.cost=cost\n",
    "    "
   ]
  },
  {
   "cell_type": "code",
   "execution_count": null,
   "id": "81f60975",
   "metadata": {},
   "outputs": [],
   "source": [
    "v2=Vehicle_two(50, 2000)"
   ]
  },
  {
   "cell_type": "code",
   "execution_count": null,
   "id": "9b3d4733",
   "metadata": {},
   "outputs": [],
   "source": [
    "v2.show_vehicle_details()"
   ]
  },
  {
   "cell_type": "code",
   "execution_count": 18,
   "id": "60e709a7",
   "metadata": {},
   "outputs": [],
   "source": [
    "#parent class\n",
    "class Vehicle:\n",
    "    def __init__(self, mileage, cost):\n",
    "        self.mileage=mileage\n",
    "        self.cost=cost\n",
    "        \n",
    "    def show_vehicle_details(self):\n",
    "        '''\n",
    "        This is from Parent class\n",
    "        '''\n",
    "        print('Mileage: ', self.mileage)\n",
    "        print('Cost: ', self.cost)\n",
    "        print('I am a Vehicle Class function')"
   ]
  },
  {
   "cell_type": "code",
   "execution_count": 19,
   "id": "417dbbab",
   "metadata": {},
   "outputs": [],
   "source": [
    "# child class\n",
    "class Car(Vehicle):\n",
    "    def show_car_details(self):\n",
    "        '''\n",
    "        This is from child class\n",
    "        '''\n",
    "        print('I am a car and from child class car')"
   ]
  },
  {
   "cell_type": "code",
   "execution_count": 26,
   "id": "d33cb3dd",
   "metadata": {},
   "outputs": [],
   "source": [
    "# c1=Car()"
   ]
  },
  {
   "cell_type": "code",
   "execution_count": 21,
   "id": "2aafd6ca",
   "metadata": {},
   "outputs": [],
   "source": [
    "c1=Car(50, 6000)"
   ]
  },
  {
   "cell_type": "code",
   "execution_count": 23,
   "id": "f2d01ba9",
   "metadata": {},
   "outputs": [
    {
     "data": {
      "text/plain": [
       "__main__.Car"
      ]
     },
     "execution_count": 23,
     "metadata": {},
     "output_type": "execute_result"
    }
   ],
   "source": [
    "type(c1)"
   ]
  },
  {
   "cell_type": "code",
   "execution_count": 24,
   "id": "061cc60d",
   "metadata": {},
   "outputs": [
    {
     "name": "stdout",
     "output_type": "stream",
     "text": [
      "Mileage:  50\n",
      "Cost:  6000\n",
      "I am a Vehicle Class function\n"
     ]
    }
   ],
   "source": [
    "c1.show_vehicle_details()"
   ]
  },
  {
   "cell_type": "code",
   "execution_count": 25,
   "id": "8c9ee24c",
   "metadata": {},
   "outputs": [
    {
     "name": "stdout",
     "output_type": "stream",
     "text": [
      "I am a car and from child class car\n"
     ]
    }
   ],
   "source": [
    "c1.show_car_details()"
   ]
  },
  {
   "cell_type": "markdown",
   "id": "c24a6b9b",
   "metadata": {},
   "source": [
    "# Multiple Inheritance in Python"
   ]
  },
  {
   "cell_type": "code",
   "execution_count": 27,
   "id": "9311e9f1",
   "metadata": {},
   "outputs": [],
   "source": [
    "class Parent1:\n",
    "    def assign_string_one(self, str1):\n",
    "        self.str1=str1\n",
    "    def show_string_one(self):\n",
    "        return self.str1"
   ]
  },
  {
   "cell_type": "code",
   "execution_count": 28,
   "id": "faf7c3a1",
   "metadata": {},
   "outputs": [],
   "source": [
    "class Parent2:\n",
    "    def assign_string_two(self, str2):\n",
    "        self.str2=str2\n",
    "    def show_string_two(self):\n",
    "        return self.str2"
   ]
  },
  {
   "cell_type": "code",
   "execution_count": 29,
   "id": "eddf8b02",
   "metadata": {},
   "outputs": [],
   "source": [
    "class Child(Parent1, Parent2):\n",
    "    def assign_string_three(self, str3):\n",
    "        self.str3=str3\n",
    "    def show_string_three(self):\n",
    "        return self.str3"
   ]
  },
  {
   "cell_type": "code",
   "execution_count": 30,
   "id": "41ee8582",
   "metadata": {},
   "outputs": [],
   "source": [
    "my_child=Child()"
   ]
  },
  {
   "cell_type": "code",
   "execution_count": 31,
   "id": "9e6afdaf",
   "metadata": {},
   "outputs": [],
   "source": [
    "my_child.assign_string_one(' I am from parent 1')"
   ]
  },
  {
   "cell_type": "code",
   "execution_count": 32,
   "id": "77a98b7f",
   "metadata": {},
   "outputs": [],
   "source": [
    "my_child.assign_string_two(' I am from parent 2')"
   ]
  },
  {
   "cell_type": "code",
   "execution_count": 33,
   "id": "516c99aa",
   "metadata": {},
   "outputs": [],
   "source": [
    "my_child.assign_string_three('I am from child')"
   ]
  },
  {
   "cell_type": "code",
   "execution_count": 34,
   "id": "8c010c6e",
   "metadata": {},
   "outputs": [
    {
     "data": {
      "text/plain": [
       "' I am from parent 1'"
      ]
     },
     "execution_count": 34,
     "metadata": {},
     "output_type": "execute_result"
    }
   ],
   "source": [
    "my_child.show_string_one()"
   ]
  },
  {
   "cell_type": "code",
   "execution_count": 35,
   "id": "76b18944",
   "metadata": {},
   "outputs": [
    {
     "data": {
      "text/plain": [
       "' I am from parent 2'"
      ]
     },
     "execution_count": 35,
     "metadata": {},
     "output_type": "execute_result"
    }
   ],
   "source": [
    "my_child.show_string_two()"
   ]
  },
  {
   "cell_type": "code",
   "execution_count": 36,
   "id": "7590727e",
   "metadata": {},
   "outputs": [
    {
     "data": {
      "text/plain": [
       "'I am from child'"
      ]
     },
     "execution_count": 36,
     "metadata": {},
     "output_type": "execute_result"
    }
   ],
   "source": [
    "my_child.show_string_three()"
   ]
  },
  {
   "cell_type": "code",
   "execution_count": null,
   "id": "07406f60",
   "metadata": {},
   "outputs": [],
   "source": []
  },
  {
   "cell_type": "code",
   "execution_count": null,
   "id": "fda19ee8",
   "metadata": {},
   "outputs": [],
   "source": []
  },
  {
   "cell_type": "code",
   "execution_count": null,
   "id": "5560e07c",
   "metadata": {},
   "outputs": [],
   "source": []
  },
  {
   "cell_type": "code",
   "execution_count": null,
   "id": "615dd47e",
   "metadata": {},
   "outputs": [],
   "source": []
  },
  {
   "cell_type": "code",
   "execution_count": null,
   "id": "8fa701c7",
   "metadata": {},
   "outputs": [],
   "source": []
  },
  {
   "cell_type": "code",
   "execution_count": 37,
   "id": "6763a5eb",
   "metadata": {},
   "outputs": [],
   "source": [
    "class School:\n",
    "    def student_details(self, s_name, s_age, s_stand, s_transport):\n",
    "        self.s_name=s_name\n",
    "        self.s_age=s_age\n",
    "        self.s_stand=s_stand\n",
    "        self.s_transport=s_transport\n",
    "    def employee_details(self, e_name, e_age, e_subject, e_gender):\n",
    "        self.e_name=e_name\n",
    "        self.e_age=e_age\n",
    "        self.e_subject=e_subject\n",
    "        self.e_gender=e_gender"
   ]
  },
  {
   "cell_type": "code",
   "execution_count": 38,
   "id": "cddccfde",
   "metadata": {},
   "outputs": [],
   "source": [
    "class Student(School):\n",
    "    def show_student_basic_details(self):\n",
    "        print('Name: ', self.s_name)\n",
    "        print('Standard: ', self.s_stand)\n",
    "    def show_student_confidential_deatil(self):\n",
    "        print('Transport: ', self.s_transport)\n",
    "        print('Age: ', self.s_age)"
   ]
  },
  {
   "cell_type": "code",
   "execution_count": 39,
   "id": "b92d4b7d",
   "metadata": {},
   "outputs": [],
   "source": [
    "class Employee(School):\n",
    "    def show_employee_details(self):\n",
    "        print('Name: ', self.e_name)\n",
    "        print('Subject: ', self.e_subject)"
   ]
  },
  {
   "cell_type": "code",
   "execution_count": 40,
   "id": "24d7b463",
   "metadata": {},
   "outputs": [
    {
     "data": {
      "text/plain": [
       "\"\\n\\nan employee object\\nyou have to fill the details as follows : 'Eienstein', 60, Physics, Male\\nprint the Name and subject\\n\\n\\n\""
      ]
     },
     "execution_count": 40,
     "metadata": {},
     "output_type": "execute_result"
    }
   ],
   "source": [
    "'''\n",
    "\n",
    "an employee object\n",
    "you have to fill the details as follows : 'Eienstein', 60, Physics, Male\n",
    "print the Name and subject\n",
    "\n",
    "\n",
    "'''"
   ]
  },
  {
   "cell_type": "code",
   "execution_count": 41,
   "id": "4519ae65",
   "metadata": {},
   "outputs": [],
   "source": [
    "e1=Employee()"
   ]
  },
  {
   "cell_type": "code",
   "execution_count": 42,
   "id": "cade6afc",
   "metadata": {},
   "outputs": [],
   "source": [
    "e1.employee_details('Eienstein', 60, 'Physics', 'Male') #parent class"
   ]
  },
  {
   "cell_type": "code",
   "execution_count": 43,
   "id": "99240f75",
   "metadata": {},
   "outputs": [
    {
     "name": "stdout",
     "output_type": "stream",
     "text": [
      "Name:  Eienstein\n",
      "Subject:  Physics\n"
     ]
    }
   ],
   "source": [
    "e1.show_employee_details() #child class"
   ]
  },
  {
   "cell_type": "code",
   "execution_count": 44,
   "id": "5bde055c",
   "metadata": {},
   "outputs": [],
   "source": [
    "s1=Student()"
   ]
  },
  {
   "cell_type": "code",
   "execution_count": 45,
   "id": "9d59ffb7",
   "metadata": {},
   "outputs": [],
   "source": [
    "s1.student_details('Bob', 25, 'High School', True) #parent class"
   ]
  },
  {
   "cell_type": "code",
   "execution_count": 46,
   "id": "ceb21aee",
   "metadata": {},
   "outputs": [
    {
     "name": "stdout",
     "output_type": "stream",
     "text": [
      "Name:  Bob\n",
      "Standard:  High School\n"
     ]
    }
   ],
   "source": [
    "s1.show_student_basic_details()"
   ]
  },
  {
   "cell_type": "code",
   "execution_count": 47,
   "id": "a95a65d5",
   "metadata": {},
   "outputs": [
    {
     "name": "stdout",
     "output_type": "stream",
     "text": [
      "Transport:  True\n",
      "Age:  25\n"
     ]
    }
   ],
   "source": [
    "s1.show_student_confidential_deatil()"
   ]
  },
  {
   "cell_type": "code",
   "execution_count": 48,
   "id": "d2c4e788",
   "metadata": {},
   "outputs": [],
   "source": [
    "s2=Student()\n",
    "s2.student_details('Mira', 23, 'Graduate', False)"
   ]
  },
  {
   "cell_type": "code",
   "execution_count": 49,
   "id": "16d5442b",
   "metadata": {},
   "outputs": [
    {
     "name": "stdout",
     "output_type": "stream",
     "text": [
      "Name:  Mira\n",
      "Standard:  Graduate\n"
     ]
    }
   ],
   "source": [
    "s2.show_student_basic_details()"
   ]
  },
  {
   "cell_type": "code",
   "execution_count": null,
   "id": "2ec5c7fd",
   "metadata": {},
   "outputs": [],
   "source": [
    "'''\n",
    "WAP to create a class \"Beverages\", define a constructor (__init__) which takes the parameter as follows : \n",
    "'Name', 'Category', 'Taste', 'Quantity'. \n",
    "\n",
    "define a function 'components' which take input of calories and amount of sugar: 'Calories', 'Sugar'\n",
    "\n",
    "create a function 'Beverages_Detail' and it shows the values(Name, Category, Taste,Quantity, Calories, Sugar) of the juices.\n",
    "\n",
    "Create an inherited class 'Beverage_Classification' and it has a method which is classifying the beverages based \n",
    "on calories.\n",
    "create a function 'classification_calories'\n",
    "\n",
    "calories 0<=calorie<160 : Healthy\n",
    "         160<= calorie <=200 :  Mild Healthy\n",
    "         calories > 200 : Unhealthy\n",
    "\n",
    "\n",
    "Create 3 objects and set the calories to 150,200, 300 respectively.\n",
    "\n",
    "show the details of the beverage\n",
    "classify the beverage using the 'Beverage_classification'\n",
    "\n",
    "\n",
    "'''"
   ]
  },
  {
   "cell_type": "code",
   "execution_count": null,
   "id": "1b953f61",
   "metadata": {},
   "outputs": [],
   "source": [
    "class Beverages:\n",
    "    def __init__(self, name, category, taste, quantity):\n",
    "        self.name=name\n",
    "        self.category=category\n",
    "        self.taste=taste\n",
    "        self.quantity=quantity\n",
    "    def components(self, calories, sugar ):\n",
    "        self.calories=calories\n",
    "        self.sugar=sugar\n",
    "    def beverage_details(self):\n",
    "        print('Name: ', self.name)\n",
    "        print('category: ', self.category)\n",
    "        print('taste: ', self.taste)\n",
    "        print('quantity: ', self.quantity)\n",
    "        print('calories: ', self.calories)\n",
    "        print('sugar: ', self.sugar)"
   ]
  },
  {
   "cell_type": "code",
   "execution_count": null,
   "id": "66ef6296",
   "metadata": {},
   "outputs": [],
   "source": [
    "class Beverage_Classification(Beverages):\n",
    "    def classification_calories(self):\n",
    "        \n",
    "#         cal=self.calories\n",
    "        \n",
    "        if (0 <= self.calories < 160):\n",
    "            print('Healthy Beverage')\n",
    "        elif (160 <= self.calories <= 200):\n",
    "            print('Mild healthy Beverage')\n",
    "        else:\n",
    "            print('Unhealthy Beverage')\n",
    "            \n"
   ]
  },
  {
   "cell_type": "code",
   "execution_count": null,
   "id": "86ff866e",
   "metadata": {},
   "outputs": [],
   "source": [
    "b1=Beverage_Classification('Orange Juice', 'Fruit Juice', 'Sweet-Sour', 300)"
   ]
  },
  {
   "cell_type": "code",
   "execution_count": null,
   "id": "4b0dbba1",
   "metadata": {},
   "outputs": [],
   "source": [
    "b1.components(120, 0)"
   ]
  },
  {
   "cell_type": "code",
   "execution_count": null,
   "id": "794a5551",
   "metadata": {},
   "outputs": [],
   "source": [
    "b1.beverage_details()"
   ]
  },
  {
   "cell_type": "code",
   "execution_count": null,
   "id": "73fdf7ba",
   "metadata": {},
   "outputs": [],
   "source": [
    "b1.classification_calories()"
   ]
  },
  {
   "cell_type": "code",
   "execution_count": null,
   "id": "94a1c5d4",
   "metadata": {},
   "outputs": [],
   "source": [
    "#functions from parent class and object from child class\n",
    "b2=Beverage_Classification('Virgin Mojito', 'Mocktails', 'Sweet-sour', 300)\n",
    "b2.components(250, 50)\n",
    "b2.beverage_details()"
   ]
  },
  {
   "cell_type": "code",
   "execution_count": null,
   "id": "10038e46",
   "metadata": {},
   "outputs": [],
   "source": [
    "#function from child  class\n",
    "b2.classification_calories()"
   ]
  },
  {
   "cell_type": "code",
   "execution_count": null,
   "id": "6d64ca76",
   "metadata": {},
   "outputs": [],
   "source": [
    "b2.classification_sugar()"
   ]
  },
  {
   "cell_type": "code",
   "execution_count": null,
   "id": "96df4c2d",
   "metadata": {},
   "outputs": [],
   "source": [
    "s='[1,2,3,4,5]'"
   ]
  },
  {
   "cell_type": "code",
   "execution_count": null,
   "id": "5092f6ca",
   "metadata": {},
   "outputs": [],
   "source": [
    "type(s)"
   ]
  },
  {
   "cell_type": "code",
   "execution_count": null,
   "id": "96837137",
   "metadata": {},
   "outputs": [],
   "source": [
    "l=eval(s)"
   ]
  },
  {
   "cell_type": "code",
   "execution_count": null,
   "id": "f7345206",
   "metadata": {},
   "outputs": [],
   "source": [
    "l"
   ]
  },
  {
   "cell_type": "code",
   "execution_count": null,
   "id": "880c4c34",
   "metadata": {},
   "outputs": [],
   "source": [
    "type(l)"
   ]
  },
  {
   "cell_type": "code",
   "execution_count": null,
   "id": "ac33c352",
   "metadata": {},
   "outputs": [],
   "source": []
  },
  {
   "cell_type": "code",
   "execution_count": null,
   "id": "e1f367fc",
   "metadata": {},
   "outputs": [],
   "source": [
    "'''\n",
    "Travelling\n",
    "\n",
    "\n",
    "WAP to create a class called 'Traveller' which have a constructor (__init__) and takes the following parameter:\n",
    "name, country, age, source, destination\n",
    "\n",
    "Create another class 'Transport' and create a method 'transport_details' which  takes the following parameter:\n",
    "Type:(Train/bus/cab/flight), 'distance', 'Fare'. In another function 'show_transport_details' print the values\n",
    "\n",
    "\n",
    "Create another class 'Stays' and create a method 'stay_details' which takes the following parameter:\n",
    "stay_type: (Hotel/resort/hostel/villa), room_type: (1B/2B/Suite), star_rating, 'cost_per_night', 'Total_day_stay'\n",
    " In another function 'show_stay_details' print the values.\n",
    " \n",
    "Create another class 'Food' and creata a method 'food_details' which takes the following parameter: (per day)\n",
    "Cuisine: (Indian/Middle east/Italian/Chinese), AVG_Cost, Meals:\n",
    "\n",
    "\n",
    "Create a CHILD CLASS which inherits the property of Traveller,  Transport and Stays class, food. \n",
    "Create a method 'Overall_expense' which Compute the overall expenses during the travelling and show.\n",
    "\n",
    "\n",
    "When you are creating the object MAKE SURE THAT IT IS CREATED FOR CHILD CLASS.\n",
    "\n",
    "'''"
   ]
  },
  {
   "cell_type": "code",
   "execution_count": null,
   "id": "2196b642",
   "metadata": {},
   "outputs": [],
   "source": [
    "#cLASS TRAVELLER parent1\n",
    "\n",
    "class Traveller:\n",
    "    def __init__(self,name,country,source,destination):\n",
    "        \n",
    "        self.name=name\n",
    "        self.country=country\n",
    "        self.source=source\n",
    "        self.destination=destination\n",
    "    def show_traveller_details(self):\n",
    "        print('Name: ', self.name)\n",
    "        print('country: ', self.country)\n",
    "        print('source: ', self.source)\n",
    "        print('destination: ', self.destination)\n"
   ]
  },
  {
   "cell_type": "code",
   "execution_count": null,
   "id": "f78460ca",
   "metadata": {},
   "outputs": [],
   "source": [
    "#parent 2\n",
    "class Transport:\n",
    "    def transport_details(self,Type,distance,fare):\n",
    "        self.Type=Type\n",
    "        self.distance=distance\n",
    "        self.fare=fare\n",
    "    def show_transport_deatails(self): \n",
    "        print('Type:',self.Type)\n",
    "        print('Distance:',self.distance)\n",
    "        print('Fare:',self.fare)\n"
   ]
  },
  {
   "cell_type": "code",
   "execution_count": null,
   "id": "b5ad0074",
   "metadata": {},
   "outputs": [],
   "source": [
    "# parent 3\n",
    "class Stays:\n",
    "    def stay_details(self,stay_type,room_type,star_rating,cost_per_night,Total_day_stay):\n",
    "        self.stay_type=stay_type\n",
    "        self.room_type=room_type\n",
    "        self.star_rating=star_rating\n",
    "        self.cost_per_night=cost_per_night\n",
    "        self.Total_day_stay=Total_day_stay\n",
    "        \n",
    "    def show_stay_details(self):\n",
    "        print('Stay_type:',self.stay_type)\n",
    "        print('Room_type:',self.room_type)\n",
    "        print('Star_rating:',self.star_rating)\n",
    "        print('Cost_per_night:',self.cost_per_night)\n",
    "        print('Total_day_stay:',self.Total_day_stay)\n"
   ]
  },
  {
   "cell_type": "code",
   "execution_count": null,
   "id": "f31dd23d",
   "metadata": {},
   "outputs": [],
   "source": [
    "#parent 4\n",
    "class Food:\n",
    "    def food_details(self,Cuisine_per_day,AVG_cost,num_meal):\n",
    "        \n",
    "        self.Cuisine_per_day= Cuisine_per_day    \n",
    "        self.AVG_cost=AVG_cost\n",
    "        self.num_meal=num_meal\n",
    "        \n",
    "#         AVG_cost=(Cuisine_per_day*meal_price)/Cusine_per_day\n",
    "#         print('AVG_Cost=',AVG_cost)\n",
    "    def show_food_details(self):\n",
    "        print('Cuisine: ', self.Cuisine_per_day)\n",
    "        print('Avg cost per meal: ', self.AVG_cost)\n",
    "        print('Number of meals: ', self.num_meal)\n"
   ]
  },
  {
   "cell_type": "code",
   "execution_count": null,
   "id": "537b9ca9",
   "metadata": {},
   "outputs": [],
   "source": [
    "#child class\n",
    "class Total_traveller_cost(Traveller,Transport,Stays, Food):\n",
    "    def Overall_expense(self):\n",
    "        expense=self.fare + (self.cost_per_night * self.Total_day_stay) + (self.AVG_cost * self.num_meal *self.Total_day_stay)\n",
    "        print('Overall expense: ', expense)\n"
   ]
  },
  {
   "cell_type": "code",
   "execution_count": null,
   "id": "3f737dd4",
   "metadata": {},
   "outputs": [],
   "source": [
    "t1=Total_traveller_cost('jhon','India','Tokyo','Delhi')\n",
    "t1.show_traveller_details()"
   ]
  },
  {
   "cell_type": "code",
   "execution_count": null,
   "id": "35563be5",
   "metadata": {},
   "outputs": [],
   "source": [
    "t1.transport_details('Airways', 1500, 4000)\n",
    "t1.show_transport_deatails()"
   ]
  },
  {
   "cell_type": "code",
   "execution_count": null,
   "id": "144f13c3",
   "metadata": {},
   "outputs": [],
   "source": [
    "t1.stay_details('Hotel', '1BD', 4, 300, 5)\n",
    "t1.show_stay_details()"
   ]
  },
  {
   "cell_type": "code",
   "execution_count": null,
   "id": "2d08db6d",
   "metadata": {},
   "outputs": [],
   "source": [
    "t1.food_details('Mexican', 150, 3) #4500 +2250= 6750\n",
    "t1.show_food_details()"
   ]
  },
  {
   "cell_type": "code",
   "execution_count": null,
   "id": "1815f199",
   "metadata": {},
   "outputs": [],
   "source": [
    "t1.Overall_expense()"
   ]
  },
  {
   "cell_type": "code",
   "execution_count": null,
   "id": "bb82a04b",
   "metadata": {},
   "outputs": [],
   "source": [
    "'''\n",
    "customer details\n",
    "shop details\n",
    "Bill\n",
    "Discounts\n",
    "Summary\n",
    "\n",
    "\n",
    "\n",
    "'''"
   ]
  },
  {
   "cell_type": "code",
   "execution_count": null,
   "id": "0fe1adab",
   "metadata": {},
   "outputs": [],
   "source": [
    "d={'shoes':[10, 100],'Shirt':[15, 50]}"
   ]
  },
  {
   "cell_type": "code",
   "execution_count": null,
   "id": "86fece22",
   "metadata": {},
   "outputs": [],
   "source": [
    "d"
   ]
  },
  {
   "cell_type": "code",
   "execution_count": null,
   "id": "a258f2c7",
   "metadata": {},
   "outputs": [],
   "source": [
    "def inventory(self, d):\n",
    "    s=0\n",
    "    for i in d.keys():\n",
    "      \n",
    "        s=s+d[i][1]\n",
    "    print(s)"
   ]
  },
  {
   "cell_type": "code",
   "execution_count": null,
   "id": "62be65eb",
   "metadata": {},
   "outputs": [],
   "source": [
    "d={'shoes':[10, 100],'Shirt':[15, 50]}\n",
    "inventory(d)"
   ]
  },
  {
   "cell_type": "code",
   "execution_count": null,
   "id": "f93d96f3",
   "metadata": {},
   "outputs": [],
   "source": [
    "d['shoes'][1]"
   ]
  },
  {
   "cell_type": "code",
   "execution_count": null,
   "id": "9ce6f9cf",
   "metadata": {},
   "outputs": [],
   "source": [
    "class Customer_Details:\n",
    "    def __init__(self, name,age,gender,mobile):\n",
    "        self.name=name\n",
    "        self.age=age\n",
    "        self.gender=gender\n",
    "        self.mobile=mobile\n",
    "        \n",
    "class  Shop_Details:\n",
    "    def basic_details(self, s_name, category, address, type_shop, area):\n",
    "        self.s_name=s_name\n",
    "        self.category=category\n",
    "        self.address=address\n",
    "        self.type_shop=type_shop\n",
    "        self.area=area\n",
    "    def inventory(self, d):\n",
    "        self.d=d\n",
    "        s=0\n",
    "        for i in d.keys():\n",
    "\n",
    "            s=s+d[i][1]\n",
    "        print('Inventory cost', s)\n",
    "\n",
    "class Billing:\n",
    "    def bill_details(self, b):\n",
    "        self.b=b\n",
    "        sum_bill=0\n",
    "        quantity=0\n",
    "        for i in b.keys():\n",
    "            quantity=quantity+b[i][0]\n",
    "            sum_bill=sum_bill+b[i][1]\n",
    "        print('Bill amount', sum_bill)\n",
    "        \n",
    "        \n",
    "class Discount(Billing):\n",
    "    def discount_details(self):\n",
    "        if (sum_bill>=1000 and sum_bill<2000) or (quantity >=5 and quantity<10):\n",
    "            total_bill=sum_bill*0.95\n",
    "        elif sum_bill>2000 or quntity>10:\n",
    "            total_bill=sum_bill*0.85\n",
    "        else:\n",
    "            total_bill=sum_bill\n",
    "    def summary()\n",
    "        \n",
    "        \n",
    "        \n",
    "        "
   ]
  },
  {
   "cell_type": "code",
   "execution_count": null,
   "id": "ba7310e0",
   "metadata": {},
   "outputs": [],
   "source": [
    "'''\n",
    "WAP to create the simulate the shopping experience with details as follow.\n",
    "\n",
    "Create a class Customer_Details which have constructor (__init__) and it takes following parameter:\n",
    "Name, Age, Gender, Mobile\n",
    "\n",
    "Create a class Shop_Details which have different functions:\n",
    "1) basic_details (Name, category, Address, Type, Area(sq ft))\n",
    "2) inventory (inventory_dict: keys-name, value: [quantity, price per quantity]) calculate the inventory cost. print it as well.\n",
    "minimum 4 items should be there\n",
    "\n",
    "\n",
    "\n",
    "Creat a class 'Billing'\n",
    "Define a function bill_details : it has a dictionary where keys are Item and value: [quantity, cost] \n",
    "cost must be fetched from the shop details. (quantity can be defined manually but cost can be fetched from the shop details)\n",
    "print bill amount (total cost). minimum two items\n",
    "\n",
    "Create a class 'Discount_Summary'\n",
    "\n",
    "creat a method discount_given: if the bill amount is more 1000 then give the discount of 5% or if the quantity is more than 5 \n",
    "then give the discount of 5%.\n",
    "if the bill amount is more than 2000 or quantity is more than 15 then give discount of 15%. else no discount.\n",
    "print the total bill amount\n",
    "'Summary' which inherits the 'Customer_details','Shop_details', 'Billing', 'Discount' \n",
    "and print these values.\n",
    "\n",
    "'''"
   ]
  },
  {
   "cell_type": "code",
   "execution_count": null,
   "id": "76f4e67b",
   "metadata": {},
   "outputs": [],
   "source": [
    "if (cost>1000 and cost<2000)  or (quantity>5 and quantity<15):\n",
    "    cost=cost*0.95\n",
    "elif(cost >= 2000 or quantity >= 15):\n",
    "    cost=cost*0.85\n",
    "else:\n",
    "    cost=cost"
   ]
  },
  {
   "cell_type": "code",
   "execution_count": null,
   "id": "5f6f0304",
   "metadata": {},
   "outputs": [],
   "source": [
    "i_D={'Coffee':[10, 50], 'Bread':[20, 10], 'Banana':[12, 5]}"
   ]
  },
  {
   "cell_type": "code",
   "execution_count": null,
   "id": "ab2e2928",
   "metadata": {},
   "outputs": [],
   "source": [
    "i_D['Coffee'][1]"
   ]
  },
  {
   "cell_type": "code",
   "execution_count": null,
   "id": "9eb9eb72",
   "metadata": {},
   "outputs": [],
   "source": [
    "b_D={'Coffee':[1,i_D['Coffee'][1]], 'Bread':[2, i_D['Bread'][1]]}"
   ]
  },
  {
   "cell_type": "code",
   "execution_count": null,
   "id": "870ffec7",
   "metadata": {},
   "outputs": [],
   "source": [
    "b_D"
   ]
  },
  {
   "cell_type": "code",
   "execution_count": null,
   "id": "a3ea1b63",
   "metadata": {},
   "outputs": [],
   "source": [
    "b_D['Bread']"
   ]
  },
  {
   "cell_type": "code",
   "execution_count": null,
   "id": "0b85025e",
   "metadata": {},
   "outputs": [],
   "source": [
    "s=0\n",
    "for i in b_D.keys():\n",
    "    m=1\n",
    "    for j in b_D[i]:\n",
    "        m=m*j\n",
    "    s=s+m"
   ]
  },
  {
   "cell_type": "code",
   "execution_count": null,
   "id": "6d776b87",
   "metadata": {},
   "outputs": [],
   "source": [
    "s"
   ]
  },
  {
   "cell_type": "code",
   "execution_count": null,
   "id": "883f9581",
   "metadata": {},
   "outputs": [],
   "source": []
  },
  {
   "cell_type": "code",
   "execution_count": null,
   "id": "17358338",
   "metadata": {},
   "outputs": [],
   "source": []
  },
  {
   "cell_type": "code",
   "execution_count": null,
   "id": "e77ca338",
   "metadata": {},
   "outputs": [],
   "source": []
  },
  {
   "cell_type": "code",
   "execution_count": null,
   "id": "1cb3cb84",
   "metadata": {},
   "outputs": [],
   "source": [
    "class customer_details:\n",
    "    def __init__(self, name, age, gender, mobile):\n",
    "        self.name=name\n",
    "        self.age=age\n",
    "        self.gender=gender\n",
    "        self.mobile=mobile\n",
    "    def show_customer_details(self):\n",
    "        print('Name:',self.name)\n",
    "        print('Age:',self.age)\n",
    "        print('Gender:',self.gender)\n",
    "        print('Mobile:',self.mpbile)\n",
    "class shop_details:\n",
    "    def shop_details(self, name, category, address, type, area(sq,ft))\n",
    "        self.name=name\n",
    "        self.category=category\n",
    "        self.address=address\n",
    "        self.type=type\n",
    "        self.area=area\n",
    "    def show_shop_details:\n",
    "        print('Name:', self.name)\n",
    "        print('category:', self.category)\n",
    "        print('address:', self.address)\n",
    "        print('type:', self.type)\n",
    "        print('area:', self.area)\n",
    "    def inventory(self,d):\n",
    "        self.d=d\n",
    "        s=0\n",
    "        for i in d.keys():\n",
    "            s=s+d[i][l]\n",
    "            print(s)\n",
    "class billing:\n",
    "    def bill_deltails(self.b)\n",
    "    self.b=b\n",
    "    sum_bill=0\n",
    "    for i in b.keys():\n",
    "        s=s+b[i][l]\n"
   ]
  },
  {
   "cell_type": "code",
   "execution_count": null,
   "id": "2a8533ca",
   "metadata": {},
   "outputs": [],
   "source": []
  },
  {
   "cell_type": "code",
   "execution_count": null,
   "id": "10c065b5",
   "metadata": {},
   "outputs": [],
   "source": []
  },
  {
   "cell_type": "code",
   "execution_count": null,
   "id": "49156b3d",
   "metadata": {},
   "outputs": [],
   "source": []
  },
  {
   "cell_type": "code",
   "execution_count": null,
   "id": "d0dde4a8",
   "metadata": {},
   "outputs": [],
   "source": []
  },
  {
   "cell_type": "code",
   "execution_count": null,
   "id": "165f31f4",
   "metadata": {},
   "outputs": [],
   "source": []
  },
  {
   "cell_type": "code",
   "execution_count": null,
   "id": "570ab56d",
   "metadata": {},
   "outputs": [],
   "source": []
  },
  {
   "cell_type": "code",
   "execution_count": null,
   "id": "d2798b3b",
   "metadata": {},
   "outputs": [],
   "source": [
    "class Super:\n",
    "    def __init__(self):\n",
    "        self._value1=100     #protected member\n",
    "        self.__value2=200    #private member\n",
    "    def display(self):\n",
    "        print(self._value1)\n",
    "        print(self.__value2)\n",
    "    \n"
   ]
  },
  {
   "cell_type": "code",
   "execution_count": null,
   "id": "82a1ec30",
   "metadata": {},
   "outputs": [],
   "source": [
    "class Subclass(Super):\n",
    "    def show(self):\n",
    "        print(self._value1)\n",
    "        print(self.__value2)"
   ]
  },
  {
   "cell_type": "code",
   "execution_count": null,
   "id": "f5e799ce",
   "metadata": {},
   "outputs": [],
   "source": [
    "ob1=Subclass()"
   ]
  },
  {
   "cell_type": "code",
   "execution_count": null,
   "id": "df724c06",
   "metadata": {},
   "outputs": [],
   "source": [
    "ob1.display()"
   ]
  },
  {
   "cell_type": "code",
   "execution_count": null,
   "id": "4b18762e",
   "metadata": {},
   "outputs": [],
   "source": [
    "ob1.show()"
   ]
  },
  {
   "cell_type": "code",
   "execution_count": null,
   "id": "01289b93",
   "metadata": {},
   "outputs": [],
   "source": []
  },
  {
   "cell_type": "code",
   "execution_count": null,
   "id": "99cfbb19",
   "metadata": {},
   "outputs": [],
   "source": []
  },
  {
   "cell_type": "code",
   "execution_count": null,
   "id": "7fcecb77",
   "metadata": {},
   "outputs": [],
   "source": []
  },
  {
   "cell_type": "code",
   "execution_count": null,
   "id": "abdf6719",
   "metadata": {},
   "outputs": [],
   "source": []
  },
  {
   "cell_type": "code",
   "execution_count": null,
   "id": "13933a4f",
   "metadata": {},
   "outputs": [],
   "source": [
    "'''\n",
    "\n",
    "\n",
    "Encapsulation is one of the fundamental concepts in object-oriented programming (OOP). \n",
    "It describes the idea of wrapping data and the methods that work on data within one unit. \n",
    "This puts restrictions on accessing variables and methods directly and can prevent the accidental modification of data. \n",
    "To prevent accidental change, \n",
    "an object’s variable can only be changed by an object’s method.\n",
    "\n",
    "\n",
    "'''"
   ]
  },
  {
   "cell_type": "code",
   "execution_count": null,
   "id": "53d331ba",
   "metadata": {},
   "outputs": [],
   "source": [
    "'''\n",
    "The word polymorphism means having many forms. In programming, polymorphism means the same function name \n",
    "(but different signatures) being used for different types. \n",
    "The key difference is the data types and number of arguments used in function.\n",
    "\n",
    "\n",
    "\n",
    "'''"
   ]
  },
  {
   "cell_type": "code",
   "execution_count": null,
   "id": "6fdd4b4e",
   "metadata": {},
   "outputs": [],
   "source": [
    "'''\n",
    "Abstraction is used to hide the internal functionality of the function from the users. \n",
    "The users only interact with the basic implementation of the function, but inner working is hidden. \n",
    "User is familiar with that \"what function does\" but they don't know \"how it does.\"\n",
    "\n",
    "In Python, an abstraction is used to hide the irrelevant data/class in order to reduce the complexity. \n",
    "It also enhances the application efficiency. \n",
    "\n",
    "\n",
    "In Python, abstraction can be achieved by using abstract classes and interfaces.\n",
    "\n",
    "\n",
    "Abstraction Classes\n",
    "A class that consists of one or more abstract method is called the abstract class. \n",
    "Abstract methods do not contain their implementation. \n",
    "Abstract class can be inherited by the subclass and abstract method gets its definition in the subclass. \n",
    "Abstraction classes are meant to be the blueprint of the other class. \n",
    "An abstract class can be useful when we are designing large functions. \n",
    "An abstract class is also helpful to provide the standard interface for different implementations of components. \n",
    "Python provides the abc module to use the abstraction in the Python program. \n",
    "\n",
    "Python doesn't provide the abstract class itself. We need to import the abc module, \n",
    "which provides the base for defining Abstract Base classes (ABC). \n",
    "The ABC works by decorating methods of the base class as abstract. \n",
    "It registers concrete classes as the implementation of the abstract base.\n",
    "\n",
    "\n",
    "\n",
    "'''"
   ]
  },
  {
   "cell_type": "code",
   "execution_count": null,
   "id": "f173a81a",
   "metadata": {},
   "outputs": [],
   "source": [
    "from abc import ABC, abstractmethod   \n",
    "class Car(ABC):   #abstract class \n",
    "    def mileage(self):   #abstract method\n",
    "        pass  "
   ]
  },
  {
   "cell_type": "code",
   "execution_count": null,
   "id": "a5342f3f",
   "metadata": {},
   "outputs": [],
   "source": [
    "class Tesla(Car):   \n",
    "    def mileage(self):   \n",
    "        print(\"The mileage is 30kmph\")  "
   ]
  },
  {
   "cell_type": "code",
   "execution_count": null,
   "id": "cee56052",
   "metadata": {},
   "outputs": [],
   "source": [
    "class Suzuki(Car):   \n",
    "    def mileage(self):   \n",
    "        print(\"The mileage is 25kmph \")   \n",
    "class Duster(Car):   \n",
    "     def mileage(self):   \n",
    "        print(\"The mileage is 24kmph \")   "
   ]
  },
  {
   "cell_type": "code",
   "execution_count": null,
   "id": "134a1819",
   "metadata": {},
   "outputs": [],
   "source": [
    "class Renault(Car):   \n",
    "    def mileage(self):   \n",
    "        print(\"The mileage is 27kmph \")   \n",
    "  "
   ]
  },
  {
   "cell_type": "code",
   "execution_count": null,
   "id": "d8716634",
   "metadata": {},
   "outputs": [],
   "source": [
    "t=Tesla ()   \n",
    "t.mileage()   "
   ]
  },
  {
   "cell_type": "code",
   "execution_count": null,
   "id": "a7b3249f",
   "metadata": {},
   "outputs": [],
   "source": [
    "  \n",
    "r = Renault()   \n",
    "r.mileage()   "
   ]
  },
  {
   "cell_type": "code",
   "execution_count": null,
   "id": "cb2addc9",
   "metadata": {},
   "outputs": [],
   "source": [
    "  \n",
    "s = Suzuki()   \n",
    "s.mileage()   \n",
    "d = Duster()   \n",
    "d.mileage()  "
   ]
  },
  {
   "cell_type": "code",
   "execution_count": null,
   "id": "f8ae9ad1",
   "metadata": {},
   "outputs": [],
   "source": [
    "from abc import ABC, abstractmethod\n",
    " \n",
    "class Polygon(ABC):\n",
    " \n",
    "    @abstractmethod\n",
    "    def noofsides(self):\n",
    "        pass\n",
    " \n",
    "class Triangle(Polygon):\n",
    " \n",
    "    # overriding abstract method\n",
    "    def noofsides(self):\n",
    "        print(\"I have 3 sides\")\n",
    " \n",
    "class Pentagon(Polygon):\n",
    " \n",
    "    # overriding abstract method\n",
    "    def noofsides(self):\n",
    "        print(\"I have 5 sides\")\n",
    " \n",
    "class Hexagon(Polygon):\n",
    " \n",
    "    # overriding abstract method\n",
    "    def noofsides(self):\n",
    "        print(\"I have 6 sides\")\n",
    " \n",
    "class Quadrilateral(Polygon):\n",
    " \n",
    "    # overriding abstract method\n",
    "    def noofsides(self):\n",
    "        print(\"I have 4 sides\")\n",
    " \n",
    "# Driver code\n",
    "R = Triangle()\n",
    "R.noofsides()\n",
    " \n",
    "K = Quadrilateral()\n",
    "K.noofsides()\n",
    " \n",
    "R = Pentagon()\n",
    "R.noofsides()\n",
    " \n",
    "K = Hexagon()\n",
    "K.noofsides()"
   ]
  },
  {
   "cell_type": "code",
   "execution_count": null,
   "id": "bcdb6acc",
   "metadata": {},
   "outputs": [],
   "source": [
    "class Traveller:\n",
    "    def __init__(self, name, country, age, source, destination):\n",
    "        self.name = name\n",
    "        self.country = country\n",
    "        self.age = age\n",
    "        self.source = source\n",
    "        self.destination = destination\n",
    "\n",
    "    def show_travell_details(self):\n",
    "        print('Name:', self.name)\n",
    "        print('Country:', self.country)\n",
    "        print('Age:', self.age)\n",
    "        print('Source:', self.source)\n",
    "        print('Destination:', self.destination)"
   ]
  },
  {
   "cell_type": "code",
   "execution_count": null,
   "id": "a5a5b205",
   "metadata": {},
   "outputs": [],
   "source": [
    "class Transport:\n",
    "    def transport_detail(self,type, distance, fare):\n",
    "        self.transport_type = type\n",
    "        self.distance = distance\n",
    "        self.fare = fare\n",
    "\n",
    "    def show_transport_details(self):\n",
    "        print('Transport type:', self.transport_type)\n",
    "        print('Distance:', self.distance)\n",
    "        print('Fare:', self.fare)"
   ]
  },
  {
   "cell_type": "code",
   "execution_count": null,
   "id": "d71eecd6",
   "metadata": {},
   "outputs": [],
   "source": [
    "class Stays:\n",
    "    def stay_details(self, stay_type, room_type, star_rating, cost_per_night, total_day_stay):\n",
    "        self.stay_type = stay_type\n",
    "        self.room_type = room_type\n",
    "        self.rating = star_rating\n",
    "        self.cost_per_night = cost_per_night\n",
    "        self.no_of_days = total_day_stay\n",
    "\n",
    "    def show_stay_details(self):\n",
    "        print('Stay Type:', self.stay_type)\n",
    "        print('Room Type:', self.room_type)\n",
    "        print('Rating:', self.rating)\n",
    "        print('Cost Per Night:', self.cost_per_night)\n",
    "        print('Number of days:', self.no_of_days)"
   ]
  },
  {
   "cell_type": "code",
   "execution_count": null,
   "id": "3175cdfb",
   "metadata": {},
   "outputs": [],
   "source": [
    "class Food:\n",
    "    def food_details(self, cuisine, AVG_cost, meals):\n",
    "        self.cuisine = cuisine\n",
    "        self.average_cost = AVG_cost\n",
    "        self.meals = meals\n",
    "\n",
    "    def show_food_details(self):\n",
    "        print('Cuisine:', self.cuisine)\n",
    "        print('Average Cost:', self.average_cost)\n",
    "        print('Meals Per Day:', self.meals)"
   ]
  },
  {
   "cell_type": "code",
   "execution_count": null,
   "id": "4f6a9689",
   "metadata": {},
   "outputs": [],
   "source": [
    "class Total_cost(Traveller, Transport, Stays, Food):\n",
    "    def overall_expense(self):\n",
    "        expense = self.fare + (self.cost_per_night * self.no_of_days) + (self.average_cost * self.meals * self.no_of_days)\n",
    "        print('Total Cost:', expense)\n"
   ]
  },
  {
   "cell_type": "code",
   "execution_count": null,
   "id": "910068e8",
   "metadata": {},
   "outputs": [],
   "source": [
    "t1 = Total_cost('Jonny', 'Brazil', 26, 'Montana', 'Moscow')\n",
    "t1.show_travell_details()\n",
    "\n",
    "t1.transport_detail('Train', '350km', 550)\n",
    "t1.show_transport_details()\n",
    "\n",
    "\n",
    "t1.stay_details('Hotel', 'Single room', '3 star', 900, 5)\n",
    "t1.show_stay_details()\n",
    "\n",
    "\n",
    "t1.food_details('Middle East', 250, 3)\n",
    "t1.show_food_details()\n",
    "\n",
    "t1.overall_expense()\n"
   ]
  },
  {
   "cell_type": "code",
   "execution_count": null,
   "id": "18a1d55d",
   "metadata": {},
   "outputs": [],
   "source": [
    "out"
   ]
  },
  {
   "cell_type": "code",
   "execution_count": null,
   "id": "b778d8a5",
   "metadata": {},
   "outputs": [],
   "source": [
    "l1=[23,13,24,56,34,90]\n",
    "l2=[22,34,55,64,34,22]\n",
    "l3=[65,54,24,23,45,67]\n",
    "l4=[89,78,76,11,14,54]\n",
    "l5=[99,76,55,44,33,23]\n",
    "\n",
    "out=[]\n",
    "s1=0\n",
    "for i in l1:\n",
    "    s1=i+s1\n",
    "out.append(s1)\n",
    "    \n",
    "s2=0\n",
    "for i in l2:\n",
    "    s2=i+s2\n",
    "\n",
    "out.append(s2)\n",
    "    \n",
    "s3=0\n",
    "for i in l3:\n",
    "    s3=i+s3\n",
    "\n",
    "out.append(s3)\n",
    "\n",
    "s4=0\n",
    "for i in l4:\n",
    "    s4=i+s4\n",
    "\n",
    "out.append(s4)\n",
    "\n",
    "s5=0\n",
    "for i in l5:\n",
    "    s5=i+s5\n",
    "    \n",
    "out.append(s5)\n"
   ]
  },
  {
   "cell_type": "code",
   "execution_count": null,
   "id": "ec3d6c48",
   "metadata": {},
   "outputs": [],
   "source": [
    "out"
   ]
  },
  {
   "cell_type": "code",
   "execution_count": null,
   "id": "349016e0",
   "metadata": {},
   "outputs": [],
   "source": []
  },
  {
   "cell_type": "code",
   "execution_count": null,
   "id": "0ecbcce1",
   "metadata": {},
   "outputs": [],
   "source": []
  },
  {
   "cell_type": "code",
   "execution_count": null,
   "id": "712caaf7",
   "metadata": {},
   "outputs": [],
   "source": []
  },
  {
   "cell_type": "code",
   "execution_count": null,
   "id": "179d0ba0",
   "metadata": {},
   "outputs": [],
   "source": []
  },
  {
   "cell_type": "code",
   "execution_count": null,
   "id": "7d30a6ec",
   "metadata": {},
   "outputs": [],
   "source": []
  },
  {
   "cell_type": "code",
   "execution_count": null,
   "id": "44423526",
   "metadata": {},
   "outputs": [],
   "source": []
  }
 ],
 "metadata": {
  "kernelspec": {
   "display_name": "Python 3 (ipykernel)",
   "language": "python",
   "name": "python3"
  },
  "language_info": {
   "codemirror_mode": {
    "name": "ipython",
    "version": 3
   },
   "file_extension": ".py",
   "mimetype": "text/x-python",
   "name": "python",
   "nbconvert_exporter": "python",
   "pygments_lexer": "ipython3",
   "version": "3.10.9"
  }
 },
 "nbformat": 4,
 "nbformat_minor": 5
}
