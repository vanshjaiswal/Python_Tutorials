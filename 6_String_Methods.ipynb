{
 "cells": [
  {
   "cell_type": "code",
   "execution_count": null,
   "id": "df8e5fa3",
   "metadata": {},
   "outputs": [],
   "source": [
    "print('it is a beautiful day')"
   ]
  },
  {
   "cell_type": "code",
   "execution_count": null,
   "id": "487a017c",
   "metadata": {},
   "outputs": [],
   "source": [
    "print('Hello')"
   ]
  },
  {
   "cell_type": "code",
   "execution_count": null,
   "id": "171e5ab7",
   "metadata": {},
   "outputs": [],
   "source": [
    "print(\"World\")"
   ]
  },
  {
   "cell_type": "code",
   "execution_count": null,
   "id": "091b3f3a",
   "metadata": {},
   "outputs": [],
   "source": [
    "print('it's a beautiful day')"
   ]
  },
  {
   "cell_type": "code",
   "execution_count": null,
   "id": "5540eb84",
   "metadata": {},
   "outputs": [],
   "source": [
    "# it's a \"beautiful\" day\n",
    "\n",
    "# \\ escape charatcter"
   ]
  },
  {
   "cell_type": "code",
   "execution_count": null,
   "id": "617ce678",
   "metadata": {},
   "outputs": [],
   "source": [
    "print('it\\'s a beautiful day')"
   ]
  },
  {
   "cell_type": "code",
   "execution_count": null,
   "id": "5bc1ba6f",
   "metadata": {},
   "outputs": [],
   "source": [
    "print(\"it\\'s a \\\"beautiful\\\" day\")"
   ]
  },
  {
   "cell_type": "code",
   "execution_count": null,
   "id": "1c3b2536",
   "metadata": {},
   "outputs": [],
   "source": [
    "# it's a beautiful day ! welcome to \"careerera\" course."
   ]
  },
  {
   "cell_type": "code",
   "execution_count": null,
   "id": "1b385d15",
   "metadata": {},
   "outputs": [],
   "source": [
    "print(\"it\\'s a beautiful day!. \\t welcome to careerera course\")"
   ]
  },
  {
   "cell_type": "code",
   "execution_count": null,
   "id": "12cb8841",
   "metadata": {},
   "outputs": [],
   "source": [
    "#it's a beautiful day!         welcome to careerera course"
   ]
  },
  {
   "cell_type": "code",
   "execution_count": null,
   "id": "6f4981aa",
   "metadata": {},
   "outputs": [],
   "source": [
    "print(\"it's a beautiful day!. \\nwelcome to careerera course. \\nHello Everyone !\")"
   ]
  },
  {
   "cell_type": "code",
   "execution_count": null,
   "id": "3d533283",
   "metadata": {},
   "outputs": [],
   "source": [
    "c='''\n",
    "hello world\n",
    "    how are you\n",
    "    \n",
    "    what is your name \n",
    "    \n",
    "    where do you live?\n",
    "'''"
   ]
  },
  {
   "cell_type": "code",
   "execution_count": null,
   "id": "768a937c",
   "metadata": {},
   "outputs": [],
   "source": [
    "def area_recatngle(a,b):\n",
    "    '''\n",
    "    area_rectangle is the function which is calculating the area of a rectangle\n",
    "    \n",
    "    Parameters:\n",
    "    a = len of rectangle (data type: float)\n",
    "    b = bre of rectangle (data type: float)\n",
    "    \n",
    "    '''\n",
    "    area=a*b\n",
    "    return area"
   ]
  },
  {
   "cell_type": "code",
   "execution_count": null,
   "id": "baa1e9bc",
   "metadata": {},
   "outputs": [],
   "source": [
    "area_recatngle(10,5)"
   ]
  },
  {
   "cell_type": "code",
   "execution_count": null,
   "id": "10ff9f39",
   "metadata": {},
   "outputs": [],
   "source": [
    "'''\n",
    "this is my multi line comment\n",
    "\n",
    "\n",
    "'''"
   ]
  },
  {
   "cell_type": "markdown",
   "id": "5204359d",
   "metadata": {},
   "source": [
    "# String Methods"
   ]
  },
  {
   "cell_type": "code",
   "execution_count": null,
   "id": "35e25951",
   "metadata": {},
   "outputs": [],
   "source": [
    "# 'str_var'.lower()"
   ]
  },
  {
   "cell_type": "code",
   "execution_count": null,
   "id": "2e2ee1db",
   "metadata": {},
   "outputs": [],
   "source": [
    "x='pYtHon strING meThods'\n",
    "x"
   ]
  },
  {
   "cell_type": "code",
   "execution_count": null,
   "id": "35737da2",
   "metadata": {},
   "outputs": [],
   "source": [
    "print(x.lower())"
   ]
  },
  {
   "cell_type": "code",
   "execution_count": null,
   "id": "16cb254b",
   "metadata": {},
   "outputs": [],
   "source": [
    "# 'str_var'.upper()"
   ]
  },
  {
   "cell_type": "code",
   "execution_count": null,
   "id": "99e3c192",
   "metadata": {},
   "outputs": [],
   "source": [
    "name=str(input())\n",
    "name=name.upper()\n",
    "print(name)"
   ]
  },
  {
   "cell_type": "code",
   "execution_count": null,
   "id": "e8269e8d",
   "metadata": {},
   "outputs": [],
   "source": [
    "x.upper()"
   ]
  },
  {
   "cell_type": "code",
   "execution_count": null,
   "id": "1c81df41",
   "metadata": {},
   "outputs": [],
   "source": [
    "x"
   ]
  },
  {
   "cell_type": "code",
   "execution_count": null,
   "id": "6e87f53f",
   "metadata": {},
   "outputs": [],
   "source": [
    "# 'str_var'.capitalize()"
   ]
  },
  {
   "cell_type": "code",
   "execution_count": null,
   "id": "379cb41e",
   "metadata": {},
   "outputs": [],
   "source": [
    "x.capitalize()"
   ]
  },
  {
   "cell_type": "code",
   "execution_count": null,
   "id": "bad2a971",
   "metadata": {},
   "outputs": [],
   "source": [
    "# 'str_var'.title()"
   ]
  },
  {
   "cell_type": "code",
   "execution_count": null,
   "id": "28d62de5",
   "metadata": {},
   "outputs": [],
   "source": [
    "x.title()"
   ]
  },
  {
   "cell_type": "code",
   "execution_count": null,
   "id": "d584b09b",
   "metadata": {},
   "outputs": [],
   "source": [
    "# 'str_var'.swapcase()"
   ]
  },
  {
   "cell_type": "code",
   "execution_count": null,
   "id": "bfef9247",
   "metadata": {},
   "outputs": [],
   "source": [
    "x"
   ]
  },
  {
   "cell_type": "code",
   "execution_count": null,
   "id": "efa1f391",
   "metadata": {},
   "outputs": [],
   "source": [
    "x.swapcase()"
   ]
  },
  {
   "cell_type": "code",
   "execution_count": null,
   "id": "68d9f144",
   "metadata": {},
   "outputs": [],
   "source": [
    "# 'str_var'.islower()\n",
    "#when every charcter is in lowercase then returns true else false\n",
    "#returns the boolean value "
   ]
  },
  {
   "cell_type": "code",
   "execution_count": null,
   "id": "ab0d6f99",
   "metadata": {},
   "outputs": [],
   "source": [
    "x='python'\n",
    "\n",
    "x.islower()"
   ]
  },
  {
   "cell_type": "code",
   "execution_count": null,
   "id": "ff73f436",
   "metadata": {},
   "outputs": [],
   "source": [
    "y='Python'\n",
    "\n",
    "y.islower()"
   ]
  },
  {
   "cell_type": "code",
   "execution_count": null,
   "id": "42bd7ad7",
   "metadata": {},
   "outputs": [],
   "source": [
    "# 'str_var'.isupper()\n",
    "#when every charcter is in uppercase then returns true else false\n",
    "#returns the boolean value "
   ]
  },
  {
   "cell_type": "code",
   "execution_count": null,
   "id": "723c89bd",
   "metadata": {},
   "outputs": [],
   "source": [
    "x.isupper()"
   ]
  },
  {
   "cell_type": "code",
   "execution_count": null,
   "id": "c15b917c",
   "metadata": {},
   "outputs": [],
   "source": [
    "y.isupper()"
   ]
  },
  {
   "cell_type": "code",
   "execution_count": null,
   "id": "044ba46f",
   "metadata": {},
   "outputs": [],
   "source": [
    "z=\"PYTHON\""
   ]
  },
  {
   "cell_type": "code",
   "execution_count": null,
   "id": "01cf7d74",
   "metadata": {},
   "outputs": [],
   "source": [
    "z.isupper()"
   ]
  },
  {
   "cell_type": "code",
   "execution_count": null,
   "id": "17484a8f",
   "metadata": {},
   "outputs": [],
   "source": [
    "# 'str_var'.istitle()\n",
    "# When every word's first char is in uppercase and remaining char of\n",
    "# word is in lower case then returns True else False.\n",
    "#returns the boolean value "
   ]
  },
  {
   "cell_type": "code",
   "execution_count": null,
   "id": "dfbd762f",
   "metadata": {},
   "outputs": [],
   "source": [
    "x=\"Python String Methods\""
   ]
  },
  {
   "cell_type": "code",
   "execution_count": null,
   "id": "f4b21fe3",
   "metadata": {},
   "outputs": [],
   "source": [
    "x.istitle()"
   ]
  },
  {
   "cell_type": "code",
   "execution_count": null,
   "id": "a83bac4d",
   "metadata": {},
   "outputs": [],
   "source": [
    "x.title()"
   ]
  },
  {
   "cell_type": "code",
   "execution_count": null,
   "id": "44b4835a",
   "metadata": {},
   "outputs": [],
   "source": [
    "# 'str_var'.isdigit()\n",
    "# When every char is digits then returns true else false \n",
    "#returns the boolean value "
   ]
  },
  {
   "cell_type": "code",
   "execution_count": null,
   "id": "4df36815",
   "metadata": {},
   "outputs": [],
   "source": [
    "a='123'"
   ]
  },
  {
   "cell_type": "code",
   "execution_count": null,
   "id": "e83519f9",
   "metadata": {},
   "outputs": [],
   "source": [
    "type(a)"
   ]
  },
  {
   "cell_type": "code",
   "execution_count": null,
   "id": "60c75b59",
   "metadata": {},
   "outputs": [],
   "source": [
    "a.isdigit()"
   ]
  },
  {
   "cell_type": "code",
   "execution_count": null,
   "id": "8b777660",
   "metadata": {},
   "outputs": [],
   "source": [
    "# str_var.isalpha()\n",
    "# When every char is alphabet then returns true else false "
   ]
  },
  {
   "cell_type": "code",
   "execution_count": null,
   "id": "0ac511b6",
   "metadata": {},
   "outputs": [],
   "source": [
    "x='Abc'"
   ]
  },
  {
   "cell_type": "code",
   "execution_count": null,
   "id": "28a16d36",
   "metadata": {},
   "outputs": [],
   "source": [
    "x.isalpha()"
   ]
  },
  {
   "cell_type": "code",
   "execution_count": null,
   "id": "52dbc171",
   "metadata": {},
   "outputs": [],
   "source": [
    "y='abc12'"
   ]
  },
  {
   "cell_type": "code",
   "execution_count": null,
   "id": "2c02cbd6",
   "metadata": {},
   "outputs": [],
   "source": [
    "y.isalpha()"
   ]
  },
  {
   "cell_type": "code",
   "execution_count": null,
   "id": "be91b557",
   "metadata": {},
   "outputs": [],
   "source": [
    "name=str(input())"
   ]
  },
  {
   "cell_type": "code",
   "execution_count": null,
   "id": "737f3769",
   "metadata": {},
   "outputs": [],
   "source": [
    "name=str(input())"
   ]
  },
  {
   "cell_type": "code",
   "execution_count": null,
   "id": "73dc8008",
   "metadata": {},
   "outputs": [],
   "source": [
    "# str_var.isalnum()\n",
    "# When every char is either alphabet or digits then returns true else false "
   ]
  },
  {
   "cell_type": "code",
   "execution_count": null,
   "id": "9144d48d",
   "metadata": {},
   "outputs": [],
   "source": [
    "z='abc'"
   ]
  },
  {
   "cell_type": "code",
   "execution_count": null,
   "id": "7f6a4eb6",
   "metadata": {},
   "outputs": [],
   "source": [
    "z.isalnum()"
   ]
  },
  {
   "cell_type": "code",
   "execution_count": null,
   "id": "77da093c",
   "metadata": {},
   "outputs": [],
   "source": [
    "z1='abcd#$%^'"
   ]
  },
  {
   "cell_type": "code",
   "execution_count": null,
   "id": "2e096533",
   "metadata": {},
   "outputs": [],
   "source": [
    "z1.isalnum()"
   ]
  },
  {
   "cell_type": "code",
   "execution_count": null,
   "id": "e85125fc",
   "metadata": {},
   "outputs": [],
   "source": [
    "x"
   ]
  },
  {
   "cell_type": "code",
   "execution_count": null,
   "id": "ae2b1f68",
   "metadata": {},
   "outputs": [],
   "source": [
    "x.isalnum()"
   ]
  },
  {
   "cell_type": "code",
   "execution_count": null,
   "id": "7b5a6b82",
   "metadata": {},
   "outputs": [],
   "source": [
    "\"@\"\n",
    "\n",
    "rupali_123gmail.com"
   ]
  }
 ],
 "metadata": {
  "kernelspec": {
   "display_name": "Python 3 (ipykernel)",
   "language": "python",
   "name": "python3"
  },
  "language_info": {
   "codemirror_mode": {
    "name": "ipython",
    "version": 3
   },
   "file_extension": ".py",
   "mimetype": "text/x-python",
   "name": "python",
   "nbconvert_exporter": "python",
   "pygments_lexer": "ipython3",
   "version": "3.10.9"
  }
 },
 "nbformat": 4,
 "nbformat_minor": 5
}
