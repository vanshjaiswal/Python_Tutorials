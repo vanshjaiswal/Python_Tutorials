{
 "cells": [
  {
   "cell_type": "markdown",
   "id": "02034009",
   "metadata": {},
   "source": [
    "# Operators"
   ]
  },
  {
   "cell_type": "markdown",
   "id": "af55edf8",
   "metadata": {},
   "source": [
    "There are three types of operator in python.\n",
    "\n",
    "1: Arithmatic operator\n",
    "\n",
    "2: Relational operator\n",
    "\n",
    "3: Logical Operator"
   ]
  },
  {
   "cell_type": "code",
   "execution_count": null,
   "id": "cb785532",
   "metadata": {},
   "outputs": [],
   "source": [
    "#Arithmatic operator: +, -, *, /, //, %, **\n",
    "\n",
    "'''\n",
    "\n",
    "+ addition\n",
    "- subtatction \n",
    "* Multiplication\n",
    "/ division\n",
    "\n",
    "// floor division or Integer division\n",
    "%  Modulo operator (gives the remainder)\n",
    "\n",
    "** exponential operator\n",
    "\n",
    "\n",
    "\n",
    "'''"
   ]
  },
  {
   "cell_type": "code",
   "execution_count": 1,
   "id": "d63299b8",
   "metadata": {},
   "outputs": [],
   "source": [
    "x=10.5\n",
    "y=5"
   ]
  },
  {
   "cell_type": "code",
   "execution_count": 2,
   "id": "e6f56cf5",
   "metadata": {},
   "outputs": [
    {
     "data": {
      "text/plain": [
       "15.5"
      ]
     },
     "execution_count": 2,
     "metadata": {},
     "output_type": "execute_result"
    }
   ],
   "source": [
    "x+y"
   ]
  },
  {
   "cell_type": "code",
   "execution_count": 3,
   "id": "53be04be",
   "metadata": {},
   "outputs": [
    {
     "data": {
      "text/plain": [
       "5.5"
      ]
     },
     "execution_count": 3,
     "metadata": {},
     "output_type": "execute_result"
    }
   ],
   "source": [
    "x-y"
   ]
  },
  {
   "cell_type": "code",
   "execution_count": 4,
   "id": "449dffc6",
   "metadata": {},
   "outputs": [
    {
     "data": {
      "text/plain": [
       "52.5"
      ]
     },
     "execution_count": 4,
     "metadata": {},
     "output_type": "execute_result"
    }
   ],
   "source": [
    "x*y"
   ]
  },
  {
   "cell_type": "code",
   "execution_count": 5,
   "id": "de95bc26",
   "metadata": {},
   "outputs": [
    {
     "data": {
      "text/plain": [
       "2.1"
      ]
     },
     "execution_count": 5,
     "metadata": {},
     "output_type": "execute_result"
    }
   ],
   "source": [
    "x/y"
   ]
  },
  {
   "cell_type": "markdown",
   "id": "292e4c74",
   "metadata": {},
   "source": [
    "# Floor division or integer divison //"
   ]
  },
  {
   "cell_type": "code",
   "execution_count": 6,
   "id": "70d3434e",
   "metadata": {},
   "outputs": [
    {
     "data": {
      "text/plain": [
       "'\\nFloor division or integer divison divides the Nr with Dr and it returns the integer part of the \\nquotient and discard the decimal part of the quotient.\\n\\nNOTE: Whenever your Nr < Dr in floor division your output will be always 0. \\nNOTE: Nr and Dr should always be in int. (Thumb rule)\\n\\n'"
      ]
     },
     "execution_count": 6,
     "metadata": {},
     "output_type": "execute_result"
    }
   ],
   "source": [
    "'''\n",
    "Floor division or integer divison divides the Nr with Dr and it returns the integer part of the \n",
    "quotient and discard the decimal part of the quotient.\n",
    "\n",
    "NOTE: Whenever your Nr < Dr in floor division your output will be always 0. \n",
    "NOTE: Nr and Dr should always be in int. (Thumb rule)\n",
    "\n",
    "'''"
   ]
  },
  {
   "cell_type": "code",
   "execution_count": 7,
   "id": "298f8c7b",
   "metadata": {},
   "outputs": [
    {
     "data": {
      "text/plain": [
       "1.6666666666666667"
      ]
     },
     "execution_count": 7,
     "metadata": {},
     "output_type": "execute_result"
    }
   ],
   "source": [
    "5/3"
   ]
  },
  {
   "cell_type": "code",
   "execution_count": 8,
   "id": "1e0ede4a",
   "metadata": {},
   "outputs": [
    {
     "data": {
      "text/plain": [
       "1"
      ]
     },
     "execution_count": 8,
     "metadata": {},
     "output_type": "execute_result"
    }
   ],
   "source": [
    "5//3"
   ]
  },
  {
   "cell_type": "code",
   "execution_count": null,
   "id": "844e9069",
   "metadata": {},
   "outputs": [],
   "source": []
  },
  {
   "cell_type": "code",
   "execution_count": 9,
   "id": "c2f71d27",
   "metadata": {},
   "outputs": [
    {
     "data": {
      "text/plain": [
       "3"
      ]
     },
     "execution_count": 9,
     "metadata": {},
     "output_type": "execute_result"
    }
   ],
   "source": [
    "11//3"
   ]
  },
  {
   "cell_type": "code",
   "execution_count": 10,
   "id": "f1c26023",
   "metadata": {},
   "outputs": [],
   "source": [
    "a=85\n",
    "b=16"
   ]
  },
  {
   "cell_type": "code",
   "execution_count": 11,
   "id": "db2d7266",
   "metadata": {},
   "outputs": [
    {
     "data": {
      "text/plain": [
       "5.3125"
      ]
     },
     "execution_count": 11,
     "metadata": {},
     "output_type": "execute_result"
    }
   ],
   "source": [
    "c=a/b\n",
    "c"
   ]
  },
  {
   "cell_type": "code",
   "execution_count": 12,
   "id": "367738af",
   "metadata": {},
   "outputs": [
    {
     "data": {
      "text/plain": [
       "5"
      ]
     },
     "execution_count": 12,
     "metadata": {},
     "output_type": "execute_result"
    }
   ],
   "source": [
    "d=a//b\n",
    "d"
   ]
  },
  {
   "cell_type": "code",
   "execution_count": 13,
   "id": "4b89d697",
   "metadata": {
    "scrolled": true
   },
   "outputs": [
    {
     "data": {
      "text/plain": [
       "5"
      ]
     },
     "execution_count": 13,
     "metadata": {},
     "output_type": "execute_result"
    }
   ],
   "source": [
    "c=int(c)\n",
    "c"
   ]
  },
  {
   "cell_type": "code",
   "execution_count": 14,
   "id": "bf9eb5da",
   "metadata": {},
   "outputs": [
    {
     "data": {
      "text/plain": [
       "0.5"
      ]
     },
     "execution_count": 14,
     "metadata": {},
     "output_type": "execute_result"
    }
   ],
   "source": [
    "2/4"
   ]
  },
  {
   "cell_type": "code",
   "execution_count": 15,
   "id": "76542ebe",
   "metadata": {},
   "outputs": [
    {
     "data": {
      "text/plain": [
       "0"
      ]
     },
     "execution_count": 15,
     "metadata": {},
     "output_type": "execute_result"
    }
   ],
   "source": [
    "2//4"
   ]
  },
  {
   "cell_type": "code",
   "execution_count": 16,
   "id": "ae268501",
   "metadata": {},
   "outputs": [
    {
     "data": {
      "text/plain": [
       "4.166666666666667"
      ]
     },
     "execution_count": 16,
     "metadata": {},
     "output_type": "execute_result"
    }
   ],
   "source": [
    "25/6"
   ]
  },
  {
   "cell_type": "code",
   "execution_count": 17,
   "id": "81699915",
   "metadata": {},
   "outputs": [
    {
     "data": {
      "text/plain": [
       "4"
      ]
     },
     "execution_count": 17,
     "metadata": {},
     "output_type": "execute_result"
    }
   ],
   "source": [
    "25//6"
   ]
  },
  {
   "cell_type": "code",
   "execution_count": 18,
   "id": "9b95abb5",
   "metadata": {},
   "outputs": [
    {
     "data": {
      "text/plain": [
       "3"
      ]
     },
     "execution_count": 18,
     "metadata": {},
     "output_type": "execute_result"
    }
   ],
   "source": [
    "10//3"
   ]
  },
  {
   "cell_type": "code",
   "execution_count": 19,
   "id": "830f01af",
   "metadata": {},
   "outputs": [
    {
     "data": {
      "text/plain": [
       "3.3333333333333335"
      ]
     },
     "execution_count": 19,
     "metadata": {},
     "output_type": "execute_result"
    }
   ],
   "source": [
    "n = 10/3\n",
    "n"
   ]
  },
  {
   "cell_type": "code",
   "execution_count": 20,
   "id": "4375f880",
   "metadata": {},
   "outputs": [
    {
     "data": {
      "text/plain": [
       "3"
      ]
     },
     "execution_count": 20,
     "metadata": {},
     "output_type": "execute_result"
    }
   ],
   "source": [
    "n = int(3.333)\n",
    "n"
   ]
  },
  {
   "cell_type": "code",
   "execution_count": 21,
   "id": "ef2c0be6",
   "metadata": {},
   "outputs": [],
   "source": [
    "x=10\n",
    "y=3"
   ]
  },
  {
   "cell_type": "code",
   "execution_count": 22,
   "id": "a4df40ba",
   "metadata": {},
   "outputs": [],
   "source": [
    "z=x/y"
   ]
  },
  {
   "cell_type": "code",
   "execution_count": 23,
   "id": "bcd726b5",
   "metadata": {},
   "outputs": [
    {
     "data": {
      "text/plain": [
       "3.3333333333333335"
      ]
     },
     "execution_count": 23,
     "metadata": {},
     "output_type": "execute_result"
    }
   ],
   "source": [
    "z"
   ]
  },
  {
   "cell_type": "code",
   "execution_count": 24,
   "id": "cdb2ca3d",
   "metadata": {},
   "outputs": [],
   "source": [
    "z=int(z)"
   ]
  },
  {
   "cell_type": "code",
   "execution_count": 25,
   "id": "dc9296f2",
   "metadata": {},
   "outputs": [
    {
     "data": {
      "text/plain": [
       "3"
      ]
     },
     "execution_count": 25,
     "metadata": {},
     "output_type": "execute_result"
    }
   ],
   "source": [
    "z"
   ]
  },
  {
   "cell_type": "code",
   "execution_count": 26,
   "id": "a4e8b2d4",
   "metadata": {},
   "outputs": [],
   "source": [
    "m=int(x/y)"
   ]
  },
  {
   "cell_type": "code",
   "execution_count": 27,
   "id": "c7fa0e81",
   "metadata": {},
   "outputs": [
    {
     "data": {
      "text/plain": [
       "3"
      ]
     },
     "execution_count": 27,
     "metadata": {},
     "output_type": "execute_result"
    }
   ],
   "source": [
    "m"
   ]
  },
  {
   "cell_type": "code",
   "execution_count": 28,
   "id": "317df41c",
   "metadata": {},
   "outputs": [
    {
     "data": {
      "text/plain": [
       "6.666666666666667"
      ]
     },
     "execution_count": 28,
     "metadata": {},
     "output_type": "execute_result"
    }
   ],
   "source": [
    "20/3"
   ]
  },
  {
   "cell_type": "code",
   "execution_count": 29,
   "id": "aa92b91c",
   "metadata": {},
   "outputs": [
    {
     "data": {
      "text/plain": [
       "2.0"
      ]
     },
     "execution_count": 29,
     "metadata": {},
     "output_type": "execute_result"
    }
   ],
   "source": [
    "10/5"
   ]
  },
  {
   "cell_type": "code",
   "execution_count": 30,
   "id": "9d2c899b",
   "metadata": {},
   "outputs": [],
   "source": [
    "#Floor division '//'"
   ]
  },
  {
   "cell_type": "code",
   "execution_count": 31,
   "id": "133dabd1",
   "metadata": {},
   "outputs": [
    {
     "data": {
      "text/plain": [
       "6"
      ]
     },
     "execution_count": 31,
     "metadata": {},
     "output_type": "execute_result"
    }
   ],
   "source": [
    "20//3"
   ]
  },
  {
   "cell_type": "code",
   "execution_count": 32,
   "id": "e328b3c5",
   "metadata": {},
   "outputs": [],
   "source": [
    "a=20\n",
    "b=3\n",
    "c=int(a/b)"
   ]
  },
  {
   "cell_type": "code",
   "execution_count": 33,
   "id": "9b7a3729",
   "metadata": {},
   "outputs": [
    {
     "data": {
      "text/plain": [
       "6.666666666666667"
      ]
     },
     "execution_count": 33,
     "metadata": {},
     "output_type": "execute_result"
    }
   ],
   "source": [
    "a/b"
   ]
  },
  {
   "cell_type": "code",
   "execution_count": 34,
   "id": "6f625dce",
   "metadata": {},
   "outputs": [
    {
     "data": {
      "text/plain": [
       "6"
      ]
     },
     "execution_count": 34,
     "metadata": {},
     "output_type": "execute_result"
    }
   ],
   "source": [
    "int(6.6666667)"
   ]
  },
  {
   "cell_type": "code",
   "execution_count": 35,
   "id": "17ad1e74",
   "metadata": {},
   "outputs": [
    {
     "data": {
      "text/plain": [
       "6"
      ]
     },
     "execution_count": 35,
     "metadata": {},
     "output_type": "execute_result"
    }
   ],
   "source": [
    "c"
   ]
  },
  {
   "cell_type": "code",
   "execution_count": 36,
   "id": "cd53a992",
   "metadata": {},
   "outputs": [
    {
     "data": {
      "text/plain": [
       "112"
      ]
     },
     "execution_count": 36,
     "metadata": {},
     "output_type": "execute_result"
    }
   ],
   "source": [
    "92384//823"
   ]
  },
  {
   "cell_type": "code",
   "execution_count": 37,
   "id": "c9d92c12",
   "metadata": {},
   "outputs": [
    {
     "data": {
      "text/plain": [
       "0"
      ]
     },
     "execution_count": 37,
     "metadata": {},
     "output_type": "execute_result"
    }
   ],
   "source": [
    "1//5"
   ]
  },
  {
   "cell_type": "code",
   "execution_count": 38,
   "id": "64c75469",
   "metadata": {},
   "outputs": [
    {
     "ename": "ZeroDivisionError",
     "evalue": "integer division or modulo by zero",
     "output_type": "error",
     "traceback": [
      "\u001b[1;31m---------------------------------------------------------------------------\u001b[0m",
      "\u001b[1;31mZeroDivisionError\u001b[0m                         Traceback (most recent call last)",
      "Cell \u001b[1;32mIn[38], line 1\u001b[0m\n\u001b[1;32m----> 1\u001b[0m \u001b[38;5;241;43m5\u001b[39;49m\u001b[38;5;241;43m/\u001b[39;49m\u001b[38;5;241;43m/\u001b[39;49m\u001b[38;5;241;43m0\u001b[39;49m\n",
      "\u001b[1;31mZeroDivisionError\u001b[0m: integer division or modulo by zero"
     ]
    }
   ],
   "source": [
    "5//0"
   ]
  },
  {
   "cell_type": "code",
   "execution_count": 39,
   "id": "f9ede0ea",
   "metadata": {},
   "outputs": [
    {
     "data": {
      "text/plain": [
       "1"
      ]
     },
     "execution_count": 39,
     "metadata": {},
     "output_type": "execute_result"
    }
   ],
   "source": [
    "15//15"
   ]
  },
  {
   "cell_type": "markdown",
   "id": "0b59eeb9",
   "metadata": {},
   "source": [
    "# modulo '%' operator"
   ]
  },
  {
   "cell_type": "code",
   "execution_count": null,
   "id": "04a6f064",
   "metadata": {},
   "outputs": [],
   "source": [
    "'''\n",
    "Modulo (%) operator return the remainder of the division operation.\n",
    "\n",
    "NOTE: when your Nr < Dr modulo returns the Nr.\n",
    "'''"
   ]
  },
  {
   "cell_type": "code",
   "execution_count": 40,
   "id": "b92c2226",
   "metadata": {},
   "outputs": [
    {
     "data": {
      "text/plain": [
       "6.5"
      ]
     },
     "execution_count": 40,
     "metadata": {},
     "output_type": "execute_result"
    }
   ],
   "source": [
    "13/2"
   ]
  },
  {
   "cell_type": "code",
   "execution_count": 41,
   "id": "d14949bd",
   "metadata": {},
   "outputs": [
    {
     "data": {
      "text/plain": [
       "1"
      ]
     },
     "execution_count": 41,
     "metadata": {},
     "output_type": "execute_result"
    }
   ],
   "source": [
    "13 % 2"
   ]
  },
  {
   "cell_type": "code",
   "execution_count": 42,
   "id": "4c6809e7",
   "metadata": {},
   "outputs": [
    {
     "data": {
      "text/plain": [
       "2"
      ]
     },
     "execution_count": 42,
     "metadata": {},
     "output_type": "execute_result"
    }
   ],
   "source": [
    "17 % 5"
   ]
  },
  {
   "cell_type": "code",
   "execution_count": 43,
   "id": "576eae9f",
   "metadata": {},
   "outputs": [
    {
     "data": {
      "text/plain": [
       "1"
      ]
     },
     "execution_count": 43,
     "metadata": {},
     "output_type": "execute_result"
    }
   ],
   "source": [
    "10 % 3"
   ]
  },
  {
   "cell_type": "code",
   "execution_count": 44,
   "id": "c029bf10",
   "metadata": {},
   "outputs": [
    {
     "data": {
      "text/plain": [
       "1"
      ]
     },
     "execution_count": 44,
     "metadata": {},
     "output_type": "execute_result"
    }
   ],
   "source": [
    "25%6"
   ]
  },
  {
   "cell_type": "code",
   "execution_count": 45,
   "id": "5f4d3e6e",
   "metadata": {},
   "outputs": [
    {
     "data": {
      "text/plain": [
       "5"
      ]
     },
     "execution_count": 45,
     "metadata": {},
     "output_type": "execute_result"
    }
   ],
   "source": [
    "29%6"
   ]
  },
  {
   "cell_type": "code",
   "execution_count": 46,
   "id": "60bc5a4e",
   "metadata": {},
   "outputs": [
    {
     "data": {
      "text/plain": [
       "9"
      ]
     },
     "execution_count": 46,
     "metadata": {},
     "output_type": "execute_result"
    }
   ],
   "source": [
    "9 % 35"
   ]
  },
  {
   "cell_type": "code",
   "execution_count": 47,
   "id": "6fbb28e3",
   "metadata": {},
   "outputs": [
    {
     "data": {
      "text/plain": [
       "3"
      ]
     },
     "execution_count": 47,
     "metadata": {},
     "output_type": "execute_result"
    }
   ],
   "source": [
    "3 % 5"
   ]
  },
  {
   "cell_type": "code",
   "execution_count": 48,
   "id": "cb534ca9",
   "metadata": {},
   "outputs": [
    {
     "data": {
      "text/plain": [
       "2"
      ]
     },
     "execution_count": 48,
     "metadata": {},
     "output_type": "execute_result"
    }
   ],
   "source": [
    "5 % 3"
   ]
  },
  {
   "cell_type": "code",
   "execution_count": null,
   "id": "46d27bec",
   "metadata": {},
   "outputs": [],
   "source": [
    "15 % 5"
   ]
  },
  {
   "cell_type": "code",
   "execution_count": null,
   "id": "38af3ab0",
   "metadata": {},
   "outputs": [],
   "source": [
    "# check whether the given input is even number or odd , if even print False and if odd print True\n"
   ]
  },
  {
   "cell_type": "code",
   "execution_count": 49,
   "id": "9eaa9682",
   "metadata": {},
   "outputs": [
    {
     "name": "stdout",
     "output_type": "stream",
     "text": [
      "enter the number: 57\n",
      "True\n"
     ]
    }
   ],
   "source": [
    "num = int(input(\"enter the number: \"))\n",
    "\n",
    "rem = num % 2\n",
    "\n",
    "ans = bool(rem)\n",
    "\n",
    "print(ans)"
   ]
  },
  {
   "cell_type": "code",
   "execution_count": 50,
   "id": "b8170e59",
   "metadata": {},
   "outputs": [
    {
     "data": {
      "text/plain": [
       "False"
      ]
     },
     "execution_count": 50,
     "metadata": {},
     "output_type": "execute_result"
    }
   ],
   "source": [
    "bool(0)"
   ]
  },
  {
   "cell_type": "code",
   "execution_count": 51,
   "id": "7a52f2bf",
   "metadata": {},
   "outputs": [
    {
     "data": {
      "text/plain": [
       "True"
      ]
     },
     "execution_count": 51,
     "metadata": {},
     "output_type": "execute_result"
    }
   ],
   "source": [
    "bool(1)\n"
   ]
  },
  {
   "cell_type": "code",
   "execution_count": null,
   "id": "b4ee18b2",
   "metadata": {},
   "outputs": [],
   "source": [
    "1,2,3,4,5,6"
   ]
  },
  {
   "cell_type": "code",
   "execution_count": 52,
   "id": "dbddd401",
   "metadata": {},
   "outputs": [],
   "source": [
    "x=63\n",
    "y=5\n"
   ]
  },
  {
   "cell_type": "code",
   "execution_count": 53,
   "id": "dd427da8",
   "metadata": {},
   "outputs": [
    {
     "data": {
      "text/plain": [
       "3"
      ]
     },
     "execution_count": 53,
     "metadata": {},
     "output_type": "execute_result"
    }
   ],
   "source": [
    "x % y"
   ]
  },
  {
   "cell_type": "code",
   "execution_count": 54,
   "id": "824c10ab",
   "metadata": {},
   "outputs": [
    {
     "data": {
      "text/plain": [
       "12"
      ]
     },
     "execution_count": 54,
     "metadata": {},
     "output_type": "execute_result"
    }
   ],
   "source": [
    "x//y"
   ]
  },
  {
   "cell_type": "code",
   "execution_count": 55,
   "id": "2665c59a",
   "metadata": {},
   "outputs": [
    {
     "data": {
      "text/plain": [
       "12.6"
      ]
     },
     "execution_count": 55,
     "metadata": {},
     "output_type": "execute_result"
    }
   ],
   "source": [
    "x/y"
   ]
  },
  {
   "cell_type": "code",
   "execution_count": 60,
   "id": "46f94471",
   "metadata": {},
   "outputs": [
    {
     "name": "stderr",
     "output_type": "stream",
     "text": [
      "UsageError: Cell magic `%%` not found.\n"
     ]
    }
   ],
   "source": [
    "%"
   ]
  },
  {
   "cell_type": "code",
   "execution_count": 61,
   "id": "b9248e61",
   "metadata": {},
   "outputs": [],
   "source": [
    "a=4325%10"
   ]
  },
  {
   "cell_type": "code",
   "execution_count": 62,
   "id": "ed199834",
   "metadata": {},
   "outputs": [
    {
     "data": {
      "text/plain": [
       "5"
      ]
     },
     "execution_count": 62,
     "metadata": {},
     "output_type": "execute_result"
    }
   ],
   "source": [
    "a"
   ]
  },
  {
   "cell_type": "code",
   "execution_count": 63,
   "id": "617065c6",
   "metadata": {},
   "outputs": [
    {
     "data": {
      "text/plain": [
       "432"
      ]
     },
     "execution_count": 63,
     "metadata": {},
     "output_type": "execute_result"
    }
   ],
   "source": [
    "i=4325//10\n",
    "i"
   ]
  },
  {
   "cell_type": "code",
   "execution_count": 64,
   "id": "b65bf6e6",
   "metadata": {},
   "outputs": [
    {
     "data": {
      "text/plain": [
       "2"
      ]
     },
     "execution_count": 64,
     "metadata": {},
     "output_type": "execute_result"
    }
   ],
   "source": [
    "b=i%10\n",
    "b"
   ]
  },
  {
   "cell_type": "code",
   "execution_count": null,
   "id": "11e0c346",
   "metadata": {},
   "outputs": [],
   "source": [
    "'''\n",
    "WAP to sum the digits of a integer number.\n",
    "\n",
    "i/p:4325\n",
    "\n",
    "4+3+2+5=14\n",
    "\n",
    "ip=7452\n",
    "7+4+5+2=18\n",
    "\n",
    "'''"
   ]
  },
  {
   "cell_type": "code",
   "execution_count": 65,
   "id": "dd0f5498",
   "metadata": {},
   "outputs": [
    {
     "data": {
      "text/plain": [
       "2"
      ]
     },
     "execution_count": 65,
     "metadata": {},
     "output_type": "execute_result"
    }
   ],
   "source": [
    "a=7452 % 10\n",
    "a"
   ]
  },
  {
   "cell_type": "code",
   "execution_count": 66,
   "id": "9513bd2a",
   "metadata": {},
   "outputs": [
    {
     "data": {
      "text/plain": [
       "745"
      ]
     },
     "execution_count": 66,
     "metadata": {},
     "output_type": "execute_result"
    }
   ],
   "source": [
    "7452 // 10 #7452/10=745.2"
   ]
  },
  {
   "cell_type": "code",
   "execution_count": 67,
   "id": "bcdf1da5",
   "metadata": {},
   "outputs": [
    {
     "data": {
      "text/plain": [
       "5"
      ]
     },
     "execution_count": 67,
     "metadata": {},
     "output_type": "execute_result"
    }
   ],
   "source": [
    "b=745 % 10\n",
    "b"
   ]
  },
  {
   "cell_type": "code",
   "execution_count": 68,
   "id": "7e3e102e",
   "metadata": {},
   "outputs": [
    {
     "data": {
      "text/plain": [
       "74"
      ]
     },
     "execution_count": 68,
     "metadata": {},
     "output_type": "execute_result"
    }
   ],
   "source": [
    "745 // 10 #74.5"
   ]
  },
  {
   "cell_type": "code",
   "execution_count": 69,
   "id": "22d97748",
   "metadata": {},
   "outputs": [
    {
     "data": {
      "text/plain": [
       "4"
      ]
     },
     "execution_count": 69,
     "metadata": {},
     "output_type": "execute_result"
    }
   ],
   "source": [
    "c=74 % 10\n",
    "c"
   ]
  },
  {
   "cell_type": "code",
   "execution_count": 70,
   "id": "c1891ebf",
   "metadata": {},
   "outputs": [
    {
     "data": {
      "text/plain": [
       "7"
      ]
     },
     "execution_count": 70,
     "metadata": {},
     "output_type": "execute_result"
    }
   ],
   "source": [
    "d=74 // 10\n",
    "d"
   ]
  },
  {
   "cell_type": "code",
   "execution_count": 71,
   "id": "9126a277",
   "metadata": {},
   "outputs": [
    {
     "data": {
      "text/plain": [
       "18"
      ]
     },
     "execution_count": 71,
     "metadata": {},
     "output_type": "execute_result"
    }
   ],
   "source": [
    "7+4+5+2"
   ]
  },
  {
   "cell_type": "code",
   "execution_count": 72,
   "id": "47a55ade",
   "metadata": {},
   "outputs": [
    {
     "data": {
      "text/plain": [
       "18"
      ]
     },
     "execution_count": 72,
     "metadata": {},
     "output_type": "execute_result"
    }
   ],
   "source": [
    "a+b+c+d"
   ]
  },
  {
   "cell_type": "code",
   "execution_count": null,
   "id": "11c27e29",
   "metadata": {},
   "outputs": [],
   "source": []
  },
  {
   "cell_type": "markdown",
   "id": "99d71b83",
   "metadata": {},
   "source": [
    "Take a numerical input from the user and then return the sum of each digit in the input\n",
    "\n",
    "eg. i/p= 456\n",
    "\n",
    "o/p=4+5+6=15"
   ]
  },
  {
   "cell_type": "code",
   "execution_count": 73,
   "id": "f18fb6f3",
   "metadata": {},
   "outputs": [
    {
     "name": "stdout",
     "output_type": "stream",
     "text": [
      "Enter the numerical input678\n"
     ]
    }
   ],
   "source": [
    "num=int(input('Enter the numerical input'))\n",
    "\n"
   ]
  },
  {
   "cell_type": "code",
   "execution_count": 74,
   "id": "0c89f66b",
   "metadata": {},
   "outputs": [
    {
     "data": {
      "text/plain": [
       "678"
      ]
     },
     "execution_count": 74,
     "metadata": {},
     "output_type": "execute_result"
    }
   ],
   "source": [
    "num"
   ]
  },
  {
   "cell_type": "code",
   "execution_count": 75,
   "id": "be5275f2",
   "metadata": {},
   "outputs": [],
   "source": [
    "a=num%10"
   ]
  },
  {
   "cell_type": "code",
   "execution_count": 76,
   "id": "b1aa8457",
   "metadata": {},
   "outputs": [],
   "source": [
    "num=num//10"
   ]
  },
  {
   "cell_type": "code",
   "execution_count": 77,
   "id": "1b27bf57",
   "metadata": {},
   "outputs": [],
   "source": [
    "b=num%10"
   ]
  },
  {
   "cell_type": "code",
   "execution_count": 78,
   "id": "9954d2d1",
   "metadata": {},
   "outputs": [],
   "source": [
    "c=num//10"
   ]
  },
  {
   "cell_type": "code",
   "execution_count": 79,
   "id": "864da6ef",
   "metadata": {},
   "outputs": [
    {
     "data": {
      "text/plain": [
       "6"
      ]
     },
     "execution_count": 79,
     "metadata": {},
     "output_type": "execute_result"
    }
   ],
   "source": [
    "c"
   ]
  },
  {
   "cell_type": "code",
   "execution_count": 80,
   "id": "c952da2a",
   "metadata": {},
   "outputs": [
    {
     "data": {
      "text/plain": [
       "21"
      ]
     },
     "execution_count": 80,
     "metadata": {},
     "output_type": "execute_result"
    }
   ],
   "source": [
    "a+b+c"
   ]
  },
  {
   "cell_type": "code",
   "execution_count": 81,
   "id": "1bd20dc7",
   "metadata": {},
   "outputs": [
    {
     "name": "stdout",
     "output_type": "stream",
     "text": [
      "please put your age67\n"
     ]
    }
   ],
   "source": [
    "age=int(float(input(\"please put your age\")))\n"
   ]
  },
  {
   "cell_type": "code",
   "execution_count": 82,
   "id": "d58c3a30",
   "metadata": {},
   "outputs": [
    {
     "name": "stdout",
     "output_type": "stream",
     "text": [
      "enter the age78\n"
     ]
    }
   ],
   "source": [
    "age=int(input(\"enter the age\"))\n"
   ]
  },
  {
   "cell_type": "code",
   "execution_count": 83,
   "id": "f5701df2",
   "metadata": {},
   "outputs": [
    {
     "data": {
      "text/plain": [
       "int"
      ]
     },
     "execution_count": 83,
     "metadata": {},
     "output_type": "execute_result"
    }
   ],
   "source": [
    "type(age)"
   ]
  },
  {
   "cell_type": "markdown",
   "id": "3cc4ec63",
   "metadata": {},
   "source": [
    "# exponential operation '**'"
   ]
  },
  {
   "cell_type": "code",
   "execution_count": null,
   "id": "9be083d5",
   "metadata": {},
   "outputs": [],
   "source": [
    "'''\n",
    "base ** power\n",
    "\n",
    "\n",
    "'''"
   ]
  },
  {
   "cell_type": "code",
   "execution_count": 84,
   "id": "0c4e1f62",
   "metadata": {},
   "outputs": [
    {
     "data": {
      "text/plain": [
       "9"
      ]
     },
     "execution_count": 84,
     "metadata": {},
     "output_type": "execute_result"
    }
   ],
   "source": [
    "3*3"
   ]
  },
  {
   "cell_type": "code",
   "execution_count": 85,
   "id": "1f6c9e1e",
   "metadata": {},
   "outputs": [
    {
     "data": {
      "text/plain": [
       "9"
      ]
     },
     "execution_count": 85,
     "metadata": {},
     "output_type": "execute_result"
    }
   ],
   "source": [
    "3**2"
   ]
  },
  {
   "cell_type": "code",
   "execution_count": 86,
   "id": "d9ed1026",
   "metadata": {},
   "outputs": [
    {
     "data": {
      "text/plain": [
       "1048576"
      ]
     },
     "execution_count": 86,
     "metadata": {},
     "output_type": "execute_result"
    }
   ],
   "source": [
    "4*4*4*4*4*4*4*4*4*4"
   ]
  },
  {
   "cell_type": "code",
   "execution_count": 87,
   "id": "26ce6415",
   "metadata": {},
   "outputs": [
    {
     "data": {
      "text/plain": [
       "1048576"
      ]
     },
     "execution_count": 87,
     "metadata": {},
     "output_type": "execute_result"
    }
   ],
   "source": [
    "4**10     # 4 to the power 10"
   ]
  },
  {
   "cell_type": "code",
   "execution_count": 88,
   "id": "93e05d71",
   "metadata": {},
   "outputs": [
    {
     "data": {
      "text/plain": [
       "32768"
      ]
     },
     "execution_count": 88,
     "metadata": {},
     "output_type": "execute_result"
    }
   ],
   "source": [
    "2**15"
   ]
  },
  {
   "cell_type": "code",
   "execution_count": null,
   "id": "41a163de",
   "metadata": {},
   "outputs": [],
   "source": [
    "# WAP to find the area of a circle. You have to take the radius r as input from the user. take pi=3.14"
   ]
  },
  {
   "cell_type": "code",
   "execution_count": 89,
   "id": "6053d805",
   "metadata": {},
   "outputs": [
    {
     "name": "stdout",
     "output_type": "stream",
     "text": [
      "Enter the radius: 67\n",
      "Area of the circle =  14095.460000000001 sq unit\n"
     ]
    }
   ],
   "source": [
    "radius=float(input(\"Enter the radius: \"))\n",
    "area=3.14*radius**2\n",
    "\n",
    "print(\"Area of the circle = \", area, \"sq unit\")"
   ]
  },
  {
   "cell_type": "code",
   "execution_count": null,
   "id": "f7583034",
   "metadata": {},
   "outputs": [],
   "source": []
  },
  {
   "cell_type": "code",
   "execution_count": null,
   "id": "c4c9982b",
   "metadata": {},
   "outputs": [],
   "source": []
  },
  {
   "cell_type": "code",
   "execution_count": null,
   "id": "7d5f0d92",
   "metadata": {},
   "outputs": [],
   "source": []
  },
  {
   "cell_type": "code",
   "execution_count": 90,
   "id": "99c17f4b",
   "metadata": {},
   "outputs": [
    {
     "name": "stdout",
     "output_type": "stream",
     "text": [
      "pleae enter the age67\n"
     ]
    }
   ],
   "source": [
    "age=int(float(input(\"pleae enter the age\")))\n"
   ]
  },
  {
   "cell_type": "code",
   "execution_count": 91,
   "id": "1bcc899d",
   "metadata": {},
   "outputs": [
    {
     "data": {
      "text/plain": [
       "2"
      ]
     },
     "execution_count": 91,
     "metadata": {},
     "output_type": "execute_result"
    }
   ],
   "source": [
    "b=4325//10%10\n",
    "\n",
    "#432%10\n",
    "\n",
    "b"
   ]
  },
  {
   "cell_type": "markdown",
   "id": "daa7834d",
   "metadata": {},
   "source": [
    "# Area of circle "
   ]
  },
  {
   "cell_type": "code",
   "execution_count": 92,
   "id": "7dcc7766",
   "metadata": {},
   "outputs": [
    {
     "data": {
      "text/plain": [
       "'\\nWAP to compute area of circle. take radius as input from user.\\n\\n3.14 * (radius)^2\\noperator precedence\\n'"
      ]
     },
     "execution_count": 92,
     "metadata": {},
     "output_type": "execute_result"
    }
   ],
   "source": [
    "'''\n",
    "WAP to compute area of circle. take radius as input from user.\n",
    "\n",
    "3.14 * (radius)^2\n",
    "operator precedence\n",
    "'''"
   ]
  },
  {
   "cell_type": "code",
   "execution_count": 93,
   "id": "7c51d4f3",
   "metadata": {},
   "outputs": [
    {
     "name": "stdout",
     "output_type": "stream",
     "text": [
      "Enter the radius of the circle:- 6.8\n"
     ]
    }
   ],
   "source": [
    "radius=float(input(\"Enter the radius of the circle:- \"))"
   ]
  },
  {
   "cell_type": "code",
   "execution_count": 94,
   "id": "5a0883f5",
   "metadata": {},
   "outputs": [],
   "source": [
    "pi=3.14"
   ]
  },
  {
   "cell_type": "code",
   "execution_count": 95,
   "id": "733717e5",
   "metadata": {},
   "outputs": [
    {
     "name": "stdout",
     "output_type": "stream",
     "text": [
      "The area of the circle is 145.1936\n"
     ]
    }
   ],
   "source": [
    "area = pi * radius ** 2\n",
    "print(f\"The area of the circle is {area}\")\n",
    "#area = 3.14 * (5**2)"
   ]
  },
  {
   "cell_type": "code",
   "execution_count": null,
   "id": "d8544b72",
   "metadata": {},
   "outputs": [],
   "source": [
    "\n"
   ]
  },
  {
   "cell_type": "code",
   "execution_count": null,
   "id": "7bd2ca0b",
   "metadata": {},
   "outputs": [],
   "source": []
  },
  {
   "cell_type": "code",
   "execution_count": 96,
   "id": "00963285",
   "metadata": {},
   "outputs": [
    {
     "data": {
      "text/plain": [
       "16"
      ]
     },
     "execution_count": 96,
     "metadata": {},
     "output_type": "execute_result"
    }
   ],
   "source": [
    "4**2"
   ]
  },
  {
   "cell_type": "code",
   "execution_count": 97,
   "id": "ba1353b1",
   "metadata": {},
   "outputs": [],
   "source": [
    "#syntax= base**power"
   ]
  },
  {
   "cell_type": "code",
   "execution_count": 98,
   "id": "1542201f",
   "metadata": {},
   "outputs": [],
   "source": [
    "a=10 #a; side of square"
   ]
  },
  {
   "cell_type": "code",
   "execution_count": 99,
   "id": "1ca53cdc",
   "metadata": {},
   "outputs": [],
   "source": [
    "area_of_sqaure=a**2"
   ]
  },
  {
   "cell_type": "code",
   "execution_count": 100,
   "id": "1ada22d5",
   "metadata": {},
   "outputs": [
    {
     "data": {
      "text/plain": [
       "100"
      ]
     },
     "execution_count": 100,
     "metadata": {},
     "output_type": "execute_result"
    }
   ],
   "source": [
    "area_of_sqaure"
   ]
  },
  {
   "cell_type": "code",
   "execution_count": 101,
   "id": "11fa2d3f",
   "metadata": {},
   "outputs": [],
   "source": [
    "area_of_sqaure=a**2"
   ]
  },
  {
   "cell_type": "code",
   "execution_count": 102,
   "id": "ebe7c86b",
   "metadata": {},
   "outputs": [],
   "source": [
    "#inside out"
   ]
  },
  {
   "cell_type": "code",
   "execution_count": 103,
   "id": "41ea9dc3",
   "metadata": {},
   "outputs": [
    {
     "data": {
      "text/plain": [
       "52.5"
      ]
     },
     "execution_count": 103,
     "metadata": {},
     "output_type": "execute_result"
    }
   ],
   "source": [
    "(((5+2)*15)/2)\n",
    "#((7*15)/2)\n",
    "#(105/2)"
   ]
  },
  {
   "cell_type": "code",
   "execution_count": null,
   "id": "b7604ce4",
   "metadata": {},
   "outputs": [],
   "source": []
  },
  {
   "cell_type": "code",
   "execution_count": 7,
   "id": "007742ba",
   "metadata": {},
   "outputs": [
    {
     "data": {
      "text/plain": [
       "52.5"
      ]
     },
     "execution_count": 7,
     "metadata": {},
     "output_type": "execute_result"
    }
   ],
   "source": [
    "(((5+2)*15)/2)\n",
    "\n",
    "# ((7*15)/2)\n",
    "# (105/2)"
   ]
  },
  {
   "cell_type": "code",
   "execution_count": 104,
   "id": "7530e101",
   "metadata": {},
   "outputs": [
    {
     "data": {
      "text/plain": [
       "20.0"
      ]
     },
     "execution_count": 104,
     "metadata": {},
     "output_type": "execute_result"
    }
   ],
   "source": [
    "5+2*15/2"
   ]
  },
  {
   "cell_type": "code",
   "execution_count": null,
   "id": "d1a34b38",
   "metadata": {},
   "outputs": [],
   "source": [
    "(((a+b)*c)**d)"
   ]
  },
  {
   "cell_type": "code",
   "execution_count": 11,
   "id": "d4201f67",
   "metadata": {},
   "outputs": [],
   "source": [
    "x=5\n",
    "y=7\n",
    "z=8"
   ]
  },
  {
   "cell_type": "code",
   "execution_count": 12,
   "id": "ebb97e60",
   "metadata": {},
   "outputs": [
    {
     "data": {
      "text/plain": [
       "61"
      ]
     },
     "execution_count": 12,
     "metadata": {},
     "output_type": "execute_result"
    }
   ],
   "source": [
    "x+(y*z)\n"
   ]
  },
  {
   "cell_type": "code",
   "execution_count": 13,
   "id": "9dd45d55",
   "metadata": {},
   "outputs": [
    {
     "data": {
      "text/plain": [
       "96"
      ]
     },
     "execution_count": 13,
     "metadata": {},
     "output_type": "execute_result"
    }
   ],
   "source": [
    "(x+y)*z"
   ]
  },
  {
   "cell_type": "code",
   "execution_count": null,
   "id": "f5873d30",
   "metadata": {},
   "outputs": [],
   "source": [
    "a=5\n",
    "a"
   ]
  },
  {
   "cell_type": "code",
   "execution_count": null,
   "id": "c63461d7",
   "metadata": {},
   "outputs": [],
   "source": [
    "a=15\n",
    "b=7\n",
    "c=6\n",
    "d=2"
   ]
  },
  {
   "cell_type": "code",
   "execution_count": 14,
   "id": "b9942db8",
   "metadata": {},
   "outputs": [
    {
     "data": {
      "text/plain": [
       "'\\n\\n1) first calculate the sum/addition of a and b then multiply the result with c and then square the result.\\n\\n2) firstly find the product/multiplication of b and c then add a into the result and then take the sqaure.\\n\\n3) firstly take the sum of a and b , simulataneously take the square of c and then multiply both results. \\n\\n4) take the square of c and then multiply the result with b and then add a. \\n\\n\\n\\nTHUMB RULE: whenever you have more than 2 inputs for the operation always prefer to use brackets\\n'"
      ]
     },
     "execution_count": 14,
     "metadata": {},
     "output_type": "execute_result"
    }
   ],
   "source": [
    "a=15\n",
    "b=7\n",
    "c=6\n",
    "d=2\n",
    "\n",
    "'''\n",
    "\n",
    "1) first calculate the sum/addition of a and b then multiply the result with c and then square the result.\n",
    "\n",
    "2) firstly find the product/multiplication of b and c then add a into the result and then take the sqaure.\n",
    "\n",
    "3) firstly take the sum of a and b , simulataneously take the square of c and then multiply both results. \n",
    "\n",
    "4) take the square of c and then multiply the result with b and then add a. \n",
    "\n",
    "\n",
    "\n",
    "THUMB RULE: whenever you have more than 2 inputs for the operation always prefer to use brackets\n",
    "'''"
   ]
  },
  {
   "cell_type": "code",
   "execution_count": 15,
   "id": "065217d4",
   "metadata": {},
   "outputs": [
    {
     "data": {
      "text/plain": [
       "17424"
      ]
     },
     "execution_count": 15,
     "metadata": {},
     "output_type": "execute_result"
    }
   ],
   "source": [
    "((a+b)*c)**2"
   ]
  },
  {
   "cell_type": "code",
   "execution_count": 16,
   "id": "f8b08c7c",
   "metadata": {},
   "outputs": [
    {
     "data": {
      "text/plain": [
       "3249"
      ]
     },
     "execution_count": 16,
     "metadata": {},
     "output_type": "execute_result"
    }
   ],
   "source": [
    "(((b*c)+a)**2)"
   ]
  },
  {
   "cell_type": "code",
   "execution_count": 17,
   "id": "c1a249b5",
   "metadata": {},
   "outputs": [
    {
     "data": {
      "text/plain": [
       "792"
      ]
     },
     "execution_count": 17,
     "metadata": {},
     "output_type": "execute_result"
    }
   ],
   "source": [
    "(a+b)*(c**2)\n",
    "\n",
    "#(15+7) * (6 **2)\n",
    "# 22 * 36\n"
   ]
  },
  {
   "cell_type": "code",
   "execution_count": 18,
   "id": "660106a8",
   "metadata": {},
   "outputs": [
    {
     "data": {
      "text/plain": [
       "267"
      ]
     },
     "execution_count": 18,
     "metadata": {},
     "output_type": "execute_result"
    }
   ],
   "source": [
    "((c**2)*b)+a\n"
   ]
  },
  {
   "cell_type": "code",
   "execution_count": null,
   "id": "7c971351",
   "metadata": {},
   "outputs": [],
   "source": []
  },
  {
   "cell_type": "code",
   "execution_count": null,
   "id": "b7ed9d54",
   "metadata": {},
   "outputs": [],
   "source": []
  },
  {
   "cell_type": "code",
   "execution_count": null,
   "id": "6a943c40",
   "metadata": {},
   "outputs": [],
   "source": []
  },
  {
   "cell_type": "code",
   "execution_count": null,
   "id": "c34050a2",
   "metadata": {},
   "outputs": [],
   "source": [
    "((10+13)*(2**2))"
   ]
  },
  {
   "cell_type": "code",
   "execution_count": null,
   "id": "cac4cc25",
   "metadata": {},
   "outputs": [],
   "source": [
    "((10+(13*2))**2)"
   ]
  },
  {
   "cell_type": "code",
   "execution_count": null,
   "id": "c04357c7",
   "metadata": {},
   "outputs": [],
   "source": [
    "(((10+13)*2)**2)\n",
    "\n",
    "# ((23 * 2)** 2)\n",
    "# (46 ** 2)"
   ]
  },
  {
   "cell_type": "code",
   "execution_count": null,
   "id": "dac45ae8",
   "metadata": {},
   "outputs": [],
   "source": [
    "10+13*2**2"
   ]
  },
  {
   "cell_type": "code",
   "execution_count": null,
   "id": "93a60ca9",
   "metadata": {},
   "outputs": [],
   "source": []
  },
  {
   "cell_type": "code",
   "execution_count": null,
   "id": "abca1ebc",
   "metadata": {},
   "outputs": [],
   "source": []
  },
  {
   "cell_type": "code",
   "execution_count": null,
   "id": "c1a2b89b",
   "metadata": {},
   "outputs": [],
   "source": []
  },
  {
   "cell_type": "code",
   "execution_count": null,
   "id": "7741abfe",
   "metadata": {},
   "outputs": [],
   "source": []
  },
  {
   "cell_type": "code",
   "execution_count": null,
   "id": "85995a53",
   "metadata": {},
   "outputs": [],
   "source": [
    "n=(((10+13)*2)**2)\n",
    "\n",
    "n=((23*2)**2)\n",
    "n=(46**2)\n",
    "n"
   ]
  },
  {
   "cell_type": "code",
   "execution_count": null,
   "id": "8c182ff6",
   "metadata": {},
   "outputs": [],
   "source": [
    "#operator precedence: BODMAS\n",
    "\n",
    "'''\n",
    "B : Bracket\n",
    "O : of\n",
    "E: Exponential\n",
    "D: Division/MODULO/FLOOR DIVISION\n",
    "M: Multiplication\n",
    "A : Addition\n",
    "S : Subtraction\n",
    "\n",
    "'''"
   ]
  },
  {
   "cell_type": "code",
   "execution_count": null,
   "id": "f5338af5",
   "metadata": {},
   "outputs": [],
   "source": [
    "a=((10+13)*2)\n",
    "\n",
    "a=(23*2)\n",
    "a=46\n",
    "a"
   ]
  },
  {
   "cell_type": "code",
   "execution_count": null,
   "id": "3c4b04bf",
   "metadata": {},
   "outputs": [],
   "source": [
    "3//36"
   ]
  },
  {
   "cell_type": "code",
   "execution_count": null,
   "id": "6eb1f6f3",
   "metadata": {},
   "outputs": [],
   "source": [
    "36%2"
   ]
  },
  {
   "cell_type": "code",
   "execution_count": null,
   "id": "4d5efe20",
   "metadata": {},
   "outputs": [],
   "source": [
    "n=19*3//6**(2*2)-3+5\n",
    "\n",
    "\n",
    "# 19*3//6**4+5-3\n"
   ]
  },
  {
   "cell_type": "code",
   "execution_count": null,
   "id": "4e8d6a83",
   "metadata": {},
   "outputs": [],
   "source": [
    "n"
   ]
  },
  {
   "cell_type": "code",
   "execution_count": 19,
   "id": "2c226772",
   "metadata": {},
   "outputs": [],
   "source": [
    "n=19%3//6*2%2"
   ]
  },
  {
   "cell_type": "code",
   "execution_count": 20,
   "id": "e179927a",
   "metadata": {},
   "outputs": [
    {
     "data": {
      "text/plain": [
       "0"
      ]
     },
     "execution_count": 20,
     "metadata": {},
     "output_type": "execute_result"
    }
   ],
   "source": [
    "n"
   ]
  },
  {
   "cell_type": "code",
   "execution_count": null,
   "id": "1525e153",
   "metadata": {},
   "outputs": [],
   "source": []
  },
  {
   "cell_type": "code",
   "execution_count": null,
   "id": "7938dee8",
   "metadata": {},
   "outputs": [],
   "source": []
  },
  {
   "cell_type": "code",
   "execution_count": null,
   "id": "f3311990",
   "metadata": {},
   "outputs": [],
   "source": []
  },
  {
   "cell_type": "code",
   "execution_count": null,
   "id": "2adf1b80",
   "metadata": {},
   "outputs": [],
   "source": []
  },
  {
   "cell_type": "code",
   "execution_count": null,
   "id": "59840609",
   "metadata": {},
   "outputs": [],
   "source": [
    "n=19%3//6*2%2\n",
    "\n",
    "n=19%3//36%2\n",
    "\n",
    "# NOTE: L --> R, when operators have same level of precedence then the computer machine performs left to right computation.\n",
    "\n",
    "\n",
    "\n",
    "n=1//36%2\n",
    "\n",
    "n=0%2\n",
    "\n",
    "n=0"
   ]
  },
  {
   "cell_type": "markdown",
   "id": "40b93207",
   "metadata": {},
   "source": [
    "# Relational operator"
   ]
  },
  {
   "cell_type": "markdown",
   "id": "c36d43c3",
   "metadata": {},
   "source": [
    "Relational operator: ( >, <, >=, <=, ==, != )"
   ]
  },
  {
   "cell_type": "code",
   "execution_count": null,
   "id": "3a51355b",
   "metadata": {},
   "outputs": [],
   "source": [
    "'''\n",
    "The output of the relational operator is always Boolean.\n",
    "\n",
    "either True or False.\n",
    "\n",
    "= assignment operator (a=5)\n",
    "\n",
    "== Comparison operator; it returns True when two values are equal. (LHS=RHS)\n",
    "                        it return False when Two values are not equal (LHS not equals RHS)\n",
    "\n",
    "!= Not equal to; it returns True when two values are not equal. (LHS not equals to RHS)\n",
    "                 it return False when Two values are equal (LHS=RHS)\n",
    "\n",
    "'''"
   ]
  },
  {
   "cell_type": "code",
   "execution_count": 21,
   "id": "209bdf4c",
   "metadata": {},
   "outputs": [
    {
     "data": {
      "text/plain": [
       "False"
      ]
     },
     "execution_count": 21,
     "metadata": {},
     "output_type": "execute_result"
    }
   ],
   "source": [
    "5 < 3"
   ]
  },
  {
   "cell_type": "code",
   "execution_count": 22,
   "id": "bab67ec2",
   "metadata": {},
   "outputs": [
    {
     "data": {
      "text/plain": [
       "True"
      ]
     },
     "execution_count": 22,
     "metadata": {},
     "output_type": "execute_result"
    }
   ],
   "source": [
    "5<8"
   ]
  },
  {
   "cell_type": "code",
   "execution_count": 23,
   "id": "eee1eeef",
   "metadata": {},
   "outputs": [
    {
     "data": {
      "text/plain": [
       "False"
      ]
     },
     "execution_count": 23,
     "metadata": {},
     "output_type": "execute_result"
    }
   ],
   "source": [
    "8>10"
   ]
  },
  {
   "cell_type": "code",
   "execution_count": 24,
   "id": "b68340bb",
   "metadata": {},
   "outputs": [
    {
     "data": {
      "text/plain": [
       "True"
      ]
     },
     "execution_count": 24,
     "metadata": {},
     "output_type": "execute_result"
    }
   ],
   "source": [
    "8>2"
   ]
  },
  {
   "cell_type": "code",
   "execution_count": 25,
   "id": "0bf01360",
   "metadata": {},
   "outputs": [
    {
     "data": {
      "text/plain": [
       "False"
      ]
     },
     "execution_count": 25,
     "metadata": {},
     "output_type": "execute_result"
    }
   ],
   "source": [
    "5 >= 7"
   ]
  },
  {
   "cell_type": "code",
   "execution_count": 27,
   "id": "def64211",
   "metadata": {},
   "outputs": [
    {
     "data": {
      "text/plain": [
       "True"
      ]
     },
     "execution_count": 27,
     "metadata": {},
     "output_type": "execute_result"
    }
   ],
   "source": [
    "5 >= 5"
   ]
  },
  {
   "cell_type": "code",
   "execution_count": 28,
   "id": "fe4343d2",
   "metadata": {},
   "outputs": [
    {
     "data": {
      "text/plain": [
       "False"
      ]
     },
     "execution_count": 28,
     "metadata": {},
     "output_type": "execute_result"
    }
   ],
   "source": [
    "5 > 5"
   ]
  },
  {
   "cell_type": "code",
   "execution_count": 29,
   "id": "c1d919ec",
   "metadata": {},
   "outputs": [
    {
     "data": {
      "text/plain": [
       "True"
      ]
     },
     "execution_count": 29,
     "metadata": {},
     "output_type": "execute_result"
    }
   ],
   "source": [
    "5 >= 5"
   ]
  },
  {
   "cell_type": "code",
   "execution_count": 30,
   "id": "6c960f82",
   "metadata": {},
   "outputs": [
    {
     "data": {
      "text/plain": [
       "True"
      ]
     },
     "execution_count": 30,
     "metadata": {},
     "output_type": "execute_result"
    }
   ],
   "source": [
    "5 <= 5"
   ]
  },
  {
   "cell_type": "code",
   "execution_count": null,
   "id": "bdadd07b",
   "metadata": {},
   "outputs": [],
   "source": [
    "5 < 5"
   ]
  },
  {
   "cell_type": "code",
   "execution_count": 31,
   "id": "620227b3",
   "metadata": {},
   "outputs": [
    {
     "name": "stdout",
     "output_type": "stream",
     "text": [
      "True\n"
     ]
    }
   ],
   "source": [
    "print(10 >= 10)"
   ]
  },
  {
   "cell_type": "code",
   "execution_count": 32,
   "id": "2111bb24",
   "metadata": {},
   "outputs": [
    {
     "name": "stdout",
     "output_type": "stream",
     "text": [
      "True\n"
     ]
    }
   ],
   "source": [
    "print(15==15)"
   ]
  },
  {
   "cell_type": "code",
   "execution_count": null,
   "id": "988ca858",
   "metadata": {},
   "outputs": [],
   "source": [
    "x=15"
   ]
  },
  {
   "cell_type": "code",
   "execution_count": null,
   "id": "d50e3f8e",
   "metadata": {},
   "outputs": [],
   "source": [
    "x==15"
   ]
  },
  {
   "cell_type": "code",
   "execution_count": 33,
   "id": "83819c0a",
   "metadata": {},
   "outputs": [
    {
     "data": {
      "text/plain": [
       "False"
      ]
     },
     "execution_count": 33,
     "metadata": {},
     "output_type": "execute_result"
    }
   ],
   "source": [
    "15 == 10 # comparing whether LHS is equal to RHS or not."
   ]
  },
  {
   "cell_type": "code",
   "execution_count": 34,
   "id": "d61f2f47",
   "metadata": {},
   "outputs": [
    {
     "data": {
      "text/plain": [
       "False"
      ]
     },
     "execution_count": 34,
     "metadata": {},
     "output_type": "execute_result"
    }
   ],
   "source": [
    "15 == 14.9"
   ]
  },
  {
   "cell_type": "code",
   "execution_count": 35,
   "id": "08bff174",
   "metadata": {},
   "outputs": [
    {
     "data": {
      "text/plain": [
       "True"
      ]
     },
     "execution_count": 35,
     "metadata": {},
     "output_type": "execute_result"
    }
   ],
   "source": [
    "15==15.0"
   ]
  },
  {
   "cell_type": "code",
   "execution_count": 37,
   "id": "3f6d7d29",
   "metadata": {},
   "outputs": [
    {
     "data": {
      "text/plain": [
       "True"
      ]
     },
     "execution_count": 37,
     "metadata": {},
     "output_type": "execute_result"
    }
   ],
   "source": [
    "15 != 65511"
   ]
  },
  {
   "cell_type": "code",
   "execution_count": 38,
   "id": "6870a767",
   "metadata": {},
   "outputs": [
    {
     "data": {
      "text/plain": [
       "False"
      ]
     },
     "execution_count": 38,
     "metadata": {},
     "output_type": "execute_result"
    }
   ],
   "source": [
    "15 != 15"
   ]
  },
  {
   "cell_type": "code",
   "execution_count": null,
   "id": "8abceaf9",
   "metadata": {},
   "outputs": [],
   "source": [
    "# not equal to '!='"
   ]
  },
  {
   "cell_type": "code",
   "execution_count": 40,
   "id": "3b1050f1",
   "metadata": {},
   "outputs": [
    {
     "name": "stdout",
     "output_type": "stream",
     "text": [
      "Enter the money:0\n"
     ]
    },
    {
     "data": {
      "text/plain": [
       "False"
      ]
     },
     "execution_count": 40,
     "metadata": {},
     "output_type": "execute_result"
    }
   ],
   "source": [
    "money=int(input('Enter the money:'))\n",
    "\n",
    "money != 0"
   ]
  },
  {
   "cell_type": "code",
   "execution_count": 42,
   "id": "f708e8ae",
   "metadata": {},
   "outputs": [
    {
     "name": "stdout",
     "output_type": "stream",
     "text": [
      "enter the money:34\n"
     ]
    },
    {
     "data": {
      "text/plain": [
       "False"
      ]
     },
     "execution_count": 42,
     "metadata": {},
     "output_type": "execute_result"
    }
   ],
   "source": [
    "money=int(input('enter the money:'))\n",
    "\n",
    "money ==0\n"
   ]
  },
  {
   "cell_type": "code",
   "execution_count": null,
   "id": "82a6a6f2",
   "metadata": {},
   "outputs": [],
   "source": []
  },
  {
   "cell_type": "code",
   "execution_count": 43,
   "id": "b2ce4608",
   "metadata": {},
   "outputs": [],
   "source": [
    "a=20\n",
    "b=15"
   ]
  },
  {
   "cell_type": "code",
   "execution_count": 44,
   "id": "f839fadf",
   "metadata": {},
   "outputs": [
    {
     "data": {
      "text/plain": [
       "True"
      ]
     },
     "execution_count": 44,
     "metadata": {},
     "output_type": "execute_result"
    }
   ],
   "source": [
    "a>b"
   ]
  },
  {
   "cell_type": "code",
   "execution_count": 45,
   "id": "67664fa3",
   "metadata": {},
   "outputs": [
    {
     "data": {
      "text/plain": [
       "False"
      ]
     },
     "execution_count": 45,
     "metadata": {},
     "output_type": "execute_result"
    }
   ],
   "source": [
    "a<b"
   ]
  },
  {
   "cell_type": "code",
   "execution_count": 46,
   "id": "1d9038d2",
   "metadata": {},
   "outputs": [
    {
     "data": {
      "text/plain": [
       "False"
      ]
     },
     "execution_count": 46,
     "metadata": {},
     "output_type": "execute_result"
    }
   ],
   "source": [
    "a<=b"
   ]
  },
  {
   "cell_type": "code",
   "execution_count": 47,
   "id": "30094bb1",
   "metadata": {},
   "outputs": [
    {
     "data": {
      "text/plain": [
       "True"
      ]
     },
     "execution_count": 47,
     "metadata": {},
     "output_type": "execute_result"
    }
   ],
   "source": [
    "a>=b"
   ]
  },
  {
   "cell_type": "code",
   "execution_count": 48,
   "id": "b598aa51",
   "metadata": {},
   "outputs": [
    {
     "data": {
      "text/plain": [
       "False"
      ]
     },
     "execution_count": 48,
     "metadata": {},
     "output_type": "execute_result"
    }
   ],
   "source": [
    "a==b"
   ]
  },
  {
   "cell_type": "code",
   "execution_count": 49,
   "id": "9f0bc86b",
   "metadata": {},
   "outputs": [
    {
     "data": {
      "text/plain": [
       "True"
      ]
     },
     "execution_count": 49,
     "metadata": {},
     "output_type": "execute_result"
    }
   ],
   "source": [
    "a != b"
   ]
  },
  {
   "cell_type": "code",
   "execution_count": 105,
   "id": "f800b9c5",
   "metadata": {},
   "outputs": [
    {
     "data": {
      "text/plain": [
       "False"
      ]
     },
     "execution_count": 105,
     "metadata": {},
     "output_type": "execute_result"
    }
   ],
   "source": [
    "(15 != 15)"
   ]
  },
  {
   "cell_type": "markdown",
   "id": "75c35da0",
   "metadata": {},
   "source": [
    "# Logical operator"
   ]
  },
  {
   "cell_type": "markdown",
   "id": "480aabc4",
   "metadata": {},
   "source": [
    "logical operator ( and, or, not)"
   ]
  },
  {
   "cell_type": "markdown",
   "id": "94e4f074",
   "metadata": {},
   "source": [
    "One person is randomly selected, If a chosen person is Boy and he is from either Maths dept or Biology dept. then give him a chocolate."
   ]
  },
  {
   "cell_type": "markdown",
   "id": "872c05f1",
   "metadata": {},
   "source": [
    "One person is randomly selected, If a chosen person is Boy and he is from Maths dept and Biology dept. then give him a chocolate."
   ]
  },
  {
   "cell_type": "markdown",
   "id": "bbb7ebd8",
   "metadata": {},
   "source": [
    "or operator: If any one of the two input value is true, then the output would be true.\n",
    "if both input values are false then the output is false."
   ]
  },
  {
   "cell_type": "code",
   "execution_count": null,
   "id": "5d35b5a5",
   "metadata": {},
   "outputs": [],
   "source": [
    "'''\n",
    "'or' is a key word in python which is used for two boolean values as input and it's output is also boolean.\n",
    "\n",
    "OR Truth Table\n",
    "|input1|input2|output|\n",
    "|F|F|F|\n",
    "|F|T|T|\n",
    "|T|F|T|\n",
    "|T|T|T|\n",
    "\n",
    "\n",
    "'''"
   ]
  },
  {
   "cell_type": "code",
   "execution_count": null,
   "id": "cb6e7a01",
   "metadata": {},
   "outputs": [],
   "source": [
    "#Your father promised that if you score 70 marks in phy or in maths then You will get bicycle."
   ]
  },
  {
   "cell_type": "code",
   "execution_count": null,
   "id": "dc0964f6",
   "metadata": {},
   "outputs": [],
   "source": [
    "#Your father promised that if you score 70 marks in phy and in maths then You will get bicycle."
   ]
  },
  {
   "cell_type": "code",
   "execution_count": 106,
   "id": "d8d5be34",
   "metadata": {},
   "outputs": [],
   "source": [
    "maths=71\n",
    "phy=100"
   ]
  },
  {
   "cell_type": "code",
   "execution_count": 107,
   "id": "563df9c1",
   "metadata": {},
   "outputs": [
    {
     "data": {
      "text/plain": [
       "True"
      ]
     },
     "execution_count": 107,
     "metadata": {},
     "output_type": "execute_result"
    }
   ],
   "source": [
    "m=maths>70\n",
    "m"
   ]
  },
  {
   "cell_type": "code",
   "execution_count": 108,
   "id": "668ff3ec",
   "metadata": {},
   "outputs": [
    {
     "data": {
      "text/plain": [
       "True"
      ]
     },
     "execution_count": 108,
     "metadata": {},
     "output_type": "execute_result"
    }
   ],
   "source": [
    "p=phy>70\n",
    "p"
   ]
  },
  {
   "cell_type": "code",
   "execution_count": 109,
   "id": "3a3af377",
   "metadata": {},
   "outputs": [
    {
     "data": {
      "text/plain": [
       "True"
      ]
     },
     "execution_count": 109,
     "metadata": {},
     "output_type": "execute_result"
    }
   ],
   "source": [
    "m or p"
   ]
  },
  {
   "cell_type": "code",
   "execution_count": 110,
   "id": "c2d00397",
   "metadata": {},
   "outputs": [
    {
     "data": {
      "text/plain": [
       "True"
      ]
     },
     "execution_count": 110,
     "metadata": {},
     "output_type": "execute_result"
    }
   ],
   "source": [
    "m and p"
   ]
  },
  {
   "cell_type": "code",
   "execution_count": 50,
   "id": "d2e2499d",
   "metadata": {},
   "outputs": [
    {
     "name": "stdout",
     "output_type": "stream",
     "text": [
      "False\n",
      "True\n",
      "True\n",
      "True\n"
     ]
    }
   ],
   "source": [
    "print(False or False)\n",
    "print(False or True)\n",
    "print(True or False)\n",
    "print(True or True)"
   ]
  },
  {
   "cell_type": "code",
   "execution_count": null,
   "id": "9c10a95a",
   "metadata": {},
   "outputs": [],
   "source": []
  },
  {
   "cell_type": "code",
   "execution_count": null,
   "id": "12cd4563",
   "metadata": {},
   "outputs": [],
   "source": []
  },
  {
   "cell_type": "code",
   "execution_count": null,
   "id": "29b6bf4c",
   "metadata": {},
   "outputs": [],
   "source": []
  },
  {
   "cell_type": "code",
   "execution_count": null,
   "id": "38b8a9ba",
   "metadata": {},
   "outputs": [],
   "source": []
  },
  {
   "cell_type": "code",
   "execution_count": null,
   "id": "6cb16261",
   "metadata": {},
   "outputs": [],
   "source": []
  },
  {
   "cell_type": "code",
   "execution_count": 113,
   "id": "99ce96c2",
   "metadata": {},
   "outputs": [],
   "source": [
    "a=10 \n",
    "b=5\n",
    "c=4\n",
    "\n"
   ]
  },
  {
   "cell_type": "code",
   "execution_count": 114,
   "id": "6dae3675",
   "metadata": {},
   "outputs": [
    {
     "data": {
      "text/plain": [
       "False"
      ]
     },
     "execution_count": 114,
     "metadata": {},
     "output_type": "execute_result"
    }
   ],
   "source": [
    "(a<b)"
   ]
  },
  {
   "cell_type": "code",
   "execution_count": 115,
   "id": "e219f7fa",
   "metadata": {},
   "outputs": [
    {
     "data": {
      "text/plain": [
       "False"
      ]
     },
     "execution_count": 115,
     "metadata": {},
     "output_type": "execute_result"
    }
   ],
   "source": [
    "(a<c)"
   ]
  },
  {
   "cell_type": "code",
   "execution_count": 116,
   "id": "2074e4dc",
   "metadata": {},
   "outputs": [
    {
     "name": "stdout",
     "output_type": "stream",
     "text": [
      "False\n"
     ]
    }
   ],
   "source": [
    "print((a<b) or (a<c))\n",
    "#print(F or F)\n"
   ]
  },
  {
   "cell_type": "code",
   "execution_count": 117,
   "id": "2b4289b9",
   "metadata": {},
   "outputs": [
    {
     "name": "stdout",
     "output_type": "stream",
     "text": [
      "True\n"
     ]
    }
   ],
   "source": [
    "print((a>b) or (a<c))"
   ]
  },
  {
   "cell_type": "code",
   "execution_count": 118,
   "id": "1031c4e1",
   "metadata": {},
   "outputs": [
    {
     "name": "stdout",
     "output_type": "stream",
     "text": [
      "True\n"
     ]
    }
   ],
   "source": [
    "print((a<b) or (a>c))"
   ]
  },
  {
   "cell_type": "code",
   "execution_count": null,
   "id": "392783de",
   "metadata": {},
   "outputs": [],
   "source": [
    "a=10 \n",
    "b=5\n",
    "c=4\n",
    "\n",
    "print((a>b) or (a>c))"
   ]
  },
  {
   "cell_type": "code",
   "execution_count": null,
   "id": "3c1b67d7",
   "metadata": {},
   "outputs": [],
   "source": [
    "print((a<b) and (a<c))"
   ]
  },
  {
   "cell_type": "code",
   "execution_count": null,
   "id": "bd73f453",
   "metadata": {},
   "outputs": [],
   "source": [
    "print((a>b) and (a>c))"
   ]
  },
  {
   "cell_type": "code",
   "execution_count": null,
   "id": "1d10121e",
   "metadata": {},
   "outputs": [],
   "source": [
    "print((a>b) and (a<c))"
   ]
  },
  {
   "cell_type": "code",
   "execution_count": 119,
   "id": "41ddd30b",
   "metadata": {},
   "outputs": [],
   "source": [
    "x=True # light on"
   ]
  },
  {
   "cell_type": "code",
   "execution_count": 120,
   "id": "a77de6c7",
   "metadata": {},
   "outputs": [
    {
     "data": {
      "text/plain": [
       "False"
      ]
     },
     "execution_count": 120,
     "metadata": {},
     "output_type": "execute_result"
    }
   ],
   "source": [
    "x=not(x) #light off\n",
    "x"
   ]
  },
  {
   "cell_type": "code",
   "execution_count": 121,
   "id": "8eb158a0",
   "metadata": {},
   "outputs": [
    {
     "data": {
      "text/plain": [
       "True"
      ]
     },
     "execution_count": 121,
     "metadata": {},
     "output_type": "execute_result"
    }
   ],
   "source": [
    "not(x) #light on"
   ]
  },
  {
   "cell_type": "code",
   "execution_count": 122,
   "id": "7fd3548e",
   "metadata": {},
   "outputs": [
    {
     "data": {
      "text/plain": [
       "False"
      ]
     },
     "execution_count": 122,
     "metadata": {},
     "output_type": "execute_result"
    }
   ],
   "source": [
    "not(True)"
   ]
  },
  {
   "cell_type": "code",
   "execution_count": 123,
   "id": "e954b577",
   "metadata": {},
   "outputs": [
    {
     "data": {
      "text/plain": [
       "True"
      ]
     },
     "execution_count": 123,
     "metadata": {},
     "output_type": "execute_result"
    }
   ],
   "source": [
    "not(False)"
   ]
  },
  {
   "cell_type": "code",
   "execution_count": null,
   "id": "f7d0b7e9",
   "metadata": {},
   "outputs": [],
   "source": []
  },
  {
   "cell_type": "markdown",
   "id": "7ffcef0c",
   "metadata": {},
   "source": [
    "# Why Bracket Is IMPORTANT !!!"
   ]
  },
  {
   "cell_type": "code",
   "execution_count": 128,
   "id": "3eb8bc3a",
   "metadata": {},
   "outputs": [],
   "source": [
    "a=10 \n",
    "b=5\n",
    "c=3\n",
    "d=2\n",
    "\n",
    "#operator precedence in python"
   ]
  },
  {
   "cell_type": "code",
   "execution_count": 129,
   "id": "28ece457",
   "metadata": {},
   "outputs": [],
   "source": [
    "#and ... or.. not"
   ]
  },
  {
   "cell_type": "code",
   "execution_count": 130,
   "id": "a241d889",
   "metadata": {},
   "outputs": [
    {
     "data": {
      "text/plain": [
       "True"
      ]
     },
     "execution_count": 130,
     "metadata": {},
     "output_type": "execute_result"
    }
   ],
   "source": [
    "#1\n",
    "b<a or b<c and c<d or a<d\n",
    "\n",
    "# T or F or F\n",
    "#T or F\n",
    "#T"
   ]
  },
  {
   "cell_type": "code",
   "execution_count": 131,
   "id": "d0bc6fac",
   "metadata": {},
   "outputs": [
    {
     "data": {
      "text/plain": [
       "True"
      ]
     },
     "execution_count": 131,
     "metadata": {},
     "output_type": "execute_result"
    }
   ],
   "source": [
    "#2\n",
    "b<a or (b<c and c<d) or a<d"
   ]
  },
  {
   "cell_type": "code",
   "execution_count": 132,
   "id": "549a64e4",
   "metadata": {},
   "outputs": [
    {
     "data": {
      "text/plain": [
       "False"
      ]
     },
     "execution_count": 132,
     "metadata": {},
     "output_type": "execute_result"
    }
   ],
   "source": [
    "(b<a or b<c) and (c<d or a<d)\n",
    "\n",
    "#T and F"
   ]
  },
  {
   "cell_type": "code",
   "execution_count": null,
   "id": "182f91c0",
   "metadata": {},
   "outputs": [],
   "source": []
  },
  {
   "cell_type": "code",
   "execution_count": null,
   "id": "17cbef6f",
   "metadata": {},
   "outputs": [],
   "source": []
  }
 ],
 "metadata": {
  "kernelspec": {
   "display_name": "Python 3 (ipykernel)",
   "language": "python",
   "name": "python3"
  },
  "language_info": {
   "codemirror_mode": {
    "name": "ipython",
    "version": 3
   },
   "file_extension": ".py",
   "mimetype": "text/x-python",
   "name": "python",
   "nbconvert_exporter": "python",
   "pygments_lexer": "ipython3",
   "version": "3.10.9"
  }
 },
 "nbformat": 4,
 "nbformat_minor": 5
}
