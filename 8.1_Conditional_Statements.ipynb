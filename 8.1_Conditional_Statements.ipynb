{
 "cells": [
  {
   "cell_type": "markdown",
   "id": "8f00cb87",
   "metadata": {},
   "source": [
    "# Conditional Statements"
   ]
  },
  {
   "cell_type": "markdown",
   "id": "d73a778f",
   "metadata": {},
   "source": [
    "'if' conditional statement"
   ]
  },
  {
   "cell_type": "code",
   "execution_count": null,
   "id": "a396a11c",
   "metadata": {},
   "outputs": [],
   "source": [
    "'''\n",
    "\n",
    "if <conditions>: (output of the condition must be boolean)\n",
    "    <<<\n",
    "    Body of if\n",
    "            \n",
    "    >>>\n",
    "    \n",
    "else:\n",
    "    <<<< \n",
    "    Body of else\n",
    "    \n",
    "    \n",
    "    >>>>\n",
    "indentation    \n",
    "'''"
   ]
  },
  {
   "cell_type": "code",
   "execution_count": null,
   "id": "24b5736f",
   "metadata": {},
   "outputs": [],
   "source": []
  },
  {
   "cell_type": "code",
   "execution_count": 2,
   "id": "2d54678b",
   "metadata": {},
   "outputs": [
    {
     "name": "stdout",
     "output_type": "stream",
     "text": [
      "enter the number:2\n",
      "Number is less than 5\n"
     ]
    }
   ],
   "source": [
    "n=int(input('enter the number:'))\n",
    "\n",
    "if n>5:\n",
    "    print('Number is greater than 5')     \n",
    "else:    \n",
    "    print('Number is less than 5')\n",
    "    "
   ]
  },
  {
   "cell_type": "code",
   "execution_count": null,
   "id": "0d8fca3d",
   "metadata": {},
   "outputs": [],
   "source": [
    "#WAP to find whether the student will get admission in the university or not. \n",
    "# Criteria is if the students marks is greater than or equal to 75 then he/she is eligible else not.  "
   ]
  },
  {
   "cell_type": "code",
   "execution_count": 7,
   "id": "e073d44e",
   "metadata": {},
   "outputs": [
    {
     "name": "stdout",
     "output_type": "stream",
     "text": [
      "Enter the marks :75\n",
      "Congrats ! you are eligible for the admission\n"
     ]
    }
   ],
   "source": [
    "marks= int(input(\"Enter the marks :\"))\n",
    "\n",
    "if marks >= 75:\n",
    "    print(\"Congrats ! you are eligible for the admission\")\n",
    "else:\n",
    "    print(\"You are not eligible !\")"
   ]
  },
  {
   "cell_type": "code",
   "execution_count": null,
   "id": "0a2d7350",
   "metadata": {},
   "outputs": [],
   "source": []
  },
  {
   "cell_type": "code",
   "execution_count": null,
   "id": "b8f29639",
   "metadata": {},
   "outputs": [],
   "source": []
  },
  {
   "cell_type": "code",
   "execution_count": null,
   "id": "1c06a392",
   "metadata": {},
   "outputs": [],
   "source": [
    "print(\"Provide the answer in Yes or No only\")\n",
    "t=str(input(\"Is tomorrow a weekday?\"))"
   ]
  },
  {
   "cell_type": "code",
   "execution_count": null,
   "id": "0911624b",
   "metadata": {},
   "outputs": [],
   "source": [
    "if t=='Yes':\n",
    "    print(\"You have to go to office tomorrow\")\n",
    "else:\n",
    "    print(\"Tomorrow is an holiday!\")\n",
    "    print(\"Enjoy your holiday!\")"
   ]
  },
  {
   "cell_type": "code",
   "execution_count": null,
   "id": "8d67881a",
   "metadata": {},
   "outputs": [],
   "source": [
    "#Let us consider the movie 'Avengers', This is a 13+ movie."
   ]
  },
  {
   "cell_type": "code",
   "execution_count": null,
   "id": "ad84efba",
   "metadata": {},
   "outputs": [],
   "source": [
    "count=0"
   ]
  },
  {
   "cell_type": "code",
   "execution_count": 8,
   "id": "88e5cfdb",
   "metadata": {},
   "outputs": [
    {
     "name": "stdout",
     "output_type": "stream",
     "text": [
      "Enter the age: 15\n"
     ]
    }
   ],
   "source": [
    "# current_year=2023\n",
    "# age=current_year - birth_year\n"
   ]
  },
  {
   "cell_type": "code",
   "execution_count": 12,
   "id": "1a70bb3b",
   "metadata": {},
   "outputs": [
    {
     "name": "stdout",
     "output_type": "stream",
     "text": [
      "Enter the age: 2\n",
      "Hello\n",
      "You are under age, you cannot watch this movie\n",
      "Wait until you are old enough\n",
      "Thank You\n"
     ]
    }
   ],
   "source": [
    "age= int(input(\"Enter the age: \"))\n",
    "\n",
    "if (age <= 12):\n",
    "    print(\"Hello\")\n",
    "    print(\"You are under age, you cannot watch this movie\")\n",
    "    print(\"Wait until you are old enough\")\n",
    "    \n",
    "else:\n",
    "    print(\"You are old enough to watch Avenger, Enjoy !!\")\n",
    "    print(\"Dont forget to watch the sequels\")\n",
    "    \n",
    "print('Thank You')\n"
   ]
  },
  {
   "cell_type": "code",
   "execution_count": null,
   "id": "4c4c306d",
   "metadata": {},
   "outputs": [],
   "source": [
    "print(\"Thanks for Booking !!\")\n",
    "print('Total number of people=', count)"
   ]
  },
  {
   "cell_type": "code",
   "execution_count": null,
   "id": "29dff15e",
   "metadata": {},
   "outputs": [],
   "source": [
    "counter=0"
   ]
  },
  {
   "cell_type": "code",
   "execution_count": null,
   "id": "2fba82a7",
   "metadata": {},
   "outputs": [],
   "source": [
    "BOY=int(input('Enter your year of Birth'))\n",
    "counter += 1\n",
    "current_year=2022\n",
    "age=current_year-BOY\n",
    "if(age<18):\n",
    "    print(f'You are a Minor wait for {18-age} more years to watch adult movie go Home')\n",
    "else:\n",
    "    print(f'Your age looks like {age} Good Enjoy the movie')\n",
    "print('Thanks for the visit')\n",
    "print ('People visited so far' , counter)\n"
   ]
  },
  {
   "cell_type": "code",
   "execution_count": null,
   "id": "ed03bdac",
   "metadata": {},
   "outputs": [],
   "source": []
  },
  {
   "cell_type": "code",
   "execution_count": null,
   "id": "dbb06ca2",
   "metadata": {},
   "outputs": [],
   "source": [
    "x=10\n",
    "if (x >= 5):\n",
    "    print ('number is greater or equal than 5')\n",
    "    \n",
    "else:    \n",
    "    print ('number is less than 5')\n",
    "\n"
   ]
  },
  {
   "cell_type": "code",
   "execution_count": null,
   "id": "1aacac4f",
   "metadata": {},
   "outputs": [],
   "source": []
  },
  {
   "cell_type": "code",
   "execution_count": null,
   "id": "f7db717b",
   "metadata": {},
   "outputs": [],
   "source": [
    "x=4"
   ]
  },
  {
   "cell_type": "code",
   "execution_count": null,
   "id": "cfafa8dd",
   "metadata": {},
   "outputs": [],
   "source": [
    "if (x >= 5): \n",
    "    print('number is greater than or equal to 5')\n",
    "\n",
    "else:\n",
    "    print('number is less than 5')\n",
    "    \n",
    "\n",
    "\n",
    "print('Thanks for your input')   \n",
    "    \n",
    "    "
   ]
  },
  {
   "cell_type": "code",
   "execution_count": null,
   "id": "11bb3c67",
   "metadata": {},
   "outputs": [],
   "source": [
    "'''\n",
    "WAP to find whether the student is eligible for the admission or not. criteia is score must be greater than 85. Take the \n",
    "input score from the user.\n",
    "\n",
    "'''"
   ]
  },
  {
   "cell_type": "code",
   "execution_count": null,
   "id": "3628ad32",
   "metadata": {},
   "outputs": [],
   "source": [
    "n>85\n",
    "\n",
    "n>=85"
   ]
  },
  {
   "cell_type": "code",
   "execution_count": null,
   "id": "75787670",
   "metadata": {},
   "outputs": [],
   "source": [
    "input_a = int(input(\"Enter:\"))\n"
   ]
  },
  {
   "cell_type": "code",
   "execution_count": null,
   "id": "fca2fef6",
   "metadata": {},
   "outputs": [],
   "source": [
    "score=int(input(\"enter your score\"))"
   ]
  },
  {
   "cell_type": "code",
   "execution_count": null,
   "id": "0de68022",
   "metadata": {},
   "outputs": [],
   "source": [
    "if (score < 85):#True\n",
    "    print(f\"your score is {score} and that's why you are not eligible since our cutoff is greater than 85\")\n",
    "    \n",
    "else: #False\n",
    "    print(\"You are shortlisted for  the interview, Congrats !!\")\n",
    "   \n",
    " \n",
    "print(\"Thanks for your application !!\")"
   ]
  },
  {
   "cell_type": "code",
   "execution_count": null,
   "id": "2844e99a",
   "metadata": {},
   "outputs": [],
   "source": [
    "S=float(input('Enter your score'))\n",
    "\n",
    "if (S>85 ):\n",
    "    print('you are elgible')\n",
    "else:\n",
    "    print('you are not elgible')\n",
    "\n",
    "print('Thanks')\n"
   ]
  },
  {
   "cell_type": "code",
   "execution_count": null,
   "id": "acff0bfc",
   "metadata": {},
   "outputs": [],
   "source": [
    "'''\n",
    "WAP to find whether the input number is EVEN or ODD. take the input from the user. %\n",
    "\n",
    "'''"
   ]
  },
  {
   "cell_type": "code",
   "execution_count": 14,
   "id": "1e06a839",
   "metadata": {},
   "outputs": [
    {
     "name": "stdout",
     "output_type": "stream",
     "text": [
      "Enter the number: 10\n",
      "Even\n"
     ]
    }
   ],
   "source": [
    "num =  int(input(\"Enter the number: \"))\n",
    "if (num%2) == 0:\n",
    "    print('Even')\n",
    "else:\n",
    "    print('Odd')\n",
    "    "
   ]
  },
  {
   "cell_type": "code",
   "execution_count": 16,
   "id": "d31eb73f",
   "metadata": {},
   "outputs": [
    {
     "name": "stdout",
     "output_type": "stream",
     "text": [
      "4\n",
      "Even\n"
     ]
    }
   ],
   "source": [
    "num =  int(input())\n",
    "\n",
    "if num%2 != 0:\n",
    "    print('Odd')\n",
    "else:\n",
    "    print('Even')"
   ]
  },
  {
   "cell_type": "code",
   "execution_count": null,
   "id": "a98901a7",
   "metadata": {},
   "outputs": [],
   "source": [
    "bool(5)"
   ]
  },
  {
   "cell_type": "code",
   "execution_count": null,
   "id": "1be531fe",
   "metadata": {},
   "outputs": [],
   "source": [
    "number = int (input('Enter your number'))\n",
    "if number:\n",
    "    print ('The number is odd')\n",
    "    \n",
    "else:\n",
    "    print ('the number is even')\n"
   ]
  },
  {
   "cell_type": "markdown",
   "id": "4c3bccd0",
   "metadata": {},
   "source": [
    "# Examples"
   ]
  },
  {
   "cell_type": "code",
   "execution_count": null,
   "id": "6f281e7a",
   "metadata": {},
   "outputs": [],
   "source": [
    "# Eg1: Find whether the given number is even or odd."
   ]
  },
  {
   "cell_type": "code",
   "execution_count": null,
   "id": "46053b0b",
   "metadata": {},
   "outputs": [],
   "source": [
    "num=int(input())"
   ]
  },
  {
   "cell_type": "code",
   "execution_count": null,
   "id": "24cec61e",
   "metadata": {},
   "outputs": [],
   "source": [
    "'''\n",
    "print\n",
    "modulo\n",
    "comparison\n",
    "boolean\n",
    "conditional\n",
    "\n",
    "'''"
   ]
  },
  {
   "cell_type": "code",
   "execution_count": null,
   "id": "eb2db15a",
   "metadata": {},
   "outputs": [],
   "source": [
    "if (( num % 2 ) == 0 ):\n",
    "    print('The given number is Even')\n",
    "    \n",
    "else:\n",
    "    print('The given number is Odd')"
   ]
  },
  {
   "cell_type": "code",
   "execution_count": null,
   "id": "f8120cc8",
   "metadata": {},
   "outputs": [],
   "source": [
    "2 != 5"
   ]
  },
  {
   "cell_type": "code",
   "execution_count": null,
   "id": "432ab8d0",
   "metadata": {},
   "outputs": [],
   "source": [
    "num=int(input())"
   ]
  },
  {
   "cell_type": "code",
   "execution_count": null,
   "id": "fa1ee5e9",
   "metadata": {},
   "outputs": [],
   "source": [
    "if ((num%2) != 0): #true\n",
    "    print('The given number is Odd')\n",
    "else:\n",
    "    print('The given number is Even')"
   ]
  },
  {
   "cell_type": "code",
   "execution_count": null,
   "id": "b4534f9b",
   "metadata": {},
   "outputs": [],
   "source": []
  },
  {
   "cell_type": "code",
   "execution_count": null,
   "id": "adeb6c49",
   "metadata": {},
   "outputs": [],
   "source": []
  },
  {
   "cell_type": "code",
   "execution_count": null,
   "id": "b3e6cd37",
   "metadata": {},
   "outputs": [],
   "source": []
  },
  {
   "cell_type": "code",
   "execution_count": null,
   "id": "0601ea77",
   "metadata": {},
   "outputs": [],
   "source": []
  }
 ],
 "metadata": {
  "kernelspec": {
   "display_name": "Python 3 (ipykernel)",
   "language": "python",
   "name": "python3"
  },
  "language_info": {
   "codemirror_mode": {
    "name": "ipython",
    "version": 3
   },
   "file_extension": ".py",
   "mimetype": "text/x-python",
   "name": "python",
   "nbconvert_exporter": "python",
   "pygments_lexer": "ipython3",
   "version": "3.10.9"
  }
 },
 "nbformat": 4,
 "nbformat_minor": 5
}
