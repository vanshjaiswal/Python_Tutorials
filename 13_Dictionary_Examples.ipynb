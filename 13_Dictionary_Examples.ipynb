{
 "cells": [
  {
   "cell_type": "code",
   "execution_count": 1,
   "id": "0a4d6ae4",
   "metadata": {},
   "outputs": [],
   "source": [
    "chemistry={'Ram':87,'Sham':67,'Hari':86,'Kiran':65}"
   ]
  },
  {
   "cell_type": "code",
   "execution_count": null,
   "id": "9ed299d5",
   "metadata": {},
   "outputs": [],
   "source": [
    "# Grand total marks of the student of a class in chemistry"
   ]
  },
  {
   "cell_type": "code",
   "execution_count": null,
   "id": "5a84b40c",
   "metadata": {},
   "outputs": [],
   "source": [
    "'''\n",
    "d={}\n",
    "foreach k in keys(d):\n",
    "    do something with d[k]\n",
    "\n",
    "'''"
   ]
  },
  {
   "cell_type": "code",
   "execution_count": 7,
   "id": "62d1382b",
   "metadata": {},
   "outputs": [
    {
     "name": "stdout",
     "output_type": "stream",
     "text": [
      "1\n",
      "2\n",
      "3\n",
      "4\n"
     ]
    }
   ],
   "source": [
    "l=[1,2,3,4]\n",
    "\n",
    "for i in l:\n",
    "    print(i)"
   ]
  },
  {
   "cell_type": "code",
   "execution_count": 9,
   "id": "2a737053",
   "metadata": {},
   "outputs": [
    {
     "data": {
      "text/plain": [
       "86"
      ]
     },
     "execution_count": 9,
     "metadata": {},
     "output_type": "execute_result"
    }
   ],
   "source": [
    "chemistry['Hari']"
   ]
  },
  {
   "cell_type": "code",
   "execution_count": 10,
   "id": "36f29759",
   "metadata": {},
   "outputs": [
    {
     "name": "stdout",
     "output_type": "stream",
     "text": [
      "Ram\n",
      "87\n",
      "Sham\n",
      "67\n",
      "Hari\n",
      "86\n",
      "Kiran\n",
      "65\n"
     ]
    }
   ],
   "source": [
    "for i in chemistry:\n",
    "    print(i)\n",
    "    print(chemistry[i])"
   ]
  },
  {
   "cell_type": "code",
   "execution_count": 5,
   "id": "997b7e26",
   "metadata": {},
   "outputs": [
    {
     "data": {
      "text/plain": [
       "{'Ram': 87, 'Sham': 67, 'Hari': 86, 'Kiran': 65}"
      ]
     },
     "execution_count": 5,
     "metadata": {},
     "output_type": "execute_result"
    }
   ],
   "source": [
    "chemistry"
   ]
  },
  {
   "cell_type": "code",
   "execution_count": 6,
   "id": "6f5c3a75",
   "metadata": {},
   "outputs": [
    {
     "name": "stdout",
     "output_type": "stream",
     "text": [
      "305\n"
     ]
    }
   ],
   "source": [
    "total=0\n",
    "for i in chemistry:\n",
    "    total += chemistry[i] #87+67\n",
    "    \n",
    "print(total)"
   ]
  },
  {
   "cell_type": "code",
   "execution_count": null,
   "id": "acc103bc",
   "metadata": {},
   "outputs": [],
   "source": [
    "#avg marks of chemistry in class"
   ]
  },
  {
   "cell_type": "code",
   "execution_count": 11,
   "id": "2c2c7131",
   "metadata": {},
   "outputs": [
    {
     "name": "stdout",
     "output_type": "stream",
     "text": [
      "Total: 305\n",
      "Count: 4\n",
      "76.25\n"
     ]
    }
   ],
   "source": [
    "total=0\n",
    "count=0\n",
    "for i in chemistry:\n",
    "    total =  total + chemistry[i]\n",
    "    count += 1\n",
    "    \n",
    "print('Total:', total)\n",
    "print('Count:', count)\n",
    "avg_marks=total/count\n",
    "print(avg_marks)\n",
    "    \n"
   ]
  },
  {
   "cell_type": "code",
   "execution_count": null,
   "id": "aba619f7",
   "metadata": {},
   "outputs": [],
   "source": [
    "#avg marks in chemistry\n",
    "\n",
    "count=0\n",
    "total=0\n",
    "for i in chemistry:\n",
    "    total=total+chemistry[i]\n",
    "    count += 1\n",
    "    \n",
    "avg_chem=total/count\n",
    "print(avg_chem)"
   ]
  },
  {
   "cell_type": "code",
   "execution_count": 12,
   "id": "63eab756",
   "metadata": {},
   "outputs": [],
   "source": [
    "score={'Virat':70, 'Rohit':112, 'Rahul':76}\n",
    "\n",
    "#keys: Player names,\n",
    "#values: runs scored by a player"
   ]
  },
  {
   "cell_type": "code",
   "execution_count": 13,
   "id": "a879ba41",
   "metadata": {},
   "outputs": [
    {
     "data": {
      "text/plain": [
       "{'Virat': 70, 'Rohit': 112, 'Rahul': 76}"
      ]
     },
     "execution_count": 13,
     "metadata": {},
     "output_type": "execute_result"
    }
   ],
   "source": [
    "score"
   ]
  },
  {
   "cell_type": "code",
   "execution_count": 14,
   "id": "b642f519",
   "metadata": {},
   "outputs": [],
   "source": [
    "#rahul hits a 4, update his runs\n",
    "\n",
    "score['Rahul']=80"
   ]
  },
  {
   "cell_type": "code",
   "execution_count": 15,
   "id": "cfb42963",
   "metadata": {},
   "outputs": [
    {
     "data": {
      "text/plain": [
       "{'Virat': 70, 'Rohit': 112, 'Rahul': 80}"
      ]
     },
     "execution_count": 15,
     "metadata": {},
     "output_type": "execute_result"
    }
   ],
   "source": [
    "score"
   ]
  },
  {
   "cell_type": "code",
   "execution_count": null,
   "id": "396c9033",
   "metadata": {},
   "outputs": [],
   "source": [
    "#score={'Virat':70, 'Rohit':112, 'Rahul':76, 'Pant': 6}"
   ]
  },
  {
   "cell_type": "code",
   "execution_count": 16,
   "id": "58c0de27",
   "metadata": {},
   "outputs": [],
   "source": [
    "score['Pant']=6"
   ]
  },
  {
   "cell_type": "code",
   "execution_count": 17,
   "id": "01d025de",
   "metadata": {},
   "outputs": [
    {
     "data": {
      "text/plain": [
       "{'Virat': 70, 'Rohit': 112, 'Rahul': 80, 'Pant': 6}"
      ]
     },
     "execution_count": 17,
     "metadata": {},
     "output_type": "execute_result"
    }
   ],
   "source": [
    "score"
   ]
  },
  {
   "cell_type": "code",
   "execution_count": null,
   "id": "cb95b18a",
   "metadata": {},
   "outputs": [],
   "source": [
    "'''\n",
    "second match\n",
    "\n",
    "virat 30\n",
    "rohit 30\n",
    "rahul 30\n",
    "Pant 320\n",
    "\n",
    "\n",
    "\n",
    "'''"
   ]
  },
  {
   "cell_type": "code",
   "execution_count": null,
   "id": "d529614b",
   "metadata": {},
   "outputs": [],
   "source": [
    "for i in score:\n",
    "    score[i]=score[i]+30"
   ]
  },
  {
   "cell_type": "code",
   "execution_count": null,
   "id": "41ea7c94",
   "metadata": {},
   "outputs": [],
   "source": [
    "score"
   ]
  },
  {
   "cell_type": "code",
   "execution_count": null,
   "id": "aabc7a6a",
   "metadata": {},
   "outputs": [],
   "source": [
    "score['Hardik']=score['Hardik']+18"
   ]
  },
  {
   "cell_type": "code",
   "execution_count": null,
   "id": "40f9189a",
   "metadata": {},
   "outputs": [],
   "source": [
    "score['Virat']=score['Virat']+50"
   ]
  },
  {
   "cell_type": "code",
   "execution_count": null,
   "id": "4559b743",
   "metadata": {},
   "outputs": [],
   "source": [
    "score"
   ]
  },
  {
   "cell_type": "code",
   "execution_count": null,
   "id": "18640598",
   "metadata": {},
   "outputs": [],
   "source": [
    "score['Hardik']=18"
   ]
  },
  {
   "cell_type": "code",
   "execution_count": null,
   "id": "8b15ea8b",
   "metadata": {},
   "outputs": [],
   "source": [
    "score"
   ]
  },
  {
   "cell_type": "code",
   "execution_count": null,
   "id": "a33214f9",
   "metadata": {},
   "outputs": [],
   "source": []
  },
  {
   "cell_type": "code",
   "execution_count": null,
   "id": "f04ae0da",
   "metadata": {},
   "outputs": [],
   "source": []
  },
  {
   "cell_type": "code",
   "execution_count": null,
   "id": "710d56fb",
   "metadata": {},
   "outputs": [],
   "source": [
    "score['Pant']=score['Pant']+40"
   ]
  },
  {
   "cell_type": "code",
   "execution_count": null,
   "id": "89a6adad",
   "metadata": {},
   "outputs": [],
   "source": [
    "def iskey(D,player):\n",
    "    \n",
    "    found=False\n",
    "    for i in score:\n",
    "        if player == i:\n",
    "            found=True\n",
    "    return found\n",
    "\n",
    "if iskey(score, 'Pant'):\n",
    "    score['Pant']=score['Pant']+2\n",
    "    \n",
    "else:\n",
    "    score['Pant']=2\n",
    "\n"
   ]
  },
  {
   "cell_type": "code",
   "execution_count": null,
   "id": "0f9b4eb4",
   "metadata": {},
   "outputs": [],
   "source": [
    "score"
   ]
  },
  {
   "cell_type": "code",
   "execution_count": null,
   "id": "0859bd5c",
   "metadata": {},
   "outputs": [],
   "source": [
    "key=\"one\"\n",
    "\n",
    "if key in mydict.keys():\n",
    "    print(\"Key exists\")    \n",
    "else:\n",
    "    print(\"Key does not exist\")"
   ]
  },
  {
   "cell_type": "code",
   "execution_count": null,
   "id": "b573544d",
   "metadata": {},
   "outputs": [],
   "source": []
  },
  {
   "cell_type": "code",
   "execution_count": null,
   "id": "57669626",
   "metadata": {},
   "outputs": [],
   "source": [
    "x=list(score.keys())"
   ]
  },
  {
   "cell_type": "code",
   "execution_count": null,
   "id": "5c847a17",
   "metadata": {},
   "outputs": [],
   "source": [
    "x"
   ]
  },
  {
   "cell_type": "code",
   "execution_count": null,
   "id": "d8210ef7",
   "metadata": {},
   "outputs": [],
   "source": [
    "y=list(score.values())"
   ]
  },
  {
   "cell_type": "code",
   "execution_count": null,
   "id": "55749a50",
   "metadata": {},
   "outputs": [],
   "source": [
    "y"
   ]
  },
  {
   "cell_type": "code",
   "execution_count": null,
   "id": "203e67c0",
   "metadata": {},
   "outputs": [],
   "source": [
    "a={'m':[1,2,3], 'n':[1,2]}"
   ]
  },
  {
   "cell_type": "code",
   "execution_count": null,
   "id": "df5040de",
   "metadata": {},
   "outputs": [],
   "source": [
    "b=list(a.values())"
   ]
  },
  {
   "cell_type": "code",
   "execution_count": null,
   "id": "085158cb",
   "metadata": {},
   "outputs": [],
   "source": [
    "b"
   ]
  },
  {
   "cell_type": "code",
   "execution_count": null,
   "id": "53f10312",
   "metadata": {},
   "outputs": [],
   "source": [
    "score"
   ]
  },
  {
   "cell_type": "code",
   "execution_count": 21,
   "id": "14ec8ab3",
   "metadata": {},
   "outputs": [
    {
     "ename": "NameError",
     "evalue": "name 'area_rectangle' is not defined",
     "output_type": "error",
     "traceback": [
      "\u001b[1;31m---------------------------------------------------------------------------\u001b[0m",
      "\u001b[1;31mNameError\u001b[0m                                 Traceback (most recent call last)",
      "\u001b[1;32m<ipython-input-21-34c30e0274a1>\u001b[0m in \u001b[0;36m<module>\u001b[1;34m\u001b[0m\n\u001b[1;32m----> 1\u001b[1;33m \u001b[0marea_rectangle\u001b[0m\u001b[1;33m(\u001b[0m\u001b[1;36m4\u001b[0m\u001b[1;33m,\u001b[0m\u001b[1;36m5\u001b[0m\u001b[1;33m)\u001b[0m\u001b[1;33m\u001b[0m\u001b[1;33m\u001b[0m\u001b[0m\n\u001b[0m",
      "\u001b[1;31mNameError\u001b[0m: name 'area_rectangle' is not defined"
     ]
    }
   ],
   "source": [
    "area_rectangle(4,5)"
   ]
  },
  {
   "cell_type": "code",
   "execution_count": null,
   "id": "b52f8f14",
   "metadata": {},
   "outputs": [],
   "source": []
  },
  {
   "cell_type": "code",
   "execution_count": null,
   "id": "cb0dc9b8",
   "metadata": {},
   "outputs": [],
   "source": []
  },
  {
   "cell_type": "code",
   "execution_count": null,
   "id": "21fca78f",
   "metadata": {},
   "outputs": [],
   "source": []
  },
  {
   "cell_type": "code",
   "execution_count": null,
   "id": "12371ae7",
   "metadata": {},
   "outputs": [],
   "source": [
    "if player in score.keys()"
   ]
  },
  {
   "cell_type": "code",
   "execution_count": null,
   "id": "6cf0ced6",
   "metadata": {},
   "outputs": [],
   "source": [
    "'Jadeja' in score.keys()"
   ]
  },
  {
   "cell_type": "code",
   "execution_count": null,
   "id": "278c3cf1",
   "metadata": {},
   "outputs": [],
   "source": [
    "'''\n",
    "'target_key' in dict.keys()\n",
    "\n",
    "\n",
    "return True: if target_key is present in dictionary keys\n",
    "\n",
    "return False: if target_key is not present in dictionary keys\n",
    "\n",
    "'''"
   ]
  },
  {
   "cell_type": "code",
   "execution_count": null,
   "id": "86c90ee1",
   "metadata": {},
   "outputs": [],
   "source": [
    "score"
   ]
  },
  {
   "cell_type": "code",
   "execution_count": null,
   "id": "a6fa3109",
   "metadata": {},
   "outputs": [],
   "source": [
    "player='Sachin'\n",
    "runs=30\n",
    "\n",
    "if player in score.keys():\n",
    "    score[player]=score[player]+runs\n",
    "    #currnt key value pair is updated\n",
    "    \n",
    "else:\n",
    "    score[player]=runs\n",
    "    #new key value pair is added"
   ]
  },
  {
   "cell_type": "code",
   "execution_count": null,
   "id": "532518a6",
   "metadata": {},
   "outputs": [],
   "source": [
    "score"
   ]
  },
  {
   "cell_type": "code",
   "execution_count": null,
   "id": "9a8c425c",
   "metadata": {},
   "outputs": [],
   "source": [
    "# how's you \"beautiful\""
   ]
  },
  {
   "cell_type": "code",
   "execution_count": null,
   "id": "f7f1aa9e",
   "metadata": {},
   "outputs": [],
   "source": [
    "# you marks is \"'1'\\'2'\""
   ]
  },
  {
   "cell_type": "code",
   "execution_count": 9,
   "id": "4ce739c6",
   "metadata": {},
   "outputs": [
    {
     "name": "stdout",
     "output_type": "stream",
     "text": [
      "how's you \"beautiful\"\n"
     ]
    }
   ],
   "source": [
    "print(\"how's you \\\"beautiful\\\"\")"
   ]
  },
  {
   "cell_type": "code",
   "execution_count": 6,
   "id": "f034cbfa",
   "metadata": {},
   "outputs": [
    {
     "name": "stdout",
     "output_type": "stream",
     "text": [
      "how's you \"beautiful\"\n"
     ]
    }
   ],
   "source": [
    "print(\"how's you\" + ' \"beautiful\"')"
   ]
  },
  {
   "cell_type": "code",
   "execution_count": null,
   "id": "2e619f8d",
   "metadata": {},
   "outputs": [],
   "source": [
    "#take a input from the user of player name and score and create a score card dictionary. \n",
    "#he is updating the scorecard after each over in a T20 match. consider wicket fall case also."
   ]
  },
  {
   "cell_type": "code",
   "execution_count": 1,
   "id": "aa7d5ea1",
   "metadata": {},
   "outputs": [
    {
     "data": {
      "text/plain": [
       "'\\n\\ntake a input from the user of player name and score and create a score card dictionary, \\nhe is updating the scorecard after each over in a T20 match.\\n\\nPossibilities: (Consider no wicket falls)\\n* Two batsmen are batting in an over\\n* Number of runs of both batsman\\n* Create a dictionary: Keys- player name; Value: Number of runs\\n* Number of runs entered per over, so the runs should be added in the batsman account.\\n* How many times the operator is updating the score: 20 times.\\n\\n#what happens if wicket falls:\\n\\n* if no wicket falls then 2 batsman are there .\\n* if 1 wicket falls then 3 batsman should be there...\\n* if 2 wicket falls then 4 batsman should be there...\\n* if 3 wicket falls then 5 batsman should be there...\\n* if n wicket falls then n+2 batsman should be there...\\n\\n0: take a input from the user that how many wicket is fallen in the over.\\n1: if no wicket falls  then take input of only 2 batsman\\n2: if n wicket falls then tak input of n+2 batsman\\n3: implement this by using if else condition\\n\\nHint: if no wicket falls, wickets=0\\n\\n# I want total score after each over eg: Score: 15/0 (sum of total runs / number of wickets)\\neg: 1: 15/0 (7,8 0 )\\n\\n    2: 21/2 (1,1,4,0,   2)\\n    \\n    3: 32/3 (6,4,1    1)\\n\\n* track the number of runs for summation.\\n* track the number of wickets falling in a over.\\n\\n1: Total score: Summation of values of scorecard dictionary.\\n2: create the counter_wicket variable and track the wickets.\\n\\n\\n'"
      ]
     },
     "execution_count": 1,
     "metadata": {},
     "output_type": "execute_result"
    }
   ],
   "source": [
    "'''\n",
    "take a input from the user of player name and score and create a score card dictionary, \n",
    "he is updating the scorecard after each over in a T20 match. (20 overs)\n",
    "\n",
    "Possibilities: (Consider no wicket falls)\n",
    "* Two batsmen are batting in an over\n",
    "* Number of runs of both batsman\n",
    "* Create a dictionary: Keys- player name; Value: Number of runs\n",
    "* Number of runs entered per over, so the runs should be added in the batsman account.\n",
    "* How many times the operator is updating the score: 20 times.\n",
    "\n",
    "#what happens if wicket falls:\n",
    "\n",
    "* if no wicket falls then 2 batsman are there .\n",
    "* if 1 wicket falls then 3 batsman should be there...\n",
    "* if 2 wicket falls then 4 batsman should be there...\n",
    "* if 3 wicket falls then 5 batsman should be there...\n",
    "* if n wicket falls then n+2 batsman should be there...\n",
    "\n",
    "0: take a input from the user that how many wicket is fallen in the over.\n",
    "1: if no wicket falls  then take input of only 2 batsman\n",
    "2: if n wicket falls then tak input of n+2 batsman\n",
    "3: implement this by using if else condition\n",
    "\n",
    "Hint: if no wicket falls, wickets=0\n",
    "\n",
    "# I want total score after each over eg: Score: 15/0 (sum of total runs / number of wickets fallen)\n",
    "eg: 1: 15/0 (7,8 0 )\n",
    "\n",
    "    2: 21/2 (1,1,4,0,   2)\n",
    "    \n",
    "    3: 32/3 (6,4,1    1)\n",
    "\n",
    "* track the number of runs for summation.\n",
    "* track the number of wickets falling in a over.\n",
    "\n",
    "1: Total score: Summation of values of scorecard dictionary.\n",
    "2: create the counter_wicket variable and track the wickets.\n",
    "\n",
    "\n",
    "'''"
   ]
  },
  {
   "cell_type": "code",
   "execution_count": null,
   "id": "bb56a157",
   "metadata": {},
   "outputs": [
    {
     "name": "stdout",
     "output_type": "stream",
     "text": [
      "Enter the wicket in over: 0\n",
      "Enter the player name : Rohit\n",
      "Enter the runs :4\n",
      "First time entry\n",
      "Enter the player name : Virat\n",
      "Enter the runs :6\n",
      "First time entry\n",
      "1 Over completed\n",
      "Scorecard : {'Rohit': 4, 'Virat': 6}\n",
      "Total Score 10 / 0 after 1 over\n",
      "\n",
      "Enter the wicket in over: 1\n",
      "Enter the player name : Rohit\n",
      "Enter the runs :2\n",
      "Second entry\n",
      "Enter the player name : Virat\n",
      "Enter the runs :3\n",
      "Second entry\n",
      "Enter the player name : Yuvraj\n",
      "Enter the runs :8\n",
      "First time entry\n",
      "2 Over completed\n",
      "Scorecard : {'Rohit': 6, 'Virat': 9, 'Yuvraj': 8}\n",
      "Total Score 23 / 1 after 2 over\n",
      "\n"
     ]
    }
   ],
   "source": [
    "scorecard={}\n",
    "counter_wickets=0\n",
    "for i in range(1,6):\n",
    "    total_runs=0\n",
    "    wickets=int(input('Enter the wicket in over: '))#1\n",
    "    counter_wickets += wickets\n",
    "    for j in range(wickets + 2):\n",
    "        player_name = str(input(\"Enter the player name : \"))\n",
    "        runs = int(input('Enter the runs :'))\n",
    "        if player_name in scorecard.keys():\n",
    "            scorecard[player_name] = scorecard[player_name] + runs\n",
    "            print('Second entry')\n",
    "        else:\n",
    "            scorecard[player_name] = runs\n",
    "            print('First time entry')      \n",
    "    for k in scorecard:\n",
    "        total_runs = total_runs + scorecard[k]   \n",
    "    print(f'{i} Over completed')\n",
    "    print('Scorecard :',scorecard)\n",
    "    print(f'Total Score {total_runs} / {counter_wickets} after {i} over')\n",
    "    print('')\n",
    "    \n",
    "    \n",
    "\n"
   ]
  },
  {
   "cell_type": "code",
   "execution_count": 5,
   "id": "012dedd1",
   "metadata": {},
   "outputs": [],
   "source": [
    "x=dict((k, a[k]) for k in (1, 2, 3))"
   ]
  },
  {
   "cell_type": "code",
   "execution_count": 20,
   "id": "3f5730c7",
   "metadata": {},
   "outputs": [
    {
     "ename": "KeyboardInterrupt",
     "evalue": "Interrupted by user",
     "output_type": "error",
     "traceback": [
      "\u001b[1;31m---------------------------------------------------------------------------\u001b[0m",
      "\u001b[1;31mKeyboardInterrupt\u001b[0m                         Traceback (most recent call last)",
      "\u001b[1;32m<ipython-input-20-7947e78b665a>\u001b[0m in \u001b[0;36m<module>\u001b[1;34m\u001b[0m\n\u001b[1;32m----> 1\u001b[1;33m \u001b[0mn\u001b[0m\u001b[1;33m=\u001b[0m\u001b[0mint\u001b[0m\u001b[1;33m(\u001b[0m\u001b[0minput\u001b[0m\u001b[1;33m(\u001b[0m\u001b[1;34m\"enter the number of wicket fallen in the over:\"\u001b[0m\u001b[1;33m)\u001b[0m\u001b[1;33m)\u001b[0m\u001b[1;33m\u001b[0m\u001b[1;33m\u001b[0m\u001b[0m\n\u001b[0m\u001b[0;32m      2\u001b[0m \u001b[0md\u001b[0m\u001b[1;33m=\u001b[0m\u001b[1;33m{\u001b[0m\u001b[1;33m}\u001b[0m\u001b[1;33m\u001b[0m\u001b[1;33m\u001b[0m\u001b[0m\n\u001b[0;32m      3\u001b[0m \u001b[1;32mif\u001b[0m \u001b[0mn\u001b[0m\u001b[1;33m==\u001b[0m\u001b[1;36m0\u001b[0m\u001b[1;33m:\u001b[0m\u001b[1;33m\u001b[0m\u001b[1;33m\u001b[0m\u001b[0m\n\u001b[0;32m      4\u001b[0m     \u001b[1;32mfor\u001b[0m \u001b[0mi\u001b[0m \u001b[1;32min\u001b[0m \u001b[0mrange\u001b[0m\u001b[1;33m(\u001b[0m\u001b[1;36m2\u001b[0m\u001b[1;33m)\u001b[0m\u001b[1;33m:\u001b[0m\u001b[1;33m\u001b[0m\u001b[1;33m\u001b[0m\u001b[0m\n\u001b[0;32m      5\u001b[0m         \u001b[0mname\u001b[0m\u001b[1;33m=\u001b[0m\u001b[0minput\u001b[0m\u001b[1;33m(\u001b[0m\u001b[1;34m\"enter the name of the batsman:\"\u001b[0m\u001b[1;33m)\u001b[0m\u001b[1;33m\u001b[0m\u001b[1;33m\u001b[0m\u001b[0m\n",
      "\u001b[1;32m~\\anaconda3\\lib\\site-packages\\ipykernel\\kernelbase.py\u001b[0m in \u001b[0;36mraw_input\u001b[1;34m(self, prompt)\u001b[0m\n\u001b[0;32m    858\u001b[0m                 \u001b[1;34m\"raw_input was called, but this frontend does not support input requests.\"\u001b[0m\u001b[1;33m\u001b[0m\u001b[1;33m\u001b[0m\u001b[0m\n\u001b[0;32m    859\u001b[0m             )\n\u001b[1;32m--> 860\u001b[1;33m         return self._input_request(str(prompt),\n\u001b[0m\u001b[0;32m    861\u001b[0m             \u001b[0mself\u001b[0m\u001b[1;33m.\u001b[0m\u001b[0m_parent_ident\u001b[0m\u001b[1;33m,\u001b[0m\u001b[1;33m\u001b[0m\u001b[1;33m\u001b[0m\u001b[0m\n\u001b[0;32m    862\u001b[0m             \u001b[0mself\u001b[0m\u001b[1;33m.\u001b[0m\u001b[0m_parent_header\u001b[0m\u001b[1;33m,\u001b[0m\u001b[1;33m\u001b[0m\u001b[1;33m\u001b[0m\u001b[0m\n",
      "\u001b[1;32m~\\anaconda3\\lib\\site-packages\\ipykernel\\kernelbase.py\u001b[0m in \u001b[0;36m_input_request\u001b[1;34m(self, prompt, ident, parent, password)\u001b[0m\n\u001b[0;32m    902\u001b[0m             \u001b[1;32mexcept\u001b[0m \u001b[0mKeyboardInterrupt\u001b[0m\u001b[1;33m:\u001b[0m\u001b[1;33m\u001b[0m\u001b[1;33m\u001b[0m\u001b[0m\n\u001b[0;32m    903\u001b[0m                 \u001b[1;31m# re-raise KeyboardInterrupt, to truncate traceback\u001b[0m\u001b[1;33m\u001b[0m\u001b[1;33m\u001b[0m\u001b[1;33m\u001b[0m\u001b[0m\n\u001b[1;32m--> 904\u001b[1;33m                 \u001b[1;32mraise\u001b[0m \u001b[0mKeyboardInterrupt\u001b[0m\u001b[1;33m(\u001b[0m\u001b[1;34m\"Interrupted by user\"\u001b[0m\u001b[1;33m)\u001b[0m \u001b[1;32mfrom\u001b[0m \u001b[1;32mNone\u001b[0m\u001b[1;33m\u001b[0m\u001b[1;33m\u001b[0m\u001b[0m\n\u001b[0m\u001b[0;32m    905\u001b[0m             \u001b[1;32mexcept\u001b[0m \u001b[0mException\u001b[0m \u001b[1;32mas\u001b[0m \u001b[0me\u001b[0m\u001b[1;33m:\u001b[0m\u001b[1;33m\u001b[0m\u001b[1;33m\u001b[0m\u001b[0m\n\u001b[0;32m    906\u001b[0m                 \u001b[0mself\u001b[0m\u001b[1;33m.\u001b[0m\u001b[0mlog\u001b[0m\u001b[1;33m.\u001b[0m\u001b[0mwarning\u001b[0m\u001b[1;33m(\u001b[0m\u001b[1;34m\"Invalid Message:\"\u001b[0m\u001b[1;33m,\u001b[0m \u001b[0mexc_info\u001b[0m\u001b[1;33m=\u001b[0m\u001b[1;32mTrue\u001b[0m\u001b[1;33m)\u001b[0m\u001b[1;33m\u001b[0m\u001b[1;33m\u001b[0m\u001b[0m\n",
      "\u001b[1;31mKeyboardInterrupt\u001b[0m: Interrupted by user"
     ]
    }
   ],
   "source": [
    "n=int(input(\"enter the number of wicket fallen in the over:\"))\n",
    "d={}\n",
    "if n==0:\n",
    "    for i in range(2):\n",
    "        name=input(\"enter the name of the batsman:\")\n",
    "        runs=int(input(\"enter the runs scored by the batsman:\"))\n",
    "        d[name]=runs\n",
    "    print(d)\n",
    "else:\n",
    "    for i in range(n+2):\n",
    "        name=input(\"enter the name of the batsman:\")\n",
    "        runs=int(input(\"enter the runs scored by the batsman:\"))\n",
    "        d[name]=runs\n",
    "    print(d)"
   ]
  },
  {
   "cell_type": "code",
   "execution_count": null,
   "id": "cc94961a",
   "metadata": {},
   "outputs": [],
   "source": []
  },
  {
   "cell_type": "code",
   "execution_count": null,
   "id": "8590560c",
   "metadata": {},
   "outputs": [],
   "source": []
  },
  {
   "cell_type": "code",
   "execution_count": null,
   "id": "62313841",
   "metadata": {},
   "outputs": [],
   "source": []
  },
  {
   "cell_type": "code",
   "execution_count": 6,
   "id": "4f75c5af",
   "metadata": {},
   "outputs": [
    {
     "data": {
      "text/plain": [
       "{1: 1, 2: 4, 3: 9}"
      ]
     },
     "execution_count": 6,
     "metadata": {},
     "output_type": "execute_result"
    }
   ],
   "source": [
    "x"
   ]
  },
  {
   "cell_type": "code",
   "execution_count": 3,
   "id": "4cc3dfaa",
   "metadata": {},
   "outputs": [
    {
     "name": "stdout",
     "output_type": "stream",
     "text": [
      "Total Score {total_runs} / {counter_wickets} after {i} over\n"
     ]
    }
   ],
   "source": [
    " print('Total Score {total_runs} / {counter_wickets} after {i} over')"
   ]
  },
  {
   "cell_type": "code",
   "execution_count": 2,
   "id": "c13c314b",
   "metadata": {},
   "outputs": [
    {
     "name": "stdout",
     "output_type": "stream",
     "text": [
      "Total Score (total_runs) / (counter_wickets) after (i) over\n"
     ]
    }
   ],
   "source": [
    "print('Total Score (total_runs) / (counter_wickets) after (i) over')"
   ]
  },
  {
   "cell_type": "code",
   "execution_count": 5,
   "id": "4b2d6157",
   "metadata": {},
   "outputs": [],
   "source": [
    "a=4\n",
    "b=2\n",
    "c=3"
   ]
  },
  {
   "cell_type": "code",
   "execution_count": 4,
   "id": "becddb15",
   "metadata": {},
   "outputs": [
    {
     "name": "stdout",
     "output_type": "stream",
     "text": [
      "Total Score {a} / {b} after {c} over\n"
     ]
    }
   ],
   "source": [
    "print('Total Score {a} / {b} after {c} over')"
   ]
  },
  {
   "cell_type": "code",
   "execution_count": 6,
   "id": "39a4e881",
   "metadata": {},
   "outputs": [
    {
     "name": "stdout",
     "output_type": "stream",
     "text": [
      "Total Score 4 / 2 after 3 over\n"
     ]
    }
   ],
   "source": [
    "print(f'Total Score {a} / {b} after {c} over')"
   ]
  },
  {
   "cell_type": "code",
   "execution_count": 7,
   "id": "bf084245",
   "metadata": {},
   "outputs": [
    {
     "name": "stdout",
     "output_type": "stream",
     "text": [
      "Total Score 4 / 2 after 3 over\n"
     ]
    }
   ],
   "source": [
    "print('Total Score',a, '/',b, 'after',c, 'over')"
   ]
  },
  {
   "cell_type": "code",
   "execution_count": null,
   "id": "4dd586cc",
   "metadata": {},
   "outputs": [],
   "source": [
    "[2,3,4,5,4]"
   ]
  },
  {
   "cell_type": "code",
   "execution_count": null,
   "id": "47d5f4f2",
   "metadata": {},
   "outputs": [],
   "source": [
    "2+3+4+5+4"
   ]
  },
  {
   "cell_type": "code",
   "execution_count": null,
   "id": "0c3be620",
   "metadata": {},
   "outputs": [],
   "source": [
    "scorecard={}\n",
    "total_wickets=0\n",
    "total=0\n",
    "for i in range(1,6):\n",
    "    print('Number of wickets in over',i)\n",
    "    wickets=int(input())\n",
    "    if wickets == 0:\n",
    "        for j in range(2):\n",
    "            player=str(input('Enter the player name: '))\n",
    "            runs=int(input('Enter the score: '))\n",
    "            if player in scorecard.keys():\n",
    "                scorecard[player]=scorecard[player]+runs\n",
    "            else:\n",
    "                scorecard[player]=runs\n",
    "    else:\n",
    "        for j in range(2+wickets):\n",
    "            player=str(input('Enter the player name: '))\n",
    "            runs=int(input('Enter the score: '))\n",
    "            if player in scorecard.keys():\n",
    "                scorecard[player]=scorecard[player]+runs\n",
    "            else:\n",
    "                scorecard[player]=runs\n",
    "    total_wickets += wickets\n",
    "    \n",
    "    for k in scorecard:\n",
    "        total=total+scorecard[k]\n",
    "        \n",
    "    print('Scorecard after',i,'over : ',scorecard)\n",
    "    print(f'Score after {i} over : {total}/{total_wickets}')\n",
    "    print('')\n",
    "    \n",
    "\n"
   ]
  },
  {
   "cell_type": "code",
   "execution_count": null,
   "id": "05a0f5e5",
   "metadata": {},
   "outputs": [],
   "source": [
    "#max(stats, key=stats.get)"
   ]
  },
  {
   "cell_type": "code",
   "execution_count": null,
   "id": "dc733685",
   "metadata": {},
   "outputs": [],
   "source": [
    "sv_store={'Srivatsan':2}"
   ]
  },
  {
   "cell_type": "code",
   "execution_count": null,
   "id": "91256b01",
   "metadata": {},
   "outputs": [],
   "source": [
    "sun_general={'Srivatsan':2}"
   ]
  },
  {
   "cell_type": "code",
   "execution_count": 7,
   "id": "4f795f41",
   "metadata": {},
   "outputs": [],
   "source": [
    "shop_dict={'Sun General':9, 'SV Store': 15, 'Big Bazar': 6}"
   ]
  },
  {
   "cell_type": "code",
   "execution_count": 8,
   "id": "0d038e56",
   "metadata": {},
   "outputs": [
    {
     "data": {
      "text/plain": [
       "{'Sun General': 9, 'SV Store': 15, 'Big Bazar': 6}"
      ]
     },
     "execution_count": 8,
     "metadata": {},
     "output_type": "execute_result"
    }
   ],
   "source": [
    "shop_dict"
   ]
  },
  {
   "cell_type": "code",
   "execution_count": 9,
   "id": "66b76907",
   "metadata": {},
   "outputs": [
    {
     "ename": "NameError",
     "evalue": "name 'area' is not defined",
     "output_type": "error",
     "traceback": [
      "\u001b[1;31m---------------------------------------------------------------------------\u001b[0m",
      "\u001b[1;31mNameError\u001b[0m                                 Traceback (most recent call last)",
      "\u001b[1;32m<ipython-input-9-91895cd25a80>\u001b[0m in \u001b[0;36m<module>\u001b[1;34m\u001b[0m\n\u001b[1;32m----> 1\u001b[1;33m \u001b[0marea\u001b[0m\u001b[1;33m(\u001b[0m\u001b[1;36m800\u001b[0m\u001b[1;33m,\u001b[0m \u001b[1;36m450\u001b[0m\u001b[1;33m)\u001b[0m\u001b[1;33m\u001b[0m\u001b[1;33m\u001b[0m\u001b[0m\n\u001b[0m",
      "\u001b[1;31mNameError\u001b[0m: name 'area' is not defined"
     ]
    }
   ],
   "source": [
    "area(800, 450)"
   ]
  },
  {
   "cell_type": "code",
   "execution_count": null,
   "id": "4484730d",
   "metadata": {},
   "outputs": [],
   "source": []
  }
 ],
 "metadata": {
  "kernelspec": {
   "display_name": "Python 3 (ipykernel)",
   "language": "python",
   "name": "python3"
  },
  "language_info": {
   "codemirror_mode": {
    "name": "ipython",
    "version": 3
   },
   "file_extension": ".py",
   "mimetype": "text/x-python",
   "name": "python",
   "nbconvert_exporter": "python",
   "pygments_lexer": "ipython3",
   "version": "3.10.9"
  }
 },
 "nbformat": 4,
 "nbformat_minor": 5
}
