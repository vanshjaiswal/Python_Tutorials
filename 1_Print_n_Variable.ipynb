{
 "cells": [
  {
   "cell_type": "code",
   "execution_count": null,
   "id": "183d0c23",
   "metadata": {},
   "outputs": [],
   "source": []
  },
  {
   "cell_type": "markdown",
   "id": "65788534",
   "metadata": {},
   "source": [
    "# Python"
   ]
  },
  {
   "cell_type": "markdown",
   "id": "3f501d4b",
   "metadata": {},
   "source": [
    "1: Print\n",
    "2: Variables\n",
    "3: Data type(int, float, string) and taking input\n",
    "4: Operators (Arithmatic, Relational, Logical )\n",
    "5: String methods\n",
    "6: Conditional Statements (if, elif, else)\n",
    "7: Loops (while, for)\n",
    "8: List (Array)\n",
    "9: Dictionary and tuples\n",
    "10: Functions or Methods in python\n",
    "11: Series and Dataframes\n",
    "12: Numpy and Pandas"
   ]
  },
  {
   "cell_type": "markdown",
   "id": "7d96ef14",
   "metadata": {},
   "source": [
    "print statement in python is used for printing any message on the display it can print the variable output as well. \"print\" is a python defined keyword. For printing message you have to write it in double quotes or single quotes. NOTE: Combination of the quotes are not allowed"
   ]
  },
  {
   "cell_type": "code",
   "execution_count": null,
   "id": "a44c0ce1",
   "metadata": {},
   "outputs": [],
   "source": [
    "print('Hello World') "
   ]
  },
  {
   "cell_type": "code",
   "execution_count": null,
   "id": "6b63a113",
   "metadata": {},
   "outputs": [],
   "source": [
    "print(\"Hello World\")"
   ]
  },
  {
   "cell_type": "code",
   "execution_count": null,
   "id": "062c1aa7",
   "metadata": {},
   "outputs": [],
   "source": [
    "print(\"Hello\")"
   ]
  },
  {
   "cell_type": "code",
   "execution_count": null,
   "id": "6e5f42bc",
   "metadata": {},
   "outputs": [],
   "source": [
    "print(\"Good Morning!\")"
   ]
  },
  {
   "cell_type": "code",
   "execution_count": null,
   "id": "47cffa68",
   "metadata": {},
   "outputs": [],
   "source": [
    "print('Python\")"
   ]
  },
  {
   "cell_type": "code",
   "execution_count": null,
   "id": "7269e686",
   "metadata": {},
   "outputs": [],
   "source": [
    "print(\"Python')"
   ]
  },
  {
   "cell_type": "code",
   "execution_count": null,
   "id": "d38e66aa",
   "metadata": {},
   "outputs": [],
   "source": [
    "print(\"\")"
   ]
  },
  {
   "cell_type": "code",
   "execution_count": null,
   "id": "4113e58d",
   "metadata": {},
   "outputs": [],
   "source": [
    "print(\" \")"
   ]
  },
  {
   "cell_type": "code",
   "execution_count": null,
   "id": "a416901a",
   "metadata": {},
   "outputs": [],
   "source": [
    "print('Hello Bob')"
   ]
  },
  {
   "cell_type": "code",
   "execution_count": null,
   "id": "46f7ec28",
   "metadata": {},
   "outputs": [],
   "source": [
    "print('Hello Tom\")"
   ]
  },
  {
   "cell_type": "code",
   "execution_count": null,
   "id": "ff730226",
   "metadata": {},
   "outputs": [],
   "source": [
    "print(\"Hello Jerry')"
   ]
  },
  {
   "cell_type": "code",
   "execution_count": null,
   "id": "464b97a8",
   "metadata": {},
   "outputs": [],
   "source": [
    "print(\"\")"
   ]
  },
  {
   "cell_type": "code",
   "execution_count": null,
   "id": "86e64fac",
   "metadata": {},
   "outputs": [],
   "source": [
    "print(\" \")"
   ]
  },
  {
   "cell_type": "code",
   "execution_count": null,
   "id": "d0acfa6d",
   "metadata": {},
   "outputs": [],
   "source": [
    "print(\"\")"
   ]
  },
  {
   "cell_type": "code",
   "execution_count": null,
   "id": "a54bedd9",
   "metadata": {},
   "outputs": [],
   "source": [
    "print(\"Hello\")"
   ]
  },
  {
   "cell_type": "code",
   "execution_count": null,
   "id": "5df70f49",
   "metadata": {},
   "outputs": [],
   "source": [
    "print(Hello)"
   ]
  },
  {
   "cell_type": "code",
   "execution_count": null,
   "id": "bfa2993c",
   "metadata": {},
   "outputs": [],
   "source": [
    "print(5.5)     "
   ]
  },
  {
   "cell_type": "code",
   "execution_count": null,
   "id": "de9bda12",
   "metadata": {},
   "outputs": [],
   "source": [
    "print('abcd')"
   ]
  },
  {
   "cell_type": "code",
   "execution_count": null,
   "id": "17e15b4b",
   "metadata": {},
   "outputs": [],
   "source": [
    "print('I have $5.')"
   ]
  },
  {
   "cell_type": "code",
   "execution_count": null,
   "id": "8cd923b6",
   "metadata": {},
   "outputs": [],
   "source": [
    "print('7 days of week')"
   ]
  },
  {
   "cell_type": "code",
   "execution_count": null,
   "id": "747d53bc",
   "metadata": {},
   "outputs": [],
   "source": [
    "print(\"There are 7 days in a week\")"
   ]
  },
  {
   "cell_type": "code",
   "execution_count": null,
   "id": "b81d040f",
   "metadata": {},
   "outputs": [],
   "source": [
    "print(\"How many days in a week?\", \"7\")"
   ]
  },
  {
   "cell_type": "code",
   "execution_count": null,
   "id": "e2e45669",
   "metadata": {},
   "outputs": [],
   "source": [
    "print(\"How many days in a week?\", 7)"
   ]
  },
  {
   "cell_type": "code",
   "execution_count": null,
   "id": "41803f01",
   "metadata": {},
   "outputs": [],
   "source": [
    "print('How many days in a week?', 7, \"days\")\n"
   ]
  },
  {
   "cell_type": "code",
   "execution_count": 54,
   "id": "41b07be3",
   "metadata": {},
   "outputs": [
    {
     "name": "stdout",
     "output_type": "stream",
     "text": [
      "How many days in a week? 7 days\n"
     ]
    }
   ],
   "source": [
    "print(\"How many days in a week? 7 days\")"
   ]
  },
  {
   "cell_type": "code",
   "execution_count": null,
   "id": "ee500b6c",
   "metadata": {},
   "outputs": [],
   "source": [
    "print('10+5')"
   ]
  },
  {
   "cell_type": "code",
   "execution_count": null,
   "id": "1bf1db3f",
   "metadata": {},
   "outputs": [],
   "source": [
    "print(5)\n",
    "print(7)"
   ]
  },
  {
   "cell_type": "code",
   "execution_count": null,
   "id": "a5c1d6f6",
   "metadata": {},
   "outputs": [],
   "source": []
  },
  {
   "cell_type": "code",
   "execution_count": null,
   "id": "f936535d",
   "metadata": {},
   "outputs": [],
   "source": [
    "print(10*5)"
   ]
  },
  {
   "cell_type": "code",
   "execution_count": null,
   "id": "b227b0ef",
   "metadata": {},
   "outputs": [],
   "source": [
    "print(\"10*5\") "
   ]
  },
  {
   "cell_type": "code",
   "execution_count": null,
   "id": "032a9684",
   "metadata": {},
   "outputs": [],
   "source": [
    "print(10/5)"
   ]
  },
  {
   "cell_type": "code",
   "execution_count": null,
   "id": "1a0f76c8",
   "metadata": {},
   "outputs": [],
   "source": [
    "print(10/3)"
   ]
  },
  {
   "cell_type": "code",
   "execution_count": 3,
   "id": "e254c56d",
   "metadata": {},
   "outputs": [
    {
     "name": "stdout",
     "output_type": "stream",
     "text": [
      "4.0\n"
     ]
    }
   ],
   "source": [
    "print(2+1-2+9/3)"
   ]
  },
  {
   "cell_type": "code",
   "execution_count": null,
   "id": "d9c69fdf",
   "metadata": {},
   "outputs": [],
   "source": []
  },
  {
   "cell_type": "code",
   "execution_count": null,
   "id": "14e8d41f",
   "metadata": {},
   "outputs": [],
   "source": []
  },
  {
   "cell_type": "markdown",
   "id": "0a6abc23",
   "metadata": {},
   "source": [
    "# Variable"
   ]
  },
  {
   "cell_type": "code",
   "execution_count": 4,
   "id": "32583f38",
   "metadata": {},
   "outputs": [],
   "source": [
    "x=15\n",
    "\n",
    "#python comment\n",
    "# x; name of the variable, 2; value\n",
    "# =; assignment operator"
   ]
  },
  {
   "cell_type": "code",
   "execution_count": 5,
   "id": "d22300fb",
   "metadata": {},
   "outputs": [
    {
     "data": {
      "text/plain": [
       "15"
      ]
     },
     "execution_count": 5,
     "metadata": {},
     "output_type": "execute_result"
    }
   ],
   "source": [
    "x"
   ]
  },
  {
   "cell_type": "code",
   "execution_count": 6,
   "id": "1fbba618",
   "metadata": {},
   "outputs": [
    {
     "name": "stdout",
     "output_type": "stream",
     "text": [
      "15\n"
     ]
    }
   ],
   "source": [
    "print(x)"
   ]
  },
  {
   "cell_type": "code",
   "execution_count": 7,
   "id": "8cd66423",
   "metadata": {},
   "outputs": [
    {
     "ename": "NameError",
     "evalue": "name 'a' is not defined",
     "output_type": "error",
     "traceback": [
      "\u001b[1;31m---------------------------------------------------------------------------\u001b[0m",
      "\u001b[1;31mNameError\u001b[0m                                 Traceback (most recent call last)",
      "Cell \u001b[1;32mIn[7], line 1\u001b[0m\n\u001b[1;32m----> 1\u001b[0m \u001b[38;5;28mprint\u001b[39m(\u001b[43ma\u001b[49m)\n",
      "\u001b[1;31mNameError\u001b[0m: name 'a' is not defined"
     ]
    }
   ],
   "source": [
    "print(a)"
   ]
  },
  {
   "cell_type": "code",
   "execution_count": 8,
   "id": "3afd20dc",
   "metadata": {},
   "outputs": [
    {
     "name": "stdout",
     "output_type": "stream",
     "text": [
      "20\n"
     ]
    }
   ],
   "source": [
    "a=20\n",
    "print(a)"
   ]
  },
  {
   "cell_type": "code",
   "execution_count": 9,
   "id": "081c3279",
   "metadata": {},
   "outputs": [
    {
     "name": "stdout",
     "output_type": "stream",
     "text": [
      "x\n",
      "15\n"
     ]
    }
   ],
   "source": [
    "print('x')\n",
    "print(x)"
   ]
  },
  {
   "cell_type": "code",
   "execution_count": 10,
   "id": "0ddca64a",
   "metadata": {},
   "outputs": [],
   "source": [
    "y=70"
   ]
  },
  {
   "cell_type": "code",
   "execution_count": null,
   "id": "ec8ba441",
   "metadata": {},
   "outputs": [],
   "source": [
    "print(y)"
   ]
  },
  {
   "cell_type": "code",
   "execution_count": null,
   "id": "f5c8fcca",
   "metadata": {},
   "outputs": [],
   "source": [
    "5+2\n",
    "\n"
   ]
  },
  {
   "cell_type": "code",
   "execution_count": null,
   "id": "4705252f",
   "metadata": {},
   "outputs": [],
   "source": [
    "x+y\n"
   ]
  },
  {
   "cell_type": "code",
   "execution_count": 4,
   "id": "9f9a872b",
   "metadata": {},
   "outputs": [
    {
     "data": {
      "text/plain": [
       "15"
      ]
     },
     "execution_count": 4,
     "metadata": {},
     "output_type": "execute_result"
    }
   ],
   "source": [
    "x=15\n",
    "x"
   ]
  },
  {
   "cell_type": "code",
   "execution_count": null,
   "id": "9d14719a",
   "metadata": {},
   "outputs": [],
   "source": [
    "y"
   ]
  },
  {
   "cell_type": "code",
   "execution_count": 5,
   "id": "dc771133",
   "metadata": {},
   "outputs": [],
   "source": [
    "x=10\n",
    "y=25"
   ]
  },
  {
   "cell_type": "code",
   "execution_count": 6,
   "id": "be734fd2",
   "metadata": {},
   "outputs": [
    {
     "data": {
      "text/plain": [
       "10"
      ]
     },
     "execution_count": 6,
     "metadata": {},
     "output_type": "execute_result"
    }
   ],
   "source": [
    "x"
   ]
  },
  {
   "cell_type": "code",
   "execution_count": 7,
   "id": "d9d79b53",
   "metadata": {},
   "outputs": [
    {
     "data": {
      "text/plain": [
       "25"
      ]
     },
     "execution_count": 7,
     "metadata": {},
     "output_type": "execute_result"
    }
   ],
   "source": [
    "y"
   ]
  },
  {
   "cell_type": "code",
   "execution_count": 9,
   "id": "40e32aaa",
   "metadata": {},
   "outputs": [],
   "source": []
  },
  {
   "cell_type": "code",
   "execution_count": 12,
   "id": "4481ada0",
   "metadata": {},
   "outputs": [],
   "source": [
    "x=100\n",
    "y=50"
   ]
  },
  {
   "cell_type": "code",
   "execution_count": 13,
   "id": "cb8d34ec",
   "metadata": {},
   "outputs": [
    {
     "data": {
      "text/plain": [
       "150"
      ]
     },
     "execution_count": 13,
     "metadata": {},
     "output_type": "execute_result"
    }
   ],
   "source": [
    "z=x+y\n",
    "z"
   ]
  },
  {
   "cell_type": "code",
   "execution_count": 14,
   "id": "5b5d9e99",
   "metadata": {},
   "outputs": [
    {
     "name": "stdout",
     "output_type": "stream",
     "text": [
      "The output of the x=10, y=25 and x+y is 150\n"
     ]
    }
   ],
   "source": [
    "print(\"The output of the x=10, y=25 and x+y is\", z)\n"
   ]
  },
  {
   "cell_type": "code",
   "execution_count": 15,
   "id": "7e75ddc1",
   "metadata": {},
   "outputs": [
    {
     "name": "stdout",
     "output_type": "stream",
     "text": [
      "the output of x = 100 and y =  50 and x+y is 150\n"
     ]
    }
   ],
   "source": [
    "print(\"the output of x =\", x, \"and y = \", y, \"and x+y is\", z)"
   ]
  },
  {
   "cell_type": "code",
   "execution_count": 16,
   "id": "bd14bdd9",
   "metadata": {},
   "outputs": [
    {
     "name": "stdout",
     "output_type": "stream",
     "text": [
      "The output of the x=x, y=y and x+y is z\n"
     ]
    }
   ],
   "source": [
    "print(\"The output of the x=x, y=y and x+y is z\")"
   ]
  },
  {
   "cell_type": "code",
   "execution_count": 17,
   "id": "0ef4c094",
   "metadata": {},
   "outputs": [
    {
     "name": "stdout",
     "output_type": "stream",
     "text": [
      "the output of x={x} and y={y} and x+y is {z}\n",
      "the output of x=100 and y=50 and x+y is 150\n"
     ]
    }
   ],
   "source": [
    "print(\"the output of x={x} and y={y} and x+y is {z}\")\n",
    "print(f\"the output of x={x} and y={y} and x+y is {z}\") # curly braces are for replacing the variables in a message"
   ]
  },
  {
   "cell_type": "code",
   "execution_count": null,
   "id": "7a56ce56",
   "metadata": {},
   "outputs": [],
   "source": []
  },
  {
   "cell_type": "code",
   "execution_count": 18,
   "id": "a3bd2ba3",
   "metadata": {},
   "outputs": [
    {
     "name": "stdout",
     "output_type": "stream",
     "text": [
      "the output of x=100 and y=50 and x+y is 150\n"
     ]
    }
   ],
   "source": [
    "print(f\"the output of x={x} and y={y} and x+y is {z}\")"
   ]
  },
  {
   "cell_type": "code",
   "execution_count": 42,
   "id": "2c0cfc08",
   "metadata": {},
   "outputs": [
    {
     "name": "stdout",
     "output_type": "stream",
     "text": [
      "The output of the x=100, y=50 and x+y is 150\n"
     ]
    }
   ],
   "source": [
    "print(\"The output of the x=100, y=50 and x+y is\", x+y)"
   ]
  },
  {
   "cell_type": "code",
   "execution_count": null,
   "id": "fb734a09",
   "metadata": {},
   "outputs": [],
   "source": [
    "# print(\"x=\",x,\"x+y=\",z)\n",
    "#x=5, y= 3 X+Y=8\n",
    "x=5\n",
    "y=3\n",
    "\n",
    "\n",
    "print('x=',x,'y=',y, 'x+y=',x+y)"
   ]
  },
  {
   "cell_type": "code",
   "execution_count": 19,
   "id": "4411276f",
   "metadata": {},
   "outputs": [],
   "source": [
    "a=1056\n",
    "b=55\n",
    "c=255\n",
    "d=119"
   ]
  },
  {
   "cell_type": "code",
   "execution_count": 20,
   "id": "ad37e690",
   "metadata": {},
   "outputs": [
    {
     "name": "stdout",
     "output_type": "stream",
     "text": [
      "the value of variable a is 1056, b is 55, c is 255, d is 119 and a+b= 1111, a-b=1001, c+d=374 and d-a=-937\n"
     ]
    }
   ],
   "source": [
    "print(f\"the value of variable a is {a}, b is {b}, c is {c}, d is {d} and a+b= {a+b}, a-b={a-b}, c+d={c+d} and d-a={d-a}\")"
   ]
  },
  {
   "cell_type": "code",
   "execution_count": 21,
   "id": "40375259",
   "metadata": {},
   "outputs": [
    {
     "data": {
      "text/plain": [
       "1056"
      ]
     },
     "execution_count": 21,
     "metadata": {},
     "output_type": "execute_result"
    }
   ],
   "source": [
    "a"
   ]
  },
  {
   "cell_type": "code",
   "execution_count": 22,
   "id": "30e92736",
   "metadata": {},
   "outputs": [
    {
     "ename": "NameError",
     "evalue": "name 'm' is not defined",
     "output_type": "error",
     "traceback": [
      "\u001b[1;31m---------------------------------------------------------------------------\u001b[0m",
      "\u001b[1;31mNameError\u001b[0m                                 Traceback (most recent call last)",
      "Cell \u001b[1;32mIn[22], line 1\u001b[0m\n\u001b[1;32m----> 1\u001b[0m \u001b[43mm\u001b[49m\n",
      "\u001b[1;31mNameError\u001b[0m: name 'm' is not defined"
     ]
    }
   ],
   "source": [
    "m"
   ]
  },
  {
   "cell_type": "code",
   "execution_count": 23,
   "id": "8f359ee1",
   "metadata": {},
   "outputs": [],
   "source": [
    "del a"
   ]
  },
  {
   "cell_type": "code",
   "execution_count": 24,
   "id": "4ee33604",
   "metadata": {},
   "outputs": [
    {
     "data": {
      "text/plain": [
       "100"
      ]
     },
     "execution_count": 24,
     "metadata": {},
     "output_type": "execute_result"
    }
   ],
   "source": [
    "x\n"
   ]
  },
  {
   "cell_type": "code",
   "execution_count": 25,
   "id": "56aade1d",
   "metadata": {},
   "outputs": [
    {
     "data": {
      "text/plain": [
       "100"
      ]
     },
     "execution_count": 25,
     "metadata": {},
     "output_type": "execute_result"
    }
   ],
   "source": [
    "m=x\n",
    "\n",
    "m"
   ]
  },
  {
   "cell_type": "code",
   "execution_count": 26,
   "id": "c3da423e",
   "metadata": {},
   "outputs": [
    {
     "data": {
      "text/plain": [
       "100"
      ]
     },
     "execution_count": 26,
     "metadata": {},
     "output_type": "execute_result"
    }
   ],
   "source": [
    "x"
   ]
  },
  {
   "cell_type": "code",
   "execution_count": null,
   "id": "832f65b9",
   "metadata": {},
   "outputs": [],
   "source": []
  },
  {
   "cell_type": "code",
   "execution_count": null,
   "id": "2e77915b",
   "metadata": {},
   "outputs": [],
   "source": [
    "z=x+y"
   ]
  },
  {
   "cell_type": "code",
   "execution_count": null,
   "id": "cc62b22a",
   "metadata": {},
   "outputs": [],
   "source": [
    "#z=x+y"
   ]
  },
  {
   "cell_type": "code",
   "execution_count": null,
   "id": "a95e5d85",
   "metadata": {},
   "outputs": [],
   "source": [
    "x=4\n",
    "y=5"
   ]
  },
  {
   "cell_type": "code",
   "execution_count": null,
   "id": "950b78fc",
   "metadata": {},
   "outputs": [],
   "source": [
    "print(10+5)"
   ]
  },
  {
   "cell_type": "code",
   "execution_count": null,
   "id": "3dbd35f3",
   "metadata": {},
   "outputs": [],
   "source": [
    "print(f\"the output of x={x} and y={y} and x+y is\", x+y)"
   ]
  },
  {
   "cell_type": "code",
   "execution_count": null,
   "id": "5a8ea66e",
   "metadata": {},
   "outputs": [],
   "source": []
  },
  {
   "cell_type": "code",
   "execution_count": null,
   "id": "ec406a88",
   "metadata": {},
   "outputs": [],
   "source": [
    "x=4\n",
    "y=5"
   ]
  },
  {
   "cell_type": "code",
   "execution_count": null,
   "id": "2e651d36",
   "metadata": {},
   "outputs": [],
   "source": [
    "#what ever the value of x+y multiply it with 4"
   ]
  },
  {
   "cell_type": "code",
   "execution_count": null,
   "id": "e1e5482a",
   "metadata": {},
   "outputs": [],
   "source": [
    "m=(x+y)*4"
   ]
  },
  {
   "cell_type": "code",
   "execution_count": null,
   "id": "937707fc",
   "metadata": {},
   "outputs": [],
   "source": [
    "m"
   ]
  },
  {
   "cell_type": "code",
   "execution_count": null,
   "id": "ea73fa3f",
   "metadata": {},
   "outputs": [],
   "source": [
    "z"
   ]
  },
  {
   "cell_type": "code",
   "execution_count": null,
   "id": "49f9e202",
   "metadata": {},
   "outputs": [],
   "source": [
    "n"
   ]
  },
  {
   "cell_type": "code",
   "execution_count": null,
   "id": "8bc7faf5",
   "metadata": {},
   "outputs": [],
   "source": [
    "z"
   ]
  },
  {
   "cell_type": "code",
   "execution_count": null,
   "id": "9d2f9ca6",
   "metadata": {},
   "outputs": [],
   "source": [
    "del(z)"
   ]
  },
  {
   "cell_type": "code",
   "execution_count": null,
   "id": "f6ad4dc9",
   "metadata": {},
   "outputs": [],
   "source": [
    "z"
   ]
  },
  {
   "cell_type": "code",
   "execution_count": null,
   "id": "71bd48c1",
   "metadata": {},
   "outputs": [],
   "source": [
    "z=25"
   ]
  },
  {
   "cell_type": "code",
   "execution_count": null,
   "id": "3d3cd085",
   "metadata": {},
   "outputs": [],
   "source": [
    "z"
   ]
  },
  {
   "cell_type": "code",
   "execution_count": null,
   "id": "f8bf4f8e",
   "metadata": {},
   "outputs": [],
   "source": [
    "z*5"
   ]
  },
  {
   "cell_type": "code",
   "execution_count": null,
   "id": "c56397bf",
   "metadata": {},
   "outputs": [],
   "source": [
    "(x+y)*5 #addition of x+y the multiplication of 5\n",
    "\n",
    "# x=3\n",
    "# y=4\n",
    "# z=6"
   ]
  },
  {
   "cell_type": "code",
   "execution_count": null,
   "id": "2c217396",
   "metadata": {},
   "outputs": [],
   "source": [
    "m=6 "
   ]
  },
  {
   "cell_type": "code",
   "execution_count": null,
   "id": "40db58a2",
   "metadata": {},
   "outputs": [],
   "source": [
    "m"
   ]
  },
  {
   "cell_type": "code",
   "execution_count": null,
   "id": "0703e65b",
   "metadata": {},
   "outputs": [],
   "source": [
    "n=4"
   ]
  },
  {
   "cell_type": "code",
   "execution_count": null,
   "id": "b4dbab8d",
   "metadata": {},
   "outputs": [],
   "source": [
    "n"
   ]
  },
  {
   "cell_type": "code",
   "execution_count": null,
   "id": "ef3b17c9",
   "metadata": {},
   "outputs": [],
   "source": []
  },
  {
   "cell_type": "code",
   "execution_count": null,
   "id": "acdae405",
   "metadata": {},
   "outputs": [],
   "source": [
    "print('z')"
   ]
  },
  {
   "cell_type": "code",
   "execution_count": null,
   "id": "e115b4b4",
   "metadata": {},
   "outputs": [],
   "source": [
    "A=2\n",
    "\n",
    "B=4"
   ]
  },
  {
   "cell_type": "code",
   "execution_count": null,
   "id": "8b7f0592",
   "metadata": {},
   "outputs": [],
   "source": []
  },
  {
   "cell_type": "code",
   "execution_count": null,
   "id": "4da750c6",
   "metadata": {},
   "outputs": [],
   "source": [
    "x="
   ]
  },
  {
   "cell_type": "code",
   "execution_count": null,
   "id": "24307625",
   "metadata": {},
   "outputs": [],
   "source": [
    "print(x*y)"
   ]
  },
  {
   "cell_type": "code",
   "execution_count": null,
   "id": "0cc57c6a",
   "metadata": {},
   "outputs": [],
   "source": [
    "x, y, a, b, c, d = 4, 5,7, 8, 2, 1"
   ]
  },
  {
   "cell_type": "code",
   "execution_count": null,
   "id": "016c2e91",
   "metadata": {},
   "outputs": [],
   "source": [
    "c"
   ]
  },
  {
   "cell_type": "code",
   "execution_count": null,
   "id": "ef4a7977",
   "metadata": {},
   "outputs": [],
   "source": [
    "y"
   ]
  },
  {
   "cell_type": "code",
   "execution_count": null,
   "id": "e2ab9b57",
   "metadata": {},
   "outputs": [],
   "source": [
    "h"
   ]
  },
  {
   "cell_type": "code",
   "execution_count": null,
   "id": "409e9711",
   "metadata": {},
   "outputs": [],
   "source": [
    "del(y)"
   ]
  },
  {
   "cell_type": "code",
   "execution_count": null,
   "id": "49dc20e0",
   "metadata": {},
   "outputs": [],
   "source": [
    "y"
   ]
  },
  {
   "cell_type": "code",
   "execution_count": null,
   "id": "29e9aba7",
   "metadata": {},
   "outputs": [],
   "source": [
    "x=4\n",
    "y=5\n",
    "z=6"
   ]
  },
  {
   "cell_type": "code",
   "execution_count": null,
   "id": "75e8cdae",
   "metadata": {},
   "outputs": [],
   "source": [
    "x\n"
   ]
  },
  {
   "cell_type": "code",
   "execution_count": null,
   "id": "6fffe7d6",
   "metadata": {},
   "outputs": [],
   "source": [
    "print(z)"
   ]
  },
  {
   "cell_type": "code",
   "execution_count": null,
   "id": "c24fa04c",
   "metadata": {},
   "outputs": [],
   "source": [
    "print(x)"
   ]
  },
  {
   "cell_type": "code",
   "execution_count": null,
   "id": "ebcdf5f3",
   "metadata": {},
   "outputs": [],
   "source": [
    "print(y)"
   ]
  },
  {
   "cell_type": "code",
   "execution_count": null,
   "id": "fd71ca3e",
   "metadata": {},
   "outputs": [],
   "source": [
    "d=x+y+z\n",
    "print(d)"
   ]
  },
  {
   "cell_type": "code",
   "execution_count": null,
   "id": "ec3614d2",
   "metadata": {},
   "outputs": [],
   "source": [
    "print(x+y+z)"
   ]
  },
  {
   "cell_type": "code",
   "execution_count": null,
   "id": "cd34f8b6",
   "metadata": {},
   "outputs": [],
   "source": [
    "print(x*y+z)"
   ]
  },
  {
   "cell_type": "code",
   "execution_count": null,
   "id": "95aa7b0c",
   "metadata": {},
   "outputs": [],
   "source": [
    "print(x*y/z)"
   ]
  },
  {
   "cell_type": "code",
   "execution_count": null,
   "id": "e1a742f9",
   "metadata": {},
   "outputs": [],
   "source": [
    "14/9"
   ]
  },
  {
   "cell_type": "code",
   "execution_count": null,
   "id": "14b10e4a",
   "metadata": {},
   "outputs": [],
   "source": [
    "4/2"
   ]
  },
  {
   "cell_type": "code",
   "execution_count": null,
   "id": "4e43b7ea",
   "metadata": {},
   "outputs": [],
   "source": [
    "x=5\n",
    "y=10"
   ]
  },
  {
   "cell_type": "code",
   "execution_count": null,
   "id": "a91b8999",
   "metadata": {},
   "outputs": [],
   "source": [
    "print(f\"The value of x= {x} and the value of y={y}\")"
   ]
  },
  {
   "cell_type": "code",
   "execution_count": null,
   "id": "83878548",
   "metadata": {},
   "outputs": [],
   "source": [
    "print('Inside the print:', x)\n",
    "print('Inside the print:', y)"
   ]
  },
  {
   "cell_type": "code",
   "execution_count": null,
   "id": "2ef769dc",
   "metadata": {},
   "outputs": [],
   "source": [
    "print(x)\n",
    "print(y)\n",
    "print(z)"
   ]
  },
  {
   "cell_type": "code",
   "execution_count": null,
   "id": "329a2872",
   "metadata": {},
   "outputs": [],
   "source": [
    "y"
   ]
  },
  {
   "cell_type": "code",
   "execution_count": null,
   "id": "3be3c1bc",
   "metadata": {},
   "outputs": [],
   "source": []
  }
 ],
 "metadata": {
  "kernelspec": {
   "display_name": "Python 3 (ipykernel)",
   "language": "python",
   "name": "python3"
  },
  "language_info": {
   "codemirror_mode": {
    "name": "ipython",
    "version": 3
   },
   "file_extension": ".py",
   "mimetype": "text/x-python",
   "name": "python",
   "nbconvert_exporter": "python",
   "pygments_lexer": "ipython3",
   "version": "3.10.9"
  }
 },
 "nbformat": 4,
 "nbformat_minor": 5
}
