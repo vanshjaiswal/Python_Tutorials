{
 "cells": [
  {
   "cell_type": "code",
   "execution_count": null,
   "id": "6ee7a144",
   "metadata": {},
   "outputs": [],
   "source": [
    "'''\n",
    "\n",
    "array; array is the collection of homogeneous elements.\n",
    "\n",
    "homogenous element: the element which possess the same characterstics.\n",
    "\n",
    "eg: all the elements must be integer  or all the elements must be in fraction or all the elements\n",
    "must be characters,\n",
    "\n",
    "what is not allowed in array: Combination of any two different types of elements. \n",
    "\n",
    "[1, 2, 3]: valid array\n",
    "[apple, banana]: valid array\n",
    "\n",
    "[1, apple, 3, banana]: Invalid array\n",
    "\n",
    "Size of array: Number of elements in the array. (Fixed)\n",
    "\n",
    "arr; size = 4 , \n",
    "\n",
    "arr[1, 2, 3, 5]\n",
    "\n",
    "''' "
   ]
  },
  {
   "cell_type": "code",
   "execution_count": null,
   "id": "db2db3bc",
   "metadata": {},
   "outputs": [],
   "source": [
    "bob=90\n",
    "alice=80\n",
    "\n",
    "john=53\n",
    "emma=96\n",
    "\n",
    "total = bob+alice+john+emma\n",
    "print(total)"
   ]
  },
  {
   "cell_type": "code",
   "execution_count": null,
   "id": "b205eb9c",
   "metadata": {},
   "outputs": [],
   "source": []
  },
  {
   "cell_type": "code",
   "execution_count": null,
   "id": "1555cc47",
   "metadata": {},
   "outputs": [],
   "source": []
  },
  {
   "cell_type": "code",
   "execution_count": null,
   "id": "ef5abcc6",
   "metadata": {},
   "outputs": [],
   "source": [
    "x"
   ]
  },
  {
   "cell_type": "code",
   "execution_count": null,
   "id": "1632de97",
   "metadata": {},
   "outputs": [],
   "source": [
    "product=['Football','Basketball','Tennis','Chess']\n",
    "sales=[852.2, 845.6, 352,5, 150.2]"
   ]
  },
  {
   "cell_type": "code",
   "execution_count": null,
   "id": "9c47c941",
   "metadata": {},
   "outputs": [],
   "source": [
    "sum(sales)"
   ]
  },
  {
   "cell_type": "code",
   "execution_count": null,
   "id": "efbee332",
   "metadata": {},
   "outputs": [],
   "source": [
    "import config"
   ]
  },
  {
   "cell_type": "code",
   "execution_count": null,
   "id": "06a6efaf",
   "metadata": {},
   "outputs": [],
   "source": [
    "# config.product_sales(product, sales)"
   ]
  },
  {
   "cell_type": "code",
   "execution_count": null,
   "id": "c626c960",
   "metadata": {},
   "outputs": [],
   "source": [
    "config.list_generator(5)"
   ]
  },
  {
   "cell_type": "code",
   "execution_count": null,
   "id": "0260731c",
   "metadata": {},
   "outputs": [],
   "source": [
    "from Utilities import functions as fn"
   ]
  },
  {
   "cell_type": "code",
   "execution_count": null,
   "id": "896cca9d",
   "metadata": {},
   "outputs": [],
   "source": [
    "functions.area_rectangle(10, 5)"
   ]
  },
  {
   "cell_type": "code",
   "execution_count": null,
   "id": "254c39d6",
   "metadata": {},
   "outputs": [],
   "source": [
    "fn.area_triangle(10, 8)"
   ]
  },
  {
   "cell_type": "code",
   "execution_count": null,
   "id": "5d41f96c",
   "metadata": {},
   "outputs": [],
   "source": [
    "from config import even_odd_checker, multiple_five_checker"
   ]
  },
  {
   "cell_type": "code",
   "execution_count": null,
   "id": "915531bf",
   "metadata": {},
   "outputs": [],
   "source": [
    "even_odd_checker(15)"
   ]
  },
  {
   "cell_type": "code",
   "execution_count": null,
   "id": "5fd64193",
   "metadata": {},
   "outputs": [],
   "source": [
    "multiple_five_checker(24)"
   ]
  },
  {
   "cell_type": "code",
   "execution_count": null,
   "id": "3ee09ae0",
   "metadata": {},
   "outputs": [],
   "source": []
  },
  {
   "cell_type": "code",
   "execution_count": null,
   "id": "db873ef7",
   "metadata": {},
   "outputs": [],
   "source": [
    "product_sales(product, sales)"
   ]
  },
  {
   "cell_type": "code",
   "execution_count": null,
   "id": "37e65022",
   "metadata": {},
   "outputs": [],
   "source": []
  },
  {
   "cell_type": "code",
   "execution_count": null,
   "id": "c3c7a720",
   "metadata": {},
   "outputs": [],
   "source": [
    "experiment_results = [12, 47, 8, 9, 1, 7]\n",
    "m=12\n",
    "for i in experiment_results:\n",
    "    if i>m:\n",
    "        m=i\n",
    "#         i=m\n",
    "        \n",
    "    \n",
    "print(m)\n",
    "# why it is not working\n"
   ]
  },
  {
   "cell_type": "code",
   "execution_count": null,
   "id": "153b0add",
   "metadata": {},
   "outputs": [],
   "source": [
    "n=int(input('num'))\n",
    "for i in range(2, n): # if I put n, or int(n/2) it will work\n",
    "    if n%i==0:\n",
    "        print('not Prime')\n",
    "        break\n",
    "else:\n",
    "    print('prime')\n",
    "# why it is not working?\n"
   ]
  },
  {
   "cell_type": "code",
   "execution_count": null,
   "id": "bfbdf591",
   "metadata": {},
   "outputs": [],
   "source": [
    "5%5"
   ]
  },
  {
   "cell_type": "code",
   "execution_count": null,
   "id": "453d70aa",
   "metadata": {},
   "outputs": [],
   "source": []
  },
  {
   "cell_type": "code",
   "execution_count": null,
   "id": "a55cac41",
   "metadata": {},
   "outputs": [],
   "source": [
    "ls=[1,2,3,4]"
   ]
  },
  {
   "cell_type": "code",
   "execution_count": null,
   "id": "8585a21d",
   "metadata": {},
   "outputs": [],
   "source": [
    "ls.append(5)"
   ]
  },
  {
   "cell_type": "code",
   "execution_count": null,
   "id": "ad8f4b0e",
   "metadata": {},
   "outputs": [],
   "source": [
    "ls"
   ]
  },
  {
   "cell_type": "code",
   "execution_count": null,
   "id": "35484c00",
   "metadata": {},
   "outputs": [],
   "source": [
    "ls.remove(5)"
   ]
  },
  {
   "cell_type": "code",
   "execution_count": null,
   "id": "d92bb58a",
   "metadata": {},
   "outputs": [],
   "source": [
    "ls"
   ]
  },
  {
   "cell_type": "code",
   "execution_count": null,
   "id": "367e62db",
   "metadata": {},
   "outputs": [],
   "source": [
    "ariel=51   #phy: 45, chem 65 \n",
    "jacob=29\n",
    "Bob=49\n",
    "david=62"
   ]
  },
  {
   "cell_type": "code",
   "execution_count": null,
   "id": "e2179c4c",
   "metadata": {},
   "outputs": [],
   "source": [
    "ariel=ariel+5\n",
    "jacob=jacob+5\n",
    "Bob=Bob+5\n",
    "david=david+5"
   ]
  },
  {
   "cell_type": "code",
   "execution_count": null,
   "id": "5f90e421",
   "metadata": {},
   "outputs": [],
   "source": [
    "david"
   ]
  },
  {
   "cell_type": "code",
   "execution_count": null,
   "id": "eb4bc832",
   "metadata": {},
   "outputs": [],
   "source": [
    "ariel_maths=51\n",
    "ariel_phy=45\n",
    "ariel_chem=65"
   ]
  },
  {
   "cell_type": "code",
   "execution_count": null,
   "id": "8cba94c1",
   "metadata": {},
   "outputs": [],
   "source": [
    "A_Maths=75\n",
    "A_Phy=86\n",
    "A_Chem=95"
   ]
  },
  {
   "cell_type": "code",
   "execution_count": null,
   "id": "83ba575f",
   "metadata": {},
   "outputs": [],
   "source": [
    "A_total=A_Maths+A_Phy+A_Chem"
   ]
  },
  {
   "cell_type": "code",
   "execution_count": null,
   "id": "6b7a6eef",
   "metadata": {},
   "outputs": [],
   "source": [
    "A_total"
   ]
  },
  {
   "cell_type": "code",
   "execution_count": null,
   "id": "82eb193b",
   "metadata": {},
   "outputs": [],
   "source": [
    "B_Maths=76\n",
    "C_Maths=84\n",
    "D_Maths=59\n",
    "E_Maths=79\n",
    "F_Maths=74"
   ]
  },
  {
   "cell_type": "code",
   "execution_count": null,
   "id": "c6d7625e",
   "metadata": {},
   "outputs": [],
   "source": [
    "A_Maths=A_Maths+3"
   ]
  },
  {
   "cell_type": "code",
   "execution_count": null,
   "id": "b3560bc8",
   "metadata": {},
   "outputs": [],
   "source": [
    "A_Maths"
   ]
  },
  {
   "cell_type": "code",
   "execution_count": null,
   "id": "9a019184",
   "metadata": {},
   "outputs": [],
   "source": [
    "'''\n",
    "List is a dynamic array (dynamically sized array) and it contains hetrogenous elements.\n",
    "\n",
    "List_Name=[1,2,3,8,9]\n",
    "\n",
    "List is the collection of elements.\n",
    "\n",
    "List is the Data type in python  just like: int, string, float.\n",
    "\n",
    "One thumb rule: Always make your list homogenous.\n",
    "\n",
    "'''"
   ]
  },
  {
   "cell_type": "code",
   "execution_count": 3,
   "id": "83e9e2b6",
   "metadata": {},
   "outputs": [],
   "source": [
    "ls=[9 , 8, 7,6 ,5,4,]\n"
   ]
  },
  {
   "cell_type": "code",
   "execution_count": 4,
   "id": "d6e57061",
   "metadata": {},
   "outputs": [
    {
     "data": {
      "text/plain": [
       "[9, 8, 7, 6, 5, 4]"
      ]
     },
     "execution_count": 4,
     "metadata": {},
     "output_type": "execute_result"
    }
   ],
   "source": [
    "ls"
   ]
  },
  {
   "cell_type": "code",
   "execution_count": 5,
   "id": "e234875c",
   "metadata": {},
   "outputs": [
    {
     "data": {
      "text/plain": [
       "list"
      ]
     },
     "execution_count": 5,
     "metadata": {},
     "output_type": "execute_result"
    }
   ],
   "source": [
    "type(ls)"
   ]
  },
  {
   "cell_type": "code",
   "execution_count": 6,
   "id": "7974dad1",
   "metadata": {},
   "outputs": [],
   "source": [
    "maths_list = [75,76,84,59,79,74]"
   ]
  },
  {
   "cell_type": "code",
   "execution_count": 7,
   "id": "e915d581",
   "metadata": {},
   "outputs": [
    {
     "data": {
      "text/plain": [
       "[75, 76, 84, 59, 79, 74]"
      ]
     },
     "execution_count": 7,
     "metadata": {},
     "output_type": "execute_result"
    }
   ],
   "source": [
    "maths_list"
   ]
  },
  {
   "cell_type": "code",
   "execution_count": 8,
   "id": "5d2b6271",
   "metadata": {},
   "outputs": [
    {
     "data": {
      "text/plain": [
       "list"
      ]
     },
     "execution_count": 8,
     "metadata": {},
     "output_type": "execute_result"
    }
   ],
   "source": [
    "type(maths_list)"
   ]
  },
  {
   "cell_type": "code",
   "execution_count": 9,
   "id": "f59ec4b4",
   "metadata": {},
   "outputs": [],
   "source": [
    "fruit_list=['apple', 'orange', 'mango', 'banana']"
   ]
  },
  {
   "cell_type": "code",
   "execution_count": 10,
   "id": "a7767a46",
   "metadata": {},
   "outputs": [
    {
     "data": {
      "text/plain": [
       "['apple', 'orange', 'mango', 'banana']"
      ]
     },
     "execution_count": 10,
     "metadata": {},
     "output_type": "execute_result"
    }
   ],
   "source": [
    "fruit_list"
   ]
  },
  {
   "cell_type": "code",
   "execution_count": 11,
   "id": "53178e62",
   "metadata": {},
   "outputs": [
    {
     "data": {
      "text/plain": [
       "list"
      ]
     },
     "execution_count": 11,
     "metadata": {},
     "output_type": "execute_result"
    }
   ],
   "source": [
    "type(fruit_list)"
   ]
  },
  {
   "cell_type": "code",
   "execution_count": 18,
   "id": "2c60e438",
   "metadata": {},
   "outputs": [],
   "source": [
    "x_list=[1, 'apple', 2, 4.5, True]"
   ]
  },
  {
   "cell_type": "code",
   "execution_count": 19,
   "id": "d55d3676",
   "metadata": {},
   "outputs": [
    {
     "data": {
      "text/plain": [
       "[1, 'apple', 2, 4.5, True]"
      ]
     },
     "execution_count": 19,
     "metadata": {},
     "output_type": "execute_result"
    }
   ],
   "source": [
    "x_list"
   ]
  },
  {
   "cell_type": "code",
   "execution_count": 14,
   "id": "b04c7cb4",
   "metadata": {},
   "outputs": [
    {
     "data": {
      "text/plain": [
       "list"
      ]
     },
     "execution_count": 14,
     "metadata": {},
     "output_type": "execute_result"
    }
   ],
   "source": [
    "type(x_list)"
   ]
  },
  {
   "cell_type": "code",
   "execution_count": null,
   "id": "ac94522f",
   "metadata": {},
   "outputs": [],
   "source": [
    "x_list[1]"
   ]
  },
  {
   "cell_type": "code",
   "execution_count": null,
   "id": "a67d673a",
   "metadata": {},
   "outputs": [],
   "source": [
    "x_list=[1,'apple',2,7,7.5]"
   ]
  },
  {
   "cell_type": "code",
   "execution_count": 21,
   "id": "6527171f",
   "metadata": {},
   "outputs": [
    {
     "data": {
      "text/plain": [
       "5"
      ]
     },
     "execution_count": 21,
     "metadata": {},
     "output_type": "execute_result"
    }
   ],
   "source": [
    "len(x_list)\n"
   ]
  },
  {
   "cell_type": "markdown",
   "id": "c6462613",
   "metadata": {},
   "source": [
    "# Creation of  List"
   ]
  },
  {
   "cell_type": "code",
   "execution_count": 20,
   "id": "4209ac86",
   "metadata": {},
   "outputs": [
    {
     "name": "stdout",
     "output_type": "stream",
     "text": [
      "[]\n"
     ]
    }
   ],
   "source": [
    "#Empty list: A list which has no elements in it.\n",
    "\n",
    "empty_list=[]\n",
    "print(empty_list)"
   ]
  },
  {
   "cell_type": "code",
   "execution_count": 22,
   "id": "d1ad9861",
   "metadata": {},
   "outputs": [
    {
     "data": {
      "text/plain": [
       "0"
      ]
     },
     "execution_count": 22,
     "metadata": {},
     "output_type": "execute_result"
    }
   ],
   "source": [
    "len(empty_list)"
   ]
  },
  {
   "cell_type": "code",
   "execution_count": 23,
   "id": "f9c38cc9",
   "metadata": {},
   "outputs": [
    {
     "data": {
      "text/plain": [
       "[1, 2, 3]"
      ]
     },
     "execution_count": 23,
     "metadata": {},
     "output_type": "execute_result"
    }
   ],
   "source": [
    "#creating a list with numbers\n",
    "\n",
    "num_list=[1,2,3]\n",
    "num_list"
   ]
  },
  {
   "cell_type": "code",
   "execution_count": 24,
   "id": "e93a63ef",
   "metadata": {},
   "outputs": [
    {
     "data": {
      "text/plain": [
       "[1, 'apple', 2, 'mango', 1.5, 8]"
      ]
     },
     "execution_count": 24,
     "metadata": {},
     "output_type": "execute_result"
    }
   ],
   "source": [
    "mix_list=[1, \"apple\", 2, \"mango\", 1.5,8]\n",
    "mix_list"
   ]
  },
  {
   "cell_type": "code",
   "execution_count": 25,
   "id": "06bdef9c",
   "metadata": {},
   "outputs": [
    {
     "data": {
      "text/plain": [
       "list"
      ]
     },
     "execution_count": 25,
     "metadata": {},
     "output_type": "execute_result"
    }
   ],
   "source": [
    "type(mix_list)"
   ]
  },
  {
   "cell_type": "code",
   "execution_count": 26,
   "id": "ddcc912c",
   "metadata": {},
   "outputs": [
    {
     "data": {
      "text/plain": [
       "6"
      ]
     },
     "execution_count": 26,
     "metadata": {},
     "output_type": "execute_result"
    }
   ],
   "source": [
    "len(mix_list)"
   ]
  },
  {
   "cell_type": "code",
   "execution_count": 27,
   "id": "679136fe",
   "metadata": {},
   "outputs": [],
   "source": [
    "#creating a string list\n",
    "\n",
    "string_list=['apple', 'orange', 'mango', 'banana']"
   ]
  },
  {
   "cell_type": "code",
   "execution_count": 28,
   "id": "150dbfb1",
   "metadata": {},
   "outputs": [
    {
     "data": {
      "text/plain": [
       "0"
      ]
     },
     "execution_count": 28,
     "metadata": {},
     "output_type": "execute_result"
    }
   ],
   "source": [
    "len(empty_list)"
   ]
  },
  {
   "cell_type": "code",
   "execution_count": 29,
   "id": "5c4cc837",
   "metadata": {},
   "outputs": [
    {
     "data": {
      "text/plain": [
       "3"
      ]
     },
     "execution_count": 29,
     "metadata": {},
     "output_type": "execute_result"
    }
   ],
   "source": [
    "len(num_list)"
   ]
  },
  {
   "cell_type": "code",
   "execution_count": 30,
   "id": "a824ca0a",
   "metadata": {},
   "outputs": [
    {
     "data": {
      "text/plain": [
       "4"
      ]
     },
     "execution_count": 30,
     "metadata": {},
     "output_type": "execute_result"
    }
   ],
   "source": [
    "len(string_list)"
   ]
  },
  {
   "cell_type": "code",
   "execution_count": null,
   "id": "72514c4d",
   "metadata": {},
   "outputs": [],
   "source": [
    "# can we create a list with duplicate elements ???"
   ]
  },
  {
   "cell_type": "code",
   "execution_count": 31,
   "id": "9efc476e",
   "metadata": {},
   "outputs": [],
   "source": [
    "dup_num_list=[1,\n",
    "              2,\n",
    "              3,\n",
    "              2,\n",
    "              3,\n",
    "              1,\n",
    "              3,\n",
    "              4,5,6,3,4,9,6,2,3]"
   ]
  },
  {
   "cell_type": "code",
   "execution_count": 32,
   "id": "dad9c1dd",
   "metadata": {},
   "outputs": [
    {
     "data": {
      "text/plain": [
       "[1, 2, 3, 2, 3, 1, 3, 4, 5, 6, 3, 4, 9, 6, 2, 3]"
      ]
     },
     "execution_count": 32,
     "metadata": {},
     "output_type": "execute_result"
    }
   ],
   "source": [
    "dup_num_list"
   ]
  },
  {
   "cell_type": "code",
   "execution_count": 33,
   "id": "fec5fba9",
   "metadata": {},
   "outputs": [],
   "source": [
    "dup_str_list=['apple',\n",
    "              'orange',\n",
    "              'mango',\n",
    "              'banana',\n",
    "              'apple',\n",
    "              'apple',\n",
    "              ]"
   ]
  },
  {
   "cell_type": "code",
   "execution_count": 34,
   "id": "a0ed8c4a",
   "metadata": {},
   "outputs": [
    {
     "data": {
      "text/plain": [
       "['apple', 'orange', 'mango', 'banana', 'apple', 'apple']"
      ]
     },
     "execution_count": 34,
     "metadata": {},
     "output_type": "execute_result"
    }
   ],
   "source": [
    "dup_str_list"
   ]
  },
  {
   "cell_type": "code",
   "execution_count": null,
   "id": "036706df",
   "metadata": {},
   "outputs": [],
   "source": [
    "'''\n",
    "\n",
    "List of List: when we have a list as an element inside a list\n",
    "\n",
    "'''"
   ]
  },
  {
   "cell_type": "code",
   "execution_count": 45,
   "id": "1eecd84b",
   "metadata": {},
   "outputs": [],
   "source": [
    "sub_list=[\n",
    "          [65,65,84,14,95],\n",
    "          [84,94,75,46,31],\n",
    "          [92,84,51,62,75]\n",
    "         ]"
   ]
  },
  {
   "cell_type": "code",
   "execution_count": null,
   "id": "3695e96f",
   "metadata": {},
   "outputs": [],
   "source": [
    "subject_list=[[89,98,85,72], [84,85,89,95], [79,75,91,73]]"
   ]
  },
  {
   "cell_type": "code",
   "execution_count": null,
   "id": "604177fc",
   "metadata": {},
   "outputs": [],
   "source": [
    "subject_list"
   ]
  },
  {
   "cell_type": "markdown",
   "id": "0ee19022",
   "metadata": {},
   "source": [
    "# Accessing the elements from the  list"
   ]
  },
  {
   "cell_type": "code",
   "execution_count": 35,
   "id": "99e7d9cf",
   "metadata": {},
   "outputs": [
    {
     "data": {
      "text/plain": [
       "[75, 76, 84, 59, 79, 74]"
      ]
     },
     "execution_count": 35,
     "metadata": {},
     "output_type": "execute_result"
    }
   ],
   "source": [
    "maths_list"
   ]
  },
  {
   "cell_type": "code",
   "execution_count": null,
   "id": "83c2c429",
   "metadata": {},
   "outputs": [],
   "source": [
    "#list[index]"
   ]
  },
  {
   "cell_type": "code",
   "execution_count": 42,
   "id": "8899dc37",
   "metadata": {},
   "outputs": [
    {
     "data": {
      "text/plain": [
       "74"
      ]
     },
     "execution_count": 42,
     "metadata": {},
     "output_type": "execute_result"
    }
   ],
   "source": [
    "maths_list[-1]"
   ]
  },
  {
   "cell_type": "code",
   "execution_count": 39,
   "id": "c9caa09c",
   "metadata": {},
   "outputs": [
    {
     "data": {
      "text/plain": [
       "['apple', 'orange', 'mango', 'banana']"
      ]
     },
     "execution_count": 39,
     "metadata": {},
     "output_type": "execute_result"
    }
   ],
   "source": [
    "fruit_list"
   ]
  },
  {
   "cell_type": "code",
   "execution_count": 41,
   "id": "c6702be1",
   "metadata": {},
   "outputs": [
    {
     "data": {
      "text/plain": [
       "'banana'"
      ]
     },
     "execution_count": 41,
     "metadata": {},
     "output_type": "execute_result"
    }
   ],
   "source": [
    "fruit_list[3]"
   ]
  },
  {
   "cell_type": "code",
   "execution_count": 43,
   "id": "9df242d5",
   "metadata": {},
   "outputs": [
    {
     "data": {
      "text/plain": [
       "[1, 2, 3, 2, 3, 1, 3, 4, 5, 6, 3, 4, 9, 6, 2, 3]"
      ]
     },
     "execution_count": 43,
     "metadata": {},
     "output_type": "execute_result"
    }
   ],
   "source": [
    "dup_num_list"
   ]
  },
  {
   "cell_type": "code",
   "execution_count": 44,
   "id": "6e44d04d",
   "metadata": {},
   "outputs": [
    {
     "data": {
      "text/plain": [
       "9"
      ]
     },
     "execution_count": 44,
     "metadata": {},
     "output_type": "execute_result"
    }
   ],
   "source": [
    "dup_num_list[-4]"
   ]
  },
  {
   "cell_type": "code",
   "execution_count": 47,
   "id": "86f98cbc",
   "metadata": {},
   "outputs": [
    {
     "data": {
      "text/plain": [
       "[[65, 65, 84, 14, 95], [84, 94, 75, 46, 31], [92, 84, 51, 62, 75]]"
      ]
     },
     "execution_count": 47,
     "metadata": {},
     "output_type": "execute_result"
    }
   ],
   "source": [
    "sub_list=[\n",
    "          [65,65,84,14,95],\n",
    "          [84,94,75,46,31],\n",
    "          [92,84,51,62,75]\n",
    "         ]\n",
    "sub_list"
   ]
  },
  {
   "cell_type": "code",
   "execution_count": 56,
   "id": "d3638bcf",
   "metadata": {},
   "outputs": [
    {
     "data": {
      "text/plain": [
       "84"
      ]
     },
     "execution_count": 56,
     "metadata": {},
     "output_type": "execute_result"
    }
   ],
   "source": [
    "sub_list[0][2]"
   ]
  },
  {
   "cell_type": "code",
   "execution_count": 58,
   "id": "3de242c7",
   "metadata": {},
   "outputs": [
    {
     "data": {
      "text/plain": [
       "51"
      ]
     },
     "execution_count": 58,
     "metadata": {},
     "output_type": "execute_result"
    }
   ],
   "source": [
    "sub_list[2][2]"
   ]
  },
  {
   "cell_type": "code",
   "execution_count": 52,
   "id": "b6bc547f",
   "metadata": {},
   "outputs": [
    {
     "data": {
      "text/plain": [
       "[65, 65, 84, 14, 95]"
      ]
     },
     "execution_count": 52,
     "metadata": {},
     "output_type": "execute_result"
    }
   ],
   "source": [
    "c_list=sub_list[0]\n",
    "c_list"
   ]
  },
  {
   "cell_type": "code",
   "execution_count": 53,
   "id": "26fa3654",
   "metadata": {},
   "outputs": [
    {
     "data": {
      "text/plain": [
       "14"
      ]
     },
     "execution_count": 53,
     "metadata": {},
     "output_type": "execute_result"
    }
   ],
   "source": [
    "c_list[3]"
   ]
  },
  {
   "cell_type": "code",
   "execution_count": null,
   "id": "4e82294a",
   "metadata": {},
   "outputs": [],
   "source": []
  },
  {
   "cell_type": "code",
   "execution_count": 60,
   "id": "c5f3e3bd",
   "metadata": {},
   "outputs": [],
   "source": [
    "l=[\n",
    "    [65, [65, 84], 14, 95], \n",
    "    [84, 94, [75, 46, 31]], \n",
    "    [[92, [84, 51], 62], 75]\n",
    "]"
   ]
  },
  {
   "cell_type": "code",
   "execution_count": 71,
   "id": "99ac0293",
   "metadata": {},
   "outputs": [
    {
     "data": {
      "text/plain": [
       "51"
      ]
     },
     "execution_count": 71,
     "metadata": {},
     "output_type": "execute_result"
    }
   ],
   "source": [
    "l[2][0][1][1]"
   ]
  },
  {
   "cell_type": "code",
   "execution_count": null,
   "id": "f57de5bb",
   "metadata": {},
   "outputs": [],
   "source": []
  },
  {
   "cell_type": "code",
   "execution_count": null,
   "id": "b4730089",
   "metadata": {},
   "outputs": [],
   "source": []
  },
  {
   "cell_type": "code",
   "execution_count": null,
   "id": "0b2fb40d",
   "metadata": {},
   "outputs": [],
   "source": [
    "l[-1][-2][-2][-1]"
   ]
  },
  {
   "cell_type": "code",
   "execution_count": null,
   "id": "c5d93f29",
   "metadata": {},
   "outputs": [],
   "source": [
    "sub_list[0]"
   ]
  },
  {
   "cell_type": "code",
   "execution_count": null,
   "id": "e3030fe2",
   "metadata": {},
   "outputs": [],
   "source": [
    "x=sub_list[0]\n",
    "x"
   ]
  },
  {
   "cell_type": "code",
   "execution_count": null,
   "id": "896548ce",
   "metadata": {},
   "outputs": [],
   "source": [
    "x[3]"
   ]
  },
  {
   "cell_type": "code",
   "execution_count": null,
   "id": "a1a52a92",
   "metadata": {},
   "outputs": [],
   "source": [
    "#list[index]\n",
    "sub_list[0][3]\n",
    "\n",
    "#list[3]"
   ]
  },
  {
   "cell_type": "code",
   "execution_count": null,
   "id": "3ed90da4",
   "metadata": {},
   "outputs": [],
   "source": [
    "sub_list[1][2]"
   ]
  },
  {
   "cell_type": "code",
   "execution_count": null,
   "id": "d3d87a54",
   "metadata": {},
   "outputs": [],
   "source": [
    "sub_list[1]"
   ]
  },
  {
   "cell_type": "code",
   "execution_count": null,
   "id": "13be9208",
   "metadata": {},
   "outputs": [],
   "source": [
    "sub_list[2][2]\n",
    "#list[2]"
   ]
  },
  {
   "cell_type": "code",
   "execution_count": null,
   "id": "8b8ac16e",
   "metadata": {},
   "outputs": [],
   "source": []
  },
  {
   "cell_type": "code",
   "execution_count": null,
   "id": "5c854f0a",
   "metadata": {},
   "outputs": [],
   "source": [
    "x=sub_list[0]"
   ]
  },
  {
   "cell_type": "code",
   "execution_count": null,
   "id": "231d045f",
   "metadata": {},
   "outputs": [],
   "source": [
    "x"
   ]
  },
  {
   "cell_type": "code",
   "execution_count": null,
   "id": "afb4831e",
   "metadata": {},
   "outputs": [],
   "source": [
    "x[3]"
   ]
  },
  {
   "cell_type": "code",
   "execution_count": null,
   "id": "f096cd6e",
   "metadata": {},
   "outputs": [],
   "source": [
    "sub_list[0][3]"
   ]
  },
  {
   "cell_type": "code",
   "execution_count": null,
   "id": "1eb75cee",
   "metadata": {},
   "outputs": [],
   "source": [
    "l0[2]"
   ]
  },
  {
   "cell_type": "code",
   "execution_count": null,
   "id": "14f5f29d",
   "metadata": {},
   "outputs": [],
   "source": [
    "sub_list[-3][-1]         #list[index]"
   ]
  },
  {
   "cell_type": "code",
   "execution_count": null,
   "id": "fea677bb",
   "metadata": {},
   "outputs": [],
   "source": [
    "sub_list[0][2]\n"
   ]
  },
  {
   "cell_type": "code",
   "execution_count": null,
   "id": "805d96c8",
   "metadata": {},
   "outputs": [],
   "source": [
    "len(sub_list)"
   ]
  },
  {
   "cell_type": "code",
   "execution_count": null,
   "id": "b0c888b1",
   "metadata": {},
   "outputs": [],
   "source": [
    "maths_list"
   ]
  },
  {
   "cell_type": "markdown",
   "id": "671bd6f1",
   "metadata": {},
   "source": [
    "# Adding the elements in the list\n"
   ]
  },
  {
   "cell_type": "code",
   "execution_count": null,
   "id": "811bf197",
   "metadata": {},
   "outputs": [],
   "source": [
    "'''\n",
    "1: list.append('element')\n",
    "\n",
    "append always add the value at the end of the list.\n",
    "It is used for adding only one value at a time.\n",
    "\n",
    "\n",
    "'''"
   ]
  },
  {
   "cell_type": "code",
   "execution_count": 12,
   "id": "0ac533c4",
   "metadata": {},
   "outputs": [],
   "source": [
    "maths_list=[75, 76, 84, 59, 79, 74]"
   ]
  },
  {
   "cell_type": "code",
   "execution_count": 73,
   "id": "ed6d8c8a",
   "metadata": {},
   "outputs": [
    {
     "data": {
      "text/plain": [
       "[75, 76, 84, 59, 79, 74]"
      ]
     },
     "execution_count": 73,
     "metadata": {},
     "output_type": "execute_result"
    }
   ],
   "source": [
    "maths_list"
   ]
  },
  {
   "cell_type": "code",
   "execution_count": 74,
   "id": "36e3fa38",
   "metadata": {},
   "outputs": [],
   "source": [
    "maths_list.append(86)"
   ]
  },
  {
   "cell_type": "code",
   "execution_count": 75,
   "id": "2895cbcd",
   "metadata": {},
   "outputs": [
    {
     "data": {
      "text/plain": [
       "[75, 76, 84, 59, 79, 74, 86]"
      ]
     },
     "execution_count": 75,
     "metadata": {},
     "output_type": "execute_result"
    }
   ],
   "source": [
    "maths_list"
   ]
  },
  {
   "cell_type": "code",
   "execution_count": 76,
   "id": "eef1f27e",
   "metadata": {},
   "outputs": [],
   "source": [
    "maths_list.append(82)"
   ]
  },
  {
   "cell_type": "code",
   "execution_count": 77,
   "id": "60a35229",
   "metadata": {},
   "outputs": [
    {
     "data": {
      "text/plain": [
       "[75, 76, 84, 59, 79, 74, 86, 82]"
      ]
     },
     "execution_count": 77,
     "metadata": {},
     "output_type": "execute_result"
    }
   ],
   "source": [
    "maths_list"
   ]
  },
  {
   "cell_type": "code",
   "execution_count": null,
   "id": "667cbc7e",
   "metadata": {},
   "outputs": [],
   "source": [
    "maths_list.append(83)"
   ]
  },
  {
   "cell_type": "code",
   "execution_count": null,
   "id": "0dade208",
   "metadata": {},
   "outputs": [],
   "source": [
    "maths_list"
   ]
  },
  {
   "cell_type": "code",
   "execution_count": null,
   "id": "18f3aa78",
   "metadata": {},
   "outputs": [],
   "source": [
    "maths_list.append(25)"
   ]
  },
  {
   "cell_type": "code",
   "execution_count": null,
   "id": "8c2aff64",
   "metadata": {},
   "outputs": [],
   "source": [
    "maths_list"
   ]
  },
  {
   "cell_type": "code",
   "execution_count": 78,
   "id": "5349128d",
   "metadata": {},
   "outputs": [],
   "source": [
    "fruit_list=['apple','banana', 'oranges']"
   ]
  },
  {
   "cell_type": "code",
   "execution_count": 79,
   "id": "938f9107",
   "metadata": {},
   "outputs": [],
   "source": [
    "fruit_list.append('kiwi')"
   ]
  },
  {
   "cell_type": "code",
   "execution_count": 80,
   "id": "498f8c6c",
   "metadata": {},
   "outputs": [
    {
     "data": {
      "text/plain": [
       "['apple', 'banana', 'oranges', 'kiwi']"
      ]
     },
     "execution_count": 80,
     "metadata": {},
     "output_type": "execute_result"
    }
   ],
   "source": [
    "fruit_list"
   ]
  },
  {
   "cell_type": "code",
   "execution_count": 81,
   "id": "bc844aae",
   "metadata": {},
   "outputs": [],
   "source": [
    "fruit_list.append('grapes')"
   ]
  },
  {
   "cell_type": "code",
   "execution_count": 82,
   "id": "95df0c4f",
   "metadata": {},
   "outputs": [
    {
     "data": {
      "text/plain": [
       "['apple', 'banana', 'oranges', 'kiwi', 'grapes']"
      ]
     },
     "execution_count": 82,
     "metadata": {},
     "output_type": "execute_result"
    }
   ],
   "source": [
    "fruit_list"
   ]
  },
  {
   "cell_type": "code",
   "execution_count": null,
   "id": "f342b4c5",
   "metadata": {},
   "outputs": [],
   "source": []
  },
  {
   "cell_type": "code",
   "execution_count": null,
   "id": "a7f8d472",
   "metadata": {},
   "outputs": [],
   "source": [
    "'''\n",
    "list.insert('position', 'value')\n",
    "\n",
    "Unlike append which adds the element at the last only, by the use of insert you can add the element\n",
    "at your desired positions.\n",
    "\n",
    "\n",
    "'''"
   ]
  },
  {
   "cell_type": "code",
   "execution_count": 83,
   "id": "b3a6538f",
   "metadata": {},
   "outputs": [
    {
     "data": {
      "text/plain": [
       "[75, 76, 84, 59, 79, 74, 86, 82]"
      ]
     },
     "execution_count": 83,
     "metadata": {},
     "output_type": "execute_result"
    }
   ],
   "source": [
    "maths_list"
   ]
  },
  {
   "cell_type": "code",
   "execution_count": 84,
   "id": "f68a2569",
   "metadata": {},
   "outputs": [],
   "source": [
    "maths_list.insert(1, 46)"
   ]
  },
  {
   "cell_type": "code",
   "execution_count": 85,
   "id": "05c9e820",
   "metadata": {},
   "outputs": [
    {
     "data": {
      "text/plain": [
       "[75, 46, 76, 84, 59, 79, 74, 86, 82]"
      ]
     },
     "execution_count": 85,
     "metadata": {},
     "output_type": "execute_result"
    }
   ],
   "source": [
    "maths_list"
   ]
  },
  {
   "cell_type": "code",
   "execution_count": 86,
   "id": "283609f9",
   "metadata": {},
   "outputs": [],
   "source": [
    "maths_list.insert(5, 65)"
   ]
  },
  {
   "cell_type": "code",
   "execution_count": 87,
   "id": "0726f66c",
   "metadata": {},
   "outputs": [
    {
     "data": {
      "text/plain": [
       "[75, 46, 76, 84, 59, 65, 79, 74, 86, 82]"
      ]
     },
     "execution_count": 87,
     "metadata": {},
     "output_type": "execute_result"
    }
   ],
   "source": [
    "maths_list"
   ]
  },
  {
   "cell_type": "code",
   "execution_count": null,
   "id": "f37317a2",
   "metadata": {},
   "outputs": [],
   "source": [
    "maths_list.insert(-3, 46)"
   ]
  },
  {
   "cell_type": "code",
   "execution_count": null,
   "id": "956dbd49",
   "metadata": {},
   "outputs": [],
   "source": [
    "maths_list"
   ]
  },
  {
   "cell_type": "code",
   "execution_count": null,
   "id": "fdb8971f",
   "metadata": {},
   "outputs": [],
   "source": [
    "maths_list[-3]"
   ]
  },
  {
   "cell_type": "code",
   "execution_count": null,
   "id": "b3de1fdb",
   "metadata": {},
   "outputs": [],
   "source": [
    "maths_list.append(96)"
   ]
  },
  {
   "cell_type": "code",
   "execution_count": null,
   "id": "11046a01",
   "metadata": {},
   "outputs": [],
   "source": [
    "len(maths_list)"
   ]
  },
  {
   "cell_type": "code",
   "execution_count": null,
   "id": "585c3e35",
   "metadata": {},
   "outputs": [],
   "source": [
    "maths_list"
   ]
  },
  {
   "cell_type": "code",
   "execution_count": 88,
   "id": "0c94d07a",
   "metadata": {},
   "outputs": [],
   "source": [
    "sub_list=[[1,2,3,4,5],[12,25,36,15,32],[58,56,45,67,98]]\n"
   ]
  },
  {
   "cell_type": "code",
   "execution_count": 89,
   "id": "450e4e1a",
   "metadata": {},
   "outputs": [],
   "source": [
    "sub_list[0].append(6)\n",
    "\n",
    "# sub_list.insert(0, 6)"
   ]
  },
  {
   "cell_type": "code",
   "execution_count": null,
   "id": "11178476",
   "metadata": {},
   "outputs": [],
   "source": [
    "l=[9,8,7]"
   ]
  },
  {
   "cell_type": "code",
   "execution_count": 90,
   "id": "0de2cafa",
   "metadata": {},
   "outputs": [
    {
     "data": {
      "text/plain": [
       "[[1, 2, 3, 4, 5, 6], [12, 25, 36, 15, 32], [58, 56, 45, 67, 98]]"
      ]
     },
     "execution_count": 90,
     "metadata": {},
     "output_type": "execute_result"
    }
   ],
   "source": [
    "sub_list"
   ]
  },
  {
   "cell_type": "code",
   "execution_count": null,
   "id": "36c369b7",
   "metadata": {},
   "outputs": [],
   "source": [
    "l.extend(sub_list)"
   ]
  },
  {
   "cell_type": "code",
   "execution_count": null,
   "id": "5c90f64f",
   "metadata": {},
   "outputs": [],
   "source": [
    "l"
   ]
  },
  {
   "cell_type": "code",
   "execution_count": null,
   "id": "1b6987f1",
   "metadata": {},
   "outputs": [],
   "source": [
    "sub_list[1]"
   ]
  },
  {
   "cell_type": "code",
   "execution_count": null,
   "id": "1cc7a7db",
   "metadata": {},
   "outputs": [],
   "source": [
    "len(sub_list[1])"
   ]
  },
  {
   "cell_type": "code",
   "execution_count": null,
   "id": "0de9cf37",
   "metadata": {},
   "outputs": [],
   "source": [
    "len(sub_list)"
   ]
  },
  {
   "cell_type": "code",
   "execution_count": null,
   "id": "d97607f6",
   "metadata": {},
   "outputs": [],
   "source": [
    "ls=[1,2,3,4,5]"
   ]
  },
  {
   "cell_type": "code",
   "execution_count": null,
   "id": "02c0a752",
   "metadata": {},
   "outputs": [],
   "source": [
    "ls_2=ls"
   ]
  },
  {
   "cell_type": "code",
   "execution_count": null,
   "id": "9cda6ede",
   "metadata": {},
   "outputs": [],
   "source": [
    "ls_2"
   ]
  },
  {
   "cell_type": "code",
   "execution_count": null,
   "id": "2ffccd59",
   "metadata": {},
   "outputs": [],
   "source": [
    "ls.insert(-1, 6)\n",
    "ls"
   ]
  },
  {
   "cell_type": "code",
   "execution_count": null,
   "id": "80fb4905",
   "metadata": {},
   "outputs": [],
   "source": [
    "ls.insert(5,14)\n",
    "ls"
   ]
  },
  {
   "cell_type": "code",
   "execution_count": null,
   "id": "c672276c",
   "metadata": {},
   "outputs": [],
   "source": [
    "'''\n",
    "Create a list having first 5 integers then perform the following operation.\n",
    "\n",
    "1: add 10 at the last of the list\n",
    "2: add 15 at beginning of the list\n",
    "3: add 25 at middle of the list (If there are two mid value add it at left side)\n",
    "4: add first 5 even numbers at the last of the list\n",
    "\n",
    "print the list after each operation.\n",
    "\n",
    "\n",
    "'''"
   ]
  },
  {
   "cell_type": "code",
   "execution_count": null,
   "id": "484a2452",
   "metadata": {},
   "outputs": [],
   "source": []
  },
  {
   "cell_type": "code",
   "execution_count": null,
   "id": "d3d7e9eb",
   "metadata": {},
   "outputs": [],
   "source": [
    "maths_list.append(5)"
   ]
  },
  {
   "cell_type": "code",
   "execution_count": null,
   "id": "76678828",
   "metadata": {},
   "outputs": [],
   "source": [
    "maths_list.insert(-2, 5)"
   ]
  },
  {
   "cell_type": "code",
   "execution_count": null,
   "id": "572ca5c5",
   "metadata": {},
   "outputs": [],
   "source": [
    "'''\n",
    "1: append\n",
    "2: insert\n",
    "\n",
    "list.extend([elements1, element2, element3....]): \n",
    "by the use of extend you can add multiple elements but at the last of list.\n",
    "\n",
    "\n",
    "'''"
   ]
  },
  {
   "cell_type": "code",
   "execution_count": 91,
   "id": "68b3b7dc",
   "metadata": {},
   "outputs": [
    {
     "data": {
      "text/plain": [
       "[75, 46, 76, 84, 59, 65, 79, 74, 86, 82]"
      ]
     },
     "execution_count": 91,
     "metadata": {},
     "output_type": "execute_result"
    }
   ],
   "source": [
    "maths_list\n"
   ]
  },
  {
   "cell_type": "code",
   "execution_count": 92,
   "id": "673a0631",
   "metadata": {},
   "outputs": [],
   "source": [
    "maths_list.extend([25,75,48,95])\n",
    "\n",
    "# maths_list.extend([84, 95, 75,78])"
   ]
  },
  {
   "cell_type": "code",
   "execution_count": 93,
   "id": "0b85b804",
   "metadata": {},
   "outputs": [
    {
     "data": {
      "text/plain": [
       "[75, 46, 76, 84, 59, 65, 79, 74, 86, 82, 25, 75, 48, 95]"
      ]
     },
     "execution_count": 93,
     "metadata": {},
     "output_type": "execute_result"
    }
   ],
   "source": [
    "maths_list"
   ]
  },
  {
   "cell_type": "code",
   "execution_count": 95,
   "id": "1afb52a1",
   "metadata": {},
   "outputs": [],
   "source": [
    "maths_list.extend([2])"
   ]
  },
  {
   "cell_type": "code",
   "execution_count": 96,
   "id": "0b952243",
   "metadata": {},
   "outputs": [
    {
     "data": {
      "text/plain": [
       "[75, 46, 76, 84, 59, 65, 79, 74, 86, 82, 25, 75, 48, 95, 2]"
      ]
     },
     "execution_count": 96,
     "metadata": {},
     "output_type": "execute_result"
    }
   ],
   "source": [
    "maths_list"
   ]
  },
  {
   "cell_type": "code",
   "execution_count": null,
   "id": "1c1aebc2",
   "metadata": {},
   "outputs": [],
   "source": [
    "maths_list"
   ]
  },
  {
   "cell_type": "code",
   "execution_count": 98,
   "id": "dbaf7841",
   "metadata": {},
   "outputs": [
    {
     "data": {
      "text/plain": [
       "[84, 15, 24, 96, 75]"
      ]
     },
     "execution_count": 98,
     "metadata": {},
     "output_type": "execute_result"
    }
   ],
   "source": [
    "ls=[84,\n",
    "15,\n",
    "24,\n",
    "96,\n",
    "75]\n",
    "ls"
   ]
  },
  {
   "cell_type": "code",
   "execution_count": 99,
   "id": "b9a407d6",
   "metadata": {},
   "outputs": [],
   "source": [
    "ls.extend([75,\n",
    "48,\n",
    "32])"
   ]
  },
  {
   "cell_type": "code",
   "execution_count": 100,
   "id": "d1534c08",
   "metadata": {},
   "outputs": [
    {
     "data": {
      "text/plain": [
       "[84, 15, 24, 96, 75, 75, 48, 32]"
      ]
     },
     "execution_count": 100,
     "metadata": {},
     "output_type": "execute_result"
    }
   ],
   "source": [
    "ls"
   ]
  },
  {
   "cell_type": "code",
   "execution_count": 101,
   "id": "fc05d1ae",
   "metadata": {},
   "outputs": [],
   "source": [
    "ls.insert(6,32)\n",
    "ls.insert(3,46)\n",
    "ls.insert(4,75)"
   ]
  },
  {
   "cell_type": "code",
   "execution_count": 102,
   "id": "25740de8",
   "metadata": {},
   "outputs": [
    {
     "data": {
      "text/plain": [
       "[84, 15, 24, 46, 75, 96, 75, 75, 32, 48, 32]"
      ]
     },
     "execution_count": 102,
     "metadata": {},
     "output_type": "execute_result"
    }
   ],
   "source": [
    "ls"
   ]
  },
  {
   "cell_type": "code",
   "execution_count": 103,
   "id": "ffb35fc9",
   "metadata": {},
   "outputs": [],
   "source": [
    "ls.extend([9,56,6,7,5,8,44])"
   ]
  },
  {
   "cell_type": "code",
   "execution_count": 104,
   "id": "ad016143",
   "metadata": {},
   "outputs": [
    {
     "data": {
      "text/plain": [
       "[84, 15, 24, 46, 75, 96, 75, 75, 32, 48, 32, 9, 56, 6, 7, 5, 8, 44]"
      ]
     },
     "execution_count": 104,
     "metadata": {},
     "output_type": "execute_result"
    }
   ],
   "source": [
    "ls"
   ]
  },
  {
   "cell_type": "code",
   "execution_count": null,
   "id": "e0a6ecf9",
   "metadata": {},
   "outputs": [],
   "source": [
    "fruit_list=['apple', 'mango']"
   ]
  },
  {
   "cell_type": "code",
   "execution_count": null,
   "id": "55acfb1a",
   "metadata": {},
   "outputs": [],
   "source": [
    "fruit_list"
   ]
  },
  {
   "cell_type": "code",
   "execution_count": null,
   "id": "430b2a30",
   "metadata": {},
   "outputs": [],
   "source": [
    "fruit_list.append('banana')"
   ]
  },
  {
   "cell_type": "code",
   "execution_count": null,
   "id": "6d513580",
   "metadata": {},
   "outputs": [],
   "source": [
    "fruit_list"
   ]
  },
  {
   "cell_type": "code",
   "execution_count": null,
   "id": "6d34e8ff",
   "metadata": {},
   "outputs": [],
   "source": [
    "fruit_list.insert(1, 'banana')"
   ]
  },
  {
   "cell_type": "code",
   "execution_count": null,
   "id": "2092062d",
   "metadata": {},
   "outputs": [],
   "source": [
    "fruit_list"
   ]
  },
  {
   "cell_type": "code",
   "execution_count": null,
   "id": "525a9020",
   "metadata": {},
   "outputs": [],
   "source": [
    "fruit_list.extend(['grapes','pineapple',  'kiwi'])"
   ]
  },
  {
   "cell_type": "code",
   "execution_count": null,
   "id": "0f5a1bd4",
   "metadata": {},
   "outputs": [],
   "source": [
    "fruit_list"
   ]
  },
  {
   "cell_type": "code",
   "execution_count": null,
   "id": "8e7d1407",
   "metadata": {},
   "outputs": [],
   "source": [
    "sub_list"
   ]
  },
  {
   "cell_type": "code",
   "execution_count": null,
   "id": "367cf4a4",
   "metadata": {},
   "outputs": [],
   "source": [
    "sub_list[0].append(6)"
   ]
  },
  {
   "cell_type": "code",
   "execution_count": null,
   "id": "d5822dc3",
   "metadata": {},
   "outputs": [],
   "source": [
    "sub_list"
   ]
  },
  {
   "cell_type": "markdown",
   "id": "62676fc4",
   "metadata": {},
   "source": [
    "# Accessing elements from the list"
   ]
  },
  {
   "cell_type": "code",
   "execution_count": null,
   "id": "34c5ce8b",
   "metadata": {},
   "outputs": [],
   "source": [
    "maths_list\n",
    "\n",
    "# provide 74 as an output from this list\n",
    "\n",
    "# What is the value at index 5"
   ]
  },
  {
   "cell_type": "code",
   "execution_count": null,
   "id": "5d9e826d",
   "metadata": {},
   "outputs": [],
   "source": [
    "maths_list[11]"
   ]
  },
  {
   "cell_type": "code",
   "execution_count": null,
   "id": "58828d7f",
   "metadata": {},
   "outputs": [],
   "source": [
    "maths_list[-1]"
   ]
  },
  {
   "cell_type": "code",
   "execution_count": null,
   "id": "57d44133",
   "metadata": {},
   "outputs": [],
   "source": [
    "maths_list[9]"
   ]
  },
  {
   "cell_type": "code",
   "execution_count": null,
   "id": "739dbdbf",
   "metadata": {},
   "outputs": [],
   "source": [
    "maths_list[-3]"
   ]
  },
  {
   "cell_type": "code",
   "execution_count": null,
   "id": "a943634c",
   "metadata": {},
   "outputs": [],
   "source": [
    "fruit_list"
   ]
  },
  {
   "cell_type": "code",
   "execution_count": null,
   "id": "fbcd6a89",
   "metadata": {},
   "outputs": [],
   "source": [
    "fruit_list[0]"
   ]
  },
  {
   "cell_type": "code",
   "execution_count": null,
   "id": "5415322b",
   "metadata": {},
   "outputs": [],
   "source": [
    "fruit_list[-4]"
   ]
  },
  {
   "cell_type": "code",
   "execution_count": null,
   "id": "353baccc",
   "metadata": {},
   "outputs": [],
   "source": [
    "sub_list"
   ]
  },
  {
   "cell_type": "code",
   "execution_count": null,
   "id": "fc244d80",
   "metadata": {},
   "outputs": [],
   "source": [
    "print(sub_list[0])\n",
    "print(sub_list[0][-1])"
   ]
  },
  {
   "cell_type": "code",
   "execution_count": null,
   "id": "9f58bdb7",
   "metadata": {},
   "outputs": [],
   "source": [
    "sub_list[1][0]"
   ]
  },
  {
   "cell_type": "code",
   "execution_count": null,
   "id": "03899cb9",
   "metadata": {},
   "outputs": [],
   "source": [
    "# 18:30 to 20:30 IST"
   ]
  },
  {
   "cell_type": "code",
   "execution_count": null,
   "id": "e7e90948",
   "metadata": {},
   "outputs": [],
   "source": [
    "len(sub_list)"
   ]
  },
  {
   "cell_type": "code",
   "execution_count": null,
   "id": "d2710e83",
   "metadata": {},
   "outputs": [],
   "source": [
    "sub_list[0]"
   ]
  },
  {
   "cell_type": "code",
   "execution_count": null,
   "id": "67ab935d",
   "metadata": {},
   "outputs": [],
   "source": [
    "sub_list[1]"
   ]
  },
  {
   "cell_type": "code",
   "execution_count": null,
   "id": "084d48b2",
   "metadata": {},
   "outputs": [],
   "source": [
    "sub_list[2][3]"
   ]
  },
  {
   "cell_type": "code",
   "execution_count": null,
   "id": "1c7427b2",
   "metadata": {},
   "outputs": [],
   "source": [
    "ls = sub_list[2]"
   ]
  },
  {
   "cell_type": "code",
   "execution_count": null,
   "id": "05a2ce8c",
   "metadata": {},
   "outputs": [],
   "source": [
    "ls"
   ]
  },
  {
   "cell_type": "code",
   "execution_count": null,
   "id": "d16a988c",
   "metadata": {},
   "outputs": [],
   "source": [
    "type(ls)"
   ]
  },
  {
   "cell_type": "code",
   "execution_count": null,
   "id": "6698aefd",
   "metadata": {},
   "outputs": [],
   "source": [
    "ls[2]"
   ]
  },
  {
   "cell_type": "code",
   "execution_count": null,
   "id": "29b1bba0",
   "metadata": {},
   "outputs": [],
   "source": [
    "sub_list[0][3]"
   ]
  },
  {
   "cell_type": "code",
   "execution_count": null,
   "id": "a6a3aac3",
   "metadata": {},
   "outputs": [],
   "source": [
    "sub_list[1]"
   ]
  },
  {
   "cell_type": "code",
   "execution_count": null,
   "id": "bb7a8ab2",
   "metadata": {},
   "outputs": [],
   "source": [
    "sub_list[2]"
   ]
  },
  {
   "cell_type": "code",
   "execution_count": null,
   "id": "23e1cd18",
   "metadata": {},
   "outputs": [],
   "source": [
    "sub_list[1][3]"
   ]
  },
  {
   "cell_type": "code",
   "execution_count": null,
   "id": "80aa588a",
   "metadata": {},
   "outputs": [],
   "source": [
    "'''\n",
    "Extracting the element of the inner list.\n",
    "\n",
    "'''"
   ]
  },
  {
   "cell_type": "code",
   "execution_count": null,
   "id": "871910f4",
   "metadata": {},
   "outputs": [],
   "source": [
    "sub_list=[ [[1,2],[3,4,7,5]], [84,94,75,46,31],[92,84,51,62,75]]"
   ]
  },
  {
   "cell_type": "code",
   "execution_count": null,
   "id": "c0a3a2a4",
   "metadata": {},
   "outputs": [],
   "source": [
    "3"
   ]
  },
  {
   "cell_type": "code",
   "execution_count": null,
   "id": "3df994bd",
   "metadata": {},
   "outputs": [],
   "source": []
  },
  {
   "cell_type": "code",
   "execution_count": null,
   "id": "fe0267d2",
   "metadata": {},
   "outputs": [],
   "source": []
  },
  {
   "cell_type": "code",
   "execution_count": null,
   "id": "263aa44b",
   "metadata": {},
   "outputs": [],
   "source": []
  },
  {
   "cell_type": "code",
   "execution_count": null,
   "id": "1b4d561a",
   "metadata": {},
   "outputs": [],
   "source": [
    "l1=[1,2,3]\n",
    "\n",
    "\n",
    "l2 != l1"
   ]
  },
  {
   "cell_type": "code",
   "execution_count": null,
   "id": "7f390cc6",
   "metadata": {},
   "outputs": [],
   "source": [
    "l2"
   ]
  },
  {
   "cell_type": "code",
   "execution_count": null,
   "id": "2939b30e",
   "metadata": {},
   "outputs": [],
   "source": [
    "l1"
   ]
  },
  {
   "cell_type": "code",
   "execution_count": null,
   "id": "53d5d17d",
   "metadata": {},
   "outputs": [],
   "source": [
    "l1.append(5)"
   ]
  },
  {
   "cell_type": "code",
   "execution_count": null,
   "id": "21e305e9",
   "metadata": {},
   "outputs": [],
   "source": [
    "l1"
   ]
  },
  {
   "cell_type": "code",
   "execution_count": null,
   "id": "3928ab2a",
   "metadata": {},
   "outputs": [],
   "source": [
    "l2"
   ]
  },
  {
   "cell_type": "code",
   "execution_count": null,
   "id": "fca3a338",
   "metadata": {},
   "outputs": [],
   "source": [
    "l1 = [1, 2, 3]\n",
    "print(id(l1))\n",
    "l2 = l1\n",
    "print(id(l2))\n",
    "l2 = l1.copy()\n",
    "print(id(l2))"
   ]
  },
  {
   "cell_type": "code",
   "execution_count": null,
   "id": "c151f994",
   "metadata": {},
   "outputs": [],
   "source": []
  },
  {
   "cell_type": "code",
   "execution_count": null,
   "id": "dbd70b24",
   "metadata": {},
   "outputs": [],
   "source": []
  },
  {
   "cell_type": "code",
   "execution_count": null,
   "id": "2e0d80fa",
   "metadata": {},
   "outputs": [],
   "source": []
  },
  {
   "cell_type": "code",
   "execution_count": null,
   "id": "4584fc4e",
   "metadata": {},
   "outputs": [],
   "source": []
  },
  {
   "cell_type": "code",
   "execution_count": null,
   "id": "9aa16abb",
   "metadata": {},
   "outputs": [],
   "source": []
  },
  {
   "cell_type": "code",
   "execution_count": null,
   "id": "f296ab16",
   "metadata": {},
   "outputs": [],
   "source": []
  },
  {
   "cell_type": "code",
   "execution_count": null,
   "id": "0cb94f76",
   "metadata": {},
   "outputs": [],
   "source": [
    "sub_list"
   ]
  },
  {
   "cell_type": "code",
   "execution_count": null,
   "id": "2920b5e9",
   "metadata": {},
   "outputs": [],
   "source": [
    "sub_list[0]"
   ]
  },
  {
   "cell_type": "code",
   "execution_count": null,
   "id": "75d790a9",
   "metadata": {},
   "outputs": [],
   "source": [
    "sub_list[0][1]"
   ]
  },
  {
   "cell_type": "code",
   "execution_count": null,
   "id": "90037a59",
   "metadata": {},
   "outputs": [],
   "source": [
    "sub_list[0][0][0]"
   ]
  },
  {
   "cell_type": "code",
   "execution_count": null,
   "id": "9dc3c487",
   "metadata": {},
   "outputs": [],
   "source": [
    "sub_list[0][0][1]"
   ]
  },
  {
   "cell_type": "code",
   "execution_count": null,
   "id": "376106b0",
   "metadata": {},
   "outputs": [],
   "source": []
  },
  {
   "cell_type": "code",
   "execution_count": null,
   "id": "0a8cf37c",
   "metadata": {},
   "outputs": [],
   "source": []
  },
  {
   "cell_type": "code",
   "execution_count": null,
   "id": "9c89e39d",
   "metadata": {},
   "outputs": [],
   "source": []
  },
  {
   "cell_type": "code",
   "execution_count": null,
   "id": "246d9476",
   "metadata": {},
   "outputs": [],
   "source": [
    "sub_list[0][0][1]"
   ]
  },
  {
   "cell_type": "code",
   "execution_count": null,
   "id": "a018709b",
   "metadata": {},
   "outputs": [],
   "source": [
    "sub_list[-3][-2][-1]"
   ]
  },
  {
   "cell_type": "code",
   "execution_count": null,
   "id": "c6e7c7a9",
   "metadata": {},
   "outputs": [],
   "source": [
    "sub_list[0][1][1]"
   ]
  },
  {
   "cell_type": "code",
   "execution_count": null,
   "id": "b6e965d9",
   "metadata": {},
   "outputs": [],
   "source": [
    "sub_list[-3][-1][-2]"
   ]
  },
  {
   "cell_type": "markdown",
   "id": "af7ae7c0",
   "metadata": {},
   "source": [
    "# Removing the element of the list"
   ]
  },
  {
   "cell_type": "code",
   "execution_count": null,
   "id": "620df597",
   "metadata": {},
   "outputs": [],
   "source": [
    "'''\n",
    "\n",
    "remove('element'): it is removing the given element from the list. \n",
    "(It is able to remove only one element at a time)\n",
    "\n",
    "list.remove('element')\n",
    "'''"
   ]
  },
  {
   "cell_type": "code",
   "execution_count": 11,
   "id": "d78ee150",
   "metadata": {},
   "outputs": [
    {
     "data": {
      "text/plain": [
       "[75, 76, 59, 74]"
      ]
     },
     "execution_count": 11,
     "metadata": {},
     "output_type": "execute_result"
    }
   ],
   "source": [
    "maths_list"
   ]
  },
  {
   "cell_type": "code",
   "execution_count": 3,
   "id": "243c4850",
   "metadata": {},
   "outputs": [],
   "source": [
    "maths_list.remove(79)"
   ]
  },
  {
   "cell_type": "code",
   "execution_count": 4,
   "id": "7a95c84a",
   "metadata": {
    "scrolled": true
   },
   "outputs": [
    {
     "data": {
      "text/plain": [
       "[75, 76, 84, 59, 74]"
      ]
     },
     "execution_count": 4,
     "metadata": {},
     "output_type": "execute_result"
    }
   ],
   "source": [
    "maths_list"
   ]
  },
  {
   "cell_type": "code",
   "execution_count": 5,
   "id": "15fef970",
   "metadata": {},
   "outputs": [],
   "source": [
    "maths_list.remove(84)"
   ]
  },
  {
   "cell_type": "code",
   "execution_count": 6,
   "id": "d7866379",
   "metadata": {},
   "outputs": [
    {
     "data": {
      "text/plain": [
       "[75, 76, 59, 74]"
      ]
     },
     "execution_count": 6,
     "metadata": {},
     "output_type": "execute_result"
    }
   ],
   "source": [
    "maths_list"
   ]
  },
  {
   "cell_type": "code",
   "execution_count": 7,
   "id": "80023be1",
   "metadata": {},
   "outputs": [
    {
     "data": {
      "text/plain": [
       "[1, 2, 4, 2, 5, 3, 2, 6, 2, 8]"
      ]
     },
     "execution_count": 7,
     "metadata": {},
     "output_type": "execute_result"
    }
   ],
   "source": [
    "temp=[1,2,4,2,5,3,2,6,2,8]\n",
    "temp"
   ]
  },
  {
   "cell_type": "code",
   "execution_count": 8,
   "id": "f2997552",
   "metadata": {},
   "outputs": [],
   "source": [
    "temp.remove(2)"
   ]
  },
  {
   "cell_type": "code",
   "execution_count": 9,
   "id": "ad38e2f1",
   "metadata": {},
   "outputs": [
    {
     "data": {
      "text/plain": [
       "[1, 4, 2, 5, 3, 2, 6, 2, 8]"
      ]
     },
     "execution_count": 9,
     "metadata": {},
     "output_type": "execute_result"
    }
   ],
   "source": [
    "temp"
   ]
  },
  {
   "cell_type": "code",
   "execution_count": null,
   "id": "17a28f15",
   "metadata": {},
   "outputs": [],
   "source": []
  },
  {
   "cell_type": "code",
   "execution_count": null,
   "id": "ac5b4f78",
   "metadata": {},
   "outputs": [],
   "source": [
    "'''\n",
    "\n",
    "list.pop('index')\n",
    "pop: pop is removing the elements from the list based on index\n",
    "\n",
    "\n",
    "\n",
    "'''"
   ]
  },
  {
   "cell_type": "code",
   "execution_count": 13,
   "id": "2c9e80a7",
   "metadata": {},
   "outputs": [
    {
     "data": {
      "text/plain": [
       "[75, 76, 84, 59, 79, 74]"
      ]
     },
     "execution_count": 13,
     "metadata": {},
     "output_type": "execute_result"
    }
   ],
   "source": [
    "maths_list"
   ]
  },
  {
   "cell_type": "code",
   "execution_count": 14,
   "id": "cd266b23",
   "metadata": {},
   "outputs": [
    {
     "data": {
      "text/plain": [
       "75"
      ]
     },
     "execution_count": 14,
     "metadata": {},
     "output_type": "execute_result"
    }
   ],
   "source": [
    "maths_list.pop(0)"
   ]
  },
  {
   "cell_type": "code",
   "execution_count": 15,
   "id": "01a5d746",
   "metadata": {},
   "outputs": [
    {
     "data": {
      "text/plain": [
       "[76, 84, 59, 79, 74]"
      ]
     },
     "execution_count": 15,
     "metadata": {},
     "output_type": "execute_result"
    }
   ],
   "source": [
    "maths_list"
   ]
  },
  {
   "cell_type": "code",
   "execution_count": 16,
   "id": "51bf4294",
   "metadata": {},
   "outputs": [
    {
     "data": {
      "text/plain": [
       "[76, 84, 59, 74]"
      ]
     },
     "execution_count": 16,
     "metadata": {},
     "output_type": "execute_result"
    }
   ],
   "source": [
    "maths_list.pop(3)\n",
    "maths_list"
   ]
  },
  {
   "cell_type": "code",
   "execution_count": null,
   "id": "686c4aba",
   "metadata": {},
   "outputs": [],
   "source": []
  },
  {
   "cell_type": "code",
   "execution_count": null,
   "id": "2934b263",
   "metadata": {},
   "outputs": [],
   "source": [
    "fruit_list.remove('banana')"
   ]
  },
  {
   "cell_type": "code",
   "execution_count": null,
   "id": "ac4b804c",
   "metadata": {},
   "outputs": [],
   "source": [
    "fruit_list"
   ]
  },
  {
   "cell_type": "code",
   "execution_count": null,
   "id": "a7e71fca",
   "metadata": {},
   "outputs": [],
   "source": [
    "fruit_list.pop(3)"
   ]
  },
  {
   "cell_type": "code",
   "execution_count": null,
   "id": "16914951",
   "metadata": {},
   "outputs": [],
   "source": [
    "fruit_list"
   ]
  },
  {
   "cell_type": "code",
   "execution_count": 10,
   "id": "81858103",
   "metadata": {},
   "outputs": [
    {
     "data": {
      "text/plain": [
       "[75, 76, 59, 74]"
      ]
     },
     "execution_count": 10,
     "metadata": {},
     "output_type": "execute_result"
    }
   ],
   "source": [
    "maths_list"
   ]
  },
  {
   "cell_type": "code",
   "execution_count": null,
   "id": "0f24f329",
   "metadata": {},
   "outputs": [],
   "source": [
    "maths_list.pop(-2)"
   ]
  },
  {
   "cell_type": "code",
   "execution_count": null,
   "id": "6995bb1e",
   "metadata": {},
   "outputs": [],
   "source": []
  },
  {
   "cell_type": "code",
   "execution_count": null,
   "id": "b85b4102",
   "metadata": {},
   "outputs": [],
   "source": [
    "sub_list"
   ]
  },
  {
   "cell_type": "code",
   "execution_count": null,
   "id": "3d2dbbd6",
   "metadata": {},
   "outputs": [],
   "source": [
    "sub_list[1].remove(36)"
   ]
  },
  {
   "cell_type": "code",
   "execution_count": null,
   "id": "2040f27b",
   "metadata": {},
   "outputs": [],
   "source": [
    "sub_list"
   ]
  },
  {
   "cell_type": "code",
   "execution_count": null,
   "id": "90e15a22",
   "metadata": {},
   "outputs": [],
   "source": [
    "sub_list[2].pop(1)"
   ]
  },
  {
   "cell_type": "code",
   "execution_count": null,
   "id": "914c686b",
   "metadata": {},
   "outputs": [],
   "source": [
    "sub_list"
   ]
  },
  {
   "cell_type": "code",
   "execution_count": null,
   "id": "dc22ae76",
   "metadata": {},
   "outputs": [],
   "source": []
  },
  {
   "cell_type": "markdown",
   "id": "82aa1224",
   "metadata": {},
   "source": [
    "# for loop with list"
   ]
  },
  {
   "cell_type": "markdown",
   "id": "4f508e3b",
   "metadata": {},
   "source": [
    "creating a list with a for loop"
   ]
  },
  {
   "cell_type": "code",
   "execution_count": null,
   "id": "a067df0d",
   "metadata": {},
   "outputs": [],
   "source": [
    "for i in range(6): #0,1,2,3,4,5\n",
    "    print(i)"
   ]
  },
  {
   "cell_type": "code",
   "execution_count": 17,
   "id": "94314387",
   "metadata": {},
   "outputs": [],
   "source": [
    "l1=[]\n",
    "for i in range(1,19,2):\n",
    "    l1.append(i)\n"
   ]
  },
  {
   "cell_type": "code",
   "execution_count": 18,
   "id": "61108cc5",
   "metadata": {},
   "outputs": [
    {
     "data": {
      "text/plain": [
       "[1, 3, 5, 7, 9, 11, 13, 15, 17]"
      ]
     },
     "execution_count": 18,
     "metadata": {},
     "output_type": "execute_result"
    }
   ],
   "source": [
    "l1"
   ]
  },
  {
   "cell_type": "code",
   "execution_count": null,
   "id": "b0a6280b",
   "metadata": {},
   "outputs": [],
   "source": [
    "#WAP to create a marks liist, marks=[90,80,75,70,60,55]. \n",
    "#it is found  one qus was incorrect so teacher awarded 5 marks to each student.\n",
    "#you have to create  a new by adding 5marks in every students marks"
   ]
  },
  {
   "cell_type": "code",
   "execution_count": 22,
   "id": "956b3369",
   "metadata": {},
   "outputs": [
    {
     "data": {
      "text/plain": [
       "[8100, 6400, 5625, 4900, 3600, 3025]"
      ]
     },
     "execution_count": 22,
     "metadata": {},
     "output_type": "execute_result"
    }
   ],
   "source": [
    "marks=[90,80,75,70,60,55]\n",
    "\n",
    "marks_new=[]\n",
    "for i in marks:\n",
    "    marks_new.append(i**2)\n",
    "    \n",
    "marks_new"
   ]
  },
  {
   "cell_type": "code",
   "execution_count": null,
   "id": "5c1c0e1b",
   "metadata": {},
   "outputs": [],
   "source": [
    "marks=[90,80,75,70,60,55]\n",
    "#wap to find the square of these numbers and store it into a new list"
   ]
  },
  {
   "cell_type": "code",
   "execution_count": null,
   "id": "96357071",
   "metadata": {},
   "outputs": [],
   "source": []
  },
  {
   "cell_type": "code",
   "execution_count": 19,
   "id": "7999ee51",
   "metadata": {},
   "outputs": [],
   "source": [
    "ls=[0,1,2,3,4,5]\n",
    "\n",
    "l2=[]\n",
    "\n",
    "for i in ls:\n",
    "    l2.append(i) \n",
    "\n",
    "   \n"
   ]
  },
  {
   "cell_type": "code",
   "execution_count": 20,
   "id": "15cca329",
   "metadata": {},
   "outputs": [
    {
     "data": {
      "text/plain": [
       "[0, 1, 2, 3, 4, 5]"
      ]
     },
     "execution_count": 20,
     "metadata": {},
     "output_type": "execute_result"
    }
   ],
   "source": [
    "l2"
   ]
  },
  {
   "cell_type": "code",
   "execution_count": null,
   "id": "24a14769",
   "metadata": {},
   "outputs": [],
   "source": [
    "#WAP to create a list with first 5 even numbers using for loop: even_list= [0,2,4,6,8]"
   ]
  },
  {
   "cell_type": "code",
   "execution_count": null,
   "id": "c849886d",
   "metadata": {},
   "outputs": [],
   "source": [
    "#first 5 even numbers\n",
    "even_list1=[0,2,4,6,8]\n",
    "even_list2=[]\n",
    "\n",
    "for i in even_list: #0,2,4,6,8\n",
    "    even_list2.append(i)\n",
    "   \n",
    "\n",
    "\n",
    "print(even_list)"
   ]
  },
  {
   "cell_type": "code",
   "execution_count": null,
   "id": "84fc9a89",
   "metadata": {},
   "outputs": [],
   "source": [
    "even_list=[]\n",
    "for i in range(0,9,2):\n",
    "    even_list.append(i)\n",
    "even_list"
   ]
  },
  {
   "cell_type": "code",
   "execution_count": null,
   "id": "45642b96",
   "metadata": {},
   "outputs": [],
   "source": []
  },
  {
   "cell_type": "code",
   "execution_count": null,
   "id": "5da02723",
   "metadata": {},
   "outputs": [],
   "source": [
    "even=[]\n",
    "\n",
    "for i in range(10):\n",
    "    if i%2==0:\n",
    "        even.append(i)\n"
   ]
  },
  {
   "cell_type": "code",
   "execution_count": null,
   "id": "f9962e11",
   "metadata": {},
   "outputs": [],
   "source": [
    "even"
   ]
  },
  {
   "cell_type": "code",
   "execution_count": null,
   "id": "efca4698",
   "metadata": {},
   "outputs": [],
   "source": [
    "even=[0,2,4,6,8]"
   ]
  },
  {
   "cell_type": "code",
   "execution_count": null,
   "id": "5fcdfe04",
   "metadata": {},
   "outputs": [],
   "source": [
    "even_list"
   ]
  },
  {
   "cell_type": "code",
   "execution_count": null,
   "id": "d56d1d5e",
   "metadata": {},
   "outputs": [],
   "source": []
  },
  {
   "cell_type": "code",
   "execution_count": null,
   "id": "552c2d18",
   "metadata": {},
   "outputs": [],
   "source": []
  },
  {
   "cell_type": "code",
   "execution_count": null,
   "id": "7679a5c3",
   "metadata": {},
   "outputs": [],
   "source": [
    "#first 5 odd numbers\n",
    "\n",
    "odd_list=[]\n",
    "for i in range(1,10,2): #1,3,5,7,9\n",
    "    odd_list.append(i)\n",
    "print(odd_list)"
   ]
  },
  {
   "cell_type": "code",
   "execution_count": null,
   "id": "f68b2720",
   "metadata": {},
   "outputs": [],
   "source": [
    "odd_list"
   ]
  },
  {
   "cell_type": "code",
   "execution_count": null,
   "id": "5fe08eaf",
   "metadata": {},
   "outputs": [],
   "source": [
    "even_list"
   ]
  },
  {
   "cell_type": "code",
   "execution_count": null,
   "id": "5d9a2dd0",
   "metadata": {},
   "outputs": [],
   "source": [
    "# I wants  to add 3rd even number and 3rd odd number."
   ]
  },
  {
   "cell_type": "code",
   "execution_count": null,
   "id": "a2ee281c",
   "metadata": {},
   "outputs": [],
   "source": [
    "even_list[2]+odd_list[2]\n",
    "#4+5"
   ]
  },
  {
   "cell_type": "code",
   "execution_count": null,
   "id": "98abf207",
   "metadata": {},
   "outputs": [],
   "source": [
    "x=even_list[2] + odd_list[2]"
   ]
  },
  {
   "cell_type": "code",
   "execution_count": null,
   "id": "630ce9b9",
   "metadata": {},
   "outputs": [],
   "source": [
    "x"
   ]
  },
  {
   "cell_type": "code",
   "execution_count": null,
   "id": "f91fa120",
   "metadata": {},
   "outputs": [],
   "source": [
    "# I wants to  multply 2 in the above result"
   ]
  },
  {
   "cell_type": "code",
   "execution_count": null,
   "id": "045d5baf",
   "metadata": {},
   "outputs": [],
   "source": [
    "y=x*2"
   ]
  },
  {
   "cell_type": "code",
   "execution_count": null,
   "id": "96d84ce4",
   "metadata": {},
   "outputs": [],
   "source": [
    "y"
   ]
  },
  {
   "cell_type": "code",
   "execution_count": null,
   "id": "af684459",
   "metadata": {},
   "outputs": [],
   "source": [
    "# I wants to  add 5 in the above result"
   ]
  },
  {
   "cell_type": "code",
   "execution_count": null,
   "id": "aa1f559b",
   "metadata": {},
   "outputs": [],
   "source": [
    "y+5"
   ]
  },
  {
   "cell_type": "code",
   "execution_count": null,
   "id": "1c8dd7ad",
   "metadata": {},
   "outputs": [],
   "source": [
    "(even_list[2]+odd_list[2])*2"
   ]
  },
  {
   "cell_type": "code",
   "execution_count": null,
   "id": "1adeb137",
   "metadata": {},
   "outputs": [],
   "source": [
    "((even_list[2]+odd_list[2])*2)+5"
   ]
  },
  {
   "cell_type": "code",
   "execution_count": null,
   "id": "78b02c19",
   "metadata": {},
   "outputs": [],
   "source": [
    "temp_list=[1,2,3,4,5,6,7,8,9,10,11]"
   ]
  },
  {
   "cell_type": "code",
   "execution_count": null,
   "id": "2261a480",
   "metadata": {},
   "outputs": [],
   "source": [
    "#remove all the odd numbers from the list"
   ]
  },
  {
   "cell_type": "code",
   "execution_count": null,
   "id": "a9e40b03",
   "metadata": {},
   "outputs": [],
   "source": [
    "for i in range(1,12,2):#1,3,5,7,9,11\n",
    "    temp_list.remove(i)"
   ]
  },
  {
   "cell_type": "code",
   "execution_count": null,
   "id": "9de7545c",
   "metadata": {},
   "outputs": [],
   "source": [
    "for i in temp_list:\n",
    "    if i%2 != 0:\n",
    "        temp_list.remove(i)"
   ]
  },
  {
   "cell_type": "code",
   "execution_count": null,
   "id": "727a3b7f",
   "metadata": {},
   "outputs": [],
   "source": []
  },
  {
   "cell_type": "code",
   "execution_count": null,
   "id": "cef91a6d",
   "metadata": {},
   "outputs": [],
   "source": [
    "temp_list"
   ]
  },
  {
   "cell_type": "code",
   "execution_count": null,
   "id": "a475c766",
   "metadata": {},
   "outputs": [],
   "source": [
    "for i in range():\n",
    "    temp_list.pop(-1)\n",
    "    print(temp_list)"
   ]
  },
  {
   "cell_type": "code",
   "execution_count": null,
   "id": "bf9980f6",
   "metadata": {},
   "outputs": [],
   "source": [
    "'''\n",
    "take a input  from the user and add the values upto that number\n",
    "i/p: 5 \n",
    "\n",
    "0,1,2,3,4,5\n",
    "\n",
    "o/p: 0+1+2+3+4+5=15\n",
    "\n",
    "\n",
    "\n",
    "'''"
   ]
  },
  {
   "cell_type": "code",
   "execution_count": null,
   "id": "f60a7fde",
   "metadata": {},
   "outputs": [],
   "source": [
    "n=int(input('Enter the number : ')) #5\n",
    "s=0\n",
    "for i in range(n+1):#0,1,2,3,4,5\n",
    "    s=s+i\n",
    "print(s)"
   ]
  },
  {
   "cell_type": "code",
   "execution_count": null,
   "id": "23749c16",
   "metadata": {},
   "outputs": [],
   "source": [
    "first_list=[1,2,3,4,5,6,7,8]"
   ]
  },
  {
   "cell_type": "code",
   "execution_count": null,
   "id": "ed073334",
   "metadata": {},
   "outputs": [],
   "source": [
    "for i in range(5): #0,1,2,3,4,\n",
    "    print(i)"
   ]
  },
  {
   "cell_type": "code",
   "execution_count": null,
   "id": "de440fa3",
   "metadata": {},
   "outputs": [],
   "source": [
    "first_list"
   ]
  },
  {
   "cell_type": "code",
   "execution_count": null,
   "id": "977535ab",
   "metadata": {},
   "outputs": [],
   "source": [
    "for i in first_list:\n",
    "    print(i)"
   ]
  },
  {
   "cell_type": "code",
   "execution_count": null,
   "id": "97c1beca",
   "metadata": {},
   "outputs": [],
   "source": [
    "second_list=[]\n",
    "\n",
    "for i in first_list:\n",
    "    second_list.append(i+5)"
   ]
  },
  {
   "cell_type": "code",
   "execution_count": null,
   "id": "9c98d8d4",
   "metadata": {},
   "outputs": [],
   "source": [
    "second_list"
   ]
  },
  {
   "cell_type": "code",
   "execution_count": null,
   "id": "aa4b349a",
   "metadata": {},
   "outputs": [],
   "source": [
    "maths_list=[75,85,72,64,61,84]\n",
    "\n",
    "updated_maths_list=[]\n",
    "\n",
    "\n",
    "for i in maths_list:\n",
    "    updated_maths_list.append(i+5)\n",
    "updated_maths_list"
   ]
  },
  {
   "cell_type": "code",
   "execution_count": null,
   "id": "1d8770d6",
   "metadata": {},
   "outputs": [],
   "source": [
    "s=0\n",
    "for i in range(1,6):\n",
    "    s=s+i\n",
    "s"
   ]
  },
  {
   "cell_type": "code",
   "execution_count": null,
   "id": "da1f4f1a",
   "metadata": {},
   "outputs": [],
   "source": []
  },
  {
   "cell_type": "code",
   "execution_count": null,
   "id": "c97ca227",
   "metadata": {},
   "outputs": [],
   "source": []
  },
  {
   "cell_type": "markdown",
   "id": "cd270b79",
   "metadata": {},
   "source": [
    "# Sum  of list"
   ]
  },
  {
   "cell_type": "code",
   "execution_count": 2,
   "id": "c8119084",
   "metadata": {},
   "outputs": [],
   "source": [
    "ls=[1,2,3,4,5,6,7,8]\n",
    "#find the sum of the list"
   ]
  },
  {
   "cell_type": "code",
   "execution_count": 3,
   "id": "da8ce534",
   "metadata": {},
   "outputs": [
    {
     "data": {
      "text/plain": [
       "[1, 2, 3, 4, 5, 6, 7, 8]"
      ]
     },
     "execution_count": 3,
     "metadata": {},
     "output_type": "execute_result"
    }
   ],
   "source": [
    "ls"
   ]
  },
  {
   "cell_type": "code",
   "execution_count": 5,
   "id": "f66734dd",
   "metadata": {},
   "outputs": [
    {
     "name": "stdout",
     "output_type": "stream",
     "text": [
      "1\n",
      "2\n",
      "3\n",
      "4\n",
      "5\n",
      "6\n",
      "7\n",
      "8\n"
     ]
    }
   ],
   "source": [
    "for i in ls:\n",
    "    print(i)"
   ]
  },
  {
   "cell_type": "code",
   "execution_count": 4,
   "id": "6aba59bd",
   "metadata": {},
   "outputs": [
    {
     "data": {
      "text/plain": [
       "36"
      ]
     },
     "execution_count": 4,
     "metadata": {},
     "output_type": "execute_result"
    }
   ],
   "source": [
    "s=0\n",
    "for i in ls:\n",
    "    s=s+i\n",
    "s"
   ]
  },
  {
   "cell_type": "code",
   "execution_count": 26,
   "id": "8cbbf5fa",
   "metadata": {},
   "outputs": [
    {
     "data": {
      "text/plain": [
       "36"
      ]
     },
     "execution_count": 26,
     "metadata": {},
     "output_type": "execute_result"
    }
   ],
   "source": [
    "sum(ls)"
   ]
  },
  {
   "cell_type": "code",
   "execution_count": 11,
   "id": "d84e8bac",
   "metadata": {},
   "outputs": [],
   "source": [
    "marks=[90, 80, 75, 70, 60, 55]"
   ]
  },
  {
   "cell_type": "code",
   "execution_count": 12,
   "id": "b9789b33",
   "metadata": {},
   "outputs": [
    {
     "data": {
      "text/plain": [
       "[90, 80, 75, 70, 60, 55]"
      ]
     },
     "execution_count": 12,
     "metadata": {},
     "output_type": "execute_result"
    }
   ],
   "source": [
    "marks"
   ]
  },
  {
   "cell_type": "code",
   "execution_count": 13,
   "id": "7fcb2188",
   "metadata": {},
   "outputs": [
    {
     "data": {
      "text/plain": [
       "430"
      ]
     },
     "execution_count": 13,
     "metadata": {},
     "output_type": "execute_result"
    }
   ],
   "source": [
    "sum(marks)"
   ]
  },
  {
   "cell_type": "code",
   "execution_count": null,
   "id": "bc0b1fca",
   "metadata": {},
   "outputs": [],
   "source": [
    "\n",
    "m=0\n",
    "for i in maths_list:\n",
    "    m= m+i\n",
    "print (m)\n"
   ]
  },
  {
   "cell_type": "code",
   "execution_count": null,
   "id": "c3b46379",
   "metadata": {},
   "outputs": [],
   "source": [
    "print(s)"
   ]
  },
  {
   "cell_type": "code",
   "execution_count": null,
   "id": "cf42fc3b",
   "metadata": {},
   "outputs": [],
   "source": [
    "'''\n",
    "1: sum of the elements of the list \n",
    "\n",
    "\n",
    "2: product of the elements of the list\n",
    "'''"
   ]
  },
  {
   "cell_type": "code",
   "execution_count": null,
   "id": "283dd8d0",
   "metadata": {},
   "outputs": [],
   "source": [
    "a"
   ]
  },
  {
   "cell_type": "code",
   "execution_count": null,
   "id": "cb7f3df1",
   "metadata": {},
   "outputs": [],
   "source": [
    "p=1\n",
    "for i in l:\n",
    "    p = p*i\n",
    "print(p)"
   ]
  },
  {
   "cell_type": "code",
   "execution_count": null,
   "id": "65023027",
   "metadata": {},
   "outputs": [],
   "source": [
    "l1=[4,5,6,9,1]\n",
    "l2=[5,8,2,7,9]"
   ]
  },
  {
   "cell_type": "code",
   "execution_count": null,
   "id": "1b5a27df",
   "metadata": {},
   "outputs": [],
   "source": [
    "l"
   ]
  },
  {
   "cell_type": "code",
   "execution_count": null,
   "id": "902b0cc4",
   "metadata": {},
   "outputs": [],
   "source": [
    "len(l)"
   ]
  },
  {
   "cell_type": "code",
   "execution_count": null,
   "id": "6f1775e2",
   "metadata": {},
   "outputs": [],
   "source": [
    "for i in range(len(l)): #range(8), 0,1,2,3,4,5,6,7\n",
    "    print(l[i])"
   ]
  },
  {
   "cell_type": "code",
   "execution_count": null,
   "id": "8c6de5a1",
   "metadata": {},
   "outputs": [],
   "source": [
    "for i in l:\n",
    "    print(i)"
   ]
  },
  {
   "cell_type": "code",
   "execution_count": null,
   "id": "acc4bb70",
   "metadata": {},
   "outputs": [],
   "source": [
    "l1=[4,5,6,9,1]\n",
    "l2=[5,8,2,7,9]\n",
    "\n",
    "\n",
    "'''\n",
    "4   5\n",
    "5   8\n",
    "6   2\n",
    "9   7\n",
    "1   9\n",
    "\n",
    "'''\n"
   ]
  },
  {
   "cell_type": "code",
   "execution_count": null,
   "id": "340146df",
   "metadata": {},
   "outputs": [],
   "source": [
    "for i in l1:\n",
    "    print(i)"
   ]
  },
  {
   "cell_type": "code",
   "execution_count": null,
   "id": "a3803cf4",
   "metadata": {},
   "outputs": [],
   "source": [
    "for i in range(len(l1)):\n",
    "    print(l1[i], l2[i])\n"
   ]
  },
  {
   "cell_type": "code",
   "execution_count": null,
   "id": "6c3cb6f4",
   "metadata": {},
   "outputs": [],
   "source": [
    "maths_list"
   ]
  },
  {
   "cell_type": "code",
   "execution_count": 14,
   "id": "015b0db4",
   "metadata": {},
   "outputs": [],
   "source": [
    "phy_list=[85,67,88,95,68,48]\n",
    "chem_list=[95,84,75,68,90,72]\n",
    "\n",
    "# WAP to add these two list into a new list as an element\n",
    "\n",
    "#list = [[phy], [chem]]"
   ]
  },
  {
   "cell_type": "code",
   "execution_count": 15,
   "id": "5de7a2a7",
   "metadata": {},
   "outputs": [],
   "source": [
    "result = [phy_list, chem_list]"
   ]
  },
  {
   "cell_type": "code",
   "execution_count": 16,
   "id": "ebde6677",
   "metadata": {},
   "outputs": [
    {
     "data": {
      "text/plain": [
       "[[85, 67, 88, 95, 68, 48], [95, 84, 75, 68, 90, 72]]"
      ]
     },
     "execution_count": 16,
     "metadata": {},
     "output_type": "execute_result"
    }
   ],
   "source": [
    "result"
   ]
  },
  {
   "cell_type": "code",
   "execution_count": null,
   "id": "7ef22258",
   "metadata": {},
   "outputs": [],
   "source": []
  },
  {
   "cell_type": "code",
   "execution_count": null,
   "id": "92e3bbe1",
   "metadata": {},
   "outputs": [],
   "source": [
    "total_marks_list=[]\n",
    "for i in range(len(maths_list)):\n",
    "    total_marks_list.append(maths_list[i] + phy_list[i] + chem_list[i])\n",
    "    "
   ]
  },
  {
   "cell_type": "code",
   "execution_count": null,
   "id": "fa1ff9b6",
   "metadata": {},
   "outputs": [],
   "source": [
    "total_marks_list"
   ]
  },
  {
   "cell_type": "code",
   "execution_count": null,
   "id": "ff0bd3a5",
   "metadata": {},
   "outputs": [],
   "source": [
    "l=[[1,2,3,4,5,6,7,8],[8,7,6,5,4,3,2,1]]"
   ]
  },
  {
   "cell_type": "code",
   "execution_count": null,
   "id": "94dabc3a",
   "metadata": {},
   "outputs": [],
   "source": [
    "l[0][0]\n",
    "l[0][1]\n",
    "l[0][2]\n",
    "l[0][3]"
   ]
  },
  {
   "cell_type": "code",
   "execution_count": null,
   "id": "6e7970d7",
   "metadata": {},
   "outputs": [],
   "source": [
    "l[1][0]\n",
    "l[1][1]\n",
    "l[1][2]\n",
    "l[1][3]"
   ]
  },
  {
   "cell_type": "code",
   "execution_count": null,
   "id": "55e77112",
   "metadata": {},
   "outputs": [],
   "source": [
    "ls=[]\n",
    "for i in range(len(l[0])):\n",
    "    p=l[0][i] * l[1][i]\n",
    "    ls.append(p)"
   ]
  },
  {
   "cell_type": "code",
   "execution_count": null,
   "id": "66b4486d",
   "metadata": {},
   "outputs": [],
   "source": [
    "ls"
   ]
  },
  {
   "cell_type": "code",
   "execution_count": null,
   "id": "279bff8c",
   "metadata": {},
   "outputs": [],
   "source": []
  },
  {
   "cell_type": "code",
   "execution_count": null,
   "id": "3f9c7df3",
   "metadata": {},
   "outputs": [],
   "source": []
  },
  {
   "cell_type": "code",
   "execution_count": null,
   "id": "4d3fbf35",
   "metadata": {},
   "outputs": [],
   "source": []
  },
  {
   "cell_type": "code",
   "execution_count": 17,
   "id": "e97a2128",
   "metadata": {},
   "outputs": [],
   "source": [
    "l=[[1,2,3,4,5,6,7,8],[8,7,6,5,4,3,2,1]]"
   ]
  },
  {
   "cell_type": "code",
   "execution_count": 20,
   "id": "f2ed0fa4",
   "metadata": {},
   "outputs": [
    {
     "data": {
      "text/plain": [
       "1"
      ]
     },
     "execution_count": 20,
     "metadata": {},
     "output_type": "execute_result"
    }
   ],
   "source": [
    "l[0][0]"
   ]
  },
  {
   "cell_type": "code",
   "execution_count": 21,
   "id": "29260094",
   "metadata": {},
   "outputs": [
    {
     "data": {
      "text/plain": [
       "8"
      ]
     },
     "execution_count": 21,
     "metadata": {},
     "output_type": "execute_result"
    }
   ],
   "source": [
    "l[1][0]"
   ]
  },
  {
   "cell_type": "code",
   "execution_count": 24,
   "id": "e389b9cd",
   "metadata": {},
   "outputs": [
    {
     "data": {
      "text/plain": [
       "18"
      ]
     },
     "execution_count": 24,
     "metadata": {},
     "output_type": "execute_result"
    }
   ],
   "source": [
    "l[0][2] * l[1][2]"
   ]
  },
  {
   "cell_type": "code",
   "execution_count": null,
   "id": "f02430eb",
   "metadata": {},
   "outputs": [],
   "source": [
    "'''\n",
    "WAP to multiply the elements of first list with the element of second list \n",
    "having same index position. store the value inside a new list\n",
    "\n",
    "l=[[1,2,3,4,5,6,7,8],[8,7,6,5,4,3,2,1]]\n",
    "\n",
    "output=[8, 14, 18,.... ]\n",
    "\n",
    "\n",
    "'''"
   ]
  },
  {
   "cell_type": "code",
   "execution_count": 25,
   "id": "c8ebe7fe",
   "metadata": {},
   "outputs": [],
   "source": [
    "l=[[1,2,3,4,5,6,7,8],[8,7,6,5,4,3,2,1]]"
   ]
  },
  {
   "cell_type": "code",
   "execution_count": null,
   "id": "7203747d",
   "metadata": {},
   "outputs": [],
   "source": [
    "# l[0][0]\n",
    "# l[1][0]\n",
    "\n",
    "# l[0][1]\n",
    "# l[1][1]\n",
    "\n",
    "# l[0][2]\n",
    "# l[1][2]"
   ]
  },
  {
   "cell_type": "code",
   "execution_count": 26,
   "id": "3f00ce52",
   "metadata": {},
   "outputs": [],
   "source": [
    "output=[]\n",
    "for i in range(len(l[0])):\n",
    "    output.append(l[0][i] * l[1][i])"
   ]
  },
  {
   "cell_type": "code",
   "execution_count": 27,
   "id": "d76db29c",
   "metadata": {},
   "outputs": [
    {
     "data": {
      "text/plain": [
       "[8, 14, 18, 20, 20, 18, 14, 8]"
      ]
     },
     "execution_count": 27,
     "metadata": {},
     "output_type": "execute_result"
    }
   ],
   "source": [
    "output"
   ]
  },
  {
   "cell_type": "code",
   "execution_count": null,
   "id": "9667244b",
   "metadata": {},
   "outputs": [],
   "source": [
    "subject_list"
   ]
  },
  {
   "cell_type": "code",
   "execution_count": null,
   "id": "14fc2e2c",
   "metadata": {},
   "outputs": [],
   "source": [
    "total=[]\n",
    "for i in range(len(subject_list[0])):\n",
    "    total.append(subject_list[0][i] + subject_list[1][i] + subject_list[2][i])\n",
    "total"
   ]
  },
  {
   "cell_type": "code",
   "execution_count": null,
   "id": "2b500bf0",
   "metadata": {},
   "outputs": [],
   "source": [
    "l=[[1,2,3,4,5,6,7,8],[8,7,6,5,4,3,2,1]]"
   ]
  },
  {
   "cell_type": "code",
   "execution_count": null,
   "id": "ce7df6d5",
   "metadata": {},
   "outputs": [],
   "source": [
    "l[0][1]"
   ]
  },
  {
   "cell_type": "code",
   "execution_count": null,
   "id": "be44d569",
   "metadata": {},
   "outputs": [],
   "source": [
    "l[1][1]"
   ]
  },
  {
   "cell_type": "code",
   "execution_count": null,
   "id": "02a306db",
   "metadata": {},
   "outputs": [],
   "source": [
    "x=5"
   ]
  },
  {
   "cell_type": "code",
   "execution_count": null,
   "id": "acffa876",
   "metadata": {},
   "outputs": [],
   "source": [
    "x+5"
   ]
  },
  {
   "cell_type": "code",
   "execution_count": null,
   "id": "47ead8ae",
   "metadata": {},
   "outputs": [],
   "source": [
    "x=x+5"
   ]
  },
  {
   "cell_type": "code",
   "execution_count": null,
   "id": "06821b70",
   "metadata": {},
   "outputs": [],
   "source": [
    "x"
   ]
  },
  {
   "cell_type": "code",
   "execution_count": null,
   "id": "9789f0d2",
   "metadata": {},
   "outputs": [],
   "source": [
    "s=s+i"
   ]
  },
  {
   "cell_type": "code",
   "execution_count": null,
   "id": "ae1a0a19",
   "metadata": {},
   "outputs": [],
   "source": [
    "length=len(l[0])\n",
    "l2=[]\n",
    "for i in range(length):\n",
    "    product = l[0][i] * l[1][i]\n",
    "    l2.append(product)\n",
    "    "
   ]
  },
  {
   "cell_type": "code",
   "execution_count": null,
   "id": "93598cf5",
   "metadata": {},
   "outputs": [],
   "source": [
    "l2"
   ]
  },
  {
   "cell_type": "code",
   "execution_count": null,
   "id": "f6b2bf02",
   "metadata": {},
   "outputs": [],
   "source": []
  },
  {
   "cell_type": "code",
   "execution_count": null,
   "id": "ae414776",
   "metadata": {},
   "outputs": [],
   "source": [
    "l=[1,2,3,4,5,6]\n",
    "s=0\n",
    "for i in l:\n",
    "    s=s+i\n",
    "print(s)"
   ]
  },
  {
   "cell_type": "code",
   "execution_count": null,
   "id": "6687ad9d",
   "metadata": {},
   "outputs": [],
   "source": [
    "sum(l)"
   ]
  },
  {
   "cell_type": "code",
   "execution_count": null,
   "id": "6964a29f",
   "metadata": {},
   "outputs": [],
   "source": [
    "l=[1,2,3,4,5,6]\n",
    "p=1\n",
    "for i in l:\n",
    "    p=p*i\n",
    "print(p)"
   ]
  },
  {
   "cell_type": "code",
   "execution_count": null,
   "id": "59087027",
   "metadata": {},
   "outputs": [],
   "source": [
    "len(a)"
   ]
  },
  {
   "cell_type": "code",
   "execution_count": null,
   "id": "fc6adacc",
   "metadata": {},
   "outputs": [],
   "source": [
    "b=0\n",
    "for i in range(0,len(a)):\n",
    "    b=b+a[i]\n",
    "print(b)"
   ]
  },
  {
   "cell_type": "code",
   "execution_count": null,
   "id": "f8a1e36b",
   "metadata": {},
   "outputs": [],
   "source": [
    "len(a)"
   ]
  },
  {
   "cell_type": "code",
   "execution_count": null,
   "id": "49434845",
   "metadata": {},
   "outputs": [],
   "source": [
    "sum(a)"
   ]
  },
  {
   "cell_type": "code",
   "execution_count": null,
   "id": "c1f1a751",
   "metadata": {},
   "outputs": [],
   "source": [
    "maths_list"
   ]
  },
  {
   "cell_type": "code",
   "execution_count": null,
   "id": "5d3de39a",
   "metadata": {},
   "outputs": [],
   "source": [
    "sum(maths_list)"
   ]
  },
  {
   "cell_type": "code",
   "execution_count": null,
   "id": "d5db664d",
   "metadata": {},
   "outputs": [],
   "source": [
    "hetro_list=[1,2,4,'apple',5, 6]"
   ]
  },
  {
   "cell_type": "code",
   "execution_count": null,
   "id": "9c0c1923",
   "metadata": {},
   "outputs": [],
   "source": [
    "type(hetro_list)"
   ]
  },
  {
   "cell_type": "code",
   "execution_count": null,
   "id": "3d0460ba",
   "metadata": {},
   "outputs": [],
   "source": [
    "sum(hetro_list)"
   ]
  },
  {
   "cell_type": "code",
   "execution_count": null,
   "id": "66254d28",
   "metadata": {},
   "outputs": [],
   "source": [
    "maths_list"
   ]
  },
  {
   "cell_type": "code",
   "execution_count": null,
   "id": "64ecca4a",
   "metadata": {},
   "outputs": [],
   "source": [
    "l=[[1,2,3,4],[4,3,2,1]]\n",
    "ls=[]\n",
    "for i in range(len(l[0])):\n",
    "    p=l[0][i]*l[1][i]\n",
    "    ls.append(p)\n"
   ]
  },
  {
   "cell_type": "code",
   "execution_count": null,
   "id": "bc05d025",
   "metadata": {},
   "outputs": [],
   "source": [
    "'''\n",
    "\n",
    "#compute avg of maths marks without using sum function.\n",
    "\n",
    "avg=(sum of elements)/Number of elements\n",
    "\n",
    "'''\n"
   ]
  },
  {
   "cell_type": "code",
   "execution_count": 28,
   "id": "646dffb3",
   "metadata": {},
   "outputs": [
    {
     "data": {
      "text/plain": [
       "[90, 80, 75, 70, 60, 55]"
      ]
     },
     "execution_count": 28,
     "metadata": {},
     "output_type": "execute_result"
    }
   ],
   "source": [
    "marks"
   ]
  },
  {
   "cell_type": "code",
   "execution_count": 29,
   "id": "e4792176",
   "metadata": {},
   "outputs": [],
   "source": [
    "maths_marks=[66,\n",
    "84,\n",
    "32,\n",
    "97,\n",
    "76,\n",
    "68,\n",
    "84,\n",
    "54]\n"
   ]
  },
  {
   "cell_type": "code",
   "execution_count": 30,
   "id": "8e8f69d9",
   "metadata": {},
   "outputs": [
    {
     "data": {
      "text/plain": [
       "70.125"
      ]
     },
     "execution_count": 30,
     "metadata": {},
     "output_type": "execute_result"
    }
   ],
   "source": [
    "sum(maths_marks)/len(maths_marks)"
   ]
  },
  {
   "cell_type": "code",
   "execution_count": null,
   "id": "2ce8d625",
   "metadata": {},
   "outputs": [],
   "source": [
    "s=0\n",
    "for i in maths_marks:\n",
    "    s=s+i\n",
    "    \n",
    "print(s/len(maths_marks))\n"
   ]
  },
  {
   "cell_type": "code",
   "execution_count": 31,
   "id": "ead2b81c",
   "metadata": {},
   "outputs": [
    {
     "name": "stdout",
     "output_type": "stream",
     "text": [
      "70.125\n"
     ]
    }
   ],
   "source": [
    "s=0\n",
    "count=0\n",
    "for i in maths_marks:\n",
    "    s=s+i\n",
    "    count=count+1\n",
    "    \n",
    "avg=s/count\n",
    "print(avg)"
   ]
  },
  {
   "cell_type": "code",
   "execution_count": null,
   "id": "b7c5beec",
   "metadata": {},
   "outputs": [],
   "source": [
    "sum(maths_marks)"
   ]
  },
  {
   "cell_type": "code",
   "execution_count": null,
   "id": "de190592",
   "metadata": {},
   "outputs": [],
   "source": [
    "len(maths_marks)"
   ]
  },
  {
   "cell_type": "code",
   "execution_count": null,
   "id": "f0c2a39c",
   "metadata": {},
   "outputs": [],
   "source": [
    "sum(maths_marks)/len(maths_marks)"
   ]
  },
  {
   "cell_type": "code",
   "execution_count": null,
   "id": "f072636a",
   "metadata": {},
   "outputs": [],
   "source": [
    "maths_marks"
   ]
  },
  {
   "cell_type": "code",
   "execution_count": null,
   "id": "3788f66f",
   "metadata": {},
   "outputs": [],
   "source": [
    "sum_maths=sum(maths_marks)\n",
    "\n",
    "no_of_marks=len(maths_marks)"
   ]
  },
  {
   "cell_type": "code",
   "execution_count": null,
   "id": "b59b2aa1",
   "metadata": {},
   "outputs": [],
   "source": [
    "Avg_maths=sum_maths/no_of_marks"
   ]
  },
  {
   "cell_type": "code",
   "execution_count": null,
   "id": "156b05ba",
   "metadata": {},
   "outputs": [],
   "source": [
    "Avg_maths"
   ]
  },
  {
   "cell_type": "code",
   "execution_count": null,
   "id": "c2ccd8ef",
   "metadata": {},
   "outputs": [],
   "source": [
    "maths_marks"
   ]
  },
  {
   "cell_type": "markdown",
   "id": "867511ff",
   "metadata": {},
   "source": [
    "# max and min of list"
   ]
  },
  {
   "cell_type": "code",
   "execution_count": null,
   "id": "b437ee5b",
   "metadata": {},
   "outputs": [],
   "source": [
    "numbers = [66,84,32,97,76,68,84,54]"
   ]
  },
  {
   "cell_type": "code",
   "execution_count": null,
   "id": "2afa2fe5",
   "metadata": {},
   "outputs": [],
   "source": [
    "# min =?"
   ]
  },
  {
   "cell_type": "code",
   "execution_count": null,
   "id": "9c50cac9",
   "metadata": {},
   "outputs": [],
   "source": [
    "largest = numbers[0] #66\n",
    "\n",
    "for num in numbers:\n",
    "    if num > largest:\n",
    "        largest = num\n",
    "        \n",
    "print(largest)"
   ]
  },
  {
   "cell_type": "code",
   "execution_count": null,
   "id": "ed1cbf56",
   "metadata": {},
   "outputs": [],
   "source": [
    "numbers = [66,84,32,97,76,68,84,54]\n",
    "smallest = numbers[0] #66\n",
    "\n",
    "for num in numbers:\n",
    "    if num < smallest:\n",
    "        smallest = num\n",
    "print(smallest)\n"
   ]
  },
  {
   "cell_type": "code",
   "execution_count": null,
   "id": "80ca5bb5",
   "metadata": {},
   "outputs": [],
   "source": []
  },
  {
   "cell_type": "code",
   "execution_count": null,
   "id": "ce08d3c6",
   "metadata": {},
   "outputs": [],
   "source": [
    "max(maths_marks)"
   ]
  },
  {
   "cell_type": "code",
   "execution_count": null,
   "id": "a78292d1",
   "metadata": {},
   "outputs": [],
   "source": [
    "min(maths_marks)"
   ]
  },
  {
   "cell_type": "code",
   "execution_count": null,
   "id": "4ebd1f3f",
   "metadata": {},
   "outputs": [],
   "source": [
    "math_marks=[66,84,32,97,76,68,84,54]"
   ]
  },
  {
   "cell_type": "code",
   "execution_count": null,
   "id": "b0c923c2",
   "metadata": {},
   "outputs": [],
   "source": [
    "'''\n",
    "\n",
    "WAP to find the minimum element from the list.\n",
    "\n",
    "'''"
   ]
  },
  {
   "cell_type": "code",
   "execution_count": null,
   "id": "25668b4b",
   "metadata": {},
   "outputs": [],
   "source": [
    "l=[9999999991254,99999999912541,99999999912545,99999999912545]\n",
    "min_num=maths_marks[1]\n",
    "for i in maths_marks:\n",
    "    if i<min_num:\n",
    "        min_num=i\n",
    "print(min_num)\n"
   ]
  },
  {
   "cell_type": "code",
   "execution_count": null,
   "id": "7e39cb4c",
   "metadata": {},
   "outputs": [],
   "source": [
    "math_marks=[9999999991254,99999999912541,99999999912545,99999999912545]\n",
    "min_num=999999999\n",
    "for i in math_marks:\n",
    "    if(i<min_num):\n",
    "        min_num=i\n",
    "print(min_num)\n"
   ]
  },
  {
   "cell_type": "code",
   "execution_count": null,
   "id": "8945a122",
   "metadata": {},
   "outputs": [],
   "source": [
    "l=[654,656,952,354,51]\n",
    "m=l[0]\n",
    "for i in l:\n",
    "    if (i>m):\n",
    "        m=i       \n",
    "print(m)\n"
   ]
  },
  {
   "cell_type": "code",
   "execution_count": null,
   "id": "c384a950",
   "metadata": {},
   "outputs": [],
   "source": [
    "l=[654,656,952,354,51]"
   ]
  },
  {
   "cell_type": "code",
   "execution_count": null,
   "id": "cd1be3d9",
   "metadata": {},
   "outputs": [],
   "source": [
    "min(l)"
   ]
  },
  {
   "cell_type": "code",
   "execution_count": null,
   "id": "4678129d",
   "metadata": {},
   "outputs": [],
   "source": [
    "max(l)"
   ]
  },
  {
   "cell_type": "code",
   "execution_count": null,
   "id": "cce7a3fe",
   "metadata": {},
   "outputs": [],
   "source": []
  },
  {
   "cell_type": "code",
   "execution_count": null,
   "id": "f9e949a3",
   "metadata": {},
   "outputs": [],
   "source": []
  },
  {
   "cell_type": "code",
   "execution_count": null,
   "id": "2c81d4aa",
   "metadata": {},
   "outputs": [],
   "source": [
    "n=int(input())\n",
    "if n%2==0:\n",
    "    print('even')\n",
    "else:\n",
    "    print('odd')"
   ]
  },
  {
   "cell_type": "code",
   "execution_count": null,
   "id": "230e1b79",
   "metadata": {},
   "outputs": [],
   "source": [
    "'''\n",
    "variable\n",
    "input\n",
    "conditional\n",
    "modulo\n",
    "comparison\n",
    "print\n",
    "'''"
   ]
  },
  {
   "cell_type": "code",
   "execution_count": null,
   "id": "c696f59e",
   "metadata": {},
   "outputs": [],
   "source": []
  },
  {
   "cell_type": "code",
   "execution_count": null,
   "id": "0d7dba53",
   "metadata": {},
   "outputs": [],
   "source": []
  },
  {
   "cell_type": "code",
   "execution_count": null,
   "id": "ef9e5f2b",
   "metadata": {},
   "outputs": [],
   "source": [
    "'''\n",
    "\n",
    "WAP to find the max element from the list\n",
    "\n",
    "'''\n",
    "\n"
   ]
  },
  {
   "cell_type": "code",
   "execution_count": null,
   "id": "d8a867c1",
   "metadata": {},
   "outputs": [],
   "source": [
    "l=[2,4,5,6,7]\n",
    "max_num=l[2]\n",
    "for i in l:\n",
    "    if (i>max_num):\n",
    "        max_num=i\n",
    "print(max_num)\n",
    "\n",
    "############\n",
    "\n",
    "x=[2,4,5,6,7,6,2]\n",
    "count=0\n",
    "target=2\n",
    "for i in x:\n",
    "    if i == target:\n",
    "        count +=1              \n",
    "print(count)\n",
    "\n",
    "###############\n",
    "\n",
    "l=[9999999991254,99999999912541,99999999912545,99999999912545]\n",
    "min_num=l[1]\n",
    "for i in l:\n",
    "    if i<min_num:\n",
    "        min_num=i\n",
    "print(min_num)"
   ]
  },
  {
   "cell_type": "code",
   "execution_count": null,
   "id": "50fb189e",
   "metadata": {},
   "outputs": [],
   "source": []
  },
  {
   "cell_type": "code",
   "execution_count": null,
   "id": "aaf6ce19",
   "metadata": {},
   "outputs": [],
   "source": []
  },
  {
   "cell_type": "code",
   "execution_count": null,
   "id": "b9c56ee1",
   "metadata": {},
   "outputs": [],
   "source": []
  },
  {
   "cell_type": "code",
   "execution_count": null,
   "id": "4e59d2cc",
   "metadata": {},
   "outputs": [],
   "source": [
    "maths_marks"
   ]
  },
  {
   "cell_type": "code",
   "execution_count": null,
   "id": "3dfc56cd",
   "metadata": {},
   "outputs": [],
   "source": [
    "highest_value=-999999999999999\n",
    "for i in maths_marks:\n",
    "    if i>highest_value: #66\n",
    "        highest_value=i #97\n",
    "        \n",
    "print(highest_value)    \n",
    "    "
   ]
  },
  {
   "cell_type": "code",
   "execution_count": null,
   "id": "4202d3ab",
   "metadata": {},
   "outputs": [],
   "source": [
    "maths_marks=[66,\n",
    "84,\n",
    "32,\n",
    "97,\n",
    "76,\n",
    "68,\n",
    "84,\n",
    "54, \n",
    "-1,\n",
    "-2,-10]"
   ]
  },
  {
   "cell_type": "code",
   "execution_count": null,
   "id": "d429411d",
   "metadata": {},
   "outputs": [],
   "source": []
  },
  {
   "cell_type": "code",
   "execution_count": null,
   "id": "b43985dd",
   "metadata": {},
   "outputs": [],
   "source": [
    "lowest_value=100000000 # dummy value \n",
    "for i in maths_marks:\n",
    "    if i<lowest_value:\n",
    "        lowest_value=i\n",
    "        \n",
    "print(lowest_value)    \n",
    "    "
   ]
  },
  {
   "cell_type": "markdown",
   "id": "5427a157",
   "metadata": {},
   "source": [
    "# Count the  number of Occurence of element"
   ]
  },
  {
   "cell_type": "code",
   "execution_count": null,
   "id": "288ad3fa",
   "metadata": {},
   "outputs": [],
   "source": [
    "x=[1,2,3,4,2,3,4,1,2,3,4,4,4,2,1,2,3,4,2,1,3,1,2]  #2 TARGET"
   ]
  },
  {
   "cell_type": "code",
   "execution_count": 36,
   "id": "8b03728c",
   "metadata": {},
   "outputs": [
    {
     "name": "stdout",
     "output_type": "stream",
     "text": [
      "Enter the number to check the occurence: 2\n",
      "3\n"
     ]
    }
   ],
   "source": [
    "l=[1,2,3,4,3,4,5,1,2,3,5,4,3,2]\n",
    "num=int(input('Enter the number to check the occurence: '))\n",
    "count=0\n",
    "for i in l:\n",
    "    if(i==num):\n",
    "        count+=1\n",
    "print(count)\n"
   ]
  },
  {
   "cell_type": "code",
   "execution_count": 35,
   "id": "c5d77b1b",
   "metadata": {},
   "outputs": [
    {
     "data": {
      "text/plain": [
       "3"
      ]
     },
     "execution_count": 35,
     "metadata": {},
     "output_type": "execute_result"
    }
   ],
   "source": [
    "#list.count('element')\n",
    "l.count(2)"
   ]
  },
  {
   "cell_type": "code",
   "execution_count": null,
   "id": "c44814e1",
   "metadata": {},
   "outputs": [],
   "source": [
    "len(x)"
   ]
  },
  {
   "cell_type": "code",
   "execution_count": null,
   "id": "527d6485",
   "metadata": {},
   "outputs": [],
   "source": [
    "count=0\n",
    "target=2\n",
    "for i in x:\n",
    "    if i == target:\n",
    "        count +=1              \n",
    "print(count)"
   ]
  },
  {
   "cell_type": "code",
   "execution_count": null,
   "id": "719dc823",
   "metadata": {},
   "outputs": [],
   "source": [
    "y=set(x)\n",
    "for i in y:\n",
    "    \n",
    "    print('element:',i, 'count:', x.count(i) )"
   ]
  },
  {
   "cell_type": "code",
   "execution_count": null,
   "id": "50f8a10c",
   "metadata": {},
   "outputs": [],
   "source": [
    "y"
   ]
  },
  {
   "cell_type": "code",
   "execution_count": null,
   "id": "69b7ea7d",
   "metadata": {},
   "outputs": [],
   "source": [
    "'''\n",
    "list.count('element')\n",
    "\n",
    "'''\n",
    "\n",
    "\n",
    "x.count(1)"
   ]
  },
  {
   "cell_type": "code",
   "execution_count": 37,
   "id": "e8c01679",
   "metadata": {},
   "outputs": [],
   "source": [
    "maths_marks=[25,84,65,74,95,38,75]"
   ]
  },
  {
   "cell_type": "code",
   "execution_count": null,
   "id": "ab932bc4",
   "metadata": {},
   "outputs": [],
   "source": []
  },
  {
   "cell_type": "code",
   "execution_count": 39,
   "id": "d3719ec5",
   "metadata": {},
   "outputs": [
    {
     "data": {
      "text/plain": [
       "[95, 84, 75, 74, 65, 38, 25]"
      ]
     },
     "execution_count": 39,
     "metadata": {},
     "output_type": "execute_result"
    }
   ],
   "source": [
    "sorted(maths_marks, reverse=True)"
   ]
  },
  {
   "cell_type": "code",
   "execution_count": null,
   "id": "18f80ff9",
   "metadata": {},
   "outputs": [],
   "source": [
    "l=sorted(maths_marks)"
   ]
  },
  {
   "cell_type": "code",
   "execution_count": null,
   "id": "714a76f8",
   "metadata": {},
   "outputs": [],
   "source": [
    "maths_marks"
   ]
  },
  {
   "cell_type": "code",
   "execution_count": null,
   "id": "a53a7938",
   "metadata": {},
   "outputs": [],
   "source": [
    "m=sorted(maths_marks, reverse=True)"
   ]
  },
  {
   "cell_type": "code",
   "execution_count": null,
   "id": "d77c0a5e",
   "metadata": {},
   "outputs": [],
   "source": [
    "l"
   ]
  },
  {
   "cell_type": "code",
   "execution_count": null,
   "id": "bc768159",
   "metadata": {},
   "outputs": [],
   "source": [
    "m"
   ]
  },
  {
   "cell_type": "code",
   "execution_count": null,
   "id": "e696c804",
   "metadata": {},
   "outputs": [],
   "source": [
    "min(maths_marks)"
   ]
  },
  {
   "cell_type": "code",
   "execution_count": null,
   "id": "c0cdd4af",
   "metadata": {},
   "outputs": [],
   "source": [
    "max(maths_marks)"
   ]
  },
  {
   "cell_type": "code",
   "execution_count": null,
   "id": "41dc6e8e",
   "metadata": {},
   "outputs": [],
   "source": [
    "maths_marks.reverse()"
   ]
  },
  {
   "cell_type": "code",
   "execution_count": null,
   "id": "a85bc4df",
   "metadata": {},
   "outputs": [],
   "source": [
    "maths_marks"
   ]
  },
  {
   "cell_type": "code",
   "execution_count": null,
   "id": "5c929e89",
   "metadata": {},
   "outputs": [],
   "source": []
  },
  {
   "cell_type": "code",
   "execution_count": null,
   "id": "d507eb97",
   "metadata": {},
   "outputs": [],
   "source": []
  },
  {
   "cell_type": "code",
   "execution_count": null,
   "id": "309060df",
   "metadata": {},
   "outputs": [],
   "source": [
    "m[-1]"
   ]
  },
  {
   "cell_type": "code",
   "execution_count": null,
   "id": "1485d4e4",
   "metadata": {},
   "outputs": [],
   "source": [
    "m[0]"
   ]
  },
  {
   "cell_type": "code",
   "execution_count": null,
   "id": "eabda232",
   "metadata": {},
   "outputs": [],
   "source": [
    "maths_marks=[95,84,75,62,65,35,12,48,96]"
   ]
  },
  {
   "cell_type": "code",
   "execution_count": null,
   "id": "696128ad",
   "metadata": {},
   "outputs": [],
   "source": [
    "sorted(maths_marks)"
   ]
  },
  {
   "cell_type": "code",
   "execution_count": null,
   "id": "3bb769cf",
   "metadata": {},
   "outputs": [],
   "source": [
    "sorted(maths_marks, reverse=True)"
   ]
  },
  {
   "cell_type": "code",
   "execution_count": null,
   "id": "22707946",
   "metadata": {},
   "outputs": [],
   "source": [
    "n"
   ]
  },
  {
   "cell_type": "code",
   "execution_count": null,
   "id": "4f0f585a",
   "metadata": {},
   "outputs": [],
   "source": [
    "maths_marks"
   ]
  },
  {
   "cell_type": "code",
   "execution_count": null,
   "id": "89f20932",
   "metadata": {},
   "outputs": [],
   "source": [
    "maths_marks[0]=85"
   ]
  },
  {
   "cell_type": "code",
   "execution_count": null,
   "id": "5750991b",
   "metadata": {},
   "outputs": [],
   "source": [
    "maths_marks=[85, 84, 75, 62, 65, 35, 12, 48, 96]"
   ]
  },
  {
   "cell_type": "code",
   "execution_count": null,
   "id": "b310f49a",
   "metadata": {},
   "outputs": [],
   "source": [
    "'''\n",
    "I wants to  swap the first element with the last element\n",
    "\n",
    "l=[1,2,3,4,5]\n",
    "\n",
    "l[3]=l[2]\n",
    "\n",
    "l[3]=3\n",
    "\n",
    "'''"
   ]
  },
  {
   "cell_type": "code",
   "execution_count": null,
   "id": "82d2206a",
   "metadata": {},
   "outputs": [],
   "source": [
    "x=5\n",
    "y=10"
   ]
  },
  {
   "cell_type": "code",
   "execution_count": null,
   "id": "72c80c9e",
   "metadata": {},
   "outputs": [],
   "source": [
    "temp=x\n",
    "x=y\n",
    "y=temp\n",
    "\n",
    "\n",
    "print('x=',x)\n",
    "print('y=',y)"
   ]
  },
  {
   "cell_type": "code",
   "execution_count": null,
   "id": "dc4aafa7",
   "metadata": {},
   "outputs": [],
   "source": [
    "temp=maths_marks[0]\n",
    "maths_marks[0]=maths_marks[-1]\n",
    "maths_marks"
   ]
  },
  {
   "cell_type": "code",
   "execution_count": null,
   "id": "e65f9a29",
   "metadata": {},
   "outputs": [],
   "source": [
    "maths_marks[-1]=temp\n",
    "maths_marks"
   ]
  },
  {
   "cell_type": "code",
   "execution_count": null,
   "id": "01babb3b",
   "metadata": {},
   "outputs": [],
   "source": []
  },
  {
   "cell_type": "code",
   "execution_count": null,
   "id": "bc8b136a",
   "metadata": {},
   "outputs": [],
   "source": []
  },
  {
   "cell_type": "code",
   "execution_count": null,
   "id": "ac16b12d",
   "metadata": {},
   "outputs": [],
   "source": []
  },
  {
   "cell_type": "code",
   "execution_count": null,
   "id": "070ce793",
   "metadata": {},
   "outputs": [],
   "source": []
  },
  {
   "cell_type": "code",
   "execution_count": null,
   "id": "8d45e7c3",
   "metadata": {},
   "outputs": [],
   "source": [
    "maths_marks"
   ]
  },
  {
   "cell_type": "code",
   "execution_count": null,
   "id": "fcafb401",
   "metadata": {},
   "outputs": [],
   "source": [
    "maths_marks[-1]"
   ]
  },
  {
   "cell_type": "code",
   "execution_count": null,
   "id": "56c330e9",
   "metadata": {},
   "outputs": [],
   "source": [
    "maths_marks[0]=maths_marks[-1]"
   ]
  },
  {
   "cell_type": "code",
   "execution_count": null,
   "id": "620cc9f0",
   "metadata": {},
   "outputs": [],
   "source": [
    "maths_marks"
   ]
  },
  {
   "cell_type": "code",
   "execution_count": null,
   "id": "11d87bae",
   "metadata": {},
   "outputs": [],
   "source": [
    "temp=maths_marks[-1] #25"
   ]
  },
  {
   "cell_type": "code",
   "execution_count": null,
   "id": "bd511aa1",
   "metadata": {},
   "outputs": [],
   "source": [
    "maths_marks[-1]=maths_marks[0] "
   ]
  },
  {
   "cell_type": "code",
   "execution_count": null,
   "id": "6c64bf5c",
   "metadata": {},
   "outputs": [],
   "source": [
    "maths_marks[0]=temp"
   ]
  },
  {
   "cell_type": "code",
   "execution_count": null,
   "id": "39fca85d",
   "metadata": {},
   "outputs": [],
   "source": [
    "maths_marks"
   ]
  },
  {
   "cell_type": "code",
   "execution_count": null,
   "id": "7f21116a",
   "metadata": {},
   "outputs": [],
   "source": [
    "maths_marks[0]=10"
   ]
  },
  {
   "cell_type": "code",
   "execution_count": null,
   "id": "181cf05c",
   "metadata": {},
   "outputs": [],
   "source": [
    "maths_marks"
   ]
  },
  {
   "cell_type": "code",
   "execution_count": null,
   "id": "b075f336",
   "metadata": {},
   "outputs": [],
   "source": [
    "sample = [('martin', 80), ('caesar', 90), ('suvo', 75)]\n",
    "print('  sorted', sorted(sample))\n",
    "print('with key', sorted(sample, key=lambda x: x[1]))"
   ]
  },
  {
   "cell_type": "code",
   "execution_count": null,
   "id": "b7f407a3",
   "metadata": {},
   "outputs": [],
   "source": [
    "sorted(\"This is a test string from Andrew\".split())"
   ]
  },
  {
   "cell_type": "code",
   "execution_count": null,
   "id": "42db5436",
   "metadata": {},
   "outputs": [],
   "source": [
    "sorted(\"This is a test string from Andrew\".split(), key=str.lower)"
   ]
  },
  {
   "cell_type": "code",
   "execution_count": null,
   "id": "04cfa95f",
   "metadata": {},
   "outputs": [],
   "source": [
    "l = [4,6,7,9,4,3,2,1,5,0]\n",
    "for i in range(len(l)):\n",
    "    for j in range(i+1, len(l)):\n",
    "        if l[i] > l[j]:\n",
    "            l[i],l[j] = l[j], l[i]\n",
    "print(l)\n"
   ]
  },
  {
   "cell_type": "code",
   "execution_count": null,
   "id": "29367815",
   "metadata": {},
   "outputs": [],
   "source": [
    "l=[12,34,56,23,78]\n",
    "new_list=[]\n",
    "\n",
    "while l:\n",
    "    min=l[0]\n",
    "    for i in l:\n",
    "        if i < min:\n",
    "            min = i\n",
    "    new_list.append(min)  \n",
    "    l.remove(min)\n",
    "        \n",
    "print(new_list)\n"
   ]
  },
  {
   "cell_type": "code",
   "execution_count": null,
   "id": "e762fe73",
   "metadata": {},
   "outputs": [],
   "source": []
  },
  {
   "cell_type": "code",
   "execution_count": null,
   "id": "472d1428",
   "metadata": {},
   "outputs": [],
   "source": []
  },
  {
   "cell_type": "code",
   "execution_count": null,
   "id": "6b1921ce",
   "metadata": {},
   "outputs": [],
   "source": []
  },
  {
   "cell_type": "code",
   "execution_count": null,
   "id": "27d60d72",
   "metadata": {},
   "outputs": [],
   "source": []
  },
  {
   "cell_type": "code",
   "execution_count": null,
   "id": "b58909d6",
   "metadata": {},
   "outputs": [],
   "source": []
  },
  {
   "cell_type": "code",
   "execution_count": null,
   "id": "5e6b6089",
   "metadata": {},
   "outputs": [],
   "source": [
    "maths_marks"
   ]
  },
  {
   "cell_type": "code",
   "execution_count": null,
   "id": "616cf125",
   "metadata": {},
   "outputs": [],
   "source": [
    "marks=[66,84,32,97,76,68,84,54]\n",
    "\n",
    "length=len(marks)\n",
    "temp=0\n",
    "new_list=[]\n",
    "for i in range(0, length):\n",
    "    for j in range(i+1, length):\n",
    "        if(marks[i]>marks[j]):\n",
    "            temp=marks[i]\n",
    "            marks[i]=marks[j]\n",
    "            marks[j]=temp\n",
    "    new_list.append(marks[i])\n",
    "print(new_list)"
   ]
  },
  {
   "cell_type": "code",
   "execution_count": null,
   "id": "56586d44",
   "metadata": {},
   "outputs": [],
   "source": [
    "marks=[66,84,32,97,76,68,84,54]\n",
    "length=len(marks)\n",
    "new_list=[]\n",
    "count=0\n",
    "while count<length:\n",
    "    low_val=min(marks)\n",
    "    new_list.append(low_val)\n",
    "    marks.remove(low_val)\n",
    "    count+=1\n",
    "print(new_list)"
   ]
  },
  {
   "cell_type": "markdown",
   "id": "39cbce83",
   "metadata": {},
   "source": [
    "# indexing or Slicing"
   ]
  },
  {
   "cell_type": "code",
   "execution_count": null,
   "id": "039b30a8",
   "metadata": {},
   "outputs": [],
   "source": [
    "marks=[32, 54, 66, 68, 76, 84, 97, 23, 234]\n",
    "#marks"
   ]
  },
  {
   "cell_type": "code",
   "execution_count": null,
   "id": "ee6c0a28",
   "metadata": {},
   "outputs": [],
   "source": [
    "'''\n",
    "slicing ':'   colon is called as a slicing oeprator\n",
    "\n",
    "slicing operator works exactly similar to the parameter of the range function. it will take index\n",
    "\n",
    "range(start, stop, step size)\n",
    "\n",
    "\n",
    "list[start : stop(n-1) : step size]\n",
    "\n",
    "'''\n"
   ]
  },
  {
   "cell_type": "code",
   "execution_count": null,
   "id": "fbf0c109",
   "metadata": {},
   "outputs": [],
   "source": [
    "marks[0:4]"
   ]
  },
  {
   "cell_type": "code",
   "execution_count": null,
   "id": "48eb6483",
   "metadata": {},
   "outputs": [],
   "source": [
    "marks[3:7]"
   ]
  },
  {
   "cell_type": "code",
   "execution_count": null,
   "id": "7dca5e67",
   "metadata": {},
   "outputs": [],
   "source": [
    "marks[0:8:2]"
   ]
  },
  {
   "cell_type": "code",
   "execution_count": null,
   "id": "ad3800ca",
   "metadata": {},
   "outputs": [],
   "source": [
    "marks"
   ]
  },
  {
   "cell_type": "code",
   "execution_count": null,
   "id": "f45304b2",
   "metadata": {},
   "outputs": [],
   "source": [
    "marks[::-1] #reverse the list"
   ]
  },
  {
   "cell_type": "code",
   "execution_count": null,
   "id": "6c14c363",
   "metadata": {},
   "outputs": [],
   "source": [
    "marks[-1: -5 :-1]"
   ]
  },
  {
   "cell_type": "code",
   "execution_count": null,
   "id": "04dc4cff",
   "metadata": {},
   "outputs": [],
   "source": []
  },
  {
   "cell_type": "code",
   "execution_count": null,
   "id": "7d98c953",
   "metadata": {},
   "outputs": [],
   "source": [
    "marks"
   ]
  },
  {
   "cell_type": "code",
   "execution_count": null,
   "id": "21936530",
   "metadata": {},
   "outputs": [],
   "source": [
    "marks[2:6]"
   ]
  },
  {
   "cell_type": "code",
   "execution_count": null,
   "id": "8ab1c0c2",
   "metadata": {},
   "outputs": [],
   "source": [
    "marks[5:9]"
   ]
  },
  {
   "cell_type": "code",
   "execution_count": null,
   "id": "b3dcd55d",
   "metadata": {},
   "outputs": [],
   "source": [
    "marks[0:7:2]"
   ]
  },
  {
   "cell_type": "code",
   "execution_count": null,
   "id": "83ef95ea",
   "metadata": {},
   "outputs": [],
   "source": [
    "marks"
   ]
  },
  {
   "cell_type": "code",
   "execution_count": null,
   "id": "32d706fb",
   "metadata": {
    "scrolled": false
   },
   "outputs": [],
   "source": [
    "marks[:5]"
   ]
  },
  {
   "cell_type": "code",
   "execution_count": null,
   "id": "03d1ad38",
   "metadata": {},
   "outputs": [],
   "source": [
    "marks[2:]"
   ]
  },
  {
   "cell_type": "code",
   "execution_count": null,
   "id": "caf37b71",
   "metadata": {},
   "outputs": [],
   "source": [
    "marks[2:100:]"
   ]
  },
  {
   "cell_type": "code",
   "execution_count": null,
   "id": "f2ceec9d",
   "metadata": {},
   "outputs": [],
   "source": [
    "marks[2::2]"
   ]
  },
  {
   "cell_type": "code",
   "execution_count": null,
   "id": "59affc1d",
   "metadata": {},
   "outputs": [],
   "source": [
    "l=[8,2,7,9,4,6,3,8,4,7,1,5,9,3,1]"
   ]
  },
  {
   "cell_type": "code",
   "execution_count": null,
   "id": "e44d39a7",
   "metadata": {},
   "outputs": [],
   "source": [
    "'''\n",
    "\n",
    "fourth element to 10th element\n",
    "\n",
    "I want the elments at odd positions\n",
    "\n",
    "'''"
   ]
  },
  {
   "cell_type": "code",
   "execution_count": null,
   "id": "8683ebff",
   "metadata": {},
   "outputs": [],
   "source": [
    "l[1::2]"
   ]
  },
  {
   "cell_type": "code",
   "execution_count": null,
   "id": "e0080c22",
   "metadata": {},
   "outputs": [],
   "source": [
    "marks"
   ]
  },
  {
   "cell_type": "code",
   "execution_count": null,
   "id": "ace7780d",
   "metadata": {},
   "outputs": [],
   "source": []
  },
  {
   "cell_type": "code",
   "execution_count": null,
   "id": "1655cded",
   "metadata": {},
   "outputs": [],
   "source": [
    "marks[-1:-8:-1]"
   ]
  },
  {
   "cell_type": "code",
   "execution_count": null,
   "id": "8fd69fb2",
   "metadata": {},
   "outputs": [],
   "source": [
    "marks[::-1]"
   ]
  },
  {
   "cell_type": "code",
   "execution_count": null,
   "id": "b8ed2f24",
   "metadata": {},
   "outputs": [],
   "source": [
    "#I want last 4 elements\n",
    "marks[-5:]"
   ]
  },
  {
   "cell_type": "code",
   "execution_count": null,
   "id": "64dfbc1b",
   "metadata": {},
   "outputs": [],
   "source": [
    "marks[:5]"
   ]
  },
  {
   "cell_type": "code",
   "execution_count": null,
   "id": "ca4aa8ab",
   "metadata": {},
   "outputs": [],
   "source": [
    "# if you want any nth value from start or from end. Then you have to use:\n",
    "# from start= l[:n]\n",
    "#from end = l[-n:]"
   ]
  },
  {
   "cell_type": "code",
   "execution_count": null,
   "id": "63403a52",
   "metadata": {},
   "outputs": [],
   "source": []
  },
  {
   "cell_type": "code",
   "execution_count": null,
   "id": "b91b4c16",
   "metadata": {},
   "outputs": [],
   "source": []
  },
  {
   "cell_type": "code",
   "execution_count": null,
   "id": "fbb7ab62",
   "metadata": {},
   "outputs": [],
   "source": []
  },
  {
   "cell_type": "code",
   "execution_count": null,
   "id": "84bf737a",
   "metadata": {},
   "outputs": [],
   "source": [
    "# marks[-4:-1]"
   ]
  },
  {
   "cell_type": "code",
   "execution_count": null,
   "id": "d62edaa6",
   "metadata": {},
   "outputs": [],
   "source": []
  },
  {
   "cell_type": "code",
   "execution_count": null,
   "id": "86f41440",
   "metadata": {},
   "outputs": [],
   "source": []
  },
  {
   "cell_type": "code",
   "execution_count": null,
   "id": "333b44c5",
   "metadata": {},
   "outputs": [],
   "source": [
    "marks[-1:-8:-1]"
   ]
  },
  {
   "cell_type": "code",
   "execution_count": null,
   "id": "4599e021",
   "metadata": {},
   "outputs": [],
   "source": []
  },
  {
   "cell_type": "code",
   "execution_count": null,
   "id": "bb9af71e",
   "metadata": {},
   "outputs": [],
   "source": [
    "marks[3:7:3]"
   ]
  },
  {
   "cell_type": "code",
   "execution_count": null,
   "id": "8fd93eba",
   "metadata": {},
   "outputs": [],
   "source": [
    "marks[6:]"
   ]
  },
  {
   "cell_type": "code",
   "execution_count": null,
   "id": "3d78dba3",
   "metadata": {},
   "outputs": [],
   "source": [
    "marks[::-1]"
   ]
  },
  {
   "cell_type": "code",
   "execution_count": null,
   "id": "52649f82",
   "metadata": {},
   "outputs": [],
   "source": [
    "marks"
   ]
  },
  {
   "cell_type": "code",
   "execution_count": null,
   "id": "908b03eb",
   "metadata": {},
   "outputs": [],
   "source": [
    "marks[1:5:1]"
   ]
  },
  {
   "cell_type": "code",
   "execution_count": null,
   "id": "4363530c",
   "metadata": {},
   "outputs": [],
   "source": [
    "x=[1,2,3,4,10,6]"
   ]
  },
  {
   "cell_type": "code",
   "execution_count": null,
   "id": "13d22280",
   "metadata": {},
   "outputs": [],
   "source": [
    "x[0:5:2] "
   ]
  },
  {
   "cell_type": "code",
   "execution_count": null,
   "id": "98d5c31a",
   "metadata": {},
   "outputs": [],
   "source": [
    "'''\n",
    ": slicing operator\n",
    "\n",
    "list['start':'end':'step_size']\n",
    "\n",
    "\n",
    "'''"
   ]
  },
  {
   "cell_type": "code",
   "execution_count": null,
   "id": "caec4f7c",
   "metadata": {},
   "outputs": [],
   "source": [
    "marks"
   ]
  },
  {
   "cell_type": "code",
   "execution_count": null,
   "id": "b7ae989f",
   "metadata": {},
   "outputs": [],
   "source": [
    "marks[0:5:1] #returns the element which is at index 0 1 2 3 4"
   ]
  },
  {
   "cell_type": "code",
   "execution_count": null,
   "id": "c9b84f6a",
   "metadata": {},
   "outputs": [],
   "source": [
    "marks[1:10:1] # 4,5,6"
   ]
  },
  {
   "cell_type": "code",
   "execution_count": null,
   "id": "02ff54ea",
   "metadata": {},
   "outputs": [],
   "source": [
    "marks[1:]"
   ]
  },
  {
   "cell_type": "code",
   "execution_count": null,
   "id": "cde7b0c2",
   "metadata": {},
   "outputs": [],
   "source": [
    "marks[1:8:2]"
   ]
  },
  {
   "cell_type": "code",
   "execution_count": null,
   "id": "b3b73cfc",
   "metadata": {},
   "outputs": [],
   "source": [
    "marks[1:5]"
   ]
  },
  {
   "cell_type": "code",
   "execution_count": null,
   "id": "e0d93523",
   "metadata": {},
   "outputs": [],
   "source": [
    "marks[5:8]"
   ]
  },
  {
   "cell_type": "code",
   "execution_count": null,
   "id": "34c0a90d",
   "metadata": {},
   "outputs": [],
   "source": [
    "marks"
   ]
  },
  {
   "cell_type": "code",
   "execution_count": null,
   "id": "df149fa0",
   "metadata": {},
   "outputs": [],
   "source": [
    "marks.reverse()"
   ]
  },
  {
   "cell_type": "code",
   "execution_count": null,
   "id": "0ca1da7c",
   "metadata": {},
   "outputs": [],
   "source": [
    "'''\n",
    "I want all the elements except 4 elements from the beginning\n",
    "\n",
    "'''"
   ]
  },
  {
   "cell_type": "code",
   "execution_count": null,
   "id": "f23b5845",
   "metadata": {},
   "outputs": [],
   "source": [
    "marks[5:2:-1]"
   ]
  },
  {
   "cell_type": "code",
   "execution_count": null,
   "id": "c2780496",
   "metadata": {},
   "outputs": [],
   "source": [
    "marks[4:]"
   ]
  },
  {
   "cell_type": "code",
   "execution_count": null,
   "id": "6cf84493",
   "metadata": {},
   "outputs": [],
   "source": [
    "marks"
   ]
  },
  {
   "cell_type": "code",
   "execution_count": null,
   "id": "a9e38214",
   "metadata": {},
   "outputs": [],
   "source": [
    "'''\n",
    "I want all the elements except 3 elements from the last\n",
    "\n",
    "\n",
    "'''"
   ]
  },
  {
   "cell_type": "code",
   "execution_count": null,
   "id": "053f0d3e",
   "metadata": {},
   "outputs": [],
   "source": [
    "marks[0:7]\n"
   ]
  },
  {
   "cell_type": "code",
   "execution_count": null,
   "id": "45b85d10",
   "metadata": {},
   "outputs": [],
   "source": [
    "marks"
   ]
  },
  {
   "cell_type": "code",
   "execution_count": null,
   "id": "bc45b4c5",
   "metadata": {},
   "outputs": [],
   "source": [
    "marks[0:-3]"
   ]
  },
  {
   "cell_type": "code",
   "execution_count": null,
   "id": "bce9b4bd",
   "metadata": {},
   "outputs": [],
   "source": [
    "marks[:-3]"
   ]
  },
  {
   "cell_type": "code",
   "execution_count": null,
   "id": "0b9fff5f",
   "metadata": {},
   "outputs": [],
   "source": [
    "l=int(input('Enter the length of the list: '))\n",
    "ls=[]\n",
    "for i in range(l):\n",
    "    e=int(input('Enter the element: '))\n",
    "    ls.append(e)\n",
    "ls"
   ]
  },
  {
   "cell_type": "code",
   "execution_count": null,
   "id": "8653b13e",
   "metadata": {},
   "outputs": [],
   "source": [
    "x='[1,2,3,4,5,6]'"
   ]
  },
  {
   "cell_type": "code",
   "execution_count": null,
   "id": "0cf00d5b",
   "metadata": {},
   "outputs": [],
   "source": [
    "type(x)"
   ]
  },
  {
   "cell_type": "code",
   "execution_count": null,
   "id": "1014a2e5",
   "metadata": {},
   "outputs": [],
   "source": [
    "y=eval(x)"
   ]
  },
  {
   "cell_type": "code",
   "execution_count": null,
   "id": "12196ddf",
   "metadata": {},
   "outputs": [],
   "source": [
    "type(y)"
   ]
  },
  {
   "cell_type": "code",
   "execution_count": null,
   "id": "3a4bc2f6",
   "metadata": {},
   "outputs": [],
   "source": [
    "y"
   ]
  },
  {
   "cell_type": "code",
   "execution_count": null,
   "id": "3bc7a1e0",
   "metadata": {},
   "outputs": [],
   "source": [
    "marks[3]"
   ]
  },
  {
   "cell_type": "code",
   "execution_count": null,
   "id": "ea94195d",
   "metadata": {},
   "outputs": [],
   "source": [
    "marks[4]"
   ]
  },
  {
   "cell_type": "code",
   "execution_count": null,
   "id": "ce4551ee",
   "metadata": {},
   "outputs": [],
   "source": [
    "marks"
   ]
  },
  {
   "cell_type": "code",
   "execution_count": null,
   "id": "7fc2865a",
   "metadata": {},
   "outputs": [],
   "source": [
    "marks[5:2:-1]"
   ]
  },
  {
   "cell_type": "code",
   "execution_count": null,
   "id": "6c3f01f8",
   "metadata": {},
   "outputs": [],
   "source": [
    "marks[-3::-2]"
   ]
  },
  {
   "cell_type": "code",
   "execution_count": null,
   "id": "dcd97ba7",
   "metadata": {},
   "outputs": [],
   "source": [
    "marks[::-1]"
   ]
  },
  {
   "cell_type": "code",
   "execution_count": null,
   "id": "2b8886fb",
   "metadata": {},
   "outputs": [],
   "source": [
    "marks[::3]"
   ]
  },
  {
   "cell_type": "code",
   "execution_count": null,
   "id": "d872b158",
   "metadata": {},
   "outputs": [],
   "source": [
    "marks[0:10:3]"
   ]
  },
  {
   "cell_type": "code",
   "execution_count": null,
   "id": "32084c24",
   "metadata": {},
   "outputs": [],
   "source": [
    "marks.reverse()"
   ]
  },
  {
   "cell_type": "code",
   "execution_count": null,
   "id": "7588672a",
   "metadata": {},
   "outputs": [],
   "source": [
    "marks"
   ]
  },
  {
   "cell_type": "code",
   "execution_count": null,
   "id": "36dc4443",
   "metadata": {},
   "outputs": [],
   "source": [
    "marks[::-1]"
   ]
  },
  {
   "cell_type": "code",
   "execution_count": null,
   "id": "016f410c",
   "metadata": {},
   "outputs": [],
   "source": [
    "marks"
   ]
  },
  {
   "cell_type": "code",
   "execution_count": null,
   "id": "de2a8b7d",
   "metadata": {},
   "outputs": [],
   "source": [
    "marks[-1:-2:-2]"
   ]
  },
  {
   "cell_type": "code",
   "execution_count": null,
   "id": "dbea2d46",
   "metadata": {},
   "outputs": [],
   "source": [
    "marks[-1:-2:-1]"
   ]
  },
  {
   "cell_type": "code",
   "execution_count": null,
   "id": "20859438",
   "metadata": {},
   "outputs": [],
   "source": [
    "marks[:-5:-1]"
   ]
  },
  {
   "cell_type": "code",
   "execution_count": null,
   "id": "fce36aa9",
   "metadata": {},
   "outputs": [],
   "source": [
    "marks[5:2:-1]"
   ]
  },
  {
   "cell_type": "code",
   "execution_count": null,
   "id": "c45404c9",
   "metadata": {},
   "outputs": [],
   "source": []
  },
  {
   "cell_type": "code",
   "execution_count": null,
   "id": "feceb016",
   "metadata": {},
   "outputs": [],
   "source": []
  },
  {
   "cell_type": "code",
   "execution_count": null,
   "id": "49a66912",
   "metadata": {},
   "outputs": [],
   "source": []
  },
  {
   "cell_type": "code",
   "execution_count": null,
   "id": "20a68350",
   "metadata": {},
   "outputs": [],
   "source": []
  },
  {
   "cell_type": "code",
   "execution_count": null,
   "id": "72ac0911",
   "metadata": {},
   "outputs": [],
   "source": []
  },
  {
   "cell_type": "code",
   "execution_count": null,
   "id": "d2c56480",
   "metadata": {},
   "outputs": [],
   "source": []
  },
  {
   "cell_type": "code",
   "execution_count": null,
   "id": "af1f00ef",
   "metadata": {},
   "outputs": [],
   "source": []
  },
  {
   "cell_type": "code",
   "execution_count": null,
   "id": "6abf6f9a",
   "metadata": {},
   "outputs": [],
   "source": []
  },
  {
   "cell_type": "code",
   "execution_count": null,
   "id": "d56495a0",
   "metadata": {},
   "outputs": [],
   "source": []
  },
  {
   "cell_type": "code",
   "execution_count": null,
   "id": "46769c49",
   "metadata": {},
   "outputs": [],
   "source": []
  },
  {
   "cell_type": "code",
   "execution_count": null,
   "id": "bd6aab3a",
   "metadata": {},
   "outputs": [],
   "source": []
  },
  {
   "cell_type": "code",
   "execution_count": null,
   "id": "2f8eac1a",
   "metadata": {},
   "outputs": [],
   "source": []
  },
  {
   "cell_type": "code",
   "execution_count": null,
   "id": "74b11809",
   "metadata": {},
   "outputs": [],
   "source": []
  },
  {
   "cell_type": "code",
   "execution_count": null,
   "id": "85a784c2",
   "metadata": {},
   "outputs": [],
   "source": []
  },
  {
   "cell_type": "code",
   "execution_count": null,
   "id": "a2cacee9",
   "metadata": {},
   "outputs": [],
   "source": [
    "for i in range(5, 2, -1):\n",
    "    print(i)"
   ]
  },
  {
   "cell_type": "code",
   "execution_count": null,
   "id": "b85815e1",
   "metadata": {},
   "outputs": [],
   "source": [
    "'''\n",
    "WAP Square all the elements of the list\n",
    "\n",
    "x=[1,2,3,4,5,6,7,8]\n",
    "\n",
    "o/p: y=[1,4,9,16,25,36,49,64]\n",
    "'''"
   ]
  },
  {
   "cell_type": "code",
   "execution_count": null,
   "id": "7b74e63a",
   "metadata": {},
   "outputs": [],
   "source": [
    "x=[1,2,3,4,5,6,7,8]"
   ]
  },
  {
   "cell_type": "code",
   "execution_count": null,
   "id": "9210209e",
   "metadata": {},
   "outputs": [],
   "source": [
    "marks.remove(234)"
   ]
  },
  {
   "cell_type": "code",
   "execution_count": null,
   "id": "d7983501",
   "metadata": {},
   "outputs": [],
   "source": [
    "marks"
   ]
  },
  {
   "cell_type": "code",
   "execution_count": null,
   "id": "6e90f7f0",
   "metadata": {},
   "outputs": [],
   "source": [
    "marks_sixty=[]\n",
    "\n",
    "for i in marks:\n",
    "    i=i+2\n",
    "    marks_sixty.append(i)\n",
    "    \n",
    "print(marks_sixty)"
   ]
  },
  {
   "cell_type": "code",
   "execution_count": null,
   "id": "abce35a3",
   "metadata": {},
   "outputs": [],
   "source": [
    "# list comprehension\n",
    "\n",
    "marks_new=[i + 5 for i in marks]"
   ]
  },
  {
   "cell_type": "code",
   "execution_count": null,
   "id": "211891e2",
   "metadata": {},
   "outputs": [],
   "source": [
    "marks_new"
   ]
  },
  {
   "cell_type": "code",
   "execution_count": null,
   "id": "ec6bdd18",
   "metadata": {},
   "outputs": [],
   "source": [
    "marks=[32, 54, 66, 68, 76, 84, 84, 97, 23, 65]"
   ]
  },
  {
   "cell_type": "code",
   "execution_count": null,
   "id": "d4354cf6",
   "metadata": {},
   "outputs": [],
   "source": [
    "marks_new=[]\n",
    "for i in marks:\n",
    "    marks_new.append(i+2)\n",
    "    \n",
    "print(marks_new)"
   ]
  },
  {
   "cell_type": "code",
   "execution_count": null,
   "id": "8657026a",
   "metadata": {},
   "outputs": [],
   "source": [
    "sorted(marks)"
   ]
  },
  {
   "cell_type": "markdown",
   "id": "edbc5163",
   "metadata": {},
   "source": [
    "# List Comprehension"
   ]
  },
  {
   "cell_type": "code",
   "execution_count": null,
   "id": "6ab11ec2",
   "metadata": {},
   "outputs": [],
   "source": [
    "'''\n",
    "\n",
    "new_list = [expression(element) 'for' element 'in' iterable_object 'if' condition ]\n",
    "\n",
    "1: Time efficient\n",
    "2: Space  efficient\n",
    "3: fewer  line of codes\n",
    "\n",
    "\n",
    "\n",
    "'''"
   ]
  },
  {
   "cell_type": "code",
   "execution_count": null,
   "id": "48a61f42",
   "metadata": {},
   "outputs": [],
   "source": [
    "list2=[i for i in range(0,11)]\n",
    "list2"
   ]
  },
  {
   "cell_type": "code",
   "execution_count": null,
   "id": "8c4f17f5",
   "metadata": {},
   "outputs": [],
   "source": [
    "l=[]\n",
    "for i in range(0,11):\n",
    "    l.append(i)\n",
    "print(l)"
   ]
  },
  {
   "cell_type": "code",
   "execution_count": null,
   "id": "63aa4d80",
   "metadata": {},
   "outputs": [],
   "source": [
    "maths_marks"
   ]
  },
  {
   "cell_type": "code",
   "execution_count": null,
   "id": "6f4a73e4",
   "metadata": {},
   "outputs": [],
   "source": [
    "marks_new2=[i-10 for i in maths_marks]"
   ]
  },
  {
   "cell_type": "code",
   "execution_count": null,
   "id": "bd19fa83",
   "metadata": {},
   "outputs": [],
   "source": [
    "marks_new2"
   ]
  },
  {
   "cell_type": "code",
   "execution_count": null,
   "id": "465030c3",
   "metadata": {},
   "outputs": [],
   "source": [
    "'''\n",
    "\n",
    "list2=[i+5 for i in range(0,11)]\n",
    "marks_new2=[i-10 for i in maths_marks]\n",
    "\n",
    "Create the following list using list comprehension\n",
    "\n",
    "1: First 10 even numbers\n",
    "2: First 10 odd numbers\n",
    "3: multiply all the elements of the even list with 5 and store it into a new list\n",
    "4: take floor divison of all with 2 the element of the odd list and store it into a new list.\n",
    "\n",
    "'''"
   ]
  },
  {
   "cell_type": "code",
   "execution_count": null,
   "id": "2c123a36",
   "metadata": {},
   "outputs": [],
   "source": [
    "even_list=[i for i in range(0,19,2)]\n",
    "odd_list=[i for i in range(1,20,2)]\n",
    "\n",
    "l1=[i*5 for i in even_list]\n",
    "l2=[i//2 for i in odd_list]\n",
    "\n",
    "print(even_list)\n",
    "print(odd_list)\n",
    "print(l1)\n",
    "print(l2)\n",
    "\n"
   ]
  },
  {
   "cell_type": "code",
   "execution_count": null,
   "id": "f6fcfe9b",
   "metadata": {},
   "outputs": [],
   "source": []
  },
  {
   "cell_type": "code",
   "execution_count": null,
   "id": "79cb3a02",
   "metadata": {},
   "outputs": [],
   "source": []
  },
  {
   "cell_type": "code",
   "execution_count": null,
   "id": "13042be8",
   "metadata": {},
   "outputs": [],
   "source": []
  },
  {
   "cell_type": "code",
   "execution_count": null,
   "id": "5d519c91",
   "metadata": {},
   "outputs": [],
   "source": [
    "marks"
   ]
  },
  {
   "cell_type": "code",
   "execution_count": null,
   "id": "3b8ca3a3",
   "metadata": {},
   "outputs": [],
   "source": [
    "marks_2=[]\n",
    "for i in marks:\n",
    "    marks_2.append(i+2)"
   ]
  },
  {
   "cell_type": "code",
   "execution_count": null,
   "id": "a2ee0fef",
   "metadata": {},
   "outputs": [],
   "source": [
    "marks_2"
   ]
  },
  {
   "cell_type": "code",
   "execution_count": null,
   "id": "4fca6e18",
   "metadata": {},
   "outputs": [],
   "source": []
  },
  {
   "cell_type": "code",
   "execution_count": null,
   "id": "56c4a9a1",
   "metadata": {},
   "outputs": [],
   "source": [
    "marks_new2"
   ]
  },
  {
   "cell_type": "code",
   "execution_count": null,
   "id": "7903178e",
   "metadata": {},
   "outputs": [],
   "source": [
    "xyz: social media A\n",
    "    login time: 10 sec\n",
    "        Post: time- 15 sec\n",
    "            uploading a image: time 30sec\n",
    "                Feed: a refresh can take  15sec \n",
    "    \n",
    "abc: Social media B \n",
    "    login time: 7sec\n",
    "        post: 3sec\n",
    "            uploading a image: time 5sec\n",
    "                Feed: a refresh can take 2sec\n",
    "    \n",
    "    \n",
    "    TLE error: Time limit exceeded \n"
   ]
  },
  {
   "cell_type": "code",
   "execution_count": null,
   "id": "9a17856d",
   "metadata": {},
   "outputs": [],
   "source": [
    "import time\n",
    "\n",
    "def for_loop(n):\n",
    "    result=[]\n",
    "    for i in range(n): #n=100**4\n",
    "        result.append(i**2)\n",
    "        \n",
    "    return result\n",
    "\n",
    "def list_comprehension(n):\n",
    "    return [i**2 for i in range(n)]\n",
    "\n",
    "begin1=time.time()\n",
    "for_loop(100**4)\n",
    "end1=time.time()\n",
    "runtime=end1-begin1\n",
    "print('time by for loop', round(runtime,2)) \n",
    "\n",
    "begin2=time.time()\n",
    "list_comprehension(100**4)\n",
    "end2=time.time()\n",
    "runtime=end2-begin2\n",
    "print('time by list comprehension', round(runtime, 2))\n"
   ]
  },
  {
   "cell_type": "code",
   "execution_count": null,
   "id": "726c5e74",
   "metadata": {},
   "outputs": [],
   "source": [
    "'''\n",
    "x1=[1,2,3,4,5,6]\n",
    "\n",
    "x=[[0,1,2,3,4],\n",
    "   [0,1,2,3,4], \n",
    "   [0,1,2,3,4]]\n",
    "\n",
    "\n",
    "*****\n",
    "*****\n",
    "*****\n",
    "\n",
    "print('*')\n",
    "\n",
    "'''"
   ]
  },
  {
   "cell_type": "code",
   "execution_count": null,
   "id": "b632274d",
   "metadata": {},
   "outputs": [],
   "source": [
    "ls_of_ls=[]\n",
    "\n",
    "for i in range(3): #rows\n",
    "    ls_of_ls.append([])\n",
    "    for j in range(5): #columns\n",
    "        ls_of_ls[i].append(j)\n",
    "        \n",
    "ls_of_ls"
   ]
  },
  {
   "cell_type": "code",
   "execution_count": null,
   "id": "7280090c",
   "metadata": {},
   "outputs": [],
   "source": [
    "#list comprehension "
   ]
  },
  {
   "cell_type": "code",
   "execution_count": null,
   "id": "a99f73ef",
   "metadata": {},
   "outputs": [],
   "source": [
    "# new_list = [expression(element) 'for' element 'in' iterable_object]\n",
    "\n",
    "x=[j for j in range(5)]\n",
    "x"
   ]
  },
  {
   "cell_type": "code",
   "execution_count": null,
   "id": "186f9c4f",
   "metadata": {},
   "outputs": [],
   "source": [
    "lst2=[10 for i in range(3)]\n",
    "lst2"
   ]
  },
  {
   "cell_type": "code",
   "execution_count": null,
   "id": "42af1e0b",
   "metadata": {},
   "outputs": [],
   "source": [
    "lst=[[j for j in range(5)] for i in range(3)]\n",
    "\n",
    "#lst=[x for i in range(3)]\n",
    "\n",
    "\n",
    "lst"
   ]
  },
  {
   "cell_type": "code",
   "execution_count": null,
   "id": "17860446",
   "metadata": {},
   "outputs": [],
   "source": [
    "'''\n",
    "0, 1, 2\n",
    "\n",
    "0 1 2 3 4\n",
    "\n",
    "\n",
    "ls_of_ls=[[0,1,2,3,4],[0,1,2,3,4],[0,1,2,3,4]]\n",
    "              0            1       2\n",
    "           \n",
    "\n",
    "'''"
   ]
  },
  {
   "cell_type": "code",
   "execution_count": null,
   "id": "a8e8b908",
   "metadata": {},
   "outputs": [],
   "source": [
    "'''\n",
    "store the table of 10 in a list\n",
    "\n",
    "'''"
   ]
  },
  {
   "cell_type": "code",
   "execution_count": null,
   "id": "3549d3d5",
   "metadata": {},
   "outputs": [],
   "source": [
    "ls=[10*i for i in range(1,11)]\n",
    "ls"
   ]
  },
  {
   "cell_type": "markdown",
   "id": "75ae6c1d",
   "metadata": {},
   "source": [
    "# Conditional  statement in List comprehension"
   ]
  },
  {
   "cell_type": "code",
   "execution_count": null,
   "id": "b518f7e6",
   "metadata": {},
   "outputs": [],
   "source": [
    "#new_list = [expression(element) 'for' element 'in' iterable_object 'if' condition ]\n",
    "\n",
    "#x=[0, 4, 16, 36, 64,100]\n",
    "\n",
    "x=[]\n",
    "for i in range(11):\n",
    "    if i %2==0:\n",
    "        x.append(i**2)\n",
    "\n",
    "print(x)\n",
    "\n"
   ]
  },
  {
   "cell_type": "code",
   "execution_count": null,
   "id": "4f1f257d",
   "metadata": {},
   "outputs": [],
   "source": [
    "square=[n**2 for n in range(11)]\n",
    "square"
   ]
  },
  {
   "cell_type": "code",
   "execution_count": null,
   "id": "4708038a",
   "metadata": {},
   "outputs": [],
   "source": [
    "square_2=[n for n in range(11) if n%2 == 0]\n",
    "square_2"
   ]
  },
  {
   "cell_type": "code",
   "execution_count": null,
   "id": "2c94fecc",
   "metadata": {},
   "outputs": [],
   "source": [
    "maths_marks"
   ]
  },
  {
   "cell_type": "code",
   "execution_count": null,
   "id": "a0048e94",
   "metadata": {},
   "outputs": [],
   "source": [
    "'''\n",
    "\n",
    "if the marks is less than 50 then add 10 marks into it and return the added marks list\n",
    "\n",
    "\n",
    "'''"
   ]
  },
  {
   "cell_type": "code",
   "execution_count": null,
   "id": "5b416dca",
   "metadata": {},
   "outputs": [],
   "source": [
    "l=[i+10 for i in maths_marks if i<50]\n",
    "l"
   ]
  },
  {
   "cell_type": "code",
   "execution_count": null,
   "id": "870b15b9",
   "metadata": {},
   "outputs": [],
   "source": []
  },
  {
   "cell_type": "code",
   "execution_count": null,
   "id": "bd104a84",
   "metadata": {},
   "outputs": [],
   "source": [
    "'''\n",
    "if the marks is less than 70 then add 5 marks, else add 1 marks\n",
    "\n",
    "'''"
   ]
  },
  {
   "cell_type": "code",
   "execution_count": null,
   "id": "a36b8e52",
   "metadata": {},
   "outputs": [],
   "source": [
    "maths_marks"
   ]
  },
  {
   "cell_type": "code",
   "execution_count": null,
   "id": "9a686b34",
   "metadata": {},
   "outputs": [],
   "source": [
    "m2=[]\n",
    "for i in maths_marks:\n",
    "    if i < 70:\n",
    "        m2.append(i+5)\n",
    "    else:\n",
    "        m2.append(i+1) "
   ]
  },
  {
   "cell_type": "code",
   "execution_count": null,
   "id": "e071fef0",
   "metadata": {},
   "outputs": [],
   "source": [
    "m2"
   ]
  },
  {
   "cell_type": "code",
   "execution_count": null,
   "id": "c7de50f8",
   "metadata": {},
   "outputs": [],
   "source": [
    "'''\n",
    "new_list=[expression(element for if) if (condition) else (expression (element for else)) for 'element' in 'iterable object']\n",
    "\n",
    "'''"
   ]
  },
  {
   "cell_type": "code",
   "execution_count": null,
   "id": "f1ff3347",
   "metadata": {},
   "outputs": [],
   "source": [
    "maths_marks"
   ]
  },
  {
   "cell_type": "code",
   "execution_count": null,
   "id": "552265fd",
   "metadata": {},
   "outputs": [],
   "source": [
    "marks_2=[x+1 if x>70 else x+5 for x in maths_marks]"
   ]
  },
  {
   "cell_type": "code",
   "execution_count": null,
   "id": "6a318be9",
   "metadata": {},
   "outputs": [],
   "source": [
    "marks_2"
   ]
  },
  {
   "cell_type": "markdown",
   "id": "9ae49560",
   "metadata": {},
   "source": [
    "# Dictionary "
   ]
  },
  {
   "cell_type": "code",
   "execution_count": null,
   "id": "5731a8e6",
   "metadata": {},
   "outputs": [],
   "source": []
  },
  {
   "cell_type": "code",
   "execution_count": null,
   "id": "0c046cb4",
   "metadata": {},
   "outputs": [],
   "source": []
  },
  {
   "cell_type": "code",
   "execution_count": null,
   "id": "7b988741",
   "metadata": {},
   "outputs": [],
   "source": []
  },
  {
   "cell_type": "code",
   "execution_count": null,
   "id": "4c4f9b01",
   "metadata": {},
   "outputs": [],
   "source": [
    "x=[[0,1,2,3,4],\n",
    "   [0,1,2,3,4], \n",
    "   [0,1,2,3,4]]"
   ]
  },
  {
   "cell_type": "code",
   "execution_count": null,
   "id": "63dba8b1",
   "metadata": {},
   "outputs": [],
   "source": [
    "x"
   ]
  },
  {
   "cell_type": "code",
   "execution_count": null,
   "id": "7e04f62f",
   "metadata": {},
   "outputs": [],
   "source": []
  },
  {
   "cell_type": "code",
   "execution_count": null,
   "id": "a0c69b00",
   "metadata": {},
   "outputs": [],
   "source": []
  },
  {
   "cell_type": "code",
   "execution_count": null,
   "id": "619c9c3a",
   "metadata": {},
   "outputs": [],
   "source": []
  },
  {
   "cell_type": "code",
   "execution_count": null,
   "id": "36e5c14d",
   "metadata": {},
   "outputs": [],
   "source": []
  },
  {
   "cell_type": "code",
   "execution_count": null,
   "id": "d9e4b086",
   "metadata": {},
   "outputs": [],
   "source": []
  },
  {
   "cell_type": "code",
   "execution_count": null,
   "id": "be9e1e0a",
   "metadata": {},
   "outputs": [],
   "source": []
  },
  {
   "cell_type": "code",
   "execution_count": null,
   "id": "b7d8c53d",
   "metadata": {},
   "outputs": [],
   "source": []
  },
  {
   "cell_type": "code",
   "execution_count": null,
   "id": "0217bd00",
   "metadata": {},
   "outputs": [],
   "source": []
  },
  {
   "cell_type": "code",
   "execution_count": null,
   "id": "316be111",
   "metadata": {},
   "outputs": [],
   "source": []
  },
  {
   "cell_type": "code",
   "execution_count": null,
   "id": "5b515105",
   "metadata": {},
   "outputs": [],
   "source": []
  }
 ],
 "metadata": {
  "kernelspec": {
   "display_name": "Python 3 (ipykernel)",
   "language": "python",
   "name": "python3"
  },
  "language_info": {
   "codemirror_mode": {
    "name": "ipython",
    "version": 3
   },
   "file_extension": ".py",
   "mimetype": "text/x-python",
   "name": "python",
   "nbconvert_exporter": "python",
   "pygments_lexer": "ipython3",
   "version": "3.10.9"
  }
 },
 "nbformat": 4,
 "nbformat_minor": 5
}
