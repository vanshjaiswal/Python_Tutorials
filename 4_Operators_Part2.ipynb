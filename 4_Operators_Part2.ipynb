{
 "cells": [
  {
   "cell_type": "markdown",
   "id": "5b179c46",
   "metadata": {},
   "source": [
    "#Logical operators "
   ]
  },
  {
   "cell_type": "code",
   "execution_count": null,
   "id": "392956db",
   "metadata": {},
   "outputs": [],
   "source": [
    "'''\n",
    "AND operator: When any one of the value is False then the output would be False, \n",
    "              when both the input is True then only Output will be True.\n",
    "             \n",
    "AND Truth Table\n",
    "|input1|input2|output|\n",
    "|:----:|:----:|:----:|\n",
    "|F|F|F|\n",
    "|F|T|F|\n",
    "|T|F|F|\n",
    "|T|T|T|\n",
    "\n",
    "'''"
   ]
  },
  {
   "cell_type": "code",
   "execution_count": 1,
   "id": "19f371a4",
   "metadata": {},
   "outputs": [
    {
     "name": "stdout",
     "output_type": "stream",
     "text": [
      "False\n",
      "False\n",
      "False\n",
      "True\n"
     ]
    }
   ],
   "source": [
    "print(False and False)\n",
    "print(False and True)\n",
    "print(True and False)\n",
    "print(True and True)"
   ]
  },
  {
   "cell_type": "code",
   "execution_count": 2,
   "id": "bedea06d",
   "metadata": {},
   "outputs": [],
   "source": [
    "# or operator"
   ]
  },
  {
   "cell_type": "code",
   "execution_count": 3,
   "id": "3f5d3e62",
   "metadata": {},
   "outputs": [
    {
     "name": "stdout",
     "output_type": "stream",
     "text": [
      "False\n",
      "True\n",
      "True\n",
      "True\n"
     ]
    }
   ],
   "source": [
    "print(False or False)\n",
    "print(False or True)\n",
    "print(True or False)\n",
    "print(True or True)"
   ]
  },
  {
   "cell_type": "code",
   "execution_count": null,
   "id": "f44efa6a",
   "metadata": {},
   "outputs": [],
   "source": [
    "# not operator"
   ]
  },
  {
   "cell_type": "code",
   "execution_count": 4,
   "id": "1032afa4",
   "metadata": {},
   "outputs": [
    {
     "data": {
      "text/plain": [
       "False"
      ]
     },
     "execution_count": 4,
     "metadata": {},
     "output_type": "execute_result"
    }
   ],
   "source": [
    "not True\n"
   ]
  },
  {
   "cell_type": "code",
   "execution_count": 5,
   "id": "3ad138f9",
   "metadata": {},
   "outputs": [
    {
     "data": {
      "text/plain": [
       "True"
      ]
     },
     "execution_count": 5,
     "metadata": {},
     "output_type": "execute_result"
    }
   ],
   "source": [
    "not False"
   ]
  },
  {
   "cell_type": "code",
   "execution_count": 6,
   "id": "7c5031f0",
   "metadata": {},
   "outputs": [],
   "source": [
    "m = True"
   ]
  },
  {
   "cell_type": "code",
   "execution_count": 7,
   "id": "3e5c9b10",
   "metadata": {},
   "outputs": [
    {
     "data": {
      "text/plain": [
       "bool"
      ]
     },
     "execution_count": 7,
     "metadata": {},
     "output_type": "execute_result"
    }
   ],
   "source": [
    "type(m)"
   ]
  },
  {
   "cell_type": "code",
   "execution_count": 8,
   "id": "e37ff5f7",
   "metadata": {},
   "outputs": [
    {
     "data": {
      "text/plain": [
       "False"
      ]
     },
     "execution_count": 8,
     "metadata": {},
     "output_type": "execute_result"
    }
   ],
   "source": [
    "not m"
   ]
  },
  {
   "cell_type": "code",
   "execution_count": 9,
   "id": "7e9cbec6",
   "metadata": {},
   "outputs": [],
   "source": [
    "n=not m"
   ]
  },
  {
   "cell_type": "code",
   "execution_count": 10,
   "id": "bc45cac5",
   "metadata": {},
   "outputs": [
    {
     "data": {
      "text/plain": [
       "True"
      ]
     },
     "execution_count": 10,
     "metadata": {},
     "output_type": "execute_result"
    }
   ],
   "source": [
    "m"
   ]
  },
  {
   "cell_type": "code",
   "execution_count": 11,
   "id": "b9b11cdb",
   "metadata": {},
   "outputs": [
    {
     "data": {
      "text/plain": [
       "False"
      ]
     },
     "execution_count": 11,
     "metadata": {},
     "output_type": "execute_result"
    }
   ],
   "source": [
    "n"
   ]
  },
  {
   "cell_type": "code",
   "execution_count": null,
   "id": "e24c3e78",
   "metadata": {},
   "outputs": [],
   "source": [
    "bool(0)"
   ]
  },
  {
   "cell_type": "code",
   "execution_count": null,
   "id": "5eccd2ac",
   "metadata": {},
   "outputs": [],
   "source": [
    "not 0"
   ]
  },
  {
   "cell_type": "code",
   "execution_count": null,
   "id": "f4661fc8",
   "metadata": {},
   "outputs": [],
   "source": [
    "print(not True)"
   ]
  },
  {
   "cell_type": "code",
   "execution_count": null,
   "id": "ecef1ef0",
   "metadata": {},
   "outputs": [],
   "source": []
  },
  {
   "cell_type": "code",
   "execution_count": null,
   "id": "66d2e456",
   "metadata": {},
   "outputs": [],
   "source": [
    "print(not (False))"
   ]
  },
  {
   "cell_type": "code",
   "execution_count": null,
   "id": "44e8e1a2",
   "metadata": {},
   "outputs": [],
   "source": [
    "false=True"
   ]
  },
  {
   "cell_type": "code",
   "execution_count": null,
   "id": "7db06421",
   "metadata": {},
   "outputs": [],
   "source": [
    "print(not false)"
   ]
  },
  {
   "cell_type": "markdown",
   "id": "22084688",
   "metadata": {},
   "source": [
    "# Strings Basic"
   ]
  },
  {
   "cell_type": "code",
   "execution_count": 1,
   "id": "0a53f1c4",
   "metadata": {},
   "outputs": [],
   "source": [
    "s='coffee'\n",
    "t='bread'"
   ]
  },
  {
   "cell_type": "code",
   "execution_count": 2,
   "id": "776b458a",
   "metadata": {},
   "outputs": [
    {
     "data": {
      "text/plain": [
       "str"
      ]
     },
     "execution_count": 2,
     "metadata": {},
     "output_type": "execute_result"
    }
   ],
   "source": [
    "type(t)"
   ]
  },
  {
   "cell_type": "code",
   "execution_count": 3,
   "id": "0b352441",
   "metadata": {},
   "outputs": [
    {
     "data": {
      "text/plain": [
       "'coffee'"
      ]
     },
     "execution_count": 3,
     "metadata": {},
     "output_type": "execute_result"
    }
   ],
   "source": [
    "s"
   ]
  },
  {
   "cell_type": "code",
   "execution_count": 4,
   "id": "c603c81a",
   "metadata": {},
   "outputs": [
    {
     "data": {
      "text/plain": [
       "'bread'"
      ]
     },
     "execution_count": 4,
     "metadata": {},
     "output_type": "execute_result"
    }
   ],
   "source": [
    "t"
   ]
  },
  {
   "cell_type": "code",
   "execution_count": 5,
   "id": "ba7e2ad1",
   "metadata": {},
   "outputs": [],
   "source": [
    "m='coffee'"
   ]
  },
  {
   "cell_type": "code",
   "execution_count": 6,
   "id": "f1b0271b",
   "metadata": {},
   "outputs": [],
   "source": [
    "x=5.5"
   ]
  },
  {
   "cell_type": "code",
   "execution_count": 7,
   "id": "b5f5f0b1",
   "metadata": {},
   "outputs": [
    {
     "ename": "TypeError",
     "evalue": "can only concatenate str (not \"float\") to str",
     "output_type": "error",
     "traceback": [
      "\u001b[1;31m---------------------------------------------------------------------------\u001b[0m",
      "\u001b[1;31mTypeError\u001b[0m                                 Traceback (most recent call last)",
      "Cell \u001b[1;32mIn[7], line 1\u001b[0m\n\u001b[1;32m----> 1\u001b[0m \u001b[43ms\u001b[49m\u001b[38;5;241;43m+\u001b[39;49m\u001b[43mx\u001b[49m\n",
      "\u001b[1;31mTypeError\u001b[0m: can only concatenate str (not \"float\") to str"
     ]
    }
   ],
   "source": [
    "s+x"
   ]
  },
  {
   "cell_type": "code",
   "execution_count": 8,
   "id": "c92fa8a5",
   "metadata": {},
   "outputs": [
    {
     "name": "stdout",
     "output_type": "stream",
     "text": [
      "coffeebread\n"
     ]
    }
   ],
   "source": [
    "print(s+t)"
   ]
  },
  {
   "cell_type": "code",
   "execution_count": 9,
   "id": "dba5fdea",
   "metadata": {},
   "outputs": [
    {
     "name": "stdout",
     "output_type": "stream",
     "text": [
      "coffeebread\n"
     ]
    },
    {
     "data": {
      "text/plain": [
       "'\\n+ works as a concatenation operator, which merge two strings.\\n\\n\\n'"
      ]
     },
     "execution_count": 9,
     "metadata": {},
     "output_type": "execute_result"
    }
   ],
   "source": [
    "print(s+t) #concatenation of strings\n",
    "\n",
    "'''\n",
    "+ works as a concatenation operator, which merge two strings.\n",
    "\n",
    "\n",
    "'''"
   ]
  },
  {
   "cell_type": "code",
   "execution_count": 10,
   "id": "3468ad77",
   "metadata": {},
   "outputs": [],
   "source": [
    "a='10'\n",
    "b='5'"
   ]
  },
  {
   "cell_type": "code",
   "execution_count": 11,
   "id": "e4eb52ee",
   "metadata": {},
   "outputs": [
    {
     "data": {
      "text/plain": [
       "str"
      ]
     },
     "execution_count": 11,
     "metadata": {},
     "output_type": "execute_result"
    }
   ],
   "source": [
    "type(a)"
   ]
  },
  {
   "cell_type": "code",
   "execution_count": 12,
   "id": "90a6daa2",
   "metadata": {},
   "outputs": [
    {
     "data": {
      "text/plain": [
       "str"
      ]
     },
     "execution_count": 12,
     "metadata": {},
     "output_type": "execute_result"
    }
   ],
   "source": [
    "type(b)"
   ]
  },
  {
   "cell_type": "code",
   "execution_count": 13,
   "id": "b7cd2db1",
   "metadata": {},
   "outputs": [
    {
     "name": "stdout",
     "output_type": "stream",
     "text": [
      "105\n"
     ]
    }
   ],
   "source": [
    "print(a+b)"
   ]
  },
  {
   "cell_type": "code",
   "execution_count": 14,
   "id": "3fb691e6",
   "metadata": {},
   "outputs": [],
   "source": [
    "d=a+b"
   ]
  },
  {
   "cell_type": "code",
   "execution_count": 15,
   "id": "07bec8e2",
   "metadata": {},
   "outputs": [
    {
     "data": {
      "text/plain": [
       "'105'"
      ]
     },
     "execution_count": 15,
     "metadata": {},
     "output_type": "execute_result"
    }
   ],
   "source": [
    "d"
   ]
  },
  {
   "cell_type": "code",
   "execution_count": 16,
   "id": "91946053",
   "metadata": {},
   "outputs": [
    {
     "data": {
      "text/plain": [
       "'coffee'"
      ]
     },
     "execution_count": 16,
     "metadata": {},
     "output_type": "execute_result"
    }
   ],
   "source": [
    "s"
   ]
  },
  {
   "cell_type": "code",
   "execution_count": 17,
   "id": "bde76f8d",
   "metadata": {},
   "outputs": [
    {
     "data": {
      "text/plain": [
       "'105coffee'"
      ]
     },
     "execution_count": 17,
     "metadata": {},
     "output_type": "execute_result"
    }
   ],
   "source": [
    "d+s"
   ]
  },
  {
   "cell_type": "code",
   "execution_count": null,
   "id": "975194fc",
   "metadata": {},
   "outputs": [],
   "source": [
    "c=105"
   ]
  },
  {
   "cell_type": "code",
   "execution_count": 18,
   "id": "e3a3af37",
   "metadata": {},
   "outputs": [
    {
     "ename": "NameError",
     "evalue": "name 'c' is not defined",
     "output_type": "error",
     "traceback": [
      "\u001b[1;31m---------------------------------------------------------------------------\u001b[0m",
      "\u001b[1;31mNameError\u001b[0m                                 Traceback (most recent call last)",
      "Cell \u001b[1;32mIn[18], line 1\u001b[0m\n\u001b[1;32m----> 1\u001b[0m \u001b[43mc\u001b[49m\n",
      "\u001b[1;31mNameError\u001b[0m: name 'c' is not defined"
     ]
    }
   ],
   "source": [
    "c"
   ]
  },
  {
   "cell_type": "code",
   "execution_count": null,
   "id": "f25fa416",
   "metadata": {},
   "outputs": [],
   "source": [
    "c-d"
   ]
  },
  {
   "cell_type": "code",
   "execution_count": null,
   "id": "08a798f0",
   "metadata": {},
   "outputs": [],
   "source": [
    "x='butter'\n",
    "y='fly'"
   ]
  },
  {
   "cell_type": "code",
   "execution_count": null,
   "id": "0d63fd73",
   "metadata": {},
   "outputs": [],
   "source": [
    "print(x*4)"
   ]
  },
  {
   "cell_type": "markdown",
   "id": "ccc2f363",
   "metadata": {},
   "source": [
    "# Indexing in strings"
   ]
  },
  {
   "cell_type": "code",
   "execution_count": null,
   "id": "4d4f0723",
   "metadata": {},
   "outputs": [],
   "source": [
    "a='apple day'\n",
    "\n",
    "'''\n",
    "Indexing in python is always starts from 0 and it is upto n-1, where n is the lenghth of the string\n",
    "\n",
    "\n",
    "'''\n",
    "# a=0, p=1, p=2, l=3, e=4"
   ]
  },
  {
   "cell_type": "code",
   "execution_count": null,
   "id": "418920f4",
   "metadata": {},
   "outputs": [],
   "source": [
    "a='apple day'\n",
    "b='Hello World'"
   ]
  },
  {
   "cell_type": "code",
   "execution_count": null,
   "id": "ede4805d",
   "metadata": {},
   "outputs": [],
   "source": [
    "len(a)"
   ]
  },
  {
   "cell_type": "code",
   "execution_count": null,
   "id": "c17203f2",
   "metadata": {},
   "outputs": [],
   "source": [
    "b[6]"
   ]
  },
  {
   "cell_type": "markdown",
   "id": "0688fc83",
   "metadata": {},
   "source": [
    "#Synatx: \n",
    "\n",
    "variable_name['index value']"
   ]
  },
  {
   "cell_type": "code",
   "execution_count": null,
   "id": "c9db587c",
   "metadata": {},
   "outputs": [],
   "source": [
    "a[4]"
   ]
  },
  {
   "cell_type": "code",
   "execution_count": null,
   "id": "64e4f7ee",
   "metadata": {},
   "outputs": [],
   "source": [
    "s"
   ]
  },
  {
   "cell_type": "code",
   "execution_count": null,
   "id": "df162e5c",
   "metadata": {},
   "outputs": [],
   "source": [
    "s[5]"
   ]
  },
  {
   "cell_type": "code",
   "execution_count": null,
   "id": "77c79183",
   "metadata": {},
   "outputs": [],
   "source": [
    "s[6]"
   ]
  },
  {
   "cell_type": "code",
   "execution_count": null,
   "id": "5ac57a0b",
   "metadata": {},
   "outputs": [],
   "source": []
  },
  {
   "cell_type": "code",
   "execution_count": null,
   "id": "fba12fb7",
   "metadata": {},
   "outputs": [],
   "source": [
    "s='0123456789'"
   ]
  },
  {
   "cell_type": "code",
   "execution_count": null,
   "id": "2a4f3a3a",
   "metadata": {},
   "outputs": [],
   "source": [
    "a=s[4]\n",
    "a"
   ]
  },
  {
   "cell_type": "code",
   "execution_count": null,
   "id": "81852e5d",
   "metadata": {},
   "outputs": [],
   "source": [
    "b=s[7]\n",
    "b"
   ]
  },
  {
   "cell_type": "code",
   "execution_count": null,
   "id": "d1cf8859",
   "metadata": {},
   "outputs": [],
   "source": [
    "a+b"
   ]
  },
  {
   "cell_type": "code",
   "execution_count": null,
   "id": "0c731523",
   "metadata": {},
   "outputs": [],
   "source": [
    "# with the above a and b i want the output 11."
   ]
  },
  {
   "cell_type": "code",
   "execution_count": null,
   "id": "1d78ff9b",
   "metadata": {},
   "outputs": [],
   "source": [
    "a=int(a)\n",
    "b=int(b)\n",
    "a+b"
   ]
  },
  {
   "cell_type": "code",
   "execution_count": null,
   "id": "f44d4a3f",
   "metadata": {},
   "outputs": [],
   "source": [
    "s"
   ]
  },
  {
   "cell_type": "code",
   "execution_count": null,
   "id": "8d6f5520",
   "metadata": {
    "scrolled": true
   },
   "outputs": [],
   "source": [
    "a=int(s[4])\n",
    "\n",
    "#a=int('4')\n",
    "#a=4\n",
    "\n",
    "\n",
    "b=int(s[7])\n",
    "#b=int('7')\n",
    "\n",
    "print(a)\n",
    "print(b)"
   ]
  },
  {
   "cell_type": "code",
   "execution_count": null,
   "id": "ba0261b5",
   "metadata": {},
   "outputs": [],
   "source": [
    "x=int('10')"
   ]
  },
  {
   "cell_type": "code",
   "execution_count": null,
   "id": "a8cca959",
   "metadata": {},
   "outputs": [],
   "source": [
    "type(x)"
   ]
  },
  {
   "cell_type": "code",
   "execution_count": null,
   "id": "ba9b7813",
   "metadata": {},
   "outputs": [],
   "source": []
  },
  {
   "cell_type": "code",
   "execution_count": null,
   "id": "9c92798e",
   "metadata": {},
   "outputs": [],
   "source": []
  },
  {
   "cell_type": "code",
   "execution_count": null,
   "id": "6cac7d53",
   "metadata": {},
   "outputs": [],
   "source": []
  },
  {
   "cell_type": "code",
   "execution_count": null,
   "id": "fec7059d",
   "metadata": {},
   "outputs": [],
   "source": [
    "a+b"
   ]
  },
  {
   "cell_type": "code",
   "execution_count": null,
   "id": "9eac39e3",
   "metadata": {},
   "outputs": [],
   "source": [
    "x=s[3]\n",
    "x"
   ]
  },
  {
   "cell_type": "code",
   "execution_count": null,
   "id": "ce63f340",
   "metadata": {},
   "outputs": [],
   "source": [
    "y=s[8]\n",
    "y"
   ]
  },
  {
   "cell_type": "code",
   "execution_count": null,
   "id": "8e03f21c",
   "metadata": {},
   "outputs": [],
   "source": [
    "n=int(x+y)\n",
    "\n",
    "print(n)\n",
    "print(type(n))"
   ]
  },
  {
   "cell_type": "code",
   "execution_count": null,
   "id": "7322ce56",
   "metadata": {},
   "outputs": [],
   "source": [
    "m=x+y\n",
    "print(m)\n",
    "print(type(m))"
   ]
  },
  {
   "cell_type": "markdown",
   "id": "5dfd8eba",
   "metadata": {},
   "source": [
    "# Replication"
   ]
  },
  {
   "cell_type": "code",
   "execution_count": null,
   "id": "b52ace86",
   "metadata": {},
   "outputs": [],
   "source": [
    "s=\"good\""
   ]
  },
  {
   "cell_type": "code",
   "execution_count": null,
   "id": "4757c4a6",
   "metadata": {},
   "outputs": [],
   "source": [
    "s[0]+(s[1]*6)+s[3]\n",
    "\n",
    "\n",
    "#gooooood * +"
   ]
  },
  {
   "cell_type": "code",
   "execution_count": null,
   "id": "b72f45fd",
   "metadata": {},
   "outputs": [],
   "source": [
    "s*5"
   ]
  },
  {
   "cell_type": "code",
   "execution_count": null,
   "id": "6c8d8920",
   "metadata": {},
   "outputs": [],
   "source": [
    "s[3]*5\n",
    "#'d' * 5"
   ]
  },
  {
   "cell_type": "code",
   "execution_count": null,
   "id": "4bb512c9",
   "metadata": {},
   "outputs": [],
   "source": [
    "(s[3]*7)+(s[2]*5)"
   ]
  },
  {
   "cell_type": "code",
   "execution_count": null,
   "id": "9f599348",
   "metadata": {},
   "outputs": [],
   "source": [
    "s[3]*7+s[2]*5"
   ]
  },
  {
   "cell_type": "code",
   "execution_count": null,
   "id": "ed02dd96",
   "metadata": {},
   "outputs": [],
   "source": [
    "# ddddddd + ooooo\n",
    "\n",
    "# dddddddooooo"
   ]
  },
  {
   "cell_type": "code",
   "execution_count": null,
   "id": "26be4e33",
   "metadata": {},
   "outputs": [],
   "source": [
    "s[3]**3"
   ]
  },
  {
   "cell_type": "code",
   "execution_count": null,
   "id": "8937ef08",
   "metadata": {},
   "outputs": [],
   "source": [
    "a=\"25\"\n",
    "b= 25\n",
    "print(a, b)"
   ]
  },
  {
   "cell_type": "code",
   "execution_count": null,
   "id": "ce6753d9",
   "metadata": {},
   "outputs": [],
   "source": [
    "a"
   ]
  },
  {
   "cell_type": "code",
   "execution_count": null,
   "id": "5900f46a",
   "metadata": {},
   "outputs": [],
   "source": [
    "b"
   ]
  },
  {
   "cell_type": "code",
   "execution_count": null,
   "id": "e7ace352",
   "metadata": {},
   "outputs": [],
   "source": []
  }
 ],
 "metadata": {
  "kernelspec": {
   "display_name": "Python 3 (ipykernel)",
   "language": "python",
   "name": "python3"
  },
  "language_info": {
   "codemirror_mode": {
    "name": "ipython",
    "version": 3
   },
   "file_extension": ".py",
   "mimetype": "text/x-python",
   "name": "python",
   "nbconvert_exporter": "python",
   "pygments_lexer": "ipython3",
   "version": "3.10.9"
  }
 },
 "nbformat": 4,
 "nbformat_minor": 5
}
