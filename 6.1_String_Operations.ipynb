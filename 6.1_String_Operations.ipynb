{
 "cells": [
  {
   "cell_type": "code",
   "execution_count": 1,
   "id": "add39562",
   "metadata": {},
   "outputs": [],
   "source": [
    "a=\"Hello\""
   ]
  },
  {
   "cell_type": "code",
   "execution_count": 2,
   "id": "176317a2",
   "metadata": {},
   "outputs": [
    {
     "data": {
      "text/plain": [
       "'Hello'"
      ]
     },
     "execution_count": 2,
     "metadata": {},
     "output_type": "execute_result"
    }
   ],
   "source": [
    "a"
   ]
  },
  {
   "cell_type": "code",
   "execution_count": 11,
   "id": "4a26d4f1",
   "metadata": {},
   "outputs": [
    {
     "data": {
      "text/plain": [
       "'world'"
      ]
     },
     "execution_count": 11,
     "metadata": {},
     "output_type": "execute_result"
    }
   ],
   "source": [
    "b='world'\n",
    "b"
   ]
  },
  {
   "cell_type": "code",
   "execution_count": 8,
   "id": "f21f157b",
   "metadata": {},
   "outputs": [],
   "source": [
    "text= \"\"\" Hello good morning.\n",
    "how are you \"\"\""
   ]
  },
  {
   "cell_type": "code",
   "execution_count": 9,
   "id": "83d22025",
   "metadata": {},
   "outputs": [
    {
     "data": {
      "text/plain": [
       "' Hello good morning.\\nhow are you '"
      ]
     },
     "execution_count": 9,
     "metadata": {},
     "output_type": "execute_result"
    }
   ],
   "source": [
    "text"
   ]
  },
  {
   "cell_type": "code",
   "execution_count": 10,
   "id": "019bad8a",
   "metadata": {},
   "outputs": [
    {
     "data": {
      "text/plain": [
       "str"
      ]
     },
     "execution_count": 10,
     "metadata": {},
     "output_type": "execute_result"
    }
   ],
   "source": [
    "type(text)"
   ]
  },
  {
   "cell_type": "markdown",
   "id": "e5ce9172",
   "metadata": {},
   "source": [
    "# Concatenation  \"+\""
   ]
  },
  {
   "cell_type": "code",
   "execution_count": 13,
   "id": "5ea233c6",
   "metadata": {},
   "outputs": [
    {
     "name": "stdout",
     "output_type": "stream",
     "text": [
      "Butter\n",
      "Fly\n"
     ]
    }
   ],
   "source": [
    "a=\"Butter\"\n",
    "b=\"Fly\"\n",
    "\n",
    "print(a)\n",
    "print(b)"
   ]
  },
  {
   "cell_type": "code",
   "execution_count": 14,
   "id": "757dac99",
   "metadata": {},
   "outputs": [
    {
     "data": {
      "text/plain": [
       "'ButterFly'"
      ]
     },
     "execution_count": 14,
     "metadata": {},
     "output_type": "execute_result"
    }
   ],
   "source": [
    "a+b"
   ]
  },
  {
   "cell_type": "code",
   "execution_count": null,
   "id": "225dbaa1",
   "metadata": {},
   "outputs": [],
   "source": [
    "#create a two var one have the value \"good\" and other one \"morning\"\n",
    "# OP: \"good morning\""
   ]
  },
  {
   "cell_type": "code",
   "execution_count": 16,
   "id": "f9db0acb",
   "metadata": {},
   "outputs": [
    {
     "data": {
      "text/plain": [
       "'good morning'"
      ]
     },
     "execution_count": 16,
     "metadata": {},
     "output_type": "execute_result"
    }
   ],
   "source": [
    "a=\"good\"\n",
    "b=\"morning\"\n",
    "a+ \" \" + b"
   ]
  },
  {
   "cell_type": "markdown",
   "id": "2beb17ff",
   "metadata": {},
   "source": [
    "# Replication \"*\""
   ]
  },
  {
   "cell_type": "code",
   "execution_count": 17,
   "id": "006d0d6c",
   "metadata": {},
   "outputs": [],
   "source": [
    "a=\"Hello\""
   ]
  },
  {
   "cell_type": "code",
   "execution_count": 19,
   "id": "e51f7e6b",
   "metadata": {},
   "outputs": [
    {
     "data": {
      "text/plain": [
       "'HelloHelloHello'"
      ]
     },
     "execution_count": 19,
     "metadata": {},
     "output_type": "execute_result"
    }
   ],
   "source": [
    "a*3"
   ]
  },
  {
   "cell_type": "code",
   "execution_count": 20,
   "id": "1be28b70",
   "metadata": {},
   "outputs": [],
   "source": [
    "b=\"M\""
   ]
  },
  {
   "cell_type": "code",
   "execution_count": 22,
   "id": "a999c35e",
   "metadata": {},
   "outputs": [
    {
     "data": {
      "text/plain": [
       "'MMMMMMMMMM'"
      ]
     },
     "execution_count": 22,
     "metadata": {},
     "output_type": "execute_result"
    }
   ],
   "source": [
    "b*10"
   ]
  },
  {
   "cell_type": "code",
   "execution_count": 25,
   "id": "31320b86",
   "metadata": {},
   "outputs": [
    {
     "data": {
      "text/plain": [
       "' I am sorry I will never do this again.  I am sorry I will never do this again.  I am sorry I will never do this again.  I am sorry I will never do this again.  I am sorry I will never do this again.  I am sorry I will never do this again.  I am sorry I will never do this again.  I am sorry I will never do this again.  I am sorry I will never do this again.  I am sorry I will never do this again. '"
      ]
     },
     "execution_count": 25,
     "metadata": {},
     "output_type": "execute_result"
    }
   ],
   "source": [
    "text= \"\"\" I am sorry I will never do this again. \"\"\"\n",
    "text * 10"
   ]
  },
  {
   "cell_type": "markdown",
   "id": "bd3c1e4b",
   "metadata": {},
   "source": [
    "# Indexing in String"
   ]
  },
  {
   "cell_type": "code",
   "execution_count": 29,
   "id": "8abde5d5",
   "metadata": {},
   "outputs": [
    {
     "data": {
      "text/plain": [
       "'Hello World! good morning'"
      ]
     },
     "execution_count": 29,
     "metadata": {},
     "output_type": "execute_result"
    }
   ],
   "source": [
    "a=\"Hello World! good morning\"\n",
    "a"
   ]
  },
  {
   "cell_type": "code",
   "execution_count": 30,
   "id": "f0024fbe",
   "metadata": {},
   "outputs": [
    {
     "data": {
      "text/plain": [
       "25"
      ]
     },
     "execution_count": 30,
     "metadata": {},
     "output_type": "execute_result"
    }
   ],
   "source": [
    "len(a)"
   ]
  },
  {
   "cell_type": "code",
   "execution_count": 31,
   "id": "0919b001",
   "metadata": {},
   "outputs": [
    {
     "data": {
      "text/plain": [
       "'H'"
      ]
     },
     "execution_count": 31,
     "metadata": {},
     "output_type": "execute_result"
    }
   ],
   "source": [
    "a[0]"
   ]
  },
  {
   "cell_type": "code",
   "execution_count": 36,
   "id": "65598b2d",
   "metadata": {},
   "outputs": [
    {
     "data": {
      "text/plain": [
       "'g'"
      ]
     },
     "execution_count": 36,
     "metadata": {},
     "output_type": "execute_result"
    }
   ],
   "source": [
    "a[-1]"
   ]
  },
  {
   "cell_type": "code",
   "execution_count": 37,
   "id": "d173d98c",
   "metadata": {},
   "outputs": [
    {
     "data": {
      "text/plain": [
       "'Hello World! good morning'"
      ]
     },
     "execution_count": 37,
     "metadata": {},
     "output_type": "execute_result"
    }
   ],
   "source": [
    "a"
   ]
  },
  {
   "cell_type": "code",
   "execution_count": 39,
   "id": "c4ff59bc",
   "metadata": {},
   "outputs": [
    {
     "data": {
      "text/plain": [
       "'Hello World! good morning'"
      ]
     },
     "execution_count": 39,
     "metadata": {},
     "output_type": "execute_result"
    }
   ],
   "source": [
    "text='Hello World! good morning'\n",
    "text"
   ]
  },
  {
   "cell_type": "code",
   "execution_count": 41,
   "id": "bc3aaf2c",
   "metadata": {},
   "outputs": [
    {
     "data": {
      "text/plain": [
       "'Hello'"
      ]
     },
     "execution_count": 41,
     "metadata": {},
     "output_type": "execute_result"
    }
   ],
   "source": [
    "text[0:5]"
   ]
  },
  {
   "cell_type": "code",
   "execution_count": 43,
   "id": "8ef495f0",
   "metadata": {},
   "outputs": [
    {
     "data": {
      "text/plain": [
       "'good'"
      ]
     },
     "execution_count": 43,
     "metadata": {},
     "output_type": "execute_result"
    }
   ],
   "source": [
    "text[13:17]"
   ]
  },
  {
   "cell_type": "code",
   "execution_count": 44,
   "id": "822968e8",
   "metadata": {},
   "outputs": [
    {
     "data": {
      "text/plain": [
       "'good morning'"
      ]
     },
     "execution_count": 44,
     "metadata": {},
     "output_type": "execute_result"
    }
   ],
   "source": [
    "text[13:]"
   ]
  },
  {
   "cell_type": "code",
   "execution_count": 46,
   "id": "118ae68b",
   "metadata": {},
   "outputs": [
    {
     "data": {
      "text/plain": [
       "'Hello World! good morning'"
      ]
     },
     "execution_count": 46,
     "metadata": {},
     "output_type": "execute_result"
    }
   ],
   "source": [
    "text[0:30]"
   ]
  },
  {
   "cell_type": "code",
   "execution_count": 48,
   "id": "b590e294",
   "metadata": {},
   "outputs": [
    {
     "ename": "IndexError",
     "evalue": "string index out of range",
     "output_type": "error",
     "traceback": [
      "\u001b[1;31m---------------------------------------------------------------------------\u001b[0m",
      "\u001b[1;31mIndexError\u001b[0m                                Traceback (most recent call last)",
      "Cell \u001b[1;32mIn[48], line 1\u001b[0m\n\u001b[1;32m----> 1\u001b[0m \u001b[43mtext\u001b[49m\u001b[43m[\u001b[49m\u001b[38;5;241;43m30\u001b[39;49m\u001b[43m]\u001b[49m\n",
      "\u001b[1;31mIndexError\u001b[0m: string index out of range"
     ]
    }
   ],
   "source": [
    "text[30]"
   ]
  },
  {
   "cell_type": "code",
   "execution_count": 49,
   "id": "80c47dc0",
   "metadata": {},
   "outputs": [],
   "source": [
    "word=\"good\"\n",
    "\n",
    "#o/p: gooooooooood"
   ]
  },
  {
   "cell_type": "code",
   "execution_count": 56,
   "id": "a109fb30",
   "metadata": {},
   "outputs": [
    {
     "data": {
      "text/plain": [
       "'gooooooooood'"
      ]
     },
     "execution_count": 56,
     "metadata": {},
     "output_type": "execute_result"
    }
   ],
   "source": [
    "word[0] + word[1:3]*5 + word[-1]"
   ]
  },
  {
   "cell_type": "code",
   "execution_count": null,
   "id": "49a94b8c",
   "metadata": {},
   "outputs": [],
   "source": []
  },
  {
   "cell_type": "markdown",
   "id": "c6f0e00e",
   "metadata": {},
   "source": [
    "# String Methods"
   ]
  },
  {
   "cell_type": "markdown",
   "id": "61c46a3d",
   "metadata": {},
   "source": [
    "# 1: Converting the string in uppercase or lowercase."
   ]
  },
  {
   "cell_type": "markdown",
   "id": "839e212e",
   "metadata": {},
   "source": [
    "1: str.lower()\n",
    "\n",
    "\n",
    "\n",
    "2: str.upper()"
   ]
  },
  {
   "cell_type": "code",
   "execution_count": 57,
   "id": "355c5832",
   "metadata": {},
   "outputs": [],
   "source": [
    "text=\"Today is a BEAUTIFUL Day.\""
   ]
  },
  {
   "cell_type": "code",
   "execution_count": 58,
   "id": "72cf5d0b",
   "metadata": {},
   "outputs": [],
   "source": [
    "#Convert all the characters of a text in lower case. "
   ]
  },
  {
   "cell_type": "code",
   "execution_count": 59,
   "id": "0ce6f845",
   "metadata": {},
   "outputs": [],
   "source": [
    "#use the  str.lower()"
   ]
  },
  {
   "cell_type": "code",
   "execution_count": 60,
   "id": "345592c7",
   "metadata": {},
   "outputs": [
    {
     "data": {
      "text/plain": [
       "'today is a beautiful day.'"
      ]
     },
     "execution_count": 60,
     "metadata": {},
     "output_type": "execute_result"
    }
   ],
   "source": [
    "text_lower = text.lower()\n",
    "text_lower"
   ]
  },
  {
   "cell_type": "code",
   "execution_count": 61,
   "id": "ff63993f",
   "metadata": {},
   "outputs": [],
   "source": [
    "#Convert all the characters of a text in upper case. "
   ]
  },
  {
   "cell_type": "code",
   "execution_count": 63,
   "id": "3046b80f",
   "metadata": {},
   "outputs": [],
   "source": [
    "#use the  str.upper()"
   ]
  },
  {
   "cell_type": "code",
   "execution_count": 64,
   "id": "ae04a18a",
   "metadata": {},
   "outputs": [
    {
     "data": {
      "text/plain": [
       "'Today is a BEAUTIFUL Day.'"
      ]
     },
     "execution_count": 64,
     "metadata": {},
     "output_type": "execute_result"
    }
   ],
   "source": [
    "text"
   ]
  },
  {
   "cell_type": "code",
   "execution_count": 65,
   "id": "f8cc55f2",
   "metadata": {},
   "outputs": [
    {
     "data": {
      "text/plain": [
       "'TODAY IS A BEAUTIFUL DAY.'"
      ]
     },
     "execution_count": 65,
     "metadata": {},
     "output_type": "execute_result"
    }
   ],
   "source": [
    "text_upper = text.upper()\n",
    "text_upper"
   ]
  },
  {
   "cell_type": "code",
   "execution_count": 66,
   "id": "fc94d92b",
   "metadata": {},
   "outputs": [],
   "source": [
    "#EG:"
   ]
  },
  {
   "cell_type": "code",
   "execution_count": 77,
   "id": "e93c3af6",
   "metadata": {},
   "outputs": [
    {
     "name": "stdout",
     "output_type": "stream",
     "text": [
      "Who is the president of USA ? JoE bIdEN\n",
      "Correct Answer !!\n"
     ]
    }
   ],
   "source": [
    "ans=str(input(\"Who is the president of USA ? \"))\n",
    "\n",
    "ans=ans.lower()\n",
    "\n",
    "correct_ans=\"Joe Biden\"\n",
    "\n",
    "if ans == correct_ans.lower():\n",
    "    print(\"Correct Answer !!\")\n",
    "else:\n",
    "    print(\"Incorrect Answer. \")\n",
    "    "
   ]
  },
  {
   "cell_type": "code",
   "execution_count": 70,
   "id": "d9d80811",
   "metadata": {},
   "outputs": [
    {
     "data": {
      "text/plain": [
       "False"
      ]
     },
     "execution_count": 70,
     "metadata": {},
     "output_type": "execute_result"
    }
   ],
   "source": [
    "\"j\" == \"J\""
   ]
  },
  {
   "cell_type": "markdown",
   "id": "068d8400",
   "metadata": {},
   "source": [
    "# Capitalize"
   ]
  },
  {
   "cell_type": "code",
   "execution_count": null,
   "id": "3c1effc1",
   "metadata": {},
   "outputs": [],
   "source": [
    "#str.capitalize()\n",
    "#It converts all the characters in the small cases and the first will be in caps. "
   ]
  },
  {
   "cell_type": "code",
   "execution_count": 79,
   "id": "2d4af8a8",
   "metadata": {},
   "outputs": [],
   "source": [
    "text = \"Today is a BEAUTIFUL Day. i wish YOU all a very GOOD MORNING\""
   ]
  },
  {
   "cell_type": "code",
   "execution_count": 81,
   "id": "66a417ed",
   "metadata": {},
   "outputs": [
    {
     "data": {
      "text/plain": [
       "'Today is a beautiful day. i wish you all a very good morning'"
      ]
     },
     "execution_count": 81,
     "metadata": {},
     "output_type": "execute_result"
    }
   ],
   "source": [
    "text_capitalize=text.capitalize()\n",
    "text_capitalize"
   ]
  },
  {
   "cell_type": "markdown",
   "id": "8cca2eb0",
   "metadata": {},
   "source": [
    "# title "
   ]
  },
  {
   "cell_type": "code",
   "execution_count": 82,
   "id": "2d4ca692",
   "metadata": {},
   "outputs": [],
   "source": [
    "#str.title()\n",
    "#title function converts every word's first letter in caps and remaining letter is converted in lowercase"
   ]
  },
  {
   "cell_type": "code",
   "execution_count": 85,
   "id": "9ad066c5",
   "metadata": {},
   "outputs": [],
   "source": [
    "text=\"harry POTTER and the prisoner of azkaban\""
   ]
  },
  {
   "cell_type": "code",
   "execution_count": 86,
   "id": "6fce9ac5",
   "metadata": {},
   "outputs": [
    {
     "data": {
      "text/plain": [
       "'Harry Potter And The Prisoner Of Azkaban'"
      ]
     },
     "execution_count": 86,
     "metadata": {},
     "output_type": "execute_result"
    }
   ],
   "source": [
    "text_title = text.title()\n",
    "text_title"
   ]
  },
  {
   "cell_type": "code",
   "execution_count": 87,
   "id": "e1c66375",
   "metadata": {},
   "outputs": [
    {
     "data": {
      "text/plain": [
       "'Harry potter and the prisoner of azkaban'"
      ]
     },
     "execution_count": 87,
     "metadata": {},
     "output_type": "execute_result"
    }
   ],
   "source": [
    "text.capitalize()"
   ]
  },
  {
   "cell_type": "code",
   "execution_count": null,
   "id": "9d660c44",
   "metadata": {},
   "outputs": [],
   "source": []
  },
  {
   "cell_type": "markdown",
   "id": "bdf2f714",
   "metadata": {},
   "source": [
    "# SWAPCASE"
   ]
  },
  {
   "cell_type": "code",
   "execution_count": 88,
   "id": "2731d6f3",
   "metadata": {},
   "outputs": [],
   "source": [
    "#str.swapcase()\n",
    "\n",
    "#it will change every lowercase charater to uppercase and uppercase to lowercase."
   ]
  },
  {
   "cell_type": "code",
   "execution_count": 92,
   "id": "141a4ab1",
   "metadata": {},
   "outputs": [
    {
     "data": {
      "text/plain": [
       "'harry POTTER and The prISONer of AzKABan'"
      ]
     },
     "execution_count": 92,
     "metadata": {},
     "output_type": "execute_result"
    }
   ],
   "source": [
    "text='harry POTTER and The prISONer of AzKABan'\n",
    "text"
   ]
  },
  {
   "cell_type": "code",
   "execution_count": 93,
   "id": "3aad2bad",
   "metadata": {},
   "outputs": [
    {
     "data": {
      "text/plain": [
       "'HARRY potter AND tHE PRisonER OF aZkabAN'"
      ]
     },
     "execution_count": 93,
     "metadata": {},
     "output_type": "execute_result"
    }
   ],
   "source": [
    "text_swapcase = text.swapcase()\n",
    "text_swapcase"
   ]
  },
  {
   "cell_type": "markdown",
   "id": "8b570de1",
   "metadata": {},
   "source": [
    "# islower()"
   ]
  },
  {
   "cell_type": "code",
   "execution_count": 94,
   "id": "c858eb35",
   "metadata": {},
   "outputs": [],
   "source": [
    "#str.islower()\n",
    "\n",
    "# True :  when all the characters are in lowercase\n",
    "# False : When any of the characters is not in lowercase"
   ]
  },
  {
   "cell_type": "code",
   "execution_count": 95,
   "id": "ad16149e",
   "metadata": {},
   "outputs": [],
   "source": [
    "text = \"Avengers Infinity War\""
   ]
  },
  {
   "cell_type": "code",
   "execution_count": 96,
   "id": "df7a2b8d",
   "metadata": {},
   "outputs": [
    {
     "data": {
      "text/plain": [
       "False"
      ]
     },
     "execution_count": 96,
     "metadata": {},
     "output_type": "execute_result"
    }
   ],
   "source": [
    "text.islower()"
   ]
  },
  {
   "cell_type": "code",
   "execution_count": 97,
   "id": "f970af01",
   "metadata": {},
   "outputs": [],
   "source": [
    "text2 = \"avengers infinity war\""
   ]
  },
  {
   "cell_type": "code",
   "execution_count": 98,
   "id": "4649d96b",
   "metadata": {},
   "outputs": [
    {
     "data": {
      "text/plain": [
       "True"
      ]
     },
     "execution_count": 98,
     "metadata": {},
     "output_type": "execute_result"
    }
   ],
   "source": [
    "text2.islower()"
   ]
  },
  {
   "cell_type": "markdown",
   "id": "4c9c1378",
   "metadata": {},
   "source": [
    "# isupper()"
   ]
  },
  {
   "cell_type": "code",
   "execution_count": 99,
   "id": "dd2bc996",
   "metadata": {},
   "outputs": [],
   "source": [
    "#str.isupper()\n",
    "\n",
    "# True :  when all the characters are in uppercase\n",
    "# False : When any of the characters is not in uppercase"
   ]
  },
  {
   "cell_type": "code",
   "execution_count": 100,
   "id": "a60e5c3a",
   "metadata": {},
   "outputs": [],
   "source": [
    "text = \"Avengers Infinity War\""
   ]
  },
  {
   "cell_type": "code",
   "execution_count": 101,
   "id": "14bf96b6",
   "metadata": {},
   "outputs": [
    {
     "data": {
      "text/plain": [
       "False"
      ]
     },
     "execution_count": 101,
     "metadata": {},
     "output_type": "execute_result"
    }
   ],
   "source": [
    "text.isupper()"
   ]
  },
  {
   "cell_type": "code",
   "execution_count": 102,
   "id": "21c850fa",
   "metadata": {},
   "outputs": [],
   "source": [
    "text = \"AVENGERS INFINITY WAR\""
   ]
  },
  {
   "cell_type": "code",
   "execution_count": 103,
   "id": "35b56d41",
   "metadata": {},
   "outputs": [
    {
     "data": {
      "text/plain": [
       "True"
      ]
     },
     "execution_count": 103,
     "metadata": {},
     "output_type": "execute_result"
    }
   ],
   "source": [
    "text.isupper()"
   ]
  },
  {
   "cell_type": "markdown",
   "id": "3b485a07",
   "metadata": {},
   "source": [
    "# istitle()\n"
   ]
  },
  {
   "cell_type": "code",
   "execution_count": 104,
   "id": "d9a3bf44",
   "metadata": {},
   "outputs": [],
   "source": [
    "#str.istitle()\n",
    "\n",
    "# True :  when the first letter of every word in the string is in uppercase and remaining characters are in lowercase\n",
    "# False : else False"
   ]
  },
  {
   "cell_type": "code",
   "execution_count": 105,
   "id": "a0e2c879",
   "metadata": {},
   "outputs": [],
   "source": [
    "text = \"AVENGERS INFINITY WAR\""
   ]
  },
  {
   "cell_type": "code",
   "execution_count": 106,
   "id": "d8aa67ad",
   "metadata": {},
   "outputs": [
    {
     "data": {
      "text/plain": [
       "False"
      ]
     },
     "execution_count": 106,
     "metadata": {},
     "output_type": "execute_result"
    }
   ],
   "source": [
    "text.istitle()"
   ]
  },
  {
   "cell_type": "code",
   "execution_count": 108,
   "id": "953b4511",
   "metadata": {},
   "outputs": [],
   "source": [
    "text2 = \"Avengers Infinity War\""
   ]
  },
  {
   "cell_type": "code",
   "execution_count": 109,
   "id": "0e30c9a9",
   "metadata": {},
   "outputs": [
    {
     "data": {
      "text/plain": [
       "True"
      ]
     },
     "execution_count": 109,
     "metadata": {},
     "output_type": "execute_result"
    }
   ],
   "source": [
    "text2.istitle()"
   ]
  },
  {
   "cell_type": "code",
   "execution_count": 110,
   "id": "57c283f5",
   "metadata": {},
   "outputs": [],
   "source": [
    "text3 = \"Avengers Infinity war\""
   ]
  },
  {
   "cell_type": "code",
   "execution_count": 111,
   "id": "4bc97be9",
   "metadata": {},
   "outputs": [
    {
     "data": {
      "text/plain": [
       "False"
      ]
     },
     "execution_count": 111,
     "metadata": {},
     "output_type": "execute_result"
    }
   ],
   "source": [
    "text3.istitle()"
   ]
  },
  {
   "cell_type": "markdown",
   "id": "3482064c",
   "metadata": {},
   "source": [
    "# isdigit()"
   ]
  },
  {
   "cell_type": "code",
   "execution_count": 112,
   "id": "7d267ff5",
   "metadata": {},
   "outputs": [],
   "source": [
    "#str.isdigit()\n",
    "\n",
    "#True :  When all the characters are in the form of a number\n",
    "#False: If any of the character is not a number"
   ]
  },
  {
   "cell_type": "code",
   "execution_count": 113,
   "id": "145510c0",
   "metadata": {},
   "outputs": [],
   "source": [
    "text = \"123456\""
   ]
  },
  {
   "cell_type": "code",
   "execution_count": 114,
   "id": "4825111a",
   "metadata": {},
   "outputs": [
    {
     "data": {
      "text/plain": [
       "True"
      ]
     },
     "execution_count": 114,
     "metadata": {},
     "output_type": "execute_result"
    }
   ],
   "source": [
    "text.isdigit()"
   ]
  },
  {
   "cell_type": "code",
   "execution_count": 116,
   "id": "49d5fc1f",
   "metadata": {},
   "outputs": [],
   "source": [
    "text2 = \"12345abc\""
   ]
  },
  {
   "cell_type": "code",
   "execution_count": 117,
   "id": "e5d96863",
   "metadata": {},
   "outputs": [
    {
     "data": {
      "text/plain": [
       "False"
      ]
     },
     "execution_count": 117,
     "metadata": {},
     "output_type": "execute_result"
    }
   ],
   "source": [
    "text2.isdigit()"
   ]
  },
  {
   "cell_type": "code",
   "execution_count": 118,
   "id": "4dce501e",
   "metadata": {},
   "outputs": [],
   "source": [
    "text3 = \"12345%$$^&\""
   ]
  },
  {
   "cell_type": "code",
   "execution_count": 119,
   "id": "8c6e057e",
   "metadata": {},
   "outputs": [
    {
     "data": {
      "text/plain": [
       "False"
      ]
     },
     "execution_count": 119,
     "metadata": {},
     "output_type": "execute_result"
    }
   ],
   "source": [
    "text3.isdigit()"
   ]
  },
  {
   "cell_type": "code",
   "execution_count": 121,
   "id": "41c5d137",
   "metadata": {},
   "outputs": [
    {
     "name": "stdout",
     "output_type": "stream",
     "text": [
      "Enter your mobile number: 656432448shdb\n",
      "Please enter a valid mobile number\n"
     ]
    }
   ],
   "source": [
    "mobile = str(input(\"Enter your mobile number: \"))\n",
    "\n",
    "if mobile.isdigit():\n",
    "    print(\"Thanks for your input.\")\n",
    "else:\n",
    "    print(\"Please enter a valid mobile number\")"
   ]
  },
  {
   "cell_type": "markdown",
   "id": "1a266bea",
   "metadata": {},
   "source": [
    "# isalpha()"
   ]
  },
  {
   "cell_type": "code",
   "execution_count": 122,
   "id": "4f39ba01",
   "metadata": {},
   "outputs": [],
   "source": [
    "#str.isalpha()\n",
    "\n",
    "#True  :  When all the characters are in the form of alphabet\n",
    "#False : If any of the character is not a alphabet"
   ]
  },
  {
   "cell_type": "code",
   "execution_count": 126,
   "id": "dded7255",
   "metadata": {},
   "outputs": [],
   "source": [
    "text=\"John\""
   ]
  },
  {
   "cell_type": "code",
   "execution_count": 127,
   "id": "af5937e6",
   "metadata": {},
   "outputs": [
    {
     "data": {
      "text/plain": [
       "True"
      ]
     },
     "execution_count": 127,
     "metadata": {},
     "output_type": "execute_result"
    }
   ],
   "source": [
    "text.isalpha()"
   ]
  },
  {
   "cell_type": "code",
   "execution_count": 128,
   "id": "72469459",
   "metadata": {},
   "outputs": [],
   "source": [
    "text2=\"John2\""
   ]
  },
  {
   "cell_type": "code",
   "execution_count": 129,
   "id": "72a711d3",
   "metadata": {},
   "outputs": [
    {
     "data": {
      "text/plain": [
       "False"
      ]
     },
     "execution_count": 129,
     "metadata": {},
     "output_type": "execute_result"
    }
   ],
   "source": [
    "text2.isalpha()"
   ]
  },
  {
   "cell_type": "code",
   "execution_count": 130,
   "id": "3a4a8046",
   "metadata": {},
   "outputs": [
    {
     "data": {
      "text/plain": [
       "False"
      ]
     },
     "execution_count": 130,
     "metadata": {},
     "output_type": "execute_result"
    }
   ],
   "source": [
    "text3=\"John#\"\n",
    "text3.isalpha()"
   ]
  },
  {
   "cell_type": "markdown",
   "id": "823759d5",
   "metadata": {},
   "source": [
    "# isalnum()"
   ]
  },
  {
   "cell_type": "code",
   "execution_count": 131,
   "id": "681627df",
   "metadata": {},
   "outputs": [],
   "source": [
    "#str.isalnum()\n",
    "\n",
    "#True  :  When all the characters are in the form of alphabet or number\n",
    "#False : If any of the character is not a alphabet or number"
   ]
  },
  {
   "cell_type": "code",
   "execution_count": 133,
   "id": "26af8c2d",
   "metadata": {},
   "outputs": [],
   "source": [
    "text=\"john123\""
   ]
  },
  {
   "cell_type": "code",
   "execution_count": 134,
   "id": "042fd157",
   "metadata": {},
   "outputs": [
    {
     "data": {
      "text/plain": [
       "True"
      ]
     },
     "execution_count": 134,
     "metadata": {},
     "output_type": "execute_result"
    }
   ],
   "source": [
    "text.isalnum()"
   ]
  },
  {
   "cell_type": "code",
   "execution_count": 135,
   "id": "c0c68274",
   "metadata": {},
   "outputs": [],
   "source": [
    "text2 = \"john123@gmail.com\""
   ]
  },
  {
   "cell_type": "code",
   "execution_count": 136,
   "id": "5c6c7f99",
   "metadata": {},
   "outputs": [
    {
     "data": {
      "text/plain": [
       "False"
      ]
     },
     "execution_count": 136,
     "metadata": {},
     "output_type": "execute_result"
    }
   ],
   "source": [
    "text2.isalnum()"
   ]
  },
  {
   "cell_type": "code",
   "execution_count": null,
   "id": "8a624dfa",
   "metadata": {},
   "outputs": [],
   "source": []
  },
  {
   "cell_type": "markdown",
   "id": "bce77363",
   "metadata": {},
   "source": [
    "# startswith() "
   ]
  },
  {
   "cell_type": "code",
   "execution_count": 137,
   "id": "599e99b8",
   "metadata": {},
   "outputs": [],
   "source": [
    "# str.startswith(\"element\")\n",
    "\n",
    "# True:  When the first letter of the string starts with the given element\n",
    "# False:  When the first letter of the string does not starts with the given element"
   ]
  },
  {
   "cell_type": "code",
   "execution_count": 138,
   "id": "ec19cb53",
   "metadata": {},
   "outputs": [],
   "source": [
    "text = \"John Wick\""
   ]
  },
  {
   "cell_type": "code",
   "execution_count": 139,
   "id": "bf13f2b9",
   "metadata": {},
   "outputs": [
    {
     "data": {
      "text/plain": [
       "False"
      ]
     },
     "execution_count": 139,
     "metadata": {},
     "output_type": "execute_result"
    }
   ],
   "source": [
    "text.startswith(\"j\")"
   ]
  },
  {
   "cell_type": "code",
   "execution_count": 140,
   "id": "e1df4c03",
   "metadata": {},
   "outputs": [
    {
     "data": {
      "text/plain": [
       "True"
      ]
     },
     "execution_count": 140,
     "metadata": {},
     "output_type": "execute_result"
    }
   ],
   "source": [
    "text.startswith(\"J\")"
   ]
  },
  {
   "cell_type": "code",
   "execution_count": 141,
   "id": "1803537c",
   "metadata": {},
   "outputs": [],
   "source": [
    "mobile = \"+1 446513813951\""
   ]
  },
  {
   "cell_type": "code",
   "execution_count": 142,
   "id": "fe60d953",
   "metadata": {},
   "outputs": [
    {
     "data": {
      "text/plain": [
       "True"
      ]
     },
     "execution_count": 142,
     "metadata": {},
     "output_type": "execute_result"
    }
   ],
   "source": [
    "mobile.startswith(\"+1\")"
   ]
  },
  {
   "cell_type": "code",
   "execution_count": 143,
   "id": "c310f929",
   "metadata": {},
   "outputs": [],
   "source": [
    "mobile_list = [\"+1 1342356\", \"+91 544264532\", \"+12 653265664\" , \"+13 2653266\", \n",
    "              \"+1 5111630\",\n",
    "              \"+91 66624326\", \n",
    "              \"+1 56342213\",\n",
    "              \"+91 265346626\"]"
   ]
  },
  {
   "cell_type": "code",
   "execution_count": 144,
   "id": "b094641d",
   "metadata": {},
   "outputs": [
    {
     "data": {
      "text/plain": [
       "['+1 1342356',\n",
       " '+91 544264532',\n",
       " '+12 653265664',\n",
       " '+13 2653266',\n",
       " '+1 5111630',\n",
       " '+91 66624326',\n",
       " '+1 56342213',\n",
       " '+91 265346626']"
      ]
     },
     "execution_count": 144,
     "metadata": {},
     "output_type": "execute_result"
    }
   ],
   "source": [
    "mobile_list"
   ]
  },
  {
   "cell_type": "code",
   "execution_count": 145,
   "id": "e33508f1",
   "metadata": {},
   "outputs": [],
   "source": [
    "US_mobile =[]\n",
    "Ind_mobile = []\n",
    " \n",
    "for i in mobile_list:\n",
    "    if i.startswith(\"+1\"):\n",
    "        US_mobile.append(i)\n",
    "    elif i.startswith(\"+91\"):\n",
    "        Ind_mobile.append(i)\n",
    "    else:\n",
    "        pass"
   ]
  },
  {
   "cell_type": "code",
   "execution_count": 146,
   "id": "10eef533",
   "metadata": {},
   "outputs": [
    {
     "data": {
      "text/plain": [
       "['+1 1342356', '+12 653265664', '+13 2653266', '+1 5111630', '+1 56342213']"
      ]
     },
     "execution_count": 146,
     "metadata": {},
     "output_type": "execute_result"
    }
   ],
   "source": [
    "US_mobile"
   ]
  },
  {
   "cell_type": "code",
   "execution_count": 147,
   "id": "8922cc27",
   "metadata": {},
   "outputs": [
    {
     "data": {
      "text/plain": [
       "['+91 544264532', '+91 66624326', '+91 265346626']"
      ]
     },
     "execution_count": 147,
     "metadata": {},
     "output_type": "execute_result"
    }
   ],
   "source": [
    "Ind_mobile"
   ]
  },
  {
   "cell_type": "markdown",
   "id": "8f620c71",
   "metadata": {},
   "source": [
    "# endswith()"
   ]
  },
  {
   "cell_type": "code",
   "execution_count": 148,
   "id": "db57c35e",
   "metadata": {},
   "outputs": [],
   "source": [
    "# str.endswith(\"element\")\n",
    "\n",
    "# True:  When the last letter of the string is the given element\n",
    "# False:  When the last letter of the string is not the given element"
   ]
  },
  {
   "cell_type": "code",
   "execution_count": 149,
   "id": "80e44fde",
   "metadata": {},
   "outputs": [],
   "source": [
    "text = \"Batman The Dark Knight\""
   ]
  },
  {
   "cell_type": "code",
   "execution_count": 150,
   "id": "d1ff25ca",
   "metadata": {},
   "outputs": [
    {
     "data": {
      "text/plain": [
       "True"
      ]
     },
     "execution_count": 150,
     "metadata": {},
     "output_type": "execute_result"
    }
   ],
   "source": [
    "text.endswith(\"t\")"
   ]
  },
  {
   "cell_type": "code",
   "execution_count": 152,
   "id": "459fcb6b",
   "metadata": {},
   "outputs": [
    {
     "data": {
      "text/plain": [
       "False"
      ]
     },
     "execution_count": 152,
     "metadata": {},
     "output_type": "execute_result"
    }
   ],
   "source": [
    "text.endswith(\"T\")"
   ]
  },
  {
   "cell_type": "code",
   "execution_count": 153,
   "id": "2422bd3b",
   "metadata": {},
   "outputs": [],
   "source": [
    "word_list = [\"giving\", \"grouped\", \"wiser\", \"working\", \"started\", \"cleaner\", \"terminated\",\n",
    "            \"putting\", \"skipped\", \"seeker\"]"
   ]
  },
  {
   "cell_type": "code",
   "execution_count": 154,
   "id": "38026030",
   "metadata": {},
   "outputs": [],
   "source": [
    "ing_list = []\n",
    "\n",
    "for i in word_list:\n",
    "    if i.endswith(\"ing\"):\n",
    "        ing_list.append(i)\n",
    "    "
   ]
  },
  {
   "cell_type": "code",
   "execution_count": 155,
   "id": "f82f6e2c",
   "metadata": {},
   "outputs": [
    {
     "data": {
      "text/plain": [
       "['giving', 'working', 'putting']"
      ]
     },
     "execution_count": 155,
     "metadata": {},
     "output_type": "execute_result"
    }
   ],
   "source": [
    "ing_list"
   ]
  },
  {
   "cell_type": "markdown",
   "id": "34df9d60",
   "metadata": {},
   "source": [
    "# strip"
   ]
  },
  {
   "cell_type": "code",
   "execution_count": 1,
   "id": "0dbd8c85",
   "metadata": {},
   "outputs": [],
   "source": [
    "#str.strip()\n",
    "\n",
    "#strip is the function which is removing the characters from the start and the end of  the string. "
   ]
  },
  {
   "cell_type": "code",
   "execution_count": 3,
   "id": "37e02616",
   "metadata": {},
   "outputs": [
    {
     "data": {
      "text/plain": [
       "'$$$$$$$$$$$$$$Python$$$$$$$$$$$$$$$$'"
      ]
     },
     "execution_count": 3,
     "metadata": {},
     "output_type": "execute_result"
    }
   ],
   "source": [
    "text=\"$$$$$$$$$$$$$$Python$$$$$$$$$$$$$$$$\"\n",
    "text"
   ]
  },
  {
   "cell_type": "code",
   "execution_count": 4,
   "id": "84e5f72d",
   "metadata": {},
   "outputs": [
    {
     "data": {
      "text/plain": [
       "'Python'"
      ]
     },
     "execution_count": 4,
     "metadata": {},
     "output_type": "execute_result"
    }
   ],
   "source": [
    "text.strip(\"$\")"
   ]
  },
  {
   "cell_type": "code",
   "execution_count": 5,
   "id": "894e5a35",
   "metadata": {},
   "outputs": [],
   "source": [
    "text=\"$$$$$$$$$$$$$$Pyt$hon$$$$$$$$$$$$$$$$\""
   ]
  },
  {
   "cell_type": "code",
   "execution_count": 6,
   "id": "1895902a",
   "metadata": {},
   "outputs": [
    {
     "data": {
      "text/plain": [
       "'Pyt$hon'"
      ]
     },
     "execution_count": 6,
     "metadata": {},
     "output_type": "execute_result"
    }
   ],
   "source": [
    "text.strip(\"$\")"
   ]
  },
  {
   "cell_type": "code",
   "execution_count": 7,
   "id": "8e965e5e",
   "metadata": {},
   "outputs": [],
   "source": [
    "text = \"(This is a good food)\""
   ]
  },
  {
   "cell_type": "code",
   "execution_count": 18,
   "id": "17a14203",
   "metadata": {},
   "outputs": [
    {
     "data": {
      "text/plain": [
       "'This is a good food'"
      ]
     },
     "execution_count": 18,
     "metadata": {},
     "output_type": "execute_result"
    }
   ],
   "source": [
    "text.strip(\"(\").strip(\")\")\n"
   ]
  },
  {
   "cell_type": "code",
   "execution_count": 14,
   "id": "129d169c",
   "metadata": {},
   "outputs": [],
   "source": [
    "text2 = text.strip(\"(\")"
   ]
  },
  {
   "cell_type": "code",
   "execution_count": 15,
   "id": "6ec4ac93",
   "metadata": {},
   "outputs": [
    {
     "data": {
      "text/plain": [
       "'This is a good food)'"
      ]
     },
     "execution_count": 15,
     "metadata": {},
     "output_type": "execute_result"
    }
   ],
   "source": [
    "text2"
   ]
  },
  {
   "cell_type": "code",
   "execution_count": 17,
   "id": "b19a4cf5",
   "metadata": {},
   "outputs": [
    {
     "data": {
      "text/plain": [
       "'This is a good food'"
      ]
     },
     "execution_count": 17,
     "metadata": {},
     "output_type": "execute_result"
    }
   ],
   "source": [
    "text2.strip(\")\")"
   ]
  },
  {
   "cell_type": "code",
   "execution_count": 24,
   "id": "63850599",
   "metadata": {},
   "outputs": [],
   "source": [
    "text = \"    This is a beautiful day    \""
   ]
  },
  {
   "cell_type": "code",
   "execution_count": 20,
   "id": "fc7aba43",
   "metadata": {},
   "outputs": [
    {
     "data": {
      "text/plain": [
       "'```This is a beautiful day```'"
      ]
     },
     "execution_count": 20,
     "metadata": {},
     "output_type": "execute_result"
    }
   ],
   "source": [
    "text"
   ]
  },
  {
   "cell_type": "code",
   "execution_count": 21,
   "id": "731f580c",
   "metadata": {},
   "outputs": [
    {
     "data": {
      "text/plain": [
       "'This is a beautiful day'"
      ]
     },
     "execution_count": 21,
     "metadata": {},
     "output_type": "execute_result"
    }
   ],
   "source": [
    "text.strip(\"`\")"
   ]
  },
  {
   "cell_type": "code",
   "execution_count": 25,
   "id": "2b696216",
   "metadata": {},
   "outputs": [
    {
     "data": {
      "text/plain": [
       "'    This is a beautiful day    '"
      ]
     },
     "execution_count": 25,
     "metadata": {},
     "output_type": "execute_result"
    }
   ],
   "source": [
    "text"
   ]
  },
  {
   "cell_type": "code",
   "execution_count": 28,
   "id": "6c9ca4f8",
   "metadata": {},
   "outputs": [
    {
     "data": {
      "text/plain": [
       "'This is a beautiful day'"
      ]
     },
     "execution_count": 28,
     "metadata": {},
     "output_type": "execute_result"
    }
   ],
   "source": [
    "text.strip()"
   ]
  },
  {
   "cell_type": "markdown",
   "id": "c84f2432",
   "metadata": {},
   "source": [
    "# lstrip"
   ]
  },
  {
   "cell_type": "code",
   "execution_count": 30,
   "id": "fde35809",
   "metadata": {},
   "outputs": [],
   "source": [
    "#str.lstrip()\n",
    "\n",
    "#lstrip will strip the character from left side only"
   ]
  },
  {
   "cell_type": "code",
   "execution_count": 31,
   "id": "d1856391",
   "metadata": {},
   "outputs": [
    {
     "data": {
      "text/plain": [
       "'########## this is a bautiful day.#############'"
      ]
     },
     "execution_count": 31,
     "metadata": {},
     "output_type": "execute_result"
    }
   ],
   "source": [
    "text = \"########## this is a bautiful day.#############\"\n",
    "text"
   ]
  },
  {
   "cell_type": "code",
   "execution_count": 33,
   "id": "9286565f",
   "metadata": {},
   "outputs": [
    {
     "data": {
      "text/plain": [
       "' this is a bautiful day.#############'"
      ]
     },
     "execution_count": 33,
     "metadata": {},
     "output_type": "execute_result"
    }
   ],
   "source": [
    "text.lstrip(\"#\")"
   ]
  },
  {
   "cell_type": "code",
   "execution_count": 34,
   "id": "67a65301",
   "metadata": {},
   "outputs": [],
   "source": [
    "name=\"Mr. John David\""
   ]
  },
  {
   "cell_type": "code",
   "execution_count": 35,
   "id": "3b41c83d",
   "metadata": {},
   "outputs": [
    {
     "data": {
      "text/plain": [
       "'John David'"
      ]
     },
     "execution_count": 35,
     "metadata": {},
     "output_type": "execute_result"
    }
   ],
   "source": [
    "name.lstrip(\"Mr. \")"
   ]
  },
  {
   "cell_type": "code",
   "execution_count": 40,
   "id": "d396aa1b",
   "metadata": {},
   "outputs": [],
   "source": [
    "name_list = [\"Mr. John David\", \"Mrs. Jenny\", \"Ms. Rozy\", \"Dr. Dexter\", \"CA Jacob\"]"
   ]
  },
  {
   "cell_type": "code",
   "execution_count": 42,
   "id": "6b0897ae",
   "metadata": {},
   "outputs": [],
   "source": [
    "# for name in name_list:\n",
    "#     names=name.lstrip(\"Mr. \").lstrip(\"Mrs. \").lstrip(\"Ms. \").lstrip(\"Dr. \").lstrip(\"CA \")\n",
    "#     print(names)"
   ]
  },
  {
   "cell_type": "markdown",
   "id": "4237c4e8",
   "metadata": {},
   "source": [
    "# rstrip"
   ]
  },
  {
   "cell_type": "code",
   "execution_count": 43,
   "id": "752148fe",
   "metadata": {},
   "outputs": [],
   "source": [
    "#str.rstrip\n",
    "\n",
    "#rstrip is removing the character from the right side of the string"
   ]
  },
  {
   "cell_type": "code",
   "execution_count": 44,
   "id": "0b9ff8a0",
   "metadata": {},
   "outputs": [],
   "source": [
    "text = \"################PYTHON###############\""
   ]
  },
  {
   "cell_type": "code",
   "execution_count": 45,
   "id": "a7c4c1a0",
   "metadata": {},
   "outputs": [
    {
     "data": {
      "text/plain": [
       "'################PYTHON'"
      ]
     },
     "execution_count": 45,
     "metadata": {},
     "output_type": "execute_result"
    }
   ],
   "source": [
    "text.rstrip(\"#\")"
   ]
  },
  {
   "cell_type": "code",
   "execution_count": 46,
   "id": "1cd29f5d",
   "metadata": {},
   "outputs": [],
   "source": [
    "review = \"The place was so good :)\""
   ]
  },
  {
   "cell_type": "code",
   "execution_count": 47,
   "id": "6d0d1130",
   "metadata": {},
   "outputs": [
    {
     "data": {
      "text/plain": [
       "'The place was so good :)'"
      ]
     },
     "execution_count": 47,
     "metadata": {},
     "output_type": "execute_result"
    }
   ],
   "source": [
    "review"
   ]
  },
  {
   "cell_type": "code",
   "execution_count": 48,
   "id": "fd95bb2c",
   "metadata": {},
   "outputs": [
    {
     "data": {
      "text/plain": [
       "'The place was so good '"
      ]
     },
     "execution_count": 48,
     "metadata": {},
     "output_type": "execute_result"
    }
   ],
   "source": [
    "review.rstrip(\":)\")"
   ]
  },
  {
   "cell_type": "code",
   "execution_count": 50,
   "id": "d4aca446",
   "metadata": {},
   "outputs": [],
   "source": [
    "review = \"the food was horrible :xoxo\""
   ]
  },
  {
   "cell_type": "code",
   "execution_count": 51,
   "id": "fbd1a4e3",
   "metadata": {},
   "outputs": [
    {
     "data": {
      "text/plain": [
       "'the food was horrible '"
      ]
     },
     "execution_count": 51,
     "metadata": {},
     "output_type": "execute_result"
    }
   ],
   "source": [
    "review.rstrip(\":xoxo\")"
   ]
  },
  {
   "cell_type": "markdown",
   "id": "e536cf90",
   "metadata": {},
   "source": [
    "# split"
   ]
  },
  {
   "cell_type": "code",
   "execution_count": 53,
   "id": "09271993",
   "metadata": {},
   "outputs": [],
   "source": [
    "#str.split()\n",
    "\n",
    "# the parameter that you are passing into the split based on that the split function will split the string and store each\n",
    "#splitted element into a list"
   ]
  },
  {
   "cell_type": "code",
   "execution_count": 54,
   "id": "6c6c1e9a",
   "metadata": {},
   "outputs": [],
   "source": [
    "text=\"Sir Isaac Newton discovers the law of motion. He also develops the calculus and gravitational laws.\""
   ]
  },
  {
   "cell_type": "code",
   "execution_count": 55,
   "id": "fbe0df70",
   "metadata": {},
   "outputs": [
    {
     "data": {
      "text/plain": [
       "'Sir Isaac Newton discovers the law of motion. He also develops the calculus and gravitational laws.'"
      ]
     },
     "execution_count": 55,
     "metadata": {},
     "output_type": "execute_result"
    }
   ],
   "source": [
    "text"
   ]
  },
  {
   "cell_type": "code",
   "execution_count": 56,
   "id": "77fbd7e8",
   "metadata": {},
   "outputs": [],
   "source": [
    "text_list = text.split()"
   ]
  },
  {
   "cell_type": "code",
   "execution_count": 57,
   "id": "1e5d7777",
   "metadata": {},
   "outputs": [
    {
     "data": {
      "text/plain": [
       "['Sir',\n",
       " 'Isaac',\n",
       " 'Newton',\n",
       " 'discovers',\n",
       " 'the',\n",
       " 'law',\n",
       " 'of',\n",
       " 'motion.',\n",
       " 'He',\n",
       " 'also',\n",
       " 'develops',\n",
       " 'the',\n",
       " 'calculus',\n",
       " 'and',\n",
       " 'gravitational',\n",
       " 'laws.']"
      ]
     },
     "execution_count": 57,
     "metadata": {},
     "output_type": "execute_result"
    }
   ],
   "source": [
    "text_list"
   ]
  },
  {
   "cell_type": "code",
   "execution_count": 58,
   "id": "3a41549a",
   "metadata": {},
   "outputs": [
    {
     "data": {
      "text/plain": [
       "99"
      ]
     },
     "execution_count": 58,
     "metadata": {},
     "output_type": "execute_result"
    }
   ],
   "source": [
    "len(text)"
   ]
  },
  {
   "cell_type": "code",
   "execution_count": 59,
   "id": "ad32f0bb",
   "metadata": {},
   "outputs": [],
   "source": [
    "text = \"\"\" Google LLC (/ˈɡuːɡəl/ ⓘ, GOO-ghəl) is an American multinational corporation and technology company focusing on online advertising, search engine technology, cloud computing, computer software, quantum computing, e-commerce, consumer electronics, and artificial intelligence (AI).[9] It has been referred to as \"the most powerful company in the world\"[10] and as one of the world's most valuable brands due to its market dominance, data collection, and technological advantages in the field of AI.[11][12][13] Google's parent company Alphabet Inc. is one of the five Big Tech companies, alongside Amazon, Apple, Meta, and Microsoft.\n",
    "\n",
    "Google was founded on September 4, 1998, by American computer scientists Larry Page and Sergey Brin while they were PhD students at Stanford University in California. Together they own about 14% of its publicly listed shares and control 56% of its stockholder voting power through super-voting stock. The company went public via an initial public offering (IPO) in 2004. In 2015, Google was reorganized as a wholly owned subsidiary of Alphabet Inc. Google is Alphabet's largest subsidiary and is a holding company for Alphabet's internet properties and interests. Sundar Pichai was appointed CEO of Google on October 24, 2015, replacing Larry Page, who became the CEO of Alphabet. On December 3, 2019, Pichai also became the CEO of Alphabet.[14]\n",
    "\n",
    "The company has since rapidly grown to offer a multitude of products and services beyond Google Search, many of which hold dominant market positions. These products address a wide range of use cases, including email (Gmail), navigation (Waze & Maps), cloud computing (Cloud), web browsing (Chrome), video sharing (YouTube), productivity (Workspace), operating systems (Android), cloud storage (Drive), language translation (Translate), photo storage (Photos), video calling (Meet), smart home (Nest), smartphones (Pixel), wearable technology (Pixel Watch & Fitbit), music streaming (YouTube Music), video on demand (YouTube TV), AI (Google Assistant & Gemini), machine learning APIs (TensorFlow), AI chips (TPU), and more. Discontinued Google products include gaming (Stadia), Glass, Google+, Reader, Play Music, Nexus, Hangouts, and Inbox by Gmail.[15][16]\n",
    "\n",
    "Google's other ventures outside of Internet services and consumer electronics include quantum computing (Sycamore), self-driving cars (Waymo, formerly the Google Self-Driving Car Project), smart cities (Sidewalk Labs), and transformer models (Google Deepmind).[17]\n",
    "\n",
    "Google and YouTube are the two most visited websites worldwide followed by Facebook and X (formerly known as Twitter). Google is also the largest search engine, mapping and navigation application, email provider, office suite, video sharing platform, photo and cloud storage provider, mobile operating system, web browser, ML framework, and AI virtual assistant provider in the world as measured by market share.[18] On the list of most valuable brands, Google is ranked second by Forbes[19] and fourth by Interbrand.[20] It has received significant criticism involving issues such as privacy concerns, tax avoidance, censorship, search neutrality, antitrust and abuse of its monopoly position.\"\"\""
   ]
  },
  {
   "cell_type": "code",
   "execution_count": 61,
   "id": "f4849bdf",
   "metadata": {
    "scrolled": true
   },
   "outputs": [
    {
     "data": {
      "text/plain": [
       "str"
      ]
     },
     "execution_count": 61,
     "metadata": {},
     "output_type": "execute_result"
    }
   ],
   "source": [
    "type(text)"
   ]
  },
  {
   "cell_type": "code",
   "execution_count": 62,
   "id": "3460d294",
   "metadata": {},
   "outputs": [
    {
     "data": {
      "text/plain": [
       "3200"
      ]
     },
     "execution_count": 62,
     "metadata": {},
     "output_type": "execute_result"
    }
   ],
   "source": [
    "len(text)"
   ]
  },
  {
   "cell_type": "code",
   "execution_count": 64,
   "id": "979c0a54",
   "metadata": {},
   "outputs": [],
   "source": [
    "\"\"\"\n",
    "Write a program to create a list of substrings from the given text. the length of each substring should be greater \n",
    "than 300 characters. You have to make sure that no word into the string breaks from the middle. \n",
    "for eg: if the last word of the substring is \"... .... . . . Multinational\" and the 300th character is completed at the \"Mult\"\n",
    "\n",
    "if a the length of 300 character is completed at the middle  of the word then instead of breaking it you have to take the whole\n",
    "word into the same substring. So, instead of exactly 300 character you will get ~300 characters.\n",
    "\n",
    "\n",
    "\n",
    "\"\"\""
   ]
  },
  {
   "cell_type": "code",
   "execution_count": 78,
   "id": "87ec4a1b",
   "metadata": {},
   "outputs": [],
   "source": [
    "text_list=text.split()"
   ]
  },
  {
   "cell_type": "code",
   "execution_count": 91,
   "id": "b04f32d4",
   "metadata": {},
   "outputs": [
    {
     "data": {
      "text/plain": [
       "['Google',\n",
       " 'LLC',\n",
       " '(/ˈɡuːɡəl/',\n",
       " 'ⓘ,',\n",
       " 'GOO-ghəl)',\n",
       " 'is',\n",
       " 'an',\n",
       " 'American',\n",
       " 'multinational',\n",
       " 'corporation']"
      ]
     },
     "execution_count": 91,
     "metadata": {},
     "output_type": "execute_result"
    }
   ],
   "source": [
    "text_list[:10]"
   ]
  },
  {
   "cell_type": "code",
   "execution_count": 90,
   "id": "8360826d",
   "metadata": {
    "scrolled": true
   },
   "outputs": [],
   "source": [
    "# text_list"
   ]
  },
  {
   "cell_type": "code",
   "execution_count": 93,
   "id": "423b4755",
   "metadata": {},
   "outputs": [],
   "source": [
    "del sentence"
   ]
  },
  {
   "cell_type": "code",
   "execution_count": 94,
   "id": "4c8c689d",
   "metadata": {},
   "outputs": [
    {
     "ename": "NameError",
     "evalue": "name 'sentence' is not defined",
     "output_type": "error",
     "traceback": [
      "\u001b[1;31m---------------------------------------------------------------------------\u001b[0m",
      "\u001b[1;31mNameError\u001b[0m                                 Traceback (most recent call last)",
      "Cell \u001b[1;32mIn[94], line 1\u001b[0m\n\u001b[1;32m----> 1\u001b[0m \u001b[43msentence\u001b[49m\n",
      "\u001b[1;31mNameError\u001b[0m: name 'sentence' is not defined"
     ]
    }
   ],
   "source": [
    "sentence"
   ]
  },
  {
   "cell_type": "code",
   "execution_count": 97,
   "id": "e5eb6bbf",
   "metadata": {},
   "outputs": [],
   "source": [
    "a= \" \""
   ]
  },
  {
   "cell_type": "code",
   "execution_count": 98,
   "id": "c4538a60",
   "metadata": {},
   "outputs": [
    {
     "data": {
      "text/plain": [
       "1"
      ]
     },
     "execution_count": 98,
     "metadata": {},
     "output_type": "execute_result"
    }
   ],
   "source": [
    "len(a)"
   ]
  },
  {
   "cell_type": "code",
   "execution_count": 99,
   "id": "a8d37877",
   "metadata": {},
   "outputs": [],
   "source": [
    "b=\"\""
   ]
  },
  {
   "cell_type": "code",
   "execution_count": 100,
   "id": "2a23ceaf",
   "metadata": {},
   "outputs": [
    {
     "data": {
      "text/plain": [
       "0"
      ]
     },
     "execution_count": 100,
     "metadata": {},
     "output_type": "execute_result"
    }
   ],
   "source": [
    "len(b)"
   ]
  },
  {
   "cell_type": "code",
   "execution_count": 103,
   "id": "25ba1123",
   "metadata": {},
   "outputs": [
    {
     "data": {
      "text/plain": [
       "459"
      ]
     },
     "execution_count": 103,
     "metadata": {},
     "output_type": "execute_result"
    }
   ],
   "source": [
    "len(text_list)"
   ]
  },
  {
   "cell_type": "code",
   "execution_count": 105,
   "id": "8a2fa940",
   "metadata": {},
   "outputs": [
    {
     "data": {
      "text/plain": [
       "6"
      ]
     },
     "execution_count": 105,
     "metadata": {},
     "output_type": "execute_result"
    }
   ],
   "source": [
    "len(text_list[0])"
   ]
  },
  {
   "cell_type": "code",
   "execution_count": 102,
   "id": "22da4fe8",
   "metadata": {},
   "outputs": [
    {
     "data": {
      "text/plain": [
       "['Google',\n",
       " 'LLC',\n",
       " '(/ˈɡuːɡəl/',\n",
       " 'ⓘ,',\n",
       " 'GOO-ghəl)',\n",
       " 'is',\n",
       " 'an',\n",
       " 'American',\n",
       " 'multinational',\n",
       " 'corporation',\n",
       " 'and',\n",
       " 'technology',\n",
       " 'company',\n",
       " 'focusing',\n",
       " 'on',\n",
       " 'online',\n",
       " 'advertising,',\n",
       " 'search',\n",
       " 'engine',\n",
       " 'technology,',\n",
       " 'cloud',\n",
       " 'computing,',\n",
       " 'computer',\n",
       " 'software,',\n",
       " 'quantum',\n",
       " 'computing,',\n",
       " 'e-commerce,',\n",
       " 'consumer',\n",
       " 'electronics,',\n",
       " 'and',\n",
       " 'artificial',\n",
       " 'intelligence',\n",
       " '(AI).[9]',\n",
       " 'It',\n",
       " 'has',\n",
       " 'been',\n",
       " 'referred',\n",
       " 'to',\n",
       " 'as',\n",
       " '\"the',\n",
       " 'most',\n",
       " 'powerful',\n",
       " 'company',\n",
       " 'in',\n",
       " 'the',\n",
       " 'world\"[10]',\n",
       " 'and',\n",
       " 'as',\n",
       " 'one',\n",
       " 'of',\n",
       " 'the',\n",
       " \"world's\",\n",
       " 'most',\n",
       " 'valuable',\n",
       " 'brands',\n",
       " 'due',\n",
       " 'to',\n",
       " 'its',\n",
       " 'market',\n",
       " 'dominance,',\n",
       " 'data',\n",
       " 'collection,',\n",
       " 'and',\n",
       " 'technological',\n",
       " 'advantages',\n",
       " 'in',\n",
       " 'the',\n",
       " 'field',\n",
       " 'of',\n",
       " 'AI.[11][12][13]',\n",
       " \"Google's\",\n",
       " 'parent',\n",
       " 'company',\n",
       " 'Alphabet',\n",
       " 'Inc.',\n",
       " 'is',\n",
       " 'one',\n",
       " 'of',\n",
       " 'the',\n",
       " 'five',\n",
       " 'Big',\n",
       " 'Tech',\n",
       " 'companies,',\n",
       " 'alongside',\n",
       " 'Amazon,',\n",
       " 'Apple,',\n",
       " 'Meta,',\n",
       " 'and',\n",
       " 'Microsoft.',\n",
       " 'Google',\n",
       " 'was',\n",
       " 'founded',\n",
       " 'on',\n",
       " 'September',\n",
       " '4,',\n",
       " '1998,',\n",
       " 'by',\n",
       " 'American',\n",
       " 'computer',\n",
       " 'scientists',\n",
       " 'Larry',\n",
       " 'Page',\n",
       " 'and',\n",
       " 'Sergey',\n",
       " 'Brin',\n",
       " 'while',\n",
       " 'they',\n",
       " 'were',\n",
       " 'PhD',\n",
       " 'students',\n",
       " 'at',\n",
       " 'Stanford',\n",
       " 'University',\n",
       " 'in',\n",
       " 'California.',\n",
       " 'Together',\n",
       " 'they',\n",
       " 'own',\n",
       " 'about',\n",
       " '14%',\n",
       " 'of',\n",
       " 'its',\n",
       " 'publicly',\n",
       " 'listed',\n",
       " 'shares',\n",
       " 'and',\n",
       " 'control',\n",
       " '56%',\n",
       " 'of',\n",
       " 'its',\n",
       " 'stockholder',\n",
       " 'voting',\n",
       " 'power',\n",
       " 'through',\n",
       " 'super-voting',\n",
       " 'stock.',\n",
       " 'The',\n",
       " 'company',\n",
       " 'went',\n",
       " 'public',\n",
       " 'via',\n",
       " 'an',\n",
       " 'initial',\n",
       " 'public',\n",
       " 'offering',\n",
       " '(IPO)',\n",
       " 'in',\n",
       " '2004.',\n",
       " 'In',\n",
       " '2015,',\n",
       " 'Google',\n",
       " 'was',\n",
       " 'reorganized',\n",
       " 'as',\n",
       " 'a',\n",
       " 'wholly',\n",
       " 'owned',\n",
       " 'subsidiary',\n",
       " 'of',\n",
       " 'Alphabet',\n",
       " 'Inc.',\n",
       " 'Google',\n",
       " 'is',\n",
       " \"Alphabet's\",\n",
       " 'largest',\n",
       " 'subsidiary',\n",
       " 'and',\n",
       " 'is',\n",
       " 'a',\n",
       " 'holding',\n",
       " 'company',\n",
       " 'for',\n",
       " \"Alphabet's\",\n",
       " 'internet',\n",
       " 'properties',\n",
       " 'and',\n",
       " 'interests.',\n",
       " 'Sundar',\n",
       " 'Pichai',\n",
       " 'was',\n",
       " 'appointed',\n",
       " 'CEO',\n",
       " 'of',\n",
       " 'Google',\n",
       " 'on',\n",
       " 'October',\n",
       " '24,',\n",
       " '2015,',\n",
       " 'replacing',\n",
       " 'Larry',\n",
       " 'Page,',\n",
       " 'who',\n",
       " 'became',\n",
       " 'the',\n",
       " 'CEO',\n",
       " 'of',\n",
       " 'Alphabet.',\n",
       " 'On',\n",
       " 'December',\n",
       " '3,',\n",
       " '2019,',\n",
       " 'Pichai',\n",
       " 'also',\n",
       " 'became',\n",
       " 'the',\n",
       " 'CEO',\n",
       " 'of',\n",
       " 'Alphabet.[14]',\n",
       " 'The',\n",
       " 'company',\n",
       " 'has',\n",
       " 'since',\n",
       " 'rapidly',\n",
       " 'grown',\n",
       " 'to',\n",
       " 'offer',\n",
       " 'a',\n",
       " 'multitude',\n",
       " 'of',\n",
       " 'products',\n",
       " 'and',\n",
       " 'services',\n",
       " 'beyond',\n",
       " 'Google',\n",
       " 'Search,',\n",
       " 'many',\n",
       " 'of',\n",
       " 'which',\n",
       " 'hold',\n",
       " 'dominant',\n",
       " 'market',\n",
       " 'positions.',\n",
       " 'These',\n",
       " 'products',\n",
       " 'address',\n",
       " 'a',\n",
       " 'wide',\n",
       " 'range',\n",
       " 'of',\n",
       " 'use',\n",
       " 'cases,',\n",
       " 'including',\n",
       " 'email',\n",
       " '(Gmail),',\n",
       " 'navigation',\n",
       " '(Waze',\n",
       " '&',\n",
       " 'Maps),',\n",
       " 'cloud',\n",
       " 'computing',\n",
       " '(Cloud),',\n",
       " 'web',\n",
       " 'browsing',\n",
       " '(Chrome),',\n",
       " 'video',\n",
       " 'sharing',\n",
       " '(YouTube),',\n",
       " 'productivity',\n",
       " '(Workspace),',\n",
       " 'operating',\n",
       " 'systems',\n",
       " '(Android),',\n",
       " 'cloud',\n",
       " 'storage',\n",
       " '(Drive),',\n",
       " 'language',\n",
       " 'translation',\n",
       " '(Translate),',\n",
       " 'photo',\n",
       " 'storage',\n",
       " '(Photos),',\n",
       " 'video',\n",
       " 'calling',\n",
       " '(Meet),',\n",
       " 'smart',\n",
       " 'home',\n",
       " '(Nest),',\n",
       " 'smartphones',\n",
       " '(Pixel),',\n",
       " 'wearable',\n",
       " 'technology',\n",
       " '(Pixel',\n",
       " 'Watch',\n",
       " '&',\n",
       " 'Fitbit),',\n",
       " 'music',\n",
       " 'streaming',\n",
       " '(YouTube',\n",
       " 'Music),',\n",
       " 'video',\n",
       " 'on',\n",
       " 'demand',\n",
       " '(YouTube',\n",
       " 'TV),',\n",
       " 'AI',\n",
       " '(Google',\n",
       " 'Assistant',\n",
       " '&',\n",
       " 'Gemini),',\n",
       " 'machine',\n",
       " 'learning',\n",
       " 'APIs',\n",
       " '(TensorFlow),',\n",
       " 'AI',\n",
       " 'chips',\n",
       " '(TPU),',\n",
       " 'and',\n",
       " 'more.',\n",
       " 'Discontinued',\n",
       " 'Google',\n",
       " 'products',\n",
       " 'include',\n",
       " 'gaming',\n",
       " '(Stadia),',\n",
       " 'Glass,',\n",
       " 'Google+,',\n",
       " 'Reader,',\n",
       " 'Play',\n",
       " 'Music,',\n",
       " 'Nexus,',\n",
       " 'Hangouts,',\n",
       " 'and',\n",
       " 'Inbox',\n",
       " 'by',\n",
       " 'Gmail.[15][16]',\n",
       " \"Google's\",\n",
       " 'other',\n",
       " 'ventures',\n",
       " 'outside',\n",
       " 'of',\n",
       " 'Internet',\n",
       " 'services',\n",
       " 'and',\n",
       " 'consumer',\n",
       " 'electronics',\n",
       " 'include',\n",
       " 'quantum',\n",
       " 'computing',\n",
       " '(Sycamore),',\n",
       " 'self-driving',\n",
       " 'cars',\n",
       " '(Waymo,',\n",
       " 'formerly',\n",
       " 'the',\n",
       " 'Google',\n",
       " 'Self-Driving',\n",
       " 'Car',\n",
       " 'Project),',\n",
       " 'smart',\n",
       " 'cities',\n",
       " '(Sidewalk',\n",
       " 'Labs),',\n",
       " 'and',\n",
       " 'transformer',\n",
       " 'models',\n",
       " '(Google',\n",
       " 'Deepmind).[17]',\n",
       " 'Google',\n",
       " 'and',\n",
       " 'YouTube',\n",
       " 'are',\n",
       " 'the',\n",
       " 'two',\n",
       " 'most',\n",
       " 'visited',\n",
       " 'websites',\n",
       " 'worldwide',\n",
       " 'followed',\n",
       " 'by',\n",
       " 'Facebook',\n",
       " 'and',\n",
       " 'X',\n",
       " '(formerly',\n",
       " 'known',\n",
       " 'as',\n",
       " 'Twitter).',\n",
       " 'Google',\n",
       " 'is',\n",
       " 'also',\n",
       " 'the',\n",
       " 'largest',\n",
       " 'search',\n",
       " 'engine,',\n",
       " 'mapping',\n",
       " 'and',\n",
       " 'navigation',\n",
       " 'application,',\n",
       " 'email',\n",
       " 'provider,',\n",
       " 'office',\n",
       " 'suite,',\n",
       " 'video',\n",
       " 'sharing',\n",
       " 'platform,',\n",
       " 'photo',\n",
       " 'and',\n",
       " 'cloud',\n",
       " 'storage',\n",
       " 'provider,',\n",
       " 'mobile',\n",
       " 'operating',\n",
       " 'system,',\n",
       " 'web',\n",
       " 'browser,',\n",
       " 'ML',\n",
       " 'framework,',\n",
       " 'and',\n",
       " 'AI',\n",
       " 'virtual',\n",
       " 'assistant',\n",
       " 'provider',\n",
       " 'in',\n",
       " 'the',\n",
       " 'world',\n",
       " 'as',\n",
       " 'measured',\n",
       " 'by',\n",
       " 'market',\n",
       " 'share.[18]',\n",
       " 'On',\n",
       " 'the',\n",
       " 'list',\n",
       " 'of',\n",
       " 'most',\n",
       " 'valuable',\n",
       " 'brands,',\n",
       " 'Google',\n",
       " 'is',\n",
       " 'ranked',\n",
       " 'second',\n",
       " 'by',\n",
       " 'Forbes[19]',\n",
       " 'and',\n",
       " 'fourth',\n",
       " 'by',\n",
       " 'Interbrand.[20]',\n",
       " 'It',\n",
       " 'has',\n",
       " 'received',\n",
       " 'significant',\n",
       " 'criticism',\n",
       " 'involving',\n",
       " 'issues',\n",
       " 'such',\n",
       " 'as',\n",
       " 'privacy',\n",
       " 'concerns,',\n",
       " 'tax',\n",
       " 'avoidance,',\n",
       " 'censorship,',\n",
       " 'search',\n",
       " 'neutrality,',\n",
       " 'antitrust',\n",
       " 'and',\n",
       " 'abuse',\n",
       " 'of',\n",
       " 'its',\n",
       " 'monopoly',\n",
       " 'position.']"
      ]
     },
     "execution_count": 102,
     "metadata": {},
     "output_type": "execute_result"
    }
   ],
   "source": [
    "text_list"
   ]
  },
  {
   "cell_type": "code",
   "execution_count": 101,
   "id": "1f862ef2",
   "metadata": {},
   "outputs": [
    {
     "name": "stdout",
     "output_type": "stream",
     "text": [
      " Google 7\n",
      " Google LLC 11\n",
      " Google LLC (/ˈɡuːɡəl/ 22\n",
      " Google LLC (/ˈɡuːɡəl/ ⓘ, 25\n",
      " Google LLC (/ˈɡuːɡəl/ ⓘ, GOO-ghəl) 35\n",
      " Google LLC (/ˈɡuːɡəl/ ⓘ, GOO-ghəl) is 38\n",
      " Google LLC (/ˈɡuːɡəl/ ⓘ, GOO-ghəl) is an 41\n",
      " Google LLC (/ˈɡuːɡəl/ ⓘ, GOO-ghəl) is an American 50\n",
      " Google LLC (/ˈɡuːɡəl/ ⓘ, GOO-ghəl) is an American multinational 64\n",
      " Google LLC (/ˈɡuːɡəl/ ⓘ, GOO-ghəl) is an American multinational corporation 76\n",
      " Google LLC (/ˈɡuːɡəl/ ⓘ, GOO-ghəl) is an American multinational corporation and 80\n",
      " Google LLC (/ˈɡuːɡəl/ ⓘ, GOO-ghəl) is an American multinational corporation and technology 91\n",
      " Google LLC (/ˈɡuːɡəl/ ⓘ, GOO-ghəl) is an American multinational corporation and technology company 99\n",
      " Google LLC (/ˈɡuːɡəl/ ⓘ, GOO-ghəl) is an American multinational corporation and technology company focusing 108\n",
      " Google LLC (/ˈɡuːɡəl/ ⓘ, GOO-ghəl) is an American multinational corporation and technology company focusing on 111\n",
      " Google LLC (/ˈɡuːɡəl/ ⓘ, GOO-ghəl) is an American multinational corporation and technology company focusing on online 118\n",
      " Google LLC (/ˈɡuːɡəl/ ⓘ, GOO-ghəl) is an American multinational corporation and technology company focusing on online advertising, 131\n",
      " Google LLC (/ˈɡuːɡəl/ ⓘ, GOO-ghəl) is an American multinational corporation and technology company focusing on online advertising, search 138\n",
      " Google LLC (/ˈɡuːɡəl/ ⓘ, GOO-ghəl) is an American multinational corporation and technology company focusing on online advertising, search engine 145\n",
      " Google LLC (/ˈɡuːɡəl/ ⓘ, GOO-ghəl) is an American multinational corporation and technology company focusing on online advertising, search engine technology, 157\n"
     ]
    }
   ],
   "source": [
    "sub_list=[]\n",
    "sentence=\"\"\n",
    "\n",
    "for word in text_list[:20]: #word: LLC (/ˈɡuːɡəl/\n",
    "    \n",
    "    if len(sentence)<300:\n",
    "        sentence = sentence + \" \" + word  #\"Google LLC (/ˈɡuːɡəl/\"\n",
    "        print(sentence, len(sentence))\n",
    "    else:\n",
    "        sub_list.append(sentence)\n",
    "        sentence=\"\"\n",
    "        \n",
    "    "
   ]
  },
  {
   "cell_type": "code",
   "execution_count": 85,
   "id": "c796a805",
   "metadata": {},
   "outputs": [
    {
     "data": {
      "text/plain": [
       "10"
      ]
     },
     "execution_count": 85,
     "metadata": {},
     "output_type": "execute_result"
    }
   ],
   "source": [
    "len(sub_list)"
   ]
  },
  {
   "cell_type": "code",
   "execution_count": 89,
   "id": "cf70219b",
   "metadata": {},
   "outputs": [
    {
     "data": {
      "text/plain": [
       "305"
      ]
     },
     "execution_count": 89,
     "metadata": {},
     "output_type": "execute_result"
    }
   ],
   "source": [
    "len(sub_list[3])"
   ]
  },
  {
   "cell_type": "code",
   "execution_count": 84,
   "id": "20673217",
   "metadata": {},
   "outputs": [
    {
     "data": {
      "text/plain": [
       "[' Google LLC (/ˈɡuːɡəl/ ⓘ, GOO-ghəl) is an American multinational corporation and technology company focusing on online advertising, search engine technology, cloud computing, computer software, quantum computing, e-commerce, consumer electronics, and artificial intelligence (AI).[9] It has been referred',\n",
       " ' as \"the most powerful company in the world\"[10] and as one of the world\\'s most valuable brands due to its market dominance, data collection, and technological advantages in the field of AI.[11][12][13] Google\\'s parent company Alphabet Inc. is one of the five Big Tech companies, alongside Amazon, Apple,',\n",
       " ' and Microsoft. Google was founded on September 4, 1998, by American computer scientists Larry Page and Sergey Brin while they were PhD students at Stanford University in California. Together they own about 14% of its publicly listed shares and control 56% of its stockholder voting power through super-voting',\n",
       " \" The company went public via an initial public offering (IPO) in 2004. In 2015, Google was reorganized as a wholly owned subsidiary of Alphabet Inc. Google is Alphabet's largest subsidiary and is a holding company for Alphabet's internet properties and interests. Sundar Pichai was appointed CEO of Google\",\n",
       " ' October 24, 2015, replacing Larry Page, who became the CEO of Alphabet. On December 3, 2019, Pichai also became the CEO of Alphabet.[14] The company has since rapidly grown to offer a multitude of products and services beyond Google Search, many of which hold dominant market positions. These products',\n",
       " ' a wide range of use cases, including email (Gmail), navigation (Waze & Maps), cloud computing (Cloud), web browsing (Chrome), video sharing (YouTube), productivity (Workspace), operating systems (Android), cloud storage (Drive), language translation (Translate), photo storage (Photos), video calling',\n",
       " ' smart home (Nest), smartphones (Pixel), wearable technology (Pixel Watch & Fitbit), music streaming (YouTube Music), video on demand (YouTube TV), AI (Google Assistant & Gemini), machine learning APIs (TensorFlow), AI chips (TPU), and more. Discontinued Google products include gaming (Stadia), Glass,',\n",
       " \" Reader, Play Music, Nexus, Hangouts, and Inbox by Gmail.[15][16] Google's other ventures outside of Internet services and consumer electronics include quantum computing (Sycamore), self-driving cars (Waymo, formerly the Google Self-Driving Car Project), smart cities (Sidewalk Labs), and transformer\",\n",
       " ' (Google Deepmind).[17] Google and YouTube are the two most visited websites worldwide followed by Facebook and X (formerly known as Twitter). Google is also the largest search engine, mapping and navigation application, email provider, office suite, video sharing platform, photo and cloud storage provider,',\n",
       " ' operating system, web browser, ML framework, and AI virtual assistant provider in the world as measured by market share.[18] On the list of most valuable brands, Google is ranked second by Forbes[19] and fourth by Interbrand.[20] It has received significant criticism involving issues such as privacy']"
      ]
     },
     "execution_count": 84,
     "metadata": {},
     "output_type": "execute_result"
    }
   ],
   "source": [
    "sub_list"
   ]
  },
  {
   "cell_type": "code",
   "execution_count": null,
   "id": "33da186f",
   "metadata": {},
   "outputs": [],
   "source": []
  },
  {
   "cell_type": "code",
   "execution_count": null,
   "id": "bbbf9a12",
   "metadata": {},
   "outputs": [],
   "source": []
  },
  {
   "cell_type": "code",
   "execution_count": 69,
   "id": "ef374a94",
   "metadata": {},
   "outputs": [],
   "source": [
    "sub_list = []\n",
    "start=0\n",
    "for i in range(300, len(text), 300):\n",
    "    sub_list.append(text[start:i])\n",
    "    start=i"
   ]
  },
  {
   "cell_type": "code",
   "execution_count": 76,
   "id": "02c2d7a4",
   "metadata": {},
   "outputs": [
    {
     "data": {
      "text/plain": [
       "[' Google LLC (/ˈɡuːɡəl/ ⓘ, GOO-ghəl) is an American multinational corporation and technology company focusing on online advertising, search engine technology, cloud computing, computer software, quantum computing, e-commerce, consumer electronics, and artificial intelligence (AI).[9] It has been refe',\n",
       " 'rred to as \"the most powerful company in the world\"[10] and as one of the world\\'s most valuable brands due to its market dominance, data collection, and technological advantages in the field of AI.[11][12][13] Google\\'s parent company Alphabet Inc. is one of the five Big Tech companies, alongside Ama',\n",
       " 'zon, Apple, Meta, and Microsoft.\\n\\nGoogle was founded on September 4, 1998, by American computer scientists Larry Page and Sergey Brin while they were PhD students at Stanford University in California. Together they own about 14% of its publicly listed shares and control 56% of its stockholder voting',\n",
       " \" power through super-voting stock. The company went public via an initial public offering (IPO) in 2004. In 2015, Google was reorganized as a wholly owned subsidiary of Alphabet Inc. Google is Alphabet's largest subsidiary and is a holding company for Alphabet's internet properties and interests. Su\",\n",
       " 'ndar Pichai was appointed CEO of Google on October 24, 2015, replacing Larry Page, who became the CEO of Alphabet. On December 3, 2019, Pichai also became the CEO of Alphabet.[14]\\n\\nThe company has since rapidly grown to offer a multitude of products and services beyond Google Search, many of which h',\n",
       " 'old dominant market positions. These products address a wide range of use cases, including email (Gmail), navigation (Waze & Maps), cloud computing (Cloud), web browsing (Chrome), video sharing (YouTube), productivity (Workspace), operating systems (Android), cloud storage (Drive), language translat',\n",
       " 'ion (Translate), photo storage (Photos), video calling (Meet), smart home (Nest), smartphones (Pixel), wearable technology (Pixel Watch & Fitbit), music streaming (YouTube Music), video on demand (YouTube TV), AI (Google Assistant & Gemini), machine learning APIs (TensorFlow), AI chips (TPU), and mo',\n",
       " \"re. Discontinued Google products include gaming (Stadia), Glass, Google+, Reader, Play Music, Nexus, Hangouts, and Inbox by Gmail.[15][16]\\n\\nGoogle's other ventures outside of Internet services and consumer electronics include quantum computing (Sycamore), self-driving cars (Waymo, formerly the Googl\",\n",
       " 'e Self-Driving Car Project), smart cities (Sidewalk Labs), and transformer models (Google Deepmind).[17]\\n\\nGoogle and YouTube are the two most visited websites worldwide followed by Facebook and X (formerly known as Twitter). Google is also the largest search engine, mapping and navigation applicatio',\n",
       " 'n, email provider, office suite, video sharing platform, photo and cloud storage provider, mobile operating system, web browser, ML framework, and AI virtual assistant provider in the world as measured by market share.[18] On the list of most valuable brands, Google is ranked second by Forbes[19] an']"
      ]
     },
     "execution_count": 76,
     "metadata": {},
     "output_type": "execute_result"
    }
   ],
   "source": [
    "sub_list"
   ]
  },
  {
   "cell_type": "code",
   "execution_count": 75,
   "id": "7c38897d",
   "metadata": {},
   "outputs": [
    {
     "data": {
      "text/plain": [
       "300"
      ]
     },
     "execution_count": 75,
     "metadata": {},
     "output_type": "execute_result"
    }
   ],
   "source": [
    "len(sub_list[2])"
   ]
  },
  {
   "cell_type": "code",
   "execution_count": 66,
   "id": "5a6a3b7a",
   "metadata": {},
   "outputs": [],
   "source": [
    "substring=text[0:300]"
   ]
  },
  {
   "cell_type": "code",
   "execution_count": 67,
   "id": "9f18beeb",
   "metadata": {},
   "outputs": [
    {
     "data": {
      "text/plain": [
       "300"
      ]
     },
     "execution_count": 67,
     "metadata": {},
     "output_type": "execute_result"
    }
   ],
   "source": [
    "len(substring)"
   ]
  },
  {
   "cell_type": "code",
   "execution_count": 68,
   "id": "8764ba13",
   "metadata": {},
   "outputs": [
    {
     "data": {
      "text/plain": [
       "' Google LLC (/ˈɡuːɡəl/ ⓘ, GOO-ghəl) is an American multinational corporation and technology company focusing on online advertising, search engine technology, cloud computing, computer software, quantum computing, e-commerce, consumer electronics, and artificial intelligence (AI).[9] It has been refe'"
      ]
     },
     "execution_count": 68,
     "metadata": {},
     "output_type": "execute_result"
    }
   ],
   "source": [
    "substring"
   ]
  },
  {
   "cell_type": "code",
   "execution_count": null,
   "id": "31900412",
   "metadata": {},
   "outputs": [],
   "source": []
  },
  {
   "cell_type": "code",
   "execution_count": null,
   "id": "fe5987f9",
   "metadata": {},
   "outputs": [],
   "source": []
  },
  {
   "cell_type": "code",
   "execution_count": 65,
   "id": "9d8964a4",
   "metadata": {},
   "outputs": [],
   "source": [
    "sample_text=\"Sir Isaac Newton discovers the law of motion. He also develops the calculus and gravitational laws.\""
   ]
  },
  {
   "cell_type": "code",
   "execution_count": null,
   "id": "ce38fba8",
   "metadata": {},
   "outputs": [],
   "source": [
    "sample_list = [\"Sir Isaac Newton dis\",\n",
    "              \"covers the law of mo\"]\n",
    "\n",
    "sample_list=[\"Sir Isaac Newton discovers\",\n",
    "            \" the law of motion. \",\n",
    "            \"He also develops the\",\n",
    "            \" calculus and gravitational\",\n",
    "            \" laws.\"]"
   ]
  },
  {
   "cell_type": "markdown",
   "id": "94fc8b72",
   "metadata": {},
   "source": [
    "# replace"
   ]
  },
  {
   "cell_type": "code",
   "execution_count": 1,
   "id": "32d4c7da",
   "metadata": {},
   "outputs": [],
   "source": [
    "#str.replace(\"old character\", \"replaced character\")\n",
    "\n",
    "#With the use of replace you can replace any specific character in the string with another character."
   ]
  },
  {
   "cell_type": "code",
   "execution_count": 3,
   "id": "cf303e28",
   "metadata": {},
   "outputs": [
    {
     "data": {
      "text/plain": [
       "'Good Morning'"
      ]
     },
     "execution_count": 3,
     "metadata": {},
     "output_type": "execute_result"
    }
   ],
   "source": [
    "text = \"Good Morning\"\n",
    "text"
   ]
  },
  {
   "cell_type": "code",
   "execution_count": 4,
   "id": "543ee5eb",
   "metadata": {},
   "outputs": [
    {
     "data": {
      "text/plain": [
       "'Good Evening'"
      ]
     },
     "execution_count": 4,
     "metadata": {},
     "output_type": "execute_result"
    }
   ],
   "source": [
    "text.replace(\"Morning\", \"Evening\")"
   ]
  },
  {
   "cell_type": "code",
   "execution_count": 5,
   "id": "a3d55265",
   "metadata": {},
   "outputs": [
    {
     "data": {
      "text/plain": [
       "'Good Morning'"
      ]
     },
     "execution_count": 5,
     "metadata": {},
     "output_type": "execute_result"
    }
   ],
   "source": [
    "text"
   ]
  },
  {
   "cell_type": "code",
   "execution_count": 6,
   "id": "db89f4a1",
   "metadata": {},
   "outputs": [
    {
     "data": {
      "text/plain": [
       "'G$$d M$rning'"
      ]
     },
     "execution_count": 6,
     "metadata": {},
     "output_type": "execute_result"
    }
   ],
   "source": [
    "text.replace(\"o\", \"$\")"
   ]
  },
  {
   "cell_type": "code",
   "execution_count": 7,
   "id": "5e7bc57e",
   "metadata": {},
   "outputs": [],
   "source": [
    "text = \"\"\"\n",
    "[{Hey how are you?}:\n",
    "{I am good. Thanks for asking}:\n",
    "{What about you?}:\n",
    "]\n",
    "\n",
    "\"\"\""
   ]
  },
  {
   "cell_type": "code",
   "execution_count": 8,
   "id": "61292c0e",
   "metadata": {},
   "outputs": [
    {
     "data": {
      "text/plain": [
       "'\\n[{Hey how are you?}:\\n{I am good. Thanks for asking}:\\n{What about you?}:\\n]\\n\\n'"
      ]
     },
     "execution_count": 8,
     "metadata": {},
     "output_type": "execute_result"
    }
   ],
   "source": [
    "text"
   ]
  },
  {
   "cell_type": "code",
   "execution_count": 11,
   "id": "3ed08560",
   "metadata": {},
   "outputs": [
    {
     "data": {
      "text/plain": [
       "'\\n{Hey how are you?}:\\n{I am good. Thanks for asking}:\\n{What about you?}:\\n]\\n\\n'"
      ]
     },
     "execution_count": 11,
     "metadata": {},
     "output_type": "execute_result"
    }
   ],
   "source": [
    "text2 = text.replace(\"[\", \"\")\n",
    "text2"
   ]
  },
  {
   "cell_type": "code",
   "execution_count": 13,
   "id": "5498723f",
   "metadata": {},
   "outputs": [],
   "source": [
    "text2 =text2.replace(\"]\", \"\")"
   ]
  },
  {
   "cell_type": "code",
   "execution_count": 17,
   "id": "1b61060e",
   "metadata": {},
   "outputs": [
    {
     "data": {
      "text/plain": [
       "'\\n[{Hey how are you?}:\\n{I am good. Thanks for asking}:\\n{What about you?}:\\n]\\n\\n'"
      ]
     },
     "execution_count": 17,
     "metadata": {},
     "output_type": "execute_result"
    }
   ],
   "source": [
    "text"
   ]
  },
  {
   "cell_type": "code",
   "execution_count": 18,
   "id": "75dfc7e1",
   "metadata": {},
   "outputs": [
    {
     "data": {
      "text/plain": [
       "'(Hey how are you?),(I am good. Thanks for asking),(What about you?),'"
      ]
     },
     "execution_count": 18,
     "metadata": {},
     "output_type": "execute_result"
    }
   ],
   "source": [
    "text.replace(\"[\", \"\").replace(\"]\",\"\").replace(\"{\", \"(\").replace(\"}\",\")\").replace(\":\", \",\").replace(\"\\n\", \"\")"
   ]
  },
  {
   "cell_type": "code",
   "execution_count": null,
   "id": "241268ae",
   "metadata": {},
   "outputs": [],
   "source": [
    "\n",
    "\"\"\"\n",
    "WAP to convert a string's vowels with the \"#\" symbol convert all the consonants in the capital letter.\n",
    "\n",
    "I/P: how are you?\n",
    "O/P: H#W #R# Y##\n",
    "\n",
    "I/P: I love pizza\n",
    "O/P: # L#V# P#ZZ#\n",
    "\n",
    "\n",
    "\"\"\"\n"
   ]
  },
  {
   "cell_type": "code",
   "execution_count": 21,
   "id": "24480990",
   "metadata": {},
   "outputs": [],
   "source": [
    "def convert(text):\n",
    "    return text.upper().replace(\"A\",\"#\").replace(\"E\",\"#\").replace(\"I\",\"#\").replace(\"O\",\"#\").replace(\"U\",\"#\")"
   ]
  },
  {
   "cell_type": "code",
   "execution_count": 22,
   "id": "7e6af7af",
   "metadata": {},
   "outputs": [
    {
     "data": {
      "text/plain": [
       "'H#W #R# Y##?'"
      ]
     },
     "execution_count": 22,
     "metadata": {},
     "output_type": "execute_result"
    }
   ],
   "source": [
    "convert(\"how are you?\")"
   ]
  },
  {
   "cell_type": "code",
   "execution_count": 23,
   "id": "41cb9df8",
   "metadata": {},
   "outputs": [
    {
     "data": {
      "text/plain": [
       "'H#Y T#D#Y #S # B###R#F#L D#Y'"
      ]
     },
     "execution_count": 23,
     "metadata": {},
     "output_type": "execute_result"
    }
   ],
   "source": [
    "convert(\"Hey today is a beauriful day\")"
   ]
  },
  {
   "cell_type": "code",
   "execution_count": null,
   "id": "d93cf04b",
   "metadata": {},
   "outputs": [],
   "source": []
  }
 ],
 "metadata": {
  "kernelspec": {
   "display_name": "Python 3 (ipykernel)",
   "language": "python",
   "name": "python3"
  },
  "language_info": {
   "codemirror_mode": {
    "name": "ipython",
    "version": 3
   },
   "file_extension": ".py",
   "mimetype": "text/x-python",
   "name": "python",
   "nbconvert_exporter": "python",
   "pygments_lexer": "ipython3",
   "version": "3.10.9"
  }
 },
 "nbformat": 4,
 "nbformat_minor": 5
}
