{
 "cells": [
  {
   "cell_type": "code",
   "execution_count": null,
   "id": "4266f92c",
   "metadata": {},
   "outputs": [],
   "source": [
    "ls=[1,2,3,4,5,6]"
   ]
  },
  {
   "cell_type": "code",
   "execution_count": null,
   "id": "bf080b46",
   "metadata": {},
   "outputs": [],
   "source": [
    "s=0\n",
    "for i in ls:\n",
    "    s=s+i\n",
    "print(s)"
   ]
  },
  {
   "cell_type": "code",
   "execution_count": null,
   "id": "43661932",
   "metadata": {},
   "outputs": [],
   "source": [
    "sum(ls)"
   ]
  },
  {
   "cell_type": "code",
   "execution_count": null,
   "id": "73c22491",
   "metadata": {},
   "outputs": [],
   "source": [
    "max(ls)"
   ]
  },
  {
   "cell_type": "code",
   "execution_count": null,
   "id": "55be19e9",
   "metadata": {},
   "outputs": [],
   "source": [
    "min(ls)"
   ]
  },
  {
   "cell_type": "code",
   "execution_count": null,
   "id": "20b6de3e",
   "metadata": {},
   "outputs": [],
   "source": [
    "avg(ls)"
   ]
  },
  {
   "cell_type": "code",
   "execution_count": null,
   "id": "ddcc9970",
   "metadata": {},
   "outputs": [],
   "source": [
    "lenghth=10\n",
    "breadth=5"
   ]
  },
  {
   "cell_type": "code",
   "execution_count": null,
   "id": "74160715",
   "metadata": {},
   "outputs": [],
   "source": [
    "area(lenghth, breadth)"
   ]
  },
  {
   "cell_type": "code",
   "execution_count": null,
   "id": "475c808d",
   "metadata": {},
   "outputs": [],
   "source": [
    "for i in range(1,5,2):\n",
    "    print(i)"
   ]
  },
  {
   "cell_type": "code",
   "execution_count": null,
   "id": "74908785",
   "metadata": {},
   "outputs": [],
   "source": [
    "a=[1,2,3,4,5]\n",
    "b=[6,7,8,9]"
   ]
  },
  {
   "cell_type": "code",
   "execution_count": null,
   "id": "c59685a8",
   "metadata": {},
   "outputs": [],
   "source": [
    "sum(a)"
   ]
  },
  {
   "cell_type": "code",
   "execution_count": null,
   "id": "0f56818e",
   "metadata": {},
   "outputs": [],
   "source": [
    "'''\n",
    "SYNTAX\n",
    "\n",
    "def <function name> (input1, input2....):\n",
    "    operations 1\n",
    "    operation 2\n",
    "    operation 3\n",
    "    .\n",
    "    .\n",
    "    operation n\n",
    "    \n",
    "    return output1, output2..... outputn\n",
    "\n",
    "\n",
    "\n",
    "'''"
   ]
  },
  {
   "cell_type": "code",
   "execution_count": null,
   "id": "195ff3ae",
   "metadata": {},
   "outputs": [],
   "source": [
    "def add_five(x): \n",
    "    \n",
    "    output = x+5\n",
    "    \n",
    "    return output \n",
    "    "
   ]
  },
  {
   "cell_type": "code",
   "execution_count": null,
   "id": "02a67d9c",
   "metadata": {},
   "outputs": [],
   "source": [
    "#call the function\n",
    "\n",
    "y=100\n",
    "money=50\n",
    "salary=5000\n"
   ]
  },
  {
   "cell_type": "code",
   "execution_count": null,
   "id": "304f9b54",
   "metadata": {},
   "outputs": [],
   "source": [
    "add_five(salary)"
   ]
  },
  {
   "cell_type": "code",
   "execution_count": null,
   "id": "939cbcc7",
   "metadata": {},
   "outputs": [],
   "source": [
    "add_five(y)"
   ]
  },
  {
   "cell_type": "code",
   "execution_count": null,
   "id": "d009c26f",
   "metadata": {},
   "outputs": [],
   "source": [
    "#create a python method that takes the length and the breadth of a rectangle and returns the area of the rectangle."
   ]
  },
  {
   "cell_type": "code",
   "execution_count": null,
   "id": "d37d0c96",
   "metadata": {},
   "outputs": [],
   "source": []
  },
  {
   "cell_type": "code",
   "execution_count": null,
   "id": "5ba9ffeb",
   "metadata": {},
   "outputs": [],
   "source": []
  },
  {
   "cell_type": "code",
   "execution_count": null,
   "id": "ca512269",
   "metadata": {},
   "outputs": [],
   "source": []
  },
  {
   "cell_type": "code",
   "execution_count": null,
   "id": "07d1c8fd",
   "metadata": {},
   "outputs": [],
   "source": [
    "\"\"\"\n",
    "Function is a machine\n",
    "\n",
    "\n",
    "\"\"\""
   ]
  },
  {
   "cell_type": "code",
   "execution_count": null,
   "id": "7cb55a47",
   "metadata": {},
   "outputs": [],
   "source": [
    "#it will take an integer input and add 5 into it\n",
    "def addition(a):\n",
    "    out=a+5\n",
    "    return out\n",
    "    "
   ]
  },
  {
   "cell_type": "code",
   "execution_count": null,
   "id": "e5e4a2b7",
   "metadata": {},
   "outputs": [],
   "source": [
    "x=10"
   ]
  },
  {
   "cell_type": "code",
   "execution_count": null,
   "id": "c40ee04c",
   "metadata": {},
   "outputs": [],
   "source": [
    "y=addition(x)\n",
    "y"
   ]
  },
  {
   "cell_type": "code",
   "execution_count": null,
   "id": "f8883adb",
   "metadata": {},
   "outputs": [],
   "source": [
    "def two_input(m, n):\n",
    "    \n",
    "    print('Input 1 =',m)\n",
    "    print('Input 2 =',n)\n",
    "    \n",
    "    output = m + n\n",
    "    return output"
   ]
  },
  {
   "cell_type": "code",
   "execution_count": null,
   "id": "7acca2e9",
   "metadata": {},
   "outputs": [],
   "source": [
    "ans=two_input(10,15)\n",
    "print(ans)"
   ]
  },
  {
   "cell_type": "code",
   "execution_count": null,
   "id": "7adcfa98",
   "metadata": {},
   "outputs": [],
   "source": [
    "def two_output(input1, input2):\n",
    "    print('Input1=',input1)\n",
    "    print('Input2=',input2)\n",
    "    \n",
    "    add = input1 + input2\n",
    "    sub = input1 - input2\n",
    "    \n",
    "    return add, sub"
   ]
  },
  {
   "cell_type": "code",
   "execution_count": null,
   "id": "76d88f0a",
   "metadata": {},
   "outputs": [],
   "source": [
    "two_output(15,10)"
   ]
  },
  {
   "cell_type": "code",
   "execution_count": null,
   "id": "7d10066b",
   "metadata": {},
   "outputs": [],
   "source": [
    "addition, subtraction = two_output(15,10)"
   ]
  },
  {
   "cell_type": "code",
   "execution_count": null,
   "id": "e7c562e0",
   "metadata": {},
   "outputs": [],
   "source": [
    "addition"
   ]
  },
  {
   "cell_type": "code",
   "execution_count": null,
   "id": "95ee6f32",
   "metadata": {},
   "outputs": [],
   "source": [
    "subtraction"
   ]
  },
  {
   "cell_type": "code",
   "execution_count": null,
   "id": "9043b1a1",
   "metadata": {},
   "outputs": [],
   "source": [
    "def list_output(input1, input2):\n",
    "    print('Input1=',input1)\n",
    "    print('Input2=',input2)\n",
    "    \n",
    "    add = input1 + input2\n",
    "    sub = input1 - input2\n",
    "#     return (add, sub)\n",
    "#     l=[add, sub]\n",
    "#     return [add, sub]\n",
    "\n",
    "    return {'addition':add, 'subtraction':sub }\n",
    "#     return {add, sub}\n",
    "#     return [add, sub], {'addition':add, 'subtraction':sub }"
   ]
  },
  {
   "cell_type": "code",
   "execution_count": null,
   "id": "cbf06f40",
   "metadata": {},
   "outputs": [],
   "source": [
    "list_output(20, 10)"
   ]
  },
  {
   "cell_type": "code",
   "execution_count": null,
   "id": "fe8f6e90",
   "metadata": {},
   "outputs": [],
   "source": [
    "def input_2(a,b):\n",
    "    print (\"Input A =\", a)\n",
    "    print ('Input B =', b)\n",
    "    \n",
    "    add = a+b\n",
    "    sub = a-b\n",
    "    return {'addition':add,'substraction':sub} #[add, sub],\n",
    "x = input_2 (15,25)\n"
   ]
  },
  {
   "cell_type": "code",
   "execution_count": null,
   "id": "00af6663",
   "metadata": {},
   "outputs": [],
   "source": [
    "x"
   ]
  },
  {
   "cell_type": "code",
   "execution_count": null,
   "id": "f8f0b2cd",
   "metadata": {},
   "outputs": [],
   "source": [
    "x, y=list_output(15,25)"
   ]
  },
  {
   "cell_type": "code",
   "execution_count": null,
   "id": "28b5aa65",
   "metadata": {},
   "outputs": [],
   "source": [
    "x"
   ]
  },
  {
   "cell_type": "code",
   "execution_count": null,
   "id": "ecd0f458",
   "metadata": {},
   "outputs": [],
   "source": [
    "y"
   ]
  },
  {
   "cell_type": "code",
   "execution_count": null,
   "id": "71217c65",
   "metadata": {},
   "outputs": [],
   "source": [
    "def addition(a,b):\n",
    "    add=a+b\n",
    "    return add   \n",
    "def subtraction(a,b):\n",
    "    sub=a-b\n",
    "    return sub    "
   ]
  },
  {
   "cell_type": "code",
   "execution_count": null,
   "id": "9a1d8403",
   "metadata": {},
   "outputs": [],
   "source": [
    "addition(10,12)"
   ]
  },
  {
   "cell_type": "code",
   "execution_count": null,
   "id": "be3245dc",
   "metadata": {},
   "outputs": [],
   "source": [
    "subtraction(20,10)"
   ]
  },
  {
   "cell_type": "code",
   "execution_count": null,
   "id": "c863cee1",
   "metadata": {},
   "outputs": [],
   "source": [
    "s=0\n",
    "for i in l:\n",
    "    s=s+i\n",
    "print(s)"
   ]
  },
  {
   "cell_type": "code",
   "execution_count": null,
   "id": "895879d1",
   "metadata": {},
   "outputs": [],
   "source": [
    "print(sum(l1))\n",
    "print(sum(l2))\n",
    "print(sum(l3))\n",
    "print(sum(l4))\n",
    "print(sum(l5))"
   ]
  },
  {
   "cell_type": "code",
   "execution_count": null,
   "id": "18651816",
   "metadata": {},
   "outputs": [],
   "source": [
    "l1=[56,4,4,54,54,56,46]\n",
    "l2=[54,6,16,1,6,61,6,62,6,26]\n",
    "l3=[5,54,5,45,4,54,5,415,4]\n",
    "l4=[5,8,75,1,54,1,7524,51]\n",
    "l5=[4,49,65,4,148,1,24,41,52]"
   ]
  },
  {
   "cell_type": "code",
   "execution_count": null,
   "id": "67fe0c67",
   "metadata": {},
   "outputs": [],
   "source": [
    "l=[0,1,2,3,4,5,6,7,8,9,10,11,12,13]\n",
    "even_list=[]\n",
    "odd_list=[]\n",
    "\n",
    "for i in l :\n",
    "    if (i%2==0):\n",
    "        even_list.append(i)\n",
    "    else:\n",
    "        odd_list.append(i)\n",
    "        \n",
    "print(even_list)\n",
    "print(odd_list)\n",
    "    \n",
    "    "
   ]
  },
  {
   "cell_type": "code",
   "execution_count": null,
   "id": "227a238d",
   "metadata": {},
   "outputs": [],
   "source": [
    "def even_odd_filter(l):\n",
    "    even_list=[]\n",
    "    odd_list=[]\n",
    "\n",
    "    for i in l :\n",
    "        if (i%2==0):\n",
    "            even_list.append(i)\n",
    "        else:\n",
    "            odd_list.append(i)\n",
    "    return even_list, odd_list"
   ]
  },
  {
   "cell_type": "code",
   "execution_count": null,
   "id": "0f7de46b",
   "metadata": {},
   "outputs": [],
   "source": [
    "l2"
   ]
  },
  {
   "cell_type": "code",
   "execution_count": null,
   "id": "6f683f45",
   "metadata": {},
   "outputs": [],
   "source": [
    "sum(l2)"
   ]
  },
  {
   "cell_type": "code",
   "execution_count": null,
   "id": "796da53d",
   "metadata": {},
   "outputs": [],
   "source": [
    "e, o = even_odd_filter(l2)"
   ]
  },
  {
   "cell_type": "code",
   "execution_count": null,
   "id": "028d92bb",
   "metadata": {},
   "outputs": [],
   "source": [
    "e"
   ]
  },
  {
   "cell_type": "code",
   "execution_count": null,
   "id": "d6db3e39",
   "metadata": {},
   "outputs": [],
   "source": [
    "o"
   ]
  },
  {
   "cell_type": "code",
   "execution_count": null,
   "id": "90bb981b",
   "metadata": {},
   "outputs": [],
   "source": [
    "l=[1,2,3,4,5,6,7,8]\n",
    "\n",
    "s=[]\n",
    "for i in l :\n",
    "    s.append(i**2)\n",
    "print(s)\n"
   ]
  },
  {
   "cell_type": "code",
   "execution_count": null,
   "id": "7658b27a",
   "metadata": {},
   "outputs": [],
   "source": []
  },
  {
   "cell_type": "code",
   "execution_count": 1,
   "id": "382b2a90",
   "metadata": {},
   "outputs": [],
   "source": [
    "l=[1,2,3,4,5,6]"
   ]
  },
  {
   "cell_type": "code",
   "execution_count": 2,
   "id": "cd93705e",
   "metadata": {},
   "outputs": [
    {
     "data": {
      "text/plain": [
       "21"
      ]
     },
     "execution_count": 2,
     "metadata": {},
     "output_type": "execute_result"
    }
   ],
   "source": [
    "sum(l)"
   ]
  },
  {
   "cell_type": "code",
   "execution_count": 3,
   "id": "ca31ff8d",
   "metadata": {},
   "outputs": [],
   "source": [
    "def sum_list(l):\n",
    "    s=0\n",
    "    for i in l:\n",
    "        s=s+i\n",
    "    return s"
   ]
  },
  {
   "cell_type": "code",
   "execution_count": 5,
   "id": "a81a5abb",
   "metadata": {},
   "outputs": [
    {
     "data": {
      "text/plain": [
       "21"
      ]
     },
     "execution_count": 5,
     "metadata": {},
     "output_type": "execute_result"
    }
   ],
   "source": [
    "sum_list(l)"
   ]
  },
  {
   "cell_type": "code",
   "execution_count": 6,
   "id": "e1307800",
   "metadata": {},
   "outputs": [
    {
     "data": {
      "text/plain": [
       "17093"
      ]
     },
     "execution_count": 6,
     "metadata": {},
     "output_type": "execute_result"
    }
   ],
   "source": [
    "l2=[295,2162,956,6465,3232,3262,49,346,326]\n",
    "sum_list(l2)"
   ]
  },
  {
   "cell_type": "code",
   "execution_count": 7,
   "id": "0f8649f8",
   "metadata": {},
   "outputs": [
    {
     "data": {
      "text/plain": [
       "17093"
      ]
     },
     "execution_count": 7,
     "metadata": {},
     "output_type": "execute_result"
    }
   ],
   "source": [
    "sum(l2)"
   ]
  },
  {
   "cell_type": "code",
   "execution_count": 8,
   "id": "627bca46",
   "metadata": {},
   "outputs": [
    {
     "ename": "NameError",
     "evalue": "name 'product' is not defined",
     "output_type": "error",
     "traceback": [
      "\u001b[1;31m---------------------------------------------------------------------------\u001b[0m",
      "\u001b[1;31mNameError\u001b[0m                                 Traceback (most recent call last)",
      "Cell \u001b[1;32mIn[8], line 1\u001b[0m\n\u001b[1;32m----> 1\u001b[0m \u001b[43mproduct\u001b[49m(l2)\n",
      "\u001b[1;31mNameError\u001b[0m: name 'product' is not defined"
     ]
    }
   ],
   "source": [
    "product(l2)"
   ]
  },
  {
   "cell_type": "code",
   "execution_count": 9,
   "id": "20eda1b6",
   "metadata": {},
   "outputs": [],
   "source": [
    "def product(ls):\n",
    "    m=1\n",
    "    for i in ls:\n",
    "        m=m*i\n",
    "    return m"
   ]
  },
  {
   "cell_type": "code",
   "execution_count": 10,
   "id": "a961bf03",
   "metadata": {},
   "outputs": [
    {
     "data": {
      "text/plain": [
       "229693769380397115615897600"
      ]
     },
     "execution_count": 10,
     "metadata": {},
     "output_type": "execute_result"
    }
   ],
   "source": [
    "product(l2)"
   ]
  },
  {
   "cell_type": "code",
   "execution_count": 13,
   "id": "4c887e64",
   "metadata": {},
   "outputs": [],
   "source": [
    "l=[545,4546,646]"
   ]
  },
  {
   "cell_type": "code",
   "execution_count": 14,
   "id": "cde09c0f",
   "metadata": {},
   "outputs": [
    {
     "data": {
      "text/plain": [
       "1600510220"
      ]
     },
     "execution_count": 14,
     "metadata": {},
     "output_type": "execute_result"
    }
   ],
   "source": [
    "product(l)"
   ]
  },
  {
   "cell_type": "code",
   "execution_count": null,
   "id": "ae2545ea",
   "metadata": {},
   "outputs": [],
   "source": []
  },
  {
   "cell_type": "code",
   "execution_count": null,
   "id": "0bbc2170",
   "metadata": {},
   "outputs": [],
   "source": []
  },
  {
   "cell_type": "code",
   "execution_count": null,
   "id": "b6ce4ab1",
   "metadata": {},
   "outputs": [],
   "source": [
    "out=[]\n",
    "s1=0\n",
    "for i in l1:\n",
    "    s1=i+s1\n",
    "    \n",
    "out.append(s1)\n",
    "\n",
    "s2=0\n",
    "for i in l2:\n",
    "    s2=i+s2\n",
    "    \n",
    "out.append(s2)\n",
    "\n",
    "s3=0\n",
    "for i in l3:\n",
    "    s3=i+s3\n",
    "    \n",
    "out.append(s3)\n",
    "\n",
    "s4=0\n",
    "for i in l4:\n",
    "    s4=i+s4\n",
    "    \n",
    "out.append(s4)\n",
    "\n",
    "s5=0\n",
    "for i in l5:\n",
    "    s5=i+s5\n",
    "    \n",
    "out.append(s5)\n"
   ]
  },
  {
   "cell_type": "code",
   "execution_count": null,
   "id": "42463148",
   "metadata": {},
   "outputs": [],
   "source": [
    "out"
   ]
  },
  {
   "cell_type": "code",
   "execution_count": null,
   "id": "5700c959",
   "metadata": {},
   "outputs": [],
   "source": [
    "a1=sum_list(l1)\n",
    "a2=sum_list(l2)\n",
    "a3=sum_list(l3)\n",
    "a4=sum_list(l4)\n",
    "a5=sum_list(l5)\n",
    "\n",
    "out2=[a1,a2,a3,a4,a5]"
   ]
  },
  {
   "cell_type": "code",
   "execution_count": null,
   "id": "f6f34a9e",
   "metadata": {},
   "outputs": [],
   "source": [
    "out2"
   ]
  },
  {
   "cell_type": "code",
   "execution_count": null,
   "id": "9462322b",
   "metadata": {},
   "outputs": [],
   "source": [
    "out3=[sum_list(l1),sum_list(l2),sum_list(l3),sum_list(l4),sum_list(l5)]"
   ]
  },
  {
   "cell_type": "code",
   "execution_count": null,
   "id": "77b5f87d",
   "metadata": {},
   "outputs": [],
   "source": [
    "l1\n",
    "sum(l1)"
   ]
  },
  {
   "cell_type": "code",
   "execution_count": null,
   "id": "9652259c",
   "metadata": {},
   "outputs": [],
   "source": [
    "l1"
   ]
  },
  {
   "cell_type": "code",
   "execution_count": null,
   "id": "be3cb4ad",
   "metadata": {},
   "outputs": [],
   "source": [
    "def product(l):\n",
    "    p=1\n",
    "    for i in l:\n",
    "        p=p*i\n",
    "    return p\n"
   ]
  },
  {
   "cell_type": "code",
   "execution_count": null,
   "id": "ff4b7308",
   "metadata": {},
   "outputs": [],
   "source": [
    "product(l1)"
   ]
  },
  {
   "cell_type": "code",
   "execution_count": null,
   "id": "2f620714",
   "metadata": {},
   "outputs": [],
   "source": []
  },
  {
   "cell_type": "code",
   "execution_count": null,
   "id": "7d617fc8",
   "metadata": {},
   "outputs": [],
   "source": []
  },
  {
   "cell_type": "code",
   "execution_count": null,
   "id": "a80f3d9a",
   "metadata": {},
   "outputs": [],
   "source": [
    "prd_lst=[product(l1), product(l2), product(l3), product(l4), product(l5)]\n",
    "prd_lst"
   ]
  },
  {
   "cell_type": "code",
   "execution_count": null,
   "id": "3a608239",
   "metadata": {},
   "outputs": [],
   "source": []
  },
  {
   "cell_type": "code",
   "execution_count": null,
   "id": "254218a2",
   "metadata": {},
   "outputs": [],
   "source": [
    "sum_list(l2)"
   ]
  },
  {
   "cell_type": "code",
   "execution_count": null,
   "id": "8a6517a2",
   "metadata": {},
   "outputs": [],
   "source": [
    "s=0\n",
    "for i in l:\n",
    "    s=s+i\n",
    "\n",
    "print(s)"
   ]
  },
  {
   "cell_type": "code",
   "execution_count": null,
   "id": "59dc2952",
   "metadata": {},
   "outputs": [],
   "source": [
    "p=1\n",
    "for i in l:\n",
    "    p=p*i\n",
    "print(p)"
   ]
  },
  {
   "cell_type": "code",
   "execution_count": null,
   "id": "b7c4f6c8",
   "metadata": {},
   "outputs": [],
   "source": [
    "l2=[9,8,7,6,5,94,3,1]\n",
    "\n",
    "#sum and product of all  the elements of the list"
   ]
  },
  {
   "cell_type": "code",
   "execution_count": null,
   "id": "6eb2ddf5",
   "metadata": {},
   "outputs": [],
   "source": [
    "sum(l2)"
   ]
  },
  {
   "cell_type": "code",
   "execution_count": null,
   "id": "f5544e60",
   "metadata": {},
   "outputs": [],
   "source": [
    "p=1\n",
    "for i in l2:\n",
    "    p=p*i\n",
    "print(p)"
   ]
  },
  {
   "cell_type": "code",
   "execution_count": null,
   "id": "134977f7",
   "metadata": {},
   "outputs": [],
   "source": []
  },
  {
   "cell_type": "code",
   "execution_count": null,
   "id": "5ea50690",
   "metadata": {},
   "outputs": [],
   "source": []
  },
  {
   "cell_type": "code",
   "execution_count": 15,
   "id": "64d4a45d",
   "metadata": {},
   "outputs": [
    {
     "data": {
      "text/plain": [
       "[295, 2162, 956, 6465, 3232, 3262, 49, 346, 326]"
      ]
     },
     "execution_count": 15,
     "metadata": {},
     "output_type": "execute_result"
    }
   ],
   "source": [
    "l2"
   ]
  },
  {
   "cell_type": "code",
   "execution_count": 16,
   "id": "2ddd968e",
   "metadata": {},
   "outputs": [
    {
     "data": {
      "text/plain": [
       "[49, 295, 326, 346, 956, 2162, 3232, 3262, 6465]"
      ]
     },
     "execution_count": 16,
     "metadata": {},
     "output_type": "execute_result"
    }
   ],
   "source": [
    "sorted(l2)"
   ]
  },
  {
   "cell_type": "code",
   "execution_count": 17,
   "id": "8a987e9f",
   "metadata": {},
   "outputs": [
    {
     "data": {
      "text/plain": [
       "[6465, 3262, 3232, 2162, 956, 346, 326, 295, 49]"
      ]
     },
     "execution_count": 17,
     "metadata": {},
     "output_type": "execute_result"
    }
   ],
   "source": [
    "sorted(l2, reverse=True)"
   ]
  },
  {
   "cell_type": "code",
   "execution_count": 18,
   "id": "c5748af7",
   "metadata": {},
   "outputs": [
    {
     "data": {
      "text/plain": [
       "229693769380397115615897600"
      ]
     },
     "execution_count": 18,
     "metadata": {},
     "output_type": "execute_result"
    }
   ],
   "source": [
    "product(l2)"
   ]
  },
  {
   "cell_type": "code",
   "execution_count": null,
   "id": "5d571a60",
   "metadata": {},
   "outputs": [],
   "source": [
    "#docstring"
   ]
  },
  {
   "cell_type": "code",
   "execution_count": 20,
   "id": "e7def144",
   "metadata": {},
   "outputs": [],
   "source": [
    "def product(ls=list): \n",
    "    '''This function is computing the product of the element of the list\n",
    "    \n",
    "    Input Parameter:\n",
    "    ls: list input\n",
    "    '''\n",
    "    p=1\n",
    "    for i in ls:\n",
    "        p=p*i\n",
    "    return p"
   ]
  },
  {
   "cell_type": "code",
   "execution_count": null,
   "id": "03e42a4d",
   "metadata": {},
   "outputs": [],
   "source": [
    "product(l2)"
   ]
  },
  {
   "cell_type": "code",
   "execution_count": null,
   "id": "54cf0327",
   "metadata": {},
   "outputs": [],
   "source": []
  },
  {
   "cell_type": "code",
   "execution_count": null,
   "id": "c5f89057",
   "metadata": {},
   "outputs": [],
   "source": [
    "sum(l2)"
   ]
  },
  {
   "cell_type": "code",
   "execution_count": null,
   "id": "8874694b",
   "metadata": {},
   "outputs": [],
   "source": [
    "def product_list(l):\n",
    "    product=1\n",
    "    for i in l:\n",
    "        product=product*i\n",
    "    \n",
    "    return product\n",
    "    "
   ]
  },
  {
   "cell_type": "code",
   "execution_count": null,
   "id": "8adec0ea",
   "metadata": {},
   "outputs": [],
   "source": [
    "maths_list=[72,65,48,79,81]\n",
    "\n",
    "phy_list=[56,14,67,85,91]\n",
    "\n",
    "chem_list=[94,64,24,95,84]"
   ]
  },
  {
   "cell_type": "code",
   "execution_count": null,
   "id": "ce2141a3",
   "metadata": {},
   "outputs": [],
   "source": [
    "phy=product_list(phy_list)\n",
    "phy"
   ]
  },
  {
   "cell_type": "code",
   "execution_count": null,
   "id": "8160716c",
   "metadata": {},
   "outputs": [],
   "source": [
    "'''\n",
    "\n",
    "\n",
    "WAP to create a python function which accepts an integer n input and gives a list as output containing the elemnts from 0 to n\n",
    "\n",
    "i/p: 5\n",
    "o/p: [0,1,2,3,4,5]\n",
    "\n",
    "\n",
    "\n",
    "'''"
   ]
  },
  {
   "cell_type": "code",
   "execution_count": 22,
   "id": "9ac95564",
   "metadata": {},
   "outputs": [],
   "source": [
    "n=5\n",
    "ls=[]\n",
    "for i in range(n+1):\n",
    "    ls.append(i)"
   ]
  },
  {
   "cell_type": "code",
   "execution_count": 24,
   "id": "19ff8496",
   "metadata": {},
   "outputs": [],
   "source": [
    "def list_generator(n):\n",
    "    ls=[]\n",
    "    for i in range(n+1):\n",
    "        ls.append(i)\n",
    "    return ls"
   ]
  },
  {
   "cell_type": "code",
   "execution_count": 28,
   "id": "e23b8e53",
   "metadata": {},
   "outputs": [
    {
     "data": {
      "text/plain": [
       "[0, 1, 2, 3, 4, 5, 6, 7, 8, 9, 10, 11, 12, 13, 14, 15]"
      ]
     },
     "execution_count": 28,
     "metadata": {},
     "output_type": "execute_result"
    }
   ],
   "source": [
    "list_generator(15)"
   ]
  },
  {
   "cell_type": "code",
   "execution_count": null,
   "id": "dcd5b2d0",
   "metadata": {},
   "outputs": [],
   "source": []
  },
  {
   "cell_type": "code",
   "execution_count": null,
   "id": "f4df5ffa",
   "metadata": {},
   "outputs": [],
   "source": []
  },
  {
   "cell_type": "code",
   "execution_count": null,
   "id": "8ce3411d",
   "metadata": {},
   "outputs": [],
   "source": [
    "def list_generator(n):\n",
    "    l=[]\n",
    "    for i in range(n+1):\n",
    "        l.append(i)\n",
    "    return l"
   ]
  },
  {
   "cell_type": "code",
   "execution_count": null,
   "id": "fd1ad3b1",
   "metadata": {},
   "outputs": [],
   "source": [
    "num=int(input('Enter the number: '))\n",
    "ls=list_generator(num)\n",
    "ls"
   ]
  },
  {
   "cell_type": "code",
   "execution_count": null,
   "id": "4c50f2d5",
   "metadata": {},
   "outputs": [],
   "source": [
    "def product_list(lst):\n",
    "    product=1\n",
    "    for i in lst:\n",
    "        product=i*product\n",
    "        \n",
    "    return product"
   ]
  },
  {
   "cell_type": "code",
   "execution_count": null,
   "id": "bce21e30",
   "metadata": {},
   "outputs": [],
   "source": [
    "l"
   ]
  },
  {
   "cell_type": "code",
   "execution_count": null,
   "id": "89501e34",
   "metadata": {},
   "outputs": [],
   "source": [
    "l2"
   ]
  },
  {
   "cell_type": "code",
   "execution_count": null,
   "id": "af5b825d",
   "metadata": {},
   "outputs": [],
   "source": [
    "pl=product_list(l)"
   ]
  },
  {
   "cell_type": "code",
   "execution_count": null,
   "id": "edb1642c",
   "metadata": {},
   "outputs": [],
   "source": [
    "pl"
   ]
  },
  {
   "cell_type": "code",
   "execution_count": null,
   "id": "239743d6",
   "metadata": {},
   "outputs": [],
   "source": [
    "pl2=product_list(l2)\n",
    "pl2"
   ]
  },
  {
   "cell_type": "code",
   "execution_count": null,
   "id": "fec3d7f9",
   "metadata": {},
   "outputs": [],
   "source": [
    "l3=[6,44,89,1,8,1,6,51,4,5,4,1,1\n",
    "   ,8,1,4,5,8,1,511,55,154,551,55,5]"
   ]
  },
  {
   "cell_type": "code",
   "execution_count": null,
   "id": "bba3398a",
   "metadata": {},
   "outputs": [],
   "source": [
    "pl3=product_list(l3)"
   ]
  },
  {
   "cell_type": "code",
   "execution_count": null,
   "id": "f775cb2a",
   "metadata": {},
   "outputs": [],
   "source": [
    "pl3"
   ]
  },
  {
   "cell_type": "code",
   "execution_count": null,
   "id": "4198de1d",
   "metadata": {},
   "outputs": [],
   "source": []
  },
  {
   "cell_type": "code",
   "execution_count": null,
   "id": "9d64e51a",
   "metadata": {},
   "outputs": [],
   "source": []
  },
  {
   "cell_type": "code",
   "execution_count": null,
   "id": "e18120be",
   "metadata": {},
   "outputs": [],
   "source": [
    "max(l)"
   ]
  },
  {
   "cell_type": "code",
   "execution_count": null,
   "id": "6706a4c6",
   "metadata": {},
   "outputs": [],
   "source": [
    "sum(l) # 1+2+3+4+5"
   ]
  },
  {
   "cell_type": "code",
   "execution_count": null,
   "id": "32b190a5",
   "metadata": {},
   "outputs": [],
   "source": [
    "total=0\n",
    "for i in a:\n",
    "    total += i\n",
    "    \n",
    "print(total)"
   ]
  },
  {
   "cell_type": "code",
   "execution_count": null,
   "id": "9b44b36a",
   "metadata": {},
   "outputs": [],
   "source": [
    "x=4\n",
    "y=5\n",
    "\n"
   ]
  },
  {
   "cell_type": "code",
   "execution_count": null,
   "id": "26ece73f",
   "metadata": {},
   "outputs": [],
   "source": [
    "l=400\n",
    "b=300\n",
    "\n",
    "area=l*b\n",
    "print(area)"
   ]
  },
  {
   "cell_type": "code",
   "execution_count": null,
   "id": "b64cd376",
   "metadata": {},
   "outputs": [],
   "source": [
    "def area_rectangle(l, b):\n",
    "    area=l*b\n",
    "    return area"
   ]
  },
  {
   "cell_type": "code",
   "execution_count": null,
   "id": "3617d333",
   "metadata": {},
   "outputs": [],
   "source": [
    "a=100\n",
    "b=150"
   ]
  },
  {
   "cell_type": "code",
   "execution_count": null,
   "id": "73d190cd",
   "metadata": {},
   "outputs": [],
   "source": [
    "area_rectangle(a, b)"
   ]
  },
  {
   "cell_type": "code",
   "execution_count": null,
   "id": "fb195273",
   "metadata": {},
   "outputs": [],
   "source": [
    "def list_generator(n):\n",
    "    l=[]\n",
    "    for i in range(n+1):\n",
    "        l.append(i)\n",
    "    return l\n"
   ]
  },
  {
   "cell_type": "code",
   "execution_count": null,
   "id": "814f6c69",
   "metadata": {},
   "outputs": [],
   "source": [
    "a=1"
   ]
  },
  {
   "cell_type": "code",
   "execution_count": null,
   "id": "87f08732",
   "metadata": {},
   "outputs": [],
   "source": [
    "def area_rectangle(a, b):\n",
    "   \n",
    "    area=a*b\n",
    "    \n",
    "    return area"
   ]
  },
  {
   "cell_type": "code",
   "execution_count": null,
   "id": "f5684fc2",
   "metadata": {},
   "outputs": [],
   "source": [
    "l=float(input())\n",
    "b=float(input())\n",
    "area_rectangle(l,b)"
   ]
  },
  {
   "cell_type": "code",
   "execution_count": null,
   "id": "6bb6ca0d",
   "metadata": {},
   "outputs": [],
   "source": [
    "a"
   ]
  },
  {
   "cell_type": "code",
   "execution_count": null,
   "id": "a43072b7",
   "metadata": {},
   "outputs": [],
   "source": [
    "a=area_rectangle(10,5)"
   ]
  },
  {
   "cell_type": "code",
   "execution_count": null,
   "id": "63fe2d06",
   "metadata": {},
   "outputs": [],
   "source": [
    "a"
   ]
  },
  {
   "cell_type": "code",
   "execution_count": null,
   "id": "45d65479",
   "metadata": {},
   "outputs": [],
   "source": [
    "print(\"A\")"
   ]
  },
  {
   "cell_type": "code",
   "execution_count": null,
   "id": "253a08f8",
   "metadata": {},
   "outputs": [],
   "source": []
  },
  {
   "cell_type": "code",
   "execution_count": null,
   "id": "3270873c",
   "metadata": {},
   "outputs": [],
   "source": []
  },
  {
   "cell_type": "code",
   "execution_count": null,
   "id": "44148677",
   "metadata": {},
   "outputs": [],
   "source": [
    "docstring"
   ]
  },
  {
   "cell_type": "code",
   "execution_count": null,
   "id": "000ce7a7",
   "metadata": {},
   "outputs": [],
   "source": [
    "'''\n",
    "    This function computes the area of a triangle\n",
    "    \n",
    "    Parameters:\n",
    "    height: height of the triangle\n",
    "    base: base of a triangle\n",
    "    \n",
    "'''"
   ]
  },
  {
   "cell_type": "code",
   "execution_count": null,
   "id": "57d127eb",
   "metadata": {},
   "outputs": [],
   "source": [
    "# WAP to create a python function which accepts two input that is base and height of the triangle and the function returns\n",
    "# the area of the triangle. "
   ]
  },
  {
   "cell_type": "code",
   "execution_count": 29,
   "id": "97c712db",
   "metadata": {},
   "outputs": [],
   "source": [
    "def area_triangle(height=float, base=float):\n",
    "    '''\n",
    "    This function computes the area of a triangle\n",
    "    \n",
    "    Parameters:\n",
    "    height: height of the triangle (data type: float)\n",
    "    base: base of a triangle (data type: float)\n",
    "    \n",
    "    '''\n",
    "    \n",
    "    area= (height*base)/2\n",
    "    return area"
   ]
  },
  {
   "cell_type": "code",
   "execution_count": 30,
   "id": "936f8ecf",
   "metadata": {},
   "outputs": [
    {
     "data": {
      "text/plain": [
       "25.0"
      ]
     },
     "execution_count": 30,
     "metadata": {},
     "output_type": "execute_result"
    }
   ],
   "source": [
    "area_triangle(10,5)"
   ]
  },
  {
   "cell_type": "code",
   "execution_count": 31,
   "id": "1b924c19",
   "metadata": {},
   "outputs": [],
   "source": [
    "l=[1,2,3,4,5,6]"
   ]
  },
  {
   "cell_type": "code",
   "execution_count": 32,
   "id": "b24a19c0",
   "metadata": {},
   "outputs": [
    {
     "data": {
      "text/plain": [
       "21"
      ]
     },
     "execution_count": 32,
     "metadata": {},
     "output_type": "execute_result"
    }
   ],
   "source": [
    "sum(l)"
   ]
  },
  {
   "cell_type": "code",
   "execution_count": 33,
   "id": "b213904f",
   "metadata": {},
   "outputs": [
    {
     "data": {
      "text/plain": [
       "21"
      ]
     },
     "execution_count": 33,
     "metadata": {},
     "output_type": "execute_result"
    }
   ],
   "source": [
    "sum_list(l)"
   ]
  },
  {
   "cell_type": "code",
   "execution_count": null,
   "id": "5627f377",
   "metadata": {},
   "outputs": [],
   "source": [
    "def area_circle(r):\n",
    "    '''\n",
    "    This function computes the area of a circle\n",
    "    Parameters:\n",
    "    r: Radius of the circle\n",
    "    '''\n",
    "    \n",
    "    print(\"Area of Circle\")\n",
    "    area = 3.14 *r*r\n",
    "    return area\n",
    "    "
   ]
  },
  {
   "cell_type": "code",
   "execution_count": null,
   "id": "8c59e1b9",
   "metadata": {},
   "outputs": [],
   "source": [
    "area_rectangle(8, 4)"
   ]
  },
  {
   "cell_type": "code",
   "execution_count": null,
   "id": "1ed749aa",
   "metadata": {},
   "outputs": [],
   "source": [
    "area_triangle(5, 2)"
   ]
  },
  {
   "cell_type": "code",
   "execution_count": null,
   "id": "6775e614",
   "metadata": {},
   "outputs": [],
   "source": [
    "area_circle(5)"
   ]
  },
  {
   "cell_type": "code",
   "execution_count": null,
   "id": "f907c6ab",
   "metadata": {},
   "outputs": [],
   "source": [
    "x"
   ]
  },
  {
   "cell_type": "code",
   "execution_count": null,
   "id": "80cbb27f",
   "metadata": {},
   "outputs": [],
   "source": [
    "#take a input from user then create a list upto that number"
   ]
  },
  {
   "cell_type": "code",
   "execution_count": null,
   "id": "0fe3b9c7",
   "metadata": {},
   "outputs": [],
   "source": [
    "n=int(input())\n",
    "\n",
    "l=[]\n",
    "\n",
    "for i in range(n+1):\n",
    "    l.append(i)\n",
    "    \n",
    "print(l)"
   ]
  },
  {
   "cell_type": "code",
   "execution_count": null,
   "id": "616e0f9a",
   "metadata": {},
   "outputs": [],
   "source": [
    "l2=[]\n",
    "\n",
    "for i in range(10):\n",
    "    l2.append(i)\n",
    "    \n",
    "print(l2)"
   ]
  },
  {
   "cell_type": "code",
   "execution_count": null,
   "id": "71f96320",
   "metadata": {},
   "outputs": [],
   "source": [
    "l3=[]\n",
    "\n",
    "for i in range(20):\n",
    "    l3.append(i)\n",
    "    \n",
    "print(l3)"
   ]
  },
  {
   "cell_type": "code",
   "execution_count": null,
   "id": "7d90764d",
   "metadata": {},
   "outputs": [],
   "source": [
    "def list_generator(n):   #taking input of length of list and return a list upto n.\n",
    "    l=[]\n",
    "    for i in range(n+1):\n",
    "        l.append(i)\n",
    "    print(\"list\",l)\n",
    "    return l"
   ]
  },
  {
   "cell_type": "code",
   "execution_count": null,
   "id": "8e38b4b7",
   "metadata": {},
   "outputs": [],
   "source": [
    "x=list_generator(6)"
   ]
  },
  {
   "cell_type": "code",
   "execution_count": null,
   "id": "8d53dd92",
   "metadata": {},
   "outputs": [],
   "source": [
    "x"
   ]
  },
  {
   "cell_type": "code",
   "execution_count": null,
   "id": "a35afe6b",
   "metadata": {},
   "outputs": [],
   "source": [
    "'''\n",
    "\n",
    "WAP of python function which accepts two list as input where first list contains the product name and second list contain\n",
    "the annual sales of  the product. output should be a dictionary where key is product name and value is annual sales.\n",
    "\n",
    "Consider that the each individual product and sales is at same index in their respective list. \n",
    "\n",
    "\n",
    "'''"
   ]
  },
  {
   "cell_type": "code",
   "execution_count": null,
   "id": "523b63b2",
   "metadata": {},
   "outputs": [],
   "source": [
    "def product_sales(l=list,m=list):\n",
    "    output={}\n",
    "    \n",
    "    for i in range (len(l)):\n",
    "        output[l[i]]=m[i]\n",
    "    return output\n"
   ]
  },
  {
   "cell_type": "code",
   "execution_count": null,
   "id": "33ea963a",
   "metadata": {},
   "outputs": [],
   "source": [
    "product=['Apple', 'Samsung', 'Google Pixel', 'Nokia']\n",
    "sales=[3.5, 2.1, 0.7,0.005]"
   ]
  },
  {
   "cell_type": "code",
   "execution_count": null,
   "id": "c2cb7c2d",
   "metadata": {},
   "outputs": [],
   "source": [
    "car=['Tesla', 'Toyota', 'Honda', 'Volkswagen']\n",
    "annual_sales=[35.2, 115.8, 26.8, 95.2]"
   ]
  },
  {
   "cell_type": "code",
   "execution_count": null,
   "id": "7533890d",
   "metadata": {},
   "outputs": [],
   "source": [
    "product_sales(product, sales)"
   ]
  },
  {
   "cell_type": "code",
   "execution_count": null,
   "id": "7db3bb9d",
   "metadata": {},
   "outputs": [],
   "source": [
    "product_sales(car, annual_sales)"
   ]
  },
  {
   "cell_type": "code",
   "execution_count": null,
   "id": "8c7884c4",
   "metadata": {},
   "outputs": [],
   "source": [
    "product=['Football','Basketball','Tennis','Chess']\n",
    "sales=[852.2, 845.6, 352,5, 150.2]"
   ]
  },
  {
   "cell_type": "code",
   "execution_count": null,
   "id": "6aa7d39c",
   "metadata": {},
   "outputs": [],
   "source": [
    "sum(sales)"
   ]
  },
  {
   "cell_type": "code",
   "execution_count": null,
   "id": "13c557cc",
   "metadata": {},
   "outputs": [],
   "source": [
    "x"
   ]
  },
  {
   "cell_type": "code",
   "execution_count": null,
   "id": "08b221cd",
   "metadata": {},
   "outputs": [],
   "source": [
    "product_sales(product, sales)"
   ]
  },
  {
   "cell_type": "code",
   "execution_count": null,
   "id": "85980c24",
   "metadata": {},
   "outputs": [],
   "source": [
    "def MY_FUNCTION(n, m):\n",
    "    if len(n) == len(m):\n",
    "        my_dict = {}\n",
    "        \n",
    "        for i in range(len(n)):\n",
    "            key = n[i]\n",
    "            value = m[i]\n",
    "            my_dict[key] = value\n",
    "            \n",
    "        return my_dict\n",
    "            \n",
    "    else:\n",
    "        return \"input lists not same length\"\n"
   ]
  },
  {
   "cell_type": "code",
   "execution_count": null,
   "id": "2c2c5c72",
   "metadata": {},
   "outputs": [],
   "source": [
    "MY_FUNCTION(car, annual_sales)"
   ]
  },
  {
   "cell_type": "code",
   "execution_count": null,
   "id": "ce92d2b4",
   "metadata": {},
   "outputs": [],
   "source": []
  },
  {
   "cell_type": "code",
   "execution_count": null,
   "id": "825083ea",
   "metadata": {},
   "outputs": [],
   "source": []
  },
  {
   "cell_type": "code",
   "execution_count": null,
   "id": "fe7eccd4",
   "metadata": {},
   "outputs": [],
   "source": []
  },
  {
   "cell_type": "code",
   "execution_count": null,
   "id": "9452ae0f",
   "metadata": {},
   "outputs": [],
   "source": [
    "def product_sales(p, s):\n",
    "    d={}\n",
    "    for i in range(len(p)):\n",
    "        d[p[i]]=s[i]\n",
    "    return d\n",
    "\n",
    "\n",
    "\n",
    "\n",
    "product_sales(product, sales)"
   ]
  },
  {
   "cell_type": "code",
   "execution_count": null,
   "id": "40398cf2",
   "metadata": {},
   "outputs": [],
   "source": [
    "\n",
    "        "
   ]
  },
  {
   "cell_type": "code",
   "execution_count": null,
   "id": "450e5ebb",
   "metadata": {},
   "outputs": [],
   "source": []
  },
  {
   "cell_type": "code",
   "execution_count": null,
   "id": "ed9d7431",
   "metadata": {},
   "outputs": [],
   "source": [
    "def create_sales_dict(products, sales):\n",
    "    sales_dict = {}\n",
    "    for i in range(len(products)):\n",
    "        sales_dict[products[i]] = sales[i]\n",
    "    return sales_dict\n",
    "\n",
    "#  usage:\n",
    "prod =['Apple','BlackBerry','Nokia']\n",
    "sales = ['5000','2800','109']\n",
    "\n",
    "sales_dict = create_sales_dict(prod, sales)\n",
    "\n",
    "print(sales_dict)\n"
   ]
  },
  {
   "cell_type": "code",
   "execution_count": null,
   "id": "1ded4286",
   "metadata": {},
   "outputs": [],
   "source": [
    "l=[1,2,3,4,5]"
   ]
  },
  {
   "cell_type": "code",
   "execution_count": null,
   "id": "34ec796a",
   "metadata": {},
   "outputs": [],
   "source": [
    "for i in l:\n",
    "    print(i)"
   ]
  },
  {
   "cell_type": "code",
   "execution_count": null,
   "id": "df9e7346",
   "metadata": {},
   "outputs": [],
   "source": []
  },
  {
   "cell_type": "code",
   "execution_count": null,
   "id": "b651f6d2",
   "metadata": {},
   "outputs": [],
   "source": [
    "type(m1)"
   ]
  },
  {
   "cell_type": "code",
   "execution_count": null,
   "id": "d4f833ad",
   "metadata": {},
   "outputs": [],
   "source": [
    "m2=list_generator(10)"
   ]
  },
  {
   "cell_type": "code",
   "execution_count": null,
   "id": "2c703966",
   "metadata": {},
   "outputs": [],
   "source": [
    "m3=list_generator(20)"
   ]
  },
  {
   "cell_type": "code",
   "execution_count": null,
   "id": "c2722202",
   "metadata": {},
   "outputs": [],
   "source": [
    "\n",
    "list_generator(5)"
   ]
  },
  {
   "cell_type": "code",
   "execution_count": null,
   "id": "7170ee71",
   "metadata": {},
   "outputs": [],
   "source": [
    "def even_odd_checker(n):\n",
    "    if n % 2 == 0:\n",
    "        return \"Even\"\n",
    "    else:\n",
    "        return \"Odd\""
   ]
  },
  {
   "cell_type": "code",
   "execution_count": null,
   "id": "c65d6fb4",
   "metadata": {},
   "outputs": [],
   "source": [
    "even_odd_checker(544)"
   ]
  },
  {
   "cell_type": "code",
   "execution_count": null,
   "id": "85b0c3c2",
   "metadata": {},
   "outputs": [],
   "source": [
    "x=5\n",
    "y=10\n",
    "z=x+y\n",
    "\n",
    "z "
   ]
  },
  {
   "cell_type": "code",
   "execution_count": null,
   "id": "ace8db60",
   "metadata": {},
   "outputs": [],
   "source": [
    "def multiple_five_checker(n):\n",
    "    if n % 5 == 0:\n",
    "        return \"Multiple of 5\"\n",
    "    else:\n",
    "        return \"Not a Multiple of 5\""
   ]
  },
  {
   "cell_type": "code",
   "execution_count": null,
   "id": "4a6664fb",
   "metadata": {},
   "outputs": [],
   "source": [
    "multiple_five_checker(56)"
   ]
  },
  {
   "cell_type": "code",
   "execution_count": null,
   "id": "4a2d1d9a",
   "metadata": {},
   "outputs": [],
   "source": [
    "even_odd_checker(564)"
   ]
  },
  {
   "cell_type": "code",
   "execution_count": null,
   "id": "3f6ebe43",
   "metadata": {},
   "outputs": [],
   "source": [
    "visual studio code"
   ]
  },
  {
   "cell_type": "code",
   "execution_count": null,
   "id": "126a458e",
   "metadata": {},
   "outputs": [],
   "source": []
  },
  {
   "cell_type": "code",
   "execution_count": null,
   "id": "36700d31",
   "metadata": {},
   "outputs": [],
   "source": [
    "def list_avg(l):\n",
    "    total=0\n",
    "    count=0\n",
    "    for i in l:\n",
    "        total += i\n",
    "        count += 1\n",
    "        \n",
    "    avg = total/count\n",
    "    \n",
    "    return round(avg, 2)"
   ]
  },
  {
   "cell_type": "code",
   "execution_count": null,
   "id": "cc73e1e9",
   "metadata": {},
   "outputs": [],
   "source": [
    "l1=[1, 5,6,19,1,53,46,16,15,35,3,53,6,223,56,2,62,6,26,2,62,6,26,62,6,6,2,95,6,6,5,48]"
   ]
  },
  {
   "cell_type": "code",
   "execution_count": null,
   "id": "e6411366",
   "metadata": {},
   "outputs": [],
   "source": [
    "list_avg(l1)"
   ]
  },
  {
   "cell_type": "code",
   "execution_count": null,
   "id": "f55b3a14",
   "metadata": {},
   "outputs": [],
   "source": [
    "sum(l1)"
   ]
  },
  {
   "cell_type": "code",
   "execution_count": null,
   "id": "cb1d11fe",
   "metadata": {},
   "outputs": [],
   "source": [
    "max(l1)"
   ]
  },
  {
   "cell_type": "code",
   "execution_count": null,
   "id": "b71f2eaf",
   "metadata": {},
   "outputs": [],
   "source": [
    "min(l1)"
   ]
  },
  {
   "cell_type": "code",
   "execution_count": null,
   "id": "7b0cf5de",
   "metadata": {},
   "outputs": [],
   "source": [
    "list_avg(l1)"
   ]
  },
  {
   "cell_type": "code",
   "execution_count": null,
   "id": "0680ce55",
   "metadata": {},
   "outputs": [],
   "source": [
    "area =  3.14 * 10* 10"
   ]
  },
  {
   "cell_type": "code",
   "execution_count": null,
   "id": "8857adac",
   "metadata": {},
   "outputs": [],
   "source": [
    "area"
   ]
  },
  {
   "cell_type": "code",
   "execution_count": null,
   "id": "009cf7b4",
   "metadata": {},
   "outputs": [],
   "source": [
    "area_circle(10)"
   ]
  },
  {
   "cell_type": "code",
   "execution_count": null,
   "id": "64d8c5be",
   "metadata": {},
   "outputs": [],
   "source": [
    "area_rectangle(100, 200)"
   ]
  },
  {
   "cell_type": "code",
   "execution_count": null,
   "id": "430e40d4",
   "metadata": {},
   "outputs": [],
   "source": [
    "def land_price(a, b):\n",
    "    area=a*b\n",
    "    price = 500 * area\n",
    "    return price, area"
   ]
  },
  {
   "cell_type": "code",
   "execution_count": null,
   "id": "08519b97",
   "metadata": {},
   "outputs": [],
   "source": [
    "p, a = land_price(100, 200)"
   ]
  },
  {
   "cell_type": "code",
   "execution_count": null,
   "id": "a18b031b",
   "metadata": {},
   "outputs": [],
   "source": [
    "a"
   ]
  },
  {
   "cell_type": "code",
   "execution_count": null,
   "id": "0dccdf28",
   "metadata": {},
   "outputs": [],
   "source": [
    "p"
   ]
  },
  {
   "cell_type": "code",
   "execution_count": null,
   "id": "d95cab6c",
   "metadata": {},
   "outputs": [],
   "source": [
    "even_odd_checker(9)"
   ]
  },
  {
   "cell_type": "code",
   "execution_count": null,
   "id": "fe645000",
   "metadata": {},
   "outputs": [],
   "source": [
    "area_triangle(4, 5)"
   ]
  },
  {
   "cell_type": "code",
   "execution_count": null,
   "id": "ca4a1275",
   "metadata": {},
   "outputs": [],
   "source": [
    "l4=list_generator(3)"
   ]
  },
  {
   "cell_type": "code",
   "execution_count": null,
   "id": "a2d78b39",
   "metadata": {},
   "outputs": [],
   "source": [
    "area_rectangle(5,6,2)"
   ]
  },
  {
   "cell_type": "code",
   "execution_count": null,
   "id": "852c7097",
   "metadata": {},
   "outputs": [],
   "source": [
    "def area_rectangle(a, b):\n",
    "   \n",
    "    area=a*b\n",
    "    return area\n",
    "\n",
    "def area_triangle(height, base):\n",
    "    \n",
    "    \n",
    "    area= (height*base)/2\n",
    "    return area\n",
    "\n",
    "def area_circle(r):\n",
    " \n",
    "    area = 3.14 *r*r\n",
    "    return area\n",
    "    \n",
    "def list_generator(n):\n",
    "    l=[]\n",
    "    for i in range(n):\n",
    "        l.append(i)\n",
    "        \n",
    "    return l\n",
    "\n",
    "def even_odd_checker(n):\n",
    "    if n % 2 == 0:\n",
    "        return \"Even\"\n",
    "    else:\n",
    "        return \"Odd\"\n",
    "    \n",
    "def multiple_five_checker(n):\n",
    "    if n % 5 == 0:\n",
    "        return \"Multiple of 5\"\n",
    "    else:\n",
    "        return \"Not a Multiple of 5\"\n",
    "    \n",
    "def list_avg(l):\n",
    "    total=0\n",
    "    count=0\n",
    "    for i in l:\n",
    "        total += i\n",
    "        count += 1\n",
    "        \n",
    "    avg = total/count\n",
    "    \n",
    "    return round(avg, 2)\n",
    "\n",
    "\n",
    "def land_price(a, b):\n",
    "    area=a*b\n",
    "    price = 500 * area\n",
    "    return price\n",
    "\n",
    "def sim_int(A, P):\n",
    "    SI=A-P\n",
    "    return SI\n",
    "\n",
    "def sim_int_rate(P, SI, T):\n",
    "    '''\n",
    "    P: Principle (type: float)\n",
    "    SI: Simple interest (type: float)\n",
    "    T: Time (type: float)\n",
    "    '''\n",
    "    Rate_per = (SI*100)/(P*T)\n",
    "    return Rate_per"
   ]
  },
  {
   "cell_type": "code",
   "execution_count": null,
   "id": "5375a650",
   "metadata": {},
   "outputs": [],
   "source": []
  },
  {
   "cell_type": "code",
   "execution_count": null,
   "id": "91c49e9a",
   "metadata": {},
   "outputs": [],
   "source": []
  },
  {
   "cell_type": "code",
   "execution_count": null,
   "id": "64a6b02f",
   "metadata": {},
   "outputs": [],
   "source": [
    "a=[5,5,4,5,5,54,2,8]"
   ]
  },
  {
   "cell_type": "code",
   "execution_count": null,
   "id": "b6beae9a",
   "metadata": {},
   "outputs": [],
   "source": [
    "product_list(a)"
   ]
  },
  {
   "cell_type": "code",
   "execution_count": null,
   "id": "fee1facb",
   "metadata": {},
   "outputs": [],
   "source": [
    "e, o = even_odd_filter(a)"
   ]
  },
  {
   "cell_type": "code",
   "execution_count": null,
   "id": "86a08819",
   "metadata": {},
   "outputs": [],
   "source": [
    "e"
   ]
  },
  {
   "cell_type": "code",
   "execution_count": null,
   "id": "37b48c86",
   "metadata": {},
   "outputs": [],
   "source": [
    "o"
   ]
  },
  {
   "cell_type": "code",
   "execution_count": null,
   "id": "f9476318",
   "metadata": {},
   "outputs": [],
   "source": []
  },
  {
   "cell_type": "code",
   "execution_count": null,
   "id": "c5ba7145",
   "metadata": {},
   "outputs": [],
   "source": [
    "from Utilities import config"
   ]
  },
  {
   "cell_type": "code",
   "execution_count": null,
   "id": "741f01ac",
   "metadata": {},
   "outputs": [],
   "source": [
    "x=5\n",
    "config.even_odd_checker(x)"
   ]
  },
  {
   "cell_type": "code",
   "execution_count": null,
   "id": "943a1c22",
   "metadata": {},
   "outputs": [],
   "source": []
  },
  {
   "cell_type": "code",
   "execution_count": null,
   "id": "b1c42899",
   "metadata": {},
   "outputs": [],
   "source": []
  },
  {
   "cell_type": "code",
   "execution_count": null,
   "id": "6b6f6d89",
   "metadata": {},
   "outputs": [],
   "source": []
  },
  {
   "cell_type": "code",
   "execution_count": null,
   "id": "4544ffa9",
   "metadata": {},
   "outputs": [],
   "source": []
  },
  {
   "cell_type": "code",
   "execution_count": null,
   "id": "1b4705d3",
   "metadata": {},
   "outputs": [],
   "source": []
  },
  {
   "cell_type": "code",
   "execution_count": null,
   "id": "912e85f6",
   "metadata": {},
   "outputs": [],
   "source": []
  },
  {
   "cell_type": "code",
   "execution_count": null,
   "id": "9447c80a",
   "metadata": {},
   "outputs": [],
   "source": []
  },
  {
   "cell_type": "code",
   "execution_count": null,
   "id": "128c51c5",
   "metadata": {},
   "outputs": [],
   "source": []
  },
  {
   "cell_type": "code",
   "execution_count": null,
   "id": "3a838219",
   "metadata": {},
   "outputs": [],
   "source": []
  }
 ],
 "metadata": {
  "kernelspec": {
   "display_name": "Python 3 (ipykernel)",
   "language": "python",
   "name": "python3"
  },
  "language_info": {
   "codemirror_mode": {
    "name": "ipython",
    "version": 3
   },
   "file_extension": ".py",
   "mimetype": "text/x-python",
   "name": "python",
   "nbconvert_exporter": "python",
   "pygments_lexer": "ipython3",
   "version": "3.10.9"
  }
 },
 "nbformat": 4,
 "nbformat_minor": 5
}
