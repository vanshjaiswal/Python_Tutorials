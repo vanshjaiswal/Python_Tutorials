{
 "cells": [
  {
   "cell_type": "markdown",
   "id": "66d4132b",
   "metadata": {},
   "source": [
    "## Conditional statements\n"
   ]
  },
  {
   "cell_type": "markdown",
   "id": "8bf4196a",
   "metadata": {},
   "source": [
    "Whenever you have to check the condition before doing some thing or if the conditions aresatisfied then your are doing A or if it is not satisfied then we have to do B. In that cases we are using the conditional statements."
   ]
  },
  {
   "cell_type": "code",
   "execution_count": null,
   "id": "8a6cf8ab",
   "metadata": {},
   "outputs": [],
   "source": [
    "\"\"\"\n",
    "SYNTAX:\n",
    "\n",
    "if <Condition> :\n",
    "\n",
    "     body of if\n",
    "\n",
    "else:\n",
    "\n",
    "     body of else\n",
    "\n",
    "\n",
    "\"If your condition in the 'if' statements return True then the body of if will be executed otherwise body of else will be executed\"\n",
    "\n",
    "\"\"\""
   ]
  },
  {
   "cell_type": "code",
   "execution_count": 1,
   "id": "7e6ff06e",
   "metadata": {},
   "outputs": [
    {
     "data": {
      "text/plain": [
       "'WAP to take the input of length and breadth of shape and check whether it is square or rectangle'"
      ]
     },
     "execution_count": 1,
     "metadata": {},
     "output_type": "execute_result"
    }
   ],
   "source": [
    "'''WAP to take the input of length and breadth of shape and check whether it is square or rectangle'''"
   ]
  },
  {
   "cell_type": "code",
   "execution_count": 2,
   "id": "f88872c4",
   "metadata": {},
   "outputs": [
    {
     "name": "stdout",
     "output_type": "stream",
     "text": [
      "enter the length: 5\n",
      "enter the breadth: 5\n",
      "It is a square.\n"
     ]
    }
   ],
   "source": [
    "length = float(input(\"enter the length: \"))\n",
    "breadth =float(input( \"enter the breadth: \"))\n",
    "if length == breadth :\n",
    "    print(\"It is a square.\")\n",
    "else :\n",
    "    print(\" it is a rectangle.\")"
   ]
  },
  {
   "cell_type": "code",
   "execution_count": null,
   "id": "4acbd258",
   "metadata": {},
   "outputs": [],
   "source": []
  },
  {
   "cell_type": "code",
   "execution_count": null,
   "id": "1c58b788",
   "metadata": {},
   "outputs": [],
   "source": []
  },
  {
   "cell_type": "code",
   "execution_count": null,
   "id": "f2793af3",
   "metadata": {},
   "outputs": [],
   "source": []
  },
  {
   "cell_type": "code",
   "execution_count": null,
   "id": "25ac67ea",
   "metadata": {},
   "outputs": [],
   "source": []
  },
  {
   "cell_type": "code",
   "execution_count": null,
   "id": "2930aef0",
   "metadata": {},
   "outputs": [],
   "source": []
  },
  {
   "cell_type": "code",
   "execution_count": null,
   "id": "6e7b42a9",
   "metadata": {},
   "outputs": [],
   "source": []
  },
  {
   "cell_type": "code",
   "execution_count": null,
   "id": "ea637501",
   "metadata": {},
   "outputs": [],
   "source": []
  },
  {
   "cell_type": "code",
   "execution_count": 3,
   "id": "d03b6a20",
   "metadata": {},
   "outputs": [
    {
     "name": "stdout",
     "output_type": "stream",
     "text": [
      "Enter the len: 15\n",
      "Enter the bre: 15\n",
      "Square\n",
      "area= 225.0\n"
     ]
    }
   ],
   "source": [
    "l=float(input(\"Enter the len: \"))\n",
    "b=float(input(\"Enter the bre: \"))\n",
    "\n",
    "\n",
    "if (l==b):\n",
    "    print(\"Square\")\n",
    "    area= l * b\n",
    "    print(\"area=\", area)\n",
    "else:\n",
    "    print('Rectangle')\n",
    "    area= l * b\n",
    "    print(\"area=\", area)"
   ]
  },
  {
   "cell_type": "code",
   "execution_count": null,
   "id": "fd9cae61",
   "metadata": {},
   "outputs": [],
   "source": []
  },
  {
   "cell_type": "code",
   "execution_count": null,
   "id": "52a5ff14",
   "metadata": {},
   "outputs": [],
   "source": []
  },
  {
   "cell_type": "code",
   "execution_count": null,
   "id": "d66ef334",
   "metadata": {},
   "outputs": [],
   "source": []
  },
  {
   "cell_type": "code",
   "execution_count": null,
   "id": "2d3b8a71",
   "metadata": {},
   "outputs": [],
   "source": []
  },
  {
   "cell_type": "code",
   "execution_count": null,
   "id": "0a988bb4",
   "metadata": {},
   "outputs": [],
   "source": [
    "L= float(input(\"enter the length\"))\n",
    "B= float(input(\"enter the breath\"))\n",
    "if (L==B):\n",
    "    print(\"given rectangle is a square\")\n",
    "else:\n",
    "    print(\"given rectangle is not a square\")\n",
    "print(\"area=\",L*B,'squareunits')\n"
   ]
  },
  {
   "cell_type": "code",
   "execution_count": null,
   "id": "e2af8f47",
   "metadata": {},
   "outputs": [],
   "source": [
    "#Syntax:\n",
    "\n",
    "'''\n",
    "if <condition(boolean output)> :\n",
    "    <<< Body of if >>>\n",
    "        \n",
    "\n",
    "\n",
    "\n",
    "'''"
   ]
  },
  {
   "cell_type": "code",
   "execution_count": null,
   "id": "706f1713",
   "metadata": {},
   "outputs": [],
   "source": [
    "num=1\n",
    "if num>2:\n",
    "    print(\"number is greater than 2\")\n",
    "        \n",
    "#print(\"This line always executes\")"
   ]
  },
  {
   "cell_type": "code",
   "execution_count": null,
   "id": "87df3caf",
   "metadata": {},
   "outputs": [],
   "source": [
    "num"
   ]
  },
  {
   "cell_type": "code",
   "execution_count": null,
   "id": "9dd7d277",
   "metadata": {},
   "outputs": [],
   "source": [
    "num=2\n",
    "\n",
    "if (num>=2):\n",
    "    print(\"number is greater than 2\")\n",
    "    \n",
    "print(\"This line always executes\")"
   ]
  },
  {
   "cell_type": "code",
   "execution_count": null,
   "id": "c8b1abe3",
   "metadata": {},
   "outputs": [],
   "source": [
    "num=3\n",
    "\n",
    "if (num>2):\n",
    "    print(\"number is greater than 2\")\n",
    "else:\n",
    "    print(\"Number is less than 2\")\n",
    "    \n",
    "print(\"This line always executes\")"
   ]
  },
  {
   "cell_type": "code",
   "execution_count": null,
   "id": "5b1218ec",
   "metadata": {},
   "outputs": [],
   "source": [
    "'''\n",
    "WAP to find whether given number is EVEN or ODD\n",
    "\n",
    "\n",
    "'''"
   ]
  },
  {
   "cell_type": "code",
   "execution_count": 8,
   "id": "a8c68b78",
   "metadata": {},
   "outputs": [
    {
     "name": "stdout",
     "output_type": "stream",
     "text": [
      "enter the number: -7\n",
      "odd\n"
     ]
    }
   ],
   "source": [
    "n = int(input(\"enter the number: \"))\n",
    "if n%2==0 : \n",
    "    print (\"even\")\n",
    "else :\n",
    "    print (\"odd\")"
   ]
  },
  {
   "cell_type": "code",
   "execution_count": null,
   "id": "d218a632",
   "metadata": {},
   "outputs": [],
   "source": [
    "n= int(input(\"enter the number: \"))\n",
    "\n"
   ]
  },
  {
   "cell_type": "code",
   "execution_count": null,
   "id": "eee160a3",
   "metadata": {},
   "outputs": [],
   "source": []
  },
  {
   "cell_type": "code",
   "execution_count": null,
   "id": "4740959a",
   "metadata": {},
   "outputs": [],
   "source": []
  },
  {
   "cell_type": "code",
   "execution_count": null,
   "id": "9264320e",
   "metadata": {},
   "outputs": [],
   "source": []
  },
  {
   "cell_type": "code",
   "execution_count": null,
   "id": "16d79e90",
   "metadata": {},
   "outputs": [],
   "source": []
  },
  {
   "cell_type": "code",
   "execution_count": null,
   "id": "862a292b",
   "metadata": {},
   "outputs": [],
   "source": []
  },
  {
   "cell_type": "code",
   "execution_count": null,
   "id": "9ce15424",
   "metadata": {},
   "outputs": [],
   "source": []
  },
  {
   "cell_type": "code",
   "execution_count": null,
   "id": "9ab256e4",
   "metadata": {},
   "outputs": [],
   "source": [
    "num=int(input(\"enter a number: \"))\n",
    "\n",
    "if num%2==0:\n",
    "    print(\"number is even\")\n",
    "else:\n",
    "    print(\"number is odd\")\n",
    "\n"
   ]
  },
  {
   "cell_type": "code",
   "execution_count": 9,
   "id": "a73f854a",
   "metadata": {},
   "outputs": [
    {
     "data": {
      "text/plain": [
       "'\\nWAP give chocolate to me for odd outcome of dice and I will give you for even outcome\\n\\n\\n'"
      ]
     },
     "execution_count": 9,
     "metadata": {},
     "output_type": "execute_result"
    }
   ],
   "source": [
    "'''\n",
    "WAP give chocolate to me for odd outcome of dice and I will give you for even outcome\n",
    "\n",
    "\n",
    "'''"
   ]
  },
  {
   "cell_type": "code",
   "execution_count": null,
   "id": "266569a6",
   "metadata": {},
   "outputs": [],
   "source": []
  },
  {
   "cell_type": "code",
   "execution_count": null,
   "id": "b45517b5",
   "metadata": {},
   "outputs": [],
   "source": []
  },
  {
   "cell_type": "code",
   "execution_count": null,
   "id": "8e4a9a55",
   "metadata": {},
   "outputs": [],
   "source": []
  },
  {
   "cell_type": "code",
   "execution_count": null,
   "id": "5fb65c2a",
   "metadata": {},
   "outputs": [],
   "source": []
  },
  {
   "cell_type": "code",
   "execution_count": null,
   "id": "05923239",
   "metadata": {},
   "outputs": [],
   "source": []
  },
  {
   "cell_type": "code",
   "execution_count": null,
   "id": "313209ea",
   "metadata": {},
   "outputs": [],
   "source": []
  },
  {
   "cell_type": "code",
   "execution_count": null,
   "id": "aff8b44c",
   "metadata": {},
   "outputs": [],
   "source": [
    "num=int(input(\"enter the number \"))\n",
    "\n",
    "if num%2==0:\n",
    "    print(\"even\")\n",
    "else:\n",
    "    print(\"odd\")"
   ]
  },
  {
   "cell_type": "code",
   "execution_count": null,
   "id": "7451d52e",
   "metadata": {},
   "outputs": [],
   "source": [
    "n=6.5\n",
    "n=int(6.5)\n",
    "\n",
    "if n%2==0:\n",
    "    print(\"number is even\")\n",
    "else:\n",
    "    print(\"number is odd\")"
   ]
  },
  {
   "cell_type": "code",
   "execution_count": null,
   "id": "635581ea",
   "metadata": {},
   "outputs": [],
   "source": [
    "n=int(input(\"enter a number: \"))\n",
    "if num%2==0:\n",
    "    print(\"number is even\")\n",
    "else:\n",
    "    print(\"number is odd\")"
   ]
  },
  {
   "cell_type": "code",
   "execution_count": null,
   "id": "7059ab49",
   "metadata": {},
   "outputs": [],
   "source": [
    "salary=float(input(\"please enter your salary: \"))\n",
    "Year_services=int(input(\"please enter year of service :\"))\n",
    "Bouns= salary*5/100\n",
    "if (Year_services>=5):\n",
    "    print(\"congratulations you take Bouns\", Bouns)\n",
    "    Month_salary= Bouns+salary\n",
    "    print(\"the salary of the employee in this month is\",Month_salary)\n",
    "else:\n",
    "    print(\"So sorry you don't have bouns this month, your salary is\",salary)\n"
   ]
  },
  {
   "cell_type": "code",
   "execution_count": null,
   "id": "b027f471",
   "metadata": {},
   "outputs": [],
   "source": [
    "S=float(input(\"Enter your Salary: \"))\n",
    "E=float(input(\"Enter your Year of Experience: \"))\n",
    "B= S*0.05\n",
    "w= B + S\n",
    "if(E>=5):\n",
    "    print(\"Your Bonus is: \",B,\"Your salary is:\",w)\n",
    "else:\n",
    "    print(\"your not eligible for bonus:\",S)\n"
   ]
  },
  {
   "cell_type": "code",
   "execution_count": null,
   "id": "3da77909",
   "metadata": {},
   "outputs": [],
   "source": [
    "S=float(input(\"Enter the salary\"))\n",
    "Y=float(input(\"Enter the year of service\"))\n",
    "if (Y>=5):\n",
    "    print(\"Yes, the given employee is getting bonus\", 'bonus:',S*0.05, 'salary:', S*1.05)\n",
    "else:\n",
    "    print(\"No, the given employee is not getting the bonus\", S)\n"
   ]
  },
  {
   "cell_type": "code",
   "execution_count": null,
   "id": "7c4b2c71",
   "metadata": {},
   "outputs": [],
   "source": []
  },
  {
   "cell_type": "code",
   "execution_count": null,
   "id": "c44d4967",
   "metadata": {},
   "outputs": [],
   "source": [
    "x=float(input(\"Enter the salary\"))\n",
    "y=float(input(\"Enter the year of service\"))\n",
    "if (y>=5):\n",
    "    print(\"employee is eligible for bonus\")\n",
    "    bonus=x*0.05\n",
    "    print(\"Bonus amount is\", bonus)\n",
    "    print(\"total salary = \", x+bonus)\n",
    "else:\n",
    "    print(\"employee is not eligible for bonus\")\n",
    "    print(\"total salary = \", x)\n"
   ]
  },
  {
   "cell_type": "code",
   "execution_count": null,
   "id": "9ee1046b",
   "metadata": {},
   "outputs": [],
   "source": [
    "'''\n",
    "\n",
    "Qus: A company has decided to give bonus to \n",
    "those employee if his/her year of service is greater than or equal to 6,\n",
    "bonus will be 15% of current salary.\n",
    "\n",
    "\n",
    "1- Take the input of salary and year of service.\n",
    "2- Find out whether the given employee is getting bonus or  not.\n",
    "3- If an employee is getting bonus then what will be the bonus amount.\n",
    "4- What is the salary of the employee in that month with bonus or without bonus.\n",
    "\n",
    "'''"
   ]
  },
  {
   "cell_type": "code",
   "execution_count": 13,
   "id": "30b16bb2",
   "metadata": {},
   "outputs": [
    {
     "name": "stdout",
     "output_type": "stream",
     "text": [
      "enter year of service: 5\n",
      "enter salary: 100000\n",
      "no bonus, new salary :  100000.0\n"
     ]
    }
   ],
   "source": [
    "yos = float(input(\"enter year of service: \"))\n",
    "salary= float(input(\"enter salary: \"))\n",
    "if yos>=6 :\n",
    "    bonus = (salary *15)/100\n",
    "    new_salary= salary+ bonus\n",
    "    print (\"employee is eligible for bonus, bonus amount: \", bonus ,\"new salary: \", new_salary)\n",
    "else:\n",
    "    print ( \"no bonus, new salary : \", salary)\n",
    "    "
   ]
  },
  {
   "cell_type": "code",
   "execution_count": null,
   "id": "add6a7d9",
   "metadata": {},
   "outputs": [],
   "source": []
  },
  {
   "cell_type": "code",
   "execution_count": null,
   "id": "11a4dd92",
   "metadata": {},
   "outputs": [],
   "source": []
  },
  {
   "cell_type": "code",
   "execution_count": null,
   "id": "7b97b521",
   "metadata": {},
   "outputs": [],
   "source": []
  },
  {
   "cell_type": "code",
   "execution_count": null,
   "id": "9fae0d28",
   "metadata": {},
   "outputs": [],
   "source": []
  },
  {
   "cell_type": "code",
   "execution_count": null,
   "id": "8ae8ade1",
   "metadata": {},
   "outputs": [],
   "source": []
  },
  {
   "cell_type": "code",
   "execution_count": null,
   "id": "8a0c4ffe",
   "metadata": {},
   "outputs": [],
   "source": []
  },
  {
   "cell_type": "code",
   "execution_count": null,
   "id": "83adad57",
   "metadata": {},
   "outputs": [],
   "source": []
  },
  {
   "cell_type": "code",
   "execution_count": null,
   "id": "59561ef0",
   "metadata": {},
   "outputs": [],
   "source": []
  },
  {
   "cell_type": "code",
   "execution_count": null,
   "id": "03083f9f",
   "metadata": {},
   "outputs": [],
   "source": []
  },
  {
   "cell_type": "code",
   "execution_count": 6,
   "id": "d6d7c4f5",
   "metadata": {},
   "outputs": [
    {
     "name": "stdout",
     "output_type": "stream",
     "text": [
      "Enter the salary: 40000\n",
      "Enter the year of service: 2\n",
      "employee is not eligible for bonus\n",
      "total salary =  40000.0\n"
     ]
    }
   ],
   "source": [
    "# part 1\n",
    "salary=float(input(\"Enter the salary: \"))\n",
    "service_year=float(input(\"Enter the year of service: \"))\n",
    "\n",
    "if service_year >= 6:\n",
    "    print(\"employee is eligible for bonus\")\n",
    "    bonus=salary*0.15\n",
    "    print(f\"Bonus amount is {bonus}$\")\n",
    "    print(\"total salary = \", salary+bonus)\n",
    "else:\n",
    "    print(\"employee is not eligible for bonus\")\n",
    "    print(\"total salary = \", salary)"
   ]
  },
  {
   "cell_type": "code",
   "execution_count": null,
   "id": "3a97b613",
   "metadata": {},
   "outputs": [],
   "source": [
    "x=51621\n",
    "y=664451\n"
   ]
  },
  {
   "cell_type": "code",
   "execution_count": null,
   "id": "8f916142",
   "metadata": {},
   "outputs": [],
   "source": [
    "print(f'The value of x is {x} and value of y is {y}')"
   ]
  },
  {
   "cell_type": "code",
   "execution_count": null,
   "id": "54e951e9",
   "metadata": {},
   "outputs": [],
   "source": []
  },
  {
   "cell_type": "code",
   "execution_count": null,
   "id": "526c1f76",
   "metadata": {},
   "outputs": [],
   "source": []
  },
  {
   "cell_type": "code",
   "execution_count": null,
   "id": "6fe4a1b2",
   "metadata": {},
   "outputs": [],
   "source": []
  },
  {
   "cell_type": "code",
   "execution_count": null,
   "id": "46b2391c",
   "metadata": {},
   "outputs": [],
   "source": [
    "salary = int(input(\"Enter Salary of employee\"))\n",
    "Year_of_Service = float(input(\"Enter year of service\"))\n",
    "Bonus = 0\n",
    "if (Year_of_Service>5):\n",
    "    print (\"Bonus = \", 0.05*salary)\n",
    "    Bonus = 0.05*salary\n",
    "    print(\"Salary with Bonus\", Bonus*salary )\n",
    "    \n",
    "else:\n",
    "    print(\"Not Eligible\")\n",
    "    print(\"Salary with Bonus\", salary )"
   ]
  },
  {
   "cell_type": "code",
   "execution_count": null,
   "id": "86f4bc66",
   "metadata": {},
   "outputs": [],
   "source": [
    "2+2==5"
   ]
  },
  {
   "cell_type": "code",
   "execution_count": null,
   "id": "6928dbc3",
   "metadata": {},
   "outputs": [],
   "source": [
    "0.1+0.2==0.3"
   ]
  },
  {
   "cell_type": "code",
   "execution_count": null,
   "id": "8d77e92d",
   "metadata": {},
   "outputs": [],
   "source": [
    "0.2+0.3==0.5"
   ]
  },
  {
   "cell_type": "code",
   "execution_count": null,
   "id": "f7f76430",
   "metadata": {},
   "outputs": [],
   "source": [
    "salary = float(input(\"Enter the salary amount: \"))\n",
    "yearsService = float(input(\"Enter the year of service: \"))\n",
    "if yearsService >= 5:\n",
    "    print(\"Service of the employee who is more than or equal 5 years is getting the extra 5% of the current salary~\")\n",
    "    print(\"This employee's salary with bonus: \", salary*1.05)\n",
    "else:\n",
    "    print(\"Service of the employee who is less than 5 years~\")\n",
    "    print(\"This employee's salary without bonus: \", salary)"
   ]
  },
  {
   "cell_type": "code",
   "execution_count": null,
   "id": "98c7eaac",
   "metadata": {},
   "outputs": [],
   "source": [
    "salary = int(input('Enter your salary :'))\n",
    "salary=float(salary)\n",
    "year= float(input('Enter year of service:'))\n",
    "if year>=5:\n",
    "    print('Bonus of 5%')\n",
    "    print('Bonus amount',salary*0.05)\n",
    "    print('The salary of this employee with bonus would be',salary*1.05)\n",
    "    \n",
    "else:\n",
    "    print('No Bonus')\n",
    "    print('The salary for this employee would be ', salary)"
   ]
  },
  {
   "cell_type": "code",
   "execution_count": null,
   "id": "ce6c59e8",
   "metadata": {},
   "outputs": [],
   "source": []
  },
  {
   "cell_type": "code",
   "execution_count": null,
   "id": "5bde4e5f",
   "metadata": {},
   "outputs": [],
   "source": []
  },
  {
   "cell_type": "code",
   "execution_count": null,
   "id": "f570c7a8",
   "metadata": {},
   "outputs": [],
   "source": []
  },
  {
   "cell_type": "code",
   "execution_count": null,
   "id": "ce9c606e",
   "metadata": {},
   "outputs": [],
   "source": [
    "salary=int(input(\"Enter the Salary: \"))\n",
    "\n",
    "year_of_service=float(input(\"Enter the year of service: \"))\n",
    "\n",
    "if (year_of_service >= 5):\n",
    "    print(\"Employee is eligibile for bonus\")\n",
    "    \n",
    "    print(\"Bonus amount is \", 0.05*salary )\n",
    "    \n",
    "else:\n",
    "    print(\"Employee is not eligible for bonus.\")\n",
    "    "
   ]
  },
  {
   "cell_type": "code",
   "execution_count": null,
   "id": "e1b47c79",
   "metadata": {},
   "outputs": [],
   "source": [
    "'''\n",
    "\n",
    "\n",
    "Qus: Take values of length and breadth of a rectangle from user and check if it is a square or not.\n",
    "Find the area.\n",
    "\n",
    "1: take the input len and breadth. (float)\n",
    "2: Check if the length and b is equal or not.\n",
    "3: Computing area.\n",
    "\n",
    "'''"
   ]
  },
  {
   "cell_type": "code",
   "execution_count": null,
   "id": "cce2be32",
   "metadata": {},
   "outputs": [],
   "source": []
  },
  {
   "cell_type": "code",
   "execution_count": null,
   "id": "a1f2e0f7",
   "metadata": {},
   "outputs": [],
   "source": []
  },
  {
   "cell_type": "code",
   "execution_count": null,
   "id": "af1414b3",
   "metadata": {},
   "outputs": [],
   "source": []
  },
  {
   "cell_type": "code",
   "execution_count": null,
   "id": "c778a7c3",
   "metadata": {},
   "outputs": [],
   "source": []
  },
  {
   "cell_type": "code",
   "execution_count": null,
   "id": "381f5e88",
   "metadata": {},
   "outputs": [],
   "source": []
  },
  {
   "cell_type": "code",
   "execution_count": null,
   "id": "b31c8660",
   "metadata": {},
   "outputs": [],
   "source": []
  },
  {
   "cell_type": "code",
   "execution_count": null,
   "id": "bd56d5fc",
   "metadata": {},
   "outputs": [],
   "source": []
  },
  {
   "cell_type": "code",
   "execution_count": null,
   "id": "83d6e250",
   "metadata": {},
   "outputs": [],
   "source": [
    "l=float(input(\"Enter the len: \"))\n",
    "\n",
    "b=float(input(\"Enter the Breadth: \"))\n",
    "\n",
    "if (l==b):\n",
    "    print(\"Given rectangle is square\")\n",
    "else:\n",
    "    print(\"Given rectangle is not a square\")\n",
    "    \n",
    "print(\"Area= \", l*b, \"sq units\")"
   ]
  },
  {
   "cell_type": "code",
   "execution_count": null,
   "id": "9e26eb9e",
   "metadata": {},
   "outputs": [],
   "source": [
    "salary=float(input(\"enter the salary:\"))\n",
    "year=float(input(\"year of service:\"))\n",
    "if(year>=5):\n",
    "    print(\"employees is elligible for bonus\")\n",
    "    print(\"bonus=\",salary*0.05)\n",
    "    print(\"total_salary=\",salary+bonus)\n",
    "else:\n",
    "    print(\"sorry you are not elligible for the bonus\")\n",
    "    print(\"total_salary=\",salary)\n"
   ]
  },
  {
   "cell_type": "code",
   "execution_count": null,
   "id": "47aa1108",
   "metadata": {},
   "outputs": [],
   "source": [
    "'''\n",
    "Qus3: Take two int values from the user and print the greatest among them.\n",
    "\n",
    "1: Taking the two inputs from the user\n",
    "2: Check which of them is greater.\n",
    "\n",
    "'''"
   ]
  },
  {
   "cell_type": "code",
   "execution_count": 16,
   "id": "38f7a250",
   "metadata": {},
   "outputs": [
    {
     "name": "stdout",
     "output_type": "stream",
     "text": [
      "enter the fisrt num: 8\n",
      "enter the second num: 7\n",
      "a is greater\n"
     ]
    }
   ],
   "source": [
    "a= int(input(\"enter the fisrt num: \"))\n",
    "b= int (input(\"enter the second num: \"))\n",
    "if (a>b):\n",
    "    print(\"a is greater\")\n",
    "elif (b>a):\n",
    "    print(\"b is greater\")\n",
    "else: \n",
    "    print(\"a equals to b\")\n"
   ]
  },
  {
   "cell_type": "code",
   "execution_count": null,
   "id": "ad9585b5",
   "metadata": {},
   "outputs": [],
   "source": []
  },
  {
   "cell_type": "code",
   "execution_count": null,
   "id": "bd1d43b8",
   "metadata": {},
   "outputs": [],
   "source": []
  },
  {
   "cell_type": "code",
   "execution_count": null,
   "id": "a895b5fd",
   "metadata": {},
   "outputs": [],
   "source": []
  },
  {
   "cell_type": "code",
   "execution_count": null,
   "id": "76c2e90c",
   "metadata": {},
   "outputs": [],
   "source": []
  },
  {
   "cell_type": "code",
   "execution_count": null,
   "id": "b26381fa",
   "metadata": {},
   "outputs": [],
   "source": []
  },
  {
   "cell_type": "code",
   "execution_count": null,
   "id": "a2459b5c",
   "metadata": {},
   "outputs": [],
   "source": []
  },
  {
   "cell_type": "code",
   "execution_count": null,
   "id": "9f5dd14c",
   "metadata": {},
   "outputs": [],
   "source": []
  },
  {
   "cell_type": "code",
   "execution_count": null,
   "id": "f2ed5971",
   "metadata": {},
   "outputs": [],
   "source": []
  },
  {
   "cell_type": "code",
   "execution_count": 9,
   "id": "2d4b3af9",
   "metadata": {
    "scrolled": true
   },
   "outputs": [
    {
     "name": "stdout",
     "output_type": "stream",
     "text": [
      "Enter first number: 5\n",
      "Enter second number: 5\n",
      "second number is greater\n",
      "5\n"
     ]
    }
   ],
   "source": [
    "a = int(input(\"Enter first number: \"))\n",
    "b = int(input(\"Enter second number: \"))\n",
    "if(a>b):\n",
    "    print('first number is greater')\n",
    "    print(a)\n",
    "else:\n",
    "    print('second number is greater')\n",
    "    print(b)\n"
   ]
  },
  {
   "cell_type": "code",
   "execution_count": null,
   "id": "7f9053c8",
   "metadata": {},
   "outputs": [],
   "source": [
    "5>5"
   ]
  },
  {
   "cell_type": "code",
   "execution_count": null,
   "id": "8f532cb2",
   "metadata": {},
   "outputs": [],
   "source": []
  },
  {
   "cell_type": "code",
   "execution_count": null,
   "id": "c8122180",
   "metadata": {},
   "outputs": [],
   "source": []
  },
  {
   "cell_type": "code",
   "execution_count": null,
   "id": "cdb5d919",
   "metadata": {},
   "outputs": [],
   "source": []
  },
  {
   "cell_type": "code",
   "execution_count": null,
   "id": "2ed892f6",
   "metadata": {},
   "outputs": [],
   "source": []
  },
  {
   "cell_type": "code",
   "execution_count": null,
   "id": "1b53f69c",
   "metadata": {},
   "outputs": [],
   "source": []
  },
  {
   "cell_type": "code",
   "execution_count": null,
   "id": "f8e0b983",
   "metadata": {},
   "outputs": [],
   "source": []
  },
  {
   "cell_type": "code",
   "execution_count": null,
   "id": "fd634e11",
   "metadata": {},
   "outputs": [],
   "source": [
    "a=int(input('Enter the value of a: '))\n",
    "b=int(input('Enter the value of b: '))\n",
    "if (a>b):\n",
    "    print(\"a is Greater than b\")\n",
    "else:\n",
    "    print(\"b is greater than a\")\n"
   ]
  },
  {
   "cell_type": "code",
   "execution_count": null,
   "id": "85293a23",
   "metadata": {},
   "outputs": [],
   "source": []
  },
  {
   "cell_type": "code",
   "execution_count": null,
   "id": "75e85388",
   "metadata": {},
   "outputs": [],
   "source": []
  },
  {
   "cell_type": "code",
   "execution_count": null,
   "id": "09703828",
   "metadata": {},
   "outputs": [],
   "source": []
  },
  {
   "cell_type": "code",
   "execution_count": null,
   "id": "818a36b2",
   "metadata": {},
   "outputs": [],
   "source": [
    "num1=int(input(\"enter the value of number1 \"))\n",
    "num2=int(input(\"enter the value of number2 \"))\n",
    "if(num1>num2):\n",
    "    print(\"entered number 1 is greater\", num1)\n",
    "else:\n",
    "    print(\"entered number 2 is greater\", num2)\n"
   ]
  },
  {
   "cell_type": "code",
   "execution_count": null,
   "id": "c8510ffd",
   "metadata": {},
   "outputs": [],
   "source": []
  },
  {
   "cell_type": "code",
   "execution_count": null,
   "id": "434f0586",
   "metadata": {},
   "outputs": [],
   "source": [
    "A=int(input(\"The first user number\"))\n",
    "B=int(input(\"The second user number\"))\n",
    "if (A>B):\n",
    "    print(\"first number is greater\",A)\n",
    "else:\n",
    "    print(\"second number is greater\",B)\n"
   ]
  },
  {
   "cell_type": "code",
   "execution_count": 12,
   "id": "1d1ca8c4",
   "metadata": {},
   "outputs": [
    {
     "name": "stdout",
     "output_type": "stream",
     "text": [
      "a: 5\n",
      "b: 5\n",
      "a is equal to b\n"
     ]
    }
   ],
   "source": [
    "a=int(input(\"a: \"))\n",
    "\n",
    "b=int(input(\"b: \"))\n",
    "\n",
    "if a>b:\n",
    "    print('a is greater')\n",
    "    \n",
    "elif b>a:\n",
    "    print('b is greater')\n",
    "\n",
    "else:\n",
    "    print('a is equal to b')"
   ]
  },
  {
   "cell_type": "code",
   "execution_count": null,
   "id": "4e5f8723",
   "metadata": {},
   "outputs": [],
   "source": [
    "8>8\n"
   ]
  },
  {
   "cell_type": "code",
   "execution_count": null,
   "id": "9d058c5a",
   "metadata": {},
   "outputs": [],
   "source": [
    "x=int(input())\n",
    "\n",
    "\n",
    "if x < 10 :\n",
    "    print('x is less than 10')\n",
    "elif 10 <= x < 20: \n",
    "    print('x is in range of 20s')\n",
    "\n",
    "elif 20 <= x < 30:\n",
    "    print('x is in range of 30s')\n",
    "\n",
    "elif 30 <= x < 40:\n",
    "    print('x is in range of 40s')\n",
    "    \n",
    "else:\n",
    "    print(' x is greater than 40')"
   ]
  },
  {
   "cell_type": "code",
   "execution_count": null,
   "id": "f3c997e9",
   "metadata": {},
   "outputs": [],
   "source": []
  },
  {
   "cell_type": "code",
   "execution_count": null,
   "id": "1a7fce4e",
   "metadata": {},
   "outputs": [],
   "source": []
  },
  {
   "cell_type": "code",
   "execution_count": null,
   "id": "e087b863",
   "metadata": {},
   "outputs": [],
   "source": []
  },
  {
   "cell_type": "code",
   "execution_count": null,
   "id": "33f0bb2a",
   "metadata": {},
   "outputs": [],
   "source": [
    "first=int(input(\"First number: \"))\n",
    "second=int(input(\"Second number: \"))\n",
    "\n",
    "if (first > second):\n",
    "    print(\"Greatest is first number \", first)\n",
    "    \n",
    "elif (second > first):\n",
    "    print(\"Greatest is second number \", second)\n",
    "    \n",
    "else:\n",
    "    print(\"Both numbers are equal \")"
   ]
  },
  {
   "cell_type": "code",
   "execution_count": null,
   "id": "ea9e2f84",
   "metadata": {},
   "outputs": [],
   "source": [
    "A=int(input(\"Enter the num\"))\n",
    "B=int(input(\"enter the num\"))\n",
    "if(A>B):\n",
    "    print(\"A is greater\")\n",
    "elif(B>A):\n",
    "    print(\"B is greater\")\n",
    "else:\n",
    "    print(\"A=B\")\n"
   ]
  },
  {
   "cell_type": "code",
   "execution_count": null,
   "id": "5ce45baf",
   "metadata": {},
   "outputs": [],
   "source": [
    "'''\n",
    "\n",
    "Qus4: A shop will give discount of 10% if the purchased quantity is more than 1000.\n",
    "Ask user for quantity. Suppose one unit will cost 100$. Judge and print the total cost for user.\n",
    "\n",
    "\n",
    "'''"
   ]
  },
  {
   "cell_type": "code",
   "execution_count": 19,
   "id": "41cabbfd",
   "metadata": {},
   "outputs": [
    {
     "name": "stdout",
     "output_type": "stream",
     "text": [
      " enter quantity: 1200\n",
      " 10 % discount, total cost :  108000.0 $\n"
     ]
    }
   ],
   "source": [
    "quantity= int(input(\" enter quantity: \"))\n",
    "if quantity>1000 :\n",
    "    discount = quantity * 100 *0.1\n",
    "    cost = (quantity*100) - discount\n",
    "    print(\" 10 % discount, total cost : \", cost, \"$\")\n",
    "else: \n",
    "    print( \" no discount, total cost: \", quantity*100,\"$\" )"
   ]
  },
  {
   "cell_type": "code",
   "execution_count": null,
   "id": "e4da7224",
   "metadata": {},
   "outputs": [],
   "source": []
  },
  {
   "cell_type": "code",
   "execution_count": null,
   "id": "eba21a05",
   "metadata": {},
   "outputs": [],
   "source": []
  },
  {
   "cell_type": "code",
   "execution_count": null,
   "id": "b92b23c1",
   "metadata": {},
   "outputs": [],
   "source": []
  },
  {
   "cell_type": "code",
   "execution_count": null,
   "id": "ee885ad4",
   "metadata": {},
   "outputs": [],
   "source": []
  },
  {
   "cell_type": "code",
   "execution_count": null,
   "id": "940bb80a",
   "metadata": {},
   "outputs": [],
   "source": []
  },
  {
   "cell_type": "code",
   "execution_count": null,
   "id": "15de65cd",
   "metadata": {},
   "outputs": [],
   "source": []
  },
  {
   "cell_type": "code",
   "execution_count": null,
   "id": "0bb1644e",
   "metadata": {},
   "outputs": [],
   "source": []
  },
  {
   "cell_type": "code",
   "execution_count": null,
   "id": "dcb88ab0",
   "metadata": {},
   "outputs": [],
   "source": [
    "# discount=500*0.1\n",
    "discount=50\n",
    "cost=500*100\n",
    "Total_cost= 500000 * 50"
   ]
  },
  {
   "cell_type": "code",
   "execution_count": null,
   "id": "7897ca10",
   "metadata": {},
   "outputs": [],
   "source": [
    "quantity= int(input(\"Enter the quantity :\"))\n",
    "if (quantity>1000):\n",
    "    discount= quantity*100*0.1\n",
    "    cost= quantity*100\n",
    "    Total_cost= cost-discount\n",
    "    print(\"you deserve the discount 10%\",Total_cost)\n",
    "else:\n",
    "    print(\"total amount\", 100*quantity)\n"
   ]
  },
  {
   "cell_type": "code",
   "execution_count": null,
   "id": "44f12594",
   "metadata": {},
   "outputs": [],
   "source": [
    "productQty = int(input(\"The total number of product bought: \"))\n",
    "if(productQty > 1000):\n",
    "    productPriceDiscount = productQty * 100 * 0.90\n",
    "    print(\"The total product bought price with 10% discount: \", productPriceDiscount)\n",
    "else:\n",
    "    productPrice = productQty * 100\n",
    "    print(\"The total product bought price: \", productPrice)"
   ]
  },
  {
   "cell_type": "code",
   "execution_count": null,
   "id": "f34e5738",
   "metadata": {},
   "outputs": [],
   "source": [
    "print(\"Enter Quantity\")\n",
    "Quantity= float(input())\n",
    "Price= 100\n",
    "if Quantity> 1000:\n",
    "    Price= Quantity*100*0.9\n",
    "else:\n",
    "    Price= Quantity* 100\n",
    "print(\"Total Price:\", Price)"
   ]
  },
  {
   "cell_type": "code",
   "execution_count": null,
   "id": "096252b5",
   "metadata": {},
   "outputs": [],
   "source": [
    "qty = int(input(\"Enter the quantity:\"))\n",
    "cp = 100\n",
    "if(qty>1000):\n",
    "    amount = qty *cp - (qty*cp*.1)\n",
    "else:\n",
    "    amount = qty*cp\n",
    "print(\"Total Amount = \",amount)"
   ]
  },
  {
   "cell_type": "code",
   "execution_count": null,
   "id": "356374d6",
   "metadata": {},
   "outputs": [],
   "source": [
    "#kingsley\n",
    "\n",
    "productQty = int(input(\"The total number of product bought: \"))\n",
    "\n",
    "if(productQty > 1000):\n",
    "    \n",
    "    productPriceDiscount = productQty * 100 * 0.90\n",
    "    print(\"The total product bought price with 10% discount: \", productPriceDiscount)\n",
    "\n",
    "elif (productQty==1 and productQty<=1000):\n",
    "    productPrice = productQty * 100\n",
    "    print(\"The total product bought price: \", productPrice)\n",
    "    \n",
    "else:\n",
    "    print(\"Invalid number of product quantity\")"
   ]
  },
  {
   "cell_type": "code",
   "execution_count": null,
   "id": "28446f3d",
   "metadata": {},
   "outputs": [],
   "source": [
    "print(\"Enter Quantity\")\n",
    "Quantity= float(input())\n",
    "Price= 100\n",
    "if Quantity <0:\n",
    "    print(\"Please enter correct quantity\")\n",
    "elif Quantity> 1000:\n",
    "    Price= Quantity*100*0.9\n",
    "    print(\"Total Price:\", Price)\n",
    "else:\n",
    "    Price= Quantity* 100\n",
    "    print(\"Total Price:\", Price)"
   ]
  },
  {
   "cell_type": "code",
   "execution_count": null,
   "id": "71e225cb",
   "metadata": {},
   "outputs": [],
   "source": [
    "Deepali = 100\n",
    "\n",
    "John = 200"
   ]
  },
  {
   "cell_type": "code",
   "execution_count": null,
   "id": "f1138541",
   "metadata": {},
   "outputs": [],
   "source": [
    "vani=0\n",
    "\n",
    "\n",
    "vani=100\n",
    "\n",
    "Deepali="
   ]
  },
  {
   "cell_type": "code",
   "execution_count": null,
   "id": "a0f85354",
   "metadata": {},
   "outputs": [],
   "source": [
    "x=5\n",
    "y=10\n",
    "\n"
   ]
  },
  {
   "cell_type": "code",
   "execution_count": null,
   "id": "f0777638",
   "metadata": {},
   "outputs": [],
   "source": [
    "temp=x\n",
    "x=y\n",
    "y=temp"
   ]
  },
  {
   "cell_type": "code",
   "execution_count": null,
   "id": "4d4907b0",
   "metadata": {},
   "outputs": [],
   "source": [
    "x"
   ]
  },
  {
   "cell_type": "code",
   "execution_count": null,
   "id": "0de36834",
   "metadata": {},
   "outputs": [],
   "source": [
    "y"
   ]
  },
  {
   "cell_type": "code",
   "execution_count": null,
   "id": "87893f74",
   "metadata": {},
   "outputs": [],
   "source": []
  },
  {
   "cell_type": "code",
   "execution_count": null,
   "id": "38cf4c28",
   "metadata": {},
   "outputs": [],
   "source": []
  },
  {
   "cell_type": "code",
   "execution_count": null,
   "id": "31f57926",
   "metadata": {},
   "outputs": [],
   "source": [
    "quantity = int(input(\"Enter the purchased quantity: \"))\n",
    "\n",
    "cost=quantity*100\n",
    "\n",
    "if (quantity > 1000):\n",
    "    print(\"you will get 10% discount\")\n",
    "    discount = cost*0.1\n",
    "    print(\"discount amount is :\",discount)\n",
    "    print(\"total cost is :\", cost-discount)\n",
    "else:\n",
    "    print(\"no discount\")\n",
    "    print(\"total cost is :\", cost)"
   ]
  },
  {
   "cell_type": "code",
   "execution_count": null,
   "id": "d499f63c",
   "metadata": {},
   "outputs": [],
   "source": [
    "quantity=int(input(\"Enter the quantity: \"))\n",
    "\n",
    "if (quantity*100 >= 1000):\n",
    "    print(\"Customer is eligible for discount\")\n",
    "    print(\"Total cost\", (quantity*100))\n",
    "    print(\"Cost after discount: \", ((quantity*100)- (0.1*quantity*100)))\n",
    "    \n",
    "else:\n",
    "    print(\"Customer is not eligible for discount\")\n",
    "    print(\"total cost: \", (quantity*100))"
   ]
  },
  {
   "cell_type": "code",
   "execution_count": null,
   "id": "69dd9155",
   "metadata": {},
   "outputs": [],
   "source": []
  },
  {
   "cell_type": "code",
   "execution_count": null,
   "id": "8cc986ae",
   "metadata": {},
   "outputs": [],
   "source": [
    "print('Here is an Exciting offer! you will get 10% discount if your order value is more than 1000 rupees')\n",
    "\n",
    "qty=int(input('How much quantity you required: '))\n",
    "cost=qty*100\n",
    "dis=qty*0.1\n",
    "\n",
    "if qty>=1000:\n",
    "    print('wow! you get a discount of 10%, your order value is:', cost-dis)\n",
    "else:\n",
    "    print('Your order value is:',cost)\n"
   ]
  },
  {
   "cell_type": "code",
   "execution_count": null,
   "id": "e2283736",
   "metadata": {},
   "outputs": [],
   "source": [
    "if (marks>=90 and marks<100):\n",
    "    print('A')"
   ]
  },
  {
   "cell_type": "code",
   "execution_count": null,
   "id": "19832b59",
   "metadata": {},
   "outputs": [],
   "source": [
    "'''\n",
    "Qus5:  Find the grades(0-100) take the input of the marks\n",
    "\n",
    "\n",
    "90>= A\n",
    "80 - 90 : B\n",
    "70-80: C\n",
    "60-70: D\n",
    "else E\n",
    "\n",
    "elif 80 <= marks < 90:\n",
    "    print(\"B\")\n",
    "\n",
    "\n",
    "'''\n",
    "\n",
    "marks=50"
   ]
  },
  {
   "cell_type": "code",
   "execution_count": 28,
   "id": "4bdd5ba9",
   "metadata": {},
   "outputs": [
    {
     "name": "stdout",
     "output_type": "stream",
     "text": [
      "enter marks: -1\n",
      "invalid\n"
     ]
    }
   ],
   "source": [
    "n =float(input(\"enter marks: \"))\n",
    "if 0<=n<=100: \n",
    "    \n",
    "    if 100>=n>=90 :\n",
    "        print(\"grade =A \")\n",
    "    elif 80<=n<90 :\n",
    "        print(\"b\")\n",
    "    elif 70<=n<80: \n",
    "        print(\"c\")\n",
    "    else:\n",
    "        print(\"d\")\n",
    "else:\n",
    "    print(\"invalid\")\n",
    "\n"
   ]
  },
  {
   "cell_type": "markdown",
   "id": "4cd85b25",
   "metadata": {},
   "source": [
    "# "
   ]
  },
  {
   "cell_type": "code",
   "execution_count": null,
   "id": "a016edb7",
   "metadata": {},
   "outputs": [],
   "source": []
  },
  {
   "cell_type": "code",
   "execution_count": null,
   "id": "b05c0306",
   "metadata": {},
   "outputs": [],
   "source": []
  },
  {
   "cell_type": "code",
   "execution_count": null,
   "id": "0e4c5be5",
   "metadata": {},
   "outputs": [],
   "source": []
  },
  {
   "cell_type": "code",
   "execution_count": null,
   "id": "1f8b9747",
   "metadata": {},
   "outputs": [],
   "source": []
  },
  {
   "cell_type": "code",
   "execution_count": null,
   "id": "8dba91ec",
   "metadata": {},
   "outputs": [],
   "source": []
  },
  {
   "cell_type": "code",
   "execution_count": null,
   "id": "621f5f6c",
   "metadata": {},
   "outputs": [],
   "source": []
  },
  {
   "cell_type": "code",
   "execution_count": null,
   "id": "b0be0883",
   "metadata": {},
   "outputs": [],
   "source": []
  },
  {
   "cell_type": "code",
   "execution_count": 14,
   "id": "969bfb79",
   "metadata": {},
   "outputs": [
    {
     "name": "stdout",
     "output_type": "stream",
     "text": [
      "please enter your score: 100\n",
      "A\n"
     ]
    }
   ],
   "source": [
    "n=float(input('please enter your score: '))\n",
    "\n",
    "if (n>=90 and n<=100):\n",
    "    print(\"A\")\n",
    "elif (n>=80 and n<90):\n",
    "    print(\"B\")\n",
    "elif (n>=70 and n<80):\n",
    "    print('C')\n",
    "elif (n>=60 and n<70):\n",
    "    print(\"D\")\n",
    "else:\n",
    "    print(\"E\")"
   ]
  },
  {
   "cell_type": "code",
   "execution_count": null,
   "id": "bce6fd64",
   "metadata": {},
   "outputs": [],
   "source": [
    "90<= n <=100"
   ]
  },
  {
   "cell_type": "code",
   "execution_count": null,
   "id": "1fa43299",
   "metadata": {},
   "outputs": [],
   "source": []
  },
  {
   "cell_type": "code",
   "execution_count": null,
   "id": "19ecff00",
   "metadata": {},
   "outputs": [],
   "source": []
  },
  {
   "cell_type": "code",
   "execution_count": null,
   "id": "72e8fa80",
   "metadata": {},
   "outputs": [],
   "source": []
  },
  {
   "cell_type": "code",
   "execution_count": 15,
   "id": "35ce94f1",
   "metadata": {},
   "outputs": [
    {
     "name": "stdout",
     "output_type": "stream",
     "text": [
      "enter your mark:65\n",
      "grade is =B\n"
     ]
    }
   ],
   "source": [
    "marks=float(input('enter your mark:'))\n",
    "\n",
    "if (marks>90):\n",
    "    print('grade is =S+')\n",
    "    \n",
    "elif (80<=marks<90):\n",
    "    print('grade is =A+')\n",
    "    \n",
    "elif (70<=marks<80):\n",
    "    print('grade is =A')\n",
    "    \n",
    "elif (60<=marks<70):\n",
    "    print('grade is =B')\n",
    "    \n",
    "elif (50<=marks<60):\n",
    "    print('grade is =C')\n",
    "    \n",
    "elif (40<=marks<50):\n",
    "    print('grade is =D')\n",
    "    \n",
    "else:\n",
    "    print('grade is =F')\n"
   ]
  },
  {
   "cell_type": "code",
   "execution_count": null,
   "id": "a078f1b7",
   "metadata": {},
   "outputs": [],
   "source": [
    "ask=float(input('what is your score?:'))\n",
    "if ask>=90:\n",
    "    print('S+')\n",
    "elif ask >=80:\n",
    "    print('A+')\n",
    "elif ask>=70:\n",
    "    print('A')\n",
    "elif ask>=60:\n",
    "    print('B')\n",
    "elif ask >=50:\n",
    "    print('C')\n",
    "elif ask >= 40:\n",
    "    print('D')\n",
    "else:\n",
    "    print('F')\n"
   ]
  },
  {
   "cell_type": "code",
   "execution_count": null,
   "id": "cf822201",
   "metadata": {},
   "outputs": [],
   "source": []
  },
  {
   "cell_type": "code",
   "execution_count": null,
   "id": "74b1b3df",
   "metadata": {},
   "outputs": [],
   "source": []
  },
  {
   "cell_type": "code",
   "execution_count": null,
   "id": "eb491a47",
   "metadata": {},
   "outputs": [],
   "source": []
  },
  {
   "cell_type": "code",
   "execution_count": null,
   "id": "11c0d065",
   "metadata": {},
   "outputs": [],
   "source": []
  },
  {
   "cell_type": "code",
   "execution_count": null,
   "id": "f621eabc",
   "metadata": {},
   "outputs": [],
   "source": []
  },
  {
   "cell_type": "code",
   "execution_count": null,
   "id": "8328ab54",
   "metadata": {},
   "outputs": [],
   "source": [
    "\n"
   ]
  },
  {
   "cell_type": "code",
   "execution_count": 20,
   "id": "d02887c6",
   "metadata": {},
   "outputs": [
    {
     "name": "stdout",
     "output_type": "stream",
     "text": [
      "enter the mark: 115\n",
      "A\n"
     ]
    }
   ],
   "source": [
    "mark=float(input(\"enter the mark: \"))\n",
    "\n",
    "if(90<=mark): \n",
    "    print('A')\n",
    "elif(80<=mark<=90):\n",
    "    print('B')\n",
    "elif(70<=mark<=80):\n",
    "    print('C')\n",
    "elif(60<=mark<=100):\n",
    "    print('D')\n",
    "else:\n",
    "    print('E')\n"
   ]
  },
  {
   "cell_type": "code",
   "execution_count": null,
   "id": "41f596e1",
   "metadata": {},
   "outputs": [],
   "source": []
  },
  {
   "cell_type": "code",
   "execution_count": null,
   "id": "b84a8078",
   "metadata": {},
   "outputs": [],
   "source": []
  },
  {
   "cell_type": "code",
   "execution_count": null,
   "id": "392b7685",
   "metadata": {},
   "outputs": [],
   "source": []
  },
  {
   "cell_type": "code",
   "execution_count": null,
   "id": "59d58adf",
   "metadata": {},
   "outputs": [],
   "source": []
  },
  {
   "cell_type": "code",
   "execution_count": null,
   "id": "7379f25b",
   "metadata": {},
   "outputs": [],
   "source": []
  },
  {
   "cell_type": "code",
   "execution_count": null,
   "id": "ef4226f6",
   "metadata": {},
   "outputs": [],
   "source": []
  },
  {
   "cell_type": "code",
   "execution_count": null,
   "id": "1c748c90",
   "metadata": {},
   "outputs": [],
   "source": [
    "Grades = int(input())\n",
    "\n",
    "if (Grades>=90 and Grades<100):\n",
    "    print('Your Grade is A')\n",
    "elif (Grades>=80 and Grades<90):\n",
    "    print(\"You got B Grade\")\n",
    "elif (Grades>=70 and Grades<80):\n",
    "    print('You Got c Grade')\n",
    "elif (Grades>=60 and Grades<70):\n",
    "    print('You got D Grade')\n",
    "else:\n",
    "    print('You got E')\n"
   ]
  },
  {
   "cell_type": "code",
   "execution_count": null,
   "id": "46038d95",
   "metadata": {},
   "outputs": [],
   "source": [
    "marks=int(input(\"enter marks:\"))\n",
    "\n",
    "if (100>=marks>=90):\n",
    "    print('A')\n",
    "elif (80<=marks<90):\n",
    "    print('B')\n",
    "elif (70<=marks<80):\n",
    "    print('C')\n",
    "elif (60<=marks<70):\n",
    "    print('D')\n",
    "else:\n",
    "    print('E')\n"
   ]
  },
  {
   "cell_type": "code",
   "execution_count": null,
   "id": "1cba4e0c",
   "metadata": {},
   "outputs": [],
   "source": [
    "marks=int(input(\"enter marks:\"))\n",
    "\n",
    "if (100>=marks>=90):\n",
    "    print('A')\n",
    "elif (80<=marks<90):\n",
    "    print('B')\n",
    "elif (70<=marks<80):\n",
    "    print('C')\n",
    "elif (60<=marks<70):\n",
    "    print('D')\n",
    "elif (marks>=0 and marks<=100):\n",
    "        print('E')\n",
    "else:\n",
    "    print('invalid')\n"
   ]
  },
  {
   "cell_type": "code",
   "execution_count": null,
   "id": "8eca646f",
   "metadata": {},
   "outputs": [],
   "source": []
  },
  {
   "cell_type": "code",
   "execution_count": null,
   "id": "a7afbcd2",
   "metadata": {},
   "outputs": [],
   "source": []
  },
  {
   "cell_type": "code",
   "execution_count": null,
   "id": "1aef63c7",
   "metadata": {},
   "outputs": [],
   "source": []
  },
  {
   "cell_type": "code",
   "execution_count": null,
   "id": "e08ffd85",
   "metadata": {},
   "outputs": [],
   "source": []
  },
  {
   "cell_type": "code",
   "execution_count": null,
   "id": "651d5298",
   "metadata": {},
   "outputs": [],
   "source": [
    "marks=int(input(\"Enter the marks: \"))\n",
    "\n",
    "if (marks >= 90):\n",
    "    print('A')\n",
    "elif (marks >= 80 and marks < 90):\n",
    "    print('B')\n",
    "elif (marks >= 70 and mark\n",
    "      s < 80):\n",
    "    print('C')\n",
    "elif (marks >= 60 and marks < 70):\n",
    "    print('D')\n",
    "else:\n",
    "    print('E')"
   ]
  },
  {
   "cell_type": "code",
   "execution_count": null,
   "id": "ca2cbc7f",
   "metadata": {},
   "outputs": [],
   "source": [
    "#Nested if statement: if inside if"
   ]
  },
  {
   "cell_type": "code",
   "execution_count": null,
   "id": "28df4f14",
   "metadata": {},
   "outputs": [],
   "source": [
    "x='Hello'\n",
    "x.lower()"
   ]
  },
  {
   "cell_type": "code",
   "execution_count": null,
   "id": "4fe29112",
   "metadata": {},
   "outputs": [],
   "source": [
    "partner=input('Enter the partner availability: ')\n",
    "partner=partner.lower()\n",
    "\n",
    "if partner=='yes':\n",
    "    weather=input('Enter the weather situation: ')\n",
    "    if (weather=='clear'):\n",
    "        print('Go on Date') \n",
    "    else:\n",
    "        print('Weather is not good. Stay at home and have a video call')\n",
    "else:\n",
    "    print('So Sad !')\n",
    "    "
   ]
  },
  {
   "cell_type": "code",
   "execution_count": 23,
   "id": "93df3aef",
   "metadata": {},
   "outputs": [
    {
     "name": "stdout",
     "output_type": "stream",
     "text": [
      "enter your mark:115\n",
      "enter the valid marks\n"
     ]
    }
   ],
   "source": [
    "marks=float(input('enter your mark:'))\n",
    "\n",
    "if (0<= marks <=100):\n",
    "    if (90<=marks<=100):\n",
    "        print('grade is =S+')  \n",
    "    elif (80<=marks<90):\n",
    "        print('grade is =A+') \n",
    "    elif (70<=marks<80):\n",
    "        print('grade is =A')\n",
    "\n",
    "    elif (60<=marks<70):\n",
    "        print('grade is =B')\n",
    "\n",
    "    elif (50<=marks<60):\n",
    "        print('grade is =C')\n",
    "\n",
    "    elif (40<=marks<50):\n",
    "        print('grade is =D')\n",
    "\n",
    "    else:\n",
    "        print('grade is =F')\n",
    "        \n",
    "else:\n",
    "    print('enter the valid marks')\n"
   ]
  },
  {
   "cell_type": "code",
   "execution_count": null,
   "id": "a18d705f",
   "metadata": {},
   "outputs": [],
   "source": [
    "marks=int(input('enter your marks out of 100: '))\n",
    "if 0<=marks<=100:\n",
    "    if 90<=marks<=100:\n",
    "        print('your grade is S+')\n",
    "    elif 80<=marks<90:\n",
    "        print('your grade is A+')\n",
    "    elif 70<=marks<80:\n",
    "        print('your grade is B+')\n",
    "    else:\n",
    "        print('fail')\n",
    "else:\n",
    "    print('invalid input')\n"
   ]
  },
  {
   "cell_type": "code",
   "execution_count": null,
   "id": "dd664872",
   "metadata": {},
   "outputs": [],
   "source": []
  },
  {
   "cell_type": "code",
   "execution_count": null,
   "id": "4762b9ab",
   "metadata": {},
   "outputs": [],
   "source": []
  },
  {
   "cell_type": "code",
   "execution_count": null,
   "id": "73c2d0c7",
   "metadata": {},
   "outputs": [],
   "source": []
  },
  {
   "cell_type": "code",
   "execution_count": null,
   "id": "d3abe53a",
   "metadata": {},
   "outputs": [],
   "source": []
  },
  {
   "cell_type": "code",
   "execution_count": null,
   "id": "5a390f2e",
   "metadata": {},
   "outputs": [],
   "source": []
  },
  {
   "cell_type": "code",
   "execution_count": null,
   "id": "cb176c71",
   "metadata": {},
   "outputs": [],
   "source": []
  },
  {
   "cell_type": "code",
   "execution_count": null,
   "id": "fa585984",
   "metadata": {},
   "outputs": [],
   "source": []
  },
  {
   "cell_type": "code",
   "execution_count": null,
   "id": "e252cb32",
   "metadata": {},
   "outputs": [],
   "source": [
    "marks=int(input(\"Enter the marks: \")) #105\n",
    "#nested if\n",
    "if (marks >= 0 and marks <= 100):\n",
    "    if (marks >= 90):\n",
    "        print('A')\n",
    "    elif (marks >= 80 and marks < 90):\n",
    "        print('B')\n",
    "    elif (marks >= 70 and marks < 80):\n",
    "        print('C')\n",
    "    elif (marks >= 60 and marks < 70):\n",
    "        print('D')\n",
    "    else:\n",
    "        print('E')\n",
    "\n",
    "else:\n",
    "    if marks<0:\n",
    "        print('Negative marks is not allowed')\n",
    "\n",
    "    else: \n",
    "        print('maximum marks is 100 !!! Please enter correct value')\n",
    "        \n",
    "        \n"
   ]
  },
  {
   "cell_type": "code",
   "execution_count": null,
   "id": "679c906f",
   "metadata": {},
   "outputs": [],
   "source": [
    "marks=float(input(\"Please enter the marks\"))\n",
    "if (90<=marks<=100):\n",
    "    print(\"your grade is A\")\n",
    "elif (80<=marks<90):\n",
    "    print(\"your grade is B\")\n",
    "elif (70<=marks<80):\n",
    "    printf(\"your grade is C\")\n",
    "elif (60<=marks<70):\n",
    "    print(\"your grade is D\")\n",
    "else:\n",
    "    print(\"your grade is E\")\n"
   ]
  },
  {
   "cell_type": "code",
   "execution_count": null,
   "id": "bd374a49",
   "metadata": {},
   "outputs": [],
   "source": [
    "Leap Year"
   ]
  },
  {
   "cell_type": "code",
   "execution_count": null,
   "id": "53932e1f",
   "metadata": {},
   "outputs": [],
   "source": [
    "# Nested if statements: Nested 'if' only executes if the preveious 'if' statement is true."
   ]
  },
  {
   "cell_type": "code",
   "execution_count": null,
   "id": "ffd09076",
   "metadata": {},
   "outputs": [],
   "source": [
    "# 1: input marks greater than 100 ?\n",
    "\n",
    "# 2: Marks less than 0."
   ]
  },
  {
   "cell_type": "code",
   "execution_count": null,
   "id": "8cf2d1ed",
   "metadata": {},
   "outputs": [],
   "source": [
    "'''\n",
    "Positive zero negative\n",
    "\n",
    "'''"
   ]
  },
  {
   "cell_type": "code",
   "execution_count": 31,
   "id": "5ba2ebb5",
   "metadata": {},
   "outputs": [
    {
     "name": "stdout",
     "output_type": "stream",
     "text": [
      "enter num-1\n",
      "negetive\n"
     ]
    }
   ],
   "source": [
    "n = int(input(\"enter num\"))\n",
    "if n<0:\n",
    "    print(\"negetive\")\n",
    "elif n>0 :\n",
    "    print(\"positive\")\n",
    "    \n",
    "else:\n",
    "    print('Zero')"
   ]
  },
  {
   "cell_type": "code",
   "execution_count": null,
   "id": "5489468b",
   "metadata": {},
   "outputs": [],
   "source": []
  },
  {
   "cell_type": "code",
   "execution_count": null,
   "id": "fbeecc0f",
   "metadata": {},
   "outputs": [],
   "source": []
  },
  {
   "cell_type": "code",
   "execution_count": null,
   "id": "4bfdfa04",
   "metadata": {},
   "outputs": [],
   "source": []
  },
  {
   "cell_type": "code",
   "execution_count": null,
   "id": "4b08dac4",
   "metadata": {},
   "outputs": [],
   "source": []
  },
  {
   "cell_type": "code",
   "execution_count": null,
   "id": "8024e4ec",
   "metadata": {},
   "outputs": [],
   "source": []
  },
  {
   "cell_type": "code",
   "execution_count": null,
   "id": "8ad9cb39",
   "metadata": {},
   "outputs": [],
   "source": [
    "num=int(input())\n",
    "\n",
    "if num >= 0: #I am checking the number is negative or not\n",
    "    if num == 0:\n",
    "        print('Zero')\n",
    "    else:\n",
    "        print('Positive')\n",
    "        \n",
    "else:\n",
    "    print('Negative')"
   ]
  },
  {
   "cell_type": "code",
   "execution_count": null,
   "id": "006c745f",
   "metadata": {},
   "outputs": [],
   "source": [
    "#Leap Year"
   ]
  },
  {
   "cell_type": "code",
   "execution_count": 32,
   "id": "4a2ebf00",
   "metadata": {},
   "outputs": [
    {
     "data": {
      "text/plain": [
       "475.0"
      ]
     },
     "execution_count": 32,
     "metadata": {},
     "output_type": "execute_result"
    }
   ],
   "source": [
    "1900/4"
   ]
  },
  {
   "cell_type": "code",
   "execution_count": null,
   "id": "83435048",
   "metadata": {},
   "outputs": [],
   "source": [
    "1600/400"
   ]
  },
  {
   "cell_type": "code",
   "execution_count": null,
   "id": "05519a55",
   "metadata": {},
   "outputs": [],
   "source": [
    "1700/400"
   ]
  },
  {
   "cell_type": "code",
   "execution_count": null,
   "id": "5af72173",
   "metadata": {},
   "outputs": [],
   "source": [
    "1800/400"
   ]
  },
  {
   "cell_type": "code",
   "execution_count": 33,
   "id": "62899841",
   "metadata": {},
   "outputs": [
    {
     "data": {
      "text/plain": [
       "5.04"
      ]
     },
     "execution_count": 33,
     "metadata": {},
     "output_type": "execute_result"
    }
   ],
   "source": [
    "2016/400"
   ]
  },
  {
   "cell_type": "code",
   "execution_count": null,
   "id": "27fde80d",
   "metadata": {},
   "outputs": [],
   "source": [
    "1600, 2000 2400 are leap year"
   ]
  },
  {
   "cell_type": "code",
   "execution_count": null,
   "id": "ae6f01f6",
   "metadata": {},
   "outputs": [],
   "source": [
    "1900 % 4 == 0"
   ]
  },
  {
   "cell_type": "code",
   "execution_count": null,
   "id": "4d2c5945",
   "metadata": {},
   "outputs": [],
   "source": [
    "'''\n",
    "Leap year : \n",
    "\n",
    "year is divisible by 4 ,then it is a leap year. (partially correct)\n",
    "\n",
    "year%4=0\n",
    "\n",
    "if it is a century year ... year%100 only year %400 \n",
    "'''"
   ]
  },
  {
   "cell_type": "code",
   "execution_count": 36,
   "id": "f5fe36f3",
   "metadata": {},
   "outputs": [
    {
     "name": "stdout",
     "output_type": "stream",
     "text": [
      "enter year2000\n",
      "century leap year\n"
     ]
    }
   ],
   "source": [
    "n= int(input(\"enter year\"))\n",
    "if n%4==0 :\n",
    "    if n%100 ==0:\n",
    "        if n%400==0:\n",
    "            print(\"century leap year\")\n",
    "        else: \n",
    "            print(\"No Leap year\")\n",
    "    else: \n",
    "        print(\"leap year\")\n",
    "else: \n",
    "    print(\"no leap year\")"
   ]
  },
  {
   "cell_type": "code",
   "execution_count": 41,
   "id": "0bee74a3",
   "metadata": {},
   "outputs": [
    {
     "name": "stdout",
     "output_type": "stream",
     "text": [
      "enter year1700\n",
      " no leap year\n"
     ]
    }
   ],
   "source": [
    "n= int(input(\"enter year\"))\n",
    "if n%4==0: \n",
    "    if n%100 ==0 and n%400!=0:\n",
    "                print(\" no leap year\")\n",
    "    else: \n",
    "        print(\"Leap year\")\n",
    "    \n",
    "else: \n",
    "    print(\"no leap year\")"
   ]
  },
  {
   "cell_type": "code",
   "execution_count": null,
   "id": "fdedd9e4",
   "metadata": {},
   "outputs": [],
   "source": []
  },
  {
   "cell_type": "code",
   "execution_count": null,
   "id": "f8b1b6bc",
   "metadata": {},
   "outputs": [],
   "source": []
  },
  {
   "cell_type": "code",
   "execution_count": null,
   "id": "cac96dd5",
   "metadata": {},
   "outputs": [],
   "source": []
  },
  {
   "cell_type": "code",
   "execution_count": null,
   "id": "da100305",
   "metadata": {},
   "outputs": [],
   "source": []
  },
  {
   "cell_type": "code",
   "execution_count": null,
   "id": "34d18dd5",
   "metadata": {},
   "outputs": [],
   "source": []
  },
  {
   "cell_type": "code",
   "execution_count": null,
   "id": "a5a460b7",
   "metadata": {},
   "outputs": [],
   "source": []
  },
  {
   "cell_type": "code",
   "execution_count": null,
   "id": "67648f30",
   "metadata": {},
   "outputs": [],
   "source": [
    "year = int(input())\n",
    "\n",
    "if year%400 == 0 :\n",
    "      if year%100 != 100 and year%4 ==0 :\n",
    "        print(\"it is a leap year\")\n",
    "else: \n",
    "    print(\"it is not leap year\")\n",
    "\n"
   ]
  },
  {
   "cell_type": "code",
   "execution_count": null,
   "id": "eb547fe0",
   "metadata": {},
   "outputs": [],
   "source": [
    "2016%100 != 0"
   ]
  },
  {
   "cell_type": "code",
   "execution_count": null,
   "id": "16a7a1a8",
   "metadata": {},
   "outputs": [],
   "source": [
    "year=int(input(\"enter the year\"))\n",
    "if (year%4==0):\n",
    "    if (year%100!=0 or year%400==0):\n",
    "            print(\"Given year is leap year\")\n",
    "else:\n",
    "     print(\"Given year is not leap year\")\n"
   ]
  },
  {
   "cell_type": "code",
   "execution_count": null,
   "id": "8ec02eb9",
   "metadata": {},
   "outputs": [],
   "source": [
    "%\n",
    "\n",
    "/"
   ]
  },
  {
   "cell_type": "code",
   "execution_count": null,
   "id": "702c2dd4",
   "metadata": {},
   "outputs": [],
   "source": [
    "10/2"
   ]
  },
  {
   "cell_type": "code",
   "execution_count": null,
   "id": "a7a241b7",
   "metadata": {},
   "outputs": [],
   "source": [
    "11%2"
   ]
  },
  {
   "cell_type": "code",
   "execution_count": null,
   "id": "c8b4a679",
   "metadata": {},
   "outputs": [],
   "source": []
  },
  {
   "cell_type": "code",
   "execution_count": null,
   "id": "5bf0af19",
   "metadata": {},
   "outputs": [],
   "source": [
    "1500\n",
    "2015\n",
    "2486\n",
    "3240\n",
    "6000"
   ]
  },
  {
   "cell_type": "code",
   "execution_count": null,
   "id": "c7b86264",
   "metadata": {},
   "outputs": [],
   "source": [
    "yr = int(input(\"Enter a yr: \"))\n",
    "if (yr % 4) == 0:\n",
    "    if (yr % 100) == 0:\n",
    "        if (yr % 400) == 0:\n",
    "            print(\"{0} is a leap year\".format(yr))\n",
    "        else:\n",
    "            print(\"{0} is not a leap year\".format(yr))\n",
    "    else:\n",
    "        print(\"{0} is a leap year\".format(yr))\n",
    "else:\n",
    "    print(\"{0} is not a leap year\".format(yr))\n"
   ]
  },
  {
   "cell_type": "code",
   "execution_count": null,
   "id": "bc6d852a",
   "metadata": {},
   "outputs": [],
   "source": [
    "2020"
   ]
  },
  {
   "cell_type": "code",
   "execution_count": null,
   "id": "4c94d72f",
   "metadata": {},
   "outputs": [],
   "source": []
  },
  {
   "cell_type": "code",
   "execution_count": null,
   "id": "fd7da4c1",
   "metadata": {},
   "outputs": [],
   "source": []
  },
  {
   "cell_type": "code",
   "execution_count": null,
   "id": "33a8adea",
   "metadata": {},
   "outputs": [],
   "source": [
    "year=int(input(\"enter the year\"))\n",
    "\n",
    "\n",
    "if(year%4==0) :\n",
    "    if(year%100!=0 or year%400==0) :\n",
    "        print(\"year is leap year\")\n",
    "    else :\n",
    "        print(\"year is not a leap year\")\n",
    "else :      \n",
    "    print(\"year is not leap year\")\n"
   ]
  },
  {
   "cell_type": "code",
   "execution_count": null,
   "id": "3fb6d4c7",
   "metadata": {},
   "outputs": [],
   "source": [
    "year=int(input('Enter the year'))\n",
    "\n",
    "\n",
    "if(year%4==0):\n",
    "    if(year%100!=0 or year%400==0):\n",
    "        print('Given year is a leap year')\n",
    "    else:\n",
    "        print('Given year is not leap year')\n",
    "    \n",
    "    \n",
    "else:\n",
    "    print('Given year is not a leap year')\n"
   ]
  },
  {
   "cell_type": "code",
   "execution_count": null,
   "id": "3e382364",
   "metadata": {},
   "outputs": [],
   "source": []
  },
  {
   "cell_type": "code",
   "execution_count": null,
   "id": "488569d9",
   "metadata": {},
   "outputs": [],
   "source": []
  },
  {
   "cell_type": "code",
   "execution_count": null,
   "id": "32b22509",
   "metadata": {},
   "outputs": [],
   "source": []
  },
  {
   "cell_type": "code",
   "execution_count": null,
   "id": "279f85d2",
   "metadata": {},
   "outputs": [],
   "source": [
    "1900 / 100"
   ]
  },
  {
   "cell_type": "code",
   "execution_count": null,
   "id": "09afd361",
   "metadata": {},
   "outputs": [],
   "source": [
    "19 / 4"
   ]
  },
  {
   "cell_type": "code",
   "execution_count": null,
   "id": "7cfe1d43",
   "metadata": {},
   "outputs": [],
   "source": [
    "1900 % 400"
   ]
  },
  {
   "cell_type": "code",
   "execution_count": null,
   "id": "0c992f88",
   "metadata": {},
   "outputs": [],
   "source": [
    "2100%100"
   ]
  },
  {
   "cell_type": "code",
   "execution_count": null,
   "id": "23127e92",
   "metadata": {},
   "outputs": [],
   "source": [
    "2016"
   ]
  },
  {
   "cell_type": "code",
   "execution_count": null,
   "id": "daeec2e9",
   "metadata": {},
   "outputs": [],
   "source": [
    "0 != 0"
   ]
  },
  {
   "cell_type": "code",
   "execution_count": null,
   "id": "71651196",
   "metadata": {},
   "outputs": [],
   "source": [
    "year=int(input())\n",
    "if (((year % 400 == 0) or (year % 100 != 0)) and (year % 4 == 0)):\n",
    "    print(\"Given year is Leap year\")\n",
    "else:\n",
    "    print(\"Not a Leap year\")\n",
    "\n"
   ]
  },
  {
   "cell_type": "code",
   "execution_count": null,
   "id": "32c1446b",
   "metadata": {},
   "outputs": [],
   "source": [
    "0 != 0"
   ]
  },
  {
   "cell_type": "code",
   "execution_count": null,
   "id": "d30f2117",
   "metadata": {},
   "outputs": [],
   "source": [
    "year = int(input(\"Enter a year: \"))\n",
    "if (year % 4) == 0:\n",
    "    if (year % 100) == 0:\n",
    "        if (year % 400) == 0:\n",
    "            print(\"{0} is a leap year\".format(year))\n",
    "        else:\n",
    "            print(\"{0} is not a leap year\".format(year))\n",
    "    else:\n",
    "        print(\"{0} is a leap year\".format(year))\n",
    "else:\n",
    "    print(\"{0} is not a leap year\".format(year))"
   ]
  },
  {
   "cell_type": "code",
   "execution_count": null,
   "id": "dc01938b",
   "metadata": {},
   "outputs": [],
   "source": [
    "yr=int(input(\"Enter the year:\")) \n",
    "if (yr % 4 == 0):\n",
    "    if (yr % 100 == 0):      \n",
    "        if (yr % 400 == 0) :\n",
    "            print(\"It is a leap year\")\n",
    "        else :\n",
    "            print(\"It is not a leap year\")\n",
    "    else :\n",
    "        print(\"It is a leap year\")\n",
    "else:\n",
    "    print(\"It is not a leap year\")"
   ]
  },
  {
   "cell_type": "code",
   "execution_count": null,
   "id": "704b744d",
   "metadata": {},
   "outputs": [],
   "source": [
    "2004\n",
    "            400\n",
    "1800,1900,2000,2100,2200 (4)\n",
    "\n",
    "2000"
   ]
  },
  {
   "cell_type": "code",
   "execution_count": null,
   "id": "abf0aabe",
   "metadata": {},
   "outputs": [],
   "source": [
    "2100 %4"
   ]
  },
  {
   "cell_type": "code",
   "execution_count": null,
   "id": "3cf2a814",
   "metadata": {},
   "outputs": [],
   "source": [
    "2100 %100"
   ]
  },
  {
   "cell_type": "code",
   "execution_count": null,
   "id": "ceed38e8",
   "metadata": {},
   "outputs": [],
   "source": [
    "2100 % 400"
   ]
  },
  {
   "cell_type": "code",
   "execution_count": null,
   "id": "3c6dc936",
   "metadata": {},
   "outputs": [],
   "source": [
    "print('Input year')\n",
    "year = int(input())\n",
    "div4 = year%4\n",
    "div100 = year%100\n",
    "div400 = year%400\n",
    "if (div4==0 and div100!=0) or (div4==0 and div400==0):\n",
    "    print('Leap Year')\n",
    "else:\n",
    "    print('Not Leap Year')"
   ]
  },
  {
   "cell_type": "code",
   "execution_count": null,
   "id": "c3875004",
   "metadata": {},
   "outputs": [],
   "source": []
  }
 ],
 "metadata": {
  "kernelspec": {
   "display_name": "Python 3 (ipykernel)",
   "language": "python",
   "name": "python3"
  },
  "language_info": {
   "codemirror_mode": {
    "name": "ipython",
    "version": 3
   },
   "file_extension": ".py",
   "mimetype": "text/x-python",
   "name": "python",
   "nbconvert_exporter": "python",
   "pygments_lexer": "ipython3",
   "version": "3.11.7"
  }
 },
 "nbformat": 4,
 "nbformat_minor": 5
}
