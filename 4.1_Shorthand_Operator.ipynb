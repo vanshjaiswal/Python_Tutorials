{
 "cells": [
  {
   "cell_type": "markdown",
   "id": "5789beee",
   "metadata": {},
   "source": [
    "# Shorthand Operator"
   ]
  },
  {
   "cell_type": "code",
   "execution_count": 1,
   "id": "d36f44a3",
   "metadata": {},
   "outputs": [],
   "source": [
    "SV_Store = 0"
   ]
  },
  {
   "cell_type": "code",
   "execution_count": 2,
   "id": "5db8b761",
   "metadata": {},
   "outputs": [
    {
     "data": {
      "text/plain": [
       "0"
      ]
     },
     "execution_count": 2,
     "metadata": {},
     "output_type": "execute_result"
    }
   ],
   "source": [
    "SV_Store"
   ]
  },
  {
   "cell_type": "code",
   "execution_count": 3,
   "id": "dd27dcae",
   "metadata": {},
   "outputs": [],
   "source": [
    "SV_Store = SV_Store + 1\n"
   ]
  },
  {
   "cell_type": "code",
   "execution_count": 4,
   "id": "3f3c6e17",
   "metadata": {},
   "outputs": [
    {
     "data": {
      "text/plain": [
       "1"
      ]
     },
     "execution_count": 4,
     "metadata": {},
     "output_type": "execute_result"
    }
   ],
   "source": [
    "SV_Store"
   ]
  },
  {
   "cell_type": "code",
   "execution_count": 5,
   "id": "ebe5cf54",
   "metadata": {},
   "outputs": [],
   "source": [
    "SV_Store = SV_Store + 1\n",
    "\n",
    "#SV_Store= 1 + 1\n",
    "# SV_Store= 2"
   ]
  },
  {
   "cell_type": "code",
   "execution_count": 6,
   "id": "b3583c01",
   "metadata": {},
   "outputs": [
    {
     "data": {
      "text/plain": [
       "2"
      ]
     },
     "execution_count": 6,
     "metadata": {},
     "output_type": "execute_result"
    }
   ],
   "source": [
    "SV_Store"
   ]
  },
  {
   "cell_type": "code",
   "execution_count": 7,
   "id": "9159b7f4",
   "metadata": {},
   "outputs": [],
   "source": [
    "SV_Store = SV_Store + 1\n",
    "\n",
    "#SV_Store= 2 + 1\n",
    "# SV_Store= 3"
   ]
  },
  {
   "cell_type": "code",
   "execution_count": 8,
   "id": "fcb11258",
   "metadata": {},
   "outputs": [
    {
     "data": {
      "text/plain": [
       "3"
      ]
     },
     "execution_count": 8,
     "metadata": {},
     "output_type": "execute_result"
    }
   ],
   "source": [
    "SV_Store"
   ]
  },
  {
   "cell_type": "code",
   "execution_count": 11,
   "id": "c9866b75",
   "metadata": {},
   "outputs": [],
   "source": [
    "SV_Store += 1 #SV_Store = SV_Store + 1"
   ]
  },
  {
   "cell_type": "code",
   "execution_count": 12,
   "id": "8a0cb837",
   "metadata": {},
   "outputs": [
    {
     "data": {
      "text/plain": [
       "5"
      ]
     },
     "execution_count": 12,
     "metadata": {},
     "output_type": "execute_result"
    }
   ],
   "source": [
    "SV_Store"
   ]
  },
  {
   "cell_type": "code",
   "execution_count": 13,
   "id": "0a740b81",
   "metadata": {},
   "outputs": [],
   "source": [
    "a=-3\n"
   ]
  },
  {
   "cell_type": "code",
   "execution_count": 14,
   "id": "7c692930",
   "metadata": {},
   "outputs": [
    {
     "data": {
      "text/plain": [
       "-3"
      ]
     },
     "execution_count": 14,
     "metadata": {},
     "output_type": "execute_result"
    }
   ],
   "source": [
    "a"
   ]
  },
  {
   "cell_type": "code",
   "execution_count": 15,
   "id": "52c8c55c",
   "metadata": {},
   "outputs": [],
   "source": [
    "SV_Store =+ 1 #  Incorrect use of shorthand operator "
   ]
  },
  {
   "cell_type": "code",
   "execution_count": 16,
   "id": "862e8919",
   "metadata": {},
   "outputs": [
    {
     "data": {
      "text/plain": [
       "1"
      ]
     },
     "execution_count": 16,
     "metadata": {},
     "output_type": "execute_result"
    }
   ],
   "source": [
    "SV_Store"
   ]
  },
  {
   "cell_type": "code",
   "execution_count": 17,
   "id": "7c1f6687",
   "metadata": {},
   "outputs": [],
   "source": [
    "count=30\n",
    "\n",
    "#count=30-1\n",
    "#count=29"
   ]
  },
  {
   "cell_type": "code",
   "execution_count": 18,
   "id": "f5f864d7",
   "metadata": {},
   "outputs": [
    {
     "data": {
      "text/plain": [
       "29"
      ]
     },
     "execution_count": 18,
     "metadata": {},
     "output_type": "execute_result"
    }
   ],
   "source": [
    "count=count-1\n",
    "\n",
    "# count -= 1\n",
    "# count -= 1\n",
    "# count=count-1\n",
    "# count=count-1\n",
    "\n",
    "count"
   ]
  },
  {
   "cell_type": "code",
   "execution_count": 19,
   "id": "3a601917",
   "metadata": {},
   "outputs": [
    {
     "data": {
      "text/plain": [
       "28"
      ]
     },
     "execution_count": 19,
     "metadata": {},
     "output_type": "execute_result"
    }
   ],
   "source": [
    "count -= 1\n",
    "count"
   ]
  },
  {
   "cell_type": "code",
   "execution_count": 21,
   "id": "440860f9",
   "metadata": {},
   "outputs": [
    {
     "data": {
      "text/plain": [
       "4"
      ]
     },
     "execution_count": 21,
     "metadata": {},
     "output_type": "execute_result"
    }
   ],
   "source": [
    "count=2\n",
    "\n",
    "count *= 2\n",
    "# count *= 2\n",
    "count"
   ]
  },
  {
   "cell_type": "code",
   "execution_count": null,
   "id": "a2724b92",
   "metadata": {},
   "outputs": [],
   "source": [
    "count=count*2\n",
    "count=count*2"
   ]
  },
  {
   "cell_type": "code",
   "execution_count": null,
   "id": "c87eb78d",
   "metadata": {},
   "outputs": [],
   "source": [
    "count\n",
    "\n",
    "\n",
    "# count =* 2"
   ]
  },
  {
   "cell_type": "code",
   "execution_count": null,
   "id": "e1e3ca06",
   "metadata": {},
   "outputs": [],
   "source": [
    "count += 1\n",
    "count -= 1\n",
    "count *= 2\n",
    "count /= 2"
   ]
  },
  {
   "cell_type": "code",
   "execution_count": null,
   "id": "007438a5",
   "metadata": {},
   "outputs": [],
   "source": [
    "total=567+1525+1341"
   ]
  },
  {
   "cell_type": "code",
   "execution_count": null,
   "id": "1f7a388e",
   "metadata": {},
   "outputs": [],
   "source": [
    "total=567"
   ]
  },
  {
   "cell_type": "code",
   "execution_count": null,
   "id": "91b21bee",
   "metadata": {},
   "outputs": [],
   "source": [
    "total"
   ]
  },
  {
   "cell_type": "code",
   "execution_count": null,
   "id": "67b2c846",
   "metadata": {},
   "outputs": [],
   "source": [
    "total=total+1525\n",
    "\n",
    "#total=567+1525\n",
    "#total=2092"
   ]
  },
  {
   "cell_type": "code",
   "execution_count": null,
   "id": "88499726",
   "metadata": {},
   "outputs": [],
   "source": [
    "total"
   ]
  },
  {
   "cell_type": "code",
   "execution_count": null,
   "id": "b5491230",
   "metadata": {},
   "outputs": [],
   "source": [
    "total=total+1341"
   ]
  },
  {
   "cell_type": "code",
   "execution_count": null,
   "id": "c0d20dfd",
   "metadata": {},
   "outputs": [],
   "source": [
    "total"
   ]
  },
  {
   "cell_type": "code",
   "execution_count": null,
   "id": "125a4649",
   "metadata": {},
   "outputs": [],
   "source": [
    "no_of_bills=1"
   ]
  },
  {
   "cell_type": "code",
   "execution_count": null,
   "id": "82ed9fcb",
   "metadata": {},
   "outputs": [],
   "source": [
    "no_of_bills"
   ]
  },
  {
   "cell_type": "code",
   "execution_count": null,
   "id": "f95bcc46",
   "metadata": {},
   "outputs": [],
   "source": [
    "no_of_bills=no_of_bills+1\n",
    "\n",
    "#no_of_bills=1+1"
   ]
  },
  {
   "cell_type": "code",
   "execution_count": null,
   "id": "f569f0fb",
   "metadata": {},
   "outputs": [],
   "source": [
    "no_of_bills"
   ]
  },
  {
   "cell_type": "code",
   "execution_count": null,
   "id": "283c802c",
   "metadata": {},
   "outputs": [],
   "source": [
    "count=30"
   ]
  },
  {
   "cell_type": "code",
   "execution_count": null,
   "id": "e46d0a82",
   "metadata": {},
   "outputs": [],
   "source": [
    "count=count-1"
   ]
  },
  {
   "cell_type": "code",
   "execution_count": null,
   "id": "50b02172",
   "metadata": {},
   "outputs": [],
   "source": [
    "count += 1"
   ]
  },
  {
   "cell_type": "code",
   "execution_count": null,
   "id": "0778707f",
   "metadata": {},
   "outputs": [],
   "source": [
    "count"
   ]
  },
  {
   "cell_type": "code",
   "execution_count": null,
   "id": "1b37fa54",
   "metadata": {},
   "outputs": [],
   "source": [
    "count += 1"
   ]
  },
  {
   "cell_type": "code",
   "execution_count": null,
   "id": "b0f34017",
   "metadata": {},
   "outputs": [],
   "source": [
    "count"
   ]
  },
  {
   "cell_type": "code",
   "execution_count": null,
   "id": "e211d029",
   "metadata": {},
   "outputs": [],
   "source": [
    "money=50"
   ]
  },
  {
   "cell_type": "code",
   "execution_count": null,
   "id": "d8337338",
   "metadata": {},
   "outputs": [],
   "source": [
    "money -= 1\n",
    "\n",
    "# money=money-1"
   ]
  },
  {
   "cell_type": "code",
   "execution_count": null,
   "id": "2d087551",
   "metadata": {},
   "outputs": [],
   "source": [
    "money"
   ]
  },
  {
   "cell_type": "code",
   "execution_count": null,
   "id": "ec84ec91",
   "metadata": {},
   "outputs": [],
   "source": []
  }
 ],
 "metadata": {
  "kernelspec": {
   "display_name": "Python 3 (ipykernel)",
   "language": "python",
   "name": "python3"
  },
  "language_info": {
   "codemirror_mode": {
    "name": "ipython",
    "version": 3
   },
   "file_extension": ".py",
   "mimetype": "text/x-python",
   "name": "python",
   "nbconvert_exporter": "python",
   "pygments_lexer": "ipython3",
   "version": "3.10.9"
  }
 },
 "nbformat": 4,
 "nbformat_minor": 5
}
