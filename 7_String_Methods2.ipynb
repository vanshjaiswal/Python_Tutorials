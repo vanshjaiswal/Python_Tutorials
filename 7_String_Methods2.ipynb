{
 "cells": [
  {
   "cell_type": "code",
   "execution_count": 4,
   "id": "75657e9c",
   "metadata": {},
   "outputs": [],
   "source": [
    "# str_var.isalpha()"
   ]
  },
  {
   "cell_type": "code",
   "execution_count": 5,
   "id": "2e6e94b1",
   "metadata": {},
   "outputs": [],
   "source": [
    "x='abc'"
   ]
  },
  {
   "cell_type": "code",
   "execution_count": 6,
   "id": "f3ef7773",
   "metadata": {},
   "outputs": [
    {
     "data": {
      "text/plain": [
       "True"
      ]
     },
     "execution_count": 6,
     "metadata": {},
     "output_type": "execute_result"
    }
   ],
   "source": [
    "x.isalpha()"
   ]
  },
  {
   "cell_type": "code",
   "execution_count": 7,
   "id": "53f81840",
   "metadata": {},
   "outputs": [],
   "source": [
    "y='abc12'"
   ]
  },
  {
   "cell_type": "code",
   "execution_count": 8,
   "id": "ee173707",
   "metadata": {},
   "outputs": [
    {
     "data": {
      "text/plain": [
       "False"
      ]
     },
     "execution_count": 8,
     "metadata": {},
     "output_type": "execute_result"
    }
   ],
   "source": [
    "y.isalpha()"
   ]
  },
  {
   "cell_type": "code",
   "execution_count": 9,
   "id": "0a37dac5",
   "metadata": {},
   "outputs": [
    {
     "name": "stdout",
     "output_type": "stream",
     "text": [
      "vansh1234\n"
     ]
    }
   ],
   "source": [
    "name=str(input())"
   ]
  },
  {
   "cell_type": "code",
   "execution_count": 10,
   "id": "15042653",
   "metadata": {},
   "outputs": [
    {
     "data": {
      "text/plain": [
       "False"
      ]
     },
     "execution_count": 10,
     "metadata": {},
     "output_type": "execute_result"
    }
   ],
   "source": [
    "name.isalpha()"
   ]
  },
  {
   "cell_type": "code",
   "execution_count": 11,
   "id": "2da5d7e1",
   "metadata": {},
   "outputs": [],
   "source": [
    "# str_var.isalnum()"
   ]
  },
  {
   "cell_type": "code",
   "execution_count": 3,
   "id": "9700f364",
   "metadata": {},
   "outputs": [],
   "source": [
    "z='abc123'"
   ]
  },
  {
   "cell_type": "code",
   "execution_count": 4,
   "id": "525f8061",
   "metadata": {},
   "outputs": [
    {
     "data": {
      "text/plain": [
       "True"
      ]
     },
     "execution_count": 4,
     "metadata": {},
     "output_type": "execute_result"
    }
   ],
   "source": [
    "z.isalnum()"
   ]
  },
  {
   "cell_type": "code",
   "execution_count": 14,
   "id": "f769dad1",
   "metadata": {},
   "outputs": [],
   "source": [
    "z1='abcd#$%^'"
   ]
  },
  {
   "cell_type": "code",
   "execution_count": 15,
   "id": "d2b20be3",
   "metadata": {},
   "outputs": [
    {
     "data": {
      "text/plain": [
       "False"
      ]
     },
     "execution_count": 15,
     "metadata": {},
     "output_type": "execute_result"
    }
   ],
   "source": [
    "z1.isalnum()"
   ]
  },
  {
   "cell_type": "code",
   "execution_count": 16,
   "id": "aada6294",
   "metadata": {},
   "outputs": [
    {
     "data": {
      "text/plain": [
       "'abc'"
      ]
     },
     "execution_count": 16,
     "metadata": {},
     "output_type": "execute_result"
    }
   ],
   "source": [
    "x"
   ]
  },
  {
   "cell_type": "code",
   "execution_count": 18,
   "id": "a8a5c69b",
   "metadata": {},
   "outputs": [
    {
     "data": {
      "text/plain": [
       "True"
      ]
     },
     "execution_count": 18,
     "metadata": {},
     "output_type": "execute_result"
    }
   ],
   "source": [
    "x.isalnum()"
   ]
  },
  {
   "cell_type": "code",
   "execution_count": null,
   "id": "c8d8e5bd",
   "metadata": {},
   "outputs": [],
   "source": []
  },
  {
   "cell_type": "code",
   "execution_count": null,
   "id": "5e7e2636",
   "metadata": {},
   "outputs": [],
   "source": []
  },
  {
   "cell_type": "code",
   "execution_count": null,
   "id": "85a20bba",
   "metadata": {},
   "outputs": [],
   "source": []
  },
  {
   "cell_type": "code",
   "execution_count": null,
   "id": "c28323aa",
   "metadata": {},
   "outputs": [],
   "source": []
  },
  {
   "cell_type": "code",
   "execution_count": null,
   "id": "a4163087",
   "metadata": {},
   "outputs": [],
   "source": []
  },
  {
   "cell_type": "code",
   "execution_count": null,
   "id": "977e1799",
   "metadata": {},
   "outputs": [],
   "source": []
  },
  {
   "cell_type": "code",
   "execution_count": null,
   "id": "7d6bce21",
   "metadata": {},
   "outputs": [],
   "source": []
  },
  {
   "cell_type": "code",
   "execution_count": null,
   "id": "6f706052",
   "metadata": {},
   "outputs": [],
   "source": []
  },
  {
   "cell_type": "code",
   "execution_count": null,
   "id": "6371cffc",
   "metadata": {},
   "outputs": [],
   "source": []
  },
  {
   "cell_type": "code",
   "execution_count": null,
   "id": "0604295b",
   "metadata": {},
   "outputs": [],
   "source": []
  },
  {
   "cell_type": "code",
   "execution_count": null,
   "id": "ea5786ea",
   "metadata": {},
   "outputs": [],
   "source": []
  },
  {
   "cell_type": "code",
   "execution_count": null,
   "id": "9ef03608",
   "metadata": {},
   "outputs": [],
   "source": []
  },
  {
   "cell_type": "code",
   "execution_count": null,
   "id": "3005c457",
   "metadata": {},
   "outputs": [],
   "source": []
  },
  {
   "cell_type": "code",
   "execution_count": null,
   "id": "73eda537",
   "metadata": {},
   "outputs": [],
   "source": []
  },
  {
   "cell_type": "code",
   "execution_count": null,
   "id": "5a4aac8a",
   "metadata": {},
   "outputs": [],
   "source": []
  },
  {
   "cell_type": "code",
   "execution_count": null,
   "id": "28f32bab",
   "metadata": {},
   "outputs": [],
   "source": []
  },
  {
   "cell_type": "code",
   "execution_count": null,
   "id": "25b61add",
   "metadata": {},
   "outputs": [],
   "source": []
  },
  {
   "cell_type": "code",
   "execution_count": null,
   "id": "966687f4",
   "metadata": {},
   "outputs": [],
   "source": []
  },
  {
   "cell_type": "code",
   "execution_count": null,
   "id": "6fda1057",
   "metadata": {},
   "outputs": [],
   "source": []
  },
  {
   "cell_type": "code",
   "execution_count": null,
   "id": "0f835419",
   "metadata": {},
   "outputs": [],
   "source": []
  },
  {
   "cell_type": "code",
   "execution_count": null,
   "id": "a4ae022d",
   "metadata": {},
   "outputs": [],
   "source": []
  },
  {
   "cell_type": "code",
   "execution_count": null,
   "id": "91b0d561",
   "metadata": {},
   "outputs": [],
   "source": []
  },
  {
   "cell_type": "code",
   "execution_count": null,
   "id": "8c6aab36",
   "metadata": {},
   "outputs": [],
   "source": []
  },
  {
   "cell_type": "code",
   "execution_count": null,
   "id": "326cf683",
   "metadata": {},
   "outputs": [],
   "source": []
  },
  {
   "cell_type": "code",
   "execution_count": null,
   "id": "85e93a5d",
   "metadata": {},
   "outputs": [],
   "source": []
  },
  {
   "cell_type": "code",
   "execution_count": null,
   "id": "787af5e0",
   "metadata": {},
   "outputs": [],
   "source": []
  },
  {
   "cell_type": "code",
   "execution_count": null,
   "id": "7d793cbf",
   "metadata": {},
   "outputs": [],
   "source": []
  },
  {
   "cell_type": "code",
   "execution_count": null,
   "id": "196d303f",
   "metadata": {},
   "outputs": [],
   "source": []
  },
  {
   "cell_type": "code",
   "execution_count": null,
   "id": "d7d362c4",
   "metadata": {},
   "outputs": [],
   "source": []
  },
  {
   "cell_type": "code",
   "execution_count": null,
   "id": "1bf5d13a",
   "metadata": {},
   "outputs": [],
   "source": []
  },
  {
   "cell_type": "code",
   "execution_count": null,
   "id": "7f1d2b0c",
   "metadata": {},
   "outputs": [],
   "source": []
  },
  {
   "cell_type": "code",
   "execution_count": null,
   "id": "e1cab0f6",
   "metadata": {},
   "outputs": [],
   "source": []
  },
  {
   "cell_type": "code",
   "execution_count": null,
   "id": "832d90a3",
   "metadata": {},
   "outputs": [],
   "source": []
  },
  {
   "cell_type": "code",
   "execution_count": null,
   "id": "075040d4",
   "metadata": {},
   "outputs": [],
   "source": []
  },
  {
   "cell_type": "code",
   "execution_count": null,
   "id": "b6fdf417",
   "metadata": {},
   "outputs": [],
   "source": []
  },
  {
   "cell_type": "code",
   "execution_count": null,
   "id": "dccce430",
   "metadata": {},
   "outputs": [],
   "source": []
  },
  {
   "cell_type": "markdown",
   "id": "9e0d0c57",
   "metadata": {},
   "source": [
    "# Strip"
   ]
  },
  {
   "cell_type": "code",
   "execution_count": 19,
   "id": "5faa35ea",
   "metadata": {},
   "outputs": [],
   "source": [
    "# str_var.strip()"
   ]
  },
  {
   "cell_type": "code",
   "execution_count": 30,
   "id": "6705dfa0",
   "metadata": {},
   "outputs": [],
   "source": [
    "x='--------Python---------'"
   ]
  },
  {
   "cell_type": "code",
   "execution_count": 31,
   "id": "74af2f32",
   "metadata": {},
   "outputs": [
    {
     "data": {
      "text/plain": [
       "'--------Python---------'"
      ]
     },
     "execution_count": 31,
     "metadata": {},
     "output_type": "execute_result"
    }
   ],
   "source": [
    "x"
   ]
  },
  {
   "cell_type": "code",
   "execution_count": 33,
   "id": "e3113798",
   "metadata": {},
   "outputs": [
    {
     "name": "stdout",
     "output_type": "stream",
     "text": [
      "Python\n"
     ]
    }
   ],
   "source": [
    "print(x.strip('-'))"
   ]
  },
  {
   "cell_type": "code",
   "execution_count": 34,
   "id": "e1152291",
   "metadata": {},
   "outputs": [],
   "source": [
    "# str_var.lstrip()"
   ]
  },
  {
   "cell_type": "code",
   "execution_count": 35,
   "id": "bda976f1",
   "metadata": {},
   "outputs": [
    {
     "name": "stdout",
     "output_type": "stream",
     "text": [
      "Python---------\n"
     ]
    }
   ],
   "source": [
    "print(x.lstrip('-'))"
   ]
  },
  {
   "cell_type": "code",
   "execution_count": 36,
   "id": "4ee17b35",
   "metadata": {},
   "outputs": [],
   "source": [
    "# str_var.rstrip()"
   ]
  },
  {
   "cell_type": "code",
   "execution_count": 37,
   "id": "d890e5de",
   "metadata": {},
   "outputs": [
    {
     "name": "stdout",
     "output_type": "stream",
     "text": [
      "--------Python\n"
     ]
    }
   ],
   "source": [
    "print(x.rstrip('-'))"
   ]
  },
  {
   "cell_type": "code",
   "execution_count": 57,
   "id": "52716724",
   "metadata": {},
   "outputs": [
    {
     "name": "stdout",
     "output_type": "stream",
     "text": [
      "Mr. Rama Ji\n"
     ]
    }
   ],
   "source": [
    "name=str(input())"
   ]
  },
  {
   "cell_type": "code",
   "execution_count": 58,
   "id": "3f3188f1",
   "metadata": {},
   "outputs": [],
   "source": [
    "#Hari"
   ]
  },
  {
   "cell_type": "code",
   "execution_count": 59,
   "id": "76c18fbe",
   "metadata": {
    "scrolled": true
   },
   "outputs": [
    {
     "data": {
      "text/plain": [
       "'Rama Ji'"
      ]
     },
     "execution_count": 59,
     "metadata": {},
     "output_type": "execute_result"
    }
   ],
   "source": [
    "temp=name.lstrip('Mr. ')\n",
    "temp"
   ]
  },
  {
   "cell_type": "code",
   "execution_count": 60,
   "id": "117c84a0",
   "metadata": {},
   "outputs": [
    {
     "data": {
      "text/plain": [
       "'Rama'"
      ]
     },
     "execution_count": 60,
     "metadata": {},
     "output_type": "execute_result"
    }
   ],
   "source": [
    "out=temp.rstrip(' Ji')\n",
    "out"
   ]
  },
  {
   "cell_type": "code",
   "execution_count": 62,
   "id": "85097a3c",
   "metadata": {},
   "outputs": [
    {
     "name": "stdout",
     "output_type": "stream",
     "text": [
      "Rama\n"
     ]
    }
   ],
   "source": [
    "print(name.lstrip('Mr. ').rstrip(' Ji'))"
   ]
  },
  {
   "cell_type": "code",
   "execution_count": 63,
   "id": "cc7fe2be",
   "metadata": {},
   "outputs": [],
   "source": [
    "# str_var.startswith()"
   ]
  },
  {
   "cell_type": "code",
   "execution_count": 64,
   "id": "213ec599",
   "metadata": {},
   "outputs": [],
   "source": [
    "x='Python'"
   ]
  },
  {
   "cell_type": "code",
   "execution_count": 65,
   "id": "0e343d88",
   "metadata": {},
   "outputs": [
    {
     "name": "stdout",
     "output_type": "stream",
     "text": [
      "True\n"
     ]
    }
   ],
   "source": [
    "print(x.startswith('P'))"
   ]
  },
  {
   "cell_type": "code",
   "execution_count": 66,
   "id": "8e0f3a1f",
   "metadata": {},
   "outputs": [
    {
     "name": "stdout",
     "output_type": "stream",
     "text": [
      "False\n"
     ]
    }
   ],
   "source": [
    "print(x.startswith('p'))"
   ]
  },
  {
   "cell_type": "code",
   "execution_count": 67,
   "id": "a92faed8",
   "metadata": {},
   "outputs": [],
   "source": [
    "# str_var.endswith()"
   ]
  },
  {
   "cell_type": "code",
   "execution_count": 68,
   "id": "1ed5a610",
   "metadata": {},
   "outputs": [
    {
     "name": "stdout",
     "output_type": "stream",
     "text": [
      "True\n"
     ]
    }
   ],
   "source": [
    "print(x.endswith('n'))"
   ]
  },
  {
   "cell_type": "code",
   "execution_count": 69,
   "id": "a0d9406a",
   "metadata": {},
   "outputs": [
    {
     "name": "stdout",
     "output_type": "stream",
     "text": [
      "False\n"
     ]
    }
   ],
   "source": [
    "print(x.endswith('h'))"
   ]
  },
  {
   "cell_type": "code",
   "execution_count": null,
   "id": "c349c343",
   "metadata": {},
   "outputs": [],
   "source": [
    "# str_var.count()"
   ]
  },
  {
   "cell_type": "code",
   "execution_count": 1,
   "id": "c78c3537",
   "metadata": {},
   "outputs": [],
   "source": [
    "y='Good morning teacher'"
   ]
  },
  {
   "cell_type": "code",
   "execution_count": 4,
   "id": "03b2dac7",
   "metadata": {},
   "outputs": [
    {
     "data": {
      "text/plain": [
       "5"
      ]
     },
     "execution_count": 4,
     "metadata": {},
     "output_type": "execute_result"
    }
   ],
   "source": [
    "y.find('m')"
   ]
  },
  {
   "cell_type": "code",
   "execution_count": 2,
   "id": "9f1d0675",
   "metadata": {},
   "outputs": [],
   "source": [
    "x=y.split()"
   ]
  },
  {
   "cell_type": "code",
   "execution_count": 3,
   "id": "a425ad06",
   "metadata": {},
   "outputs": [
    {
     "data": {
      "text/plain": [
       "['Good', 'morning', 'teacher']"
      ]
     },
     "execution_count": 3,
     "metadata": {},
     "output_type": "execute_result"
    }
   ],
   "source": [
    "x"
   ]
  },
  {
   "cell_type": "code",
   "execution_count": 6,
   "id": "833ae609",
   "metadata": {},
   "outputs": [
    {
     "data": {
      "text/plain": [
       "3"
      ]
     },
     "execution_count": 6,
     "metadata": {},
     "output_type": "execute_result"
    }
   ],
   "source": [
    "y.count('o')"
   ]
  },
  {
   "cell_type": "code",
   "execution_count": 7,
   "id": "b9f411cb",
   "metadata": {},
   "outputs": [
    {
     "data": {
      "text/plain": [
       "2"
      ]
     },
     "execution_count": 7,
     "metadata": {},
     "output_type": "execute_result"
    }
   ],
   "source": [
    "y.count('n')"
   ]
  },
  {
   "cell_type": "code",
   "execution_count": 8,
   "id": "5bbbbb1b",
   "metadata": {},
   "outputs": [
    {
     "data": {
      "text/plain": [
       "1"
      ]
     },
     "execution_count": 8,
     "metadata": {},
     "output_type": "execute_result"
    }
   ],
   "source": [
    "y.count('G')"
   ]
  },
  {
   "cell_type": "code",
   "execution_count": 9,
   "id": "361dd82e",
   "metadata": {},
   "outputs": [
    {
     "data": {
      "text/plain": [
       "1"
      ]
     },
     "execution_count": 9,
     "metadata": {},
     "output_type": "execute_result"
    }
   ],
   "source": [
    "y.count('g')"
   ]
  },
  {
   "cell_type": "code",
   "execution_count": 10,
   "id": "e93aea8d",
   "metadata": {},
   "outputs": [
    {
     "data": {
      "text/plain": [
       "2"
      ]
     },
     "execution_count": 10,
     "metadata": {},
     "output_type": "execute_result"
    }
   ],
   "source": [
    "y.count(' ')"
   ]
  },
  {
   "cell_type": "code",
   "execution_count": 11,
   "id": "2a265b34",
   "metadata": {},
   "outputs": [],
   "source": [
    "# str_var.index()"
   ]
  },
  {
   "cell_type": "code",
   "execution_count": 80,
   "id": "d020b771",
   "metadata": {},
   "outputs": [
    {
     "data": {
      "text/plain": [
       "'Good morning teacher'"
      ]
     },
     "execution_count": 80,
     "metadata": {},
     "output_type": "execute_result"
    }
   ],
   "source": [
    "y"
   ]
  },
  {
   "cell_type": "code",
   "execution_count": 81,
   "id": "1020ef56",
   "metadata": {},
   "outputs": [
    {
     "name": "stdout",
     "output_type": "stream",
     "text": [
      "9\n"
     ]
    }
   ],
   "source": [
    "print(y.index('i'))"
   ]
  },
  {
   "cell_type": "code",
   "execution_count": 83,
   "id": "b77e4ee0",
   "metadata": {},
   "outputs": [
    {
     "name": "stdout",
     "output_type": "stream",
     "text": [
      "14\n"
     ]
    }
   ],
   "source": [
    "print(y.index('e'))"
   ]
  },
  {
   "cell_type": "code",
   "execution_count": 85,
   "id": "ba9df48a",
   "metadata": {},
   "outputs": [],
   "source": [
    "# str_var.replace('old_character', 'new_character')"
   ]
  },
  {
   "cell_type": "code",
   "execution_count": 86,
   "id": "b9553300",
   "metadata": {},
   "outputs": [
    {
     "data": {
      "text/plain": [
       "'Good morning teacher'"
      ]
     },
     "execution_count": 86,
     "metadata": {},
     "output_type": "execute_result"
    }
   ],
   "source": [
    "y"
   ]
  },
  {
   "cell_type": "code",
   "execution_count": 88,
   "id": "e9b65c83",
   "metadata": {},
   "outputs": [
    {
     "data": {
      "text/plain": [
       "'Food morning teacher'"
      ]
     },
     "execution_count": 88,
     "metadata": {},
     "output_type": "execute_result"
    }
   ],
   "source": [
    "y.replace('G', 'F')"
   ]
  },
  {
   "cell_type": "code",
   "execution_count": 108,
   "id": "717bfe37",
   "metadata": {},
   "outputs": [],
   "source": [
    "x=\"How are you?\"\n",
    "\n",
    "# 1: replace all the vowels with '#'\n",
    "\n",
    "# 2: change the case of all consonants to capital letters "
   ]
  },
  {
   "cell_type": "code",
   "execution_count": 109,
   "id": "6e1bd90f",
   "metadata": {},
   "outputs": [
    {
     "data": {
      "text/plain": [
       "'How #re you?'"
      ]
     },
     "execution_count": 109,
     "metadata": {},
     "output_type": "execute_result"
    }
   ],
   "source": [
    "# a, e, i , o , u\n",
    "\n",
    "x=x.replace('a', '#')\n",
    "x"
   ]
  },
  {
   "cell_type": "code",
   "execution_count": 110,
   "id": "0a92f69b",
   "metadata": {},
   "outputs": [
    {
     "data": {
      "text/plain": [
       "'How #r# you?'"
      ]
     },
     "execution_count": 110,
     "metadata": {},
     "output_type": "execute_result"
    }
   ],
   "source": [
    "x=x.replace('e', '#')\n",
    "x"
   ]
  },
  {
   "cell_type": "code",
   "execution_count": 111,
   "id": "cf74c148",
   "metadata": {},
   "outputs": [
    {
     "data": {
      "text/plain": [
       "'H#w #r# y#u?'"
      ]
     },
     "execution_count": 111,
     "metadata": {},
     "output_type": "execute_result"
    }
   ],
   "source": [
    "x=x.replace('o', '#')\n",
    "x"
   ]
  },
  {
   "cell_type": "code",
   "execution_count": 112,
   "id": "808b5bee",
   "metadata": {},
   "outputs": [
    {
     "data": {
      "text/plain": [
       "'H#w #r# y##?'"
      ]
     },
     "execution_count": 112,
     "metadata": {},
     "output_type": "execute_result"
    }
   ],
   "source": [
    "x=x.replace('u', '#')\n",
    "x"
   ]
  },
  {
   "cell_type": "code",
   "execution_count": 115,
   "id": "c4e04450",
   "metadata": {},
   "outputs": [
    {
     "data": {
      "text/plain": [
       "'H#W #R# Y##?'"
      ]
     },
     "execution_count": 115,
     "metadata": {},
     "output_type": "execute_result"
    }
   ],
   "source": [
    "x=x.upper()\n",
    "x"
   ]
  },
  {
   "cell_type": "code",
   "execution_count": 117,
   "id": "75269866",
   "metadata": {},
   "outputs": [
    {
     "data": {
      "text/plain": [
       "'Good morning teacher'"
      ]
     },
     "execution_count": 117,
     "metadata": {},
     "output_type": "execute_result"
    }
   ],
   "source": [
    "y"
   ]
  },
  {
   "cell_type": "code",
   "execution_count": 118,
   "id": "2913220a",
   "metadata": {},
   "outputs": [],
   "source": [
    "# Gd mrning teacher"
   ]
  },
  {
   "cell_type": "code",
   "execution_count": 119,
   "id": "1f086575",
   "metadata": {},
   "outputs": [
    {
     "name": "stdout",
     "output_type": "stream",
     "text": [
      "Gd mrning teacher\n"
     ]
    }
   ],
   "source": [
    "print(y.replace('o', ''))"
   ]
  },
  {
   "cell_type": "code",
   "execution_count": 120,
   "id": "2f84b4ca",
   "metadata": {},
   "outputs": [
    {
     "name": "stdout",
     "output_type": "stream",
     "text": [
      "G  d m rning teacher\n"
     ]
    }
   ],
   "source": [
    "print(y.replace('o', ' '))"
   ]
  },
  {
   "cell_type": "code",
   "execution_count": 123,
   "id": "7aa47ea5",
   "metadata": {},
   "outputs": [],
   "source": [
    "a='Ram is _ good boy'"
   ]
  },
  {
   "cell_type": "code",
   "execution_count": 124,
   "id": "72cd538f",
   "metadata": {},
   "outputs": [
    {
     "data": {
      "text/plain": [
       "'Ram is a good boy'"
      ]
     },
     "execution_count": 124,
     "metadata": {},
     "output_type": "execute_result"
    }
   ],
   "source": [
    "a=a.replace('_', 'a')\n",
    "a"
   ]
  },
  {
   "cell_type": "markdown",
   "id": "82c79d1f",
   "metadata": {},
   "source": [
    "# Cypher String"
   ]
  },
  {
   "cell_type": "code",
   "execution_count": 7,
   "id": "376b93cb",
   "metadata": {},
   "outputs": [],
   "source": [
    "alpha='abcdefghijklmnopqrstuvwxyz'"
   ]
  },
  {
   "cell_type": "code",
   "execution_count": 8,
   "id": "cd9fee86",
   "metadata": {},
   "outputs": [
    {
     "name": "stdout",
     "output_type": "stream",
     "text": [
      "a\n",
      "b\n",
      "c\n",
      "d\n",
      "e\n"
     ]
    }
   ],
   "source": [
    "i=0\n",
    "\n",
    "print(alpha[i])\n",
    "print(alpha[i+1])\n",
    "print(alpha[i+2])\n",
    "print(alpha[i+3])\n",
    "print(alpha[i+4])"
   ]
  },
  {
   "cell_type": "code",
   "execution_count": 11,
   "id": "0da57c33",
   "metadata": {},
   "outputs": [
    {
     "name": "stdout",
     "output_type": "stream",
     "text": [
      "z\n",
      "a\n",
      "b\n",
      "c\n"
     ]
    }
   ],
   "source": [
    "i=25\n",
    "\n",
    "print(alpha[i])\n",
    "#print(alpha[i+1])\n",
    "print(alpha[(i+1)%26])\n",
    "print(alpha[(i+2)%26])\n",
    "print(alpha[(i+3)%26])\n"
   ]
  },
  {
   "cell_type": "code",
   "execution_count": 17,
   "id": "3e1f2379",
   "metadata": {},
   "outputs": [],
   "source": [
    "s='india'\n",
    "\n",
    "\n",
    "# op: joejb"
   ]
  },
  {
   "cell_type": "code",
   "execution_count": 18,
   "id": "3b24170a",
   "metadata": {},
   "outputs": [
    {
     "data": {
      "text/plain": [
       "'i'"
      ]
     },
     "execution_count": 18,
     "metadata": {},
     "output_type": "execute_result"
    }
   ],
   "source": [
    "s[0]"
   ]
  },
  {
   "cell_type": "code",
   "execution_count": 24,
   "id": "fed839a7",
   "metadata": {},
   "outputs": [
    {
     "data": {
      "text/plain": [
       "9"
      ]
     },
     "execution_count": 24,
     "metadata": {},
     "output_type": "execute_result"
    }
   ],
   "source": [
    "# str_var.index('char')\n",
    "\n",
    "alpha.index(s[0])+1\n",
    "\n"
   ]
  },
  {
   "cell_type": "code",
   "execution_count": 25,
   "id": "dabd7b18",
   "metadata": {},
   "outputs": [
    {
     "data": {
      "text/plain": [
       "'abcdefghijklmnopqrstuvwxyz'"
      ]
     },
     "execution_count": 25,
     "metadata": {},
     "output_type": "execute_result"
    }
   ],
   "source": [
    "alpha"
   ]
  },
  {
   "cell_type": "code",
   "execution_count": 26,
   "id": "6e2b1bc7",
   "metadata": {},
   "outputs": [
    {
     "data": {
      "text/plain": [
       "'j'"
      ]
     },
     "execution_count": 26,
     "metadata": {},
     "output_type": "execute_result"
    }
   ],
   "source": [
    "alpha[9]"
   ]
  },
  {
   "cell_type": "code",
   "execution_count": 27,
   "id": "e2b95263",
   "metadata": {},
   "outputs": [
    {
     "data": {
      "text/plain": [
       "'india'"
      ]
     },
     "execution_count": 27,
     "metadata": {},
     "output_type": "execute_result"
    }
   ],
   "source": [
    "s"
   ]
  },
  {
   "cell_type": "code",
   "execution_count": 28,
   "id": "70fd0e18",
   "metadata": {},
   "outputs": [
    {
     "name": "stdout",
     "output_type": "stream",
     "text": [
      "j\n",
      "o\n",
      "e\n",
      "j\n",
      "b\n"
     ]
    }
   ],
   "source": [
    "print(alpha[(alpha.index(s[0]))+1])\n",
    "\n",
    "alpha[(alpha.index('i'))+1]\n",
    "\n",
    "alpha[8+1]\n",
    "alpha[9]\n",
    "\n",
    "print(alpha[(alpha.index(s[1]))+1])\n",
    "print(alpha[(alpha.index(s[2]))+1])\n",
    "print(alpha[(alpha.index(s[3]))+1])\n",
    "print(alpha[(alpha.index(s[4]))+1])"
   ]
  },
  {
   "cell_type": "code",
   "execution_count": 39,
   "id": "151ad25a",
   "metadata": {},
   "outputs": [
    {
     "data": {
      "text/plain": [
       "'india'"
      ]
     },
     "execution_count": 39,
     "metadata": {},
     "output_type": "execute_result"
    }
   ],
   "source": [
    "s"
   ]
  },
  {
   "cell_type": "code",
   "execution_count": 55,
   "id": "2ca80587",
   "metadata": {},
   "outputs": [
    {
     "data": {
      "text/plain": [
       "''"
      ]
     },
     "execution_count": 55,
     "metadata": {},
     "output_type": "execute_result"
    }
   ],
   "source": [
    "t=''\n",
    "t"
   ]
  },
  {
   "cell_type": "code",
   "execution_count": 57,
   "id": "a9268373",
   "metadata": {},
   "outputs": [
    {
     "data": {
      "text/plain": [
       "'r'"
      ]
     },
     "execution_count": 57,
     "metadata": {},
     "output_type": "execute_result"
    }
   ],
   "source": [
    "i=0\n",
    "k=4\n",
    "\n",
    "t=t+(alpha[(((alpha.index(s[i+1]))+k)%26)])\n",
    "# t=t+(alpha[(alpha.index(s[i+1]))+k])\n",
    "# t=t+(alpha[(alpha.index(s[i+2]))+k])\n",
    "# t=t+(alpha[(alpha.index(s[i+3]))+k])\n",
    "# t=t+(alpha[(alpha.index(s[i+4]))+k])\n",
    "t"
   ]
  },
  {
   "cell_type": "code",
   "execution_count": 40,
   "id": "31c5586f",
   "metadata": {},
   "outputs": [],
   "source": [
    "x=[1,2,4,3]\n",
    "y=[4,5,6]"
   ]
  },
  {
   "cell_type": "code",
   "execution_count": 44,
   "id": "d8d97941",
   "metadata": {},
   "outputs": [
    {
     "data": {
      "text/plain": [
       "[1, 2, 3, 4]"
      ]
     },
     "execution_count": 44,
     "metadata": {},
     "output_type": "execute_result"
    }
   ],
   "source": [
    "sorted(x)"
   ]
  },
  {
   "cell_type": "code",
   "execution_count": 39,
   "id": "ef75ac15",
   "metadata": {},
   "outputs": [
    {
     "data": {
      "text/plain": [
       "[4, 3]"
      ]
     },
     "execution_count": 39,
     "metadata": {},
     "output_type": "execute_result"
    }
   ],
   "source": [
    "x[-1:-3:-1]"
   ]
  },
  {
   "cell_type": "code",
   "execution_count": 15,
   "id": "4b43952f",
   "metadata": {},
   "outputs": [],
   "source": [
    "x.append(y)"
   ]
  },
  {
   "cell_type": "code",
   "execution_count": 17,
   "id": "da30b534",
   "metadata": {},
   "outputs": [],
   "source": [
    "z=tuple(x)"
   ]
  },
  {
   "cell_type": "code",
   "execution_count": 19,
   "id": "05465526",
   "metadata": {},
   "outputs": [],
   "source": [
    "z1=tuple(y)"
   ]
  },
  {
   "cell_type": "code",
   "execution_count": 23,
   "id": "9fbf01f6",
   "metadata": {},
   "outputs": [
    {
     "data": {
      "text/plain": [
       "5"
      ]
     },
     "execution_count": 23,
     "metadata": {},
     "output_type": "execute_result"
    }
   ],
   "source": [
    "z1[1]"
   ]
  },
  {
   "cell_type": "code",
   "execution_count": 22,
   "id": "c46469df",
   "metadata": {},
   "outputs": [
    {
     "data": {
      "text/plain": [
       "(1, 2, 3, [4, 5, 6], 4, 5, 6)"
      ]
     },
     "execution_count": 22,
     "metadata": {},
     "output_type": "execute_result"
    }
   ],
   "source": [
    "z+z1"
   ]
  },
  {
   "cell_type": "code",
   "execution_count": 8,
   "id": "a5963597",
   "metadata": {},
   "outputs": [],
   "source": [
    "x.extend(y)"
   ]
  },
  {
   "cell_type": "code",
   "execution_count": 9,
   "id": "dcaaed49",
   "metadata": {},
   "outputs": [
    {
     "data": {
      "text/plain": [
       "[1, 2, 3, 4, 5, 6, 4, 5, 6]"
      ]
     },
     "execution_count": 9,
     "metadata": {},
     "output_type": "execute_result"
    }
   ],
   "source": [
    "x"
   ]
  },
  {
   "cell_type": "code",
   "execution_count": 10,
   "id": "16587b3f",
   "metadata": {},
   "outputs": [
    {
     "data": {
      "text/plain": [
       "6"
      ]
     },
     "execution_count": 10,
     "metadata": {},
     "output_type": "execute_result"
    }
   ],
   "source": [
    "x.pop(-1)"
   ]
  },
  {
   "cell_type": "code",
   "execution_count": 11,
   "id": "846ab7d6",
   "metadata": {},
   "outputs": [
    {
     "data": {
      "text/plain": [
       "[1, 2, 3, 4, 5, 6, 4, 5]"
      ]
     },
     "execution_count": 11,
     "metadata": {},
     "output_type": "execute_result"
    }
   ],
   "source": [
    "x"
   ]
  },
  {
   "cell_type": "code",
   "execution_count": 12,
   "id": "5109447d",
   "metadata": {},
   "outputs": [],
   "source": [
    "x.append(x)"
   ]
  },
  {
   "cell_type": "code",
   "execution_count": null,
   "id": "53de0dda",
   "metadata": {},
   "outputs": [],
   "source": []
  },
  {
   "cell_type": "code",
   "execution_count": 13,
   "id": "ad07a36e",
   "metadata": {},
   "outputs": [
    {
     "data": {
      "text/plain": [
       "[1, 2, 3, 4, 5, 6, 4, 5, [...]]"
      ]
     },
     "execution_count": 13,
     "metadata": {},
     "output_type": "execute_result"
    }
   ],
   "source": [
    "x"
   ]
  },
  {
   "cell_type": "code",
   "execution_count": null,
   "id": "5d282575",
   "metadata": {},
   "outputs": [],
   "source": []
  }
 ],
 "metadata": {
  "kernelspec": {
   "display_name": "Python 3 (ipykernel)",
   "language": "python",
   "name": "python3"
  },
  "language_info": {
   "codemirror_mode": {
    "name": "ipython",
    "version": 3
   },
   "file_extension": ".py",
   "mimetype": "text/x-python",
   "name": "python",
   "nbconvert_exporter": "python",
   "pygments_lexer": "ipython3",
   "version": "3.10.9"
  }
 },
 "nbformat": 4,
 "nbformat_minor": 5
}
