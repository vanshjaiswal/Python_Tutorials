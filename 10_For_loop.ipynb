{
 "cells": [
  {
   "cell_type": "code",
   "execution_count": null,
   "id": "eaf9bc9f",
   "metadata": {},
   "outputs": [],
   "source": [
    "'''\n",
    "while ('test condition'):\n",
    "    <<<<\n",
    "    \n",
    "    Body of loop\n",
    "    \n",
    "    >>>>\n",
    "\n",
    "Second type of loop  'for' loop.\n",
    "\n",
    "'''"
   ]
  },
  {
   "cell_type": "code",
   "execution_count": null,
   "id": "cd1c9724",
   "metadata": {},
   "outputs": [],
   "source": [
    "'''\n",
    "WAP to find whether the given number is palindorme or not?\n",
    "take the int input from the user\n",
    "\n",
    "eg: 12321\n",
    "reverse this number : 12321\n",
    "\n",
    "'''"
   ]
  },
  {
   "cell_type": "code",
   "execution_count": null,
   "id": "347b212e",
   "metadata": {},
   "outputs": [],
   "source": [
    "x=12321"
   ]
  },
  {
   "cell_type": "code",
   "execution_count": null,
   "id": "0ba6fedb",
   "metadata": {},
   "outputs": [],
   "source": [
    "x%10"
   ]
  },
  {
   "cell_type": "code",
   "execution_count": null,
   "id": "b4a932da",
   "metadata": {},
   "outputs": [],
   "source": [
    "x=x//10"
   ]
  },
  {
   "cell_type": "code",
   "execution_count": null,
   "id": "4d4bb1e8",
   "metadata": {},
   "outputs": [],
   "source": [
    "x%10"
   ]
  },
  {
   "cell_type": "code",
   "execution_count": null,
   "id": "e6d02d83",
   "metadata": {},
   "outputs": [],
   "source": [
    "l=[86,74,85,68,38,95,12,74,65,73,87]"
   ]
  },
  {
   "cell_type": "code",
   "execution_count": null,
   "id": "e334e811",
   "metadata": {},
   "outputs": [],
   "source": [
    "m=l[0]\n",
    "for i in l:\n",
    "    if m > i : \n",
    "        m=i"
   ]
  },
  {
   "cell_type": "code",
   "execution_count": null,
   "id": "392bc56d",
   "metadata": {},
   "outputs": [],
   "source": [
    "print(\"Who is president of USA?\")"
   ]
  },
  {
   "cell_type": "code",
   "execution_count": null,
   "id": "36cfc5af",
   "metadata": {},
   "outputs": [],
   "source": [
    "flag='souleymane'\n",
    "count=0\n",
    "while (flag=='souleymane'):\n",
    "    ans=input()\n",
    "    count+=1\n",
    "    if ans=='biden':\n",
    "        flag='Ouedraogo'\n",
    "        print('Correct')\n",
    "        print(f'You have taken {count} attempts.')\n",
    "    else:\n",
    "        print('Try Again')"
   ]
  },
  {
   "cell_type": "code",
   "execution_count": null,
   "id": "60581fe0",
   "metadata": {},
   "outputs": [],
   "source": [
    "#0,1,2,3,4 sequence"
   ]
  },
  {
   "cell_type": "code",
   "execution_count": null,
   "id": "b6eaf399",
   "metadata": {},
   "outputs": [],
   "source": [
    "for i in range(11):\n",
    "    print(i)"
   ]
  },
  {
   "cell_type": "code",
   "execution_count": null,
   "id": "7f2b98d0",
   "metadata": {},
   "outputs": [],
   "source": [
    "n=0\n",
    "while (n<11):\n",
    "    print(n)\n",
    "    n=n+1\n",
    "    "
   ]
  },
  {
   "cell_type": "code",
   "execution_count": null,
   "id": "e3b53efe",
   "metadata": {},
   "outputs": [],
   "source": [
    "range (start, end, step)"
   ]
  },
  {
   "cell_type": "code",
   "execution_count": null,
   "id": "9920df45",
   "metadata": {},
   "outputs": [],
   "source": [
    "for i in range(5):   #0,1,2,3,4 (n-1)\n",
    "    print(i)"
   ]
  },
  {
   "cell_type": "code",
   "execution_count": null,
   "id": "7c3351a5",
   "metadata": {},
   "outputs": [],
   "source": [
    "for i in range(5): \n",
    "    print('Hello World!')\n",
    "    \n"
   ]
  },
  {
   "cell_type": "code",
   "execution_count": null,
   "id": "464ec3f4",
   "metadata": {},
   "outputs": [],
   "source": [
    "for i in range(10):\n",
    "    print(i, 'Hello world')\n",
    "    print('$$$$$$$')\n",
    "    \n",
    "print('End of for loop')"
   ]
  },
  {
   "cell_type": "code",
   "execution_count": null,
   "id": "22718354",
   "metadata": {},
   "outputs": [],
   "source": [
    "#0,1,2,3,4,5,6,7,8,9"
   ]
  },
  {
   "cell_type": "code",
   "execution_count": null,
   "id": "00fe66ae",
   "metadata": {},
   "outputs": [],
   "source": [
    "for i in range(10): \n",
    "    if i%2==0:\n",
    "        print(i, 'Hello India')\n",
    "    else:\n",
    "        print(i, 'Hello World!')\n",
    "    "
   ]
  },
  {
   "cell_type": "code",
   "execution_count": null,
   "id": "dee6ff0d",
   "metadata": {},
   "outputs": [],
   "source": [
    "n=int(input('Enter the num: ')) #7\n",
    "s=0\n",
    "for i in range(n+1): #range(7+1): 0,1,2,3,4,5,6,7\n",
    "    s=s+i  \n",
    "print(s)"
   ]
  },
  {
   "cell_type": "code",
   "execution_count": null,
   "id": "41632c94",
   "metadata": {},
   "outputs": [],
   "source": [
    "'''\n",
    "\n",
    "take the input from the user, return the sum of the numbers upto the input value\n",
    "i/p : 7\n",
    "\n",
    "ans=0+1+2+3+4+5+6+7\n",
    "ans=28\n",
    "\n",
    "range(n+1)\n",
    "\n",
    "n=5\n",
    "0,1,2,3,4,5\n",
    "\n",
    "1: ans=0+0=0\n",
    "2: ans=0+1=1\n",
    "3: ans=1+2=3\n",
    "4: ans=3+3=6\n",
    "5: ans=6+4=10\n",
    "\n",
    "\n",
    "'''"
   ]
  },
  {
   "cell_type": "code",
   "execution_count": null,
   "id": "bcbe7997",
   "metadata": {},
   "outputs": [],
   "source": [
    "#whole number 0---9\n",
    "#Natural numbers 1---10\n",
    "#first 10 even numbers... 0,2,4,6,...18"
   ]
  },
  {
   "cell_type": "code",
   "execution_count": null,
   "id": "724d1de1",
   "metadata": {},
   "outputs": [],
   "source": [
    "for i in range(1,10,2):\n",
    "    print(i)"
   ]
  },
  {
   "cell_type": "code",
   "execution_count": null,
   "id": "ae9ce528",
   "metadata": {},
   "outputs": [],
   "source": []
  },
  {
   "cell_type": "code",
   "execution_count": null,
   "id": "85500423",
   "metadata": {},
   "outputs": [],
   "source": [
    "'''\n",
    "1.5\n",
    "2\n",
    "2.5\n",
    "3\n",
    "3.5\n",
    "4\n",
    "4.5\n",
    "5\n",
    "\n",
    "\n",
    "\n",
    "'''"
   ]
  },
  {
   "cell_type": "code",
   "execution_count": null,
   "id": "1a41acfe",
   "metadata": {},
   "outputs": [],
   "source": [
    "# first 10 natural numbers\n",
    "# range(Start: default value is 0 , End: mandatory parameter, Step_Size: default value is 1)\n",
    "\n",
    "for i in range(5, 11, 1):  #### 1,3,5,7,9\n",
    "#     print(i/2)\n",
    "    print(i)"
   ]
  },
  {
   "cell_type": "code",
   "execution_count": null,
   "id": "6945af4c",
   "metadata": {},
   "outputs": [],
   "source": [
    "for i in range(2, 5, 1):\n",
    "    print(i)"
   ]
  },
  {
   "cell_type": "code",
   "execution_count": null,
   "id": "c0b483b0",
   "metadata": {},
   "outputs": [],
   "source": []
  },
  {
   "cell_type": "code",
   "execution_count": null,
   "id": "2542c320",
   "metadata": {},
   "outputs": [],
   "source": [
    "0+1+2+3+4+5"
   ]
  },
  {
   "cell_type": "code",
   "execution_count": null,
   "id": "8772d09e",
   "metadata": {},
   "outputs": [],
   "source": [
    "n=int(input()) #5\n",
    "\n",
    "ans=0\n",
    "for i in range(n+1): #0 1 2 3 4 \n",
    "    ans=ans+i\n",
    "    #ans=3\n",
    "    \n",
    "print('The answer is: ', ans)\n"
   ]
  },
  {
   "cell_type": "code",
   "execution_count": null,
   "id": "284554af",
   "metadata": {},
   "outputs": [],
   "source": [
    "print(f\"2 x {i} = {2*i}\")"
   ]
  },
  {
   "cell_type": "code",
   "execution_count": null,
   "id": "11932895",
   "metadata": {},
   "outputs": [],
   "source": [
    "print(\"2 x 1 = 2\")\n",
    "print(\"2 x 2 = 4\")\n",
    "print(\"2 x 3 = 6\")\n",
    "print(\"2 x 4 = 8\")\n",
    "print(\"2 x 5 = 10\")\n",
    "print(\"2 x 6 = 12\")\n",
    "print(\"2 x 7 = 14\")\n",
    "print(\"2 x 8 = 16\")\n",
    "print(\"2 x 9 = 18\")\n",
    "print(\"2 x 10 = 20\")"
   ]
  },
  {
   "cell_type": "code",
   "execution_count": null,
   "id": "ebb95e5f",
   "metadata": {},
   "outputs": [],
   "source": [
    "for i in range(11):\n",
    "    print(f'2 x {i} = {i*2}')"
   ]
  },
  {
   "cell_type": "code",
   "execution_count": null,
   "id": "a036fb42",
   "metadata": {},
   "outputs": [],
   "source": [
    "#range(start, end)\n",
    "tab = int(input(\"Enter the number: \"))\n",
    "for i in range(1,11):\n",
    "    print(f'{tab} x {i} = {i*tab}')"
   ]
  },
  {
   "cell_type": "code",
   "execution_count": null,
   "id": "67b4451f",
   "metadata": {},
   "outputs": [],
   "source": [
    "for i in range(9, 10):\n",
    "    print(i)"
   ]
  },
  {
   "cell_type": "code",
   "execution_count": null,
   "id": "0bf7c115",
   "metadata": {},
   "outputs": [],
   "source": [
    "for i in range(0, 51, 5):\n",
    "    print(i)"
   ]
  },
  {
   "cell_type": "code",
   "execution_count": null,
   "id": "07985b27",
   "metadata": {},
   "outputs": [],
   "source": []
  },
  {
   "cell_type": "code",
   "execution_count": null,
   "id": "39a5b67f",
   "metadata": {},
   "outputs": [],
   "source": [
    "'''\n",
    "range(start, end, step_size)\n",
    "\n",
    "start=0 (Default paramenter, and default value is 0, not a mandatory parameter)\n",
    "\n",
    "end=user_given (mandatory parameter given by programmer) (n-1)\n",
    "\n",
    "step_size=1 ((Default paramenter, and default value is 1, not a mandatory paramenter))\n",
    "\n",
    "\n",
    "range(0, 5, 1) == range(5)\n",
    "0,1,2,3,4\n",
    "range(1, 5)\n",
    "1,2,3,4\n",
    "\n",
    "range(1, 11)\n",
    "1 2 3 4 5 6 7 8 9 10\n",
    "'''"
   ]
  },
  {
   "cell_type": "code",
   "execution_count": null,
   "id": "3db49357",
   "metadata": {},
   "outputs": [],
   "source": [
    "for i in range(1,11):\n",
    "    print(i)"
   ]
  },
  {
   "cell_type": "code",
   "execution_count": null,
   "id": "e37edf4e",
   "metadata": {},
   "outputs": [],
   "source": [
    "for i in range(1,20,2):\n",
    "    print(i)"
   ]
  },
  {
   "cell_type": "code",
   "execution_count": null,
   "id": "0d443350",
   "metadata": {
    "scrolled": true
   },
   "outputs": [],
   "source": [
    "for i in range(1,5,1):\n",
    "    print(i)"
   ]
  },
  {
   "cell_type": "code",
   "execution_count": null,
   "id": "009f84f2",
   "metadata": {},
   "outputs": [],
   "source": [
    "'''\n",
    "range(start, end, step_size)\n",
    "\n",
    "Q1: WAP to print the following:\n",
    "\n",
    "1: First 10 even numbers.   0,2,4,6....18\n",
    "2: First 10 odd numbers.    1,3,5,7...19\n",
    "3: first 10 natural numbers   1-10\n",
    "4: first 10 whole number 0-9\n",
    "\n",
    "using for loop and you have to just print the value of i. print(i)\n",
    "\n",
    "'''"
   ]
  },
  {
   "cell_type": "code",
   "execution_count": null,
   "id": "cd9addd2",
   "metadata": {},
   "outputs": [],
   "source": [
    "# First 10 even numbers.\n",
    "\n",
    "for i in range(0,19,2):\n",
    "    print(i)"
   ]
  },
  {
   "cell_type": "code",
   "execution_count": null,
   "id": "a89dbaa7",
   "metadata": {},
   "outputs": [],
   "source": [
    "# First 10 odd numbers.\n",
    "\n",
    "for i in range(1,20,2):\n",
    "    print(i)"
   ]
  },
  {
   "cell_type": "code",
   "execution_count": null,
   "id": "07584301",
   "metadata": {},
   "outputs": [],
   "source": [
    "# First 10 natural numbers.\n",
    "\n",
    "for i in range(1,11,1):\n",
    "    print(i)"
   ]
  },
  {
   "cell_type": "code",
   "execution_count": null,
   "id": "89ab6a01",
   "metadata": {},
   "outputs": [],
   "source": [
    "# First 10 whole numbers.\n",
    "\n",
    "for i in range(0,10,1):\n",
    "    print(i)"
   ]
  },
  {
   "cell_type": "code",
   "execution_count": null,
   "id": "f20e693c",
   "metadata": {},
   "outputs": [],
   "source": [
    "#take a int input from the user and print the multiplication table upto 10 of that input"
   ]
  },
  {
   "cell_type": "code",
   "execution_count": null,
   "id": "466e3571",
   "metadata": {},
   "outputs": [],
   "source": [
    "n=int(input('enter the number')) \n",
    "for i in range(n,n*11,n): \n",
    "    print(i)"
   ]
  },
  {
   "cell_type": "code",
   "execution_count": null,
   "id": "a7df2799",
   "metadata": {},
   "outputs": [],
   "source": [
    "#Print the value from 10 to 1 using for loop"
   ]
  },
  {
   "cell_type": "code",
   "execution_count": null,
   "id": "c96bbcd6",
   "metadata": {},
   "outputs": [],
   "source": [
    "\"\"\"\n",
    "1,2,3,4,5,6,7,8,9,10\n",
    "\n",
    "10,9,8,7,6,5,4,3,2,1\n",
    "\n",
    "\"\"\""
   ]
  },
  {
   "cell_type": "code",
   "execution_count": null,
   "id": "514db189",
   "metadata": {},
   "outputs": [],
   "source": [
    "for i in range(10,2,-1):\n",
    "    print(i)"
   ]
  },
  {
   "cell_type": "code",
   "execution_count": null,
   "id": "d2e37ca4",
   "metadata": {},
   "outputs": [],
   "source": []
  },
  {
   "cell_type": "code",
   "execution_count": null,
   "id": "d52d6a71",
   "metadata": {},
   "outputs": [],
   "source": []
  },
  {
   "cell_type": "code",
   "execution_count": null,
   "id": "500a8544",
   "metadata": {},
   "outputs": [],
   "source": []
  },
  {
   "cell_type": "code",
   "execution_count": null,
   "id": "171823a3",
   "metadata": {},
   "outputs": [],
   "source": [
    "#Print the value from 10 to 1 using for loop\n",
    "\n",
    "\n",
    "for i in range(10,0,-1):\n",
    "    print(i)"
   ]
  },
  {
   "cell_type": "code",
   "execution_count": null,
   "id": "97961e12",
   "metadata": {},
   "outputs": [],
   "source": [
    "#Print the value from 50 to -50 using for loop but step size should be 25"
   ]
  },
  {
   "cell_type": "code",
   "execution_count": null,
   "id": "c9bb81da",
   "metadata": {},
   "outputs": [],
   "source": [
    "\n",
    "for i in range(50,-1,-5):\n",
    "    print(i)"
   ]
  },
  {
   "cell_type": "code",
   "execution_count": null,
   "id": "de4d109f",
   "metadata": {},
   "outputs": [],
   "source": []
  },
  {
   "cell_type": "code",
   "execution_count": null,
   "id": "286aedc2",
   "metadata": {},
   "outputs": [],
   "source": [
    "# 10----1"
   ]
  },
  {
   "cell_type": "code",
   "execution_count": null,
   "id": "0e68c1a3",
   "metadata": {},
   "outputs": [],
   "source": [
    "n=10\n",
    "while n>0:\n",
    "    print(n)\n",
    "    n=n-1"
   ]
  },
  {
   "cell_type": "code",
   "execution_count": null,
   "id": "f0d404b3",
   "metadata": {},
   "outputs": [],
   "source": [
    "for i in range(10, 6, -1): #step size is negative so we will get n+1\n",
    "    print(i)"
   ]
  },
  {
   "cell_type": "code",
   "execution_count": null,
   "id": "2c1508a3",
   "metadata": {},
   "outputs": [],
   "source": [
    "for i in range(1,10,2): #step size is negative so we will get n+1\n",
    "    print(i)"
   ]
  },
  {
   "cell_type": "code",
   "execution_count": null,
   "id": "8e7de457",
   "metadata": {},
   "outputs": [],
   "source": [
    "'''\n",
    "\n",
    "step size is positive. end(n)----> n-1    50, n=51\n",
    "\n",
    "step size is negative. end(n)----> n+1    50, n+1=50  ... n=?\n",
    "\n",
    "1: range(1,11,2)\n",
    "\n",
    "2: range(100,49, -1)     \n",
    "\n",
    "3: range(10,-1,-1)\n",
    "'''"
   ]
  },
  {
   "cell_type": "code",
   "execution_count": 2,
   "id": "072fc7b2",
   "metadata": {},
   "outputs": [
    {
     "name": "stdout",
     "output_type": "stream",
     "text": [
      "10\n",
      "9\n",
      "8\n",
      "7\n",
      "6\n"
     ]
    }
   ],
   "source": [
    "for i in range(10, 5, -1):\n",
    "    print(i)"
   ]
  },
  {
   "cell_type": "code",
   "execution_count": null,
   "id": "7acbd25b",
   "metadata": {},
   "outputs": [],
   "source": []
  },
  {
   "cell_type": "code",
   "execution_count": 1,
   "id": "f1a266ca",
   "metadata": {},
   "outputs": [
    {
     "name": "stdout",
     "output_type": "stream",
     "text": [
      "0\n",
      "1\n",
      "2\n",
      "3\n",
      "4\n"
     ]
    }
   ],
   "source": [
    "for i in range(0, 5, 1):\n",
    "    print(i)"
   ]
  },
  {
   "cell_type": "code",
   "execution_count": 3,
   "id": "fd9e06f3",
   "metadata": {},
   "outputs": [
    {
     "name": "stdout",
     "output_type": "stream",
     "text": [
      "5\n",
      "4\n",
      "3\n",
      "2\n",
      "1\n"
     ]
    }
   ],
   "source": [
    "for i in range(5, 0, -1):\n",
    "    print(i)"
   ]
  },
  {
   "cell_type": "code",
   "execution_count": null,
   "id": "ad22afa4",
   "metadata": {},
   "outputs": [],
   "source": [
    "\"\"\"\n",
    "100, 99, 98 ---> 50\n",
    "\n",
    "\"\"\""
   ]
  },
  {
   "cell_type": "code",
   "execution_count": 4,
   "id": "77f5d3e7",
   "metadata": {},
   "outputs": [
    {
     "name": "stdout",
     "output_type": "stream",
     "text": [
      "100\n",
      "98\n",
      "96\n",
      "94\n",
      "92\n",
      "90\n",
      "88\n",
      "86\n",
      "84\n",
      "82\n",
      "80\n",
      "78\n",
      "76\n",
      "74\n",
      "72\n",
      "70\n",
      "68\n",
      "66\n",
      "64\n",
      "62\n",
      "60\n",
      "58\n",
      "56\n",
      "54\n",
      "52\n",
      "50\n"
     ]
    }
   ],
   "source": [
    "for i in range(100,49,-2):\n",
    "    print(i)"
   ]
  },
  {
   "cell_type": "code",
   "execution_count": null,
   "id": "82d1113a",
   "metadata": {},
   "outputs": [],
   "source": []
  },
  {
   "cell_type": "code",
   "execution_count": null,
   "id": "ea545f0d",
   "metadata": {},
   "outputs": [],
   "source": []
  },
  {
   "cell_type": "code",
   "execution_count": null,
   "id": "4bfa4d09",
   "metadata": {},
   "outputs": [],
   "source": []
  },
  {
   "cell_type": "code",
   "execution_count": null,
   "id": "71b39548",
   "metadata": {},
   "outputs": [],
   "source": []
  },
  {
   "cell_type": "code",
   "execution_count": null,
   "id": "6e151830",
   "metadata": {},
   "outputs": [],
   "source": []
  },
  {
   "cell_type": "code",
   "execution_count": null,
   "id": "99973f63",
   "metadata": {},
   "outputs": [],
   "source": []
  },
  {
   "cell_type": "code",
   "execution_count": null,
   "id": "51221832",
   "metadata": {},
   "outputs": [],
   "source": [
    "500---100   step 25"
   ]
  },
  {
   "cell_type": "code",
   "execution_count": null,
   "id": "93750a3d",
   "metadata": {},
   "outputs": [],
   "source": [
    "for i in range(500,99,-25):\n",
    "    print(i)"
   ]
  },
  {
   "cell_type": "code",
   "execution_count": null,
   "id": "d26413b7",
   "metadata": {},
   "outputs": [],
   "source": [
    "10\n",
    "9\n",
    "8\n",
    "7\n",
    "6\n",
    "5\n",
    "4\n",
    "3\n",
    "2\n",
    "1\n"
   ]
  },
  {
   "cell_type": "code",
   "execution_count": null,
   "id": "f8a1484c",
   "metadata": {},
   "outputs": [],
   "source": []
  },
  {
   "cell_type": "code",
   "execution_count": null,
   "id": "c134815b",
   "metadata": {},
   "outputs": [],
   "source": []
  },
  {
   "cell_type": "code",
   "execution_count": null,
   "id": "ab41ccb0",
   "metadata": {},
   "outputs": [],
   "source": []
  },
  {
   "cell_type": "code",
   "execution_count": null,
   "id": "2507b4c5",
   "metadata": {},
   "outputs": [],
   "source": [
    "for i in range():\n",
    "    print(i)"
   ]
  },
  {
   "cell_type": "code",
   "execution_count": null,
   "id": "46b9438b",
   "metadata": {},
   "outputs": [],
   "source": [
    "# 9,8,7,6,5...0"
   ]
  },
  {
   "cell_type": "code",
   "execution_count": null,
   "id": "610b8e5f",
   "metadata": {},
   "outputs": [],
   "source": [
    "a=int(input((\"enter the number\")))\n",
    "for i in range(1,11,1):\n",
    "    print(a,\"*\",i,\"=\",a*i)"
   ]
  },
  {
   "cell_type": "code",
   "execution_count": null,
   "id": "5ab6c485",
   "metadata": {},
   "outputs": [],
   "source": [
    "for i in range(10, 0, -1): #10, 9, 8,7,6,5,4,3,2,1\n",
    "    print(i)"
   ]
  },
  {
   "cell_type": "code",
   "execution_count": null,
   "id": "7b0dae40",
   "metadata": {},
   "outputs": [],
   "source": [
    "for i in range(10,0,-1): \n",
    "    print('2 x ',i, '=',2*i)"
   ]
  },
  {
   "cell_type": "code",
   "execution_count": null,
   "id": "8148576d",
   "metadata": {},
   "outputs": [],
   "source": [
    "n=2\n",
    "i=10\n",
    "for n in range(n*10,n-1,-n):\n",
    "    print(2,\"*\",i,\"=\",n,)\n",
    "    i=i-1  "
   ]
  },
  {
   "cell_type": "code",
   "execution_count": null,
   "id": "2afadbb9",
   "metadata": {},
   "outputs": [],
   "source": [
    "for i in range(10, 0, -1): #1 2 3 4 5 6 7 8 9 10\n",
    "    print('2 x ',i, '=',2*i)\n",
    "    \n",
    "    \n",
    "    "
   ]
  },
  {
   "cell_type": "code",
   "execution_count": null,
   "id": "41ed22d6",
   "metadata": {},
   "outputs": [],
   "source": []
  },
  {
   "cell_type": "code",
   "execution_count": null,
   "id": "62875730",
   "metadata": {},
   "outputs": [],
   "source": [
    "for i in range(1, 11): #1 2 3 4 5 6 7 8 9 10\n",
    "    print('3 x ',i, '=',3*i)"
   ]
  },
  {
   "cell_type": "code",
   "execution_count": null,
   "id": "031c4892",
   "metadata": {},
   "outputs": [],
   "source": [
    "for i in range(3,31,3):\n",
    "    print(i)"
   ]
  },
  {
   "cell_type": "code",
   "execution_count": null,
   "id": "bc8edad0",
   "metadata": {},
   "outputs": [],
   "source": [
    "for i in range(0, 30, 3):\n",
    "    print(i)"
   ]
  },
  {
   "cell_type": "code",
   "execution_count": null,
   "id": "d8d46435",
   "metadata": {},
   "outputs": [],
   "source": [
    "for i in range(3, 30, 3):\n",
    "    print(i)"
   ]
  },
  {
   "cell_type": "code",
   "execution_count": null,
   "id": "ca1d3444",
   "metadata": {},
   "outputs": [],
   "source": [
    "#I want the number should have 3 gap"
   ]
  },
  {
   "cell_type": "code",
   "execution_count": null,
   "id": "03034d54",
   "metadata": {},
   "outputs": [],
   "source": [
    "for i in range(9, -1, -1):\n",
    "    print(i)"
   ]
  },
  {
   "cell_type": "code",
   "execution_count": null,
   "id": "192d04bb",
   "metadata": {},
   "outputs": [],
   "source": [
    "for i in range(10, 0, -1): #1 2 3 4 5 6 7 8 9 10\n",
    "    print('2 x ',i, '=',2*i)"
   ]
  },
  {
   "cell_type": "code",
   "execution_count": null,
   "id": "8da67e5d",
   "metadata": {},
   "outputs": [],
   "source": [
    "country=\"United States of America\"\n",
    "\n",
    "for i in country:\n",
    "    print(i)\n"
   ]
  },
  {
   "cell_type": "code",
   "execution_count": null,
   "id": "e4758976",
   "metadata": {},
   "outputs": [],
   "source": []
  },
  {
   "cell_type": "code",
   "execution_count": null,
   "id": "bf079efb",
   "metadata": {},
   "outputs": [],
   "source": []
  },
  {
   "cell_type": "code",
   "execution_count": null,
   "id": "53fdb9ac",
   "metadata": {},
   "outputs": [],
   "source": [
    "x='United States of America'"
   ]
  },
  {
   "cell_type": "code",
   "execution_count": null,
   "id": "535afb10",
   "metadata": {},
   "outputs": [],
   "source": [
    "len(x)"
   ]
  },
  {
   "cell_type": "code",
   "execution_count": null,
   "id": "037ae12d",
   "metadata": {},
   "outputs": [],
   "source": []
  },
  {
   "cell_type": "code",
   "execution_count": null,
   "id": "60251adc",
   "metadata": {},
   "outputs": [],
   "source": [
    "country=\"India\"\n",
    "\n",
    "print(country[0])\n",
    "print(country[1])\n",
    "print(country[2])\n",
    "print(country[3])\n",
    "print(country[4])"
   ]
  },
  {
   "cell_type": "code",
   "execution_count": null,
   "id": "9bd53711",
   "metadata": {},
   "outputs": [],
   "source": []
  },
  {
   "cell_type": "code",
   "execution_count": null,
   "id": "61f7290d",
   "metadata": {},
   "outputs": [],
   "source": [
    "#n-1"
   ]
  },
  {
   "cell_type": "code",
   "execution_count": null,
   "id": "b2ed6e6e",
   "metadata": {},
   "outputs": [],
   "source": [
    "for i in range(1, 20, 2):\n",
    "    print(i)"
   ]
  },
  {
   "cell_type": "code",
   "execution_count": null,
   "id": "b28708c8",
   "metadata": {},
   "outputs": [],
   "source": [
    "'''\n",
    "\n",
    "'''"
   ]
  },
  {
   "cell_type": "code",
   "execution_count": null,
   "id": "3a94df48",
   "metadata": {},
   "outputs": [],
   "source": [
    "for i in range(1, 11):\n",
    "    print('5 x ',i, '=',5*i)"
   ]
  },
  {
   "cell_type": "code",
   "execution_count": null,
   "id": "ee068990",
   "metadata": {},
   "outputs": [],
   "source": [
    "'''\n",
    "Q1: WAP to print the following:\n",
    "\n",
    "1: First 10 even numbers.\n",
    "2: First 10 odd numbers.\n",
    "3: first 10 natural numbers (1,2,3,....)\n",
    "4: first 10 whole number (0,1,2,3....)\n",
    "\n",
    "\n",
    "Real number (-inf .... 0 .... +inf)\n",
    "\n",
    "\n",
    "'''"
   ]
  },
  {
   "cell_type": "code",
   "execution_count": 7,
   "id": "a19e0a97",
   "metadata": {},
   "outputs": [
    {
     "name": "stdout",
     "output_type": "stream",
     "text": [
      "1\n",
      "3\n",
      "5\n",
      "7\n",
      "9\n",
      "11\n",
      "13\n",
      "15\n",
      "17\n"
     ]
    }
   ],
   "source": [
    "for i in range(1,19,2):\n",
    "    print(i)"
   ]
  },
  {
   "cell_type": "code",
   "execution_count": null,
   "id": "d0f17fa8",
   "metadata": {},
   "outputs": [],
   "source": []
  },
  {
   "cell_type": "code",
   "execution_count": null,
   "id": "97a2addd",
   "metadata": {},
   "outputs": [],
   "source": []
  },
  {
   "cell_type": "code",
   "execution_count": null,
   "id": "59ba4bf6",
   "metadata": {},
   "outputs": [],
   "source": []
  },
  {
   "cell_type": "code",
   "execution_count": null,
   "id": "09825e5d",
   "metadata": {},
   "outputs": [],
   "source": []
  },
  {
   "cell_type": "code",
   "execution_count": null,
   "id": "e1d34a90",
   "metadata": {},
   "outputs": [],
   "source": [
    "for i in range(1,20,2):\n",
    "    print(i)"
   ]
  },
  {
   "cell_type": "code",
   "execution_count": null,
   "id": "01ff189d",
   "metadata": {},
   "outputs": [],
   "source": []
  },
  {
   "cell_type": "code",
   "execution_count": null,
   "id": "5cf524e3",
   "metadata": {},
   "outputs": [],
   "source": []
  },
  {
   "cell_type": "code",
   "execution_count": null,
   "id": "9473496b",
   "metadata": {},
   "outputs": [],
   "source": []
  },
  {
   "cell_type": "code",
   "execution_count": null,
   "id": "0b018754",
   "metadata": {},
   "outputs": [],
   "source": []
  },
  {
   "cell_type": "code",
   "execution_count": null,
   "id": "15657aad",
   "metadata": {},
   "outputs": [],
   "source": []
  },
  {
   "cell_type": "code",
   "execution_count": null,
   "id": "b00962c6",
   "metadata": {},
   "outputs": [],
   "source": [
    "#even \n",
    "for i in range(1,11):\n",
    "    print(i)"
   ]
  },
  {
   "cell_type": "code",
   "execution_count": null,
   "id": "6eacd744",
   "metadata": {},
   "outputs": [],
   "source": []
  },
  {
   "cell_type": "code",
   "execution_count": null,
   "id": "7f5fde72",
   "metadata": {},
   "outputs": [],
   "source": []
  },
  {
   "cell_type": "code",
   "execution_count": null,
   "id": "0faf4081",
   "metadata": {},
   "outputs": [],
   "source": []
  },
  {
   "cell_type": "code",
   "execution_count": null,
   "id": "d5d21bfc",
   "metadata": {},
   "outputs": [],
   "source": [
    "#First 10 even numbers.\n",
    "\n",
    "for i in range(0,20,2):\n",
    "    print(i)"
   ]
  },
  {
   "cell_type": "code",
   "execution_count": null,
   "id": "bc4e129b",
   "metadata": {},
   "outputs": [],
   "source": [
    "#First 10 odd numbers. 1,3,5,7,9,11,13,15,17,19\n",
    "for i in range(1,20,2):\n",
    "    print(i)"
   ]
  },
  {
   "cell_type": "code",
   "execution_count": null,
   "id": "7bfb7d70",
   "metadata": {},
   "outputs": [],
   "source": [
    "#first 10 natural numbers\n",
    "for i in range(1,11,1):\n",
    "    print(i)"
   ]
  },
  {
   "cell_type": "code",
   "execution_count": null,
   "id": "7550819d",
   "metadata": {},
   "outputs": [],
   "source": [
    "#first 10 whole numbers\n",
    "for i in range(0,10,1):\n",
    "    print(i)"
   ]
  },
  {
   "cell_type": "code",
   "execution_count": null,
   "id": "c2d401dc",
   "metadata": {},
   "outputs": [],
   "source": [
    "#first 10 even numbers, Condition: Step_size=1\n",
    "\n",
    "for i in range(0, 20, 1):\n",
    "    if i%2==0:\n",
    "        print(i)"
   ]
  },
  {
   "cell_type": "code",
   "execution_count": null,
   "id": "36e5cfad",
   "metadata": {},
   "outputs": [],
   "source": []
  },
  {
   "cell_type": "code",
   "execution_count": null,
   "id": "a2dca19b",
   "metadata": {},
   "outputs": [],
   "source": [
    "for i in range(0,20):                             \n",
    "    if (i%2==0):\n",
    "        print(i)"
   ]
  },
  {
   "cell_type": "code",
   "execution_count": null,
   "id": "f2ab4610",
   "metadata": {},
   "outputs": [],
   "source": [
    "#first 10 odd numbers\n",
    "\n",
    "for i in range(1, 20, 2):\n",
    "    print(i)"
   ]
  },
  {
   "cell_type": "code",
   "execution_count": null,
   "id": "864b9912",
   "metadata": {},
   "outputs": [],
   "source": [
    "#first 10 natural numbers\n",
    "\n",
    "for i in range(1,11):\n",
    "    print(i)"
   ]
  },
  {
   "cell_type": "code",
   "execution_count": null,
   "id": "9b191332",
   "metadata": {},
   "outputs": [],
   "source": [
    "#first 10 whole numbers\n",
    "\n",
    "for i in range(0,10):\n",
    "    print(i)"
   ]
  },
  {
   "cell_type": "code",
   "execution_count": null,
   "id": "f1053557",
   "metadata": {},
   "outputs": [],
   "source": [
    "'''\n",
    "1:WAP to print  first 10 positive integers and their square\n",
    "\n",
    "1 1\n",
    "2 4\n",
    "3 9\n",
    "....10 100\n",
    "\n",
    "2: print it in reverse order:\n",
    "\n",
    "10 100\n",
    "9  81\n",
    "8  64\n",
    ".\n",
    ".\n",
    ".\n",
    "1 1\n",
    "'''"
   ]
  },
  {
   "cell_type": "code",
   "execution_count": 9,
   "id": "0a71aa65",
   "metadata": {},
   "outputs": [
    {
     "name": "stdout",
     "output_type": "stream",
     "text": [
      "10 100\n",
      "9 81\n",
      "8 64\n",
      "7 49\n",
      "6 36\n",
      "5 25\n",
      "4 16\n",
      "3 9\n",
      "2 4\n",
      "1 1\n"
     ]
    }
   ],
   "source": [
    "for i in range (10,0,-1):\n",
    "    print(i,i*i)\n"
   ]
  },
  {
   "cell_type": "code",
   "execution_count": null,
   "id": "dea56179",
   "metadata": {},
   "outputs": [],
   "source": [
    "for i in range(10, 0 , -1): #n=0\n",
    "    print(i, i*i)"
   ]
  },
  {
   "cell_type": "code",
   "execution_count": null,
   "id": "82ed6287",
   "metadata": {},
   "outputs": [],
   "source": [
    "for i in range(1,11):\n",
    "    print(i, i*i )"
   ]
  },
  {
   "cell_type": "code",
   "execution_count": null,
   "id": "a36d444a",
   "metadata": {},
   "outputs": [],
   "source": [
    "'''\n",
    "take a input from the user for series length.\n",
    "WAP to print a series:\n",
    "5\n",
    "o/p: 10, 20, 30, 40,50\n",
    "'''"
   ]
  },
  {
   "cell_type": "code",
   "execution_count": 11,
   "id": "040a021d",
   "metadata": {},
   "outputs": [
    {
     "name": "stdout",
     "output_type": "stream",
     "text": [
      "5\n",
      "10,20,30,40,50,"
     ]
    }
   ],
   "source": [
    "n=int(input())\n",
    "for i in range(10,n*10+1,10):\n",
    "    print(i, end=\",\")\n",
    "    "
   ]
  },
  {
   "cell_type": "code",
   "execution_count": 13,
   "id": "8f229b15",
   "metadata": {},
   "outputs": [
    {
     "name": "stdout",
     "output_type": "stream",
     "text": [
      "6\n",
      "10,20,30,40,50,60,"
     ]
    }
   ],
   "source": [
    "n=int(input())\n",
    "for i in range(1,n+1,1):\n",
    "    print(i*10, end=\",\")\n",
    "    "
   ]
  },
  {
   "cell_type": "code",
   "execution_count": null,
   "id": "d2b0df74",
   "metadata": {},
   "outputs": [],
   "source": []
  },
  {
   "cell_type": "code",
   "execution_count": null,
   "id": "8d539213",
   "metadata": {},
   "outputs": [],
   "source": []
  },
  {
   "cell_type": "code",
   "execution_count": null,
   "id": "d7f6a273",
   "metadata": {},
   "outputs": [],
   "source": []
  },
  {
   "cell_type": "code",
   "execution_count": null,
   "id": "2f35482f",
   "metadata": {},
   "outputs": [],
   "source": [
    "n=int(input(\"Enter the length: \"))\n",
    "for i in range(1, n+1, 1):\n",
    "    print(i*10, end=\",\")\n",
    "    \n",
    "print(\"end of loop\")\n",
    "print(\"thanks\")"
   ]
  },
  {
   "cell_type": "code",
   "execution_count": null,
   "id": "16293b47",
   "metadata": {},
   "outputs": [],
   "source": []
  },
  {
   "cell_type": "code",
   "execution_count": null,
   "id": "c036beb8",
   "metadata": {},
   "outputs": [],
   "source": []
  },
  {
   "cell_type": "code",
   "execution_count": null,
   "id": "9a213057",
   "metadata": {},
   "outputs": [],
   "source": [
    "n=int(input('enter num'))\n",
    "for i in range(1,n+1):\n",
    "    print(10*i ,end=\",\")\n"
   ]
  },
  {
   "cell_type": "code",
   "execution_count": null,
   "id": "2a895902",
   "metadata": {},
   "outputs": [],
   "source": [
    "n=int(input(\"Enter No.\"))\n",
    "for i in range(10,n*11,10):\n",
    "    print (i, end=\",\")\n"
   ]
  },
  {
   "cell_type": "code",
   "execution_count": null,
   "id": "f6cfef8f",
   "metadata": {},
   "outputs": [],
   "source": [
    "#6,5,4,3,2,1\n",
    "\n",
    "for i in range(6,0,-1):\n",
    "    print(i)"
   ]
  },
  {
   "cell_type": "code",
   "execution_count": null,
   "id": "12a79b2d",
   "metadata": {},
   "outputs": [],
   "source": [
    "num=int(input('Enter the length of series'))\n",
    "\n",
    "for i in range(num,0,-1):\n",
    "    print(i*10,end=',')\n"
   ]
  },
  {
   "cell_type": "code",
   "execution_count": null,
   "id": "09189819",
   "metadata": {},
   "outputs": [],
   "source": []
  },
  {
   "cell_type": "code",
   "execution_count": null,
   "id": "b4493d00",
   "metadata": {},
   "outputs": [],
   "source": []
  },
  {
   "cell_type": "code",
   "execution_count": null,
   "id": "379bfe6e",
   "metadata": {},
   "outputs": [],
   "source": []
  },
  {
   "cell_type": "code",
   "execution_count": null,
   "id": "1f03bce3",
   "metadata": {},
   "outputs": [],
   "source": [
    "n = int(input(\"enter the number: \"))\n",
    "\n",
    "for i in range(1, n+1, 1):\n",
    "    print(10*i ,end=',')\n"
   ]
  },
  {
   "cell_type": "code",
   "execution_count": null,
   "id": "7e007241",
   "metadata": {},
   "outputs": [],
   "source": [
    "n=int(input())\n",
    "for i in range (10,n*11,10):\n",
    "    print(i,end=',')"
   ]
  },
  {
   "cell_type": "code",
   "execution_count": null,
   "id": "75ca3c82",
   "metadata": {},
   "outputs": [],
   "source": []
  },
  {
   "cell_type": "code",
   "execution_count": null,
   "id": "94da7cd9",
   "metadata": {},
   "outputs": [],
   "source": []
  },
  {
   "cell_type": "code",
   "execution_count": null,
   "id": "735bc6da",
   "metadata": {},
   "outputs": [],
   "source": []
  },
  {
   "cell_type": "code",
   "execution_count": null,
   "id": "1946f803",
   "metadata": {},
   "outputs": [],
   "source": [
    "n=8\n",
    "8*2=16\n",
    "\n",
    "10\n",
    "10*2=20\n",
    "\n",
    "range(1,n*2,2)\n",
    "\n",
    "    "
   ]
  },
  {
   "cell_type": "code",
   "execution_count": null,
   "id": "5844f54f",
   "metadata": {},
   "outputs": [],
   "source": [
    "# I want n element of  this series but the common difference should be 20\n",
    "#take n fromm user 5\n",
    "# 10, 30, 50, 70, 90,\n",
    "\n",
    "#10*1, 10*3, 10*5...\n",
    "\n",
    "'''\n",
    "\n",
    "\n",
    "'''"
   ]
  },
  {
   "cell_type": "code",
   "execution_count": null,
   "id": "85930624",
   "metadata": {},
   "outputs": [],
   "source": [
    "n=int(input(\"enter the len: \"))\n",
    "for i in range(1, n*2, 2):\n",
    "    print(i*10)"
   ]
  },
  {
   "cell_type": "code",
   "execution_count": null,
   "id": "2cf4e9bf",
   "metadata": {},
   "outputs": [],
   "source": []
  },
  {
   "cell_type": "code",
   "execution_count": null,
   "id": "1bb312ee",
   "metadata": {},
   "outputs": [],
   "source": []
  },
  {
   "cell_type": "code",
   "execution_count": null,
   "id": "b231166e",
   "metadata": {},
   "outputs": [],
   "source": [
    "length=int(input(\"enter length of series\"))\n",
    "for i in range(10,length*20,20) :\n",
    "    print(i, end=\",\")\n"
   ]
  },
  {
   "cell_type": "code",
   "execution_count": null,
   "id": "4d4ccffb",
   "metadata": {},
   "outputs": [],
   "source": [
    "n=int(input(\"Enter th length of the series:\"))\n",
    "for i in range(10,(n*20) ,20):\n",
    "    print(i, end=\",\")\n"
   ]
  },
  {
   "cell_type": "code",
   "execution_count": null,
   "id": "af82f862",
   "metadata": {},
   "outputs": [],
   "source": [
    "n=int(input('enter the length of the series:')) #n=5\n",
    "for i in range(1,n*2,2): #range(1,10,2)---> 1,3,5,7,9\n",
    "    print(10*i,end=',')\n"
   ]
  },
  {
   "cell_type": "code",
   "execution_count": null,
   "id": "a98db121",
   "metadata": {},
   "outputs": [],
   "source": []
  },
  {
   "cell_type": "code",
   "execution_count": null,
   "id": "d680eaef",
   "metadata": {},
   "outputs": [],
   "source": []
  },
  {
   "cell_type": "code",
   "execution_count": null,
   "id": "f62348db",
   "metadata": {},
   "outputs": [],
   "source": []
  },
  {
   "cell_type": "code",
   "execution_count": null,
   "id": "7b27bedb",
   "metadata": {},
   "outputs": [],
   "source": []
  },
  {
   "cell_type": "code",
   "execution_count": null,
   "id": "c38d335c",
   "metadata": {
    "scrolled": true
   },
   "outputs": [],
   "source": [
    "num=int(input('Enter the len of series:'))\n",
    "for i in range(1, num*2, 2):\n",
    "    print(10*i, end=\",\")"
   ]
  },
  {
   "cell_type": "code",
   "execution_count": null,
   "id": "e3cc976e",
   "metadata": {},
   "outputs": [],
   "source": [
    "# print first 10 odd numbers\n",
    "\n",
    "for i in range(1, 20, 2):\n",
    "    print(i)"
   ]
  },
  {
   "cell_type": "code",
   "execution_count": null,
   "id": "dbe57965",
   "metadata": {},
   "outputs": [],
   "source": [
    "# 5 odd number \n",
    "for i in range(1, 10, 2):\n",
    "    print(i)"
   ]
  },
  {
   "cell_type": "code",
   "execution_count": null,
   "id": "02a9a11e",
   "metadata": {},
   "outputs": [],
   "source": [
    "n= int(input())\n",
    "for i in range(1, n*2, 2):\n",
    "    print(i)"
   ]
  },
  {
   "cell_type": "code",
   "execution_count": null,
   "id": "b237427a",
   "metadata": {},
   "outputs": [],
   "source": []
  },
  {
   "cell_type": "code",
   "execution_count": 14,
   "id": "85e5b788",
   "metadata": {},
   "outputs": [
    {
     "name": "stdout",
     "output_type": "stream",
     "text": [
      "6\n",
      "100,95,90,85,80,75,"
     ]
    }
   ],
   "source": [
    "n=int(input())\n",
    "for i in range(20, 20-n, -1 ):\n",
    "    print(i*5, end=\",\")"
   ]
  },
  {
   "cell_type": "code",
   "execution_count": null,
   "id": "04525538",
   "metadata": {},
   "outputs": [],
   "source": [
    "n=int(input())\n",
    "for i in range():\n",
    "    print(i*5, end=\",\")"
   ]
  },
  {
   "cell_type": "code",
   "execution_count": 16,
   "id": "6564fe12",
   "metadata": {},
   "outputs": [
    {
     "name": "stdout",
     "output_type": "stream",
     "text": [
      "Hello World\n",
      "Hello World\n",
      "Hello World\n",
      "Hello World\n",
      "Hello World\n"
     ]
    }
   ],
   "source": [
    "for i in range(100,95,-1):\n",
    "    print(\"Hello World\")"
   ]
  },
  {
   "cell_type": "code",
   "execution_count": null,
   "id": "ea5b6549",
   "metadata": {},
   "outputs": [],
   "source": []
  },
  {
   "cell_type": "code",
   "execution_count": null,
   "id": "24cac7fa",
   "metadata": {},
   "outputs": [],
   "source": [
    "'''\n",
    "take a input from the user for series length.\n",
    "WAP to print a series:\n",
    "6:\n",
    "o/p: 100, 95, 90, 85,80, 75... \n",
    "\n",
    "\n",
    "\n",
    "\n",
    "\n",
    "'''"
   ]
  },
  {
   "cell_type": "code",
   "execution_count": null,
   "id": "b8257603",
   "metadata": {},
   "outputs": [],
   "source": [
    "n=int(input(\"Enter the len: \")) #n=6\n",
    "for i in range(20,20-n, -1):\n",
    "    print(i*5)"
   ]
  },
  {
   "cell_type": "code",
   "execution_count": null,
   "id": "a99e3045",
   "metadata": {},
   "outputs": [],
   "source": [
    "n=int(input(\"Enter the len: \"))\n",
    "for i in range(n):\n",
    "    print(100 - (5*i))"
   ]
  },
  {
   "cell_type": "code",
   "execution_count": null,
   "id": "65638dbb",
   "metadata": {},
   "outputs": [],
   "source": []
  },
  {
   "cell_type": "code",
   "execution_count": null,
   "id": "46a86c0c",
   "metadata": {},
   "outputs": [],
   "source": []
  },
  {
   "cell_type": "code",
   "execution_count": null,
   "id": "7a0c1cf6",
   "metadata": {},
   "outputs": [],
   "source": []
  },
  {
   "cell_type": "code",
   "execution_count": null,
   "id": "436c5d40",
   "metadata": {},
   "outputs": [],
   "source": [
    "n=int(input('Input a number:'))\n",
    "for i in range (100,100-(n*5),-5):\n",
    "    print (i, end=', ')\n"
   ]
  },
  {
   "cell_type": "code",
   "execution_count": null,
   "id": "6658bdf0",
   "metadata": {},
   "outputs": [],
   "source": [
    "num=int(input('Enter the number'))\n",
    "for i in range(0, num, 1):\n",
    "    print(100-i*5,end=',')\n"
   ]
  },
  {
   "cell_type": "code",
   "execution_count": null,
   "id": "32f3214e",
   "metadata": {},
   "outputs": [],
   "source": [
    "num=int(input(\"enter number of serious : \"))\n",
    "for i in range (100,100-5*num,-5): #range(100, 100-25=75, -5)\n",
    "    print(i,end=\",\")\n"
   ]
  },
  {
   "cell_type": "code",
   "execution_count": null,
   "id": "95e014dc",
   "metadata": {},
   "outputs": [],
   "source": []
  },
  {
   "cell_type": "code",
   "execution_count": null,
   "id": "d42bb1dd",
   "metadata": {},
   "outputs": [],
   "source": []
  },
  {
   "cell_type": "code",
   "execution_count": null,
   "id": "50123c4c",
   "metadata": {},
   "outputs": [],
   "source": [
    "length = int(input())\n",
    "number = 105\n",
    "for i in range(length):\n",
    "    number = number - 5\n",
    "    print(number, end=\",\")"
   ]
  },
  {
   "cell_type": "code",
   "execution_count": null,
   "id": "34d681ef",
   "metadata": {},
   "outputs": [],
   "source": [
    "n=int(input()) #n=5\n",
    "\n",
    "for i in range(20,20-n,-1): #range(20, 15, -1)---> 20,19,18,17,16\n",
    "    print(5*i, end=',')"
   ]
  },
  {
   "cell_type": "code",
   "execution_count": null,
   "id": "b4dfaaae",
   "metadata": {},
   "outputs": [],
   "source": [
    "\n",
    "for i in range(20,15,-1): #20,19,18,17,16\n",
    "    print(5*i, end=',')\n",
    "    "
   ]
  },
  {
   "cell_type": "code",
   "execution_count": null,
   "id": "1e129495",
   "metadata": {},
   "outputs": [],
   "source": [
    "#step +1, end=n-1\n",
    "#step -1, end=n+1"
   ]
  },
  {
   "cell_type": "code",
   "execution_count": null,
   "id": "e2f00386",
   "metadata": {},
   "outputs": [],
   "source": []
  },
  {
   "cell_type": "code",
   "execution_count": null,
   "id": "f0139c3e",
   "metadata": {},
   "outputs": [],
   "source": []
  },
  {
   "cell_type": "code",
   "execution_count": null,
   "id": "d342d32b",
   "metadata": {},
   "outputs": [],
   "source": []
  },
  {
   "cell_type": "code",
   "execution_count": null,
   "id": "c81bdfe8",
   "metadata": {},
   "outputs": [],
   "source": [
    "num=int(input('Enter the len of series:'))\n",
    "a=5\n",
    "for i in range(20, 20-num, -1):\n",
    "    #print(i)\n",
    "    print(a*i, end=\",\")"
   ]
  },
  {
   "cell_type": "code",
   "execution_count": null,
   "id": "32f0f0e2",
   "metadata": {},
   "outputs": [],
   "source": [
    "# 100, 92, 84, 76, 68...."
   ]
  },
  {
   "cell_type": "code",
   "execution_count": null,
   "id": "5dfa7b49",
   "metadata": {},
   "outputs": [],
   "source": [
    "# 5 elements of this series."
   ]
  },
  {
   "cell_type": "code",
   "execution_count": null,
   "id": "33916892",
   "metadata": {},
   "outputs": [],
   "source": [
    "num=int(input())\n",
    "\n",
    "for i in range():\n",
    "    print()"
   ]
  },
  {
   "cell_type": "code",
   "execution_count": null,
   "id": "4d339f8c",
   "metadata": {},
   "outputs": [],
   "source": [
    "birth_year=int(input())\n",
    "\n",
    "current_year=2023\n",
    "age=current_year - birth_year\n",
    "print(\"Age of the person: \", age)"
   ]
  },
  {
   "cell_type": "code",
   "execution_count": null,
   "id": "43742743",
   "metadata": {},
   "outputs": [],
   "source": [
    "birth_year=int(input('enter birth year:'))\n",
    "present_year=2023\n",
    "age=present_year-birth_year\n",
    "print(age)\n"
   ]
  },
  {
   "cell_type": "code",
   "execution_count": null,
   "id": "0f918a5f",
   "metadata": {},
   "outputs": [],
   "source": [
    "birth_year=int(input('enter birth year:'))\n",
    "present_year=2023\n",
    "age=birth_year-present_year\n",
    "print(age)\n"
   ]
  },
  {
   "cell_type": "code",
   "execution_count": null,
   "id": "9b6afec0",
   "metadata": {},
   "outputs": [],
   "source": []
  },
  {
   "cell_type": "code",
   "execution_count": null,
   "id": "a5966157",
   "metadata": {},
   "outputs": [],
   "source": [
    "# 4*25, 4*23, 4*21, 4*19..."
   ]
  },
  {
   "cell_type": "code",
   "execution_count": null,
   "id": "c1f867ad",
   "metadata": {},
   "outputs": [],
   "source": [
    "# 25, 23, 21, 19,....."
   ]
  },
  {
   "cell_type": "code",
   "execution_count": null,
   "id": "783fe45b",
   "metadata": {},
   "outputs": [],
   "source": [
    "# print first 10 natural number in reverse"
   ]
  },
  {
   "cell_type": "code",
   "execution_count": null,
   "id": "c776e0e9",
   "metadata": {},
   "outputs": [],
   "source": [
    "n=int(input())\n",
    "for i in range(25, 25-(num*2), -2):\n",
    "    print(i)"
   ]
  },
  {
   "cell_type": "code",
   "execution_count": null,
   "id": "5d06e180",
   "metadata": {},
   "outputs": [],
   "source": [
    "num=int(input('Enter the series:'))\n",
    "a=100\n",
    "for i in range(100,100-(num*8),-8): \n",
    "    print(i,end=\",\")"
   ]
  },
  {
   "cell_type": "code",
   "execution_count": null,
   "id": "39f590c7",
   "metadata": {},
   "outputs": [],
   "source": [
    "n=10\n",
    "for i in range(100,100-(num*20),-8):\n",
    "    print(i)"
   ]
  },
  {
   "cell_type": "code",
   "execution_count": null,
   "id": "d14535a3",
   "metadata": {},
   "outputs": [],
   "source": [
    "1,2,3,4,5\n"
   ]
  },
  {
   "cell_type": "code",
   "execution_count": null,
   "id": "df7dc096",
   "metadata": {},
   "outputs": [],
   "source": [
    "'''\n",
    "WAP to compute factorial of a number. take the input from the user. \n",
    "\n",
    "5! \n",
    "\n",
    "factorial is not defined for negative integers\n",
    "\n",
    "\n",
    "5*4*3*2*1 = 120\n",
    "6*5*4*3*2*1 = 720\n",
    "\n",
    "\n",
    "'''"
   ]
  },
  {
   "cell_type": "code",
   "execution_count": null,
   "id": "a0ba610e",
   "metadata": {},
   "outputs": [],
   "source": [
    "n=int(input(\"Enter the number: \")) #5\n",
    "if n>=0:\n",
    "    f=1\n",
    "    for i in range(n,0,-1): #5,4,3,2,1\n",
    "        f=f*i\n",
    "    print(f)\n",
    "else:\n",
    "    print(\"Invalid input\")\n"
   ]
  },
  {
   "cell_type": "code",
   "execution_count": null,
   "id": "d852b60e",
   "metadata": {},
   "outputs": [],
   "source": []
  },
  {
   "cell_type": "code",
   "execution_count": null,
   "id": "e2ada53e",
   "metadata": {},
   "outputs": [],
   "source": []
  },
  {
   "cell_type": "code",
   "execution_count": null,
   "id": "7ef10977",
   "metadata": {},
   "outputs": [],
   "source": []
  },
  {
   "cell_type": "code",
   "execution_count": null,
   "id": "4e2b3e7e",
   "metadata": {},
   "outputs": [],
   "source": [
    "num=int(input())\n",
    "if num>0:\n",
    "    fact=1\n",
    "    for i in range(num,0,-1):\n",
    "        fact=fact*i\n",
    "    print(fact)\n",
    "else:\n",
    "    print(\"Factorial is not defined for a negative integer\")"
   ]
  },
  {
   "cell_type": "code",
   "execution_count": null,
   "id": "27d8b281",
   "metadata": {},
   "outputs": [],
   "source": [
    "num=int(input())\n",
    "f=1\n",
    "if (num <= 0):\n",
    "    print('Invalid Input')\n",
    "else:\n",
    "    for i in range(1, num+1):\n",
    "        f=f*i\n",
    "\n",
    "    print('Factorial= ',f)\n",
    "    "
   ]
  },
  {
   "cell_type": "code",
   "execution_count": null,
   "id": "8cc2d886",
   "metadata": {},
   "outputs": [],
   "source": [
    "5!= 5x4x3x2x1= 120\n",
    "\n",
    "1x2x3x4x5=120"
   ]
  },
  {
   "cell_type": "code",
   "execution_count": null,
   "id": "226fce82",
   "metadata": {},
   "outputs": [],
   "source": [
    "num=(int(input()))\n",
    "f=1\n",
    "for i in range(1,num+1):\n",
    "    f=f*i\n",
    "print('Factorial=',f)"
   ]
  },
  {
   "cell_type": "code",
   "execution_count": null,
   "id": "1f6edcd8",
   "metadata": {},
   "outputs": [],
   "source": [
    "1234"
   ]
  },
  {
   "cell_type": "code",
   "execution_count": null,
   "id": "54636000",
   "metadata": {},
   "outputs": [],
   "source": [
    "n=int(input(\"enter No.  \"))\n",
    "f=1\n",
    "for i in range(n%10+1, 0):\n",
    "    f=f*i\n",
    "    n=n//10\n",
    "print (i)\n"
   ]
  },
  {
   "cell_type": "code",
   "execution_count": null,
   "id": "93a924ed",
   "metadata": {},
   "outputs": [],
   "source": [
    "x=124587\n",
    "\n",
    "l=len(str(x))\n",
    "m=1\n",
    "for i in range(l):\n",
    "    "
   ]
  },
  {
   "cell_type": "code",
   "execution_count": null,
   "id": "69a31897",
   "metadata": {},
   "outputs": [],
   "source": [
    "'''\n",
    "\n",
    "WAP to get the product of each digit given by user.\n",
    "\n",
    "i/p: 1234\n",
    "o/p: 1*2*3*4=24\n",
    "\n",
    "\n",
    "541\n",
    "5*4*1=20\n",
    "\n",
    "m=1\n",
    "\n",
    "m=m*r\n",
    "\n",
    "\n",
    "1234 % 10 = 4\n",
    "1234 // 10 = 123\n",
    "\n",
    "123 % 10= 3\n",
    "123//10=12\n",
    "\n",
    "\n",
    "iter=1\n",
    "r=4\n",
    "p=1*4=4\n",
    "num=123\n",
    "\n",
    "iter=2\n",
    "r=3\n",
    "p=4*3=12\n",
    "num=12\n",
    "\n",
    "iter=3\n",
    "r=2\n",
    "p=12*2=24\n",
    "num=1\n",
    "\n",
    "iter=4\n",
    "r=1\n",
    "p=24*1=24\n",
    "num=0\n",
    "\n",
    "\n",
    "\n",
    "'''"
   ]
  },
  {
   "cell_type": "code",
   "execution_count": null,
   "id": "68132717",
   "metadata": {},
   "outputs": [],
   "source": [
    "x=1234\n",
    "x=str(x)\n",
    "l=len(x)\n",
    "l"
   ]
  },
  {
   "cell_type": "code",
   "execution_count": null,
   "id": "5c5a17dd",
   "metadata": {},
   "outputs": [],
   "source": [
    "n=int(input('Enter the number: ')) #1234\n",
    "\n",
    "l=len(str(n))\n",
    "prod=1\n",
    "for i in range(l):\n",
    "    rem=n%10\n",
    "    prod=prod*rem\n",
    "    n=n//10\n",
    "print(prod)\n",
    "    "
   ]
  },
  {
   "cell_type": "code",
   "execution_count": null,
   "id": "6f92154a",
   "metadata": {},
   "outputs": [],
   "source": []
  },
  {
   "cell_type": "code",
   "execution_count": null,
   "id": "c988ea8f",
   "metadata": {},
   "outputs": [],
   "source": [
    "x=-1234\n",
    "\n",
    "len(str(x))"
   ]
  },
  {
   "cell_type": "code",
   "execution_count": null,
   "id": "6c43c1bc",
   "metadata": {},
   "outputs": [],
   "source": [
    "n=int(input(\"enter number: \"))\n",
    "\n",
    "flag=False\n",
    "\n",
    "if n<0:\n",
    "    n=n*(-1)\n",
    "    flag=True\n",
    "    l=len(str(n))-1\n",
    "else:\n",
    "    l=len(str(n))\n",
    "\n",
    "p=1\n",
    "for i in range(0,l): #1234------ l=4\n",
    "    rem=n%10\n",
    "    p=rem*p\n",
    "    n=n//10\n",
    "if flag==True:\n",
    "    print(-p)\n",
    "else:\n",
    "    print(p)\n"
   ]
  },
  {
   "cell_type": "code",
   "execution_count": null,
   "id": "a3cd0d0f",
   "metadata": {},
   "outputs": [],
   "source": [
    "num=int(input('Enter a number :'))\n",
    "prdt = 1\n",
    "while num%10!=0:\n",
    "    i=num%10\n",
    "#     num=int(num/10)\n",
    "    num=num//10\n",
    "    prdt*=i\n",
    "print(\"Product:\",prdt)"
   ]
  },
  {
   "cell_type": "code",
   "execution_count": null,
   "id": "49ace4fb",
   "metadata": {},
   "outputs": [],
   "source": [
    "num=int(input('Enter a number :'))\n",
    "flg=False\n",
    "if(num<0):\n",
    "    flg = True\n",
    "    num=abs(num)\n",
    "prdt = 1\n",
    "while num%10!=0:\n",
    "    i=num%10\n",
    "    num=int(num/10)\n",
    "    prdt*=i\n",
    "if flg==True:\n",
    "    print(\"Product:\",-prdt)\n",
    "else:\n",
    "    print(\"Product:\",prdt)"
   ]
  },
  {
   "cell_type": "code",
   "execution_count": null,
   "id": "37508fd1",
   "metadata": {},
   "outputs": [],
   "source": [
    "'''\n",
    "\n",
    "WAP to reverse a integer number\n",
    "\n",
    "ip: 1234    4   3   2  1\n",
    "op:4321\n",
    "\n",
    "ip:8457\n",
    "op:7548\n",
    "\n",
    "ip: -1234, 1234\n",
    "op: -4321\n",
    "'''"
   ]
  },
  {
   "cell_type": "code",
   "execution_count": null,
   "id": "606adb55",
   "metadata": {},
   "outputs": [],
   "source": [
    "n=int(input('Enter the number: ')) #1234\n",
    "\n",
    "l=len(str(n))\n",
    "rev=0\n",
    "for i in range(l):\n",
    "    rem=n%10   \n",
    "    rev=rev*10 + rem  \n",
    "    n=n//10\n",
    "print(rev)"
   ]
  },
  {
   "cell_type": "code",
   "execution_count": null,
   "id": "1061a508",
   "metadata": {},
   "outputs": [],
   "source": []
  },
  {
   "cell_type": "code",
   "execution_count": null,
   "id": "98378a5f",
   "metadata": {},
   "outputs": [],
   "source": []
  },
  {
   "cell_type": "code",
   "execution_count": null,
   "id": "0652ec2d",
   "metadata": {},
   "outputs": [],
   "source": []
  },
  {
   "cell_type": "code",
   "execution_count": null,
   "id": "9d222b16",
   "metadata": {},
   "outputs": [],
   "source": []
  },
  {
   "cell_type": "code",
   "execution_count": null,
   "id": "7a9eb015",
   "metadata": {},
   "outputs": [],
   "source": [
    "X = int(input(\"Please Enter any Number: \"))    \n",
    "R = 0 \n",
    "while(X > 0):    \n",
    "    Rem = X %10    \n",
    "    R = (R *10) + Rem    \n",
    "    X = X //10  \n",
    "else:\n",
    "    X= abs(X)\n",
    "    #print(X)\n",
    "    Rem = X %10    \n",
    "    R = (R *10) + Rem  \n",
    "    #print(R)\n",
    "    X = X //10\n",
    "     \n",
    "print(\"Reverse is = %d\" %R)"
   ]
  },
  {
   "cell_type": "code",
   "execution_count": null,
   "id": "e02a6848",
   "metadata": {},
   "outputs": [],
   "source": [
    "num=int(input('Enter a number :'))\n",
    "reverseNum=0\n",
    "flg=False\n",
    "if(num<0):\n",
    "    flg = True\n",
    "    num=abs(num)\n",
    "while num%10!=0:\n",
    "    i=num%10\n",
    "    num=num//10\n",
    "#     reverseNum+=str(i)\n",
    "    reverseNum=reverseNum*10 + i\n",
    "    print(reverseNum)\n",
    "result=int(reverseNum)\n",
    "if flg==True:\n",
    "    print(\"Reverse Num:\",-result)\n",
    "else:\n",
    "    print(\"Reverse Num:\",result)"
   ]
  },
  {
   "cell_type": "code",
   "execution_count": null,
   "id": "5d23fb7d",
   "metadata": {},
   "outputs": [],
   "source": []
  },
  {
   "cell_type": "code",
   "execution_count": null,
   "id": "aae2edf9",
   "metadata": {},
   "outputs": [],
   "source": []
  },
  {
   "cell_type": "code",
   "execution_count": null,
   "id": "932cdddb",
   "metadata": {},
   "outputs": [],
   "source": [
    "num = 1234\n",
    "newNum = 1\n",
    "if num > 0:\n",
    "    for i, digit in enumerate(str(num)):\n",
    "        newNum = newNum * int(digit)\n",
    "    print(newNum)\n",
    "elif num < 0:\n",
    "    num = abs(num)\n",
    "    for i, digit in enumerate(str(num)):\n",
    "        newNum = newNum * int(digit)\n",
    "    print(-newNum)"
   ]
  },
  {
   "cell_type": "code",
   "execution_count": null,
   "id": "52954be9",
   "metadata": {},
   "outputs": [],
   "source": [
    "Given an integer,n , perform the following conditional actions:\n",
    "\n",
    "If n is odd, print Weird\n",
    "If n is even and in the inclusive range of 2 to 5, print Not Weird\n",
    "If n is even and in the inclusive range of 6to 20, print Weird\n",
    "If n is even and greater than 20, print Not Weird\n",
    "Input Format\n",
    "\n",
    "A single line containing a positive integer,n .\n"
   ]
  },
  {
   "cell_type": "code",
   "execution_count": null,
   "id": "722dc235",
   "metadata": {},
   "outputs": [],
   "source": [
    "n = int(input('enter:').strip())\n",
    "if n%2 !=0:\n",
    "    print('Weird')\n",
    "elif 2 <= n <= 5:\n",
    "    print('Not Weird')\n",
    "elif 6 <= n <= 20:\n",
    "    print('Weird')\n",
    "else:\n",
    "    print ('Not Weird')\n"
   ]
  },
  {
   "cell_type": "code",
   "execution_count": null,
   "id": "74276a2e",
   "metadata": {},
   "outputs": [],
   "source": []
  },
  {
   "cell_type": "code",
   "execution_count": null,
   "id": "0ce57035",
   "metadata": {},
   "outputs": [],
   "source": []
  },
  {
   "cell_type": "code",
   "execution_count": null,
   "id": "5d9e8baa",
   "metadata": {},
   "outputs": [],
   "source": []
  },
  {
   "cell_type": "code",
   "execution_count": null,
   "id": "1083b4fe",
   "metadata": {},
   "outputs": [],
   "source": []
  },
  {
   "cell_type": "code",
   "execution_count": null,
   "id": "003069a3",
   "metadata": {},
   "outputs": [],
   "source": [
    "1234 % 10"
   ]
  },
  {
   "cell_type": "code",
   "execution_count": null,
   "id": "893d3083",
   "metadata": {},
   "outputs": [],
   "source": [
    "1234//10\n"
   ]
  },
  {
   "cell_type": "code",
   "execution_count": null,
   "id": "2c00e81f",
   "metadata": {},
   "outputs": [],
   "source": [
    "num=int(input())\n",
    "\n",
    "num2=str(num)\n",
    "\n",
    "p=1\n",
    "for i in range(len(num2)):\n",
    "    r=num%10\n",
    "    p=p*r\n",
    "    num=num//10\n",
    "    \n",
    "print(p)"
   ]
  },
  {
   "cell_type": "code",
   "execution_count": null,
   "id": "dc4ce264",
   "metadata": {},
   "outputs": [],
   "source": [
    "#prime number"
   ]
  },
  {
   "cell_type": "code",
   "execution_count": null,
   "id": "1dd7d062",
   "metadata": {},
   "outputs": [],
   "source": [
    "2809\n",
    "\n",
    "\n",
    "53*53= 2809\n",
    "\n",
    "\n",
    "\n",
    "169----13"
   ]
  },
  {
   "cell_type": "code",
   "execution_count": null,
   "id": "bffc2e58",
   "metadata": {},
   "outputs": [],
   "source": [
    "53----(2---53)"
   ]
  },
  {
   "cell_type": "code",
   "execution_count": null,
   "id": "5b360638",
   "metadata": {},
   "outputs": [],
   "source": [
    "2---n/2"
   ]
  },
  {
   "cell_type": "code",
   "execution_count": null,
   "id": "5da8a223",
   "metadata": {},
   "outputs": [],
   "source": []
  },
  {
   "cell_type": "code",
   "execution_count": null,
   "id": "adbb27ff",
   "metadata": {},
   "outputs": [],
   "source": [
    "119*119"
   ]
  },
  {
   "cell_type": "code",
   "execution_count": 23,
   "id": "e2a82ae3",
   "metadata": {},
   "outputs": [
    {
     "name": "stdout",
     "output_type": "stream",
     "text": [
      "15\n",
      "number is not a prime number\n",
      "It is divisible by 3\n",
      "Prime\n"
     ]
    }
   ],
   "source": [
    "n=int(input())\n",
    "flag=True\n",
    "for i  in range(2, n): #15%2 == 0\n",
    "    if n%i==0:\n",
    "        print('number is not a prime number')\n",
    "        print('It is divisible by', i)\n",
    "        break\n",
    "    else:\n",
    "        flag=False\n",
    "if flag==False:\n",
    "    print('Prime')\n",
    "    \n",
    "    "
   ]
  },
  {
   "cell_type": "code",
   "execution_count": 19,
   "id": "040be46c",
   "metadata": {},
   "outputs": [],
   "source": [
    "n=13"
   ]
  },
  {
   "cell_type": "code",
   "execution_count": 20,
   "id": "3f11f254",
   "metadata": {},
   "outputs": [
    {
     "name": "stdout",
     "output_type": "stream",
     "text": [
      "prime\n"
     ]
    }
   ],
   "source": [
    "for i in range(2,n):\n",
    "    if n%i == 0 :\n",
    "        print(\"Not Prime\")\n",
    "else:\n",
    "    print(\"prime\")"
   ]
  },
  {
   "cell_type": "code",
   "execution_count": null,
   "id": "1f50f676",
   "metadata": {},
   "outputs": [],
   "source": [
    "'''\n",
    "WAP to find whether the given number is prime or not. \n",
    "\n",
    "\n",
    "11+1.....(n+1)/2\n",
    "12/2=6\n",
    "\n",
    "2,3,4,5,6,7\n",
    "\n",
    "\n",
    "19\n",
    "\n",
    "\n",
    "19+1/2=10\n",
    "\n",
    "\n",
    "\n",
    "\n",
    "\n",
    "\n",
    "Hint: n..... n+1/2 (2.......n+1/2)\n",
    "\n",
    "'''"
   ]
  },
  {
   "cell_type": "code",
   "execution_count": 26,
   "id": "955fc17a",
   "metadata": {},
   "outputs": [
    {
     "name": "stdout",
     "output_type": "stream",
     "text": [
      "Enter number47\n",
      "47 is a prime number\n"
     ]
    }
   ],
   "source": [
    "n = int(input(\"Enter number\")) #13\n",
    "flag = False\n",
    "\n",
    "if n == 1:\n",
    "    print(n, \"is not a prime number\")\n",
    "elif n > 1:\n",
    "    for i in range(2, n):\n",
    "        if (n % i) == 0:\n",
    "            flag = True\n",
    "    if flag:\n",
    "        print(n, \"is not a prime number\")\n",
    "    else:\n",
    "        print(n, \"is a prime number\")\n"
   ]
  },
  {
   "cell_type": "code",
   "execution_count": null,
   "id": "1785e0ea",
   "metadata": {},
   "outputs": [],
   "source": [
    "i"
   ]
  },
  {
   "cell_type": "code",
   "execution_count": null,
   "id": "70f09eca",
   "metadata": {},
   "outputs": [],
   "source": [
    "import time"
   ]
  },
  {
   "cell_type": "code",
   "execution_count": null,
   "id": "2c8b5493",
   "metadata": {},
   "outputs": [],
   "source": [
    "n=int(input('Enter the number: '))\n",
    "start=time.time()\n",
    "for i in range(2, n):\n",
    "    if n%i==0:\n",
    "        print('Not Prime')\n",
    "        break   \n",
    "else: \n",
    "    print('Prime')\n",
    "end=time.time()\n",
    "\n",
    "print('total time=', end-start)"
   ]
  },
  {
   "cell_type": "code",
   "execution_count": null,
   "id": "7e76179e",
   "metadata": {},
   "outputs": [],
   "source": [
    "4//2"
   ]
  },
  {
   "cell_type": "code",
   "execution_count": null,
   "id": "adbf2fab",
   "metadata": {},
   "outputs": [],
   "source": [
    "n=int(input('Enter the number: '))\n",
    "start=time.time()\n",
    "for i in range(2, (n//2)+1):\n",
    "    if n%i==0:\n",
    "        print('Not Prime')\n",
    "        break \n",
    "else: \n",
    "    print('Prime')\n",
    "end=time.time()\n",
    "print('total time=', end-start)"
   ]
  },
  {
   "cell_type": "code",
   "execution_count": null,
   "id": "8d05924b",
   "metadata": {},
   "outputs": [],
   "source": [
    "i"
   ]
  },
  {
   "cell_type": "code",
   "execution_count": null,
   "id": "179d6715",
   "metadata": {},
   "outputs": [],
   "source": []
  },
  {
   "cell_type": "code",
   "execution_count": null,
   "id": "6653ac67",
   "metadata": {},
   "outputs": [],
   "source": []
  },
  {
   "cell_type": "code",
   "execution_count": null,
   "id": "2f8135bd",
   "metadata": {},
   "outputs": [],
   "source": []
  },
  {
   "cell_type": "markdown",
   "id": "a7d33be9",
   "metadata": {},
   "source": [
    "# Break, Continue and Pass"
   ]
  },
  {
   "cell_type": "code",
   "execution_count": null,
   "id": "4d03161e",
   "metadata": {},
   "outputs": [],
   "source": [
    "n=int(input(\"Enter the number: \")) #21\n",
    "\n",
    "for i in range(2, int(((n+1)/2)+1)):\n",
    "    if n%i==0:\n",
    "        print('not prime')\n",
    "        break\n",
    "else:\n",
    "    print('prime')"
   ]
  },
  {
   "cell_type": "code",
   "execution_count": null,
   "id": "09f2f9c4",
   "metadata": {},
   "outputs": [],
   "source": []
  },
  {
   "cell_type": "code",
   "execution_count": null,
   "id": "6f59cfcb",
   "metadata": {},
   "outputs": [],
   "source": []
  },
  {
   "cell_type": "code",
   "execution_count": null,
   "id": "902e98cd",
   "metadata": {},
   "outputs": [],
   "source": []
  },
  {
   "cell_type": "code",
   "execution_count": null,
   "id": "54941338",
   "metadata": {},
   "outputs": [],
   "source": [
    "num=int(input('Enter a number :'))\n",
    "if num > 1:\n",
    "    for i in range(2, int(num/2)+1):\n",
    "        if (num % i) == 0:\n",
    "            print(num, \"is not a prime number\")\n",
    "            break\n",
    "    else:\n",
    "            print(num, \"is a prime number\")\n",
    "else:\n",
    "    print(num, \"Number should be greater than 1\")"
   ]
  },
  {
   "cell_type": "code",
   "execution_count": null,
   "id": "de1d8b15",
   "metadata": {},
   "outputs": [],
   "source": []
  },
  {
   "cell_type": "code",
   "execution_count": null,
   "id": "152ad116",
   "metadata": {},
   "outputs": [],
   "source": [
    "num=int(input('Enter any number:'))\n",
    "start=time.time()\n",
    "if num>1:\n",
    "    for i in range(2,int(num/2)+1): #(2,5000)\n",
    "        if(num % i)==0:\n",
    "            print(num,'is not a prime number')\n",
    "            break\n",
    "    else:\n",
    "        print(num,'is a prime number')\n",
    "else:\n",
    "    print(num,'is neither prime nor composite')\n",
    "end=time.time()\n",
    "\n",
    "total=end-start\n",
    "print(\"Total time taken: \", total)"
   ]
  },
  {
   "cell_type": "code",
   "execution_count": null,
   "id": "a1120165",
   "metadata": {},
   "outputs": [],
   "source": []
  },
  {
   "cell_type": "code",
   "execution_count": null,
   "id": "ccdb74b6",
   "metadata": {},
   "outputs": [],
   "source": [
    "import time\n",
    "num=abs(int(input(\"Enter the number: \"))) #num=2\n",
    "s=time.time()\n",
    "flag=0 \n",
    "if num==1 or num==0:\n",
    "    flag=1 \n",
    "a=int(num/2)+1\n",
    "# for i in range(2, a): #7.4221\n",
    "for i in range(2, num+1): #15.312\n",
    "    if num%i==0:\n",
    "        flag=1 \n",
    "        print(i)\n",
    "        \n",
    "if flag==1:\n",
    "    print('Not Prime')\n",
    "else:\n",
    "    print('Prime')\n",
    "e=time.time()\n",
    "\n",
    "t=e-s\n",
    "print(\"total time taken: \", round(t, 4))"
   ]
  },
  {
   "cell_type": "code",
   "execution_count": null,
   "id": "0300bf5b",
   "metadata": {},
   "outputs": [],
   "source": [
    "13:09:20 start\n",
    "        \n",
    "13:09:45 end\n",
    "        \n",
    "\n",
    "        "
   ]
  },
  {
   "cell_type": "code",
   "execution_count": null,
   "id": "8a82bae7",
   "metadata": {},
   "outputs": [],
   "source": [
    "for i in range(2,2):\n",
    "    print(i)"
   ]
  },
  {
   "cell_type": "code",
   "execution_count": null,
   "id": "fb178104",
   "metadata": {},
   "outputs": [],
   "source": [
    "int(2/2)+1"
   ]
  },
  {
   "cell_type": "code",
   "execution_count": null,
   "id": "9e345ebc",
   "metadata": {},
   "outputs": [],
   "source": [
    "n=5\n",
    "for i in range(1, 11):\n",
    "    print(i*n)"
   ]
  },
  {
   "cell_type": "markdown",
   "id": "ba40e95e",
   "metadata": {},
   "source": [
    "# Nested for loop"
   ]
  },
  {
   "cell_type": "code",
   "execution_count": null,
   "id": "c62ea619",
   "metadata": {},
   "outputs": [],
   "source": [
    "'''\n",
    "for element in sequence:\n",
    "    for element in sequence:\n",
    "        Body of inner for loop\n",
    "        \n",
    "    Body of Outer for loop\n",
    "\n",
    "'''"
   ]
  },
  {
   "cell_type": "code",
   "execution_count": null,
   "id": "719fc279",
   "metadata": {},
   "outputs": [],
   "source": [
    "for i  in range(5):\n",
    "    for j in range(4):\n",
    "        print(i, j)"
   ]
  },
  {
   "cell_type": "code",
   "execution_count": null,
   "id": "a8b39352",
   "metadata": {},
   "outputs": [],
   "source": []
  },
  {
   "cell_type": "code",
   "execution_count": null,
   "id": "c569cf7d",
   "metadata": {},
   "outputs": [],
   "source": [
    "x=4\n",
    "y=5\n",
    "\n",
    "\n",
    "print(x, y)"
   ]
  },
  {
   "cell_type": "code",
   "execution_count": null,
   "id": "700cc726",
   "metadata": {},
   "outputs": [],
   "source": [
    "counter=0\n",
    "for i in range(15):                   #0,1,2,3,4\n",
    "    for j in range(8):               #0,1,2,3,4\n",
    "        counter=counter+1\n",
    "print(counter)"
   ]
  },
  {
   "cell_type": "code",
   "execution_count": null,
   "id": "49cfbb4f",
   "metadata": {},
   "outputs": [],
   "source": [
    "'''\n",
    "\n",
    "for i in range(m):                   #0,1,2,3,4\n",
    "    for j in range(n):               #0,1,2,3,4\n",
    "        print(i,j)\n",
    "\n",
    "    \n",
    "given that m and n are positive integer and greater than 0, how many times the for loop is executed. \n",
    "what is the total number of output?\n",
    "\n",
    "m*n\n",
    "\n",
    "'''\n"
   ]
  },
  {
   "cell_type": "code",
   "execution_count": 12,
   "id": "6e5ffacb",
   "metadata": {},
   "outputs": [
    {
     "name": "stdout",
     "output_type": "stream",
     "text": [
      "2,4,6,8,10,12,14,16,18,20,"
     ]
    }
   ],
   "source": [
    "for i in range(1, 11):\n",
    "    print(2*i, end=\",\")"
   ]
  },
  {
   "cell_type": "code",
   "execution_count": null,
   "id": "5b8e4a6c",
   "metadata": {},
   "outputs": [],
   "source": []
  },
  {
   "cell_type": "code",
   "execution_count": null,
   "id": "ffba0d94",
   "metadata": {},
   "outputs": [],
   "source": [
    "#WAP to print the multiplication table of 1 to 10 and upto 10"
   ]
  },
  {
   "cell_type": "code",
   "execution_count": 29,
   "id": "50edc5fc",
   "metadata": {},
   "outputs": [
    {
     "name": "stdout",
     "output_type": "stream",
     "text": [
      "1 2 3 4 5 6 7 8 9 10 \n",
      "2 4 6 8 10 12 14 16 18 20 \n",
      "3 6 9 12 15 18 21 24 27 30 \n",
      "4 8 12 16 20 24 28 32 36 40 \n",
      "5 10 15 20 25 30 35 40 45 50 \n"
     ]
    }
   ],
   "source": [
    "for i in range(1,6):    #i=1,2,3, 4,5  #Number of rows\n",
    "    for j in range(1,11):     #j=1,2 ,....10 #Number of columns\n",
    "        print(i*j, end=' ')\n",
    "       \n",
    "    print('')"
   ]
  },
  {
   "cell_type": "code",
   "execution_count": 30,
   "id": "f20ea99c",
   "metadata": {},
   "outputs": [
    {
     "name": "stdout",
     "output_type": "stream",
     "text": [
      "0,0,\n",
      "0,1,\n",
      "0,2,\n",
      "0,3,\n",
      "0,4,\n",
      "0,5,\n",
      "0,6,\n",
      "0,7,\n",
      "0,8,\n",
      "0,9,\n"
     ]
    }
   ],
   "source": [
    "for i in range(10):    #i=1,2,3, 4,5  #Number of rows\n",
    "    for j in range(2):     #j=1,2 ,....10 #Number of columns\n",
    "        print(i*j, end=',')\n",
    "       \n",
    "    print('')\n"
   ]
  },
  {
   "cell_type": "code",
   "execution_count": null,
   "id": "6368447c",
   "metadata": {},
   "outputs": [],
   "source": [
    "for i in range(5):\n",
    "    print(i, end='')"
   ]
  },
  {
   "cell_type": "code",
   "execution_count": null,
   "id": "3881c830",
   "metadata": {},
   "outputs": [],
   "source": [
    "'''\n",
    "#WAP to take the input of height of the star pattern from the user and print the below star pattern upto that height\n",
    "\n",
    "\n",
    "\n",
    "*\n",
    "* *\n",
    "* * *\n",
    "* * * *\n",
    "* * * * * \n",
    "\n",
    "'''"
   ]
  },
  {
   "cell_type": "code",
   "execution_count": 31,
   "id": "030daded",
   "metadata": {},
   "outputs": [
    {
     "name": "stdout",
     "output_type": "stream",
     "text": [
      "* \n",
      "* * \n",
      "* * * \n",
      "* * * * \n",
      "* * * * * \n"
     ]
    }
   ],
   "source": [
    "for i in range(5):\n",
    "    for j in range(i+1):\n",
    "        print(\"*\", end=\" \")\n",
    "    print(\"\")\n",
    "    "
   ]
  },
  {
   "cell_type": "code",
   "execution_count": null,
   "id": "148a04ab",
   "metadata": {},
   "outputs": [],
   "source": []
  },
  {
   "cell_type": "code",
   "execution_count": null,
   "id": "c5abd480",
   "metadata": {},
   "outputs": [],
   "source": []
  },
  {
   "cell_type": "code",
   "execution_count": null,
   "id": "98f2e345",
   "metadata": {},
   "outputs": [],
   "source": []
  },
  {
   "cell_type": "code",
   "execution_count": null,
   "id": "2f4cc2bb",
   "metadata": {},
   "outputs": [],
   "source": []
  },
  {
   "cell_type": "code",
   "execution_count": 21,
   "id": "5caf823c",
   "metadata": {},
   "outputs": [
    {
     "name": "stdout",
     "output_type": "stream",
     "text": [
      "* \n",
      "* * \n",
      "* * * \n",
      "* * * * \n",
      "* * * * * \n"
     ]
    }
   ],
   "source": [
    "for i in range(1,6):   #1,2,3,4, 5\n",
    "    for j in range(i): #0,1,2,3,4\n",
    "        print(\"*\", end=\" \")\n",
    "    print('')\n",
    "    "
   ]
  },
  {
   "cell_type": "code",
   "execution_count": null,
   "id": "b88d6998",
   "metadata": {},
   "outputs": [],
   "source": []
  },
  {
   "cell_type": "code",
   "execution_count": null,
   "id": "92bc9966",
   "metadata": {},
   "outputs": [],
   "source": []
  },
  {
   "cell_type": "code",
   "execution_count": null,
   "id": "e0311db5",
   "metadata": {},
   "outputs": [],
   "source": [
    "n=int(input('Enter the height  of the star pattern: '))\n",
    "\n",
    "for i in range(n+1): #12345\n",
    "    for j in range(i):\n",
    "        print('*', end=' ')\n",
    "    print('')\n",
    "    "
   ]
  },
  {
   "cell_type": "code",
   "execution_count": null,
   "id": "ae2b0343",
   "metadata": {},
   "outputs": [],
   "source": []
  },
  {
   "cell_type": "code",
   "execution_count": null,
   "id": "9399b063",
   "metadata": {},
   "outputs": [],
   "source": []
  },
  {
   "cell_type": "code",
   "execution_count": null,
   "id": "36f566e7",
   "metadata": {},
   "outputs": [],
   "source": []
  },
  {
   "cell_type": "code",
   "execution_count": null,
   "id": "12767963",
   "metadata": {},
   "outputs": [],
   "source": [
    "for i in range(1,6): #i=1,2,3,4,5\n",
    "    for j in range(1,i+1): # (1,5) 1,2,3,4\n",
    "        print('*', end=' ')\n",
    "    print('')"
   ]
  },
  {
   "cell_type": "code",
   "execution_count": null,
   "id": "8bf58880",
   "metadata": {},
   "outputs": [],
   "source": [
    "n=int(input())\n",
    "\n",
    "for i in range(100,n+100): #5\n",
    "    for j in range(100,i+1):\n",
    "        print('*',end=' ')\n",
    "        \n",
    "    print('')\n"
   ]
  },
  {
   "cell_type": "code",
   "execution_count": null,
   "id": "cf4f72f5",
   "metadata": {},
   "outputs": [],
   "source": []
  },
  {
   "cell_type": "code",
   "execution_count": null,
   "id": "adeb8217",
   "metadata": {},
   "outputs": [],
   "source": []
  },
  {
   "cell_type": "code",
   "execution_count": null,
   "id": "7365d633",
   "metadata": {},
   "outputs": [],
   "source": [
    "num=int(input())\n",
    "\n",
    "for i in range(1,num+1):\n",
    "    for j in range(1, i+1):\n",
    "        print('*', end=' ')\n",
    "    print('')"
   ]
  },
  {
   "cell_type": "code",
   "execution_count": null,
   "id": "ad1b2dcd",
   "metadata": {},
   "outputs": [],
   "source": []
  },
  {
   "cell_type": "code",
   "execution_count": null,
   "id": "59176a36",
   "metadata": {},
   "outputs": [],
   "source": []
  },
  {
   "cell_type": "code",
   "execution_count": null,
   "id": "928e9f69",
   "metadata": {},
   "outputs": [],
   "source": [
    "'''\n",
    "1\n",
    "2 2\n",
    "3 3 3\n",
    "4 4 4 4\n",
    "5 5 5 5 5\n",
    "\n",
    "\n",
    "'''"
   ]
  },
  {
   "cell_type": "code",
   "execution_count": 22,
   "id": "18ce24e6",
   "metadata": {},
   "outputs": [
    {
     "name": "stdout",
     "output_type": "stream",
     "text": [
      "1 \n",
      "2 2 \n",
      "3 3 3 \n",
      "4 4 4 4 \n",
      "5 5 5 5 5 \n"
     ]
    }
   ],
   "source": [
    "# num = int(input())\n",
    "for i in range(1,6):\n",
    "    for j in range(i):\n",
    "        print(i, end = ' ')\n",
    "    print('')\n",
    "\n"
   ]
  },
  {
   "cell_type": "code",
   "execution_count": null,
   "id": "ba99960c",
   "metadata": {},
   "outputs": [],
   "source": []
  },
  {
   "cell_type": "code",
   "execution_count": null,
   "id": "2ef8c52c",
   "metadata": {},
   "outputs": [],
   "source": [
    "# n=int(input())\n",
    "# for i in range(1, n+1): \n",
    "#     for j in range(1, i+1):\n",
    "#         print(j, end=' ')\n",
    "#     print('')"
   ]
  },
  {
   "cell_type": "code",
   "execution_count": null,
   "id": "47bee613",
   "metadata": {},
   "outputs": [],
   "source": []
  },
  {
   "cell_type": "code",
   "execution_count": null,
   "id": "068fd1a4",
   "metadata": {},
   "outputs": [],
   "source": []
  },
  {
   "cell_type": "code",
   "execution_count": null,
   "id": "12726455",
   "metadata": {},
   "outputs": [],
   "source": [
    "'''\n",
    "1\n",
    "1 2\n",
    "1 2 3  \n",
    "1 2 3 4 \n",
    "1 2 3 4 5\n",
    "\n",
    "\n",
    "'''"
   ]
  },
  {
   "cell_type": "code",
   "execution_count": 23,
   "id": "78c6fd47",
   "metadata": {},
   "outputs": [
    {
     "name": "stdout",
     "output_type": "stream",
     "text": [
      "1 \n",
      "1 2 \n",
      "1 2 3 \n",
      "1 2 3 4 \n",
      "1 2 3 4 5 \n"
     ]
    }
   ],
   "source": [
    "for i in range(1, 6): \n",
    "    for j in range(1, i+1):\n",
    "        print(j, end=' ')\n",
    "    print('')"
   ]
  },
  {
   "cell_type": "code",
   "execution_count": 27,
   "id": "5aa29738",
   "metadata": {},
   "outputs": [
    {
     "name": "stdout",
     "output_type": "stream",
     "text": [
      "1 \n",
      "1 2 \n",
      "1 2 3 \n",
      "1 2 3 4 \n",
      "1 2 3 4 5 \n"
     ]
    }
   ],
   "source": [
    "for i in range(1, 6): \n",
    "    for j in range(i):\n",
    "        print(j+1, end=' ')\n",
    "    print('')"
   ]
  },
  {
   "cell_type": "code",
   "execution_count": null,
   "id": "7d71b0c4",
   "metadata": {},
   "outputs": [],
   "source": []
  },
  {
   "cell_type": "code",
   "execution_count": null,
   "id": "e94b2d28",
   "metadata": {},
   "outputs": [],
   "source": [
    "for i in range(1,6):\n",
    "    for j in range(1, i+1):\n",
    "        print(j, end=' ')\n",
    "    print('')"
   ]
  },
  {
   "cell_type": "code",
   "execution_count": null,
   "id": "ab399cfc",
   "metadata": {},
   "outputs": [],
   "source": []
  },
  {
   "cell_type": "code",
   "execution_count": null,
   "id": "4f1e15ca",
   "metadata": {},
   "outputs": [],
   "source": []
  },
  {
   "cell_type": "code",
   "execution_count": null,
   "id": "b44f20e0",
   "metadata": {},
   "outputs": [],
   "source": [
    "for i in range(1,6):\n",
    "    for j in  range(6-i,0,-1): # negative step size means n--> n+1\n",
    "        print(i, end=' ')\n",
    "    print('')"
   ]
  },
  {
   "cell_type": "code",
   "execution_count": null,
   "id": "a341bcdb",
   "metadata": {},
   "outputs": [],
   "source": [
    "5-->1=5\n",
    "4-->=4\n",
    "3-->1=3\n",
    "\n",
    "\n",
    "\n",
    "6---->2=5\n",
    "6--->3=4\n",
    "6---"
   ]
  },
  {
   "cell_type": "code",
   "execution_count": 29,
   "id": "8d3d7c36",
   "metadata": {},
   "outputs": [
    {
     "name": "stdout",
     "output_type": "stream",
     "text": [
      "1 1 1 1 1 \n",
      "2 2 2 2 \n",
      "3 3 3 \n",
      "4 4 \n",
      "5 \n"
     ]
    }
   ],
   "source": [
    "for i in range(1,6):\n",
    "    for j in range(6-i):\n",
    "        print(i, end=\" \")\n",
    "    print(\"\")"
   ]
  },
  {
   "cell_type": "code",
   "execution_count": null,
   "id": "33876f0b",
   "metadata": {},
   "outputs": [],
   "source": []
  },
  {
   "cell_type": "code",
   "execution_count": null,
   "id": "1fbce417",
   "metadata": {},
   "outputs": [],
   "source": [
    "'''\n",
    "\n",
    "1 1 1 1 1\n",
    "2 2 2 2\n",
    "3 3 3 \n",
    "4 4 \n",
    "5\n",
    "\n",
    "\n",
    "'''"
   ]
  },
  {
   "cell_type": "code",
   "execution_count": 30,
   "id": "ecb10387",
   "metadata": {},
   "outputs": [
    {
     "name": "stdout",
     "output_type": "stream",
     "text": [
      "1 1 1 1 1 \n",
      "2 2 2 2 \n",
      "3 3 3 \n",
      "4 4 \n",
      "5 \n"
     ]
    }
   ],
   "source": [
    "#jyoti\n",
    "for i in range(1,6):\n",
    "    for j in range(6,i,-1):   #6,\n",
    "        print(i, end=' ')\n",
    "    print('')"
   ]
  },
  {
   "cell_type": "code",
   "execution_count": 31,
   "id": "9a82beeb",
   "metadata": {},
   "outputs": [
    {
     "name": "stdout",
     "output_type": "stream",
     "text": [
      "1 1 1 1 1 \n",
      "2 2 2 2 \n",
      "3 3 3 \n",
      "4 4 \n",
      "5 \n"
     ]
    }
   ],
   "source": [
    "#Roshan\n",
    "for i in range(1,6):\n",
    "    for j in range(6-i,0,-1):\n",
    "        print(i, end=' ')\n",
    "\n",
    "    print('')\n"
   ]
  },
  {
   "cell_type": "code",
   "execution_count": 32,
   "id": "1af58059",
   "metadata": {},
   "outputs": [
    {
     "name": "stdout",
     "output_type": "stream",
     "text": [
      "1 1 1 1 1 \n",
      "2 2 2 2 \n",
      "3 3 3 \n",
      "4 4 \n",
      "5 \n"
     ]
    }
   ],
   "source": [
    "#udit\n",
    "for i in range (1,6):\n",
    "    for j in range(i,6,1): #12345. 2345, 345,45,5\n",
    "        print(i,end=' ')\n",
    "    print('')\n"
   ]
  },
  {
   "cell_type": "code",
   "execution_count": null,
   "id": "59ccd750",
   "metadata": {},
   "outputs": [],
   "source": []
  },
  {
   "cell_type": "code",
   "execution_count": null,
   "id": "6c983ec7",
   "metadata": {},
   "outputs": [],
   "source": [
    "for i in range(1,6): \n",
    "    for j in range(6-i, 0, -1): #5,4,3,2,1\n",
    "        print(i, end=' ')\n",
    "    print('')"
   ]
  },
  {
   "cell_type": "code",
   "execution_count": null,
   "id": "2803af4b",
   "metadata": {},
   "outputs": [],
   "source": [
    "for i in range(1, 6):\n",
    "    for j in range(5, i-1,-1):\n",
    "        print(i,end=\" \")\n",
    "    print('')"
   ]
  },
  {
   "cell_type": "code",
   "execution_count": null,
   "id": "054469f6",
   "metadata": {},
   "outputs": [],
   "source": [
    "n = int(input(\"Enter size: \"))\n",
    "row = 1\n",
    "for i in range(n, 0, -1):\n",
    "    for j in range(1, i+1):\n",
    "        print(row, end=\" \")\n",
    "    row += 1\n",
    "    print()"
   ]
  },
  {
   "cell_type": "code",
   "execution_count": null,
   "id": "300661c4",
   "metadata": {},
   "outputs": [],
   "source": [
    "rows=5\n",
    "b=0\n",
    "\n",
    "for i in range(rows, 0, -1):\n",
    "    b+=1\n",
    "    for j in range(1, i+1):\n",
    "        print(b, end=' ')\n",
    "        \n",
    "    print('')"
   ]
  },
  {
   "cell_type": "code",
   "execution_count": null,
   "id": "0e10a486",
   "metadata": {},
   "outputs": [],
   "source": [
    "for i in range(5,0,-1):                                        \n",
    "    for j in range(1,i+1):                                       \n",
    "        print(i,end=\" \")\n",
    "    print(\" \")"
   ]
  },
  {
   "cell_type": "code",
   "execution_count": null,
   "id": "b94b5273",
   "metadata": {},
   "outputs": [],
   "source": []
  },
  {
   "cell_type": "code",
   "execution_count": null,
   "id": "0e959d72",
   "metadata": {},
   "outputs": [],
   "source": []
  },
  {
   "cell_type": "code",
   "execution_count": null,
   "id": "b0a6659a",
   "metadata": {},
   "outputs": [],
   "source": []
  },
  {
   "cell_type": "code",
   "execution_count": null,
   "id": "d53f7ffa",
   "metadata": {},
   "outputs": [],
   "source": []
  },
  {
   "cell_type": "code",
   "execution_count": null,
   "id": "2b68a4b1",
   "metadata": {},
   "outputs": [],
   "source": [
    "'''\n",
    "5 5 5 5 5  \n",
    "5 5 5 5 \n",
    "5 5 5  \n",
    "5 5 \n",
    "5\n",
    "\n",
    "'''"
   ]
  },
  {
   "cell_type": "code",
   "execution_count": null,
   "id": "d21fea73",
   "metadata": {},
   "outputs": [],
   "source": [
    "for i in range(1,6):                                        \n",
    "    for j in range(6-i,0,-1):                                       \n",
    "        print('5',end=\" \")\n",
    "    print(\"\")"
   ]
  },
  {
   "cell_type": "code",
   "execution_count": null,
   "id": "2b2f8286",
   "metadata": {},
   "outputs": [],
   "source": []
  },
  {
   "cell_type": "code",
   "execution_count": null,
   "id": "b16720e4",
   "metadata": {},
   "outputs": [],
   "source": []
  },
  {
   "cell_type": "code",
   "execution_count": null,
   "id": "c59e269a",
   "metadata": {},
   "outputs": [],
   "source": []
  },
  {
   "cell_type": "code",
   "execution_count": null,
   "id": "c5ab405b",
   "metadata": {},
   "outputs": [],
   "source": [
    "a=5\n",
    "for i in range(5, 0, -1):\n",
    "    for j in range(1, i+1):\n",
    "        print(a, end=' ')\n",
    "    print()"
   ]
  },
  {
   "cell_type": "code",
   "execution_count": null,
   "id": "944106ca",
   "metadata": {},
   "outputs": [],
   "source": [
    "for i in range(5,0,-1):\n",
    "    for j in range(1,i+1):\n",
    "            print(\"5\", end=' ')\n",
    "    print('')"
   ]
  },
  {
   "cell_type": "code",
   "execution_count": null,
   "id": "75fa31e8",
   "metadata": {},
   "outputs": [],
   "source": [
    "'''\n",
    "\n",
    "1\n",
    "2 1\n",
    "3 2 1\n",
    "4 3 2 1\n",
    "5 4 3 2 1\n",
    "\n",
    "'''"
   ]
  },
  {
   "cell_type": "code",
   "execution_count": 36,
   "id": "7178541c",
   "metadata": {},
   "outputs": [
    {
     "name": "stdout",
     "output_type": "stream",
     "text": [
      "1 \n",
      "2 1 \n",
      "3 2 1 \n",
      "4 3 2 1 \n",
      "5 4 3 2 1 \n"
     ]
    }
   ],
   "source": [
    "for i in range(1,6): #i=5\n",
    "    for j in range(i): #j=0,1,2,3,4\n",
    "        print(i-j, end=\" \")\n",
    "    print('')"
   ]
  },
  {
   "cell_type": "code",
   "execution_count": null,
   "id": "3321f56c",
   "metadata": {},
   "outputs": [],
   "source": []
  },
  {
   "cell_type": "code",
   "execution_count": null,
   "id": "f46f9a84",
   "metadata": {},
   "outputs": [],
   "source": []
  },
  {
   "cell_type": "code",
   "execution_count": null,
   "id": "ced12d3e",
   "metadata": {},
   "outputs": [],
   "source": [
    "for i in range():\n",
    "    for j in range():\n",
    "        print(, end=' ')\n",
    "    print('')"
   ]
  },
  {
   "cell_type": "code",
   "execution_count": null,
   "id": "b48fc192",
   "metadata": {},
   "outputs": [],
   "source": [
    "for i in range(1,6):\n",
    "    for j in range(i,0,-1): #i=3, j=3,2,1 \n",
    "        print(j, end=' ')\n",
    "    print('')"
   ]
  },
  {
   "cell_type": "code",
   "execution_count": null,
   "id": "e1b6d2e9",
   "metadata": {},
   "outputs": [],
   "source": []
  },
  {
   "cell_type": "code",
   "execution_count": null,
   "id": "0b6f4665",
   "metadata": {},
   "outputs": [],
   "source": []
  },
  {
   "cell_type": "code",
   "execution_count": null,
   "id": "5e131404",
   "metadata": {},
   "outputs": [],
   "source": [
    "for i in range(1, 6):\n",
    "    for j in range(i, 0, -1):\n",
    "            print(j, end=' ')\n",
    "    print('')"
   ]
  },
  {
   "cell_type": "code",
   "execution_count": null,
   "id": "9e801392",
   "metadata": {},
   "outputs": [],
   "source": [
    "for i in range(1,6):\n",
    "    for j in range(1,i+1):\n",
    "            print(i, end=' ')\n",
    "            i-=1\n",
    "    print('')"
   ]
  },
  {
   "cell_type": "code",
   "execution_count": null,
   "id": "c65f9a23",
   "metadata": {},
   "outputs": [],
   "source": [
    "'''\n",
    "5 4 3 2 1\n",
    "4 3 2 1\n",
    "3 2 1\n",
    "2 1 \n",
    "1\n",
    "'''"
   ]
  },
  {
   "cell_type": "code",
   "execution_count": null,
   "id": "34f052c4",
   "metadata": {},
   "outputs": [],
   "source": [
    "for i in range(1,6): #no of rows\n",
    "    for j in range(6-i,0,-1): #no. of columns\n",
    "        print(j, end=' ')\n",
    "        \n",
    "    print('')"
   ]
  },
  {
   "cell_type": "code",
   "execution_count": null,
   "id": "0c3b14f2",
   "metadata": {},
   "outputs": [],
   "source": [
    "\n",
    "\n",
    "for i in range(5,0,-1):   \n",
    "    for j in range(1,i+1):                                       \n",
    "        print(i,end=\" \")\n",
    "        i-=1\n",
    "    print(\" \")"
   ]
  },
  {
   "cell_type": "code",
   "execution_count": null,
   "id": "d45614d0",
   "metadata": {},
   "outputs": [],
   "source": [
    "for i in range(5, 0, -1):\n",
    "    for j in range(i, 0, -1):\n",
    "        print(j,end=\" \")\n",
    "    print(\" \")\n",
    "    \n",
    "    \n",
    "6386822238: Aryan "
   ]
  },
  {
   "cell_type": "code",
   "execution_count": null,
   "id": "d70632b9",
   "metadata": {},
   "outputs": [],
   "source": [
    "for i in range(5,0,-1):\n",
    "    for j in range(1,i+1):\n",
    "        print(i, end=' ')\n",
    "        i-=1\n",
    "    print('')"
   ]
  },
  {
   "cell_type": "code",
   "execution_count": null,
   "id": "670323b3",
   "metadata": {},
   "outputs": [],
   "source": []
  },
  {
   "cell_type": "code",
   "execution_count": null,
   "id": "55e5c205",
   "metadata": {},
   "outputs": [],
   "source": [
    "for i in range(0,5):\n",
    "    for j in range(0,6-i):\n",
    "        print(j, end= ' ')\n",
    "    print('')\n"
   ]
  },
  {
   "cell_type": "code",
   "execution_count": null,
   "id": "f5126315",
   "metadata": {},
   "outputs": [],
   "source": [
    "'''\n",
    "0 1 2 3 4 5\n",
    "0 1 2 3 4\n",
    "0 1 2 3\n",
    "0 1 2\n",
    "0 1\n",
    "\n",
    "'''"
   ]
  },
  {
   "cell_type": "code",
   "execution_count": null,
   "id": "537fc8f1",
   "metadata": {},
   "outputs": [],
   "source": [
    "for i in range(5,0,-1): #no of rows\n",
    "    for j in range(0,i+1): #no. of columns\n",
    "        print(j, end='  ')\n",
    "        \n",
    "    print('')"
   ]
  },
  {
   "cell_type": "code",
   "execution_count": null,
   "id": "1420b0f4",
   "metadata": {},
   "outputs": [],
   "source": []
  },
  {
   "cell_type": "code",
   "execution_count": null,
   "id": "3d748efa",
   "metadata": {},
   "outputs": [],
   "source": []
  },
  {
   "cell_type": "code",
   "execution_count": null,
   "id": "f76de037",
   "metadata": {},
   "outputs": [],
   "source": [
    "for i in range():\n",
    "    for j in range():\n",
    "        print(, end=' ')\n",
    "       \n",
    "    print('')"
   ]
  },
  {
   "cell_type": "code",
   "execution_count": null,
   "id": "6ecfcc86",
   "metadata": {},
   "outputs": [],
   "source": [
    "for i in range(5,0,-1):   \n",
    "    for j in range(0,i+1):                                       \n",
    "        print(j,end=\" \")\n",
    "    print(\" \")"
   ]
  },
  {
   "cell_type": "code",
   "execution_count": null,
   "id": "2cdbda70",
   "metadata": {},
   "outputs": [],
   "source": [
    "for i in range(5,-1,-1):   \n",
    "    for j in range(0,i+1):                                       \n",
    "        print(j,end=\" \")\n",
    "    print(\" \")"
   ]
  },
  {
   "cell_type": "code",
   "execution_count": null,
   "id": "6ff12009",
   "metadata": {},
   "outputs": [],
   "source": []
  },
  {
   "cell_type": "code",
   "execution_count": null,
   "id": "9d47d04e",
   "metadata": {},
   "outputs": [],
   "source": []
  },
  {
   "cell_type": "code",
   "execution_count": null,
   "id": "4005faf2",
   "metadata": {},
   "outputs": [],
   "source": []
  },
  {
   "cell_type": "code",
   "execution_count": null,
   "id": "72abb9f7",
   "metadata": {},
   "outputs": [],
   "source": []
  },
  {
   "cell_type": "code",
   "execution_count": null,
   "id": "7127569f",
   "metadata": {},
   "outputs": [],
   "source": [
    "'''\n",
    "\n",
    "1\n",
    "3 3\n",
    "5 5 5\n",
    "7 7 7 7\n",
    "9 9 9 9 9\n",
    "\n",
    "'''"
   ]
  },
  {
   "cell_type": "code",
   "execution_count": null,
   "id": "b593cb64",
   "metadata": {},
   "outputs": [],
   "source": [
    "num = int(input('Input your number:'))\n",
    "for i in range(1,(num+1),2):\n",
    "    for j in range (1,i+1,2):\n",
    "        print(i,end=' ') # this multiply the row and colum and seperates witha comma \n",
    "    print('')"
   ]
  },
  {
   "cell_type": "code",
   "execution_count": null,
   "id": "5ed15d28",
   "metadata": {},
   "outputs": [],
   "source": [
    "for i in range(1,11 , 2):\n",
    "    for j in range(i ,0,-2):\n",
    "        print(i , end=' ')\n",
    "    print('')"
   ]
  },
  {
   "cell_type": "code",
   "execution_count": null,
   "id": "a23f2fa7",
   "metadata": {},
   "outputs": [],
   "source": [
    "n=abs(int(input(\"Enter no \")))\n",
    "for i in range(1,n+1):\n",
    "    for j in range(0,i):\n",
    "        print((2*i)-1,end=\" \")\n",
    "    print(\" \")"
   ]
  },
  {
   "cell_type": "code",
   "execution_count": null,
   "id": "f78fc49d",
   "metadata": {},
   "outputs": [],
   "source": []
  },
  {
   "cell_type": "code",
   "execution_count": null,
   "id": "908bd67f",
   "metadata": {},
   "outputs": [],
   "source": []
  },
  {
   "cell_type": "code",
   "execution_count": null,
   "id": "0ab5fbf1",
   "metadata": {},
   "outputs": [],
   "source": [
    "for i in range():\n",
    "    for j in range():\n",
    "        print(, end=' ')\n",
    "    print()"
   ]
  },
  {
   "cell_type": "code",
   "execution_count": null,
   "id": "2b83b4e1",
   "metadata": {},
   "outputs": [],
   "source": [
    "#vasanthi\n",
    "\n",
    "for i in range(1, 10, 2):\n",
    "    for j in range(i, 0, -2):\n",
    "        print(i,end=\" \")\n",
    "    print(\" \")"
   ]
  },
  {
   "cell_type": "code",
   "execution_count": null,
   "id": "e1adbe4f",
   "metadata": {},
   "outputs": [],
   "source": [
    "#hari\n",
    "\n",
    "for i in range(1,11, 2):\n",
    "    for j in range(1,i+1,2):\n",
    "        print(i, end=' ')\n",
    "    print('')"
   ]
  },
  {
   "cell_type": "code",
   "execution_count": null,
   "id": "15727baa",
   "metadata": {},
   "outputs": [],
   "source": [
    "#surendra\n",
    "\n",
    "for a in range(1,10,2):\n",
    "    for b in range(1,a+1,2):\n",
    "        print(a, end=\" \")\n",
    "    print(\" \")"
   ]
  },
  {
   "cell_type": "code",
   "execution_count": null,
   "id": "1ea371c2",
   "metadata": {},
   "outputs": [],
   "source": [
    "#abhishek\n",
    "\n",
    "b=1\n",
    "for i in range(1,6):\n",
    "    for j in range(1,i+1):\n",
    "        print(b,end=\" \")  \n",
    "    print(\" \")\n",
    "    b+=2"
   ]
  },
  {
   "cell_type": "code",
   "execution_count": null,
   "id": "01865d20",
   "metadata": {},
   "outputs": [],
   "source": []
  },
  {
   "cell_type": "code",
   "execution_count": null,
   "id": "1a7f0316",
   "metadata": {},
   "outputs": [],
   "source": []
  },
  {
   "cell_type": "code",
   "execution_count": null,
   "id": "b2401a90",
   "metadata": {},
   "outputs": [],
   "source": [
    "for i in range(4):\n",
    "    for j in range(i+1):\n",
    "        print('*', end=' ')\n",
    "    print('')"
   ]
  },
  {
   "cell_type": "code",
   "execution_count": null,
   "id": "acb30492",
   "metadata": {},
   "outputs": [],
   "source": [
    "'''\n",
    "1 \n",
    "3 2 \n",
    "6 5 4 \n",
    "10 9 8 7 \n",
    "15 14 13 12 11\n",
    "\n",
    "start=0\n",
    "add=1\n",
    "    start=start+add =1 ,3, 3+3=6, 6+4=10, 10+5=15\n",
    "    add=add+1 =2, 3, 4, 5\n",
    "'''"
   ]
  },
  {
   "cell_type": "code",
   "execution_count": 10,
   "id": "45f5b14d",
   "metadata": {},
   "outputs": [
    {
     "name": "stdout",
     "output_type": "stream",
     "text": [
      "1 \n",
      "3 2 \n",
      "6 5 4 \n",
      "10 9 8 7 \n",
      "15 14 13 12 11 \n"
     ]
    }
   ],
   "source": [
    "start=1\n",
    "add=1\n",
    "p=start\n",
    "\n",
    "for i in range(1,6):\n",
    "    for j in range(i):\n",
    "        print(p, end=' ')\n",
    "        p = p-1\n",
    "    print()\n",
    "    add=add+1   #2, 3, 4, 5, 6\n",
    "    start=start+add #1+2=3, 3+3=6, 6+4=10, 10+5=15, 15+6=21\n",
    "    p=start  #3, 6, 10, 15, 21"
   ]
  },
  {
   "cell_type": "code",
   "execution_count": 7,
   "id": "ebf59e8f",
   "metadata": {},
   "outputs": [
    {
     "data": {
      "text/plain": [
       "7"
      ]
     },
     "execution_count": 7,
     "metadata": {},
     "output_type": "execute_result"
    }
   ],
   "source": [
    "add"
   ]
  },
  {
   "cell_type": "code",
   "execution_count": 8,
   "id": "b2531232",
   "metadata": {},
   "outputs": [
    {
     "data": {
      "text/plain": [
       "28"
      ]
     },
     "execution_count": 8,
     "metadata": {},
     "output_type": "execute_result"
    }
   ],
   "source": [
    "start"
   ]
  },
  {
   "cell_type": "code",
   "execution_count": 9,
   "id": "c80abe5d",
   "metadata": {},
   "outputs": [
    {
     "data": {
      "text/plain": [
       "28"
      ]
     },
     "execution_count": 9,
     "metadata": {},
     "output_type": "execute_result"
    }
   ],
   "source": [
    "p"
   ]
  },
  {
   "cell_type": "code",
   "execution_count": 11,
   "id": "74ae6b95",
   "metadata": {},
   "outputs": [
    {
     "name": "stdout",
     "output_type": "stream",
     "text": [
      "1  \n",
      "2 3  \n",
      "5 7 9  \n",
      "12 15 18 21  \n",
      "25 29 33 37 41  \n"
     ]
    }
   ],
   "source": [
    "start = 0\n",
    "add = 1\n",
    "for i in range(1, 6):\n",
    "    for j in range(i):\n",
    "        start = start + add\n",
    "        print(start, end=' ')\n",
    "        start-=1\n",
    "    add = add + 1\n",
    "    print(\" \")\n"
   ]
  },
  {
   "cell_type": "code",
   "execution_count": 12,
   "id": "e3af40af",
   "metadata": {},
   "outputs": [
    {
     "name": "stdout",
     "output_type": "stream",
     "text": [
      "1 \n",
      "3 2 \n",
      "6 5 4 \n",
      "10 9 8 7 \n"
     ]
    }
   ],
   "source": [
    "start=1\n",
    "stop=2\n",
    "current_num = stop #2\n",
    "\n",
    "for i in range(2, 6): #2,3,4,5\n",
    "    for j in range(start, stop): #range(1,2), range(2,4) range(4,7),range(7, 11)\n",
    "        current_num -=1\n",
    "        print(current_num, end=' ')\n",
    "    print()\n",
    "    start = stop        #2, 4, 7\n",
    "    stop += i           #2+2=4, 4+3=7, 7+4=11\n",
    "    current_num = stop  # 4, 7, 11"
   ]
  },
  {
   "cell_type": "code",
   "execution_count": null,
   "id": "0ea83af5",
   "metadata": {},
   "outputs": [],
   "source": [
    "'''\n",
    "        1\n",
    "      1 2\n",
    "    1 2 3\n",
    "  1 2 3 4\n",
    "1 2 3 4 5\n",
    "\n",
    "'''"
   ]
  },
  {
   "cell_type": "code",
   "execution_count": 16,
   "id": "8494fef5",
   "metadata": {},
   "outputs": [
    {
     "name": "stdout",
     "output_type": "stream",
     "text": [
      "1  \n",
      "1 2  \n",
      "1 2 3  \n",
      "1 2 3 4  \n",
      "1 2 3 4 5  \n"
     ]
    }
   ],
   "source": [
    "for i in range(1, 6):\n",
    "    for j in range(i):\n",
    "        print(j+1, end=\" \")\n",
    "    print(\" \")"
   ]
  },
  {
   "cell_type": "code",
   "execution_count": null,
   "id": "789f136d",
   "metadata": {},
   "outputs": [],
   "source": []
  },
  {
   "cell_type": "code",
   "execution_count": 18,
   "id": "93c018b4",
   "metadata": {},
   "outputs": [
    {
     "name": "stdout",
     "output_type": "stream",
     "text": [
      "        1 \n",
      "      1 2 \n",
      "    1 2 3 \n",
      "  1 2 3 4 \n",
      "1 2 3 4 5 \n"
     ]
    }
   ],
   "source": [
    "for i in range(1, 6): #1, 2, 3, 4, 5\n",
    "    num=1\n",
    "    for j in range(5, 0, -1):\n",
    "        if j > i: #5, 4, 3, 2, 1\n",
    "            print(' ', end=' ')\n",
    "        else:\n",
    "            print(num, end=' ')\n",
    "            num +=1\n",
    "    print('')"
   ]
  },
  {
   "cell_type": "code",
   "execution_count": null,
   "id": "fceda5f4",
   "metadata": {},
   "outputs": [],
   "source": [
    "'''\n",
    "\n",
    "* * * * *\n",
    "* * * *\n",
    "* * *\n",
    "* *\n",
    "*\n",
    "\n",
    "\n",
    "'''"
   ]
  },
  {
   "cell_type": "code",
   "execution_count": null,
   "id": "6527499a",
   "metadata": {},
   "outputs": [],
   "source": [
    "for i in range():\n",
    "    for j in range():\n",
    "        print( ,end=' ')\n",
    "    print('')"
   ]
  },
  {
   "cell_type": "code",
   "execution_count": null,
   "id": "baa940e4",
   "metadata": {},
   "outputs": [],
   "source": [
    "#yashwanth\n",
    "for i in range(5,0,-1):   \n",
    "    for j in range(1,i+1):                                       \n",
    "        print('*',end=\" \")\n",
    "        i-=1\n",
    "    print(\" \")"
   ]
  },
  {
   "cell_type": "code",
   "execution_count": null,
   "id": "23169383",
   "metadata": {},
   "outputs": [],
   "source": [
    "for i in range(5, 0, -1):\n",
    "    for j in range(i, 0, -1):\n",
    "        print('*',end=\" \")\n",
    "    print(\" \")"
   ]
  },
  {
   "cell_type": "code",
   "execution_count": null,
   "id": "5266ba48",
   "metadata": {},
   "outputs": [],
   "source": [
    "a='abcd@gmail.com'"
   ]
  },
  {
   "cell_type": "code",
   "execution_count": null,
   "id": "e627372f",
   "metadata": {},
   "outputs": [],
   "source": [
    "for i in a:\n",
    "    if i=='@':\n",
    "        break\n",
    "    print(i,end='')\n",
    "   \n",
    "    "
   ]
  },
  {
   "cell_type": "code",
   "execution_count": null,
   "id": "ada497ab",
   "metadata": {},
   "outputs": [],
   "source": []
  },
  {
   "cell_type": "code",
   "execution_count": null,
   "id": "9a0c72cb",
   "metadata": {},
   "outputs": [],
   "source": []
  },
  {
   "cell_type": "markdown",
   "id": "aa71cfba",
   "metadata": {},
   "source": [
    "# Break, Continue and Pass"
   ]
  },
  {
   "cell_type": "code",
   "execution_count": null,
   "id": "6f66d3d8",
   "metadata": {},
   "outputs": [],
   "source": [
    "# WAP to find if there is a number divisible by 13 between 1 to 50. if any one value is divisble by 13 \n",
    "# you will get the prize modey. "
   ]
  },
  {
   "cell_type": "code",
   "execution_count": 24,
   "id": "7f94a6fb",
   "metadata": {},
   "outputs": [
    {
     "name": "stdout",
     "output_type": "stream",
     "text": [
      "The number which is divisible by 13 is  13\n"
     ]
    }
   ],
   "source": [
    "for i in range(1, 51):\n",
    "    if i % 13 == 0: \n",
    "        print(\"The number which is divisible by 13 is \", i)\n",
    "        break\n"
   ]
  },
  {
   "cell_type": "code",
   "execution_count": null,
   "id": "d49e1e6f",
   "metadata": {},
   "outputs": [],
   "source": []
  },
  {
   "cell_type": "code",
   "execution_count": null,
   "id": "8458e0f9",
   "metadata": {},
   "outputs": [],
   "source": []
  },
  {
   "cell_type": "code",
   "execution_count": null,
   "id": "0ed42539",
   "metadata": {},
   "outputs": [],
   "source": [
    "'''\n",
    "WAP to take the email id as the input from the user and print only the USERNAME from the mail ID.\n",
    "\n",
    "I/P: xyz123@gmail.com\n",
    "\n",
    "O/P: xyz123\n",
    "     gmail.com\n",
    "\n",
    "\n",
    "\n",
    "\n",
    "'''"
   ]
  },
  {
   "cell_type": "code",
   "execution_count": null,
   "id": "077b468f",
   "metadata": {},
   "outputs": [],
   "source": [
    "x=str(input('Enter the email ID:'))\n",
    "\n",
    "for i in x:\n",
    "    if i == '@':\n",
    "        break\n",
    "    print(i, end='')\n",
    "    \n",
    "#print('For loop terminated')"
   ]
  },
  {
   "cell_type": "code",
   "execution_count": 28,
   "id": "7155526b",
   "metadata": {},
   "outputs": [
    {
     "name": "stdout",
     "output_type": "stream",
     "text": [
      "Enter the email ID:xyz@gmail.com\n",
      "xyz\n",
      "@gmail.com"
     ]
    }
   ],
   "source": [
    "x=str(input('Enter the email ID:'))\n",
    "\n",
    "for i in x:\n",
    "    if i == '@':\n",
    "        print('')\n",
    "        \n",
    "    print(i, end='')"
   ]
  },
  {
   "cell_type": "code",
   "execution_count": 27,
   "id": "66035bad",
   "metadata": {},
   "outputs": [
    {
     "name": "stdout",
     "output_type": "stream",
     "text": [
      "Enter the email ID:xyz@gmail.com\n",
      "xyz\n",
      "gmail.com"
     ]
    }
   ],
   "source": [
    "x=str(input('Enter the email ID:'))\n",
    "\n",
    "for i in x:\n",
    "    if i == '@':\n",
    "        print('')\n",
    "        continue\n",
    "    print(i, end='')"
   ]
  },
  {
   "cell_type": "code",
   "execution_count": 30,
   "id": "f36820f4",
   "metadata": {},
   "outputs": [
    {
     "name": "stdout",
     "output_type": "stream",
     "text": [
      "10\n",
      "20\n",
      "30\n",
      "40\n",
      "5 is divisible by 5\n",
      "60\n",
      "70\n",
      "80\n",
      "90\n",
      "10 is divisible by 5\n",
      "110\n",
      "120\n",
      "130\n",
      "140\n",
      "15 is divisible by 5\n",
      "160\n",
      "170\n",
      "180\n",
      "190\n",
      "20 is divisible by 5\n"
     ]
    }
   ],
   "source": [
    "#if a number is divisble by 5 then print it otherwise multiply it with 10\n",
    "for i in range(1,21):\n",
    "    if i%5==0:\n",
    "        print(i, \"is divisible by 5\")\n",
    "        continue\n",
    "    \n",
    "    print(i * 10 )"
   ]
  },
  {
   "cell_type": "code",
   "execution_count": null,
   "id": "791a1e28",
   "metadata": {},
   "outputs": [],
   "source": []
  },
  {
   "cell_type": "code",
   "execution_count": null,
   "id": "e61c9c78",
   "metadata": {},
   "outputs": [],
   "source": []
  },
  {
   "cell_type": "code",
   "execution_count": null,
   "id": "e97c03d9",
   "metadata": {},
   "outputs": [],
   "source": []
  },
  {
   "cell_type": "code",
   "execution_count": null,
   "id": "63ba4912",
   "metadata": {},
   "outputs": [],
   "source": []
  },
  {
   "cell_type": "code",
   "execution_count": 35,
   "id": "87a1e383",
   "metadata": {},
   "outputs": [
    {
     "name": "stdout",
     "output_type": "stream",
     "text": [
      "0\n",
      "3\n",
      "6\n",
      "9\n"
     ]
    }
   ],
   "source": [
    "for x in range(11):\n",
    "    if (x%3==0):\n",
    "        print(x)\n",
    "    else:\n",
    "        pass\n",
    "        #print(x, 'Hello')\n",
    "        "
   ]
  },
  {
   "cell_type": "code",
   "execution_count": null,
   "id": "74483786",
   "metadata": {},
   "outputs": [],
   "source": [
    "x=str(input())\n",
    "\n",
    "for i in x:\n",
    "    if i == '@':\n",
    "        #print(i)\n",
    "        break\n",
    "    else:\n",
    "        print(i, end='')\n",
    "        #pass\n",
    "    \n",
    "#print('Done')"
   ]
  },
  {
   "cell_type": "code",
   "execution_count": null,
   "id": "8ce47e56",
   "metadata": {},
   "outputs": [],
   "source": [
    "'''\n",
    "\n",
    "WAP Take the input of NAME from the user and find the first name and last name of the user. \n",
    "\n",
    "i/p: Steve Jobs\n",
    "\n",
    "output: Steve\n",
    "        Jobs\n",
    "        \n",
    "\n",
    "\n",
    "\n",
    "\n",
    "\n",
    "\n",
    "'''"
   ]
  },
  {
   "cell_type": "code",
   "execution_count": null,
   "id": "e6d552f0",
   "metadata": {},
   "outputs": [],
   "source": [
    "# This is the final one but without usage of continue\n",
    "x=str(input('Enter your full name'))\n",
    "for i in x:\n",
    "    if(i==' '):\n",
    "        print(' ')\n",
    "    else:\n",
    "        print(i,end='')\n"
   ]
  },
  {
   "cell_type": "code",
   "execution_count": null,
   "id": "9da8c751",
   "metadata": {},
   "outputs": [],
   "source": [
    "Name=str(input())\n",
    "for i in Name:\n",
    "    if i==' ':\n",
    "        print('')\n",
    "        break\n",
    "    print(i, end='')\n",
    "\n"
   ]
  },
  {
   "cell_type": "code",
   "execution_count": null,
   "id": "a943efcf",
   "metadata": {},
   "outputs": [],
   "source": []
  },
  {
   "cell_type": "code",
   "execution_count": null,
   "id": "b74ffe69",
   "metadata": {},
   "outputs": [],
   "source": []
  },
  {
   "cell_type": "code",
   "execution_count": null,
   "id": "346c01c3",
   "metadata": {},
   "outputs": [],
   "source": []
  },
  {
   "cell_type": "code",
   "execution_count": null,
   "id": "f3430f2d",
   "metadata": {},
   "outputs": [],
   "source": []
  },
  {
   "cell_type": "code",
   "execution_count": null,
   "id": "ffcab3c2",
   "metadata": {},
   "outputs": [],
   "source": []
  }
 ],
 "metadata": {
  "kernelspec": {
   "display_name": "Python 3 (ipykernel)",
   "language": "python",
   "name": "python3"
  },
  "language_info": {
   "codemirror_mode": {
    "name": "ipython",
    "version": 3
   },
   "file_extension": ".py",
   "mimetype": "text/x-python",
   "name": "python",
   "nbconvert_exporter": "python",
   "pygments_lexer": "ipython3",
   "version": "3.10.9"
  }
 },
 "nbformat": 4,
 "nbformat_minor": 5
}
