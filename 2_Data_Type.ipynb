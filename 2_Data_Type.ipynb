{
 "cells": [
  {
   "cell_type": "markdown",
   "id": "141f52ed",
   "metadata": {},
   "source": [
    "# Data Type"
   ]
  },
  {
   "cell_type": "code",
   "execution_count": null,
   "id": "69ea0ecd",
   "metadata": {},
   "outputs": [],
   "source": [
    "'''\n",
    "Data types:\n",
    "\n",
    "1) int (Integer) : Integer numbers +ve as well as -ve and 0 eg; x=4, x=6\n",
    "\n",
    "2) float (Decimal numbers): when the value is any real number and it always have decimal part\n",
    "\n",
    "3) string (set of alpha numeric characters in \" \" or '') mathematical operations are not allowed\n",
    "\n",
    "There are some more data type like list, dictionary, tuple, set, array, dataframe which we will learn later\n",
    "'''"
   ]
  },
  {
   "cell_type": "code",
   "execution_count": null,
   "id": "c74e7329",
   "metadata": {},
   "outputs": [],
   "source": [
    "x=5\n",
    "x"
   ]
  },
  {
   "cell_type": "markdown",
   "id": "040ac503",
   "metadata": {},
   "source": [
    "\"type\" function in python is used for checking the data type of the variable"
   ]
  },
  {
   "cell_type": "code",
   "execution_count": null,
   "id": "04f52ba4",
   "metadata": {},
   "outputs": [],
   "source": [
    "type(x)"
   ]
  },
  {
   "cell_type": "code",
   "execution_count": null,
   "id": "bf070d6f",
   "metadata": {},
   "outputs": [],
   "source": [
    "y=-10.5\n",
    "y"
   ]
  },
  {
   "cell_type": "code",
   "execution_count": null,
   "id": "22a3ac72",
   "metadata": {},
   "outputs": [],
   "source": [
    "type(y)"
   ]
  },
  {
   "cell_type": "code",
   "execution_count": null,
   "id": "b35494f8",
   "metadata": {},
   "outputs": [],
   "source": [
    "z=50.0\n",
    "type(z)"
   ]
  },
  {
   "cell_type": "code",
   "execution_count": null,
   "id": "8ab7a682",
   "metadata": {},
   "outputs": [],
   "source": [
    "m=50\n",
    "type(m)"
   ]
  },
  {
   "cell_type": "code",
   "execution_count": null,
   "id": "cfe20fdd",
   "metadata": {},
   "outputs": [],
   "source": [
    "a=\"Hello\"\n",
    "a"
   ]
  },
  {
   "cell_type": "code",
   "execution_count": null,
   "id": "d1b61b01",
   "metadata": {},
   "outputs": [],
   "source": [
    "b='Good Day.'\n",
    "b"
   ]
  },
  {
   "cell_type": "code",
   "execution_count": null,
   "id": "c42c6c84",
   "metadata": {},
   "outputs": [],
   "source": [
    "type(a)"
   ]
  },
  {
   "cell_type": "code",
   "execution_count": null,
   "id": "71820b60",
   "metadata": {},
   "outputs": [],
   "source": [
    "c=\"There are 7 days in the week.\"\n",
    "c"
   ]
  },
  {
   "cell_type": "code",
   "execution_count": null,
   "id": "26e6dc1d",
   "metadata": {},
   "outputs": [],
   "source": [
    "print(c)"
   ]
  },
  {
   "cell_type": "code",
   "execution_count": null,
   "id": "e4790531",
   "metadata": {},
   "outputs": [],
   "source": [
    "m=5\n",
    "n=\"5\""
   ]
  },
  {
   "cell_type": "code",
   "execution_count": null,
   "id": "e57b8be0",
   "metadata": {},
   "outputs": [],
   "source": [
    "type(m)"
   ]
  },
  {
   "cell_type": "code",
   "execution_count": null,
   "id": "f471b237",
   "metadata": {},
   "outputs": [],
   "source": [
    "type(n)"
   ]
  },
  {
   "cell_type": "code",
   "execution_count": null,
   "id": "45c485d3",
   "metadata": {},
   "outputs": [],
   "source": [
    "m+5"
   ]
  },
  {
   "cell_type": "code",
   "execution_count": null,
   "id": "1dc72095",
   "metadata": {},
   "outputs": [],
   "source": [
    "n-\"5\""
   ]
  },
  {
   "cell_type": "code",
   "execution_count": null,
   "id": "3418f655",
   "metadata": {},
   "outputs": [],
   "source": []
  },
  {
   "cell_type": "code",
   "execution_count": null,
   "id": "c8262276",
   "metadata": {},
   "outputs": [],
   "source": [
    "y=5\n",
    "type(y)"
   ]
  },
  {
   "cell_type": "code",
   "execution_count": null,
   "id": "a665f850",
   "metadata": {},
   "outputs": [],
   "source": [
    "m=\"5\""
   ]
  },
  {
   "cell_type": "code",
   "execution_count": null,
   "id": "85a90abc",
   "metadata": {},
   "outputs": [],
   "source": [
    "m"
   ]
  },
  {
   "cell_type": "code",
   "execution_count": null,
   "id": "4542abfb",
   "metadata": {},
   "outputs": [],
   "source": [
    "print(m)"
   ]
  },
  {
   "cell_type": "code",
   "execution_count": null,
   "id": "6c59a6b0",
   "metadata": {},
   "outputs": [],
   "source": [
    "n+10"
   ]
  },
  {
   "cell_type": "code",
   "execution_count": null,
   "id": "3412fdbe",
   "metadata": {},
   "outputs": [],
   "source": [
    "m+10"
   ]
  },
  {
   "cell_type": "code",
   "execution_count": null,
   "id": "30951849",
   "metadata": {},
   "outputs": [],
   "source": [
    "type(m)"
   ]
  },
  {
   "cell_type": "code",
   "execution_count": null,
   "id": "c10384d9",
   "metadata": {},
   "outputs": [],
   "source": [
    "n=5"
   ]
  },
  {
   "cell_type": "code",
   "execution_count": null,
   "id": "4954cec6",
   "metadata": {},
   "outputs": [],
   "source": [
    "n"
   ]
  },
  {
   "cell_type": "code",
   "execution_count": null,
   "id": "f9a9766c",
   "metadata": {},
   "outputs": [],
   "source": []
  },
  {
   "cell_type": "code",
   "execution_count": null,
   "id": "c741e1ca",
   "metadata": {},
   "outputs": [],
   "source": [
    "x=\"great\""
   ]
  },
  {
   "cell_type": "code",
   "execution_count": null,
   "id": "237acc81",
   "metadata": {},
   "outputs": [],
   "source": [
    "y='day'"
   ]
  },
  {
   "cell_type": "code",
   "execution_count": null,
   "id": "1bd61d52",
   "metadata": {},
   "outputs": [],
   "source": [
    "x"
   ]
  },
  {
   "cell_type": "code",
   "execution_count": null,
   "id": "fbbdb034",
   "metadata": {},
   "outputs": [],
   "source": [
    "y"
   ]
  },
  {
   "cell_type": "code",
   "execution_count": null,
   "id": "7c8dc84b",
   "metadata": {},
   "outputs": [],
   "source": [
    "type(x)"
   ]
  },
  {
   "cell_type": "code",
   "execution_count": null,
   "id": "e7517e57",
   "metadata": {},
   "outputs": [],
   "source": []
  },
  {
   "cell_type": "code",
   "execution_count": null,
   "id": "becb0186",
   "metadata": {},
   "outputs": [],
   "source": []
  },
  {
   "cell_type": "code",
   "execution_count": null,
   "id": "e0881710",
   "metadata": {},
   "outputs": [],
   "source": [
    "print(y)"
   ]
  },
  {
   "cell_type": "code",
   "execution_count": null,
   "id": "b07fbc55",
   "metadata": {},
   "outputs": [],
   "source": [
    "m=5\n",
    "n='5'"
   ]
  },
  {
   "cell_type": "code",
   "execution_count": null,
   "id": "7fe1c2ec",
   "metadata": {},
   "outputs": [],
   "source": [
    "m/2"
   ]
  },
  {
   "cell_type": "code",
   "execution_count": null,
   "id": "dd620b5e",
   "metadata": {},
   "outputs": [],
   "source": [
    "n/2"
   ]
  },
  {
   "cell_type": "code",
   "execution_count": null,
   "id": "aee496a0",
   "metadata": {},
   "outputs": [],
   "source": [
    "type(m)"
   ]
  },
  {
   "cell_type": "code",
   "execution_count": null,
   "id": "ca71c1cd",
   "metadata": {},
   "outputs": [],
   "source": [
    "type(n)"
   ]
  },
  {
   "cell_type": "code",
   "execution_count": null,
   "id": "ccba72bd",
   "metadata": {},
   "outputs": [],
   "source": [
    "m"
   ]
  },
  {
   "cell_type": "code",
   "execution_count": null,
   "id": "3278a3d6",
   "metadata": {},
   "outputs": [],
   "source": [
    "n"
   ]
  },
  {
   "cell_type": "code",
   "execution_count": null,
   "id": "2723845d",
   "metadata": {},
   "outputs": [],
   "source": [
    "print(m)"
   ]
  },
  {
   "cell_type": "code",
   "execution_count": null,
   "id": "5ab3ccdf",
   "metadata": {},
   "outputs": [],
   "source": [
    "print(n)"
   ]
  },
  {
   "cell_type": "code",
   "execution_count": null,
   "id": "20ec3b04",
   "metadata": {},
   "outputs": [],
   "source": []
  },
  {
   "cell_type": "code",
   "execution_count": null,
   "id": "59451c07",
   "metadata": {},
   "outputs": [],
   "source": []
  },
  {
   "cell_type": "code",
   "execution_count": null,
   "id": "bd0a80bc",
   "metadata": {},
   "outputs": [],
   "source": [
    "x"
   ]
  },
  {
   "cell_type": "code",
   "execution_count": null,
   "id": "6e40c673",
   "metadata": {},
   "outputs": [],
   "source": [
    "y"
   ]
  },
  {
   "cell_type": "code",
   "execution_count": null,
   "id": "19f85af9",
   "metadata": {},
   "outputs": [],
   "source": [
    "x=4"
   ]
  },
  {
   "cell_type": "code",
   "execution_count": null,
   "id": "57b4ea88",
   "metadata": {},
   "outputs": [],
   "source": [
    "type(x)"
   ]
  },
  {
   "cell_type": "code",
   "execution_count": null,
   "id": "2b235c73",
   "metadata": {},
   "outputs": [],
   "source": [
    "y=5.5554514919"
   ]
  },
  {
   "cell_type": "code",
   "execution_count": null,
   "id": "98b02a17",
   "metadata": {},
   "outputs": [],
   "source": [
    "type(y)"
   ]
  },
  {
   "cell_type": "code",
   "execution_count": null,
   "id": "2bcbe039",
   "metadata": {},
   "outputs": [],
   "source": [
    "x='hello' #string"
   ]
  },
  {
   "cell_type": "code",
   "execution_count": null,
   "id": "5ab712e7",
   "metadata": {},
   "outputs": [],
   "source": [
    "x"
   ]
  },
  {
   "cell_type": "code",
   "execution_count": null,
   "id": "4fc5cfd1",
   "metadata": {},
   "outputs": [],
   "source": [
    "print(x)"
   ]
  },
  {
   "cell_type": "code",
   "execution_count": null,
   "id": "518a76dd",
   "metadata": {},
   "outputs": [],
   "source": [
    "type(x)"
   ]
  },
  {
   "cell_type": "code",
   "execution_count": null,
   "id": "4e58cb50",
   "metadata": {},
   "outputs": [],
   "source": [
    "y=4 #int"
   ]
  },
  {
   "cell_type": "code",
   "execution_count": null,
   "id": "597d377f",
   "metadata": {},
   "outputs": [],
   "source": [
    "z=3.14 #float"
   ]
  },
  {
   "cell_type": "code",
   "execution_count": null,
   "id": "7b768612",
   "metadata": {},
   "outputs": [],
   "source": [
    "type(z)"
   ]
  },
  {
   "cell_type": "code",
   "execution_count": null,
   "id": "918be62f",
   "metadata": {},
   "outputs": [],
   "source": [
    "john_salary=5000"
   ]
  },
  {
   "cell_type": "code",
   "execution_count": null,
   "id": "7932b81c",
   "metadata": {},
   "outputs": [],
   "source": [
    "# print(f'The family total savings is {(j1+j2)-(r+f+e)}')\n"
   ]
  },
  {
   "cell_type": "code",
   "execution_count": null,
   "id": "0d7f5d32",
   "metadata": {},
   "outputs": [],
   "source": [
    "print('Salary of John is :', john)"
   ]
  },
  {
   "cell_type": "code",
   "execution_count": null,
   "id": "ae7f035d",
   "metadata": {},
   "outputs": [],
   "source": [
    "'''\n",
    "John and Jacob are brothers. John's salary is 5000 and Jacob's salary is 8000. Rent cost of the family is 600 and food\n",
    "expenditure is 1200 other expenses are 1000. \n",
    "\n",
    "Print the following.\n",
    "1: John's salary\n",
    "2: Jacob's Salary\n",
    "3: Family's income\n",
    "4: total rent and food cost\n",
    "5: family's total savings.\n",
    "\n",
    "\n",
    "'''"
   ]
  },
  {
   "cell_type": "code",
   "execution_count": null,
   "id": "82c7abc0",
   "metadata": {},
   "outputs": [],
   "source": [
    "Johns_salary = 5000\n",
    "Jacob_salary = 8000\n",
    "Rent_cost = 600\n",
    "Food_cost = 1200\n",
    "other_expenses = 1000\n"
   ]
  },
  {
   "cell_type": "code",
   "execution_count": null,
   "id": "65a9b094",
   "metadata": {},
   "outputs": [],
   "source": [
    "Family_income=Johns_salary+Jacob_salary\n",
    "total_rent_food=Rent_cost+Food_cost\n",
    "Total_saving = Family_income - total_rent_food - other_expenses"
   ]
  },
  {
   "cell_type": "code",
   "execution_count": null,
   "id": "999f5413",
   "metadata": {},
   "outputs": [],
   "source": [
    "print(\"Jhon's salary\",Johns_salary)\n",
    "print(\"Jacob's Salary\", Jacob_salary)\n",
    "print(\"Family income\", Family_income)\n",
    "print(\"total rent and food cost\", total_rent_food)\n",
    "print(\"Total Savings\",Total_saving)"
   ]
  },
  {
   "cell_type": "code",
   "execution_count": null,
   "id": "e01a9c43",
   "metadata": {},
   "outputs": [],
   "source": []
  },
  {
   "cell_type": "code",
   "execution_count": null,
   "id": "555be9bf",
   "metadata": {},
   "outputs": [],
   "source": []
  },
  {
   "cell_type": "code",
   "execution_count": null,
   "id": "f3071dd1",
   "metadata": {},
   "outputs": [],
   "source": [
    "joho_salary=5000\n",
    "jacob_salary=8000\n",
    "rent_cost_family=600\n",
    "food_expenditure=1200\n",
    "other_expenses=1200\n",
    "\n",
    "fmaily_income=joho_salary+jacob_salary\n",
    "total_rent_and_food=rent_cost_family+food_expenditure\n",
    "family_total_saving=fmaily_income-total_rent_and_food-other_expenses\n"
   ]
  },
  {
   "cell_type": "code",
   "execution_count": null,
   "id": "cf1d972c",
   "metadata": {},
   "outputs": [],
   "source": [
    "print(joho_salary)\n",
    "print(jacob_salary)\n",
    "print(fmaily_income)\n"
   ]
  },
  {
   "cell_type": "code",
   "execution_count": null,
   "id": "683bcef7",
   "metadata": {},
   "outputs": [],
   "source": [
    "print(f\"the family total saving is {family_total_saving}, jhon's salary is {j}\")\n"
   ]
  },
  {
   "cell_type": "code",
   "execution_count": null,
   "id": "8933b087",
   "metadata": {},
   "outputs": [],
   "source": [
    "Family_income = Johns_salary+Jacob_salary\n",
    "total = Rent_cost + Food_cost\n",
    "Total_Ex = total + other_expenses\n",
    "Total_saving = Family_income - Total_Ex"
   ]
  },
  {
   "cell_type": "code",
   "execution_count": null,
   "id": "c3ccb668",
   "metadata": {},
   "outputs": [],
   "source": [
    "print(\"Jhon's salary\",Johns_salary)\n",
    "print(\"Jacob's Salary\", Jacob_salary)\n",
    "print(\"Family income\", Family_income)\n",
    "print(\"total rent and food cost\", total)\n",
    "print(\"Total Savings\",Total_saving)"
   ]
  },
  {
   "cell_type": "code",
   "execution_count": null,
   "id": "8fa5f58c",
   "metadata": {},
   "outputs": [],
   "source": [
    "print(\"Jhon's salary\",Johns_salary)\n",
    "print(\"Jacob's Salary\", Jacob_salary)\n",
    "\n",
    "Family_income = Johns_salary+Jacob_salary\n",
    "print(\"Family income\", Family_income)\n",
    "\n",
    "total = Rent_cost + Food_cost\n",
    "print(\"total rent and food cost\", total)\n",
    "\n",
    "Total_Ex = total + other_expenses\n",
    "Total_saving = Family_income - Total_Ex\n",
    "print(\"Total Savings\",Total_saving)\n"
   ]
  },
  {
   "cell_type": "markdown",
   "id": "1ab6ca42",
   "metadata": {},
   "source": [
    "# Type Casting"
   ]
  },
  {
   "cell_type": "code",
   "execution_count": null,
   "id": "1005aeb9",
   "metadata": {},
   "outputs": [],
   "source": [
    "x=5\n",
    "y=7.5\n",
    "z='Hello'\n"
   ]
  },
  {
   "cell_type": "code",
   "execution_count": null,
   "id": "eedb3ee8",
   "metadata": {},
   "outputs": [],
   "source": [
    "type(x)"
   ]
  },
  {
   "cell_type": "code",
   "execution_count": null,
   "id": "cc837dfa",
   "metadata": {},
   "outputs": [],
   "source": [
    "type(y)"
   ]
  },
  {
   "cell_type": "code",
   "execution_count": null,
   "id": "c9186ed8",
   "metadata": {},
   "outputs": [],
   "source": [
    "type(z)"
   ]
  },
  {
   "cell_type": "code",
   "execution_count": null,
   "id": "ea732c6c",
   "metadata": {},
   "outputs": [],
   "source": [
    "# from int to float\n",
    "\n",
    "a=10\n"
   ]
  },
  {
   "cell_type": "code",
   "execution_count": null,
   "id": "d6611d3d",
   "metadata": {},
   "outputs": [],
   "source": [
    "a"
   ]
  },
  {
   "cell_type": "code",
   "execution_count": null,
   "id": "5bacc9e0",
   "metadata": {},
   "outputs": [],
   "source": [
    "type(a)"
   ]
  },
  {
   "cell_type": "code",
   "execution_count": null,
   "id": "4c3d8fd8",
   "metadata": {},
   "outputs": [],
   "source": [
    "b = float(a)"
   ]
  },
  {
   "cell_type": "code",
   "execution_count": null,
   "id": "db86c882",
   "metadata": {},
   "outputs": [],
   "source": [
    "b"
   ]
  },
  {
   "cell_type": "code",
   "execution_count": null,
   "id": "ff2742d0",
   "metadata": {},
   "outputs": [],
   "source": [
    "type(b)"
   ]
  },
  {
   "cell_type": "code",
   "execution_count": null,
   "id": "a47bf2d3",
   "metadata": {},
   "outputs": [],
   "source": [
    "# from float to int"
   ]
  },
  {
   "cell_type": "code",
   "execution_count": null,
   "id": "82ae5f73",
   "metadata": {},
   "outputs": [],
   "source": [
    "m = 5.99999"
   ]
  },
  {
   "cell_type": "code",
   "execution_count": null,
   "id": "2e23bcc6",
   "metadata": {},
   "outputs": [],
   "source": [
    "type(m)"
   ]
  },
  {
   "cell_type": "code",
   "execution_count": null,
   "id": "fa6747db",
   "metadata": {},
   "outputs": [],
   "source": [
    "n = int(m) #There is no round off"
   ]
  },
  {
   "cell_type": "code",
   "execution_count": null,
   "id": "82b5ae67",
   "metadata": {},
   "outputs": [],
   "source": [
    "n"
   ]
  },
  {
   "cell_type": "code",
   "execution_count": null,
   "id": "6f8d9c17",
   "metadata": {},
   "outputs": [],
   "source": [
    "type(n)"
   ]
  },
  {
   "cell_type": "code",
   "execution_count": null,
   "id": "54dd63e9",
   "metadata": {},
   "outputs": [],
   "source": [
    "# from float or int to str"
   ]
  },
  {
   "cell_type": "code",
   "execution_count": null,
   "id": "3d98e65f",
   "metadata": {},
   "outputs": [],
   "source": [
    "x = 7.5\n",
    "type(x)"
   ]
  },
  {
   "cell_type": "code",
   "execution_count": null,
   "id": "f91aca00",
   "metadata": {},
   "outputs": [],
   "source": []
  },
  {
   "cell_type": "code",
   "execution_count": null,
   "id": "6d746c20",
   "metadata": {},
   "outputs": [],
   "source": [
    "k = str(x)"
   ]
  },
  {
   "cell_type": "code",
   "execution_count": null,
   "id": "11ab3c73",
   "metadata": {},
   "outputs": [],
   "source": [
    "type(k)"
   ]
  },
  {
   "cell_type": "code",
   "execution_count": null,
   "id": "c28d70b2",
   "metadata": {},
   "outputs": [],
   "source": [
    "k"
   ]
  },
  {
   "cell_type": "code",
   "execution_count": null,
   "id": "2eb07742",
   "metadata": {},
   "outputs": [],
   "source": [
    "# from str to int"
   ]
  },
  {
   "cell_type": "code",
   "execution_count": null,
   "id": "2525b9d6",
   "metadata": {},
   "outputs": [],
   "source": [
    "x='5'\n",
    "type(x)"
   ]
  },
  {
   "cell_type": "code",
   "execution_count": null,
   "id": "d2439ac9",
   "metadata": {},
   "outputs": [],
   "source": [
    "y=int(x)\n",
    "type(y)"
   ]
  },
  {
   "cell_type": "code",
   "execution_count": null,
   "id": "cbf7db32",
   "metadata": {},
   "outputs": [],
   "source": [
    "z=float(x)\n",
    "type(z)"
   ]
  },
  {
   "cell_type": "code",
   "execution_count": null,
   "id": "7bdfd631",
   "metadata": {},
   "outputs": [],
   "source": [
    "z"
   ]
  },
  {
   "cell_type": "code",
   "execution_count": null,
   "id": "6575e561",
   "metadata": {},
   "outputs": [],
   "source": [
    "a=int(z)\n",
    "a"
   ]
  },
  {
   "cell_type": "code",
   "execution_count": null,
   "id": "2f924fd2",
   "metadata": {},
   "outputs": [],
   "source": [
    "y=int(x)\n",
    "type(y)"
   ]
  },
  {
   "cell_type": "code",
   "execution_count": null,
   "id": "8d15c636",
   "metadata": {},
   "outputs": [],
   "source": [
    "x='5'"
   ]
  },
  {
   "cell_type": "code",
   "execution_count": null,
   "id": "f9821c2f",
   "metadata": {},
   "outputs": [],
   "source": [
    "y=int(x)"
   ]
  },
  {
   "cell_type": "code",
   "execution_count": null,
   "id": "eef73c38",
   "metadata": {},
   "outputs": [],
   "source": [
    "y"
   ]
  },
  {
   "cell_type": "code",
   "execution_count": null,
   "id": "2f04b5f3",
   "metadata": {},
   "outputs": [],
   "source": [
    "x='a 5'"
   ]
  },
  {
   "cell_type": "code",
   "execution_count": null,
   "id": "f36b949b",
   "metadata": {},
   "outputs": [],
   "source": [
    "y=float(x)"
   ]
  },
  {
   "cell_type": "code",
   "execution_count": null,
   "id": "96a726a1",
   "metadata": {},
   "outputs": [],
   "source": []
  },
  {
   "cell_type": "code",
   "execution_count": null,
   "id": "7353af30",
   "metadata": {},
   "outputs": [],
   "source": []
  },
  {
   "cell_type": "code",
   "execution_count": null,
   "id": "1c7b4b95",
   "metadata": {},
   "outputs": [],
   "source": []
  },
  {
   "cell_type": "code",
   "execution_count": null,
   "id": "0302bc07",
   "metadata": {},
   "outputs": [],
   "source": []
  },
  {
   "cell_type": "code",
   "execution_count": null,
   "id": "68565b07",
   "metadata": {},
   "outputs": [],
   "source": []
  },
  {
   "cell_type": "code",
   "execution_count": null,
   "id": "0d54cb27",
   "metadata": {},
   "outputs": [],
   "source": []
  },
  {
   "cell_type": "code",
   "execution_count": null,
   "id": "25029e1e",
   "metadata": {},
   "outputs": [],
   "source": [
    "'''\n",
    "docstring\n",
    "\n",
    "\n",
    "\n",
    "'''"
   ]
  },
  {
   "cell_type": "code",
   "execution_count": null,
   "id": "19dc0197",
   "metadata": {},
   "outputs": [],
   "source": []
  },
  {
   "cell_type": "code",
   "execution_count": null,
   "id": "52208241",
   "metadata": {},
   "outputs": [],
   "source": [
    "'''\n",
    "WAP (Write a Program) to take 2 int inputs and return the sum.\n",
    "\n",
    "\n",
    "\n",
    "'''"
   ]
  },
  {
   "cell_type": "code",
   "execution_count": null,
   "id": "a8618212",
   "metadata": {},
   "outputs": [],
   "source": [
    "a=int(input(\"Enter the number\"))"
   ]
  },
  {
   "cell_type": "code",
   "execution_count": null,
   "id": "525e6259",
   "metadata": {},
   "outputs": [],
   "source": [
    "a"
   ]
  },
  {
   "cell_type": "code",
   "execution_count": null,
   "id": "b1c0ba17",
   "metadata": {},
   "outputs": [],
   "source": [
    "type(a)"
   ]
  },
  {
   "cell_type": "code",
   "execution_count": null,
   "id": "616dad8e",
   "metadata": {},
   "outputs": [],
   "source": [
    "x=int(input(\"Enter the first input :\")) #x=10\n",
    "\n",
    "y=int(input(\"Enter the second input :\")) #y=20\n",
    "\n",
    "\n",
    "z=x+y\n",
    "print(\"Output of the sum\",z)"
   ]
  },
  {
   "cell_type": "code",
   "execution_count": null,
   "id": "fa059a17",
   "metadata": {},
   "outputs": [],
   "source": [
    "x=5"
   ]
  },
  {
   "cell_type": "code",
   "execution_count": null,
   "id": "c36fc6f4",
   "metadata": {},
   "outputs": [],
   "source": [
    "y=10"
   ]
  },
  {
   "cell_type": "code",
   "execution_count": null,
   "id": "b8c1e2de",
   "metadata": {},
   "outputs": [],
   "source": [
    "x+y"
   ]
  },
  {
   "cell_type": "code",
   "execution_count": null,
   "id": "aaaf1642",
   "metadata": {},
   "outputs": [],
   "source": [
    "int(input())"
   ]
  },
  {
   "cell_type": "markdown",
   "id": "b0dbe211",
   "metadata": {},
   "source": [
    "# Taking input from user."
   ]
  },
  {
   "cell_type": "markdown",
   "id": "fe949570",
   "metadata": {},
   "source": [
    "# Syntax: < var_name = \"data_type\"(input()) >"
   ]
  },
  {
   "cell_type": "code",
   "execution_count": null,
   "id": "adadd99a",
   "metadata": {},
   "outputs": [],
   "source": [
    "'''\n",
    "input function is used for taking the input from the user at run time.\n",
    "\n",
    "'''"
   ]
  },
  {
   "cell_type": "code",
   "execution_count": null,
   "id": "8ddf9507",
   "metadata": {},
   "outputs": [],
   "source": [
    "marks=int(input(\"Enter the marks:- \"))"
   ]
  },
  {
   "cell_type": "code",
   "execution_count": null,
   "id": "4cf80c90",
   "metadata": {},
   "outputs": [],
   "source": [
    "type(marks)"
   ]
  },
  {
   "cell_type": "code",
   "execution_count": null,
   "id": "2a11961f",
   "metadata": {},
   "outputs": [],
   "source": [
    "# marks = int(input(\"Enter the marks -: \")) "
   ]
  },
  {
   "cell_type": "code",
   "execution_count": null,
   "id": "7ba9ea3e",
   "metadata": {},
   "outputs": [],
   "source": [
    "marks"
   ]
  },
  {
   "cell_type": "code",
   "execution_count": null,
   "id": "19663aab",
   "metadata": {},
   "outputs": [],
   "source": [
    "#WAP to take maths marks in variable 'maths' and physics marks in the variable 'physics' during run time.\n",
    "# and find the total marks which is sum of maths and physics marks."
   ]
  },
  {
   "cell_type": "code",
   "execution_count": null,
   "id": "2831d429",
   "metadata": {},
   "outputs": [],
   "source": [
    "math_marks=int(input(\"enter your math marks: \"))\n",
    "phy_marks=int(input(\"enter your phy marks: \"))\n",
    "total=math_marks + phy_marks\n",
    "\n",
    "total"
   ]
  },
  {
   "cell_type": "code",
   "execution_count": null,
   "id": "c17da73a",
   "metadata": {},
   "outputs": [],
   "source": []
  },
  {
   "cell_type": "code",
   "execution_count": null,
   "id": "9578f82b",
   "metadata": {},
   "outputs": [],
   "source": []
  },
  {
   "cell_type": "code",
   "execution_count": null,
   "id": "5478c848",
   "metadata": {},
   "outputs": [],
   "source": [
    "maths_marks = str(input('Enter the maths marks: '))\n",
    "phy_marks = int(input('Enter the Physics Marks: '))\n",
    "\n",
    "total=maths_marks + phy_marks\n",
    "print(\"Total marks is \", total)"
   ]
  },
  {
   "cell_type": "code",
   "execution_count": null,
   "id": "b97a977e",
   "metadata": {},
   "outputs": [],
   "source": [
    "maths_marks=input()"
   ]
  },
  {
   "cell_type": "code",
   "execution_count": null,
   "id": "9f90d856",
   "metadata": {},
   "outputs": [],
   "source": [
    "maths_marks"
   ]
  },
  {
   "cell_type": "code",
   "execution_count": null,
   "id": "03e6789e",
   "metadata": {},
   "outputs": [],
   "source": [
    "maths_marks= int(maths_marks)"
   ]
  },
  {
   "cell_type": "code",
   "execution_count": null,
   "id": "61773888",
   "metadata": {},
   "outputs": [],
   "source": [
    "maths_marks"
   ]
  },
  {
   "cell_type": "code",
   "execution_count": null,
   "id": "956c32de",
   "metadata": {},
   "outputs": [],
   "source": [
    "type(maths_marks)"
   ]
  },
  {
   "cell_type": "code",
   "execution_count": null,
   "id": "b3f8648e",
   "metadata": {},
   "outputs": [],
   "source": []
  },
  {
   "cell_type": "code",
   "execution_count": null,
   "id": "a89d2419",
   "metadata": {},
   "outputs": [],
   "source": [
    "x = input('Enter the marks: ')"
   ]
  },
  {
   "cell_type": "code",
   "execution_count": null,
   "id": "c9af385a",
   "metadata": {},
   "outputs": [],
   "source": [
    "type(x)"
   ]
  },
  {
   "cell_type": "code",
   "execution_count": null,
   "id": "6f892e98",
   "metadata": {},
   "outputs": [],
   "source": []
  },
  {
   "cell_type": "code",
   "execution_count": null,
   "id": "ea0c69f0",
   "metadata": {},
   "outputs": [],
   "source": []
  },
  {
   "cell_type": "code",
   "execution_count": null,
   "id": "fa481207",
   "metadata": {},
   "outputs": [],
   "source": []
  },
  {
   "cell_type": "code",
   "execution_count": null,
   "id": "bdb6eba0",
   "metadata": {},
   "outputs": [],
   "source": []
  },
  {
   "cell_type": "code",
   "execution_count": null,
   "id": "f02f1b7d",
   "metadata": {},
   "outputs": [],
   "source": []
  },
  {
   "cell_type": "code",
   "execution_count": null,
   "id": "55faba4d",
   "metadata": {},
   "outputs": [],
   "source": [
    "#Application of Calculator (Addition)\n",
    "\n",
    "\n",
    "first =input()"
   ]
  },
  {
   "cell_type": "code",
   "execution_count": null,
   "id": "f8245c65",
   "metadata": {},
   "outputs": [],
   "source": [
    "type(first)"
   ]
  },
  {
   "cell_type": "code",
   "execution_count": null,
   "id": "e6f83f0b",
   "metadata": {},
   "outputs": [],
   "source": [
    "first"
   ]
  },
  {
   "cell_type": "code",
   "execution_count": null,
   "id": "3c4c47bd",
   "metadata": {},
   "outputs": [],
   "source": [
    "second='hello'"
   ]
  },
  {
   "cell_type": "code",
   "execution_count": null,
   "id": "e5a5d6fb",
   "metadata": {},
   "outputs": [],
   "source": [
    "second\n"
   ]
  },
  {
   "cell_type": "code",
   "execution_count": null,
   "id": "7a2f5933",
   "metadata": {},
   "outputs": [],
   "source": [
    "Name = str(input('Enter the Name: '))\n",
    "Age = float(input('Enter the Age: '))\n",
    "Mobile = int(input('Enter the mobile number: '))"
   ]
  },
  {
   "cell_type": "code",
   "execution_count": null,
   "id": "500737e9",
   "metadata": {},
   "outputs": [],
   "source": [
    "print('Name:', Name)\n",
    "print('Age:', Age)\n",
    "print('Mobile:', Mobile)"
   ]
  },
  {
   "cell_type": "code",
   "execution_count": null,
   "id": "0cdd6588",
   "metadata": {},
   "outputs": [],
   "source": [
    "print(f'Name: {Name}')"
   ]
  },
  {
   "cell_type": "code",
   "execution_count": null,
   "id": "0874e1cd",
   "metadata": {},
   "outputs": [],
   "source": []
  },
  {
   "cell_type": "code",
   "execution_count": null,
   "id": "4896cbff",
   "metadata": {},
   "outputs": [],
   "source": [
    "int(\"15.5\")"
   ]
  },
  {
   "cell_type": "code",
   "execution_count": null,
   "id": "493abd1b",
   "metadata": {},
   "outputs": [],
   "source": [
    "age=int(float(input(\"please put your age\")))\n"
   ]
  },
  {
   "cell_type": "code",
   "execution_count": null,
   "id": "930d6ff3",
   "metadata": {},
   "outputs": [],
   "source": [
    "\n",
    "type(age)"
   ]
  },
  {
   "cell_type": "code",
   "execution_count": null,
   "id": "5acfbd64",
   "metadata": {},
   "outputs": [],
   "source": [
    "n = str(input('Please enter your name: '))"
   ]
  },
  {
   "cell_type": "code",
   "execution_count": null,
   "id": "e216090b",
   "metadata": {},
   "outputs": [],
   "source": [
    "type(n)"
   ]
  },
  {
   "cell_type": "code",
   "execution_count": null,
   "id": "170321ed",
   "metadata": {},
   "outputs": [],
   "source": [
    "print(f\"Hello {n}! How are you?\")"
   ]
  },
  {
   "cell_type": "code",
   "execution_count": null,
   "id": "d7149ee2",
   "metadata": {},
   "outputs": [],
   "source": [
    "print(\"Which place are you in?\")"
   ]
  },
  {
   "cell_type": "code",
   "execution_count": null,
   "id": "7434988a",
   "metadata": {},
   "outputs": [],
   "source": [
    "p = str(input()) #enter the location"
   ]
  },
  {
   "cell_type": "code",
   "execution_count": null,
   "id": "3e3d7c27",
   "metadata": {},
   "outputs": [],
   "source": [
    "type(p)"
   ]
  },
  {
   "cell_type": "code",
   "execution_count": null,
   "id": "4007bce3",
   "metadata": {},
   "outputs": [],
   "source": [
    "age=float(input(\"please put your age\"))\n"
   ]
  },
  {
   "cell_type": "code",
   "execution_count": null,
   "id": "e2eb98a7",
   "metadata": {},
   "outputs": [],
   "source": [
    "print(\"Hello\", n, \" How is the weather in\", p)"
   ]
  },
  {
   "cell_type": "code",
   "execution_count": null,
   "id": "a000c02f",
   "metadata": {},
   "outputs": [],
   "source": [
    "print(f'Hello {n} how is the weather in {p}')"
   ]
  },
  {
   "cell_type": "code",
   "execution_count": null,
   "id": "2894e8a2",
   "metadata": {},
   "outputs": [],
   "source": [
    "print(\"What is your age?\")"
   ]
  },
  {
   "cell_type": "code",
   "execution_count": null,
   "id": "22bd808f",
   "metadata": {},
   "outputs": [],
   "source": [
    "age=int(input())"
   ]
  },
  {
   "cell_type": "code",
   "execution_count": null,
   "id": "b3378921",
   "metadata": {},
   "outputs": [],
   "source": [
    "type(age)"
   ]
  },
  {
   "cell_type": "code",
   "execution_count": null,
   "id": "258f60da",
   "metadata": {},
   "outputs": [],
   "source": [
    "print(\"Good to know you are\", age, \"years old\")"
   ]
  },
  {
   "cell_type": "code",
   "execution_count": null,
   "id": "a7a7c27c",
   "metadata": {},
   "outputs": [],
   "source": [
    "n=str(input('Type your name:'))"
   ]
  },
  {
   "cell_type": "code",
   "execution_count": null,
   "id": "a112382f",
   "metadata": {},
   "outputs": [],
   "source": [
    "n"
   ]
  },
  {
   "cell_type": "code",
   "execution_count": null,
   "id": "1d2eb742",
   "metadata": {},
   "outputs": [],
   "source": [
    "p=str(input(\"Type your location:\"))"
   ]
  },
  {
   "cell_type": "code",
   "execution_count": null,
   "id": "0537e253",
   "metadata": {},
   "outputs": [],
   "source": [
    "p"
   ]
  },
  {
   "cell_type": "code",
   "execution_count": null,
   "id": "bd9190d2",
   "metadata": {},
   "outputs": [],
   "source": [
    "print(\"Hello\", n, \"How is the weather in\", p)"
   ]
  },
  {
   "cell_type": "code",
   "execution_count": null,
   "id": "31fb4fe8",
   "metadata": {},
   "outputs": [],
   "source": [
    "age=int(input(\"What is your age? (enter in numbers only)\"))"
   ]
  },
  {
   "cell_type": "code",
   "execution_count": null,
   "id": "27015afc",
   "metadata": {},
   "outputs": [],
   "source": [
    "abc=input()"
   ]
  },
  {
   "cell_type": "code",
   "execution_count": null,
   "id": "f1a53871",
   "metadata": {},
   "outputs": [],
   "source": [
    "type(abc)"
   ]
  },
  {
   "cell_type": "code",
   "execution_count": null,
   "id": "73428380",
   "metadata": {},
   "outputs": [],
   "source": []
  },
  {
   "cell_type": "code",
   "execution_count": null,
   "id": "304aff52",
   "metadata": {},
   "outputs": [],
   "source": []
  },
  {
   "cell_type": "code",
   "execution_count": null,
   "id": "6bdef2c9",
   "metadata": {},
   "outputs": [],
   "source": [
    "age"
   ]
  },
  {
   "cell_type": "code",
   "execution_count": null,
   "id": "a03b60ca",
   "metadata": {},
   "outputs": [],
   "source": [
    "name=\"hari\""
   ]
  },
  {
   "cell_type": "code",
   "execution_count": null,
   "id": "ef24c472",
   "metadata": {},
   "outputs": [],
   "source": [
    "name\n"
   ]
  },
  {
   "cell_type": "code",
   "execution_count": null,
   "id": "081f1262",
   "metadata": {},
   "outputs": [],
   "source": [
    "name=\"jai\"\n",
    "name"
   ]
  },
  {
   "cell_type": "code",
   "execution_count": null,
   "id": "6b6c0aef",
   "metadata": {},
   "outputs": [],
   "source": [
    "name=\"host\""
   ]
  },
  {
   "cell_type": "code",
   "execution_count": null,
   "id": "d9df63e6",
   "metadata": {},
   "outputs": [],
   "source": [
    "name"
   ]
  },
  {
   "cell_type": "code",
   "execution_count": null,
   "id": "12e307e4",
   "metadata": {},
   "outputs": [],
   "source": [
    "Name"
   ]
  },
  {
   "cell_type": "code",
   "execution_count": null,
   "id": "c28b1509",
   "metadata": {},
   "outputs": [],
   "source": [
    "age"
   ]
  },
  {
   "cell_type": "code",
   "execution_count": null,
   "id": "17537693",
   "metadata": {},
   "outputs": [],
   "source": [
    "age=30\n",
    "age"
   ]
  },
  {
   "cell_type": "code",
   "execution_count": null,
   "id": "a724652a",
   "metadata": {},
   "outputs": [],
   "source": [
    "age=40"
   ]
  },
  {
   "cell_type": "code",
   "execution_count": null,
   "id": "aa961f25",
   "metadata": {},
   "outputs": [],
   "source": [
    "age"
   ]
  },
  {
   "cell_type": "code",
   "execution_count": null,
   "id": "de836bbb",
   "metadata": {},
   "outputs": [],
   "source": [
    "age=age+1\n",
    "\n"
   ]
  },
  {
   "cell_type": "code",
   "execution_count": null,
   "id": "43bd3184",
   "metadata": {},
   "outputs": [],
   "source": [
    "age"
   ]
  },
  {
   "cell_type": "code",
   "execution_count": null,
   "id": "3133feb1",
   "metadata": {},
   "outputs": [],
   "source": [
    "age=age+1\n",
    "\n"
   ]
  },
  {
   "cell_type": "code",
   "execution_count": null,
   "id": "3c39b186",
   "metadata": {},
   "outputs": [],
   "source": [
    "age"
   ]
  },
  {
   "cell_type": "code",
   "execution_count": null,
   "id": "931fc202",
   "metadata": {},
   "outputs": [],
   "source": [
    "age=age+1\n",
    "\n",
    "#age=42+1=43"
   ]
  },
  {
   "cell_type": "code",
   "execution_count": null,
   "id": "9d95dbb4",
   "metadata": {},
   "outputs": [],
   "source": [
    "#m=str(input())\n",
    "print(\"Hello!!!\",m,\" How r u?\")\n"
   ]
  },
  {
   "cell_type": "code",
   "execution_count": null,
   "id": "47fa1839",
   "metadata": {},
   "outputs": [],
   "source": [
    "#WAP to compute the area of a circle by taking the radius as input from the user. "
   ]
  },
  {
   "cell_type": "code",
   "execution_count": null,
   "id": "cb22b513",
   "metadata": {},
   "outputs": [],
   "source": [
    "rad"
   ]
  },
  {
   "cell_type": "code",
   "execution_count": null,
   "id": "abc659e3",
   "metadata": {},
   "outputs": [],
   "source": []
  },
  {
   "cell_type": "code",
   "execution_count": null,
   "id": "9e9726b8",
   "metadata": {},
   "outputs": [],
   "source": []
  },
  {
   "cell_type": "code",
   "execution_count": null,
   "id": "437aea55",
   "metadata": {},
   "outputs": [],
   "source": []
  },
  {
   "cell_type": "code",
   "execution_count": null,
   "id": "8774b319",
   "metadata": {},
   "outputs": [],
   "source": []
  },
  {
   "cell_type": "code",
   "execution_count": null,
   "id": "9484c8a6",
   "metadata": {},
   "outputs": [],
   "source": []
  },
  {
   "cell_type": "code",
   "execution_count": null,
   "id": "bf86393c",
   "metadata": {},
   "outputs": [],
   "source": [
    "age"
   ]
  },
  {
   "cell_type": "code",
   "execution_count": null,
   "id": "1d091551",
   "metadata": {},
   "outputs": [],
   "source": [
    "#anuythokafijoasddfosdjfolfowojefiw"
   ]
  },
  {
   "cell_type": "code",
   "execution_count": null,
   "id": "1e2ca23c",
   "metadata": {},
   "outputs": [],
   "source": [
    "print(\"zarqa\")"
   ]
  },
  {
   "cell_type": "code",
   "execution_count": null,
   "id": "da510c83",
   "metadata": {},
   "outputs": [],
   "source": [
    "a=1.2\n",
    "b=2.5\n",
    "c='hello'"
   ]
  },
  {
   "cell_type": "code",
   "execution_count": null,
   "id": "5327a27d",
   "metadata": {},
   "outputs": [],
   "source": [
    "type(a)"
   ]
  },
  {
   "cell_type": "code",
   "execution_count": null,
   "id": "4afb2cae",
   "metadata": {},
   "outputs": [],
   "source": []
  },
  {
   "cell_type": "markdown",
   "id": "8cd979ef",
   "metadata": {},
   "source": [
    "# heading"
   ]
  },
  {
   "cell_type": "markdown",
   "id": "9b202cf8",
   "metadata": {},
   "source": [
    "count operation"
   ]
  },
  {
   "cell_type": "markdown",
   "id": "0b6daa6e",
   "metadata": {},
   "source": [
    "count operation increment"
   ]
  },
  {
   "cell_type": "markdown",
   "id": "13fa9f08",
   "metadata": {},
   "source": [
    "# Compute the area of circle"
   ]
  },
  {
   "cell_type": "code",
   "execution_count": null,
   "id": "09cfa204",
   "metadata": {},
   "outputs": [],
   "source": [
    "#area of circle = 3.14 * r^2"
   ]
  },
  {
   "cell_type": "code",
   "execution_count": null,
   "id": "edb2d999",
   "metadata": {},
   "outputs": [],
   "source": []
  },
  {
   "cell_type": "code",
   "execution_count": null,
   "id": "303f3b1c",
   "metadata": {},
   "outputs": [],
   "source": []
  },
  {
   "cell_type": "code",
   "execution_count": null,
   "id": "c41c76ec",
   "metadata": {},
   "outputs": [],
   "source": []
  },
  {
   "cell_type": "code",
   "execution_count": null,
   "id": "e8df12f8",
   "metadata": {},
   "outputs": [],
   "source": []
  },
  {
   "cell_type": "code",
   "execution_count": null,
   "id": "61273ed5",
   "metadata": {},
   "outputs": [],
   "source": []
  },
  {
   "cell_type": "code",
   "execution_count": null,
   "id": "7a21d3f5",
   "metadata": {},
   "outputs": [],
   "source": [
    "radius=float(input(\"Enter the radius of the circle:\"))\n",
    "area=3.14 * radius * radius\n",
    "print(\"Area of the circle =\", round(area, 2), \"sq unit\")"
   ]
  },
  {
   "cell_type": "code",
   "execution_count": null,
   "id": "e762dfa3",
   "metadata": {},
   "outputs": [],
   "source": [
    "radius"
   ]
  },
  {
   "cell_type": "code",
   "execution_count": null,
   "id": "6f332250",
   "metadata": {},
   "outputs": [],
   "source": [
    "area=3.14 * radius * radius"
   ]
  },
  {
   "cell_type": "code",
   "execution_count": null,
   "id": "7ce5d3e2",
   "metadata": {},
   "outputs": [],
   "source": [
    "print(\"Area of the circle =\", round(area, 2), \"sq unit\")"
   ]
  },
  {
   "cell_type": "code",
   "execution_count": null,
   "id": "8135c444",
   "metadata": {},
   "outputs": [],
   "source": [
    "#syntax: round(<variable>, <no. of digits req>)\n",
    "\n",
    "round(area, 1)"
   ]
  },
  {
   "cell_type": "code",
   "execution_count": null,
   "id": "727a39f6",
   "metadata": {},
   "outputs": [],
   "source": [
    "l=float(input(\"Please put l \"))\n",
    "b=float(input(\"please enter b\"))\n"
   ]
  },
  {
   "cell_type": "code",
   "execution_count": null,
   "id": "e8ddba86",
   "metadata": {},
   "outputs": [],
   "source": [
    "#area of  rectangle: l x b"
   ]
  },
  {
   "cell_type": "code",
   "execution_count": null,
   "id": "cf706d3d",
   "metadata": {},
   "outputs": [],
   "source": [
    "l=float(input(\"enter  the len: \"))\n",
    "b=float(input(\"enter the bre: \"))"
   ]
  },
  {
   "cell_type": "code",
   "execution_count": null,
   "id": "fc2bc251",
   "metadata": {},
   "outputs": [],
   "source": [
    "area_rectangle=l * b"
   ]
  },
  {
   "cell_type": "code",
   "execution_count": null,
   "id": "068806ef",
   "metadata": {},
   "outputs": [],
   "source": [
    "area_rectangle"
   ]
  },
  {
   "cell_type": "markdown",
   "id": "bc0ecda3",
   "metadata": {},
   "source": [
    "# Boolean data type"
   ]
  },
  {
   "cell_type": "code",
   "execution_count": null,
   "id": "8d9d37d1",
   "metadata": {},
   "outputs": [],
   "source": [
    "'''\n",
    "it have only two possible values: TRUE or FALSE (1, 0)\n",
    "\n",
    "'''"
   ]
  },
  {
   "cell_type": "code",
   "execution_count": null,
   "id": "e1e2a2fb",
   "metadata": {},
   "outputs": [],
   "source": [
    "'''\n",
    "> , < , >=, <=, == , !=\n",
    "\n",
    "'''"
   ]
  },
  {
   "cell_type": "code",
   "execution_count": null,
   "id": "b28be061",
   "metadata": {},
   "outputs": [],
   "source": [
    "5 < 3"
   ]
  },
  {
   "cell_type": "code",
   "execution_count": null,
   "id": "7f024877",
   "metadata": {},
   "outputs": [],
   "source": [
    "5>3"
   ]
  },
  {
   "cell_type": "code",
   "execution_count": null,
   "id": "1c62bfc4",
   "metadata": {},
   "outputs": [],
   "source": [
    "x=True"
   ]
  },
  {
   "cell_type": "code",
   "execution_count": null,
   "id": "37ec164a",
   "metadata": {},
   "outputs": [],
   "source": [
    "type(x)"
   ]
  },
  {
   "cell_type": "code",
   "execution_count": null,
   "id": "39451143",
   "metadata": {},
   "outputs": [],
   "source": [
    "y=False\n",
    "y\n"
   ]
  },
  {
   "cell_type": "code",
   "execution_count": null,
   "id": "b84c1b6f",
   "metadata": {},
   "outputs": [],
   "source": []
  },
  {
   "cell_type": "code",
   "execution_count": null,
   "id": "d953addc",
   "metadata": {},
   "outputs": [],
   "source": []
  },
  {
   "cell_type": "code",
   "execution_count": null,
   "id": "c8144e91",
   "metadata": {},
   "outputs": [],
   "source": []
  },
  {
   "cell_type": "code",
   "execution_count": null,
   "id": "a09ab949",
   "metadata": {},
   "outputs": [],
   "source": [
    "x=5 > 3"
   ]
  },
  {
   "cell_type": "code",
   "execution_count": null,
   "id": "c3a82819",
   "metadata": {},
   "outputs": [],
   "source": [
    "x"
   ]
  },
  {
   "cell_type": "code",
   "execution_count": null,
   "id": "3f41adc2",
   "metadata": {},
   "outputs": [],
   "source": [
    "type(x)"
   ]
  },
  {
   "cell_type": "code",
   "execution_count": null,
   "id": "e8b32aed",
   "metadata": {},
   "outputs": [],
   "source": [
    "10 < 20"
   ]
  },
  {
   "cell_type": "code",
   "execution_count": null,
   "id": "e5cd1c9a",
   "metadata": {},
   "outputs": [],
   "source": [
    "5 > 15"
   ]
  },
  {
   "cell_type": "code",
   "execution_count": null,
   "id": "6529ab86",
   "metadata": {},
   "outputs": [],
   "source": [
    "25 < 10"
   ]
  },
  {
   "cell_type": "code",
   "execution_count": 1,
   "id": "2e8f4c85",
   "metadata": {},
   "outputs": [],
   "source": [
    "b1=True"
   ]
  },
  {
   "cell_type": "code",
   "execution_count": 2,
   "id": "b352fa68",
   "metadata": {},
   "outputs": [
    {
     "data": {
      "text/plain": [
       "bool"
      ]
     },
     "execution_count": 2,
     "metadata": {},
     "output_type": "execute_result"
    }
   ],
   "source": [
    "type(b1)"
   ]
  },
  {
   "cell_type": "code",
   "execution_count": null,
   "id": "12feae5a",
   "metadata": {},
   "outputs": [],
   "source": [
    "b2=False"
   ]
  },
  {
   "cell_type": "code",
   "execution_count": null,
   "id": "3c5b6c75",
   "metadata": {},
   "outputs": [],
   "source": [
    "type(b2)"
   ]
  },
  {
   "cell_type": "code",
   "execution_count": 22,
   "id": "9e3b5209",
   "metadata": {},
   "outputs": [
    {
     "data": {
      "text/plain": [
       "float"
      ]
     },
     "execution_count": 22,
     "metadata": {},
     "output_type": "execute_result"
    }
   ],
   "source": [
    "a=0.0\n",
    "type(a)"
   ]
  },
  {
   "cell_type": "code",
   "execution_count": 23,
   "id": "bd373d46",
   "metadata": {},
   "outputs": [
    {
     "data": {
      "text/plain": [
       "bool"
      ]
     },
     "execution_count": 23,
     "metadata": {},
     "output_type": "execute_result"
    }
   ],
   "source": [
    "a=bool(a)\n",
    "\n",
    "type(a)"
   ]
  },
  {
   "cell_type": "code",
   "execution_count": 24,
   "id": "2cf71ee3",
   "metadata": {},
   "outputs": [
    {
     "data": {
      "text/plain": [
       "False"
      ]
     },
     "execution_count": 24,
     "metadata": {},
     "output_type": "execute_result"
    }
   ],
   "source": [
    "a"
   ]
  },
  {
   "cell_type": "code",
   "execution_count": 34,
   "id": "62722356",
   "metadata": {},
   "outputs": [
    {
     "data": {
      "text/plain": [
       "''"
      ]
     },
     "execution_count": 34,
     "metadata": {},
     "output_type": "execute_result"
    }
   ],
   "source": [
    "x=\"\"\n",
    "x"
   ]
  },
  {
   "cell_type": "code",
   "execution_count": 35,
   "id": "33eb77ea",
   "metadata": {},
   "outputs": [
    {
     "data": {
      "text/plain": [
       "False"
      ]
     },
     "execution_count": 35,
     "metadata": {},
     "output_type": "execute_result"
    }
   ],
   "source": [
    "x=bool(x)\n",
    "x"
   ]
  },
  {
   "cell_type": "code",
   "execution_count": null,
   "id": "ea1e22c1",
   "metadata": {},
   "outputs": [],
   "source": []
  },
  {
   "cell_type": "code",
   "execution_count": null,
   "id": "9829ff74",
   "metadata": {},
   "outputs": [],
   "source": []
  },
  {
   "cell_type": "code",
   "execution_count": null,
   "id": "f5b040db",
   "metadata": {},
   "outputs": [],
   "source": []
  },
  {
   "cell_type": "code",
   "execution_count": null,
   "id": "9fc16646",
   "metadata": {},
   "outputs": [],
   "source": []
  },
  {
   "cell_type": "code",
   "execution_count": null,
   "id": "0035ee02",
   "metadata": {},
   "outputs": [],
   "source": []
  },
  {
   "cell_type": "code",
   "execution_count": null,
   "id": "2ed6262e",
   "metadata": {},
   "outputs": [],
   "source": []
  },
  {
   "cell_type": "code",
   "execution_count": null,
   "id": "be18eeb4",
   "metadata": {},
   "outputs": [],
   "source": [
    "a=0.0"
   ]
  },
  {
   "cell_type": "code",
   "execution_count": null,
   "id": "3b3264a7",
   "metadata": {},
   "outputs": [],
   "source": [
    "bool(a)\n"
   ]
  },
  {
   "cell_type": "code",
   "execution_count": null,
   "id": "37d9ce53",
   "metadata": {},
   "outputs": [],
   "source": [
    "bool(10)"
   ]
  },
  {
   "cell_type": "code",
   "execution_count": null,
   "id": "22ba8d22",
   "metadata": {},
   "outputs": [],
   "source": [
    "a=bool(10) #T\n",
    "b=bool(0) #F\n",
    "c=bool(-10) #T"
   ]
  },
  {
   "cell_type": "code",
   "execution_count": null,
   "id": "2c988eb6",
   "metadata": {},
   "outputs": [],
   "source": []
  },
  {
   "cell_type": "code",
   "execution_count": null,
   "id": "7a88424a",
   "metadata": {},
   "outputs": [],
   "source": [
    "a=bool(10.5) #T\n",
    "b=bool(0.0) #F\n",
    "c=bool(-10.6) #T"
   ]
  },
  {
   "cell_type": "code",
   "execution_count": null,
   "id": "853224ee",
   "metadata": {},
   "outputs": [],
   "source": [
    "x=5\n",
    "type(x)"
   ]
  },
  {
   "cell_type": "code",
   "execution_count": null,
   "id": "f07c0f26",
   "metadata": {},
   "outputs": [],
   "source": [
    "bool(x)"
   ]
  },
  {
   "cell_type": "code",
   "execution_count": null,
   "id": "fcd97872",
   "metadata": {},
   "outputs": [],
   "source": [
    "x=input('Enter the name:')\n",
    "x=bool(x)\n"
   ]
  },
  {
   "cell_type": "code",
   "execution_count": null,
   "id": "a7ce8aaa",
   "metadata": {},
   "outputs": [],
   "source": [
    "x"
   ]
  },
  {
   "cell_type": "code",
   "execution_count": null,
   "id": "1825b051",
   "metadata": {},
   "outputs": [],
   "source": [
    "name=input('What is the name of US president? ')\n",
    "\n",
    "if name=='Joe Biden':\n",
    "    print('Correct!')\n",
    "else: \n",
    "    print('Incorrect!')"
   ]
  },
  {
   "cell_type": "code",
   "execution_count": null,
   "id": "18bac6d0",
   "metadata": {},
   "outputs": [],
   "source": []
  },
  {
   "cell_type": "code",
   "execution_count": null,
   "id": "9cf272ca",
   "metadata": {},
   "outputs": [],
   "source": []
  },
  {
   "cell_type": "code",
   "execution_count": null,
   "id": "d7518ee3",
   "metadata": {},
   "outputs": [],
   "source": [
    "x=\"0\""
   ]
  },
  {
   "cell_type": "code",
   "execution_count": null,
   "id": "b088c63f",
   "metadata": {},
   "outputs": [],
   "source": [
    "bool(x)"
   ]
  },
  {
   "cell_type": "code",
   "execution_count": null,
   "id": "ba062131",
   "metadata": {},
   "outputs": [],
   "source": [
    "type(x)"
   ]
  },
  {
   "cell_type": "code",
   "execution_count": null,
   "id": "c9b1242b",
   "metadata": {},
   "outputs": [],
   "source": [
    "bool(float(x))\n",
    "#bool(0.0)"
   ]
  },
  {
   "cell_type": "code",
   "execution_count": null,
   "id": "ec6b68a4",
   "metadata": {},
   "outputs": [],
   "source": [
    "y=float(x)"
   ]
  },
  {
   "cell_type": "code",
   "execution_count": null,
   "id": "181076a2",
   "metadata": {},
   "outputs": [],
   "source": [
    "bool(y)"
   ]
  },
  {
   "cell_type": "code",
   "execution_count": null,
   "id": "b9fd4430",
   "metadata": {},
   "outputs": [],
   "source": [
    "f"
   ]
  },
  {
   "cell_type": "code",
   "execution_count": 48,
   "id": "4aff338a",
   "metadata": {},
   "outputs": [],
   "source": [
    "a=bool(\"Indiisbddiufbewrgbwierrga\")\n",
    "b=bool(\"USA\")\n",
    "c=bool(\"10.5\")\n",
    "d=bool(\"0.0\")\n",
    "e=bool(\"\")"
   ]
  },
  {
   "cell_type": "code",
   "execution_count": 49,
   "id": "80f5ff2b",
   "metadata": {},
   "outputs": [
    {
     "data": {
      "text/plain": [
       "True"
      ]
     },
     "execution_count": 49,
     "metadata": {},
     "output_type": "execute_result"
    }
   ],
   "source": [
    "a"
   ]
  },
  {
   "cell_type": "code",
   "execution_count": 44,
   "id": "5f53f8fd",
   "metadata": {},
   "outputs": [
    {
     "data": {
      "text/plain": [
       "True"
      ]
     },
     "execution_count": 44,
     "metadata": {},
     "output_type": "execute_result"
    }
   ],
   "source": [
    "b"
   ]
  },
  {
   "cell_type": "code",
   "execution_count": 45,
   "id": "f78ffa5c",
   "metadata": {},
   "outputs": [
    {
     "data": {
      "text/plain": [
       "True"
      ]
     },
     "execution_count": 45,
     "metadata": {},
     "output_type": "execute_result"
    }
   ],
   "source": [
    "c"
   ]
  },
  {
   "cell_type": "code",
   "execution_count": 46,
   "id": "0e3f70c3",
   "metadata": {},
   "outputs": [
    {
     "data": {
      "text/plain": [
       "True"
      ]
     },
     "execution_count": 46,
     "metadata": {},
     "output_type": "execute_result"
    }
   ],
   "source": [
    "d"
   ]
  },
  {
   "cell_type": "code",
   "execution_count": 47,
   "id": "58311ffd",
   "metadata": {},
   "outputs": [
    {
     "data": {
      "text/plain": [
       "False"
      ]
     },
     "execution_count": 47,
     "metadata": {},
     "output_type": "execute_result"
    }
   ],
   "source": [
    "e"
   ]
  },
  {
   "cell_type": "markdown",
   "id": "33d18fbe",
   "metadata": {},
   "source": [
    "# Type Conversion"
   ]
  },
  {
   "cell_type": "code",
   "execution_count": null,
   "id": "886d230b",
   "metadata": {},
   "outputs": [],
   "source": [
    "'''\n",
    "In python you can convert one data type into another data type.\n",
    "\n",
    "'''"
   ]
  },
  {
   "cell_type": "code",
   "execution_count": null,
   "id": "9648c027",
   "metadata": {},
   "outputs": [],
   "source": [
    "a=3.14587\n",
    "type(a)"
   ]
  },
  {
   "cell_type": "code",
   "execution_count": null,
   "id": "6cf53338",
   "metadata": {},
   "outputs": [],
   "source": [
    "c=int(a)\n",
    "type(c)"
   ]
  },
  {
   "cell_type": "code",
   "execution_count": null,
   "id": "876fdcbd",
   "metadata": {},
   "outputs": [],
   "source": [
    "c"
   ]
  },
  {
   "cell_type": "code",
   "execution_count": null,
   "id": "73e67e65",
   "metadata": {},
   "outputs": [],
   "source": [
    "b=\"15\"\n",
    "b"
   ]
  },
  {
   "cell_type": "code",
   "execution_count": null,
   "id": "ddd67a1f",
   "metadata": {},
   "outputs": [],
   "source": [
    "type(b)"
   ]
  },
  {
   "cell_type": "code",
   "execution_count": null,
   "id": "791ec925",
   "metadata": {},
   "outputs": [],
   "source": [
    "#  str ------> int"
   ]
  },
  {
   "cell_type": "code",
   "execution_count": null,
   "id": "f3b248e8",
   "metadata": {},
   "outputs": [],
   "source": [
    "b=int(b)"
   ]
  },
  {
   "cell_type": "code",
   "execution_count": null,
   "id": "9df011e3",
   "metadata": {},
   "outputs": [],
   "source": [
    "type(c)"
   ]
  },
  {
   "cell_type": "code",
   "execution_count": null,
   "id": "3c713624",
   "metadata": {},
   "outputs": [],
   "source": [
    "c"
   ]
  },
  {
   "cell_type": "code",
   "execution_count": null,
   "id": "d8b30927",
   "metadata": {},
   "outputs": [],
   "source": [
    "# float -----> int"
   ]
  },
  {
   "cell_type": "code",
   "execution_count": null,
   "id": "697d8ab4",
   "metadata": {},
   "outputs": [],
   "source": [
    "d=10.99999\n",
    "d"
   ]
  },
  {
   "cell_type": "code",
   "execution_count": null,
   "id": "20b8d07f",
   "metadata": {},
   "outputs": [],
   "source": [
    "a=int(d)"
   ]
  },
  {
   "cell_type": "code",
   "execution_count": null,
   "id": "3ffe6bf9",
   "metadata": {},
   "outputs": [],
   "source": [
    "a"
   ]
  },
  {
   "cell_type": "code",
   "execution_count": null,
   "id": "36cc9a4b",
   "metadata": {},
   "outputs": [],
   "source": [
    "#int ------> float"
   ]
  },
  {
   "cell_type": "code",
   "execution_count": null,
   "id": "20fcb877",
   "metadata": {},
   "outputs": [],
   "source": [
    "a=5"
   ]
  },
  {
   "cell_type": "code",
   "execution_count": null,
   "id": "4fca7b86",
   "metadata": {},
   "outputs": [],
   "source": [
    "b=float(a)"
   ]
  },
  {
   "cell_type": "code",
   "execution_count": null,
   "id": "b3ab3ab2",
   "metadata": {},
   "outputs": [],
   "source": [
    "type(b)"
   ]
  },
  {
   "cell_type": "code",
   "execution_count": null,
   "id": "9e45a755",
   "metadata": {},
   "outputs": [],
   "source": [
    "b"
   ]
  },
  {
   "cell_type": "code",
   "execution_count": null,
   "id": "924d92f1",
   "metadata": {},
   "outputs": [],
   "source": [
    "c=float(b)\n",
    "#c=float(5)"
   ]
  },
  {
   "cell_type": "code",
   "execution_count": null,
   "id": "5d07359a",
   "metadata": {},
   "outputs": [],
   "source": [
    "type(a)"
   ]
  },
  {
   "cell_type": "code",
   "execution_count": null,
   "id": "676ee9dc",
   "metadata": {},
   "outputs": [],
   "source": [
    "a"
   ]
  },
  {
   "cell_type": "code",
   "execution_count": null,
   "id": "aa1967a5",
   "metadata": {},
   "outputs": [],
   "source": [
    "a=float(9.1)"
   ]
  },
  {
   "cell_type": "code",
   "execution_count": null,
   "id": "3153c869",
   "metadata": {},
   "outputs": [],
   "source": [
    "a"
   ]
  },
  {
   "cell_type": "code",
   "execution_count": null,
   "id": "38d836f4",
   "metadata": {},
   "outputs": [],
   "source": [
    "d=10.22\n",
    "a=int(d)"
   ]
  },
  {
   "cell_type": "code",
   "execution_count": null,
   "id": "f50e9132",
   "metadata": {},
   "outputs": [],
   "source": [
    "a"
   ]
  },
  {
   "cell_type": "code",
   "execution_count": null,
   "id": "5d7a8554",
   "metadata": {},
   "outputs": [],
   "source": [
    "# str -----> float"
   ]
  },
  {
   "cell_type": "code",
   "execution_count": null,
   "id": "8cc6aa85",
   "metadata": {},
   "outputs": [],
   "source": [
    "a=\"5\"\n",
    "type(a)"
   ]
  },
  {
   "cell_type": "code",
   "execution_count": null,
   "id": "ca74b61d",
   "metadata": {},
   "outputs": [],
   "source": [
    "b=float(a)"
   ]
  },
  {
   "cell_type": "code",
   "execution_count": null,
   "id": "765ac104",
   "metadata": {},
   "outputs": [],
   "source": [
    "b"
   ]
  },
  {
   "cell_type": "code",
   "execution_count": null,
   "id": "5866539b",
   "metadata": {},
   "outputs": [],
   "source": [
    "type(b)"
   ]
  },
  {
   "cell_type": "code",
   "execution_count": null,
   "id": "16b96592",
   "metadata": {},
   "outputs": [],
   "source": [
    "b=float(\"5\")"
   ]
  },
  {
   "cell_type": "code",
   "execution_count": null,
   "id": "d51ec246",
   "metadata": {},
   "outputs": [],
   "source": [
    "b"
   ]
  },
  {
   "cell_type": "code",
   "execution_count": null,
   "id": "8f8359f0",
   "metadata": {},
   "outputs": [],
   "source": [
    "d='5.5'"
   ]
  },
  {
   "cell_type": "code",
   "execution_count": null,
   "id": "f141a706",
   "metadata": {},
   "outputs": [],
   "source": [
    "a=float(d)"
   ]
  },
  {
   "cell_type": "code",
   "execution_count": null,
   "id": "b1159be2",
   "metadata": {},
   "outputs": [],
   "source": [
    "a"
   ]
  },
  {
   "cell_type": "code",
   "execution_count": null,
   "id": "e81cc86e",
   "metadata": {},
   "outputs": [],
   "source": [
    "a=int(a)"
   ]
  },
  {
   "cell_type": "code",
   "execution_count": null,
   "id": "35d80272",
   "metadata": {},
   "outputs": [],
   "source": [
    "a"
   ]
  },
  {
   "cell_type": "code",
   "execution_count": null,
   "id": "c7351c88",
   "metadata": {},
   "outputs": [],
   "source": []
  },
  {
   "cell_type": "code",
   "execution_count": null,
   "id": "e07aebfa",
   "metadata": {},
   "outputs": [],
   "source": [
    "#string\n"
   ]
  },
  {
   "cell_type": "code",
   "execution_count": null,
   "id": "43776349",
   "metadata": {},
   "outputs": [],
   "source": [
    "a=str(9) #converting an int into string"
   ]
  },
  {
   "cell_type": "code",
   "execution_count": null,
   "id": "4a224d8b",
   "metadata": {},
   "outputs": [],
   "source": [
    "type(a)"
   ]
  },
  {
   "cell_type": "code",
   "execution_count": null,
   "id": "294c41ce",
   "metadata": {},
   "outputs": [],
   "source": [
    "a"
   ]
  },
  {
   "cell_type": "code",
   "execution_count": null,
   "id": "d17b764d",
   "metadata": {},
   "outputs": [],
   "source": [
    "b=str(5.3)"
   ]
  },
  {
   "cell_type": "code",
   "execution_count": null,
   "id": "d9125ec9",
   "metadata": {},
   "outputs": [],
   "source": [
    "type(b)"
   ]
  },
  {
   "cell_type": "code",
   "execution_count": null,
   "id": "b4b2962d",
   "metadata": {},
   "outputs": [],
   "source": [
    "b"
   ]
  },
  {
   "cell_type": "code",
   "execution_count": null,
   "id": "b67bb78f",
   "metadata": {},
   "outputs": [],
   "source": [
    "a=7.21\n",
    "b=8"
   ]
  },
  {
   "cell_type": "code",
   "execution_count": null,
   "id": "46d08247",
   "metadata": {},
   "outputs": [],
   "source": [
    "c=a+b\n",
    "c"
   ]
  },
  {
   "cell_type": "code",
   "execution_count": null,
   "id": "d06bd204",
   "metadata": {},
   "outputs": [],
   "source": [
    "c=int(c)\n",
    "\n",
    "#c=int(15.21)\n",
    "#c=15"
   ]
  },
  {
   "cell_type": "code",
   "execution_count": null,
   "id": "10caa9fa",
   "metadata": {},
   "outputs": [],
   "source": [
    "c"
   ]
  },
  {
   "cell_type": "code",
   "execution_count": null,
   "id": "98b5a623",
   "metadata": {},
   "outputs": [],
   "source": []
  },
  {
   "cell_type": "code",
   "execution_count": null,
   "id": "01684a7c",
   "metadata": {},
   "outputs": [],
   "source": [
    "d=int(a+b)\n",
    "\n",
    "#d=int(7.21+8)\n",
    "#d=int(15.21)\n",
    "#d=15"
   ]
  },
  {
   "cell_type": "code",
   "execution_count": null,
   "id": "d1bb0f55",
   "metadata": {},
   "outputs": [],
   "source": [
    "d"
   ]
  },
  {
   "cell_type": "code",
   "execution_count": null,
   "id": "98316804",
   "metadata": {},
   "outputs": [],
   "source": []
  }
 ],
 "metadata": {
  "kernelspec": {
   "display_name": "Python 3 (ipykernel)",
   "language": "python",
   "name": "python3"
  },
  "language_info": {
   "codemirror_mode": {
    "name": "ipython",
    "version": 3
   },
   "file_extension": ".py",
   "mimetype": "text/x-python",
   "name": "python",
   "nbconvert_exporter": "python",
   "pygments_lexer": "ipython3",
   "version": "3.10.9"
  }
 },
 "nbformat": 4,
 "nbformat_minor": 5
}
