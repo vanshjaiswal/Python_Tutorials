{
 "cells": [
  {
   "cell_type": "markdown",
   "id": "c7ef2291",
   "metadata": {},
   "source": [
    "'''\n",
    "\n",
    "Tuple is a collection of Python objects much like a list. \n",
    "The sequence of values stored in a tuple can be of any type, and they are indexed by integers. \n",
    "\n",
    "Values of a tuple are syntactically separated by ‘commas’.\n",
    "'''"
   ]
  },
  {
   "cell_type": "markdown",
   "id": "84a72669",
   "metadata": {},
   "source": [
    "# Creating a Tuple"
   ]
  },
  {
   "cell_type": "code",
   "execution_count": null,
   "id": "918eb2f5",
   "metadata": {},
   "outputs": [],
   "source": [
    "'''\n",
    "\n",
    "In Python, tuples are created by placing a sequence of values separated by ‘comma’ \n",
    "with or without the use of parentheses for grouping the data sequence.\n",
    "\n",
    "Note: Creation of Python tuple without the use of parentheses is known as Tuple Packing. \n",
    "\n",
    "List is mutable and Tuple is immutable\n",
    "\n",
    "[] : list\n",
    "{} : Dictionary\n",
    "() : Tuple\n",
    "\n",
    "'''"
   ]
  },
  {
   "cell_type": "code",
   "execution_count": null,
   "id": "7cd6a407",
   "metadata": {},
   "outputs": [],
   "source": [
    "# Creating an empty Tuple"
   ]
  },
  {
   "cell_type": "code",
   "execution_count": null,
   "id": "c13593ce",
   "metadata": {},
   "outputs": [],
   "source": [
    "Tuple1 = ()"
   ]
  },
  {
   "cell_type": "code",
   "execution_count": null,
   "id": "c24f127b",
   "metadata": {},
   "outputs": [],
   "source": [
    "print(Tuple1)"
   ]
  },
  {
   "cell_type": "code",
   "execution_count": null,
   "id": "e2ae27dc",
   "metadata": {},
   "outputs": [],
   "source": [
    "type(Tuple1)"
   ]
  },
  {
   "cell_type": "code",
   "execution_count": 1,
   "id": "d6144ae2",
   "metadata": {},
   "outputs": [
    {
     "name": "stdout",
     "output_type": "stream",
     "text": [
      "('Hello', 'John')\n"
     ]
    }
   ],
   "source": [
    "Tuple2 = ('Hello', 'John')\n",
    "\n",
    "print(Tuple2)"
   ]
  },
  {
   "cell_type": "code",
   "execution_count": 3,
   "id": "3cf3ad2e",
   "metadata": {},
   "outputs": [
    {
     "data": {
      "text/plain": [
       "['Hello', 'John']"
      ]
     },
     "execution_count": 3,
     "metadata": {},
     "output_type": "execute_result"
    }
   ],
   "source": [
    "l=['Hello', 'John']\n",
    "l"
   ]
  },
  {
   "cell_type": "code",
   "execution_count": 4,
   "id": "26b5c3ba",
   "metadata": {},
   "outputs": [
    {
     "data": {
      "text/plain": [
       "tuple"
      ]
     },
     "execution_count": 4,
     "metadata": {},
     "output_type": "execute_result"
    }
   ],
   "source": [
    "type(Tuple2)"
   ]
  },
  {
   "cell_type": "code",
   "execution_count": 5,
   "id": "f5e583a9",
   "metadata": {},
   "outputs": [
    {
     "data": {
      "text/plain": [
       "list"
      ]
     },
     "execution_count": 5,
     "metadata": {},
     "output_type": "execute_result"
    }
   ],
   "source": [
    "l=['bob']\n",
    "type(l)"
   ]
  },
  {
   "cell_type": "code",
   "execution_count": 12,
   "id": "7541b377",
   "metadata": {},
   "outputs": [
    {
     "data": {
      "text/plain": [
       "26"
      ]
     },
     "execution_count": 12,
     "metadata": {},
     "output_type": "execute_result"
    }
   ],
   "source": [
    "(10)+(2*8)"
   ]
  },
  {
   "cell_type": "code",
   "execution_count": 17,
   "id": "3dbdda6e",
   "metadata": {},
   "outputs": [
    {
     "data": {
      "text/plain": [
       "bool"
      ]
     },
     "execution_count": 17,
     "metadata": {},
     "output_type": "execute_result"
    }
   ],
   "source": [
    "type((True))"
   ]
  },
  {
   "cell_type": "code",
   "execution_count": 13,
   "id": "d3908383",
   "metadata": {},
   "outputs": [
    {
     "data": {
      "text/plain": [
       "70"
      ]
     },
     "execution_count": 13,
     "metadata": {},
     "output_type": "execute_result"
    }
   ],
   "source": [
    "(5+2)*(10)"
   ]
  },
  {
   "cell_type": "code",
   "execution_count": 23,
   "id": "90429e3a",
   "metadata": {},
   "outputs": [
    {
     "data": {
      "text/plain": [
       "str"
      ]
     },
     "execution_count": 23,
     "metadata": {},
     "output_type": "execute_result"
    }
   ],
   "source": [
    "t=('bob')\n",
    "type(t)"
   ]
  },
  {
   "cell_type": "code",
   "execution_count": 24,
   "id": "3a812d7e",
   "metadata": {},
   "outputs": [
    {
     "data": {
      "text/plain": [
       "tuple"
      ]
     },
     "execution_count": 24,
     "metadata": {},
     "output_type": "execute_result"
    }
   ],
   "source": [
    "t=('bob',)\n",
    "type(t)"
   ]
  },
  {
   "cell_type": "code",
   "execution_count": 9,
   "id": "93dd0eae",
   "metadata": {},
   "outputs": [
    {
     "data": {
      "text/plain": [
       "tuple"
      ]
     },
     "execution_count": 9,
     "metadata": {},
     "output_type": "execute_result"
    }
   ],
   "source": [
    "x=()\n",
    "type(x)"
   ]
  },
  {
   "cell_type": "code",
   "execution_count": null,
   "id": "5eb2b029",
   "metadata": {},
   "outputs": [],
   "source": []
  },
  {
   "cell_type": "code",
   "execution_count": null,
   "id": "75eb691c",
   "metadata": {},
   "outputs": [],
   "source": [
    "y=(5+4,)\n",
    "type(y)"
   ]
  },
  {
   "cell_type": "code",
   "execution_count": null,
   "id": "668942e5",
   "metadata": {},
   "outputs": [],
   "source": [
    "t"
   ]
  },
  {
   "cell_type": "code",
   "execution_count": null,
   "id": "d6f9f6d8",
   "metadata": {},
   "outputs": [],
   "source": [
    "t=('bob',)"
   ]
  },
  {
   "cell_type": "code",
   "execution_count": null,
   "id": "29c6468e",
   "metadata": {},
   "outputs": [],
   "source": [
    "type(t)"
   ]
  },
  {
   "cell_type": "code",
   "execution_count": null,
   "id": "19ae1017",
   "metadata": {},
   "outputs": [],
   "source": [
    "l=['bob']"
   ]
  },
  {
   "cell_type": "code",
   "execution_count": null,
   "id": "10500c4e",
   "metadata": {},
   "outputs": [],
   "source": [
    "type(l)"
   ]
  },
  {
   "cell_type": "markdown",
   "id": "f370f1e4",
   "metadata": {},
   "source": [
    "# Creating a Tuple with list"
   ]
  },
  {
   "cell_type": "code",
   "execution_count": 25,
   "id": "5d98dc7f",
   "metadata": {},
   "outputs": [],
   "source": [
    "list1 = [1, 2, 4, 5, 6]"
   ]
  },
  {
   "cell_type": "code",
   "execution_count": 26,
   "id": "9784acca",
   "metadata": {},
   "outputs": [
    {
     "data": {
      "text/plain": [
       "list"
      ]
     },
     "execution_count": 26,
     "metadata": {},
     "output_type": "execute_result"
    }
   ],
   "source": [
    "type(list1)"
   ]
  },
  {
   "cell_type": "code",
   "execution_count": 27,
   "id": "1a0c0d90",
   "metadata": {},
   "outputs": [
    {
     "data": {
      "text/plain": [
       "(1, 2, 4, 5, 6)"
      ]
     },
     "execution_count": 27,
     "metadata": {},
     "output_type": "execute_result"
    }
   ],
   "source": [
    "t1=tuple(list1)\n",
    "t1"
   ]
  },
  {
   "cell_type": "code",
   "execution_count": 29,
   "id": "f275aaec",
   "metadata": {},
   "outputs": [
    {
     "data": {
      "text/plain": [
       "tuple"
      ]
     },
     "execution_count": 29,
     "metadata": {},
     "output_type": "execute_result"
    }
   ],
   "source": [
    "type(t1)"
   ]
  },
  {
   "cell_type": "code",
   "execution_count": 30,
   "id": "26fe0713",
   "metadata": {},
   "outputs": [
    {
     "data": {
      "text/plain": [
       "(1, 2, 4, 5, 6)"
      ]
     },
     "execution_count": 30,
     "metadata": {},
     "output_type": "execute_result"
    }
   ],
   "source": [
    "t1"
   ]
  },
  {
   "cell_type": "code",
   "execution_count": 31,
   "id": "f449f56d",
   "metadata": {},
   "outputs": [
    {
     "data": {
      "text/plain": [
       "[1, 2, 4, 5, 6]"
      ]
     },
     "execution_count": 31,
     "metadata": {},
     "output_type": "execute_result"
    }
   ],
   "source": [
    "l1=list(t1)\n",
    "l1"
   ]
  },
  {
   "cell_type": "code",
   "execution_count": 32,
   "id": "b28cad76",
   "metadata": {},
   "outputs": [
    {
     "data": {
      "text/plain": [
       "list"
      ]
     },
     "execution_count": 32,
     "metadata": {},
     "output_type": "execute_result"
    }
   ],
   "source": [
    "type(l1)"
   ]
  },
  {
   "cell_type": "code",
   "execution_count": 33,
   "id": "3ddfbaed",
   "metadata": {},
   "outputs": [
    {
     "name": "stdout",
     "output_type": "stream",
     "text": [
      "(5, 'Welcome', 7, 'Hello', 9.5, True)\n"
     ]
    }
   ],
   "source": [
    "Tuple1 = (5, 'Welcome', 7, 'Hello', 9.5, True)\n",
    "\n",
    "print(Tuple1)"
   ]
  },
  {
   "cell_type": "code",
   "execution_count": 34,
   "id": "8c337f42",
   "metadata": {},
   "outputs": [
    {
     "name": "stdout",
     "output_type": "stream",
     "text": [
      "((0, 1, 2, 3), ('python', 'code'))\n"
     ]
    }
   ],
   "source": [
    "Tuple1 = (0, 1, 2, 3)\n",
    "Tuple2 = ('python', 'code')\n",
    "\n",
    "Tuple3 = (Tuple1, Tuple2)\n",
    "\n",
    "print(Tuple3)"
   ]
  },
  {
   "cell_type": "code",
   "execution_count": 35,
   "id": "ce44c721",
   "metadata": {},
   "outputs": [
    {
     "data": {
      "text/plain": [
       "['Python',\n",
       " 'Python',\n",
       " 'Python',\n",
       " 'Python',\n",
       " 'Python',\n",
       " 'Python',\n",
       " 'Python',\n",
       " 'Python',\n",
       " 'Python',\n",
       " 'Python']"
      ]
     },
     "execution_count": 35,
     "metadata": {},
     "output_type": "execute_result"
    }
   ],
   "source": [
    "l=['Python']\n",
    "l*10"
   ]
  },
  {
   "cell_type": "code",
   "execution_count": 36,
   "id": "3b13a519",
   "metadata": {},
   "outputs": [
    {
     "name": "stdout",
     "output_type": "stream",
     "text": [
      "('Python', 'Python', 'Python', 'Python', 'Python', 'Python', 'Python', 'Python', 'Python', 'Python')\n"
     ]
    }
   ],
   "source": [
    "Tuple1 = ('Python',) * 10\n",
    "\n",
    "print(Tuple1)"
   ]
  },
  {
   "cell_type": "code",
   "execution_count": 38,
   "id": "e2e1de59",
   "metadata": {},
   "outputs": [],
   "source": [
    "Tuple1=list(Tuple1)"
   ]
  },
  {
   "cell_type": "code",
   "execution_count": null,
   "id": "53dd34fa",
   "metadata": {},
   "outputs": [],
   "source": [
    "Tuple1.append('Cooper')"
   ]
  },
  {
   "cell_type": "code",
   "execution_count": null,
   "id": "aae0f955",
   "metadata": {},
   "outputs": [],
   "source": [
    "Tuple1"
   ]
  },
  {
   "cell_type": "code",
   "execution_count": null,
   "id": "664a0537",
   "metadata": {},
   "outputs": [],
   "source": [
    "Tuple1=tuple(Tuple1)"
   ]
  },
  {
   "cell_type": "code",
   "execution_count": null,
   "id": "d533d824",
   "metadata": {},
   "outputs": [],
   "source": [
    "Tuple1"
   ]
  },
  {
   "cell_type": "code",
   "execution_count": null,
   "id": "5d56460a",
   "metadata": {},
   "outputs": [],
   "source": []
  },
  {
   "cell_type": "code",
   "execution_count": 61,
   "id": "ef7990e6",
   "metadata": {},
   "outputs": [],
   "source": [
    "ls=[1,2,3,4,5]"
   ]
  },
  {
   "cell_type": "code",
   "execution_count": 62,
   "id": "0f0cb362",
   "metadata": {},
   "outputs": [],
   "source": [
    "ls.append(6)"
   ]
  },
  {
   "cell_type": "code",
   "execution_count": 63,
   "id": "970b0e9a",
   "metadata": {},
   "outputs": [
    {
     "data": {
      "text/plain": [
       "[1, 2, 3, 4, 5, 6]"
      ]
     },
     "execution_count": 63,
     "metadata": {},
     "output_type": "execute_result"
    }
   ],
   "source": [
    "ls"
   ]
  },
  {
   "cell_type": "markdown",
   "id": "95a540f6",
   "metadata": {},
   "source": [
    "# Accessing Tuple"
   ]
  },
  {
   "cell_type": "code",
   "execution_count": 39,
   "id": "0ea992da",
   "metadata": {},
   "outputs": [
    {
     "data": {
      "text/plain": [
       "(0, 1, 2, 3, 'Hello', 'Python', True)"
      ]
     },
     "execution_count": 39,
     "metadata": {},
     "output_type": "execute_result"
    }
   ],
   "source": [
    "# Accessing Tuple with Indexing\n",
    "Tuple1 = (0, 1, 2, 3, 'Hello', 'Python', True)\n",
    "Tuple1"
   ]
  },
  {
   "cell_type": "code",
   "execution_count": 43,
   "id": "59564250",
   "metadata": {},
   "outputs": [
    {
     "name": "stdout",
     "output_type": "stream",
     "text": [
      "True\n"
     ]
    }
   ],
   "source": [
    "print(Tuple1[6])"
   ]
  },
  {
   "cell_type": "code",
   "execution_count": null,
   "id": "ddf508d6",
   "metadata": {},
   "outputs": [],
   "source": [
    "x=Tuple1[2]"
   ]
  },
  {
   "cell_type": "code",
   "execution_count": null,
   "id": "c4a775a7",
   "metadata": {},
   "outputs": [],
   "source": [
    "type(x)"
   ]
  },
  {
   "cell_type": "code",
   "execution_count": null,
   "id": "e1d55af3",
   "metadata": {},
   "outputs": [],
   "source": [
    "x*2"
   ]
  },
  {
   "cell_type": "code",
   "execution_count": null,
   "id": "336c473d",
   "metadata": {},
   "outputs": [],
   "source": [
    "Tuple3"
   ]
  },
  {
   "cell_type": "code",
   "execution_count": null,
   "id": "c7f47e40",
   "metadata": {},
   "outputs": [],
   "source": [
    "Tuple3[1][0]"
   ]
  },
  {
   "cell_type": "code",
   "execution_count": 44,
   "id": "80561209",
   "metadata": {},
   "outputs": [],
   "source": [
    "# Tuple unpacking\n",
    "Tuple1 = (\"Hello\", \"Good\", \"Morning\", 'John')"
   ]
  },
  {
   "cell_type": "code",
   "execution_count": 45,
   "id": "f6565eb7",
   "metadata": {},
   "outputs": [
    {
     "data": {
      "text/plain": [
       "('Hello', 'Good', 'Morning', 'John')"
      ]
     },
     "execution_count": 45,
     "metadata": {},
     "output_type": "execute_result"
    }
   ],
   "source": [
    "Tuple1"
   ]
  },
  {
   "cell_type": "code",
   "execution_count": 46,
   "id": "902b8f9b",
   "metadata": {},
   "outputs": [],
   "source": [
    "x=5\n",
    "y=10"
   ]
  },
  {
   "cell_type": "code",
   "execution_count": 47,
   "id": "6539c9f4",
   "metadata": {},
   "outputs": [],
   "source": [
    "x, y = (15, 20)"
   ]
  },
  {
   "cell_type": "code",
   "execution_count": 48,
   "id": "0149bcf3",
   "metadata": {},
   "outputs": [
    {
     "data": {
      "text/plain": [
       "15"
      ]
     },
     "execution_count": 48,
     "metadata": {},
     "output_type": "execute_result"
    }
   ],
   "source": [
    "x"
   ]
  },
  {
   "cell_type": "code",
   "execution_count": 49,
   "id": "64bc0299",
   "metadata": {},
   "outputs": [
    {
     "data": {
      "text/plain": [
       "20"
      ]
     },
     "execution_count": 49,
     "metadata": {},
     "output_type": "execute_result"
    }
   ],
   "source": [
    "y"
   ]
  },
  {
   "cell_type": "code",
   "execution_count": 50,
   "id": "ea851ee3",
   "metadata": {},
   "outputs": [],
   "source": [
    "x, y, z, a, b = (15, 16, 20, 25, 30)"
   ]
  },
  {
   "cell_type": "code",
   "execution_count": 52,
   "id": "415ad1b2",
   "metadata": {},
   "outputs": [
    {
     "data": {
      "text/plain": [
       "20"
      ]
     },
     "execution_count": 52,
     "metadata": {},
     "output_type": "execute_result"
    }
   ],
   "source": [
    "z"
   ]
  },
  {
   "cell_type": "code",
   "execution_count": 57,
   "id": "460b0038",
   "metadata": {},
   "outputs": [
    {
     "data": {
      "text/plain": [
       "('Hello', 'Good', 'Morning', 'John')"
      ]
     },
     "execution_count": 57,
     "metadata": {},
     "output_type": "execute_result"
    }
   ],
   "source": [
    "Tuple1"
   ]
  },
  {
   "cell_type": "code",
   "execution_count": 55,
   "id": "7195d6c6",
   "metadata": {},
   "outputs": [],
   "source": [
    "# This line unpack values of Tuple1\n",
    "a, b, c, d = Tuple1"
   ]
  },
  {
   "cell_type": "code",
   "execution_count": 56,
   "id": "6699aa23",
   "metadata": {},
   "outputs": [
    {
     "name": "stdout",
     "output_type": "stream",
     "text": [
      "\n",
      "Values after unpacking: \n",
      "Hello\n",
      "Good\n",
      "Morning\n",
      "John\n"
     ]
    }
   ],
   "source": [
    "print(\"\\nValues after unpacking: \")\n",
    "print(a)\n",
    "print(b)\n",
    "print(c)\n",
    "print(d)"
   ]
  },
  {
   "cell_type": "markdown",
   "id": "f8d11a7a",
   "metadata": {},
   "source": [
    "# Concatenation in tuple"
   ]
  },
  {
   "cell_type": "code",
   "execution_count": 71,
   "id": "5dbabbd0",
   "metadata": {},
   "outputs": [],
   "source": [
    "# Concatenation of tuples\n",
    "Tuple1 = (0, 1, 2, 3)\n",
    "Tuple2 = ('Hello', 'Good', 'Morning')"
   ]
  },
  {
   "cell_type": "code",
   "execution_count": 66,
   "id": "633ac659",
   "metadata": {},
   "outputs": [],
   "source": [
    "Tuple3 = Tuple1 + Tuple2"
   ]
  },
  {
   "cell_type": "code",
   "execution_count": 67,
   "id": "5603afe8",
   "metadata": {},
   "outputs": [
    {
     "name": "stdout",
     "output_type": "stream",
     "text": [
      "(0, 1, 2, 3, 'Hello', 'Good', 'Morning')\n"
     ]
    }
   ],
   "source": [
    "print(Tuple3)"
   ]
  },
  {
   "cell_type": "code",
   "execution_count": null,
   "id": "60fc7878",
   "metadata": {},
   "outputs": [],
   "source": [
    "m='Butter'\n",
    "n='fly'\n",
    "\n",
    "m + ' ' + n"
   ]
  },
  {
   "cell_type": "markdown",
   "id": "c26e1312",
   "metadata": {},
   "source": [
    "# Deletion of tuple"
   ]
  },
  {
   "cell_type": "code",
   "execution_count": 75,
   "id": "1963f444",
   "metadata": {},
   "outputs": [],
   "source": [
    "del Tuple3"
   ]
  },
  {
   "cell_type": "code",
   "execution_count": 76,
   "id": "40954e5b",
   "metadata": {},
   "outputs": [
    {
     "data": {
      "text/plain": [
       "(0, 1, 2, 3)"
      ]
     },
     "execution_count": 76,
     "metadata": {},
     "output_type": "execute_result"
    }
   ],
   "source": [
    "Tuple1"
   ]
  },
  {
   "cell_type": "code",
   "execution_count": 77,
   "id": "b422dd38",
   "metadata": {},
   "outputs": [
    {
     "data": {
      "text/plain": [
       "('Hello', 'Good', 'Morning')"
      ]
     },
     "execution_count": 77,
     "metadata": {},
     "output_type": "execute_result"
    }
   ],
   "source": [
    "Tuple2"
   ]
  },
  {
   "cell_type": "code",
   "execution_count": 78,
   "id": "38817a21",
   "metadata": {},
   "outputs": [
    {
     "ename": "NameError",
     "evalue": "name 'Tuple3' is not defined",
     "output_type": "error",
     "traceback": [
      "\u001b[1;31m---------------------------------------------------------------------------\u001b[0m",
      "\u001b[1;31mNameError\u001b[0m                                 Traceback (most recent call last)",
      "Cell \u001b[1;32mIn[78], line 1\u001b[0m\n\u001b[1;32m----> 1\u001b[0m \u001b[43mTuple3\u001b[49m\n",
      "\u001b[1;31mNameError\u001b[0m: name 'Tuple3' is not defined"
     ]
    }
   ],
   "source": [
    "Tuple3"
   ]
  },
  {
   "cell_type": "code",
   "execution_count": null,
   "id": "674d9a7d",
   "metadata": {},
   "outputs": [],
   "source": []
  },
  {
   "cell_type": "code",
   "execution_count": null,
   "id": "748d73d9",
   "metadata": {},
   "outputs": [],
   "source": []
  },
  {
   "cell_type": "markdown",
   "id": "09f0f88b",
   "metadata": {},
   "source": [
    "# Sets in Python"
   ]
  },
  {
   "cell_type": "code",
   "execution_count": null,
   "id": "69293a3b",
   "metadata": {},
   "outputs": [],
   "source": [
    "'''\n",
    "A Set in Python programming is an unordered collection data type that is iterable, mutable and has no duplicate elements. \n",
    "Set are represented by { } (values enclosed in curly braces)\n",
    "\n",
    "\n",
    "{key:value} - dictionary\n",
    "{element} - set\n",
    "\n",
    "\n",
    "'''"
   ]
  },
  {
   "cell_type": "code",
   "execution_count": null,
   "id": "d67dbbe8",
   "metadata": {},
   "outputs": [],
   "source": [
    "var = {\"Hello\", \"Good\", \"Morning\"}\n",
    "type(var)"
   ]
  },
  {
   "cell_type": "code",
   "execution_count": null,
   "id": "dcd8d105",
   "metadata": {},
   "outputs": [],
   "source": [
    "var"
   ]
  },
  {
   "cell_type": "code",
   "execution_count": null,
   "id": "88a2716d",
   "metadata": {},
   "outputs": [],
   "source": [
    "l=[\"a\", \"b\", \"c\",\"c\",\"a\"]\n",
    "l"
   ]
  },
  {
   "cell_type": "code",
   "execution_count": null,
   "id": "bdae94af",
   "metadata": {},
   "outputs": [],
   "source": [
    "myset = set(l)\n",
    "\n",
    "print(myset)\n",
    " "
   ]
  },
  {
   "cell_type": "code",
   "execution_count": null,
   "id": "3a4c04f5",
   "metadata": {},
   "outputs": [],
   "source": [
    "# Adding element to the set\n",
    "myset.add(\"d\")"
   ]
  },
  {
   "cell_type": "code",
   "execution_count": null,
   "id": "cd4c88c0",
   "metadata": {},
   "outputs": [],
   "source": [
    "print(myset)"
   ]
  },
  {
   "cell_type": "code",
   "execution_count": null,
   "id": "9ba7124e",
   "metadata": {},
   "outputs": [],
   "source": [
    "# a set cannot have duplicate values\n",
    "myset = {\"Hello\", \"from\", \"Hello\"}\n",
    "print(myset)"
   ]
  },
  {
   "cell_type": "code",
   "execution_count": null,
   "id": "a02ef69e",
   "metadata": {},
   "outputs": [],
   "source": [
    "l=[6,1,39,13,131,643,1994,61,3,2,5,2,3,5,1,2,3,4,5,3,2,1,6]\n",
    "l"
   ]
  },
  {
   "cell_type": "code",
   "execution_count": null,
   "id": "42362135",
   "metadata": {},
   "outputs": [],
   "source": [
    "set1 = set(l)\n",
    "set1"
   ]
  },
  {
   "cell_type": "code",
   "execution_count": null,
   "id": "d3c91a0e",
   "metadata": {},
   "outputs": [],
   "source": [
    "l1=list(set1)\n",
    "l1"
   ]
  },
  {
   "cell_type": "code",
   "execution_count": null,
   "id": "74741254",
   "metadata": {},
   "outputs": [],
   "source": [
    "myset"
   ]
  },
  {
   "cell_type": "code",
   "execution_count": null,
   "id": "ce608d1d",
   "metadata": {},
   "outputs": [],
   "source": [
    "myset[1]"
   ]
  },
  {
   "cell_type": "code",
   "execution_count": null,
   "id": "9e106272",
   "metadata": {},
   "outputs": [],
   "source": [
    "# values of a set cannot be changed\n",
    "myset[1] = \"Hello\"\n",
    "print(myset)\n"
   ]
  },
  {
   "cell_type": "code",
   "execution_count": null,
   "id": "01a01209",
   "metadata": {},
   "outputs": [],
   "source": [
    "myset = {\"Good\", \"for\", 10, 52.7, True}\n",
    "print(myset)"
   ]
  },
  {
   "cell_type": "markdown",
   "id": "59daa41b",
   "metadata": {},
   "source": [
    "# Access elements in set"
   ]
  },
  {
   "cell_type": "code",
   "execution_count": null,
   "id": "c0ce288a",
   "metadata": {},
   "outputs": [],
   "source": [
    "'''\n",
    "\n",
    "You cannot access items in a set by referring to an index or a key. But you can loop through the set items using a for loop, \n",
    "or ask if a specified value is present in a set, by using the in keyword.\n",
    "\n",
    "'''"
   ]
  },
  {
   "cell_type": "code",
   "execution_count": null,
   "id": "715694be",
   "metadata": {},
   "outputs": [],
   "source": [
    "for i in myset:\n",
    "    print(i)"
   ]
  },
  {
   "cell_type": "code",
   "execution_count": null,
   "id": "82ad3ce7",
   "metadata": {},
   "outputs": [],
   "source": []
  },
  {
   "cell_type": "code",
   "execution_count": null,
   "id": "a3a2dfb0",
   "metadata": {},
   "outputs": [],
   "source": []
  },
  {
   "cell_type": "markdown",
   "id": "8a18d8cf",
   "metadata": {},
   "source": [
    "# Add elements in set"
   ]
  },
  {
   "cell_type": "code",
   "execution_count": null,
   "id": "ff9d9201",
   "metadata": {},
   "outputs": [],
   "source": [
    "people = {\"Jay\", \"Idrish\", \"Archi\"}"
   ]
  },
  {
   "cell_type": "code",
   "execution_count": null,
   "id": "be3845c8",
   "metadata": {},
   "outputs": [],
   "source": [
    "print(people)"
   ]
  },
  {
   "cell_type": "code",
   "execution_count": null,
   "id": "7288b86e",
   "metadata": {},
   "outputs": [],
   "source": [
    "people.add(\"Daxit\")"
   ]
  },
  {
   "cell_type": "code",
   "execution_count": null,
   "id": "e1ccf08a",
   "metadata": {},
   "outputs": [],
   "source": [
    "people"
   ]
  },
  {
   "cell_type": "code",
   "execution_count": null,
   "id": "31e23b8e",
   "metadata": {},
   "outputs": [],
   "source": [
    "for i in range(1, 6):\n",
    "    people.add(i)"
   ]
  },
  {
   "cell_type": "code",
   "execution_count": null,
   "id": "5c919b0a",
   "metadata": {},
   "outputs": [],
   "source": [
    "print(people)"
   ]
  },
  {
   "cell_type": "code",
   "execution_count": null,
   "id": "e49b0ef0",
   "metadata": {},
   "outputs": [],
   "source": [
    "num=[]\n",
    "num=set(num)\n",
    "\n",
    "for i in range(1,6):\n",
    "    num.add(i)\n",
    "\n",
    "num"
   ]
  },
  {
   "cell_type": "markdown",
   "id": "d6631553",
   "metadata": {},
   "source": [
    "# operation on set"
   ]
  },
  {
   "cell_type": "markdown",
   "id": "30c4e360",
   "metadata": {},
   "source": [
    "# Union"
   ]
  },
  {
   "cell_type": "code",
   "execution_count": null,
   "id": "323038d2",
   "metadata": {},
   "outputs": [],
   "source": [
    "'''\n",
    "\n",
    "Union: Union of set A and set B will give you the elements which belongs to either from set A or from set B.\n",
    "\n",
    "\n",
    "'''"
   ]
  },
  {
   "cell_type": "code",
   "execution_count": null,
   "id": "c13f0f4b",
   "metadata": {},
   "outputs": [],
   "source": [
    "people = {\"Jay\", \"Idrish\", \"Archil\"}\n",
    "vampires = {\"Karan\", \"Arjun\"}\n",
    "dracula = {\"Deepanshu\", \"Raju\"}"
   ]
  },
  {
   "cell_type": "code",
   "execution_count": 1,
   "id": "e300f638",
   "metadata": {},
   "outputs": [],
   "source": [
    "A={1,2,3,4}\n",
    "B={3,4,5,6}\n",
    "# A U B={1,2,3,4,5,6}"
   ]
  },
  {
   "cell_type": "code",
   "execution_count": 2,
   "id": "f37ef26e",
   "metadata": {},
   "outputs": [
    {
     "data": {
      "text/plain": [
       "set"
      ]
     },
     "execution_count": 2,
     "metadata": {},
     "output_type": "execute_result"
    }
   ],
   "source": [
    "type(A)"
   ]
  },
  {
   "cell_type": "code",
   "execution_count": 3,
   "id": "f01f0131",
   "metadata": {},
   "outputs": [
    {
     "data": {
      "text/plain": [
       "set"
      ]
     },
     "execution_count": 3,
     "metadata": {},
     "output_type": "execute_result"
    }
   ],
   "source": [
    "type(B)"
   ]
  },
  {
   "cell_type": "code",
   "execution_count": 4,
   "id": "2d16e621",
   "metadata": {},
   "outputs": [
    {
     "data": {
      "text/plain": [
       "{1, 2, 3, 4, 5, 6}"
      ]
     },
     "execution_count": 4,
     "metadata": {},
     "output_type": "execute_result"
    }
   ],
   "source": [
    "A.union(B)"
   ]
  },
  {
   "cell_type": "code",
   "execution_count": 5,
   "id": "fb33f417",
   "metadata": {},
   "outputs": [
    {
     "data": {
      "text/plain": [
       "{1, 2, 3, 4, 5, 6}"
      ]
     },
     "execution_count": 5,
     "metadata": {},
     "output_type": "execute_result"
    }
   ],
   "source": [
    "A | B  # pipeline "
   ]
  },
  {
   "cell_type": "code",
   "execution_count": null,
   "id": "f5059070",
   "metadata": {},
   "outputs": [],
   "source": [
    "# Union using union() function\n",
    "\n",
    "population = people.union(vampires)"
   ]
  },
  {
   "cell_type": "code",
   "execution_count": null,
   "id": "8abef1a9",
   "metadata": {},
   "outputs": [],
   "source": [
    "print(\"Union using union() function\")\n",
    "print(population)"
   ]
  },
  {
   "cell_type": "code",
   "execution_count": null,
   "id": "41ce79c4",
   "metadata": {},
   "outputs": [],
   "source": [
    "'''\n",
    "# Union using \"|\" pipeline symbol\n",
    "# operator\n",
    "\n",
    "'''\n",
    "population = people|dracula\n",
    "\n"
   ]
  },
  {
   "cell_type": "code",
   "execution_count": null,
   "id": "a43f8081",
   "metadata": {},
   "outputs": [],
   "source": [
    "print(\"\\nUnion using '|' operator\")\n",
    "print(population)"
   ]
  },
  {
   "cell_type": "markdown",
   "id": "e7e93274",
   "metadata": {},
   "source": [
    "# Intersection"
   ]
  },
  {
   "cell_type": "code",
   "execution_count": null,
   "id": "6fa06cf0",
   "metadata": {},
   "outputs": [],
   "source": [
    "'''\n",
    "Intersection: Intersection of set A and set B will give the elements which belongs to the set A and setB\n",
    "\n",
    "\n",
    "\n",
    "'''"
   ]
  },
  {
   "cell_type": "code",
   "execution_count": 6,
   "id": "2289ef32",
   "metadata": {},
   "outputs": [],
   "source": [
    "set1 = set()\n",
    "set2 = set()"
   ]
  },
  {
   "cell_type": "code",
   "execution_count": 7,
   "id": "cba7487c",
   "metadata": {},
   "outputs": [],
   "source": [
    "for i in range(5):\n",
    "    set1.add(i)\n",
    "\n",
    "for i in range(3,9):\n",
    "    set2.add(i)"
   ]
  },
  {
   "cell_type": "code",
   "execution_count": 8,
   "id": "31004409",
   "metadata": {},
   "outputs": [
    {
     "data": {
      "text/plain": [
       "{0, 1, 2, 3, 4}"
      ]
     },
     "execution_count": 8,
     "metadata": {},
     "output_type": "execute_result"
    }
   ],
   "source": [
    "set1"
   ]
  },
  {
   "cell_type": "code",
   "execution_count": 9,
   "id": "de0fbb55",
   "metadata": {},
   "outputs": [
    {
     "data": {
      "text/plain": [
       "{3, 4, 5, 6, 7, 8}"
      ]
     },
     "execution_count": 9,
     "metadata": {},
     "output_type": "execute_result"
    }
   ],
   "source": [
    "set2"
   ]
  },
  {
   "cell_type": "code",
   "execution_count": 10,
   "id": "8633c952",
   "metadata": {},
   "outputs": [],
   "source": [
    "# Intersection using intersection() function\n",
    "set3 = set1.intersection(set2)"
   ]
  },
  {
   "cell_type": "code",
   "execution_count": 11,
   "id": "5160ca22",
   "metadata": {},
   "outputs": [
    {
     "name": "stdout",
     "output_type": "stream",
     "text": [
      "{3, 4}\n"
     ]
    }
   ],
   "source": [
    "\n",
    "print(set3)"
   ]
  },
  {
   "cell_type": "code",
   "execution_count": null,
   "id": "dd1cef6e",
   "metadata": {},
   "outputs": [],
   "source": [
    "print(set1)\n",
    "print(set2)"
   ]
  },
  {
   "cell_type": "code",
   "execution_count": 12,
   "id": "f87fb44f",
   "metadata": {},
   "outputs": [
    {
     "data": {
      "text/plain": [
       "{3, 4}"
      ]
     },
     "execution_count": 12,
     "metadata": {},
     "output_type": "execute_result"
    }
   ],
   "source": [
    "set1 & set2"
   ]
  },
  {
   "cell_type": "code",
   "execution_count": null,
   "id": "b319bd8a",
   "metadata": {},
   "outputs": [],
   "source": [
    "#WAP to find the Union and Interection of these sets. S1 = {8,5,6,7,9,4,2}, S2= {8,6,7,5,9,1,10}"
   ]
  },
  {
   "cell_type": "code",
   "execution_count": 13,
   "id": "d6814b52",
   "metadata": {},
   "outputs": [],
   "source": [
    "S1 = {8,5,6,7,9,4,2}\n",
    "S2= {8,6,7,5,9,1,10}"
   ]
  },
  {
   "cell_type": "code",
   "execution_count": 14,
   "id": "5ddbed19",
   "metadata": {},
   "outputs": [
    {
     "data": {
      "text/plain": [
       "{1, 2, 4, 5, 6, 7, 8, 9, 10}"
      ]
     },
     "execution_count": 14,
     "metadata": {},
     "output_type": "execute_result"
    }
   ],
   "source": [
    "S1 |  S2"
   ]
  },
  {
   "cell_type": "code",
   "execution_count": 15,
   "id": "ff065a7e",
   "metadata": {},
   "outputs": [
    {
     "data": {
      "text/plain": [
       "{5, 6, 7, 8, 9}"
      ]
     },
     "execution_count": 15,
     "metadata": {},
     "output_type": "execute_result"
    }
   ],
   "source": [
    "S1 & S2"
   ]
  },
  {
   "cell_type": "code",
   "execution_count": null,
   "id": "a9a101a0",
   "metadata": {},
   "outputs": [],
   "source": []
  },
  {
   "cell_type": "code",
   "execution_count": null,
   "id": "846c0cf2",
   "metadata": {},
   "outputs": [],
   "source": [
    "# Intersection using \"&\" operator\n",
    "set3 = set1 & set2"
   ]
  },
  {
   "cell_type": "code",
   "execution_count": null,
   "id": "6ebd74ab",
   "metadata": {},
   "outputs": [],
   "source": [
    "set4 = set1 | set2"
   ]
  },
  {
   "cell_type": "code",
   "execution_count": null,
   "id": "d42eed6e",
   "metadata": {},
   "outputs": [],
   "source": [
    "print(\"Union: \", set4)\n",
    "print(\"Intersection: \", set3)"
   ]
  },
  {
   "cell_type": "code",
   "execution_count": null,
   "id": "0d4cb0b6",
   "metadata": {},
   "outputs": [],
   "source": []
  },
  {
   "cell_type": "markdown",
   "id": "8d2479eb",
   "metadata": {},
   "source": [
    "# Set Difference"
   ]
  },
  {
   "cell_type": "code",
   "execution_count": null,
   "id": "00a50f7c",
   "metadata": {},
   "outputs": [],
   "source": [
    "set1 = set()\n",
    "set2 = set()"
   ]
  },
  {
   "cell_type": "code",
   "execution_count": null,
   "id": "b6d98468",
   "metadata": {},
   "outputs": [],
   "source": [
    "for i in range(5):\n",
    "    set1.add(i)\n",
    "\n",
    "for i in range(3,9):\n",
    "    set2.add(i)"
   ]
  },
  {
   "cell_type": "code",
   "execution_count": 16,
   "id": "d9bb47bc",
   "metadata": {},
   "outputs": [
    {
     "data": {
      "text/plain": [
       "{0, 1, 2, 3, 4}"
      ]
     },
     "execution_count": 16,
     "metadata": {},
     "output_type": "execute_result"
    }
   ],
   "source": [
    "set1"
   ]
  },
  {
   "cell_type": "code",
   "execution_count": 17,
   "id": "884965ba",
   "metadata": {},
   "outputs": [
    {
     "data": {
      "text/plain": [
       "{3, 4, 5, 6, 7, 8}"
      ]
     },
     "execution_count": 17,
     "metadata": {},
     "output_type": "execute_result"
    }
   ],
   "source": [
    "set2"
   ]
  },
  {
   "cell_type": "code",
   "execution_count": 18,
   "id": "9a5048bc",
   "metadata": {},
   "outputs": [],
   "source": [
    "# Difference of two sets using difference() function\n",
    "set3 = set1.difference(set2)"
   ]
  },
  {
   "cell_type": "code",
   "execution_count": 19,
   "id": "1149c593",
   "metadata": {},
   "outputs": [
    {
     "name": "stdout",
     "output_type": "stream",
     "text": [
      " Difference of two sets using difference() function\n",
      "{0, 1, 2}\n"
     ]
    }
   ],
   "source": [
    "print(\" Difference of two sets using difference() function\")\n",
    "print(set3)"
   ]
  },
  {
   "cell_type": "code",
   "execution_count": 20,
   "id": "cab9707b",
   "metadata": {},
   "outputs": [],
   "source": [
    "# Difference of two sets using '-' operator\n",
    "set3 = set1 - set2"
   ]
  },
  {
   "cell_type": "code",
   "execution_count": 21,
   "id": "77fb419f",
   "metadata": {},
   "outputs": [
    {
     "name": "stdout",
     "output_type": "stream",
     "text": [
      "\n",
      "Difference of two sets using '-' operator\n",
      "{0, 1, 2}\n"
     ]
    }
   ],
   "source": [
    "print(\"\\nDifference of two sets using '-' operator\")\n",
    "print(set3)"
   ]
  },
  {
   "cell_type": "code",
   "execution_count": 22,
   "id": "d070ef74",
   "metadata": {},
   "outputs": [
    {
     "data": {
      "text/plain": [
       "{5, 6, 7, 8}"
      ]
     },
     "execution_count": 22,
     "metadata": {},
     "output_type": "execute_result"
    }
   ],
   "source": [
    "set4 = set2.difference(set1)\n",
    "set4"
   ]
  },
  {
   "cell_type": "code",
   "execution_count": null,
   "id": "44109476",
   "metadata": {},
   "outputs": [],
   "source": []
  }
 ],
 "metadata": {
  "kernelspec": {
   "display_name": "Python 3 (ipykernel)",
   "language": "python",
   "name": "python3"
  },
  "language_info": {
   "codemirror_mode": {
    "name": "ipython",
    "version": 3
   },
   "file_extension": ".py",
   "mimetype": "text/x-python",
   "name": "python",
   "nbconvert_exporter": "python",
   "pygments_lexer": "ipython3",
   "version": "3.10.9"
  }
 },
 "nbformat": 4,
 "nbformat_minor": 5
}
